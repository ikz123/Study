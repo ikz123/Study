{
 "cells": [
  {
   "cell_type": "code",
   "execution_count": 1,
   "id": "22be1c85-22be-47ac-ba4f-dc3f9df11bc4",
   "metadata": {},
   "outputs": [],
   "source": [
    "import pandas as pd\n",
    "import seaborn as sns"
   ]
  },
  {
   "cell_type": "code",
   "execution_count": 2,
   "id": "f7361b5c-76e6-4081-87b8-86c8f8c34013",
   "metadata": {},
   "outputs": [
    {
     "name": "stderr",
     "output_type": "stream",
     "text": [
      "                                                                                \r"
     ]
    }
   ],
   "source": [
    "titanic = spark.read.csv('titanic.csv', \n",
    "          header=True, inferSchema=True)"
   ]
  },
  {
   "cell_type": "code",
   "execution_count": 3,
   "id": "005df523-edb8-4303-aef7-dd25a67642eb",
   "metadata": {},
   "outputs": [
    {
     "name": "stdout",
     "output_type": "stream",
     "text": [
      "root\n",
      " |-- pclass: integer (nullable = true)\n",
      " |-- survived: integer (nullable = true)\n",
      " |-- name: string (nullable = true)\n",
      " |-- sex: string (nullable = true)\n",
      " |-- age: double (nullable = true)\n",
      " |-- sibsp: integer (nullable = true)\n",
      " |-- parch: integer (nullable = true)\n",
      " |-- ticket: string (nullable = true)\n",
      " |-- fare: double (nullable = true)\n",
      " |-- embarked: string (nullable = true)\n",
      " |-- life: string (nullable = true)\n",
      " |-- seat: string (nullable = true)\n",
      " |-- port: string (nullable = true)\n",
      "\n"
     ]
    }
   ],
   "source": [
    "titanic.printSchema()"
   ]
  },
  {
   "cell_type": "code",
   "execution_count": 4,
   "id": "6acd5991-d843-45b9-a773-3dc2f3f7c974",
   "metadata": {},
   "outputs": [
    {
     "name": "stderr",
     "output_type": "stream",
     "text": [
      "                                                                                \r"
     ]
    },
    {
     "name": "stdout",
     "output_type": "stream",
     "text": [
      "+-------+------------------+-------------------+--------------------+------+------------------+------------------+-------------------+-----------------+-----------------+--------+----+----+---------+\n",
      "|summary|            pclass|           survived|                name|   sex|               age|             sibsp|              parch|           ticket|             fare|embarked|life|seat|     port|\n",
      "+-------+------------------+-------------------+--------------------+------+------------------+------------------+-------------------+-----------------+-----------------+--------+----+----+---------+\n",
      "|  count|              1306|               1306|                1306|  1306|              1306|              1306|               1306|             1306|             1306|    1306|1306|1306|     1306|\n",
      "|   mean| 2.296324655436447|0.38131699846860645|                null|  null| 29.82687984438616|               0.5|0.38591117917304746|249580.3029350105|33.22395627871377|    null|null|null|     null|\n",
      "| stddev|0.8370365342398028| 0.4858962054013946|                null|  null|12.837289454109293|1.0425800593127736| 0.8663574893682794|443266.5458450591|51.76598590355333|    null|null|null|     null|\n",
      "|    min|                 1|                  0|\"Andersson, Mr. A...|female|            0.1667|                 0|                  0|           110152|              0.0|       C|dead| 1st|cherbourg|\n",
      "|    25%|                 2|                  0|                null|  null|              22.0|                 0|                  0|          19950.0|           7.8958|    null|null|null|     null|\n",
      "|    50%|                 3|                  0|                null|  null|  29.8811345124283|                 0|                  0|         234686.0|          14.4542|    null|null|null|     null|\n",
      "|    75%|                 3|                  1|                null|  null|              35.0|                 1|                  0|         347469.0|           31.275|    null|null|null|     null|\n",
      "|    max|                 3|                  1|van Melkebeke, Mr...|  male|              80.0|                 8|                  9|        WE/P 5735|         512.3292|       S|live| 3rd|cherbourg|\n",
      "+-------+------------------+-------------------+--------------------+------+------------------+------------------+-------------------+-----------------+-----------------+--------+----+----+---------+\n",
      "\n"
     ]
    }
   ],
   "source": [
    "titanic.summary().show()"
   ]
  },
  {
   "cell_type": "code",
   "execution_count": 5,
   "id": "1aa11c74-0c60-45be-abe3-fcca6e28a55c",
   "metadata": {},
   "outputs": [],
   "source": [
    "# spark 객체를 pandas 객체 변환 : toPandas\n",
    "titanic2 = titanic.toPandas()"
   ]
  },
  {
   "cell_type": "code",
   "execution_count": 6,
   "id": "ca5ceda4-f21f-4e9d-961b-4b5c28010726",
   "metadata": {},
   "outputs": [
    {
     "data": {
      "text/html": [
       "<div>\n",
       "<style scoped>\n",
       "    .dataframe tbody tr th:only-of-type {\n",
       "        vertical-align: middle;\n",
       "    }\n",
       "\n",
       "    .dataframe tbody tr th {\n",
       "        vertical-align: top;\n",
       "    }\n",
       "\n",
       "    .dataframe thead th {\n",
       "        text-align: right;\n",
       "    }\n",
       "</style>\n",
       "<table border=\"1\" class=\"dataframe\">\n",
       "  <thead>\n",
       "    <tr style=\"text-align: right;\">\n",
       "      <th></th>\n",
       "      <th>pclass</th>\n",
       "      <th>survived</th>\n",
       "      <th>age</th>\n",
       "      <th>sibsp</th>\n",
       "      <th>parch</th>\n",
       "      <th>fare</th>\n",
       "    </tr>\n",
       "  </thead>\n",
       "  <tbody>\n",
       "    <tr>\n",
       "      <th>count</th>\n",
       "      <td>1306.000000</td>\n",
       "      <td>1306.000000</td>\n",
       "      <td>1306.000000</td>\n",
       "      <td>1306.00000</td>\n",
       "      <td>1306.000000</td>\n",
       "      <td>1306.000000</td>\n",
       "    </tr>\n",
       "    <tr>\n",
       "      <th>mean</th>\n",
       "      <td>2.296325</td>\n",
       "      <td>0.381317</td>\n",
       "      <td>29.826880</td>\n",
       "      <td>0.50000</td>\n",
       "      <td>0.385911</td>\n",
       "      <td>33.223956</td>\n",
       "    </tr>\n",
       "    <tr>\n",
       "      <th>std</th>\n",
       "      <td>0.837037</td>\n",
       "      <td>0.485896</td>\n",
       "      <td>12.837289</td>\n",
       "      <td>1.04258</td>\n",
       "      <td>0.866357</td>\n",
       "      <td>51.765986</td>\n",
       "    </tr>\n",
       "    <tr>\n",
       "      <th>min</th>\n",
       "      <td>1.000000</td>\n",
       "      <td>0.000000</td>\n",
       "      <td>0.166700</td>\n",
       "      <td>0.00000</td>\n",
       "      <td>0.000000</td>\n",
       "      <td>0.000000</td>\n",
       "    </tr>\n",
       "    <tr>\n",
       "      <th>25%</th>\n",
       "      <td>2.000000</td>\n",
       "      <td>0.000000</td>\n",
       "      <td>22.000000</td>\n",
       "      <td>0.00000</td>\n",
       "      <td>0.000000</td>\n",
       "      <td>7.895800</td>\n",
       "    </tr>\n",
       "    <tr>\n",
       "      <th>50%</th>\n",
       "      <td>3.000000</td>\n",
       "      <td>0.000000</td>\n",
       "      <td>29.881135</td>\n",
       "      <td>0.00000</td>\n",
       "      <td>0.000000</td>\n",
       "      <td>14.454200</td>\n",
       "    </tr>\n",
       "    <tr>\n",
       "      <th>75%</th>\n",
       "      <td>3.000000</td>\n",
       "      <td>1.000000</td>\n",
       "      <td>35.000000</td>\n",
       "      <td>1.00000</td>\n",
       "      <td>0.000000</td>\n",
       "      <td>31.275000</td>\n",
       "    </tr>\n",
       "    <tr>\n",
       "      <th>max</th>\n",
       "      <td>3.000000</td>\n",
       "      <td>1.000000</td>\n",
       "      <td>80.000000</td>\n",
       "      <td>8.00000</td>\n",
       "      <td>9.000000</td>\n",
       "      <td>512.329200</td>\n",
       "    </tr>\n",
       "  </tbody>\n",
       "</table>\n",
       "</div>"
      ],
      "text/plain": [
       "            pclass     survived          age       sibsp        parch  \\\n",
       "count  1306.000000  1306.000000  1306.000000  1306.00000  1306.000000   \n",
       "mean      2.296325     0.381317    29.826880     0.50000     0.385911   \n",
       "std       0.837037     0.485896    12.837289     1.04258     0.866357   \n",
       "min       1.000000     0.000000     0.166700     0.00000     0.000000   \n",
       "25%       2.000000     0.000000    22.000000     0.00000     0.000000   \n",
       "50%       3.000000     0.000000    29.881135     0.00000     0.000000   \n",
       "75%       3.000000     1.000000    35.000000     1.00000     0.000000   \n",
       "max       3.000000     1.000000    80.000000     8.00000     9.000000   \n",
       "\n",
       "              fare  \n",
       "count  1306.000000  \n",
       "mean     33.223956  \n",
       "std      51.765986  \n",
       "min       0.000000  \n",
       "25%       7.895800  \n",
       "50%      14.454200  \n",
       "75%      31.275000  \n",
       "max     512.329200  "
      ]
     },
     "execution_count": 6,
     "metadata": {},
     "output_type": "execute_result"
    }
   ],
   "source": [
    "titanic2.describe()"
   ]
  },
  {
   "cell_type": "code",
   "execution_count": 7,
   "id": "17e0d27d-5b91-4c93-b8e8-4b154e52682a",
   "metadata": {},
   "outputs": [
    {
     "data": {
      "text/plain": [
       "<AxesSubplot:xlabel='survived', ylabel='count'>"
      ]
     },
     "execution_count": 7,
     "metadata": {},
     "output_type": "execute_result"
    },
    {
     "data": {
      "image/png": "[encoded data removed]",
      "text/plain": [
       "<Figure size 432x288 with 1 Axes>"
      ]
     },
     "metadata": {
      "needs_background": "light"
     },
     "output_type": "display_data"
    }
   ],
   "source": [
    "# 타이타닉 승객 생존자/사망자 현황\n",
    "# 범주형 : seaborn의 countplot으로 시각화\n",
    "# countplot(변수, 데이터객체)\n",
    "\n",
    "sns.countplot(data=titanic2, x='survived')"
   ]
  },
  {
   "cell_type": "code",
   "execution_count": 8,
   "id": "ff4ec301-3c43-4889-93d8-a7a48cbf0d11",
   "metadata": {},
   "outputs": [
    {
     "data": {
      "text/plain": [
       "<AxesSubplot:xlabel='life', ylabel='count'>"
      ]
     },
     "execution_count": 8,
     "metadata": {},
     "output_type": "execute_result"
    },
    {
     "data": {
      "image/png": "[encoded data removed]",
      "text/plain": [
       "<Figure size 432x288 with 1 Axes>"
      ]
     },
     "metadata": {
      "needs_background": "light"
     },
     "output_type": "display_data"
    }
   ],
   "source": [
    "sns.countplot(data=titanic2, x='life')"
   ]
  },
  {
   "cell_type": "code",
   "execution_count": 9,
   "id": "ef843182-1943-4272-b67b-66e16182461a",
   "metadata": {},
   "outputs": [
    {
     "data": {
      "text/plain": [
       "<AxesSubplot:xlabel='embarked', ylabel='count'>"
      ]
     },
     "execution_count": 9,
     "metadata": {},
     "output_type": "execute_result"
    },
    {
     "data": {
      "image/png": "[encoded data removed]",
      "text/plain": [
       "<Figure size 432x288 with 1 Axes>"
      ]
     },
     "metadata": {
      "needs_background": "light"
     },
     "output_type": "display_data"
    }
   ],
   "source": [
    "# 타이타닉 승객 승선위치별 현황\n",
    "sns.countplot(data=titanic2, x='embarked')"
   ]
  },
  {
   "cell_type": "code",
   "execution_count": 10,
   "id": "f15098d7-8a02-49db-bf3c-cef0aa58a972",
   "metadata": {},
   "outputs": [
    {
     "data": {
      "text/plain": [
       "<AxesSubplot:xlabel='port', ylabel='count'>"
      ]
     },
     "execution_count": 10,
     "metadata": {},
     "output_type": "execute_result"
    },
    {
     "data": {
      "image/png": "[encoded data removed]",
      "text/plain": [
       "<Figure size 432x288 with 1 Axes>"
      ]
     },
     "metadata": {
      "needs_background": "light"
     },
     "output_type": "display_data"
    }
   ],
   "source": [
    "sns.countplot(data=titanic2, x='port')"
   ]
  },
  {
   "cell_type": "code",
   "execution_count": 11,
   "id": "77f844e7-07b8-4248-a280-6e7caa573aa8",
   "metadata": {},
   "outputs": [
    {
     "data": {
      "text/plain": [
       "<AxesSubplot:xlabel='sex', ylabel='count'>"
      ]
     },
     "execution_count": 11,
     "metadata": {},
     "output_type": "execute_result"
    },
    {
     "data": {
      "image/png": "[encoded data removed]",
      "text/plain": [
       "<Figure size 432x288 with 1 Axes>"
      ]
     },
     "metadata": {
      "needs_background": "light"
     },
     "output_type": "display_data"
    }
   ],
   "source": [
    "# 타이타닉 승객 성별 현황\n",
    "sns.countplot(data=titanic2, x='sex')"
   ]
  },
  {
   "cell_type": "code",
   "execution_count": 12,
   "id": "e1beb555-6828-46b4-8b57-645fa7bfd160",
   "metadata": {},
   "outputs": [],
   "source": [
    "# 사원들의 직책별 현황\n",
    "emp = spark.read.csv('employees.csv', \n",
    "      header=True, inferSchema=True)"
   ]
  },
  {
   "cell_type": "code",
   "execution_count": 13,
   "id": "6a558f25-4674-4d40-b5f4-15101e77e120",
   "metadata": {},
   "outputs": [],
   "source": [
    "emp2 = emp.toPandas()"
   ]
  },
  {
   "cell_type": "code",
   "execution_count": 14,
   "id": "93532da3-a69b-4948-b28c-781d81730916",
   "metadata": {},
   "outputs": [
    {
     "data": {
      "text/plain": [
       "<AxesSubplot:xlabel='JOB_ID', ylabel='count'>"
      ]
     },
     "execution_count": 14,
     "metadata": {},
     "output_type": "execute_result"
    },
    {
     "data": {
      "image/png": "[encoded data removed]",
      "text/plain": [
       "<Figure size 432x288 with 1 Axes>"
      ]
     },
     "metadata": {
      "needs_background": "light"
     },
     "output_type": "display_data"
    }
   ],
   "source": [
    "sns.countplot(data=emp2, x='JOB_ID')"
   ]
  },
  {
   "cell_type": "code",
   "execution_count": null,
   "id": "e9223a2f-1cf6-491e-954c-babe2e404b18",
   "metadata": {},
   "outputs": [],
   "source": []
  },
  {
   "cell_type": "code",
   "execution_count": null,
   "id": "74ed1061-9147-46b2-9299-a29b58ad0f33",
   "metadata": {},
   "outputs": [],
   "source": []
  },
  {
   "cell_type": "code",
   "execution_count": null,
   "id": "01d2845f-e8fb-460d-a410-200eae895ce8",
   "metadata": {},
   "outputs": [],
   "source": []
  },
  {
   "cell_type": "code",
   "execution_count": null,
   "id": "1364d6cb-3a13-499e-9dd9-b085149f93be",
   "metadata": {},
   "outputs": [],
   "source": []
  },
  {
   "cell_type": "code",
   "execution_count": null,
   "id": "7b3cb6a5-a0ce-449e-ac25-c9e5158adac9",
   "metadata": {},
   "outputs": [],
   "source": []
  },
  {
   "cell_type": "code",
   "execution_count": null,
   "id": "61413b66-1389-433f-ab20-8c22a47a84c3",
   "metadata": {},
   "outputs": [],
   "source": []
  },
  {
   "cell_type": "code",
   "execution_count": null,
   "id": "082340ab-69f6-47c1-a577-56248d630a84",
   "metadata": {},
   "outputs": [],
   "source": []
  },
  {
   "cell_type": "code",
   "execution_count": null,
   "id": "6b62a6b9-e01a-4181-9be9-91475e7bd1d1",
   "metadata": {},
   "outputs": [],
   "source": []
  }
 ],
 "metadata": {
  "kernelspec": {
   "display_name": "Python 3 (ipykernel)",
   "language": "python",
   "name": "python3"
  },
  "language_info": {
   "codemirror_mode": {
    "name": "ipython",
    "version": 3
   },
   "file_extension": ".py",
   "mimetype": "text/x-python",
   "name": "python",
   "nbconvert_exporter": "python",
   "pygments_lexer": "ipython3",
   "version": "3.7.10"
  }
 },
 "nbformat": 4,
 "nbformat_minor": 5
}
