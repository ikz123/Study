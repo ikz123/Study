{
 "cells": [
  {
   "cell_type": "markdown",
   "id": "20965d37-84fd-4f9b-b2fb-a82eaba67a14",
   "metadata": {},
   "source": [
    "# Spark_DSL_SQL"
   ]
  },
  {
   "cell_type": "markdown",
   "id": "220f21d8-cd10-4ed6-b72b-403ace17592d",
   "metadata": {},
   "source": [
    "###### Customers, Products, Orders 데이터를 이용해서\n",
    "###### spark 데이터 프레임을 만들고 ppt에 있는 질의에 대한\n",
    "###### SQL 질의문과 함수를 이용한 코드를 작성하세요"
   ]
  },
  {
   "cell_type": "code",
   "execution_count": 1,
   "id": "52efea84-c835-4f07-ae5d-4fceee0320dd",
   "metadata": {},
   "outputs": [
    {
     "name": "stderr",
     "output_type": "stream",
     "text": [
      "                                                                                \r"
     ]
    }
   ],
   "source": [
    "customers = spark.read.csv('Customers.csv', header=True, inferSchema=True)"
   ]
  },
  {
   "cell_type": "code",
   "execution_count": 2,
   "id": "38061f8c-ba06-408b-a000-7039ef78e1ac",
   "metadata": {},
   "outputs": [],
   "source": [
    "products = spark.read.csv('Productc.csv', header=True, inferSchema=True)"
   ]
  },
  {
   "cell_type": "code",
   "execution_count": 3,
   "id": "8aa4af04-0b57-45e0-97eb-73381340a8e1",
   "metadata": {},
   "outputs": [],
   "source": [
    "orders = spark.read.csv('Orders.csv', header=True, inferSchema=True)"
   ]
  },
  {
   "cell_type": "code",
   "execution_count": 4,
   "id": "1ca6152f-c7ec-485a-b1cb-dba57cd7ba8b",
   "metadata": {
    "tags": []
   },
   "outputs": [
    {
     "name": "stdout",
     "output_type": "stream",
     "text": [
      "+------+------+----+------+------+-----+\n",
      "|userid|  name| age| grade|   job|coins|\n",
      "+------+------+----+------+------+-----+\n",
      "| apple|정소화|  20|  gold|  학생| 1000|\n",
      "|banana|김선우|  25|   vip|간호사| 2500|\n",
      "|carrot|고명석|  28|  gold|  교사| 4500|\n",
      "| melon|성원용|  35|  gold|회사원| 5000|\n",
      "|orange|김용욱|  22|silver|  학생|    0|\n",
      "| peach|오형준|null|silver|  의사|  300|\n",
      "|  pear|채광주|  31|silver|회사원|  500|\n",
      "+------+------+----+------+------+-----+\n",
      "\n",
      "+------+----------+-----+-----+--------+\n",
      "|prodid|  prodname|stock|price|   maker|\n",
      "+------+----------+-----+-----+--------+\n",
      "|   p01|  그냥만두| 5000| 4500|대한식품|\n",
      "|   p02|  매운쫄면| 2500| 5500|민국푸드|\n",
      "|   p03|  쿵떡파이| 3600| 2600|한빛제과|\n",
      "|   p04|맛난초콜렛| 1250| 2500|한빛제과|\n",
      "|   p05|  얼큰라면| 2200| 1200|대한식품|\n",
      "|   p06|  통통우동| 1000| 1550|민국푸드|\n",
      "|   p07|달콤비스켓| 1650| 1500|한빛제과|\n",
      "+------+----------+-----+-----+--------+\n",
      "\n",
      "+-------+------+------+------+---------------+-------------------+\n",
      "|orderid|userid|prodid|amount|           addr|            orddate|\n",
      "+-------+------+------+------+---------------+-------------------+\n",
      "|    o01| apple|   p03|    10|  서울시 마포구|2013-01-01 00:00:00|\n",
      "|    o02| melon|   p01|     5|  인천시 계양구|2013-01-10 00:00:00|\n",
      "|    o03|banana|   p06|    45|  경기도 부천시|2013-01-11 00:00:00|\n",
      "|    o04|carrot|   p02|     8|  부산시 금정구|2013-02-01 00:00:00|\n",
      "|    o05| melon|   p06|    36|  경기도 용인시|2013-02-20 00:00:00|\n",
      "|    o06|banana|   p01|    19|충청북도 보은군|2013-03-02 00:00:00|\n",
      "|    o07| apple|   p03|    22|서울시 영등포구|2013-03-15 00:00:00|\n",
      "|    o08|  pear|   p02|    50|  강원도 춘천시|2013-04-10 00:00:00|\n",
      "|    o09|banana|   p04|    15|전라남도 목포시|2013-04-11 00:00:00|\n",
      "|    o10|carrot|   p03|    20|  경기도 안양시|2013-05-22 00:00:00|\n",
      "+-------+------+------+------+---------------+-------------------+\n",
      "\n"
     ]
    }
   ],
   "source": [
    "customers.select('*').show()\n",
    "products.select('*').show()\n",
    "orders.select('*').show()"
   ]
  },
  {
   "cell_type": "code",
   "execution_count": 5,
   "id": "c9ed0a4d-9834-48b7-bca2-ce5c2053f605",
   "metadata": {},
   "outputs": [],
   "source": [
    "spark = SparkSession.builder.master('app').appName('sparkSQL').getOrCreate()"
   ]
  },
  {
   "cell_type": "code",
   "execution_count": 6,
   "id": "5a83b57b-359e-424f-a7da-c593727f24df",
   "metadata": {},
   "outputs": [],
   "source": [
    "CUSTOMERS = customers.createOrReplaceTempView(\"CUSTOMERS\")\n",
    "PRODUCTS = products.createOrReplaceTempView(\"PRODUCTS\")\n",
    "ORDERS = orders.createOrReplaceTempView(\"ORDERS\")"
   ]
  },
  {
   "cell_type": "code",
   "execution_count": 7,
   "id": "b2e8ae7c-0b9c-4dc4-a426-084de599c229",
   "metadata": {},
   "outputs": [
    {
     "name": "stdout",
     "output_type": "stream",
     "text": [
      "+------+------+----+------+------+-----+\n",
      "|userid|  name| age| grade|   job|coins|\n",
      "+------+------+----+------+------+-----+\n",
      "| apple|정소화|  20|  gold|  학생| 1000|\n",
      "|banana|김선우|  25|   vip|간호사| 2500|\n",
      "|carrot|고명석|  28|  gold|  교사| 4500|\n",
      "| melon|성원용|  35|  gold|회사원| 5000|\n",
      "|orange|김용욱|  22|silver|  학생|    0|\n",
      "| peach|오형준|null|silver|  의사|  300|\n",
      "|  pear|채광주|  31|silver|회사원|  500|\n",
      "+------+------+----+------+------+-----+\n",
      "\n"
     ]
    },
    {
     "name": "stderr",
     "output_type": "stream",
     "text": [
      "21/10/08 07:56:33 WARN ObjectStore: Failed to get database global_temp, returning NoSuchObjectException\n"
     ]
    }
   ],
   "source": [
    "# SQL 사용을 위한 View 객체 생성\n",
    "CUSTOMERS = customers.createOrReplaceTempView(\"CUSTOMERS\")\n",
    "\n",
    "# sql 함수를 이용해서 SQL 질의문 실행하고 결과 출력\n",
    "spark.sql('select * from CUSTOMERS').show()"
   ]
  },
  {
   "cell_type": "code",
   "execution_count": 8,
   "id": "f1beb8d9-318d-43fe-9142-3ba63c8b4a35",
   "metadata": {},
   "outputs": [
    {
     "name": "stdout",
     "output_type": "stream",
     "text": [
      "+------+----------+-----+-----+--------+\n",
      "|prodid|  prodname|stock|price|   maker|\n",
      "+------+----------+-----+-----+--------+\n",
      "|   p01|  그냥만두| 5000| 4500|대한식품|\n",
      "|   p02|  매운쫄면| 2500| 5500|민국푸드|\n",
      "|   p03|  쿵떡파이| 3600| 2600|한빛제과|\n",
      "|   p04|맛난초콜렛| 1250| 2500|한빛제과|\n",
      "|   p05|  얼큰라면| 2200| 1200|대한식품|\n",
      "|   p06|  통통우동| 1000| 1550|민국푸드|\n",
      "|   p07|달콤비스켓| 1650| 1500|한빛제과|\n",
      "+------+----------+-----+-----+--------+\n",
      "\n"
     ]
    }
   ],
   "source": [
    "# SQL 사용을 위한 View 객체 생성\n",
    "PRODUCTS = products.createOrReplaceTempView(\"PRODUCTS\")\n",
    "\n",
    "# sql 함수를 이용해서 SQL 질의문 실행하고 결과 출력\n",
    "spark.sql('select * from PRODUCTS').show()"
   ]
  },
  {
   "cell_type": "code",
   "execution_count": 9,
   "id": "ddc18e2d-ec71-4398-99eb-82176580e8ea",
   "metadata": {},
   "outputs": [
    {
     "name": "stdout",
     "output_type": "stream",
     "text": [
      "+-------+------+------+------+---------------+-------------------+\n",
      "|orderid|userid|prodid|amount|           addr|            orddate|\n",
      "+-------+------+------+------+---------------+-------------------+\n",
      "|    o01| apple|   p03|    10|  서울시 마포구|2013-01-01 00:00:00|\n",
      "|    o02| melon|   p01|     5|  인천시 계양구|2013-01-10 00:00:00|\n",
      "|    o03|banana|   p06|    45|  경기도 부천시|2013-01-11 00:00:00|\n",
      "|    o04|carrot|   p02|     8|  부산시 금정구|2013-02-01 00:00:00|\n",
      "|    o05| melon|   p06|    36|  경기도 용인시|2013-02-20 00:00:00|\n",
      "|    o06|banana|   p01|    19|충청북도 보은군|2013-03-02 00:00:00|\n",
      "|    o07| apple|   p03|    22|서울시 영등포구|2013-03-15 00:00:00|\n",
      "|    o08|  pear|   p02|    50|  강원도 춘천시|2013-04-10 00:00:00|\n",
      "|    o09|banana|   p04|    15|전라남도 목포시|2013-04-11 00:00:00|\n",
      "|    o10|carrot|   p03|    20|  경기도 안양시|2013-05-22 00:00:00|\n",
      "+-------+------+------+------+---------------+-------------------+\n",
      "\n"
     ]
    }
   ],
   "source": [
    "# SQL 사용을 위한 View 객체 생성\n",
    "ORDERS = orders.createOrReplaceTempView(\"ORDERS\")\n",
    "\n",
    "# sql 함수를 이용해서 SQL 질의문 실행하고 결과 출력\n",
    "spark.sql('select * from ORDERS').show()"
   ]
  },
  {
   "cell_type": "code",
   "execution_count": 10,
   "id": "1dce29ab-9910-4a69-b214-7b342eca43ee",
   "metadata": {},
   "outputs": [
    {
     "name": "stdout",
     "output_type": "stream",
     "text": [
      "+------+------+------+\n",
      "|userid|  name| grade|\n",
      "+------+------+------+\n",
      "| apple|정소화|  gold|\n",
      "|banana|김선우|   vip|\n",
      "|carrot|고명석|  gold|\n",
      "| melon|성원용|  gold|\n",
      "|orange|김용욱|silver|\n",
      "| peach|오형준|silver|\n",
      "|  pear|채광주|silver|\n",
      "+------+------+------+\n",
      "\n"
     ]
    }
   ],
   "source": [
    "# 고객테이블에서 고개아이디, 이름, 등급을 조회\n",
    "\n",
    "customers.select('userid','name','grade').show()"
   ]
  },
  {
   "cell_type": "code",
   "execution_count": 11,
   "id": "1f3965a3-7ae9-4921-bec2-6c477fced97c",
   "metadata": {},
   "outputs": [
    {
     "name": "stdout",
     "output_type": "stream",
     "text": [
      "+------+------+------+\n",
      "|userid|  name| grade|\n",
      "+------+------+------+\n",
      "| apple|정소화|  gold|\n",
      "|banana|김선우|   vip|\n",
      "|carrot|고명석|  gold|\n",
      "| melon|성원용|  gold|\n",
      "|orange|김용욱|silver|\n",
      "| peach|오형준|silver|\n",
      "|  pear|채광주|silver|\n",
      "+------+------+------+\n",
      "\n"
     ]
    }
   ],
   "source": [
    "# sql문 \n",
    "sql = 'select userid, name, grade from CUSTOMERS'\n",
    "spark.sql(sql).show()"
   ]
  },
  {
   "cell_type": "code",
   "execution_count": 12,
   "id": "b9572d51-6bb3-4044-95dd-73d0747c7705",
   "metadata": {},
   "outputs": [
    {
     "name": "stdout",
     "output_type": "stream",
     "text": [
      "+------+------+----+------+------+-----+\n",
      "|userid|  name| age| grade|   job|coins|\n",
      "+------+------+----+------+------+-----+\n",
      "| apple|정소화|  20|  gold|  학생| 1000|\n",
      "|banana|김선우|  25|   vip|간호사| 2500|\n",
      "|carrot|고명석|  28|  gold|  교사| 4500|\n",
      "| melon|성원용|  35|  gold|회사원| 5000|\n",
      "|orange|김용욱|  22|silver|  학생|    0|\n",
      "| peach|오형준|null|silver|  의사|  300|\n",
      "|  pear|채광주|  31|silver|회사원|  500|\n",
      "+------+------+----+------+------+-----+\n",
      "\n"
     ]
    }
   ],
   "source": [
    "# 고객테이블에 존재하는 모든 속성을 조회\n",
    "customers.select('*').show()"
   ]
  },
  {
   "cell_type": "code",
   "execution_count": 13,
   "id": "28fb26a3-4c80-44b3-9f89-cc7e7814cfea",
   "metadata": {},
   "outputs": [
    {
     "name": "stderr",
     "output_type": "stream",
     "text": [
      "                                                                                \r"
     ]
    },
    {
     "name": "stdout",
     "output_type": "stream",
     "text": [
      "+--------+\n",
      "|   maker|\n",
      "+--------+\n",
      "|한빛제과|\n",
      "|대한식품|\n",
      "|민국푸드|\n",
      "+--------+\n",
      "\n"
     ]
    },
    {
     "name": "stderr",
     "output_type": "stream",
     "text": [
      "                                                                                \r"
     ]
    }
   ],
   "source": [
    "# 제품테이블에서 중복없이 제조업체 조회\n",
    "\n",
    "products.select('maker').distinct().show()"
   ]
  },
  {
   "cell_type": "code",
   "execution_count": 14,
   "id": "4fc353e9-d173-4acf-8b34-cb56937e0198",
   "metadata": {},
   "outputs": [
    {
     "name": "stderr",
     "output_type": "stream",
     "text": [
      "                                                                                \r"
     ]
    },
    {
     "name": "stdout",
     "output_type": "stream",
     "text": [
      "+--------+\n",
      "|   maker|\n",
      "+--------+\n",
      "|한빛제과|\n",
      "|대한식품|\n",
      "|민국푸드|\n",
      "+--------+\n",
      "\n"
     ]
    }
   ],
   "source": [
    "# sql 문\n",
    "sql = 'select distinct maker from PRODUCTS'\n",
    "spark.sql(sql).show()"
   ]
  },
  {
   "cell_type": "code",
   "execution_count": 15,
   "id": "4eb87e4a-1bd6-4559-97ff-673d832797fe",
   "metadata": {},
   "outputs": [
    {
     "name": "stdout",
     "output_type": "stream",
     "text": [
      "+----------+-----+\n",
      "|  prodname|value|\n",
      "+----------+-----+\n",
      "|  그냥만두| 4500|\n",
      "|  매운쫄면| 5500|\n",
      "|  쿵떡파이| 2600|\n",
      "|맛난초콜렛| 2500|\n",
      "|  얼큰라면| 1200|\n",
      "+----------+-----+\n",
      "only showing top 5 rows\n",
      "\n"
     ]
    }
   ],
   "source": [
    "# 제품테이블에서 제품명과 단가를 검색, 단가를 가격이라는 새이름으로 조회\n",
    "\n",
    "products.select('prodname', products.price.alias('value')).show(5)"
   ]
  },
  {
   "cell_type": "code",
   "execution_count": 16,
   "id": "e00941d2-9b60-41d8-95b1-95d21fff7e87",
   "metadata": {},
   "outputs": [
    {
     "name": "stdout",
     "output_type": "stream",
     "text": [
      "+----------+-----+\n",
      "|  prodname|value|\n",
      "+----------+-----+\n",
      "|  그냥만두| 4500|\n",
      "|  매운쫄면| 5500|\n",
      "|  쿵떡파이| 2600|\n",
      "|맛난초콜렛| 2500|\n",
      "|  얼큰라면| 1200|\n",
      "|  통통우동| 1550|\n",
      "|달콤비스켓| 1500|\n",
      "+----------+-----+\n",
      "\n"
     ]
    }
   ],
   "source": [
    "# sql 문\n",
    "sql = \"select prodname, price value from PRODUCTS\"\n",
    "spark.sql(sql).show()"
   ]
  },
  {
   "cell_type": "code",
   "execution_count": 17,
   "id": "a9ab8705-bd78-4b52-a6dd-ea34f0cd88e2",
   "metadata": {},
   "outputs": [
    {
     "name": "stdout",
     "output_type": "stream",
     "text": [
      "+----------+-----+--------+\n",
      "|  prodname|price|adjprice|\n",
      "+----------+-----+--------+\n",
      "|  그냥만두| 4500|    5000|\n",
      "|  매운쫄면| 5500|    6000|\n",
      "|  쿵떡파이| 2600|    3100|\n",
      "|맛난초콜렛| 2500|    3000|\n",
      "|  얼큰라면| 1200|    1700|\n",
      "+----------+-----+--------+\n",
      "only showing top 5 rows\n",
      "\n"
     ]
    }
   ],
   "source": [
    "# 제품테이블에서 단가를 조회하되, 500원 인상된 금액을 조정단가로 표기하여 출력\n",
    "\n",
    "products.select('prodname', 'price', (products.price + 500).alias('adjprice')).show(5)"
   ]
  },
  {
   "cell_type": "code",
   "execution_count": 18,
   "id": "6700f73b-ed55-455a-808c-d4753610b4b1",
   "metadata": {},
   "outputs": [
    {
     "name": "stdout",
     "output_type": "stream",
     "text": [
      "+----------+-----+--------+\n",
      "|  prodname|price|adjprice|\n",
      "+----------+-----+--------+\n",
      "|  그냥만두| 4500|    5000|\n",
      "|  매운쫄면| 5500|    6000|\n",
      "|  쿵떡파이| 2600|    3100|\n",
      "|맛난초콜렛| 2500|    3000|\n",
      "|  얼큰라면| 1200|    1700|\n",
      "|  통통우동| 1550|    2050|\n",
      "|달콤비스켓| 1500|    2000|\n",
      "+----------+-----+--------+\n",
      "\n"
     ]
    }
   ],
   "source": [
    "# sql 문\n",
    "sql = \"select prodname, price, (price + 500) adjprice from PRODUCTS\"\n",
    "spark.sql(sql).show()"
   ]
  },
  {
   "cell_type": "code",
   "execution_count": 19,
   "id": "ed33cb26-3e1f-4237-9116-ab6e0a48c09f",
   "metadata": {},
   "outputs": [
    {
     "name": "stdout",
     "output_type": "stream",
     "text": [
      "+----------+-----+-----+\n",
      "|  prodname|stock|price|\n",
      "+----------+-----+-----+\n",
      "|  쿵떡파이| 3600| 2600|\n",
      "|맛난초콜렛| 1250| 2500|\n",
      "|달콤비스켓| 1650| 1500|\n",
      "+----------+-----+-----+\n",
      "\n"
     ]
    }
   ],
   "source": [
    "# 한빛제과가 제조한 제품명, 재고, 가격 출력\n",
    "\n",
    "products.filter(products.maker == '한빛제과').select('prodname', 'stock', 'price').show(5)"
   ]
  },
  {
   "cell_type": "code",
   "execution_count": 20,
   "id": "d1e1b403-d523-4e91-96d7-669f22a4c684",
   "metadata": {},
   "outputs": [
    {
     "name": "stdout",
     "output_type": "stream",
     "text": [
      "+----------+-----+-----+\n",
      "|  prodname|stock|price|\n",
      "+----------+-----+-----+\n",
      "|  쿵떡파이| 3600| 2600|\n",
      "|맛난초콜렛| 1250| 2500|\n",
      "|달콤비스켓| 1650| 1500|\n",
      "+----------+-----+-----+\n",
      "\n"
     ]
    }
   ],
   "source": [
    "# sql 문\n",
    "\n",
    "sql = \"select prodname, stock, price from PRODUCTS where maker = '한빛제과'\"\n",
    "spark.sql(sql).show()"
   ]
  },
  {
   "cell_type": "code",
   "execution_count": 21,
   "id": "980c1f27-7f52-425e-b84e-8ed9ba5fca0e",
   "metadata": {},
   "outputs": [
    {
     "name": "stdout",
     "output_type": "stream",
     "text": [
      "+------+------+-------------------+\n",
      "|prodid|amount|            orddate|\n",
      "+------+------+-------------------+\n",
      "|   p03|    22|2013-03-15 00:00:00|\n",
      "+------+------+-------------------+\n",
      "\n"
     ]
    }
   ],
   "source": [
    "# 고객명이 apple이고, 15개이상 주문된 제품의 주문제품,수량,주문일자, 주문고객을 조회\n",
    "\n",
    "orders.filter((orders.userid == 'apple') & (orders.amount >= 15)).select('prodid','amount','orddate').show()"
   ]
  },
  {
   "cell_type": "code",
   "execution_count": 22,
   "id": "16faa80a-79ca-4cbf-a3bb-59931e68e036",
   "metadata": {},
   "outputs": [
    {
     "name": "stdout",
     "output_type": "stream",
     "text": [
      "+------+------+-------------------+\n",
      "|prodid|amount|            orddate|\n",
      "+------+------+-------------------+\n",
      "|   p03|    22|2013-03-15 00:00:00|\n",
      "+------+------+-------------------+\n",
      "\n"
     ]
    }
   ],
   "source": [
    "# sql문\n",
    "\n",
    "sql = \"select prodid, amount, orddate from ORDERS where userid == 'apple' and amount>=15\"\n",
    "spark.sql(sql).show()"
   ]
  },
  {
   "cell_type": "code",
   "execution_count": 23,
   "id": "c70e21de-1881-4bfb-aa3a-f483c120a043",
   "metadata": {},
   "outputs": [],
   "source": [
    "#  apple 고객이 주문했거나, 15개이상 주문된 제품의 주문제품,수량,주문일자, 주문고객을 조회"
   ]
  },
  {
   "cell_type": "code",
   "execution_count": 24,
   "id": "c4e160ec-4212-4ded-a4c8-2bab4ca73ef4",
   "metadata": {},
   "outputs": [
    {
     "name": "stdout",
     "output_type": "stream",
     "text": [
      "+------+------+------+-------------------+\n",
      "|prodid|userid|amount|            orddate|\n",
      "+------+------+------+-------------------+\n",
      "|   p03| apple|    10|2013-01-01 00:00:00|\n",
      "|   p06|banana|    45|2013-01-11 00:00:00|\n",
      "|   p06| melon|    36|2013-02-20 00:00:00|\n",
      "|   p01|banana|    19|2013-03-02 00:00:00|\n",
      "|   p03| apple|    22|2013-03-15 00:00:00|\n",
      "|   p02|  pear|    50|2013-04-10 00:00:00|\n",
      "|   p04|banana|    15|2013-04-11 00:00:00|\n",
      "|   p03|carrot|    20|2013-05-22 00:00:00|\n",
      "+------+------+------+-------------------+\n",
      "\n"
     ]
    }
   ],
   "source": [
    "orders.filter((orders.userid == 'apple') | (orders.amount >= 15)).select('prodid','userid','amount','orddate').show()"
   ]
  },
  {
   "cell_type": "code",
   "execution_count": 25,
   "id": "dc42f2d9-c5df-47d0-9834-d695f6c0609d",
   "metadata": {},
   "outputs": [
    {
     "name": "stdout",
     "output_type": "stream",
     "text": [
      "+------+------+------+-------------------+\n",
      "|prodid|userid|amount|            orddate|\n",
      "+------+------+------+-------------------+\n",
      "|   p03| apple|    10|2013-01-01 00:00:00|\n",
      "|   p06|banana|    45|2013-01-11 00:00:00|\n",
      "|   p06| melon|    36|2013-02-20 00:00:00|\n",
      "|   p01|banana|    19|2013-03-02 00:00:00|\n",
      "|   p03| apple|    22|2013-03-15 00:00:00|\n",
      "|   p02|  pear|    50|2013-04-10 00:00:00|\n",
      "|   p04|banana|    15|2013-04-11 00:00:00|\n",
      "|   p03|carrot|    20|2013-05-22 00:00:00|\n",
      "+------+------+------+-------------------+\n",
      "\n"
     ]
    }
   ],
   "source": [
    "# sql문\n",
    "\n",
    "sql = \"select prodid, userid, amount, orddate from ORDERS where userid == 'apple' or amount>=15\"\n",
    "spark.sql(sql).show()"
   ]
  },
  {
   "cell_type": "code",
   "execution_count": 26,
   "id": "2d7e8d4f-3acc-4e57-bb3c-d6415eb32a51",
   "metadata": {},
   "outputs": [
    {
     "name": "stdout",
     "output_type": "stream",
     "text": [
      "+----------+-----+--------+\n",
      "|  prodname|price|   maker|\n",
      "+----------+-----+--------+\n",
      "|  쿵떡파이| 2600|한빛제과|\n",
      "|맛난초콜렛| 2500|한빛제과|\n",
      "+----------+-----+--------+\n",
      "\n"
     ]
    }
   ],
   "source": [
    "# 제품단가가 2000원 이상이면서 3000원 이하인 제품의 이름, 단가, 제조업체 조회\n",
    "\n",
    "products.filter((products.price >= 2000) & (products.price <= 3000)).select('prodname','price','maker').show()"
   ]
  },
  {
   "cell_type": "code",
   "execution_count": 27,
   "id": "41954bf7-a35e-4384-bc44-8f75aac2e02a",
   "metadata": {},
   "outputs": [
    {
     "name": "stdout",
     "output_type": "stream",
     "text": [
      "+----------+-----+--------+\n",
      "|  prodname|price|   maker|\n",
      "+----------+-----+--------+\n",
      "|  쿵떡파이| 2600|한빛제과|\n",
      "|맛난초콜렛| 2500|한빛제과|\n",
      "+----------+-----+--------+\n",
      "\n"
     ]
    }
   ],
   "source": [
    "# between 사용\n",
    "products.filter(products.price.between(2000,3000)).select('prodname','price','maker').show()"
   ]
  },
  {
   "cell_type": "code",
   "execution_count": 28,
   "id": "615521ef-c48a-4202-b002-857bb01a3c92",
   "metadata": {},
   "outputs": [
    {
     "name": "stdout",
     "output_type": "stream",
     "text": [
      "+----------+-----+--------+\n",
      "|  prodname|price|   maker|\n",
      "+----------+-----+--------+\n",
      "|  쿵떡파이| 2600|한빛제과|\n",
      "|맛난초콜렛| 2500|한빛제과|\n",
      "+----------+-----+--------+\n",
      "\n"
     ]
    }
   ],
   "source": [
    "# sql문\n",
    "\n",
    "sql = 'select prodname, price, maker from PRODUCTS where price >= 2000 and price <= 3000'\n",
    "spark.sql(sql).show()"
   ]
  },
  {
   "cell_type": "code",
   "execution_count": 29,
   "id": "ecd721e1-be4a-4145-9236-b645903f7b9d",
   "metadata": {},
   "outputs": [
    {
     "name": "stdout",
     "output_type": "stream",
     "text": [
      "+----------+-----+--------+\n",
      "|  prodname|price|   maker|\n",
      "+----------+-----+--------+\n",
      "|  쿵떡파이| 2600|한빛제과|\n",
      "|맛난초콜렛| 2500|한빛제과|\n",
      "+----------+-----+--------+\n",
      "\n"
     ]
    }
   ],
   "source": [
    "# sql문 between 사용\n",
    "sql = 'select prodname, price, maker from PRODUCTS where price between 2000 and 3000'\n",
    "spark.sql(sql).show()"
   ]
  },
  {
   "cell_type": "code",
   "execution_count": 30,
   "id": "6a64c7c7-e4cf-4e0a-a129-f14ad3e2df14",
   "metadata": {},
   "outputs": [
    {
     "name": "stdout",
     "output_type": "stream",
     "text": [
      "+------+---+------+-----+\n",
      "|  name|age| grade|coins|\n",
      "+------+---+------+-----+\n",
      "|김선우| 25|   vip| 2500|\n",
      "|김용욱| 22|silver|    0|\n",
      "+------+---+------+-----+\n",
      "\n"
     ]
    }
   ],
   "source": [
    "# 고객테이블에서 성이 김씨인 고객의 이름, 나이, 등급, 적립금 확인\n",
    "\n",
    "customers.filter(customers.name.like('김%')).select('name','age','grade','coins').show()"
   ]
  },
  {
   "cell_type": "code",
   "execution_count": 31,
   "id": "344190be-8289-4970-bcba-ed37b0f1f69c",
   "metadata": {},
   "outputs": [
    {
     "name": "stdout",
     "output_type": "stream",
     "text": [
      "+------+---+------+-----+\n",
      "|  name|age| grade|coins|\n",
      "+------+---+------+-----+\n",
      "|김선우| 25|   vip| 2500|\n",
      "|김용욱| 22|silver|    0|\n",
      "+------+---+------+-----+\n",
      "\n"
     ]
    }
   ],
   "source": [
    "# sql 문\n",
    "\n",
    "sql = \"select name, age, grade, coins from CUSTOMERS where name like'김%'\"\n",
    "spark.sql(sql).show()"
   ]
  },
  {
   "cell_type": "code",
   "execution_count": 32,
   "id": "fdf44a27-9883-40ab-81ba-96527663af36",
   "metadata": {},
   "outputs": [
    {
     "name": "stdout",
     "output_type": "stream",
     "text": [
      "+------+------+------+\n",
      "|userid|  name| grade|\n",
      "+------+------+------+\n",
      "| apple|정소화|  gold|\n",
      "| melon|성원용|  gold|\n",
      "| peach|오형준|silver|\n",
      "+------+------+------+\n",
      "\n"
     ]
    }
   ],
   "source": [
    "# 고객테이블에서 고객아이디가 5자인 고객의 아이디, 이름, 등급 확인\n",
    "customers.filter(customers.userid.like('_____')).select('userid','name','grade').show()"
   ]
  },
  {
   "cell_type": "code",
   "execution_count": 33,
   "id": "a5ae62e6-9a38-4328-9d41-eb746f4d6f64",
   "metadata": {},
   "outputs": [
    {
     "name": "stdout",
     "output_type": "stream",
     "text": [
      "+------+------+------+\n",
      "|userid|  name| grade|\n",
      "+------+------+------+\n",
      "| apple|정소화|  gold|\n",
      "| melon|성원용|  gold|\n",
      "| peach|오형준|silver|\n",
      "+------+------+------+\n",
      "\n"
     ]
    }
   ],
   "source": [
    "# sql 문\n",
    "\n",
    "sql = \"select userid, name, grade from CUSTOMERS where userid like'_____'\"\n",
    "spark.sql(sql).show()"
   ]
  },
  {
   "cell_type": "code",
   "execution_count": 34,
   "id": "347c9458-e3c7-4aa8-b41b-8b49bddb1c95",
   "metadata": {},
   "outputs": [
    {
     "name": "stdout",
     "output_type": "stream",
     "text": [
      "+------+----+\n",
      "|  name| age|\n",
      "+------+----+\n",
      "|오형준|null|\n",
      "+------+----+\n",
      "\n"
     ]
    }
   ],
   "source": [
    "# 고객테이블에서 나이가 입력되지않은 고객이름 검색\n",
    "\n",
    "customers.filter(customers.age.isNull()).select('name','age').show()"
   ]
  },
  {
   "cell_type": "code",
   "execution_count": 35,
   "id": "a18d6d36-80ea-4ac5-a116-6ccb01269387",
   "metadata": {},
   "outputs": [
    {
     "name": "stdout",
     "output_type": "stream",
     "text": [
      "+------+----+\n",
      "|  name| age|\n",
      "+------+----+\n",
      "|오형준|null|\n",
      "+------+----+\n",
      "\n"
     ]
    }
   ],
   "source": [
    "# sql 문\n",
    "sql = 'select name, age from CUSTOMERS where age is Null'\n",
    "spark.sql(sql).show()"
   ]
  },
  {
   "cell_type": "code",
   "execution_count": 36,
   "id": "ba001a55-29f5-4c24-8e51-fbd2322c32c1",
   "metadata": {},
   "outputs": [
    {
     "name": "stdout",
     "output_type": "stream",
     "text": [
      "+------+---+\n",
      "|  name|age|\n",
      "+------+---+\n",
      "|정소화| 20|\n",
      "|김선우| 25|\n",
      "|고명석| 28|\n",
      "|성원용| 35|\n",
      "|김용욱| 22|\n",
      "|채광주| 31|\n",
      "+------+---+\n",
      "\n"
     ]
    }
   ],
   "source": [
    "# 고객테이블에서 나이가 입력된 고객이름 검색\n",
    "\n",
    "customers.filter(customers.age.isNotNull()).select('name','age').show()"
   ]
  },
  {
   "cell_type": "code",
   "execution_count": 37,
   "id": "25b9e2f9-d531-4dfb-8047-d6d4cd190761",
   "metadata": {},
   "outputs": [
    {
     "name": "stdout",
     "output_type": "stream",
     "text": [
      "+------+---+\n",
      "|  name|age|\n",
      "+------+---+\n",
      "|정소화| 20|\n",
      "|김선우| 25|\n",
      "|고명석| 28|\n",
      "|성원용| 35|\n",
      "|김용욱| 22|\n",
      "|채광주| 31|\n",
      "+------+---+\n",
      "\n"
     ]
    }
   ],
   "source": [
    "# sql 문\n",
    "sql = 'select name, age from CUSTOMERS where age is not Null'\n",
    "spark.sql(sql).show()"
   ]
  },
  {
   "cell_type": "code",
   "execution_count": 38,
   "id": "20750510-02e6-4f30-97dc-3450d0d3b01f",
   "metadata": {},
   "outputs": [
    {
     "name": "stdout",
     "output_type": "stream",
     "text": [
      "+------+------+----+\n",
      "|  name| grade| age|\n",
      "+------+------+----+\n",
      "|오형준|silver|null|\n",
      "|정소화|  gold|  20|\n",
      "|김용욱|silver|  22|\n",
      "|김선우|   vip|  25|\n",
      "|고명석|  gold|  28|\n",
      "|채광주|silver|  31|\n",
      "|성원용|  gold|  35|\n",
      "+------+------+----+\n",
      "\n"
     ]
    }
   ],
   "source": [
    "# 고객테이블에서 이름,등급,나이를 검색하되, 나이를 기준으로 내림차순 정렬\n",
    "\n",
    "customers.select('name','grade','age').orderBy('age', acending=False).show()"
   ]
  },
  {
   "cell_type": "code",
   "execution_count": 39,
   "id": "9721edf9-9cf1-4832-8353-074aa9589176",
   "metadata": {},
   "outputs": [
    {
     "name": "stdout",
     "output_type": "stream",
     "text": [
      "+------+------+----+\n",
      "|  name| grade| age|\n",
      "+------+------+----+\n",
      "|성원용|  gold|  35|\n",
      "|채광주|silver|  31|\n",
      "|고명석|  gold|  28|\n",
      "|김선우|   vip|  25|\n",
      "|김용욱|silver|  22|\n",
      "|정소화|  gold|  20|\n",
      "|오형준|silver|null|\n",
      "+------+------+----+\n",
      "\n"
     ]
    }
   ],
   "source": [
    "# sql 문\n",
    "\n",
    "sql = 'select name, grade, age from CUSTOMERS order by age desc'\n",
    "spark.sql(sql).show()"
   ]
  },
  {
   "cell_type": "code",
   "execution_count": 40,
   "id": "b38abcb1-832e-470c-a0ad-0f8e21c7b4bf",
   "metadata": {},
   "outputs": [
    {
     "name": "stdout",
     "output_type": "stream",
     "text": [
      "+------+------+------+-------------------+\n",
      "|userid|prodid|amount|            orddate|\n",
      "+------+------+------+-------------------+\n",
      "|  pear|   p02|    50|2013-04-10 00:00:00|\n",
      "|banana|   p06|    45|2013-01-11 00:00:00|\n",
      "| melon|   p06|    36|2013-02-20 00:00:00|\n",
      "| apple|   p03|    22|2013-03-15 00:00:00|\n",
      "|carrot|   p03|    20|2013-05-22 00:00:00|\n",
      "|banana|   p01|    19|2013-03-02 00:00:00|\n",
      "|banana|   p04|    15|2013-04-11 00:00:00|\n",
      "| apple|   p03|    10|2013-01-01 00:00:00|\n",
      "|carrot|   p02|     8|2013-02-01 00:00:00|\n",
      "| melon|   p01|     5|2013-01-10 00:00:00|\n",
      "+------+------+------+-------------------+\n",
      "\n"
     ]
    }
   ],
   "source": [
    "# 주문 수량이 10개 이상인 주문의 고객,제품,수량,주문일자를 검색, 제품=오름차순, 동일제품은 수량기준으로 내림차순\n",
    "\n",
    "orders.select('userid','prodid', 'amount','orddate').orderBy('prodid').orderBy('amount', ascending=False).show()"
   ]
  },
  {
   "cell_type": "code",
   "execution_count": 41,
   "id": "79f8e176-8816-40c1-9433-c2f493d712a2",
   "metadata": {},
   "outputs": [
    {
     "name": "stdout",
     "output_type": "stream",
     "text": [
      "+------+------+------+-------------------+\n",
      "|userid|prodid|amount|            orddate|\n",
      "+------+------+------+-------------------+\n",
      "|banana|   p01|    19|2013-03-02 00:00:00|\n",
      "| melon|   p01|     5|2013-01-10 00:00:00|\n",
      "|  pear|   p02|    50|2013-04-10 00:00:00|\n",
      "|carrot|   p02|     8|2013-02-01 00:00:00|\n",
      "| apple|   p03|    22|2013-03-15 00:00:00|\n",
      "|carrot|   p03|    20|2013-05-22 00:00:00|\n",
      "| apple|   p03|    10|2013-01-01 00:00:00|\n",
      "|banana|   p04|    15|2013-04-11 00:00:00|\n",
      "|banana|   p06|    45|2013-01-11 00:00:00|\n",
      "| melon|   p06|    36|2013-02-20 00:00:00|\n",
      "+------+------+------+-------------------+\n",
      "\n"
     ]
    }
   ],
   "source": [
    "# sql 문\n",
    "\n",
    "sql = 'select userid, prodid, amount, orddate from ORDERS order by prodid, amount desc'\n",
    "spark.sql(sql).show()"
   ]
  },
  {
   "cell_type": "code",
   "execution_count": 42,
   "id": "00d2498e-b7a0-4116-979b-254155260a67",
   "metadata": {},
   "outputs": [],
   "source": [
    "from pyspark.sql.functions import avg\n",
    "from pyspark.sql.functions import round\n",
    "from pyspark.sql.functions import sum\n",
    "from pyspark.sql.functions import max"
   ]
  },
  {
   "cell_type": "code",
   "execution_count": 43,
   "id": "8ede4b03-8dde-44d1-9b3a-01ef5a529f5b",
   "metadata": {},
   "outputs": [
    {
     "name": "stdout",
     "output_type": "stream",
     "text": [
      "+---------+\n",
      "|avg price|\n",
      "+---------+\n",
      "|  2764.29|\n",
      "+---------+\n",
      "\n"
     ]
    }
   ],
   "source": [
    "# 제품테이블에서 모든 제품의 단가 평균 출력\n",
    "\n",
    "products.select(round(avg(products.price),2).alias('avg price' ) ).show()"
   ]
  },
  {
   "cell_type": "code",
   "execution_count": 44,
   "id": "2109bd47-1848-4ca3-aea4-fd0a5da3103e",
   "metadata": {},
   "outputs": [
    {
     "name": "stdout",
     "output_type": "stream",
     "text": [
      "+--------+\n",
      "|avgprice|\n",
      "+--------+\n",
      "| 2764.29|\n",
      "+--------+\n",
      "\n"
     ]
    }
   ],
   "source": [
    "# sql 문\n",
    "sql = 'select round(avg(price),2) avgprice from PRODUCTS'\n",
    "spark.sql(sql).show()"
   ]
  },
  {
   "cell_type": "code",
   "execution_count": 45,
   "id": "f89dcfc3-7880-4dbe-b69f-cfe17557eb15",
   "metadata": {},
   "outputs": [
    {
     "name": "stdout",
     "output_type": "stream",
     "text": [
      "+----------+\n",
      "|sum(stock)|\n",
      "+----------+\n",
      "|      6500|\n",
      "+----------+\n",
      "\n"
     ]
    }
   ],
   "source": [
    "# 한빛제과 제품의 제고량 합계\n",
    "products.filter(products.maker == '한빛제과').select(sum(products.stock)).show()"
   ]
  },
  {
   "cell_type": "code",
   "execution_count": 46,
   "id": "4c12a207-39da-4493-91fa-3a644020ac01",
   "metadata": {},
   "outputs": [
    {
     "name": "stdout",
     "output_type": "stream",
     "text": [
      "+----------+\n",
      "|sum(stock)|\n",
      "+----------+\n",
      "|      6500|\n",
      "+----------+\n",
      "\n"
     ]
    }
   ],
   "source": [
    "# sql 문\n",
    "sql = \"\"\" select sum(stock) from PRODUCTS\n",
    "        where maker = '한빛제과' \"\"\"\n",
    "spark.sql(sql).show()"
   ]
  },
  {
   "cell_type": "code",
   "execution_count": 47,
   "id": "b0e7c5c3-08c2-4c44-8a78-7ef3142f9494",
   "metadata": {},
   "outputs": [],
   "source": [
    "from pyspark.sql.functions import count, col"
   ]
  },
  {
   "cell_type": "code",
   "execution_count": 48,
   "id": "3fc8aef9-253a-4170-9290-d2c1afce846f",
   "metadata": {},
   "outputs": [
    {
     "name": "stdout",
     "output_type": "stream",
     "text": [
      "+-----------+\n",
      "|count(name)|\n",
      "+-----------+\n",
      "|          7|\n",
      "+-----------+\n",
      "\n"
     ]
    }
   ],
   "source": [
    "# 고객테이블에 고객이 몇명 등록되어 있는지\n",
    "customers.select(count(col('name'))).show()"
   ]
  },
  {
   "cell_type": "code",
   "execution_count": 49,
   "id": "2d061ebf-621d-41c0-a3d4-8e3384883728",
   "metadata": {},
   "outputs": [
    {
     "name": "stdout",
     "output_type": "stream",
     "text": [
      "+-----------+\n",
      "|count(name)|\n",
      "+-----------+\n",
      "|          7|\n",
      "+-----------+\n",
      "\n"
     ]
    }
   ],
   "source": [
    "# sql 문\n",
    "sql = customers.select(count(customers.name)).show()"
   ]
  },
  {
   "cell_type": "code",
   "execution_count": 50,
   "id": "0905d9bc-6024-4ac0-a539-cbb04363b8fd",
   "metadata": {},
   "outputs": [],
   "source": [
    "from pyspark.sql.functions import countDistinct\n",
    "from pyspark.sql.functions import substring"
   ]
  },
  {
   "cell_type": "code",
   "execution_count": 51,
   "id": "e3a5d677-fa83-4340-912a-73896afadef3",
   "metadata": {},
   "outputs": [
    {
     "data": {
      "text/plain": [
       "1"
      ]
     },
     "execution_count": 51,
     "metadata": {},
     "output_type": "execute_result"
    }
   ],
   "source": [
    "# 제조업체 수 검색\n",
    "\n",
    "products.select(countDistinct('maker').alias('cnt')).count()"
   ]
  },
  {
   "cell_type": "code",
   "execution_count": 52,
   "id": "ab250f57-e50a-4f29-8971-245fb5d361a0",
   "metadata": {},
   "outputs": [
    {
     "name": "stderr",
     "output_type": "stream",
     "text": [
      "[Stage 76:==================================================>   (188 + 1) / 200]"
     ]
    },
    {
     "name": "stdout",
     "output_type": "stream",
     "text": [
      "+---+\n",
      "|cnt|\n",
      "+---+\n",
      "|  3|\n",
      "+---+\n",
      "\n"
     ]
    },
    {
     "name": "stderr",
     "output_type": "stream",
     "text": [
      "                                                                                \r"
     ]
    }
   ],
   "source": [
    "# sql 문\n",
    "sql = 'select count(Distinct maker) cnt from PRODUCTS'\n",
    "spark.sql(sql).show()"
   ]
  },
  {
   "cell_type": "code",
   "execution_count": 53,
   "id": "eb31de3b-f47b-4a8b-a859-6baf271d4894",
   "metadata": {},
   "outputs": [
    {
     "name": "stderr",
     "output_type": "stream",
     "text": [
      "[Stage 79:=============================================>        (167 + 1) / 200]"
     ]
    },
    {
     "name": "stdout",
     "output_type": "stream",
     "text": [
      "+------+-----------+\n",
      "|prodid|sum(amount)|\n",
      "+------+-----------+\n",
      "|   p01|         24|\n",
      "|   p02|         58|\n",
      "|   p03|         52|\n",
      "|   p04|         15|\n",
      "|   p06|         81|\n",
      "+------+-----------+\n",
      "\n"
     ]
    },
    {
     "name": "stderr",
     "output_type": "stream",
     "text": [
      "                                                                                \r"
     ]
    }
   ],
   "source": [
    "# 주문 제품별 합계\n",
    "orders.groupBy('prodid').agg(sum('amount')).orderBy('prodid').show()"
   ]
  },
  {
   "cell_type": "code",
   "execution_count": 54,
   "id": "89aba8af-9eae-4cec-8a63-b4d0c6d99df6",
   "metadata": {},
   "outputs": [
    {
     "name": "stderr",
     "output_type": "stream",
     "text": [
      "[Stage 81:=========================================>            (153 + 1) / 200]"
     ]
    },
    {
     "name": "stdout",
     "output_type": "stream",
     "text": [
      "+---+\n",
      "|cnt|\n",
      "+---+\n",
      "| 24|\n",
      "| 58|\n",
      "| 52|\n",
      "| 15|\n",
      "| 81|\n",
      "+---+\n",
      "\n"
     ]
    },
    {
     "name": "stderr",
     "output_type": "stream",
     "text": [
      "                                                                                \r"
     ]
    }
   ],
   "source": [
    "# sql 문\n",
    "sql = 'select sum(amount) cnt from ORDERS group by prodid order by prodid'\n",
    "spark.sql(sql).show()"
   ]
  },
  {
   "cell_type": "code",
   "execution_count": 55,
   "id": "0eb0b233-d323-446e-be18-a13203b96824",
   "metadata": {
    "tags": []
   },
   "outputs": [
    {
     "name": "stdout",
     "output_type": "stream",
     "text": [
      "+--------+---+--------+\n",
      "|   maker|cnt|maxprice|\n",
      "+--------+---+--------+\n",
      "|한빛제과|  3|    2600|\n",
      "|대한식품|  2|    4500|\n",
      "|민국푸드|  2|    5500|\n",
      "+--------+---+--------+\n",
      "\n"
     ]
    }
   ],
   "source": [
    "# 제조업체별 제조한 제품의 개수와, 가장비싼단가 검색,  제품개수와 비싼단가 이름변경\n",
    "\n",
    "products.groupBy('maker').agg(count('prodid').alias('cnt'), (max('price')).alias('maxprice')).show()"
   ]
  },
  {
   "cell_type": "code",
   "execution_count": 56,
   "id": "fc18bb36-4b65-42ba-bd28-628602720f7c",
   "metadata": {},
   "outputs": [
    {
     "name": "stdout",
     "output_type": "stream",
     "text": [
      "+--------+---+--------+\n",
      "|   maker|cnt|maxprice|\n",
      "+--------+---+--------+\n",
      "|한빛제과|  3|    2600|\n",
      "+--------+---+--------+\n",
      "\n"
     ]
    }
   ],
   "source": [
    "products.groupBy('maker').agg(count('prodid').alias('cnt'), (max('price')).alias('maxprice')).filter(col('cnt') >= 3).show()"
   ]
  },
  {
   "cell_type": "code",
   "execution_count": 57,
   "id": "d90fd0b9-8553-4547-9358-b2d5a266230e",
   "metadata": {},
   "outputs": [
    {
     "name": "stdout",
     "output_type": "stream",
     "text": [
      "+--------+---+--------+\n",
      "|   maker|cnt|maxprice|\n",
      "+--------+---+--------+\n",
      "|한빛제과|  3|    2600|\n",
      "|대한식품|  2|    4500|\n",
      "|민국푸드|  2|    5500|\n",
      "+--------+---+--------+\n",
      "\n"
     ]
    }
   ],
   "source": [
    "# sql 문\n",
    "\n",
    "sql = 'select maker, count(prodid) cnt, max(price) maxprice from PRODUCTS group by maker'\n",
    "spark.sql(sql).show()"
   ]
  },
  {
   "cell_type": "code",
   "execution_count": 58,
   "id": "1f812c00-d46f-40ba-bb20-cf9704291cbb",
   "metadata": {},
   "outputs": [
    {
     "name": "stdout",
     "output_type": "stream",
     "text": [
      "+--------+---+--------+\n",
      "|   maker|cnt|maxprice|\n",
      "+--------+---+--------+\n",
      "|한빛제과|  3|    2600|\n",
      "+--------+---+--------+\n",
      "\n"
     ]
    }
   ],
   "source": [
    "sql = 'select maker, count(prodid) cnt, max(price) maxprice from PRODUCTS group by maker having cnt >= 3'\n",
    "spark.sql(sql).show()"
   ]
  },
  {
   "cell_type": "code",
   "execution_count": 59,
   "id": "77b10bec-e446-4480-89e7-bab96ab5ba00",
   "metadata": {},
   "outputs": [
    {
     "name": "stderr",
     "output_type": "stream",
     "text": [
      "                                                                                \r"
     ]
    },
    {
     "name": "stdout",
     "output_type": "stream",
     "text": [
      "+-----+---+--------+\n",
      "|grade|cnt|avgcoins|\n",
      "+-----+---+--------+\n",
      "| gold|  3|  3500.0|\n",
      "|  vip|  1|  2500.0|\n",
      "+-----+---+--------+\n",
      "\n"
     ]
    }
   ],
   "source": [
    "# 적립금 평균이 1,000원 이상 등급에대해 등급별 고객수와, 적립금 평균을 검색\n",
    "customers.groupBy('grade').agg(count('userid').alias('cnt'), avg('coins').alias('avgcoins')).filter(col('avgcoins')>=1000).show()"
   ]
  },
  {
   "cell_type": "code",
   "execution_count": 60,
   "id": "990021d0-dc12-4553-a337-04797989b6a1",
   "metadata": {},
   "outputs": [
    {
     "name": "stderr",
     "output_type": "stream",
     "text": [
      "                                                                                \r"
     ]
    },
    {
     "name": "stdout",
     "output_type": "stream",
     "text": [
      "+-----+---+-------+\n",
      "|grade|cnt|avgcoin|\n",
      "+-----+---+-------+\n",
      "| gold|  3| 3500.0|\n",
      "|  vip|  1| 2500.0|\n",
      "+-----+---+-------+\n",
      "\n"
     ]
    }
   ],
   "source": [
    "# sql문\n",
    "\n",
    "sql = 'select grade, count(userid) cnt, round(avg(coins),1) avgcoin from CUSTOMERS group by grade having avgcoin >= 1000'\n",
    "spark.sql(sql).show()"
   ]
  },
  {
   "cell_type": "code",
   "execution_count": 61,
   "id": "ebce3df6-e41d-4383-baf2-8e9ce7e86508",
   "metadata": {},
   "outputs": [
    {
     "name": "stdout",
     "output_type": "stream",
     "text": [
      "+------+----------+-----+-----+--------+-------+------+------+---------------+-------------------+\n",
      "|prodid|  prodname|stock|price|   maker|orderid|userid|amount|           addr|            orddate|\n",
      "+------+----------+-----+-----+--------+-------+------+------+---------------+-------------------+\n",
      "|   p03|  쿵떡파이| 3600| 2600|한빛제과|    o01| apple|    10|  서울시 마포구|2013-01-01 00:00:00|\n",
      "|   p01|  그냥만두| 5000| 4500|대한식품|    o02| melon|     5|  인천시 계양구|2013-01-10 00:00:00|\n",
      "|   p06|  통통우동| 1000| 1550|민국푸드|    o03|banana|    45|  경기도 부천시|2013-01-11 00:00:00|\n",
      "|   p02|  매운쫄면| 2500| 5500|민국푸드|    o04|carrot|     8|  부산시 금정구|2013-02-01 00:00:00|\n",
      "|   p06|  통통우동| 1000| 1550|민국푸드|    o05| melon|    36|  경기도 용인시|2013-02-20 00:00:00|\n",
      "|   p01|  그냥만두| 5000| 4500|대한식품|    o06|banana|    19|충청북도 보은군|2013-03-02 00:00:00|\n",
      "|   p03|  쿵떡파이| 3600| 2600|한빛제과|    o07| apple|    22|서울시 영등포구|2013-03-15 00:00:00|\n",
      "|   p02|  매운쫄면| 2500| 5500|민국푸드|    o08|  pear|    50|  강원도 춘천시|2013-04-10 00:00:00|\n",
      "|   p04|맛난초콜렛| 1250| 2500|한빛제과|    o09|banana|    15|전라남도 목포시|2013-04-11 00:00:00|\n",
      "|   p03|  쿵떡파이| 3600| 2600|한빛제과|    o10|carrot|    20|  경기도 안양시|2013-05-22 00:00:00|\n",
      "+------+----------+-----+-----+--------+-------+------+------+---------------+-------------------+\n",
      "\n"
     ]
    }
   ],
   "source": [
    "# 각 주문고객이 주문한 제품의 총 주문수량을 제품별로 검색\n",
    "\n",
    "prodOrder = products.join(orders, 'prodid', 'inner')\n",
    "prodOrder.show()"
   ]
  },
  {
   "cell_type": "code",
   "execution_count": 62,
   "id": "4cba49dd-7b38-4665-b9cc-77c444828a2c",
   "metadata": {},
   "outputs": [],
   "source": [
    "custOrder = customers.join(orders, 'userid', 'inner')"
   ]
  },
  {
   "cell_type": "code",
   "execution_count": 63,
   "id": "b8bee354-ab58-4002-b1e9-1eca1fbd7e3b",
   "metadata": {},
   "outputs": [
    {
     "name": "stdout",
     "output_type": "stream",
     "text": [
      "+------+----------+------+\n",
      "|userid|  prodname|prodid|\n",
      "+------+----------+------+\n",
      "|banana|  통통우동|   p06|\n",
      "|banana|  그냥만두|   p01|\n",
      "|banana|맛난초콜렛|   p04|\n",
      "+------+----------+------+\n",
      "\n"
     ]
    }
   ],
   "source": [
    "# 바나나 고객이 주문한 제품의 이름 조회\n",
    "\n",
    "#prodOrder = ORDERS.join(products, 'prodid', 'inner')\n",
    "# prodOrder.show(5)\n",
    "\n",
    "prodOrder.filter(prodOrder.userid == 'banana').select('userid','prodname','prodid').show()"
   ]
  },
  {
   "cell_type": "code",
   "execution_count": 64,
   "id": "f3f2ee40-0fec-4701-84c6-2414327dd451",
   "metadata": {},
   "outputs": [
    {
     "name": "stdout",
     "output_type": "stream",
     "text": [
      "+------+----------+------+\n",
      "|userid|  prodname|prodid|\n",
      "+------+----------+------+\n",
      "|banana|  통통우동|   p06|\n",
      "|banana|  그냥만두|   p01|\n",
      "|banana|맛난초콜렛|   p04|\n",
      "+------+----------+------+\n",
      "\n"
     ]
    }
   ],
   "source": [
    "# 바나나 고객이 주문한 제품의 이름 조회 답안\n",
    "\n",
    "prodOrder.filter(col('userid') == 'banana').select('userid','prodname','prodid').show()"
   ]
  },
  {
   "cell_type": "code",
   "execution_count": 65,
   "id": "7122844a-6e98-4c0b-bc0a-c3734104031a",
   "metadata": {},
   "outputs": [
    {
     "name": "stdout",
     "output_type": "stream",
     "text": [
      "+------+----------+\n",
      "|userid|  prodname|\n",
      "+------+----------+\n",
      "|banana|  통통우동|\n",
      "|banana|  그냥만두|\n",
      "|banana|맛난초콜렛|\n",
      "+------+----------+\n",
      "\n"
     ]
    }
   ],
   "source": [
    "# sql 문\n",
    "\n",
    "sql = \"select userid, prodname from PRODUCTS p inner join ORDERS o using(prodid)  where userid = 'banana'\"\n",
    "spark.sql(sql).show()"
   ]
  },
  {
   "cell_type": "code",
   "execution_count": 66,
   "id": "9a370fa9-c879-488f-bd22-e9451ffab999",
   "metadata": {},
   "outputs": [
    {
     "name": "stdout",
     "output_type": "stream",
     "text": [
      "+------+-------+------+------+-------------+-------------------+--------+-----+-----+--------+\n",
      "|prodid|orderid|userid|amount|         addr|            orddate|prodname|stock|price|   maker|\n",
      "+------+-------+------+------+-------------+-------------------+--------+-----+-----+--------+\n",
      "|   p03|    o01| apple|    10|서울시 마포구|2013-01-01 00:00:00|쿵떡파이| 3600| 2600|한빛제과|\n",
      "|   p01|    o02| melon|     5|인천시 계양구|2013-01-10 00:00:00|그냥만두| 5000| 4500|대한식품|\n",
      "|   p06|    o03|banana|    45|경기도 부천시|2013-01-11 00:00:00|통통우동| 1000| 1550|민국푸드|\n",
      "|   p02|    o04|carrot|     8|부산시 금정구|2013-02-01 00:00:00|매운쫄면| 2500| 5500|민국푸드|\n",
      "|   p06|    o05| melon|    36|경기도 용인시|2013-02-20 00:00:00|통통우동| 1000| 1550|민국푸드|\n",
      "+------+-------+------+------+-------------+-------------------+--------+-----+-----+--------+\n",
      "only showing top 5 rows\n",
      "\n"
     ]
    }
   ],
   "source": [
    "prodOrder1 = orders.join(products, 'prodid', 'inner')\n",
    "prodOrder1.show(5)"
   ]
  },
  {
   "cell_type": "code",
   "execution_count": 67,
   "id": "26a75a57-72fd-4d6c-a4dd-2c5d0ef25291",
   "metadata": {},
   "outputs": [
    {
     "name": "stdout",
     "output_type": "stream",
     "text": [
      "+------+------+-------+------+---------------+-------------------+----------+-----+-----+--------+------+---+------+------+-----+\n",
      "|userid|prodid|orderid|amount|           addr|            orddate|  prodname|stock|price|   maker|  name|age| grade|   job|coins|\n",
      "+------+------+-------+------+---------------+-------------------+----------+-----+-----+--------+------+---+------+------+-----+\n",
      "| apple|   p03|    o01|    10|  서울시 마포구|2013-01-01 00:00:00|  쿵떡파이| 3600| 2600|한빛제과|정소화| 20|  gold|  학생| 1000|\n",
      "| melon|   p01|    o02|     5|  인천시 계양구|2013-01-10 00:00:00|  그냥만두| 5000| 4500|대한식품|성원용| 35|  gold|회사원| 5000|\n",
      "|banana|   p06|    o03|    45|  경기도 부천시|2013-01-11 00:00:00|  통통우동| 1000| 1550|민국푸드|김선우| 25|   vip|간호사| 2500|\n",
      "|carrot|   p02|    o04|     8|  부산시 금정구|2013-02-01 00:00:00|  매운쫄면| 2500| 5500|민국푸드|고명석| 28|  gold|  교사| 4500|\n",
      "| melon|   p06|    o05|    36|  경기도 용인시|2013-02-20 00:00:00|  통통우동| 1000| 1550|민국푸드|성원용| 35|  gold|회사원| 5000|\n",
      "|banana|   p01|    o06|    19|충청북도 보은군|2013-03-02 00:00:00|  그냥만두| 5000| 4500|대한식품|김선우| 25|   vip|간호사| 2500|\n",
      "| apple|   p03|    o07|    22|서울시 영등포구|2013-03-15 00:00:00|  쿵떡파이| 3600| 2600|한빛제과|정소화| 20|  gold|  학생| 1000|\n",
      "|  pear|   p02|    o08|    50|  강원도 춘천시|2013-04-10 00:00:00|  매운쫄면| 2500| 5500|민국푸드|채광주| 31|silver|회사원|  500|\n",
      "|banana|   p04|    o09|    15|전라남도 목포시|2013-04-11 00:00:00|맛난초콜렛| 1250| 2500|한빛제과|김선우| 25|   vip|간호사| 2500|\n",
      "|carrot|   p03|    o10|    20|  경기도 안양시|2013-05-22 00:00:00|  쿵떡파이| 3600| 2600|한빛제과|고명석| 28|  gold|  교사| 4500|\n",
      "+------+------+-------+------+---------------+-------------------+----------+-----+-----+--------+------+---+------+------+-----+\n",
      "\n"
     ]
    }
   ],
   "source": [
    "# 판매 데이터 베이스에서 나이가 30이상인 고객이 주문한 제품과, 주문일자 조회\n",
    "prodOrder2 = prodOrder1.join(customers, 'userid', 'inner')\n",
    "prodOrder2.show()"
   ]
  },
  {
   "cell_type": "code",
   "execution_count": 68,
   "id": "deb1649a-8168-451b-9c1e-5bc95588f272",
   "metadata": {
    "tags": []
   },
   "outputs": [
    {
     "name": "stdout",
     "output_type": "stream",
     "text": [
      "+------+---+--------+-------------------+\n",
      "|userid|age|prodname|            orddate|\n",
      "+------+---+--------+-------------------+\n",
      "| melon| 35|그냥만두|2013-01-10 00:00:00|\n",
      "| melon| 35|통통우동|2013-02-20 00:00:00|\n",
      "|  pear| 31|매운쫄면|2013-04-10 00:00:00|\n",
      "+------+---+--------+-------------------+\n",
      "\n"
     ]
    }
   ],
   "source": [
    "# 판매 데이터 베이스에서 나이가 30이상인 고객이 주문한 제품과, 주문일자 조회\n",
    "prodOrder2.filter(prodOrder2.age >= 30).select('userid','age','prodname','orddate').show()"
   ]
  },
  {
   "cell_type": "code",
   "execution_count": 69,
   "id": "53e955fe-8b79-4263-a02d-3928ee868b52",
   "metadata": {},
   "outputs": [
    {
     "name": "stdout",
     "output_type": "stream",
     "text": [
      "+------+---+--------+----------+\n",
      "|userid|age|prodname|     odate|\n",
      "+------+---+--------+----------+\n",
      "| melon| 35|그냥만두|2013-01-10|\n",
      "| melon| 35|통통우동|2013-02-20|\n",
      "|  pear| 31|매운쫄면|2013-04-10|\n",
      "+------+---+--------+----------+\n",
      "\n"
     ]
    }
   ],
   "source": [
    "# 판매 데이터 베이스에서 나이가 30이상인 고객이 주문한 제품과, 주문일자 조회\n",
    "prodOrder2.filter(prodOrder2.age >= 30).select('userid','age','prodname',substring('orddate',0,10).alias('odate')).show()"
   ]
  },
  {
   "cell_type": "code",
   "execution_count": 70,
   "id": "417bf95c-9935-4dd4-9d77-237149c0c8c6",
   "metadata": {},
   "outputs": [
    {
     "name": "stdout",
     "output_type": "stream",
     "text": [
      "+------+---+------+-------------------+\n",
      "|userid|age|prodid|            orddate|\n",
      "+------+---+------+-------------------+\n",
      "| melon| 35|   p01|2013-01-10 00:00:00|\n",
      "| melon| 35|   p06|2013-02-20 00:00:00|\n",
      "|  pear| 31|   p02|2013-04-10 00:00:00|\n",
      "+------+---+------+-------------------+\n",
      "\n"
     ]
    }
   ],
   "source": [
    "# sql 문\n",
    "sql = 'select userid, age, prodid, orddate from CUSTOMERS c inner join ORDERS o using(userid) where age >= 30 '\n",
    "spark.sql(sql).show()"
   ]
  },
  {
   "cell_type": "code",
   "execution_count": 71,
   "id": "359d4ec4-75b9-4d34-ad02-4e36e7df2b41",
   "metadata": {},
   "outputs": [
    {
     "name": "stdout",
     "output_type": "stream",
     "text": [
      "+------+---+------+----------+\n",
      "|userid|age|prodid|     odate|\n",
      "+------+---+------+----------+\n",
      "| melon| 35|   p01|2013-01-10|\n",
      "| melon| 35|   p06|2013-02-20|\n",
      "|  pear| 31|   p02|2013-04-10|\n",
      "+------+---+------+----------+\n",
      "\n"
     ]
    }
   ],
   "source": [
    "# sql 문\n",
    "sql = 'select userid, age, prodid, substr(orddate,0,10) odate from CUSTOMERS c inner join ORDERS o using(userid) where age >= 30 '\n",
    "spark.sql(sql).show()"
   ]
  },
  {
   "cell_type": "code",
   "execution_count": 74,
   "id": "722dfd2b-4d20-4d7c-95ba-edd75231b7a3",
   "metadata": {},
   "outputs": [],
   "source": [
    "PRODORDER = prodOrder.createOrReplaceTempView('PRODORDER')\n",
    "\n",
    "CUSTORDER = custOrder.createOrReplaceTempView('CUSTORDER')\n",
    "\n",
    "CUSTORDERPROD = custOrderProd.createOrReplaceTempView('CUSTORDERPROD')"
   ]
  },
  {
   "cell_type": "code",
   "execution_count": 75,
   "id": "d8815f7f-3a80-47a4-97c9-f8624df7c622",
   "metadata": {},
   "outputs": [
    {
     "name": "stdout",
     "output_type": "stream",
     "text": [
      "+------+----------+\n",
      "|userid|  prodname|\n",
      "+------+----------+\n",
      "|banana|  통통우동|\n",
      "|banana|  그냥만두|\n",
      "|banana|맛난초콜렛|\n",
      "+------+----------+\n",
      "\n"
     ]
    }
   ],
   "source": [
    "# 바나나\n",
    "sql = \"select userid, prodname from PRODORDER where userid = 'banana'\"\n",
    "spark.sql(sql).show()"
   ]
  },
  {
   "cell_type": "code",
   "execution_count": 76,
   "id": "1d9338de-e3aa-4a76-9f23-4c685eb6924f",
   "metadata": {},
   "outputs": [
    {
     "name": "stdout",
     "output_type": "stream",
     "text": [
      "+------+---+------+----------+\n",
      "|userid|age|prodid|     odate|\n",
      "+------+---+------+----------+\n",
      "| melon| 35|   p01|2013-01-10|\n",
      "| melon| 35|   p06|2013-02-20|\n",
      "|  pear| 31|   p02|2013-04-10|\n",
      "+------+---+------+----------+\n",
      "\n"
     ]
    }
   ],
   "source": [
    "# 30살 이상\n",
    "sql = 'select userid, age, prodid, substr(orddate,0,10) odate from CUSTORDER where age >= 30 '\n",
    "spark.sql(sql).show()"
   ]
  },
  {
   "cell_type": "code",
   "execution_count": 73,
   "id": "600f4502-6cf6-4b1d-b736-fbd7a159c1b8",
   "metadata": {},
   "outputs": [
    {
     "name": "stdout",
     "output_type": "stream",
     "text": [
      "+------+--------+\n",
      "|  name|prodname|\n",
      "+------+--------+\n",
      "|고명석|매운쫄면|\n",
      "|고명석|쿵떡파이|\n",
      "+------+--------+\n",
      "\n"
     ]
    }
   ],
   "source": [
    "# 고명석 고객이 주문한 제품명\n",
    "custOrderProd = custOrder.join(products, 'prodid','inner')\n",
    "custOrderProd.filter(col('name') == '고명석').select('name','prodname').show()"
   ]
  },
  {
   "cell_type": "code",
   "execution_count": 77,
   "id": "59c49d0e-8981-4628-88c2-81b1e3494ce1",
   "metadata": {
    "tags": []
   },
   "outputs": [
    {
     "name": "stdout",
     "output_type": "stream",
     "text": [
      "+------+--------+\n",
      "|  name|prodname|\n",
      "+------+--------+\n",
      "|고명석|매운쫄면|\n",
      "|고명석|쿵떡파이|\n",
      "+------+--------+\n",
      "\n"
     ]
    }
   ],
   "source": [
    "# sql\n",
    "\n",
    "sql = \"select name,prodname from CUSTORDERPROD where name = '고명석'\"\n",
    "spark.sql(sql).show()"
   ]
  },
  {
   "cell_type": "code",
   "execution_count": 78,
   "id": "15e43df7-d658-40fd-b492-1a36206f04e8",
   "metadata": {},
   "outputs": [
    {
     "name": "stdout",
     "output_type": "stream",
     "text": [
      "+----------+-----+\n",
      "|  prodname|price|\n",
      "+----------+-----+\n",
      "|  쿵떡파이| 2600|\n",
      "|맛난초콜렛| 2500|\n",
      "|달콤비스켓| 1500|\n",
      "+----------+-----+\n",
      "\n"
     ]
    }
   ],
   "source": [
    "# 달콤비스킷을 생산한 제조업체가 만든 제품들의 제품명과 단가 검색\n",
    "\n",
    "sql = \"select prodname, price FROM PRODUCTS where maker = (SELECT maker FROM PRODUCTS where prodname = '달콤비스켓')\"\n",
    "\n",
    "spark.sql(sql).show()"
   ]
  },
  {
   "cell_type": "code",
   "execution_count": 79,
   "id": "f94977c5-dfa1-423f-94d7-d36412389156",
   "metadata": {},
   "outputs": [
    {
     "name": "stdout",
     "output_type": "stream",
     "text": [
      "+------+-----+\n",
      "|  name|coins|\n",
      "+------+-----+\n",
      "|성원용| 5000|\n",
      "+------+-----+\n",
      "\n"
     ]
    }
   ],
   "source": [
    "# 적립금이 가장많은 고객의 이름과 적립금\n",
    "\n",
    "sql = \"SELECT name, coins from CUSTOMERS where coins = (select max(coins) from Customers)\";\n",
    "\n",
    "spark.sql(sql).show()"
   ]
  },
  {
   "cell_type": "code",
   "execution_count": null,
   "id": "ef5a9a60-ea6b-45ed-afff-e7a61727a446",
   "metadata": {},
   "outputs": [],
   "source": []
  },
  {
   "cell_type": "code",
   "execution_count": null,
   "id": "3d1da7f3-5b70-4c91-8be5-53ee5458321d",
   "metadata": {},
   "outputs": [],
   "source": []
  },
  {
   "cell_type": "code",
   "execution_count": null,
   "id": "fa949856-65a0-415e-a4ae-9ef66089f31d",
   "metadata": {},
   "outputs": [],
   "source": []
  }
 ],
 "metadata": {
  "kernelspec": {
   "display_name": "Python 3 (ipykernel)",
   "language": "python",
   "name": "python3"
  },
  "language_info": {
   "codemirror_mode": {
    "name": "ipython",
    "version": 3
   },
   "file_extension": ".py",
   "mimetype": "text/x-python",
   "name": "python",
   "nbconvert_exporter": "python",
   "pygments_lexer": "ipython3",
   "version": "3.7.10"
  }
 },
 "nbformat": 4,
 "nbformat_minor": 5
}
