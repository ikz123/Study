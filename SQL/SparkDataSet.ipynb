{
 "cells": [
  {
   "cell_type": "markdown",
   "id": "b298b664-1dd2-4d4e-9c6b-a316a17f9085",
   "metadata": {},
   "source": [
    "## RDD를 이용해서 데이터프레임 생성"
   ]
  },
  {
   "cell_type": "code",
   "execution_count": 1,
   "id": "c4e763b9-a8f7-471b-b5c6-669218de4bfd",
   "metadata": {},
   "outputs": [],
   "source": [
    "from pyspark.sql.types import StringType, IntegerType"
   ]
  },
  {
   "cell_type": "markdown",
   "id": "f03c70dc-cc7d-495d-a27c-fe266f7af534",
   "metadata": {},
   "source": [
    "### 리스트를 이용해서 데이터프레임 만들기"
   ]
  },
  {
   "cell_type": "code",
   "execution_count": 2,
   "id": "fa7041af-e08c-44ba-b3cb-22497ce73a32",
   "metadata": {},
   "outputs": [
    {
     "name": "stderr",
     "output_type": "stream",
     "text": [
      "                                                                                \r"
     ]
    },
    {
     "data": {
      "text/plain": [
       "['apple', 'peach', 'banana', 'mango', 'pineapple']"
      ]
     },
     "execution_count": 2,
     "metadata": {},
     "output_type": "execute_result"
    }
   ],
   "source": [
    "# 리스트로 RDD 객체 생성\n",
    "words = sc.parallelize(['apple','peach','banana','mango','pineapple'])\n",
    "words.collect()"
   ]
  },
  {
   "cell_type": "code",
   "execution_count": 3,
   "id": "b39a7276-1e8c-41c4-b696-b051be8b10f3",
   "metadata": {},
   "outputs": [
    {
     "name": "stderr",
     "output_type": "stream",
     "text": [
      "                                                                                \r"
     ]
    },
    {
     "name": "stdout",
     "output_type": "stream",
     "text": [
      "+---------+\n",
      "|    value|\n",
      "+---------+\n",
      "|    apple|\n",
      "|    peach|\n",
      "|   banana|\n",
      "|    mango|\n",
      "|pineapple|\n",
      "+---------+\n",
      "\n"
     ]
    }
   ],
   "source": [
    "# createDataFrame(RDD객체, 타입)\n",
    "df = spark.createDataFrame(words, StringType())\n",
    "df.show()"
   ]
  },
  {
   "cell_type": "code",
   "execution_count": 4,
   "id": "58948f7c-2442-4ca5-9c0f-58ad3c7fa82d",
   "metadata": {},
   "outputs": [
    {
     "data": {
      "text/plain": [
       "[Row(_1='apple', _2=1500),\n",
       " Row(_1='peach', _2=2000),\n",
       " Row(_1='banana', _2=1500),\n",
       " Row(_1='mango', _2=2500),\n",
       " Row(_1='pineapple', _2=3000)]"
      ]
     },
     "execution_count": 4,
     "metadata": {},
     "output_type": "execute_result"
    }
   ],
   "source": [
    "# 리스트로 데이터프레임 객체 생성 - (과일명, 가격)\n",
    "data = [('apple',1500),('peach',2000),('banana',1500),('mango',2500),('pineapple',3000)]\n",
    "\n",
    "fruits = spark.createDataFrame(data)\n",
    "fruits.collect()"
   ]
  },
  {
   "cell_type": "code",
   "execution_count": 5,
   "id": "a209d934-88b5-40f1-9186-ca03f4f45aa9",
   "metadata": {},
   "outputs": [
    {
     "data": {
      "text/plain": [
       "[Row(fruit='apple', price=1500),\n",
       " Row(fruit='peach', price=2000),\n",
       " Row(fruit='banana', price=1500),\n",
       " Row(fruit='mango', price=2500),\n",
       " Row(fruit='pineapple', price=3000)]"
      ]
     },
     "execution_count": 5,
     "metadata": {},
     "output_type": "execute_result"
    }
   ],
   "source": [
    "# 컬럼명을 지정하면서 데이터프레임 객체 생성\n",
    "fruits = spark.createDataFrame(data, ['fruit','price'])\n",
    "fruits.collect()"
   ]
  },
  {
   "cell_type": "code",
   "execution_count": null,
   "id": "a99555fd-5e99-4072-bdb1-d22d4d0c74e1",
   "metadata": {},
   "outputs": [],
   "source": []
  },
  {
   "cell_type": "code",
   "execution_count": 6,
   "id": "f172860a-30c0-4f47-adf6-94a0a7613fae",
   "metadata": {},
   "outputs": [
    {
     "data": {
      "text/plain": [
       "[Row(fruit='apple', price=1500),\n",
       " Row(fruit='peach', price=2000),\n",
       " Row(fruit='banana', price=1500),\n",
       " Row(fruit='mango', price=2500),\n",
       " Row(fruit='pineapple', price=3000)]"
      ]
     },
     "execution_count": 6,
     "metadata": {},
     "output_type": "execute_result"
    }
   ],
   "source": [
    "# 컬럼명, 데이터타입을 지정하면서 데이터프레임 객체 생성\n",
    "# 컬럼명:데이터타입 으로 정의\n",
    "fruits = spark.createDataFrame(data, \"fruit:string, price:int\")\n",
    "fruits.collect()"
   ]
  },
  {
   "cell_type": "code",
   "execution_count": 7,
   "id": "fd55ca58-c2f5-431f-b679-8c9d729ed63e",
   "metadata": {},
   "outputs": [
    {
     "data": {
      "text/plain": [
       "[Row(fruit='apple'),\n",
       " Row(fruit='peach'),\n",
       " Row(fruit='banana'),\n",
       " Row(fruit='mango'),\n",
       " Row(fruit='pineapple')]"
      ]
     },
     "execution_count": 7,
     "metadata": {},
     "output_type": "execute_result"
    }
   ],
   "source": [
    "# 특정 컬럼만 출력 : select\n",
    "fruits.select('fruit').collect()"
   ]
  },
  {
   "cell_type": "code",
   "execution_count": null,
   "id": "8d240ea9-7595-4930-813d-5b1a0b29789d",
   "metadata": {},
   "outputs": [],
   "source": []
  },
  {
   "cell_type": "code",
   "execution_count": 3,
   "id": "b25f2a25-1359-4842-9f8c-4384a19dc0c3",
   "metadata": {},
   "outputs": [],
   "source": [
    "## 스파크세션을 이용한 고급 데이터프레임 생성\n",
    "from pyspark.sql import SparkSession\n",
    "from pyspark.sql.types import StructType"
   ]
  },
  {
   "cell_type": "code",
   "execution_count": 4,
   "id": "0e31f098-d437-43c5-b119-380fd2642479",
   "metadata": {},
   "outputs": [],
   "source": [
    "#데이터프레임 스키마 정의 - employees\n",
    "# 스파크 세션 객체 직접 생성\n",
    "spark = SparkSession.builder.appName(\"emp\").getOrCreate()"
   ]
  },
  {
   "cell_type": "code",
   "execution_count": 5,
   "id": "c444c6f6-ccb2-4df1-a171-2895aa8b8b7c",
   "metadata": {},
   "outputs": [],
   "source": [
    "# 데이터프레임 생성 전 스키마 정의\n",
    "# add(컬럼명, 데이터타입)\n",
    "emp_schema = StructType().add(\"empno\", \"integer\").add(\"fname\", \"string\").add(\"lname\", \"string\")\\\n",
    "                        .add(\"hdate\", \"string\").add(\"sal\", \"integer\").add(\"deptid\", \"integer\")"
   ]
  },
  {
   "cell_type": "code",
   "execution_count": 6,
   "id": "fa25e95b-b6b4-4270-b2a6-410f8e48a65a",
   "metadata": {},
   "outputs": [
    {
     "name": "stderr",
     "output_type": "stream",
     "text": [
      "[Stage 0:>                                                          (0 + 1) / 1]"
     ]
    },
    {
     "name": "stdout",
     "output_type": "stream",
     "text": [
      "+-----+-----+-----+----------+-----+------+\n",
      "|empno|fname|lname|     hdate|  sal|deptid|\n",
      "+-----+-----+-----+----------+-----+------+\n",
      "|  123|steve| king|          |35000|  null|\n",
      "|  456| john|  seo|2005-12-15|20000|    50|\n",
      "|  789|david| null|2004-03-01|22000|    90|\n",
      "+-----+-----+-----+----------+-----+------+\n",
      "\n"
     ]
    },
    {
     "name": "stderr",
     "output_type": "stream",
     "text": [
      "                                                                                \r"
     ]
    }
   ],
   "source": [
    "# 지정한 스키마를 이용해서 데이터프레임 생성\n",
    "# 데이터프레임의 각 행은 set 객체로 정의\n",
    "# 위에서 정의한 스키마는 schema 속성으로 지정\n",
    "df = spark.createDataFrame([(123,'steve','king','',35000,None),\\\n",
    "                            (456,'john','seo','2005-12-15',20000,50),\\\n",
    "                            (789,'david',None,'2004-03-01',22000,90)], schema=emp_schema)\n",
    "df.show()"
   ]
  },
  {
   "cell_type": "code",
   "execution_count": null,
   "id": "11da98bf-18be-4997-b7d1-23f848d70c59",
   "metadata": {},
   "outputs": [],
   "source": []
  },
  {
   "cell_type": "code",
   "execution_count": 7,
   "id": "845c73a6-af47-45ce-ba24-0b4c126490a6",
   "metadata": {},
   "outputs": [
    {
     "name": "stdout",
     "output_type": "stream",
     "text": [
      "root\n",
      " |-- empno: integer (nullable = true)\n",
      " |-- fname: string (nullable = true)\n",
      " |-- lname: string (nullable = true)\n",
      " |-- hdate: string (nullable = true)\n",
      " |-- sal: integer (nullable = true)\n",
      " |-- deptid: integer (nullable = true)\n",
      "\n"
     ]
    }
   ],
   "source": [
    "# 데이터프레임의 스키마 확인\n",
    "df.printSchema()"
   ]
  },
  {
   "cell_type": "code",
   "execution_count": null,
   "id": "7673d80d-2a27-42fa-b2a6-89e65e153365",
   "metadata": {},
   "outputs": [],
   "source": []
  },
  {
   "cell_type": "code",
   "execution_count": 8,
   "id": "a2f82687-3092-4c4a-bd19-afaf72d71510",
   "metadata": {},
   "outputs": [
    {
     "name": "stdout",
     "output_type": "stream",
     "text": [
      "+-----+-----+-----+----------+-----+------+\n",
      "|empno|fname|lname|     hdate|  sal|deptid|\n",
      "+-----+-----+-----+----------+-----+------+\n",
      "|  123|steve| king|          |35000|  null|\n",
      "|  456| john|  seo|2005-12-15|20000|    50|\n",
      "|  789|david|    X|2004-03-01|22000|    90|\n",
      "+-----+-----+-----+----------+-----+------+\n",
      "\n",
      "+-----+-----+-----+----------+-----+------+\n",
      "|empno|fname|lname|     hdate|  sal|deptid|\n",
      "+-----+-----+-----+----------+-----+------+\n",
      "|  123|steve| king|          |35000|   999|\n",
      "|  456| john|  seo|2005-12-15|20000|    50|\n",
      "|  789|david| null|2004-03-01|22000|    90|\n",
      "+-----+-----+-----+----------+-----+------+\n",
      "\n"
     ]
    }
   ],
   "source": [
    "# 결측치 처리\n",
    "# fillna(대체값)\n",
    "df.fillna('X').show()    # 문자형 결측치 대체\n",
    "df.fillna(999).show()    # 숫자형 결측치 대체"
   ]
  },
  {
   "cell_type": "code",
   "execution_count": 9,
   "id": "4c680121-4972-4d5b-82ed-03072f34ad26",
   "metadata": {},
   "outputs": [
    {
     "name": "stdout",
     "output_type": "stream",
     "text": [
      "+-----+-----+-----+----------+-----+------+\n",
      "|empno|fname|lname|     hdate|  sal|deptid|\n",
      "+-----+-----+-----+----------+-----+------+\n",
      "|  123|steve| king|          |35000|   999|\n",
      "|  456| john|  seo|2005-12-15|20000|    50|\n",
      "|  789|david|    X|2004-03-01|22000|    90|\n",
      "+-----+-----+-----+----------+-----+------+\n",
      "\n"
     ]
    }
   ],
   "source": [
    "# 여러 컬럼에 대해 결측치 처리 : dict 이용\n",
    "df.fillna({'lname':'X', 'deptid':999}).show()"
   ]
  },
  {
   "cell_type": "code",
   "execution_count": null,
   "id": "f6802db6-2e00-4d33-8fcc-f13b8a4dc927",
   "metadata": {},
   "outputs": [],
   "source": []
  },
  {
   "cell_type": "code",
   "execution_count": 10,
   "id": "742c68b0-51f0-406a-9bb0-4346c3fc517b",
   "metadata": {},
   "outputs": [
    {
     "name": "stdout",
     "output_type": "stream",
     "text": [
      "+-----+-----+-----+----------+-----+------+\n",
      "|empno|fname|lname|     hdate|  sal|deptid|\n",
      "+-----+-----+-----+----------+-----+------+\n",
      "|  123|steve| king|2003-06-17|35000|  null|\n",
      "|  456| john|  seo|2005-12-15|20000|    50|\n",
      "|  789|david| null|2004-03-01|22000|    90|\n",
      "+-----+-----+-----+----------+-----+------+\n",
      "\n"
     ]
    }
   ],
   "source": [
    "# 결측치 제거\n",
    "# na.drop()\n",
    "df2 = spark.createDataFrame([(123,'steve','king','2003-06-17',35000,None),\\\n",
    "                            (456,'john','seo','2005-12-15',20000,50),\\\n",
    "                            (789,'david',None,'2004-03-01',22000,90)], schema=emp_schema)\n",
    "df2.show()"
   ]
  },
  {
   "cell_type": "code",
   "execution_count": 11,
   "id": "5d493248-bfe6-4fa1-b1e4-ae7a13d55755",
   "metadata": {},
   "outputs": [
    {
     "name": "stdout",
     "output_type": "stream",
     "text": [
      "+-----+-----+-----+----------+-----+------+\n",
      "|empno|fname|lname|     hdate|  sal|deptid|\n",
      "+-----+-----+-----+----------+-----+------+\n",
      "|  456| john|  seo|2005-12-15|20000|    50|\n",
      "+-----+-----+-----+----------+-----+------+\n",
      "\n"
     ]
    }
   ],
   "source": [
    "df2.na.drop().show()"
   ]
  },
  {
   "cell_type": "code",
   "execution_count": 12,
   "id": "992b345b-8447-4fb2-abb2-a6f70b480265",
   "metadata": {},
   "outputs": [
    {
     "name": "stdout",
     "output_type": "stream",
     "text": [
      "+-----+-----+----------+-----+------+\n",
      "|empno|lname|     hdate|  sal|deptid|\n",
      "+-----+-----+----------+-----+------+\n",
      "|  123| king|2003-06-17|35000|  null|\n",
      "|  456|  seo|2005-12-15|20000|    50|\n",
      "|  789| null|2004-03-01|22000|    90|\n",
      "+-----+-----+----------+-----+------+\n",
      "\n"
     ]
    }
   ],
   "source": [
    "# 특정 컬럼 제거\n",
    "# drop(컬럼명)\n",
    "df2.drop('fname').show()"
   ]
  },
  {
   "cell_type": "code",
   "execution_count": 13,
   "id": "c4419bc8-cd74-40a2-9a5f-79be032ae4f7",
   "metadata": {},
   "outputs": [
    {
     "name": "stdout",
     "output_type": "stream",
     "text": [
      "+-----+-----+-----+------+\n",
      "|empno|fname|lname|deptid|\n",
      "+-----+-----+-----+------+\n",
      "|  123|steve| king|  null|\n",
      "|  456| john|  seo|    50|\n",
      "|  789|david| null|    90|\n",
      "+-----+-----+-----+------+\n",
      "\n"
     ]
    }
   ],
   "source": [
    "# 여러 컬럼 제거\n",
    "df2.drop('hdate','sal').show()"
   ]
  },
  {
   "cell_type": "code",
   "execution_count": null,
   "id": "fd3887f0-ebe8-485d-b3b7-3ab9b8433995",
   "metadata": {
    "tags": []
   },
   "outputs": [],
   "source": []
  },
  {
   "cell_type": "markdown",
   "id": "a87698d8-1dd7-43d5-b7c4-af9f31df9932",
   "metadata": {},
   "source": [
    "## csv 파일을 이용해서 데이터프레임 만들기\n",
    "+ read.csv(경로, 헤더여부, 스키마여부)"
   ]
  },
  {
   "cell_type": "code",
   "execution_count": 14,
   "id": "016d9ddf-8a5c-4a88-879b-35f3cf1c61b8",
   "metadata": {},
   "outputs": [
    {
     "name": "stdout",
     "output_type": "stream",
     "text": [
      "root\n",
      " |-- EMPLOYEE_ID: integer (nullable = true)\n",
      " |-- FIRST_NAME: string (nullable = true)\n",
      " |-- LAST_NAME: string (nullable = true)\n",
      " |-- EMAIL: string (nullable = true)\n",
      " |-- PHONE_NUMBER: string (nullable = true)\n",
      " |-- HIRE_DATE: timestamp (nullable = true)\n",
      " |-- JOB_ID: string (nullable = true)\n",
      " |-- SALARY: integer (nullable = true)\n",
      " |-- COMMISSION_PCT: double (nullable = true)\n",
      " |-- MANAGER_ID: integer (nullable = true)\n",
      " |-- DEPARTMENT_ID: integer (nullable = true)\n",
      "\n"
     ]
    }
   ],
   "source": [
    "emp = spark.read.csv(\"employees.csv\", header=True, inferSchema=True)\n",
    "emp.printSchema()    # 데이터프레임 스키마 출력"
   ]
  },
  {
   "cell_type": "code",
   "execution_count": 15,
   "id": "9a54c688-7ca7-43e6-9411-a308a3450c40",
   "metadata": {},
   "outputs": [
    {
     "data": {
      "text/plain": [
       "107"
      ]
     },
     "execution_count": 15,
     "metadata": {},
     "output_type": "execute_result"
    }
   ],
   "source": [
    "emp.count()"
   ]
  },
  {
   "cell_type": "code",
   "execution_count": 16,
   "id": "cd908d31-7c4b-4ee3-888c-aa177f9cbe7d",
   "metadata": {},
   "outputs": [
    {
     "data": {
      "text/plain": [
       "['EMPLOYEE_ID',\n",
       " 'FIRST_NAME',\n",
       " 'LAST_NAME',\n",
       " 'EMAIL',\n",
       " 'PHONE_NUMBER',\n",
       " 'HIRE_DATE',\n",
       " 'JOB_ID',\n",
       " 'SALARY',\n",
       " 'COMMISSION_PCT',\n",
       " 'MANAGER_ID',\n",
       " 'DEPARTMENT_ID']"
      ]
     },
     "execution_count": 16,
     "metadata": {},
     "output_type": "execute_result"
    }
   ],
   "source": [
    "emp.columns    # 데이터프레임 컬럼 목록 출력"
   ]
  },
  {
   "cell_type": "code",
   "execution_count": 17,
   "id": "b8348992-1e2b-4111-8b5f-cca45aaea557",
   "metadata": {},
   "outputs": [
    {
     "name": "stdout",
     "output_type": "stream",
     "text": [
      "+-----------+----------+---------+--------+------------+-------------------+-------+------+--------------+----------+-------------+\n",
      "|EMPLOYEE_ID|FIRST_NAME|LAST_NAME|   EMAIL|PHONE_NUMBER|          HIRE_DATE| JOB_ID|SALARY|COMMISSION_PCT|MANAGER_ID|DEPARTMENT_ID|\n",
      "+-----------+----------+---------+--------+------------+-------------------+-------+------+--------------+----------+-------------+\n",
      "|        100|    Steven|     King|   SKING|515.123.4567|2003-06-17 00:00:00|AD_PRES| 24000|          null|      null|           90|\n",
      "|        101|     Neena|  Kochhar|NKOCHHAR|515.123.4568|2005-09-21 00:00:00|  AD_VP| 17000|          null|       100|           90|\n",
      "|        102|       Lex|  De Haan| LDEHAAN|515.123.4569|2001-01-13 00:00:00|  AD_VP| 17000|          null|       100|           90|\n",
      "|        103| Alexander|   Hunold| AHUNOLD|590.423.4567|2006-01-03 00:00:00|IT_PROG|  9000|          null|       102|           60|\n",
      "|        104|     Bruce|    Ernst|  BERNST|590.423.4568|2007-05-21 00:00:00|IT_PROG|  6000|          null|       103|           60|\n",
      "+-----------+----------+---------+--------+------------+-------------------+-------+------+--------------+----------+-------------+\n",
      "only showing top 5 rows\n",
      "\n"
     ]
    }
   ],
   "source": [
    "emp.show(5)"
   ]
  },
  {
   "cell_type": "code",
   "execution_count": 18,
   "id": "d1be7ec8-eef8-4f3f-98d6-c1d7eeb473bb",
   "metadata": {},
   "outputs": [
    {
     "name": "stderr",
     "output_type": "stream",
     "text": [
      "                                                                                \r"
     ]
    },
    {
     "name": "stdout",
     "output_type": "stream",
     "text": [
      "+-------+----------------+----------+---------+-------+------------------+----------+------------------+-------------------+------------------+------------------+\n",
      "|summary|     EMPLOYEE_ID|FIRST_NAME|LAST_NAME|  EMAIL|      PHONE_NUMBER|    JOB_ID|            SALARY|     COMMISSION_PCT|        MANAGER_ID|     DEPARTMENT_ID|\n",
      "+-------+----------------+----------+---------+-------+------------------+----------+------------------+-------------------+------------------+------------------+\n",
      "|  count|             107|       107|      107|    107|               107|       107|               107|                 35|               106|               106|\n",
      "|   mean|           153.0|      null|     null|   null|              null|      null|6461.8317757009345|0.22285714285714286|124.76415094339623| 63.20754716981132|\n",
      "| stddev|31.0322412983658|      null|     null|   null|              null|      null|3909.5797305524825|0.08518393346757594|20.315395000692018|20.910110100200708|\n",
      "|    min|             100|      Adam|     Abel| ABANDA|011.44.1343.329268|AC_ACCOUNT|              2100|                0.1|               100|                10|\n",
      "|    25%|             126|      null|     null|   null|              null|      null|              3100|               0.15|               108|                50|\n",
      "|    50%|             153|      null|     null|   null|              null|      null|              6200|                0.2|               122|                50|\n",
      "|    75%|             180|      null|     null|   null|              null|      null|              9000|                0.3|               145|                80|\n",
      "|    max|             206|   Winston|  Zlotkey|WTAYLOR|      650.509.4876|    ST_MAN|             24000|                0.4|               205|               110|\n",
      "+-------+----------------+----------+---------+-------+------------------+----------+------------------+-------------------+------------------+------------------+\n",
      "\n",
      "+-------+-----------+----------+---------+-------+------------------+----------+------+--------------+----------+-------------+\n",
      "|summary|EMPLOYEE_ID|FIRST_NAME|LAST_NAME|  EMAIL|      PHONE_NUMBER|    JOB_ID|SALARY|COMMISSION_PCT|MANAGER_ID|DEPARTMENT_ID|\n",
      "+-------+-----------+----------+---------+-------+------------------+----------+------+--------------+----------+-------------+\n",
      "|  count|        107|       107|      107|    107|               107|       107|   107|            35|       106|          106|\n",
      "|    min|        100|      Adam|     Abel| ABANDA|011.44.1343.329268|AC_ACCOUNT|  2100|           0.1|       100|           10|\n",
      "|    max|        206|   Winston|  Zlotkey|WTAYLOR|      650.509.4876|    ST_MAN| 24000|           0.4|       205|          110|\n",
      "+-------+-----------+----------+---------+-------+------------------+----------+------+--------------+----------+-------------+\n",
      "\n"
     ]
    }
   ],
   "source": [
    "# 데이터 요약 보기\n",
    "# summary(통계항목)\n",
    "emp.summary().show()\n",
    "emp.summary('count','min','max').show()"
   ]
  },
  {
   "cell_type": "code",
   "execution_count": 19,
   "id": "814884a7-2d16-4415-9c8c-5abfcea236c0",
   "metadata": {},
   "outputs": [
    {
     "name": "stdout",
     "output_type": "stream",
     "text": [
      "+-------+------------------+-------------------+\n",
      "|summary|            SALARY|     COMMISSION_PCT|\n",
      "+-------+------------------+-------------------+\n",
      "|  count|               107|                 35|\n",
      "|   mean|6461.8317757009345|0.22285714285714286|\n",
      "| stddev|3909.5797305524825|0.08518393346757594|\n",
      "|    min|              2100|                0.1|\n",
      "|    25%|              3100|               0.15|\n",
      "|    50%|              6200|                0.2|\n",
      "|    75%|              9000|                0.3|\n",
      "|    max|             24000|                0.4|\n",
      "+-------+------------------+-------------------+\n",
      "\n"
     ]
    }
   ],
   "source": [
    "emp.select('SALARY','COMMISSION_PCT').summary().show()"
   ]
  },
  {
   "cell_type": "code",
   "execution_count": null,
   "id": "669cf441-cf77-480d-823d-d025c936c51f",
   "metadata": {},
   "outputs": [],
   "source": []
  },
  {
   "cell_type": "markdown",
   "id": "11f46fe9-07e6-4f21-9452-ac472fbdcc98",
   "metadata": {},
   "source": [
    "## 데이터프레임 데이터 탐색\n",
    "+ select : 컬럼 선택\n",
    "+ filter : 조건 검색\n",
    "+ where : 고급 조건 검색\n",
    "+ orderBy : 정렬\n",
    "+ groupBy : 그룹화"
   ]
  },
  {
   "cell_type": "code",
   "execution_count": 20,
   "id": "d6e2762a-263e-4567-a809-db7aa647954b",
   "metadata": {},
   "outputs": [
    {
     "name": "stdout",
     "output_type": "stream",
     "text": [
      "+----------+---------+\n",
      "|FIRST_NAME|LAST_NAME|\n",
      "+----------+---------+\n",
      "|    Steven|     King|\n",
      "|     Neena|  Kochhar|\n",
      "|       Lex|  De Haan|\n",
      "| Alexander|   Hunold|\n",
      "|     Bruce|    Ernst|\n",
      "+----------+---------+\n",
      "only showing top 5 rows\n",
      "\n"
     ]
    }
   ],
   "source": [
    "# 모든 사원의 이름 조회\n",
    "emp.select(['FIRST_NAME','LAST_NAME']).show(5)"
   ]
  },
  {
   "cell_type": "code",
   "execution_count": 21,
   "id": "aee3c28c-c74e-497e-b900-d793a18c6dbb",
   "metadata": {},
   "outputs": [
    {
     "name": "stdout",
     "output_type": "stream",
     "text": [
      "+-----------+----------+---------+--------+------------+-------------------+-------+------+--------------+----------+-------------+\n",
      "|EMPLOYEE_ID|FIRST_NAME|LAST_NAME|   EMAIL|PHONE_NUMBER|          HIRE_DATE| JOB_ID|SALARY|COMMISSION_PCT|MANAGER_ID|DEPARTMENT_ID|\n",
      "+-----------+----------+---------+--------+------------+-------------------+-------+------+--------------+----------+-------------+\n",
      "|        100|    Steven|     King|   SKING|515.123.4567|2003-06-17 00:00:00|AD_PRES| 24000|          null|      null|           90|\n",
      "|        101|     Neena|  Kochhar|NKOCHHAR|515.123.4568|2005-09-21 00:00:00|  AD_VP| 17000|          null|       100|           90|\n",
      "|        102|       Lex|  De Haan| LDEHAAN|515.123.4569|2001-01-13 00:00:00|  AD_VP| 17000|          null|       100|           90|\n",
      "|        103| Alexander|   Hunold| AHUNOLD|590.423.4567|2006-01-03 00:00:00|IT_PROG|  9000|          null|       102|           60|\n",
      "|        108|     Nancy|Greenberg|NGREENBE|515.124.4569|2002-08-17 00:00:00| FI_MGR| 12008|          null|       101|          100|\n",
      "+-----------+----------+---------+--------+------------+-------------------+-------+------+--------------+----------+-------------+\n",
      "only showing top 5 rows\n",
      "\n"
     ]
    }
   ],
   "source": [
    "# 급여가 7000 이상인 사원 조회\n",
    "emp.filter(emp['SALARY'] >= 7000).show(5)"
   ]
  },
  {
   "cell_type": "code",
   "execution_count": 22,
   "id": "835726d5-18d8-449b-a9d4-9ec1c092ca4e",
   "metadata": {},
   "outputs": [
    {
     "data": {
      "text/plain": [
       "47"
      ]
     },
     "execution_count": 22,
     "metadata": {},
     "output_type": "execute_result"
    }
   ],
   "source": [
    "# 급여가 7000 이상인 사원의 수 조회\n",
    "emp.filter(emp['SALARY'] >= 7000).count()"
   ]
  },
  {
   "cell_type": "code",
   "execution_count": 23,
   "id": "75aa4229-8fbe-4990-8300-1f090576789a",
   "metadata": {},
   "outputs": [
    {
     "name": "stdout",
     "output_type": "stream",
     "text": [
      "+-----------+-----------+-----------+--------+------------+-------------------+----------+------+--------------+----------+-------------+\n",
      "|EMPLOYEE_ID| FIRST_NAME|  LAST_NAME|   EMAIL|PHONE_NUMBER|          HIRE_DATE|    JOB_ID|SALARY|COMMISSION_PCT|MANAGER_ID|DEPARTMENT_ID|\n",
      "+-----------+-----------+-----------+--------+------------+-------------------+----------+------+--------------+----------+-------------+\n",
      "|        106|      Valli|  Pataballa|VPATABAL|590.423.4560|2006-02-05 00:00:00|   IT_PROG|  4800|          null|       103|           60|\n",
      "|        112|Jose Manuel|      Urman| JMURMAN|515.124.4469|2006-03-07 00:00:00|FI_ACCOUNT|  7800|          null|       108|          100|\n",
      "|        126|      Irene|Mikkilineni|IMIKKILI|650.124.1224|2006-09-28 00:00:00|  ST_CLERK|  2700|          null|       120|           50|\n",
      "|        134|    Michael|     Rogers| MROGERS|650.127.1834|2006-08-26 00:00:00|  ST_CLERK|  2900|          null|       122|           50|\n",
      "|        139|       John|        Seo|    JSEO|650.121.2019|2006-02-12 00:00:00|  ST_CLERK|  2700|          null|       123|           50|\n",
      "+-----------+-----------+-----------+--------+------------+-------------------+----------+------+--------------+----------+-------------+\n",
      "only showing top 5 rows\n",
      "\n"
     ]
    }
   ],
   "source": [
    "# 2006-02-05부터 2006-11-15 사이에 고용된 사원 조회\n",
    "emp.filter((emp['HIRE_DATE'] >= '2006-02-05')&(emp['HIRE_DATE'] <= '2006-11-15')).show(5)"
   ]
  },
  {
   "cell_type": "code",
   "execution_count": 24,
   "id": "008c38d9-05c8-42e0-bab8-fa0b83f3b7f7",
   "metadata": {},
   "outputs": [
    {
     "name": "stdout",
     "output_type": "stream",
     "text": [
      "+-----------+-----------+-----------+--------+------------+-------------------+----------+------+--------------+----------+-------------+\n",
      "|EMPLOYEE_ID| FIRST_NAME|  LAST_NAME|   EMAIL|PHONE_NUMBER|          HIRE_DATE|    JOB_ID|SALARY|COMMISSION_PCT|MANAGER_ID|DEPARTMENT_ID|\n",
      "+-----------+-----------+-----------+--------+------------+-------------------+----------+------+--------------+----------+-------------+\n",
      "|        106|      Valli|  Pataballa|VPATABAL|590.423.4560|2006-02-05 00:00:00|   IT_PROG|  4800|          null|       103|           60|\n",
      "|        112|Jose Manuel|      Urman| JMURMAN|515.124.4469|2006-03-07 00:00:00|FI_ACCOUNT|  7800|          null|       108|          100|\n",
      "|        126|      Irene|Mikkilineni|IMIKKILI|650.124.1224|2006-09-28 00:00:00|  ST_CLERK|  2700|          null|       120|           50|\n",
      "|        134|    Michael|     Rogers| MROGERS|650.127.1834|2006-08-26 00:00:00|  ST_CLERK|  2900|          null|       122|           50|\n",
      "|        139|       John|        Seo|    JSEO|650.121.2019|2006-02-12 00:00:00|  ST_CLERK|  2700|          null|       123|           50|\n",
      "+-----------+-----------+-----------+--------+------------+-------------------+----------+------+--------------+----------+-------------+\n",
      "only showing top 5 rows\n",
      "\n"
     ]
    }
   ],
   "source": [
    "emp.where((emp['HIRE_DATE'] >= '2006-02-05')&(emp['HIRE_DATE'] <= '2006-11-15')).show(5)"
   ]
  },
  {
   "cell_type": "code",
   "execution_count": 25,
   "id": "76ea2a44-718d-4d2a-8c13-d7ae47d2a526",
   "metadata": {},
   "outputs": [
    {
     "name": "stderr",
     "output_type": "stream",
     "text": [
      "[Stage 34:===================================>                    (47 + 1) / 75]"
     ]
    },
    {
     "name": "stdout",
     "output_type": "stream",
     "text": [
      "+-------------+-----+\n",
      "|DEPARTMENT_ID|count|\n",
      "+-------------+-----+\n",
      "|         null|    1|\n",
      "|           20|    2|\n",
      "|           40|    1|\n",
      "|          100|    6|\n",
      "|           10|    1|\n",
      "|           50|   45|\n",
      "|           80|   34|\n",
      "|           70|    1|\n",
      "|           90|    3|\n",
      "|           60|    5|\n",
      "|          110|    2|\n",
      "|           30|    6|\n",
      "+-------------+-----+\n",
      "\n"
     ]
    },
    {
     "name": "stderr",
     "output_type": "stream",
     "text": [
      "                                                                                \r"
     ]
    }
   ],
   "source": [
    "# 부서번호별 사원수 조회\n",
    "emp.groupBy('DEPARTMENT_ID').count().show()"
   ]
  },
  {
   "cell_type": "code",
   "execution_count": 26,
   "id": "78a1f6ef-c4e9-4099-8fc3-14a078e3addf",
   "metadata": {},
   "outputs": [
    {
     "name": "stderr",
     "output_type": "stream",
     "text": [
      "[Stage 36:=========================================>            (154 + 1) / 200]"
     ]
    },
    {
     "name": "stdout",
     "output_type": "stream",
     "text": [
      "+-------------+-----+\n",
      "|DEPARTMENT_ID|count|\n",
      "+-------------+-----+\n",
      "|         null|    1|\n",
      "|           10|    1|\n",
      "|           20|    2|\n",
      "|           30|    6|\n",
      "|           40|    1|\n",
      "|           50|   45|\n",
      "|           60|    5|\n",
      "|           70|    1|\n",
      "|           80|   34|\n",
      "|           90|    3|\n",
      "|          100|    6|\n",
      "|          110|    2|\n",
      "+-------------+-----+\n",
      "\n"
     ]
    },
    {
     "name": "stderr",
     "output_type": "stream",
     "text": [
      "                                                                                \r"
     ]
    }
   ],
   "source": [
    "# 부서번호별 사원수 조회 후 부서번호 순으로 정렬\n",
    "emp.groupBy('DEPARTMENT_ID').count().orderBy('DEPARTMENT_ID').show()"
   ]
  },
  {
   "cell_type": "code",
   "execution_count": 27,
   "id": "168de16a-6bbd-4e9c-96cb-2ad3b451f605",
   "metadata": {},
   "outputs": [
    {
     "name": "stderr",
     "output_type": "stream",
     "text": [
      "                                                                                \r"
     ]
    },
    {
     "name": "stdout",
     "output_type": "stream",
     "text": [
      "+----------+-----+\n",
      "|    JOB_ID|count|\n",
      "+----------+-----+\n",
      "|FI_ACCOUNT|    5|\n",
      "|    MK_MAN|    1|\n",
      "|   IT_PROG|    5|\n",
      "|    FI_MGR|    1|\n",
      "|AC_ACCOUNT|    1|\n",
      "|    HR_REP|    1|\n",
      "|  PU_CLERK|    5|\n",
      "|    AC_MGR|    1|\n",
      "|    PR_REP|    1|\n",
      "|    ST_MAN|    5|\n",
      "|    MK_REP|    1|\n",
      "|    SA_REP|   30|\n",
      "|    SA_MAN|    5|\n",
      "|    PU_MAN|    1|\n",
      "|  SH_CLERK|   20|\n",
      "|   AD_PRES|    1|\n",
      "|  ST_CLERK|   20|\n",
      "|   AD_ASST|    1|\n",
      "|     AD_VP|    2|\n",
      "+----------+-----+\n",
      "\n"
     ]
    }
   ],
   "source": [
    "# 직책별 사원수 조회\n",
    "emp.groupBy('JOB_ID').count().show()"
   ]
  },
  {
   "cell_type": "code",
   "execution_count": 28,
   "id": "8717728a-e1cf-43dd-ba80-240a4f34b4d4",
   "metadata": {},
   "outputs": [
    {
     "name": "stderr",
     "output_type": "stream",
     "text": [
      "[Stage 48:=========================================>            (154 + 1) / 200]"
     ]
    },
    {
     "name": "stdout",
     "output_type": "stream",
     "text": [
      "+----------+-----+\n",
      "|    JOB_ID|count|\n",
      "+----------+-----+\n",
      "|AC_ACCOUNT|    1|\n",
      "|    AC_MGR|    1|\n",
      "|   AD_ASST|    1|\n",
      "|   AD_PRES|    1|\n",
      "|     AD_VP|    2|\n",
      "|FI_ACCOUNT|    5|\n",
      "|    FI_MGR|    1|\n",
      "|    HR_REP|    1|\n",
      "|   IT_PROG|    5|\n",
      "|    MK_MAN|    1|\n",
      "|    MK_REP|    1|\n",
      "|    PR_REP|    1|\n",
      "|  PU_CLERK|    5|\n",
      "|    PU_MAN|    1|\n",
      "|    SA_MAN|    5|\n",
      "|    SA_REP|   30|\n",
      "|  SH_CLERK|   20|\n",
      "|  ST_CLERK|   20|\n",
      "|    ST_MAN|    5|\n",
      "+----------+-----+\n",
      "\n"
     ]
    },
    {
     "name": "stderr",
     "output_type": "stream",
     "text": [
      "                                                                                \r"
     ]
    }
   ],
   "source": [
    "# 직책별 사원수 조회 후 직책 순으로 정렬\n",
    "emp.groupBy('JOB_ID').count().orderBy('JOB_ID').show()"
   ]
  },
  {
   "cell_type": "code",
   "execution_count": 29,
   "id": "9b94c45e-d550-4f13-ad38-276ba93460e7",
   "metadata": {},
   "outputs": [
    {
     "name": "stderr",
     "output_type": "stream",
     "text": [
      "[Stage 50:===========================================>          (161 + 1) / 200]"
     ]
    },
    {
     "name": "stdout",
     "output_type": "stream",
     "text": [
      "+----------+-----+\n",
      "|    JOB_ID|count|\n",
      "+----------+-----+\n",
      "|    SA_REP|   30|\n",
      "|  SH_CLERK|   20|\n",
      "|  ST_CLERK|   20|\n",
      "|   IT_PROG|    5|\n",
      "|    ST_MAN|    5|\n",
      "|    SA_MAN|    5|\n",
      "|  PU_CLERK|    5|\n",
      "|FI_ACCOUNT|    5|\n",
      "|     AD_VP|    2|\n",
      "|    MK_MAN|    1|\n",
      "|    FI_MGR|    1|\n",
      "|    HR_REP|    1|\n",
      "|    AC_MGR|    1|\n",
      "|AC_ACCOUNT|    1|\n",
      "|    PU_MAN|    1|\n",
      "|   AD_PRES|    1|\n",
      "|    PR_REP|    1|\n",
      "|    MK_REP|    1|\n",
      "|   AD_ASST|    1|\n",
      "+----------+-----+\n",
      "\n"
     ]
    },
    {
     "name": "stderr",
     "output_type": "stream",
     "text": [
      "                                                                                \r"
     ]
    }
   ],
   "source": [
    "# 직책별 사원수 조회 후 사원수 순으로 내림정렬\n",
    "emp.groupBy('JOB_ID').count().orderBy('count', ascending=False).show()"
   ]
  },
  {
   "cell_type": "markdown",
   "id": "10f10fdb-2b67-4b64-91f2-0b2b56c51253",
   "metadata": {},
   "source": [
    "## 집계함수 사용하기\n",
    "+ agg(집계함수명)"
   ]
  },
  {
   "cell_type": "code",
   "execution_count": 30,
   "id": "26ad00ea-eeb8-4827-97b6-5406341a488a",
   "metadata": {},
   "outputs": [],
   "source": [
    "import pyspark.sql.functions as F"
   ]
  },
  {
   "cell_type": "code",
   "execution_count": 31,
   "id": "6b9e196c-b08f-4f56-8b3f-cdd814f3c3ca",
   "metadata": {},
   "outputs": [
    {
     "name": "stderr",
     "output_type": "stream",
     "text": [
      "                                                                                \r"
     ]
    },
    {
     "name": "stdout",
     "output_type": "stream",
     "text": [
      "+----------+-----------+\n",
      "|    JOB_ID|avg(SALARY)|\n",
      "+----------+-----------+\n",
      "|FI_ACCOUNT|     7920.0|\n",
      "|    MK_MAN|    13000.0|\n",
      "|   IT_PROG|     5760.0|\n",
      "|    FI_MGR|    12008.0|\n",
      "|AC_ACCOUNT|     8300.0|\n",
      "|    HR_REP|     6500.0|\n",
      "|  PU_CLERK|     2780.0|\n",
      "|    AC_MGR|    12008.0|\n",
      "|    PR_REP|    10000.0|\n",
      "|    ST_MAN|     7280.0|\n",
      "|    MK_REP|     6000.0|\n",
      "|    SA_REP|     8350.0|\n",
      "|    SA_MAN|    12200.0|\n",
      "|    PU_MAN|    11000.0|\n",
      "|  SH_CLERK|     3215.0|\n",
      "|   AD_PRES|    24000.0|\n",
      "|  ST_CLERK|     2785.0|\n",
      "|   AD_ASST|     4400.0|\n",
      "|     AD_VP|    17000.0|\n",
      "+----------+-----------+\n",
      "\n"
     ]
    },
    {
     "name": "stderr",
     "output_type": "stream",
     "text": [
      "                                                                                \r"
     ]
    },
    {
     "name": "stdout",
     "output_type": "stream",
     "text": [
      "+----------+-----------+\n",
      "|    JOB_ID|avg(SALARY)|\n",
      "+----------+-----------+\n",
      "|   AD_PRES|    24000.0|\n",
      "|     AD_VP|    17000.0|\n",
      "|    MK_MAN|    13000.0|\n",
      "|    SA_MAN|    12200.0|\n",
      "|    FI_MGR|    12008.0|\n",
      "|    AC_MGR|    12008.0|\n",
      "|    PU_MAN|    11000.0|\n",
      "|    PR_REP|    10000.0|\n",
      "|    SA_REP|     8350.0|\n",
      "|AC_ACCOUNT|     8300.0|\n",
      "|FI_ACCOUNT|     7920.0|\n",
      "|    ST_MAN|     7280.0|\n",
      "|    HR_REP|     6500.0|\n",
      "|    MK_REP|     6000.0|\n",
      "|   IT_PROG|     5760.0|\n",
      "|   AD_ASST|     4400.0|\n",
      "|  SH_CLERK|     3215.0|\n",
      "|  ST_CLERK|     2785.0|\n",
      "|  PU_CLERK|     2780.0|\n",
      "+----------+-----------+\n",
      "\n"
     ]
    },
    {
     "name": "stderr",
     "output_type": "stream",
     "text": [
      "[Stage 64:=========================================>            (153 + 1) / 200]"
     ]
    },
    {
     "name": "stdout",
     "output_type": "stream",
     "text": [
      "+----------+--------+\n",
      "|    JOB_ID|mean sal|\n",
      "+----------+--------+\n",
      "|   AD_PRES| 24000.0|\n",
      "|     AD_VP| 17000.0|\n",
      "|    MK_MAN| 13000.0|\n",
      "|    SA_MAN| 12200.0|\n",
      "|    FI_MGR| 12008.0|\n",
      "|    AC_MGR| 12008.0|\n",
      "|    PU_MAN| 11000.0|\n",
      "|    PR_REP| 10000.0|\n",
      "|    SA_REP|  8350.0|\n",
      "|AC_ACCOUNT|  8300.0|\n",
      "|FI_ACCOUNT|  7920.0|\n",
      "|    ST_MAN|  7280.0|\n",
      "|    HR_REP|  6500.0|\n",
      "|    MK_REP|  6000.0|\n",
      "|   IT_PROG|  5760.0|\n",
      "|   AD_ASST|  4400.0|\n",
      "|  SH_CLERK|  3215.0|\n",
      "|  ST_CLERK|  2785.0|\n",
      "|  PU_CLERK|  2780.0|\n",
      "+----------+--------+\n",
      "\n"
     ]
    },
    {
     "name": "stderr",
     "output_type": "stream",
     "text": [
      "                                                                                \r"
     ]
    }
   ],
   "source": [
    "# 직책별 평균 급여를 조회\n",
    "rs = emp.groupBy('JOB_ID').agg(F.avg('SALARY'))\n",
    "rs.show()\n",
    "rs.orderBy('avg(SALARY)', ascending=False).show()    # 내림차순으로 정렬\n",
    "\n",
    "rs = emp.groupBy('JOB_ID').agg(F.avg('SALARY').alias('mean sal'))    # 별칭 부여\n",
    "rs.orderBy('mean sal', ascending=False).show()"
   ]
  },
  {
   "cell_type": "code",
   "execution_count": null,
   "id": "685f2e7e-322f-48ce-9fa4-b47f7b30df6f",
   "metadata": {},
   "outputs": [],
   "source": []
  },
  {
   "cell_type": "code",
   "execution_count": 34,
   "id": "1b41b178-4c22-4f60-b96e-bf8de3a97c74",
   "metadata": {},
   "outputs": [
    {
     "name": "stdout",
     "output_type": "stream",
     "text": [
      "+----------+\n",
      "|    JOB_ID|\n",
      "+----------+\n",
      "|FI_ACCOUNT|\n",
      "|    MK_MAN|\n",
      "|   IT_PROG|\n",
      "|    FI_MGR|\n",
      "|AC_ACCOUNT|\n",
      "|    HR_REP|\n",
      "|  PU_CLERK|\n",
      "|    AC_MGR|\n",
      "|    PR_REP|\n",
      "|    ST_MAN|\n",
      "|    MK_REP|\n",
      "|    SA_REP|\n",
      "|    SA_MAN|\n",
      "|    PU_MAN|\n",
      "|  SH_CLERK|\n",
      "|   AD_PRES|\n",
      "|  ST_CLERK|\n",
      "|   AD_ASST|\n",
      "|     AD_VP|\n",
      "+----------+\n",
      "\n"
     ]
    }
   ],
   "source": [
    "# 사원들의 직책을 모두 출력하세요,\n",
    "# 단 중복없이 하나씩만 표시되도록 합니다.(distinct)\n",
    "\n",
    "emp.select('JOB_ID').distinct().show()"
   ]
  },
  {
   "cell_type": "code",
   "execution_count": 35,
   "id": "1ce9729d-d9d1-48d3-ac2c-60b119a39314",
   "metadata": {},
   "outputs": [
    {
     "name": "stderr",
     "output_type": "stream",
     "text": [
      "                                                                                \r"
     ]
    },
    {
     "data": {
      "text/plain": [
       "19"
      ]
     },
     "execution_count": 35,
     "metadata": {},
     "output_type": "execute_result"
    }
   ],
   "source": [
    "# 모든 직책 수는? (중복 제외하고 카운팅)\n",
    "\n",
    "emp.select('JOB_ID').distinct().count()"
   ]
  },
  {
   "cell_type": "code",
   "execution_count": 36,
   "id": "a85420ae-3b0d-445b-85ab-bf2303903900",
   "metadata": {},
   "outputs": [
    {
     "name": "stderr",
     "output_type": "stream",
     "text": [
      "[Stage 79:==========================================>           (159 + 1) / 200]"
     ]
    },
    {
     "name": "stdout",
     "output_type": "stream",
     "text": [
      "+------+\n",
      "|JOB_ID|\n",
      "+------+\n",
      "|    19|\n",
      "+------+\n",
      "\n"
     ]
    },
    {
     "name": "stderr",
     "output_type": "stream",
     "text": [
      "                                                                                \r"
     ]
    }
   ],
   "source": [
    "emp.select(F.countDistinct('JOB_ID').alias('JOB_ID')).show()"
   ]
  },
  {
   "cell_type": "code",
   "execution_count": 41,
   "id": "f5918cdf-7cce-4e05-a33d-3d14651edfdf",
   "metadata": {},
   "outputs": [
    {
     "name": "stdout",
     "output_type": "stream",
     "text": [
      "+----------+-------+------+-------+\n",
      "|FIRST_NAME| JOB_ID|SALARY|  5%sal|\n",
      "+----------+-------+------+-------+\n",
      "|    Steven|AD_PRES| 24000|25200.0|\n",
      "|     Neena|  AD_VP| 17000|17850.0|\n",
      "|       Lex|  AD_VP| 17000|17850.0|\n",
      "| Alexander|IT_PROG|  9000| 9450.0|\n",
      "|     Bruce|IT_PROG|  6000| 6300.0|\n",
      "+----------+-------+------+-------+\n",
      "only showing top 5 rows\n",
      "\n"
     ]
    }
   ],
   "source": [
    "# 사원의 이름, 직책, 급여 출력하세요\n",
    "# 단, 5% 인상한 급여도 같이 출력합니다.\n",
    "\n",
    "# select sal, sal * 1.05 from emp\n",
    "# emp.select('FIRST_NAME','JOB_ID','SALARY', emp.SALARY * 1.05).show()\n",
    "\n",
    "emp.select('FIRST_NAME','JOB_ID','SALARY', (emp.SALARY * 1.05).alias('5%sal')).show(5)"
   ]
  },
  {
   "cell_type": "code",
   "execution_count": 50,
   "id": "0f59578a-ae1a-44a8-a05e-a60c8b2019f2",
   "metadata": {},
   "outputs": [
    {
     "name": "stdout",
     "output_type": "stream",
     "text": [
      "+-----------+----------+---------+--------+------------+-------------------+------+------+--------------+----------+-------------+\n",
      "|EMPLOYEE_ID|FIRST_NAME|LAST_NAME|   EMAIL|PHONE_NUMBER|          HIRE_DATE|JOB_ID|SALARY|COMMISSION_PCT|MANAGER_ID|DEPARTMENT_ID|\n",
      "+-----------+----------+---------+--------+------------+-------------------+------+------+--------------+----------+-------------+\n",
      "|        124|     Kevin|  Mourgos|KMOURGOS|650.123.5234|2007-11-16 00:00:00|ST_MAN|  5800|          null|       100|           50|\n",
      "|        202|       Pat|      Fay|    PFAY|603.123.6666|2005-08-17 00:00:00|MK_REP|  6000|          null|       201|           20|\n",
      "|        123|    Shanta|  Vollman|SVOLLMAN|650.123.4234|2005-10-10 00:00:00|ST_MAN|  6500|          null|       100|           50|\n",
      "|        122|     Payam| Kaufling|PKAUFLIN|650.123.3234|2003-05-01 00:00:00|ST_MAN|  7900|          null|       100|           50|\n",
      "|        120|   Matthew|    Weiss|  MWEISS|650.123.1234|2004-07-18 00:00:00|ST_MAN|  8000|          null|       100|           50|\n",
      "+-----------+----------+---------+--------+------------+-------------------+------+------+--------------+----------+-------------+\n",
      "only showing top 5 rows\n",
      "\n"
     ]
    }
   ],
   "source": [
    "# 20 번 또는 50 번 부서에 근무하며, 급여가 5000 ~ 12,000 사이인 사원들의 LAST_NAME 및 급여을 조회하세요\n",
    "\n",
    "# emp.filter((emp.DEPARTMENT_ID == 20) | (emp.DEPARTMENT_ID == 50)).filter((emp.SALARY >= 5000 ) & (emp.SALARY <= 12000)).show(5)\n",
    "\n",
    "emp.filter((emp.DEPARTMENT_ID == 20) | (emp.DEPARTMENT_ID == 50)).filter((emp.SALARY >= 5000 ) & (emp.SALARY <= 12000)) \\\n",
    ".orderBy('SALARY').show(5)"
   ]
  },
  {
   "cell_type": "code",
   "execution_count": null,
   "id": "04e77ec8-c364-49e4-8982-aa58dbbb28d5",
   "metadata": {},
   "outputs": [],
   "source": []
  },
  {
   "cell_type": "code",
   "execution_count": null,
   "id": "da53a99a-0318-4781-aaf1-76784e8942d8",
   "metadata": {},
   "outputs": [],
   "source": [
    "\n"
   ]
  }
 ],
 "metadata": {
  "kernelspec": {
   "display_name": "Python 3 (ipykernel)",
   "language": "python",
   "name": "python3"
  },
  "language_info": {
   "codemirror_mode": {
    "name": "ipython",
    "version": 3
   },
   "file_extension": ".py",
   "mimetype": "text/x-python",
   "name": "python",
   "nbconvert_exporter": "python",
   "pygments_lexer": "ipython3",
   "version": "3.7.10"
  }
 },
 "nbformat": 4,
 "nbformat_minor": 5
}
