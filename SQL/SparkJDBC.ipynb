{
 "cells": [
  {
   "cell_type": "markdown",
   "id": "d8c48858-d925-4f73-9eb5-cd190fa0d3d6",
   "metadata": {
    "tags": []
   },
   "source": [
    "# Spark JDBC\n",
    "+ MariaDB나 Oracle에 저장된 테이블을 불러와서\n",
    "+ 분석을 하려면 pyspark 실행시 JDBC 드라이버를 지정해야 함\n",
    "+ pyspark --driver-class-path '사용할 jdbc 드라이버'"
   ]
  },
  {
   "cell_type": "code",
   "execution_count": 1,
   "id": "bac82548-3ce1-4ed0-84f0-b19ddb721351",
   "metadata": {},
   "outputs": [],
   "source": [
    "# 디비버 접속 유저, 패스워드\n",
    "\n",
    "url = 'jdbc:mysql://bigdata.cjsnjphl4oxy.ap-northeast-2.rds.amazonaws.com:3306/bigdata'\n",
    "user = 'admin'\n",
    "password = 'bigdata2020'"
   ]
  },
  {
   "cell_type": "code",
   "execution_count": 2,
   "id": "c663fcb0-cda8-4a1d-a237-711a46206dbc",
   "metadata": {},
   "outputs": [],
   "source": [
    "emp = spark.read.format('jdbc').options(url=url, user=user, password=password, dbtable='employees').load()"
   ]
  },
  {
   "cell_type": "code",
   "execution_count": 3,
   "id": "a5cbddeb-bf4c-4d05-8982-685572fa22dc",
   "metadata": {},
   "outputs": [
    {
     "name": "stdout",
     "output_type": "stream",
     "text": [
      "root\n",
      " |-- EMPLOYEE_ID: integer (nullable = true)\n",
      " |-- FIRST_NAME: string (nullable = true)\n",
      " |-- LAST_NAME: string (nullable = true)\n",
      " |-- EMAIL: string (nullable = true)\n",
      " |-- PHONE_NUMBER: string (nullable = true)\n",
      " |-- HIRE_DATE: string (nullable = true)\n",
      " |-- JOB_ID: string (nullable = true)\n",
      " |-- SALARY: integer (nullable = true)\n",
      " |-- COMMISSION_PCT: double (nullable = true)\n",
      " |-- MANAGER_ID: integer (nullable = true)\n",
      " |-- DEPARTMENT_ID: integer (nullable = true)\n",
      "\n"
     ]
    }
   ],
   "source": [
    "emp.printSchema()"
   ]
  },
  {
   "cell_type": "code",
   "execution_count": 4,
   "id": "5bd9d279-77c6-4cfd-b302-9185773ab88f",
   "metadata": {},
   "outputs": [
    {
     "name": "stdout",
     "output_type": "stream",
     "text": [
      "+----------+\n",
      "|FIRST_NAME|\n",
      "+----------+\n",
      "|    Steven|\n",
      "|     Neena|\n",
      "|       Lex|\n",
      "| Alexander|\n",
      "|     Bruce|\n",
      "+----------+\n",
      "only showing top 5 rows\n",
      "\n"
     ]
    },
    {
     "name": "stderr",
     "output_type": "stream",
     "text": [
      "                                                                                \r"
     ]
    }
   ],
   "source": [
    "emp.select('FIRST_NAME').show(5)"
   ]
  },
  {
   "cell_type": "code",
   "execution_count": 5,
   "id": "6c39b060-e999-4fe7-a835-d1ac23c20489",
   "metadata": {},
   "outputs": [],
   "source": [
    "EMP = emp.createOrReplaceTempView('EMP')"
   ]
  },
  {
   "cell_type": "code",
   "execution_count": 6,
   "id": "112c161e-c423-4a57-ba35-079f9484fdc0",
   "metadata": {},
   "outputs": [
    {
     "name": "stdout",
     "output_type": "stream",
     "text": [
      "+----------+\n",
      "|FIRST_NAME|\n",
      "+----------+\n",
      "|    Steven|\n",
      "|     Neena|\n",
      "|       Lex|\n",
      "| Alexander|\n",
      "|     Bruce|\n",
      "+----------+\n",
      "only showing top 5 rows\n",
      "\n"
     ]
    },
    {
     "name": "stderr",
     "output_type": "stream",
     "text": [
      "21/10/11 05:49:56 WARN ObjectStore: Failed to get database global_temp, returning NoSuchObjectException\n"
     ]
    }
   ],
   "source": [
    "spark.sql('select FIRST_NAME from EMP').show(5)"
   ]
  },
  {
   "cell_type": "code",
   "execution_count": null,
   "id": "4aafcaf7-4bc7-44fa-bedc-300e06dcff82",
   "metadata": {},
   "outputs": [],
   "source": []
  },
  {
   "cell_type": "code",
   "execution_count": 11,
   "id": "0cfcff61-2133-4953-925b-185ed73bdd58",
   "metadata": {},
   "outputs": [],
   "source": [
    "# summermedals.csv 파일을 mariadb 서버에 업로드하고\n",
    "# spark를 이용해서 금메달을 가장 많이 딴 나라순으로 조회해보세요\n",
    "# 단, 조회방식은 spark DSL과 SQL을 이용합니다\n",
    "\n",
    "summermedals = spark.read.format('jdbc').options(url=url, user=user, password=password, dbtable='summermedals').load()"
   ]
  },
  {
   "cell_type": "code",
   "execution_count": 12,
   "id": "5dd4d246-b7df-4667-b9ce-8230cbf33559",
   "metadata": {},
   "outputs": [
    {
     "name": "stdout",
     "output_type": "stream",
     "text": [
      "root\n",
      " |-- Year: integer (nullable = true)\n",
      " |-- City: string (nullable = true)\n",
      " |-- Sport: string (nullable = true)\n",
      " |-- Discipline: string (nullable = true)\n",
      " |-- Athlete: string (nullable = true)\n",
      " |-- Country: string (nullable = true)\n",
      " |-- Gender: string (nullable = true)\n",
      " |-- Event: string (nullable = true)\n",
      " |-- Medal: string (nullable = true)\n",
      "\n"
     ]
    }
   ],
   "source": [
    "summermedals.printSchema()"
   ]
  },
  {
   "cell_type": "code",
   "execution_count": 13,
   "id": "808fc245-6f73-48f5-b572-d29c019158dd",
   "metadata": {},
   "outputs": [],
   "source": [
    "SUMMERMEDALS = summermedals\\\n",
    "         .createOrReplaceTempView('SUMMERMEDALS')"
   ]
  },
  {
   "cell_type": "code",
   "execution_count": 14,
   "id": "e1854443-ef20-488c-b4c4-c9ec74b93114",
   "metadata": {},
   "outputs": [
    {
     "name": "stderr",
     "output_type": "stream",
     "text": [
      "[Stage 3:==================================================>    (182 + 1) / 200]"
     ]
    },
    {
     "name": "stdout",
     "output_type": "stream",
     "text": [
      "+-------+----+\n",
      "|Country| cnt|\n",
      "+-------+----+\n",
      "|    USA|1740|\n",
      "|    URS| 760|\n",
      "|    GBR| 454|\n",
      "|    ITA| 339|\n",
      "|    GER| 330|\n",
      "+-------+----+\n",
      "only showing top 5 rows\n",
      "\n"
     ]
    },
    {
     "name": "stderr",
     "output_type": "stream",
     "text": [
      "                                                                                \r"
     ]
    }
   ],
   "source": [
    "sql = \"\"\" select Country, count(Medal) cnt \n",
    "   from SUMMERMEDALS where Medal = 'Gold' \n",
    "   group by Country order by cnt desc \"\"\"\n",
    "spark.sql(sql).show(5)"
   ]
  },
  {
   "cell_type": "code",
   "execution_count": null,
   "id": "6b9a687f-3d00-4a96-b1e5-7a679a6ed1b7",
   "metadata": {},
   "outputs": [],
   "source": [
    "from pyspark.sql.functions import count"
   ]
  },
  {
   "cell_type": "code",
   "execution_count": null,
   "id": "efc09113-774c-45aa-b0db-a1866156ece9",
   "metadata": {},
   "outputs": [],
   "source": [
    "summermedals.filter(col('Medal') == 'Gold')\\\n",
    "  .groupBy('Country')\\\n",
    "  .agg(count(col('Medal')).alias('cnt'))\\\n",
    "  .orderBy('cnt', ascending=False)\\\n",
    ".show(10)"
   ]
  },
  {
   "cell_type": "code",
   "execution_count": null,
   "id": "b1b9a07e-eb5e-4b0d-a495-9ad092ab74b2",
   "metadata": {},
   "outputs": [],
   "source": []
  },
  {
   "cell_type": "code",
   "execution_count": null,
   "id": "689a4ce7-6d12-4006-8b09-99ae5e52f3a6",
   "metadata": {},
   "outputs": [],
   "source": []
  },
  {
   "cell_type": "code",
   "execution_count": null,
   "id": "ee7982af-bb4e-4e92-947f-3440a27e9953",
   "metadata": {},
   "outputs": [],
   "source": []
  },
  {
   "cell_type": "code",
   "execution_count": null,
   "id": "34413571-44a8-4a84-974a-a7a789b76565",
   "metadata": {},
   "outputs": [],
   "source": []
  },
  {
   "cell_type": "code",
   "execution_count": null,
   "id": "cc0ff832-d006-485f-8299-507c7759ec44",
   "metadata": {},
   "outputs": [],
   "source": []
  },
  {
   "cell_type": "code",
   "execution_count": null,
   "id": "026c2f20-b685-4f86-9a40-191cf4d22582",
   "metadata": {},
   "outputs": [],
   "source": []
  },
  {
   "cell_type": "code",
   "execution_count": null,
   "id": "9b4baf25-1480-4948-8f6c-3b1f7e746b55",
   "metadata": {},
   "outputs": [],
   "source": []
  }
 ],
 "metadata": {
  "kernelspec": {
   "display_name": "Python 3 (ipykernel)",
   "language": "python",
   "name": "python3"
  },
  "language_info": {
   "codemirror_mode": {
    "name": "ipython",
    "version": 3
   },
   "file_extension": ".py",
   "mimetype": "text/x-python",
   "name": "python",
   "nbconvert_exporter": "python",
   "pygments_lexer": "ipython3",
   "version": "3.7.10"
  }
 },
 "nbformat": 4,
 "nbformat_minor": 5
}
