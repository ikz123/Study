{
 "cells": [
  {
   "cell_type": "markdown",
   "id": "b675fe44-63c9-4425-b454-eca0afc4f78e",
   "metadata": {
    "tags": []
   },
   "source": [
    "# 탐색적 분석\n",
    "+ exploratory data analysis : EDA\n",
    "+ 본격적인 데이터 분석전에 데이터의 각 컬럼에 대한 이해와\n",
    "+ 데이터의 결측치, 이상치 처리 및 필터링을 수행하고\n",
    "+ 누구나 이해하기 쉬운 시각화를 수행하는 과정"
   ]
  },
  {
   "cell_type": "code",
   "execution_count": 1,
   "id": "fa7b1b95-25e2-42cd-bdbd-3b1b54fd268f",
   "metadata": {},
   "outputs": [
    {
     "name": "stdout",
     "output_type": "stream",
     "text": [
      "+---+---+---+---+------+\n",
      "|_c0|_c1|_c2|_c3|   _c4|\n",
      "+---+---+---+---+------+\n",
      "|5.1|3.5|1.4|0.2|setosa|\n",
      "|4.9|3.0|1.4|0.2|setosa|\n",
      "|4.7|3.2|1.3|0.2|setosa|\n",
      "|4.6|3.1|1.5|0.2|setosa|\n",
      "|5.0|3.6|1.4|0.2|setosa|\n",
      "+---+---+---+---+------+\n",
      "only showing top 5 rows\n",
      "\n"
     ]
    }
   ],
   "source": [
    "# iris.csv를 spark 객체로 생성\n",
    "iris = spark.read.csv('iris.csv', \n",
    "       header=False, inferSchema=True)\n",
    "iris.show(5)"
   ]
  },
  {
   "cell_type": "code",
   "execution_count": 2,
   "id": "1648ffb3-2795-4e59-8552-55ef85a3bd6d",
   "metadata": {},
   "outputs": [
    {
     "name": "stdout",
     "output_type": "stream",
     "text": [
      "+------------+-----------+------------+-----------+-------+\n",
      "|Sepal Length|Sepal Width|Petal Length|Petal Width|Species|\n",
      "+------------+-----------+------------+-----------+-------+\n",
      "|         5.1|        3.5|         1.4|        0.2| setosa|\n",
      "|         4.9|        3.0|         1.4|        0.2| setosa|\n",
      "|         4.7|        3.2|         1.3|        0.2| setosa|\n",
      "|         4.6|        3.1|         1.5|        0.2| setosa|\n",
      "|         5.0|        3.6|         1.4|        0.2| setosa|\n",
      "+------------+-----------+------------+-----------+-------+\n",
      "only showing top 5 rows\n",
      "\n"
     ]
    }
   ],
   "source": [
    "# 컬럼명 변경 : withColumnRenamed(기존이름, 새이름)\n",
    "iris = iris.withColumnRenamed('_c0', 'Sepal Length')\\\n",
    "   .withColumnRenamed('_c1', 'Sepal Width')\\\n",
    "   .withColumnRenamed('_c2', 'Petal Length')\\\n",
    "   .withColumnRenamed('_c3', 'Petal Width')\\\n",
    "   .withColumnRenamed('_c4', 'Species')\n",
    "iris.show(5)"
   ]
  },
  {
   "cell_type": "code",
   "execution_count": 3,
   "id": "5b8f7a2f-6e1a-450d-b108-68eb581e12eb",
   "metadata": {},
   "outputs": [
    {
     "name": "stdout",
     "output_type": "stream",
     "text": [
      "+-----------------+------------------+\n",
      "|avg(Sepal Length)|  avg(Sepal Width)|\n",
      "+-----------------+------------------+\n",
      "|5.843333333333335|3.0540000000000007|\n",
      "+-----------------+------------------+\n",
      "\n"
     ]
    }
   ],
   "source": [
    "# 데이터분석 함수 : avg, max, min, sum, count\n",
    "# agg({컬럼명:집계함수})\n",
    "meanVals = iris.agg({'Sepal Length':'avg', \n",
    "                     'Sepal Width':'avg'})\n",
    "meanVals.show()"
   ]
  },
  {
   "cell_type": "code",
   "execution_count": 4,
   "id": "fa156a00-48b5-413f-a2bb-12dcdb23f42f",
   "metadata": {},
   "outputs": [
    {
     "name": "stdout",
     "output_type": "stream",
     "text": [
      "+-----------------+----------------+\n",
      "|max(Sepal Length)|max(Sepal Width)|\n",
      "+-----------------+----------------+\n",
      "|              7.9|             4.4|\n",
      "+-----------------+----------------+\n",
      "\n"
     ]
    }
   ],
   "source": [
    "maxVals = iris.agg({'Sepal Length':'max', \n",
    "                     'Sepal Width':'max'})\n",
    "maxVals.show()"
   ]
  },
  {
   "cell_type": "code",
   "execution_count": 5,
   "id": "58c05699-9d38-414d-8da9-93cc01598f73",
   "metadata": {},
   "outputs": [
    {
     "name": "stdout",
     "output_type": "stream",
     "text": [
      "+----------------------+---------------------+\n",
      "|var_samp(Sepal Length)|var_samp(Sepal Width)|\n",
      "+----------------------+---------------------+\n",
      "|    0.6856935123042518|   0.1880040268456377|\n",
      "+----------------------+---------------------+\n",
      "\n"
     ]
    }
   ],
   "source": [
    "# 데이터분석 함수2 : var_samp, stddev_samp, cor, corr\n",
    "varVals = iris.agg({'Sepal Length':'var_samp', \n",
    "                     'Sepal Width':'var_samp'})\n",
    "varVals.show()    # 표본분산"
   ]
  },
  {
   "cell_type": "code",
   "execution_count": 6,
   "id": "ad1bedce-af2d-4711-ad0e-f406af514fbf",
   "metadata": {},
   "outputs": [
    {
     "name": "stdout",
     "output_type": "stream",
     "text": [
      "+-------------------------+------------------------+\n",
      "|stddev_samp(Sepal Length)|stddev_samp(Sepal Width)|\n",
      "+-------------------------+------------------------+\n",
      "|       0.8280661279778637|     0.43359431136217375|\n",
      "+-------------------------+------------------------+\n",
      "\n"
     ]
    }
   ],
   "source": [
    "stddevVals = iris.agg({'Sepal Length':'stddev_samp', \n",
    "                     'Sepal Width':'stddev_samp'})\n",
    "stddevVals.show()    # 표본표준편차"
   ]
  },
  {
   "cell_type": "code",
   "execution_count": 7,
   "id": "fa5f1845-2d94-4f7c-ae06-42a96b780fe1",
   "metadata": {},
   "outputs": [
    {
     "data": {
      "text/plain": [
       "-0.03926845637583896"
      ]
     },
     "execution_count": 7,
     "metadata": {},
     "output_type": "execute_result"
    }
   ],
   "source": [
    "covVals = iris.cov('Sepal Length', \n",
    "                     'Sepal Width')\n",
    "covVals    # 공분산 : 두 변수간의 선형관계"
   ]
  },
  {
   "cell_type": "code",
   "execution_count": 8,
   "id": "c01f21ae-b312-4e51-b9c2-c31c2f26c3e7",
   "metadata": {},
   "outputs": [
    {
     "data": {
      "text/plain": [
       "-0.10936924995064931"
      ]
     },
     "execution_count": 8,
     "metadata": {},
     "output_type": "execute_result"
    }
   ],
   "source": [
    "corrVals = iris.corr('Sepal Length', \n",
    "                     'Sepal Width')\n",
    "corrVals    # 상관계수 : 두 변수간의 상관관계"
   ]
  },
  {
   "cell_type": "code",
   "execution_count": 9,
   "id": "84d26f68-c08a-4424-86d3-793407f2c257",
   "metadata": {},
   "outputs": [
    {
     "data": {
      "text/plain": [
       "1.2963874720357942"
      ]
     },
     "execution_count": 9,
     "metadata": {},
     "output_type": "execute_result"
    }
   ],
   "source": [
    "covVals = iris.cov('Petal Length', \n",
    "                     'Petal Width')\n",
    "covVals    # 공분산 : 두 변수간의 선형관계"
   ]
  },
  {
   "cell_type": "code",
   "execution_count": 10,
   "id": "37a1e3d3-388f-43bf-9be7-74e86c181e6f",
   "metadata": {},
   "outputs": [
    {
     "data": {
      "text/plain": [
       "0.9627570970509666"
      ]
     },
     "execution_count": 10,
     "metadata": {},
     "output_type": "execute_result"
    }
   ],
   "source": [
    "corrVals = iris.corr('Petal Length', \n",
    "                     'Petal Width')\n",
    "corrVals    # 상관계수 : 두 변수간의 상관관계"
   ]
  },
  {
   "cell_type": "code",
   "execution_count": 11,
   "id": "b9e9a7d6-273e-4745-ba62-0016f16663db",
   "metadata": {},
   "outputs": [],
   "source": [
    "import numpy as np\n",
    "import pandas as pd\n",
    "import matplotlib.pyplot as plt\n",
    "import seaborn as sns\n"
   ]
  },
  {
   "cell_type": "code",
   "execution_count": 12,
   "id": "c236827d-20ee-4c01-8a2d-eab0d3af70d6",
   "metadata": {},
   "outputs": [],
   "source": [
    "iris2 = iris.toPandas()"
   ]
  },
  {
   "cell_type": "code",
   "execution_count": 13,
   "id": "9fcbbf13-c26c-47f1-8269-0fea6661067e",
   "metadata": {},
   "outputs": [
    {
     "data": {
      "text/plain": [
       "[<matplotlib.lines.Line2D at 0x7fdefcce4a10>]"
      ]
     },
     "execution_count": 13,
     "metadata": {},
     "output_type": "execute_result"
    },
    {
     "data": {
      "image/png": "[encoded data removed]",
      "text/plain": [
       "<Figure size 432x288 with 1 Axes>"
      ]
     },
     "metadata": {
      "needs_background": "light"
     },
     "output_type": "display_data"
    }
   ],
   "source": [
    "# 데이터의 외형 확인\n",
    "# 산점도 : plot(x변수, y변수, 그래프옵션)\n",
    "plt.plot(iris2['Sepal Length'], \n",
    "         iris2['Sepal Width'], 'ro')\n",
    "\n",
    "plt.plot(iris2['Petal Length'], \n",
    "         iris2['Petal Width'], 'ro')\n"
   ]
  },
  {
   "cell_type": "code",
   "execution_count": 14,
   "id": "b84d6f29-8b5c-4369-ac6d-740a58f0baea",
   "metadata": {},
   "outputs": [
    {
     "data": {
      "text/plain": [
       "[<matplotlib.lines.Line2D at 0x7fdefab83e10>]"
      ]
     },
     "execution_count": 14,
     "metadata": {},
     "output_type": "execute_result"
    },
    {
     "data": {
      "image/png": "[encoded data removed]",
      "text/plain": [
       "<Figure size 432x288 with 1 Axes>"
      ]
     },
     "metadata": {
      "needs_background": "light"
     },
     "output_type": "display_data"
    }
   ],
   "source": [
    "plt.plot(iris2['Petal Length'], \n",
    "         iris2['Petal Width'], 'ro')\n"
   ]
  },
  {
   "cell_type": "code",
   "execution_count": 15,
   "id": "d513ee33-56de-42a4-bc48-8e16021ff249",
   "metadata": {},
   "outputs": [
    {
     "data": {
      "text/plain": [
       "<AxesSubplot:xlabel='Species', ylabel='count'>"
      ]
     },
     "execution_count": 15,
     "metadata": {},
     "output_type": "execute_result"
    },
    {
     "data": {
      "image/png": "[encoded data removed]",
      "text/plain": [
       "<Figure size 432x288 with 1 Axes>"
      ]
     },
     "metadata": {
      "needs_background": "light"
     },
     "output_type": "display_data"
    }
   ],
   "source": [
    "# 범주형 데이터 : 막대그래프\n",
    "sns.countplot(data=iris2, x='Species')"
   ]
  },
  {
   "cell_type": "code",
   "execution_count": 16,
   "id": "0d0e2370-4fc6-4a02-9b88-9da796a30b7c",
   "metadata": {},
   "outputs": [
    {
     "data": {
      "text/plain": [
       "(array([ 9., 23., 14., 27., 16., 26., 18.,  6.,  5.,  6.]),\n",
       " array([4.3 , 4.66, 5.02, 5.38, 5.74, 6.1 , 6.46, 6.82, 7.18, 7.54, 7.9 ]),\n",
       " <BarContainer object of 10 artists>)"
      ]
     },
     "execution_count": 16,
     "metadata": {},
     "output_type": "execute_result"
    },
    {
     "data": {
      "image/png": "[encoded data removed]",
      "text/plain": [
       "<Figure size 432x288 with 1 Axes>"
      ]
     },
     "metadata": {
      "needs_background": "light"
     },
     "output_type": "display_data"
    }
   ],
   "source": [
    "# 연속형 데이터 : 히스토그램\n",
    "# hist(대상컬럼, 옵션)\n",
    "plt.hist(iris2['Sepal Length'])"
   ]
  },
  {
   "cell_type": "code",
   "execution_count": 17,
   "id": "0ce0dc40-0785-47f4-97a3-f05bf67f36e9",
   "metadata": {},
   "outputs": [
    {
     "data": {
      "text/plain": [
       "<AxesSubplot:xlabel='Sepal Length', ylabel='Density'>"
      ]
     },
     "execution_count": 17,
     "metadata": {},
     "output_type": "execute_result"
    },
    {
     "data": {
      "image/png": "[encoded data removed]",
      "text/plain": [
       "<Figure size 432x288 with 1 Axes>"
      ]
     },
     "metadata": {
      "needs_background": "light"
     },
     "output_type": "display_data"
    }
   ],
   "source": [
    "# 확률밀도 그래프 : kde\n",
    "# kdeplot(변수, 데이터객체)\n",
    "sns.kdeplot(data=iris2, x='Sepal Length')"
   ]
  },
  {
   "cell_type": "code",
   "execution_count": 18,
   "id": "1dc12cee-944f-4b86-b2f8-eb3c25a5afea",
   "metadata": {},
   "outputs": [
    {
     "name": "stderr",
     "output_type": "stream",
     "text": [
      "[Stage 17:>                                                         (0 + 1) / 1]"
     ]
    },
    {
     "name": "stdout",
     "output_type": "stream",
     "text": [
      "+-------+------------------+-------------------+------------------+------------------+---------+\n",
      "|summary|      Sepal Length|        Sepal Width|      Petal Length|       Petal Width|  Species|\n",
      "+-------+------------------+-------------------+------------------+------------------+---------+\n",
      "|  count|               150|                150|               150|               150|      150|\n",
      "|   mean| 5.843333333333335| 3.0540000000000007|3.7586666666666693|1.1986666666666672|     null|\n",
      "| stddev|0.8280661279778637|0.43359431136217375| 1.764420419952262|0.7631607417008414|     null|\n",
      "|    min|               4.3|                2.0|               1.0|               0.1|   setosa|\n",
      "|    25%|               5.1|                2.8|               1.6|               0.3|     null|\n",
      "|    50%|               5.8|                3.0|               4.3|               1.3|     null|\n",
      "|    75%|               6.4|                3.3|               5.1|               1.8|     null|\n",
      "|    max|               7.9|                4.4|               6.9|               2.5|virginica|\n",
      "+-------+------------------+-------------------+------------------+------------------+---------+\n",
      "\n"
     ]
    },
    {
     "name": "stderr",
     "output_type": "stream",
     "text": [
      "                                                                                \r"
     ]
    }
   ],
   "source": [
    "# 데이터분석 함수3 : summary, describe\n",
    "iris.summary().show()"
   ]
  },
  {
   "cell_type": "code",
   "execution_count": 19,
   "id": "27f135e8-aa6b-4953-8c0f-4323866b3d85",
   "metadata": {},
   "outputs": [
    {
     "name": "stdout",
     "output_type": "stream",
     "text": [
      "+-------+-----------------+------------------+\n",
      "|summary|     Sepal Length|       Sepal Width|\n",
      "+-------+-----------------+------------------+\n",
      "|  count|              150|               150|\n",
      "|   mean|5.843333333333335|3.0540000000000007|\n",
      "|    min|              4.3|               2.0|\n",
      "|    max|              7.9|               4.4|\n",
      "+-------+-----------------+------------------+\n",
      "\n"
     ]
    }
   ],
   "source": [
    "from pyspark.sql.functions import col\n",
    "iris.select(col('Sepal Length'), col('Sepal Width')).summary(['count','mean','min','max']).show()"
   ]
  },
  {
   "cell_type": "code",
   "execution_count": 20,
   "id": "f4a3b1b6-8f29-4df1-b40e-a8ccc11f3a49",
   "metadata": {},
   "outputs": [
    {
     "name": "stdout",
     "output_type": "stream",
     "text": [
      "+-------+------------------+-------------------+------------------+------------------+---------+\n",
      "|summary|      Sepal Length|        Sepal Width|      Petal Length|       Petal Width|  Species|\n",
      "+-------+------------------+-------------------+------------------+------------------+---------+\n",
      "|  count|               150|                150|               150|               150|      150|\n",
      "|   mean| 5.843333333333335| 3.0540000000000007|3.7586666666666693|1.1986666666666672|     null|\n",
      "| stddev|0.8280661279778637|0.43359431136217375| 1.764420419952262|0.7631607417008414|     null|\n",
      "|    min|               4.3|                2.0|               1.0|               0.1|   setosa|\n",
      "|    max|               7.9|                4.4|               6.9|               2.5|virginica|\n",
      "+-------+------------------+-------------------+------------------+------------------+---------+\n",
      "\n"
     ]
    }
   ],
   "source": [
    "iris.describe().show()"
   ]
  },
  {
   "cell_type": "code",
   "execution_count": 21,
   "id": "26531c98-13e2-4ba9-8a05-a44ceb1a907e",
   "metadata": {},
   "outputs": [
    {
     "name": "stdout",
     "output_type": "stream",
     "text": [
      "+-------+------------------+-------------------+\n",
      "|summary|      Sepal Length|        Sepal Width|\n",
      "+-------+------------------+-------------------+\n",
      "|  count|               150|                150|\n",
      "|   mean| 5.843333333333335| 3.0540000000000007|\n",
      "| stddev|0.8280661279778637|0.43359431136217375|\n",
      "|    min|               4.3|                2.0|\n",
      "|    max|               7.9|                4.4|\n",
      "+-------+------------------+-------------------+\n",
      "\n"
     ]
    }
   ],
   "source": [
    "iris.describe(['Sepal Length','Sepal Width']).show()"
   ]
  },
  {
   "cell_type": "code",
   "execution_count": null,
   "id": "ca7ba297-957e-41c6-a93f-f0cabdaf3885",
   "metadata": {},
   "outputs": [],
   "source": []
  }
 ],
 "metadata": {
  "kernelspec": {
   "display_name": "Python 3 (ipykernel)",
   "language": "python",
   "name": "python3"
  },
  "language_info": {
   "codemirror_mode": {
    "name": "ipython",
    "version": 3
   },
   "file_extension": ".py",
   "mimetype": "text/x-python",
   "name": "python",
   "nbconvert_exporter": "python",
   "pygments_lexer": "ipython3",
   "version": "3.7.10"
  }
 },
 "nbformat": 4,
 "nbformat_minor": 5
}
