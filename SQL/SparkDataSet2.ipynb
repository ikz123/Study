{
 "cells": [
  {
   "cell_type": "markdown",
   "id": "b047afae-a7fe-48c0-b462-58fdf9e6aa97",
   "metadata": {},
   "source": [
    "## 사용자 정의함수 : UDF\n",
    "+ 특정 기능을 수행하는 함수는 UDF 형식으로 만들어 사용 가능\n",
    "+ 주로 파생변수를 만들때 사용\n",
    "+ udf(사용자 정의함수명, 반환값타입)\n",
    "+ udf를 통한 파생변수는 withColumn(컬럼명, udf 함수명)으로 생성"
   ]
  },
  {
   "cell_type": "code",
   "execution_count": 1,
   "id": "1103d1ec-ad7f-4d94-9114-84d452f4d575",
   "metadata": {},
   "outputs": [],
   "source": [
    "# 사원들의 연봉을 다음의 분류기준에 따라 적절히 변환해서 조회하세요"
   ]
  },
  {
   "cell_type": "code",
   "execution_count": 2,
   "id": "e2b75173-462c-40e6-b6cf-6273eb888125",
   "metadata": {},
   "outputs": [],
   "source": [
    "# 급여에 대한 등급을 출력하는 함수\n",
    "def sal_grade(x):\n",
    "    grade = 'slave salary'\n",
    "    \n",
    "    if x >= 15000: grade = 'master salary'\n",
    "    elif x >= 6200: grade = 'high salary'\n",
    "    elif x >= 3200: grade = 'medium salary'\n",
    "    elif x >= 2100: grade = 'low salary'\n",
    "    \n",
    "    return grade"
   ]
  },
  {
   "cell_type": "code",
   "execution_count": 3,
   "id": "33269013-d9e4-4970-93bd-f6026b5d3425",
   "metadata": {},
   "outputs": [],
   "source": [
    "from pyspark.sql.functions import udf\n",
    "from pyspark.sql.types import StringType, IntegerType"
   ]
  },
  {
   "cell_type": "code",
   "execution_count": 4,
   "id": "68b00861-b3ff-4070-9abe-ed0828bf3988",
   "metadata": {},
   "outputs": [],
   "source": [
    "# 위에서 함수를 udf 함수로 지정\n",
    "\n",
    "sg_udf = udf(sal_grade, StringType())"
   ]
  },
  {
   "cell_type": "code",
   "execution_count": 5,
   "id": "7a9df549-dba1-4079-bfe6-51f4985890ba",
   "metadata": {},
   "outputs": [
    {
     "name": "stderr",
     "output_type": "stream",
     "text": [
      "                                                                                \r"
     ]
    }
   ],
   "source": [
    "emp = spark.read.csv('employees.csv', header=True, inferSchema=True)"
   ]
  },
  {
   "cell_type": "code",
   "execution_count": 6,
   "id": "086461c1-b6dd-48f2-bdc8-32215347ad43",
   "metadata": {},
   "outputs": [],
   "source": [
    "# 기존의 데이터프레임에 salgrade 라는 파생변수(컬럼)을 하나 추가함\n",
    "\n",
    "emp = emp.withColumn('salgrade', sg_udf(emp.SALARY))"
   ]
  },
  {
   "cell_type": "code",
   "execution_count": 7,
   "id": "edb1cce9-305c-4a15-8066-ea52133a227a",
   "metadata": {},
   "outputs": [
    {
     "name": "stderr",
     "output_type": "stream",
     "text": [
      "[Stage 2:>                                                          (0 + 1) / 1]"
     ]
    },
    {
     "name": "stdout",
     "output_type": "stream",
     "text": [
      "+------+-------------+\n",
      "|SALARY|     salgrade|\n",
      "+------+-------------+\n",
      "| 24000|master salary|\n",
      "| 17000|master salary|\n",
      "| 17000|master salary|\n",
      "|  9000|  high salary|\n",
      "|  6000|medium salary|\n",
      "+------+-------------+\n",
      "only showing top 5 rows\n",
      "\n"
     ]
    },
    {
     "name": "stderr",
     "output_type": "stream",
     "text": [
      "                                                                                \r"
     ]
    }
   ],
   "source": [
    "# 생성한 파생변수 확인\n",
    "emp.select('SALARY', 'salgrade').show(5)"
   ]
  },
  {
   "cell_type": "code",
   "execution_count": 8,
   "id": "723dd2d1-72c2-4d00-a2e8-cc41e1e769ea",
   "metadata": {},
   "outputs": [],
   "source": [
    "# 타이타닉 승객의 나이를 다음 조건에 따라 범주형 데이터로 변환하세요\n",
    "# 1age, 5age, 10age, 20age, ... , 80age로 분류\n",
    "# 파생변수명은 ages, 함수명은 age_class로 지정"
   ]
  },
  {
   "cell_type": "code",
   "execution_count": 9,
   "id": "26d83a90-dc08-44ba-a10a-fdf06e53d7bc",
   "metadata": {},
   "outputs": [],
   "source": [
    "def age_class(x):\n",
    "    aclass = '1age'\n",
    "    \n",
    "    if x >= 80 : aclass = '80age'\n",
    "    elif x >= 70: aclass = '70age'\n",
    "    elif x >= 60: aclass = '60age'\n",
    "    elif x >= 50: aclass = '50age'\n",
    "    elif x >= 40: aclass = '40age'\n",
    "    elif x >= 30: aclass = '30age'\n",
    "    elif x >= 20: aclass = '20age'\n",
    "    elif x >= 10: aclass = '10age'\n",
    "    elif x >= 5: aclass = '5age'\n",
    "    \n",
    "    return aclass"
   ]
  },
  {
   "cell_type": "code",
   "execution_count": 10,
   "id": "034bda53-8b91-4e8c-9c68-a9b161245dd9",
   "metadata": {},
   "outputs": [],
   "source": [
    "ac_udf = udf(age_class, StringType())"
   ]
  },
  {
   "cell_type": "code",
   "execution_count": 11,
   "id": "b1e261f8-fc3f-40ee-bfe2-b7b0ff5b24b8",
   "metadata": {},
   "outputs": [],
   "source": [
    "ttn = spark.read.csv('titanic.csv', header=True, inferSchema=True)"
   ]
  },
  {
   "cell_type": "code",
   "execution_count": 12,
   "id": "0ed1f8e5-4d16-4f94-a174-5c99235f35ec",
   "metadata": {
    "tags": []
   },
   "outputs": [],
   "source": [
    "ttn = ttn.withColumn('ages', ac_udf(ttn.age))"
   ]
  },
  {
   "cell_type": "code",
   "execution_count": 13,
   "id": "0c8dbc4f-6a1d-414d-893e-39daf2126b93",
   "metadata": {
    "tags": []
   },
   "outputs": [
    {
     "name": "stdout",
     "output_type": "stream",
     "text": [
      "+------+-----+\n",
      "|   age| ages|\n",
      "+------+-----+\n",
      "|  29.0|20age|\n",
      "|0.9167| 1age|\n",
      "|   2.0| 1age|\n",
      "|  30.0|30age|\n",
      "|  25.0|20age|\n",
      "+------+-----+\n",
      "only showing top 5 rows\n",
      "\n"
     ]
    }
   ],
   "source": [
    "ttn.select('age', 'ages').show(5)"
   ]
  },
  {
   "cell_type": "code",
   "execution_count": 14,
   "id": "4d2b4d1a-3ed4-4902-9c13-0a31a057e42a",
   "metadata": {},
   "outputs": [
    {
     "name": "stderr",
     "output_type": "stream",
     "text": [
      "                                                                                \r"
     ]
    },
    {
     "name": "stdout",
     "output_type": "stream",
     "text": [
      "+-----+-----+\n",
      "| ages|count|\n",
      "+-----+-----+\n",
      "| 1age|   51|\n",
      "|70age|    7|\n",
      "|50age|   70|\n",
      "|40age|  135|\n",
      "|30age|  231|\n",
      "|80age|    1|\n",
      "|60age|   30|\n",
      "|10age|  143|\n",
      "|20age|  607|\n",
      "| 5age|   31|\n",
      "+-----+-----+\n",
      "\n"
     ]
    },
    {
     "name": "stderr",
     "output_type": "stream",
     "text": [
      "                                                                                \r"
     ]
    }
   ],
   "source": [
    "# 타이타닉 승객의 나이대별 승객수를 조회하세요\n",
    "\n",
    "ttn.groupBy('ages').count().show()"
   ]
  },
  {
   "cell_type": "markdown",
   "id": "b40a2aab-85ba-4dce-b14d-44256eea0c54",
   "metadata": {},
   "source": [
    "# join"
   ]
  },
  {
   "cell_type": "code",
   "execution_count": 1,
   "id": "24ab85d1-9c9b-4326-b00d-d28dafc5d91d",
   "metadata": {},
   "outputs": [
    {
     "name": "stdout",
     "output_type": "stream",
     "text": [
      "+-----------+----------+---------+--------+------------+-------------------+-------+------+--------------+----------+-------------+\n",
      "|EMPLOYEE_ID|FIRST_NAME|LAST_NAME|   EMAIL|PHONE_NUMBER|          HIRE_DATE| JOB_ID|SALARY|COMMISSION_PCT|MANAGER_ID|DEPARTMENT_ID|\n",
      "+-----------+----------+---------+--------+------------+-------------------+-------+------+--------------+----------+-------------+\n",
      "|        100|    Steven|     King|   SKING|515.123.4567|2003-06-17 00:00:00|AD_PRES| 24000|          null|      null|           90|\n",
      "|        101|     Neena|  Kochhar|NKOCHHAR|515.123.4568|2005-09-21 00:00:00|  AD_VP| 17000|          null|       100|           90|\n",
      "|        102|       Lex|  De Haan| LDEHAAN|515.123.4569|2001-01-13 00:00:00|  AD_VP| 17000|          null|       100|           90|\n",
      "|        103| Alexander|   Hunold| AHUNOLD|590.423.4567|2006-01-03 00:00:00|IT_PROG|  9000|          null|       102|           60|\n",
      "|        104|     Bruce|    Ernst|  BERNST|590.423.4568|2007-05-21 00:00:00|IT_PROG|  6000|          null|       103|           60|\n",
      "+-----------+----------+---------+--------+------------+-------------------+-------+------+--------------+----------+-------------+\n",
      "only showing top 5 rows\n",
      "\n"
     ]
    }
   ],
   "source": [
    "emp = spark.read.csv('employees.csv', header=True, inferSchema=True)\n",
    "emp.show(5)"
   ]
  },
  {
   "cell_type": "code",
   "execution_count": 2,
   "id": "0aa4ffa2-9623-4a3f-8e9f-1708607a1147",
   "metadata": {},
   "outputs": [
    {
     "name": "stdout",
     "output_type": "stream",
     "text": [
      "+-------------+---------------+----------+-----------+\n",
      "|DEPARTMENT_ID|DEPARTMENT_NAME|MANAGER_ID|LOCATION_ID|\n",
      "+-------------+---------------+----------+-----------+\n",
      "|           10| Administration|       200|       1700|\n",
      "|           20|      Marketing|       201|       1800|\n",
      "|           30|     Purchasing|       114|       1700|\n",
      "|           40|Human Resources|       203|       2400|\n",
      "|           50|       Shipping|       121|       1500|\n",
      "+-------------+---------------+----------+-----------+\n",
      "only showing top 5 rows\n",
      "\n"
     ]
    }
   ],
   "source": [
    "dept = spark.read.csv('departments.csv', header=True, inferSchema=True)\n",
    "dept.show(5)"
   ]
  },
  {
   "cell_type": "code",
   "execution_count": 3,
   "id": "c63f157b-6a04-4603-8910-3ff5e2bc9d06",
   "metadata": {},
   "outputs": [
    {
     "name": "stdout",
     "output_type": "stream",
     "text": [
      "+-----------+----------+---------+--------+------------+-------------------+-------+------+--------------+----------+-------------+-------------+---------------+----------+-----------+\n",
      "|EMPLOYEE_ID|FIRST_NAME|LAST_NAME|   EMAIL|PHONE_NUMBER|          HIRE_DATE| JOB_ID|SALARY|COMMISSION_PCT|MANAGER_ID|DEPARTMENT_ID|DEPARTMENT_ID|DEPARTMENT_NAME|MANAGER_ID|LOCATION_ID|\n",
      "+-----------+----------+---------+--------+------------+-------------------+-------+------+--------------+----------+-------------+-------------+---------------+----------+-----------+\n",
      "|        100|    Steven|     King|   SKING|515.123.4567|2003-06-17 00:00:00|AD_PRES| 24000|          null|      null|           90|           90|      Executive|       100|       1700|\n",
      "|        101|     Neena|  Kochhar|NKOCHHAR|515.123.4568|2005-09-21 00:00:00|  AD_VP| 17000|          null|       100|           90|           90|      Executive|       100|       1700|\n",
      "|        102|       Lex|  De Haan| LDEHAAN|515.123.4569|2001-01-13 00:00:00|  AD_VP| 17000|          null|       100|           90|           90|      Executive|       100|       1700|\n",
      "|        103| Alexander|   Hunold| AHUNOLD|590.423.4567|2006-01-03 00:00:00|IT_PROG|  9000|          null|       102|           60|           60|             IT|       103|       1400|\n",
      "|        104|     Bruce|    Ernst|  BERNST|590.423.4568|2007-05-21 00:00:00|IT_PROG|  6000|          null|       103|           60|           60|             IT|       103|       1400|\n",
      "+-----------+----------+---------+--------+------------+-------------------+-------+------+--------------+----------+-------------+-------------+---------------+----------+-----------+\n",
      "only showing top 5 rows\n",
      "\n"
     ]
    }
   ],
   "source": [
    "# 공통 속성명이 다를경우\n",
    "join_condition = emp.DEPARTMENT_ID == dept.DEPARTMENT_ID\n",
    "empdept = emp.join(dept, join_condition, 'inner')\n",
    "empdept.show(5)"
   ]
  },
  {
   "cell_type": "code",
   "execution_count": 5,
   "id": "f054dbf3-31e4-4b75-b59b-a81639af7d33",
   "metadata": {},
   "outputs": [
    {
     "name": "stdout",
     "output_type": "stream",
     "text": [
      "+-------------+-----------+----------+---------+--------+------------+-------------------+-------+------+--------------+----------+---------------+----------+-----------+\n",
      "|DEPARTMENT_ID|EMPLOYEE_ID|FIRST_NAME|LAST_NAME|   EMAIL|PHONE_NUMBER|          HIRE_DATE| JOB_ID|SALARY|COMMISSION_PCT|MANAGER_ID|DEPARTMENT_NAME|MANAGER_ID|LOCATION_ID|\n",
      "+-------------+-----------+----------+---------+--------+------------+-------------------+-------+------+--------------+----------+---------------+----------+-----------+\n",
      "|           90|        100|    Steven|     King|   SKING|515.123.4567|2003-06-17 00:00:00|AD_PRES| 24000|          null|      null|      Executive|       100|       1700|\n",
      "|           90|        101|     Neena|  Kochhar|NKOCHHAR|515.123.4568|2005-09-21 00:00:00|  AD_VP| 17000|          null|       100|      Executive|       100|       1700|\n",
      "|           90|        102|       Lex|  De Haan| LDEHAAN|515.123.4569|2001-01-13 00:00:00|  AD_VP| 17000|          null|       100|      Executive|       100|       1700|\n",
      "|           60|        103| Alexander|   Hunold| AHUNOLD|590.423.4567|2006-01-03 00:00:00|IT_PROG|  9000|          null|       102|             IT|       103|       1400|\n",
      "|           60|        104|     Bruce|    Ernst|  BERNST|590.423.4568|2007-05-21 00:00:00|IT_PROG|  6000|          null|       103|             IT|       103|       1400|\n",
      "+-------------+-----------+----------+---------+--------+------------+-------------------+-------+------+--------------+----------+---------------+----------+-----------+\n",
      "only showing top 5 rows\n",
      "\n"
     ]
    }
   ],
   "source": [
    "# 공통 속성명이동일한 경우\n",
    "empdept = emp.join(dept, 'DEPARTMENT_ID', 'inner')\n",
    "empdept.show(5)"
   ]
  },
  {
   "cell_type": "code",
   "execution_count": 7,
   "id": "c81a1b3b-483a-4f1a-8144-00951be84479",
   "metadata": {},
   "outputs": [
    {
     "name": "stdout",
     "output_type": "stream",
     "text": [
      "+----------+---------------+\n",
      "|FIRST_NAME|DEPARTMENT_NAME|\n",
      "+----------+---------------+\n",
      "|    Steven|      Executive|\n",
      "|     Neena|      Executive|\n",
      "|       Lex|      Executive|\n",
      "| Alexander|             IT|\n",
      "|     Bruce|             IT|\n",
      "+----------+---------------+\n",
      "only showing top 5 rows\n",
      "\n"
     ]
    }
   ],
   "source": [
    "# 사원의 이름과 부서명을 조회하세요\n",
    "empdept.select('FIRST_NAME','DEPARTMENT_NAME').show(5)"
   ]
  },
  {
   "cell_type": "code",
   "execution_count": 8,
   "id": "97401f76-2b3d-4f88-83a9-aa493b990d2c",
   "metadata": {},
   "outputs": [
    {
     "name": "stderr",
     "output_type": "stream",
     "text": [
      "[Stage 27:====================================================>  (96 + 1) / 100]"
     ]
    },
    {
     "name": "stdout",
     "output_type": "stream",
     "text": [
      "+-------------+-----------+----------+---------+------+------------------+-------------------+------+------+--------------+----------+------------------+----------+-----------+\n",
      "|DEPARTMENT_ID|EMPLOYEE_ID|FIRST_NAME|LAST_NAME| EMAIL|      PHONE_NUMBER|          HIRE_DATE|JOB_ID|SALARY|COMMISSION_PCT|MANAGER_ID|   DEPARTMENT_NAME|MANAGER_ID|LOCATION_ID|\n",
      "+-------------+-----------+----------+---------+------+------------------+-------------------+------+------+--------------+----------+------------------+----------+-----------+\n",
      "|          210|       null|      null|     null|  null|              null|               null|  null|  null|          null|      null|        IT Support|      null|       1700|\n",
      "|          230|       null|      null|     null|  null|              null|               null|  null|  null|          null|      null|       IT Helpdesk|      null|       1700|\n",
      "|          190|       null|      null|     null|  null|              null|               null|  null|  null|          null|      null|       Contracting|      null|       1700|\n",
      "|          140|       null|      null|     null|  null|              null|               null|  null|  null|          null|      null|Control And Credit|      null|       1700|\n",
      "|         null|        178| Kimberely|    Grant|KGRANT|011.44.1644.429263|2007-05-24 00:00:00|SA_REP|  7000|          0.15|       149|              null|      null|       null|\n",
      "+-------------+-----------+----------+---------+------+------------------+-------------------+------+------+--------------+----------+------------------+----------+-----------+\n",
      "only showing top 5 rows\n",
      "\n"
     ]
    },
    {
     "name": "stderr",
     "output_type": "stream",
     "text": [
      "                                                                                \r"
     ]
    }
   ],
   "source": [
    "# 외부조인\n",
    "empdept2 = emp.join(dept, 'DEPARTMENT_ID', 'outer')\n",
    "empdept2.show(5)"
   ]
  },
  {
   "cell_type": "code",
   "execution_count": 11,
   "id": "4ab47dd7-ccf5-4730-baa0-77776fb7fb1d",
   "metadata": {},
   "outputs": [
    {
     "name": "stderr",
     "output_type": "stream",
     "text": [
      "[Stage 42:========================================>               (54 + 1) / 75]"
     ]
    },
    {
     "name": "stdout",
     "output_type": "stream",
     "text": [
      "+-------------+--------------------+\n",
      "|DEPARTMENT_ID|     DEPARTMENT_NAME|\n",
      "+-------------+--------------------+\n",
      "|          210|          IT Support|\n",
      "|          230|         IT Helpdesk|\n",
      "|          190|         Contracting|\n",
      "|          140|  Control And Credit|\n",
      "|          250|        Retail Sales|\n",
      "|          120|            Treasury|\n",
      "|          220|                 NOC|\n",
      "|          130|       Corporate Tax|\n",
      "|          240|    Government Sales|\n",
      "|          160|            Benefits|\n",
      "|          200|          Operations|\n",
      "|          170|       Manufacturing|\n",
      "|          150|Shareholder Services|\n",
      "|          260|          Recruiting|\n",
      "|          270|             Payroll|\n",
      "|          180|        Construction|\n",
      "+-------------+--------------------+\n",
      "\n"
     ]
    },
    {
     "name": "stderr",
     "output_type": "stream",
     "text": [
      "                                                                                \r"
     ]
    }
   ],
   "source": [
    "# 사원이 한명도 없는 부서를 조회하세요\n",
    "empdept2.filter(empdept2.FIRST_NAME.isNull()).select('DEPARTMENT_ID','DEPARTMENT_NAME').show()"
   ]
  },
  {
   "cell_type": "code",
   "execution_count": 12,
   "id": "836e3dab-471b-4a6b-bdce-aa5c055f7ac2",
   "metadata": {},
   "outputs": [
    {
     "name": "stderr",
     "output_type": "stream",
     "text": [
      "[Stage 57:=====================================>                  (50 + 1) / 75]"
     ]
    },
    {
     "name": "stdout",
     "output_type": "stream",
     "text": [
      "+----------+---------+\n",
      "|FIRST_NAME|LAST_NAME|\n",
      "+----------+---------+\n",
      "| Kimberely|    Grant|\n",
      "+----------+---------+\n",
      "\n"
     ]
    },
    {
     "name": "stderr",
     "output_type": "stream",
     "text": [
      "                                                                                \r"
     ]
    }
   ],
   "source": [
    "# 부서에 소속되지 않은 사원을 조회하세요\n",
    "empdept2.filter(empdept2.DEPARTMENT_ID.isNull()).select('FIRST_NAME','LAST_NAME').show()"
   ]
  },
  {
   "cell_type": "code",
   "execution_count": 14,
   "id": "574a8952-ea77-4a66-ac2b-cc52d4c1fd33",
   "metadata": {},
   "outputs": [],
   "source": [
    "costomers = spark.read.csv('Customers.csv', header=True, inferSchema=True)"
   ]
  },
  {
   "cell_type": "code",
   "execution_count": 17,
   "id": "3a831d44-0058-412d-9bde-83f04a6eb666",
   "metadata": {},
   "outputs": [],
   "source": [
    "products = spark.read.csv('Productc.csv', header=True, inferSchema=True)"
   ]
  },
  {
   "cell_type": "code",
   "execution_count": 16,
   "id": "9f306b21-3de9-4de9-b05e-d43526d017fc",
   "metadata": {},
   "outputs": [],
   "source": [
    "orders = spark.read.csv('Orders.csv', header=True, inferSchema=True)"
   ]
  },
  {
   "cell_type": "code",
   "execution_count": 1,
   "id": "0bf97c6b-d93f-4df7-9d38-f10d69d68cf6",
   "metadata": {
    "collapsed": true,
    "jupyter": {
     "outputs_hidden": true
    },
    "tags": []
   },
   "outputs": [
    {
     "ename": "NameError",
     "evalue": "name 'orders' is not defined",
     "output_type": "error",
     "traceback": [
      "\u001b[0;31m---------------------------------------------------------------------------\u001b[0m",
      "\u001b[0;31mNameError\u001b[0m                                 Traceback (most recent call last)",
      "\u001b[0;32m/tmp/ipykernel_3014/2470843453.py\u001b[0m in \u001b[0;36m<module>\u001b[0;34m\u001b[0m\n\u001b[1;32m      1\u001b[0m \u001b[0;31m# 당근 고객이 주문한 상품의 가격은 얼마인지 조회하세요\u001b[0m\u001b[0;34m\u001b[0m\u001b[0;34m\u001b[0m\u001b[0;34m\u001b[0m\u001b[0m\n\u001b[1;32m      2\u001b[0m \u001b[0;34m\u001b[0m\u001b[0m\n\u001b[0;32m----> 3\u001b[0;31m \u001b[0mcust0dr\u001b[0m \u001b[0;34m=\u001b[0m \u001b[0morders\u001b[0m\u001b[0;34m.\u001b[0m\u001b[0mjoin\u001b[0m\u001b[0;34m(\u001b[0m\u001b[0mproduct\u001b[0m\u001b[0;34m,\u001b[0m \u001b[0;34m'prodid'\u001b[0m\u001b[0;34m,\u001b[0m \u001b[0;34m'inner'\u001b[0m\u001b[0;34m)\u001b[0m\u001b[0;34m\u001b[0m\u001b[0;34m\u001b[0m\u001b[0m\n\u001b[0m\u001b[1;32m      4\u001b[0m \u001b[0mcust0dr\u001b[0m\u001b[0;34m.\u001b[0m\u001b[0mfilter\u001b[0m\u001b[0;34m(\u001b[0m\u001b[0mcust0dr\u001b[0m\u001b[0;34m.\u001b[0m\u001b[0muserid\u001b[0m \u001b[0;34m==\u001b[0m \u001b[0;34m'carrot'\u001b[0m\u001b[0;34m)\u001b[0m\u001b[0;34m.\u001b[0m\u001b[0mselect\u001b[0m\u001b[0;34m(\u001b[0m\u001b[0;34m'prodname'\u001b[0m\u001b[0;34m,\u001b[0m \u001b[0;34m'price'\u001b[0m\u001b[0;34m)\u001b[0m\u001b[0;34m.\u001b[0m\u001b[0mshow\u001b[0m\u001b[0;34m(\u001b[0m\u001b[0;34m)\u001b[0m\u001b[0;34m\u001b[0m\u001b[0;34m\u001b[0m\u001b[0m\n",
      "\u001b[0;31mNameError\u001b[0m: name 'orders' is not defined"
     ]
    }
   ],
   "source": [
    "# 당근 고객이 주문한 상품의 가격은 얼마인지 조회하세요\n",
    "\n",
    "cust0dr = orders.join(product, 'prodid', 'inner')\n",
    "cust0dr.filter(cust0dr.userid == 'carrot').select('prodname', 'price').show()"
   ]
  },
  {
   "cell_type": "code",
   "execution_count": 24,
   "id": "6f44ed3d-67a5-420c-b1df-95ace5ed4472",
   "metadata": {},
   "outputs": [
    {
     "name": "stdout",
     "output_type": "stream",
     "text": [
      "+------+------+------+\n",
      "|userid|  name| grade|\n",
      "+------+------+------+\n",
      "|orange|김용욱|silver|\n",
      "| peach|오형준|silver|\n",
      "+------+------+------+\n",
      "\n"
     ]
    }
   ],
   "source": [
    "# 주문을 한번도 하지않은 고객의 이름, 등급 을 조회하세요\n",
    "\n",
    "cust0dr = orders.join(costomers, 'userid', 'right_outer')\n",
    "cust0dr.filter(cust0dr.orderid.isNull()).select('userid', 'name', 'grade').show()"
   ]
  },
  {
   "cell_type": "code",
   "execution_count": 25,
   "id": "07a630de-7556-486d-801c-49dc9728325c",
   "metadata": {},
   "outputs": [
    {
     "name": "stdout",
     "output_type": "stream",
     "text": [
      "+----------+--------+\n",
      "|  prodname|   maker|\n",
      "+----------+--------+\n",
      "|  얼큰라면|대한식품|\n",
      "|달콤비스켓|한빛제과|\n",
      "+----------+--------+\n",
      "\n"
     ]
    }
   ],
   "source": [
    "# 주문이 한번도 되지 않은 제품, 제조업체를 조회하세요\n",
    "\n",
    "cust0dr2 = orders.join(products, 'prodid', 'right_outer')\n",
    "cust0dr2.filter(cust0dr2.orderid.isNull()).select('prodname', 'maker').show()"
   ]
  },
  {
   "cell_type": "code",
   "execution_count": 30,
   "id": "2703ea0a-b612-420a-a68f-e8399e232fb2",
   "metadata": {},
   "outputs": [],
   "source": [
    "from pyspark.sql.functions import col"
   ]
  },
  {
   "cell_type": "code",
   "execution_count": 31,
   "id": "c787682d-80ee-4ef2-b438-7c3ec90d024d",
   "metadata": {},
   "outputs": [
    {
     "name": "stdout",
     "output_type": "stream",
     "text": [
      "+-----------+----------+---------+--------+------------+-------------------+-------+------+--------------+----------+-------------+-----------+----------+---------+-------+------------+-------------------+-------+------+--------------+----------+-------------+\n",
      "|EMPLOYEE_ID|FIRST_NAME|LAST_NAME|   EMAIL|PHONE_NUMBER|          HIRE_DATE| JOB_ID|SALARY|COMMISSION_PCT|MANAGER_ID|DEPARTMENT_ID|EMPLOYEE_ID|FIRST_NAME|LAST_NAME|  EMAIL|PHONE_NUMBER|          HIRE_DATE| JOB_ID|SALARY|COMMISSION_PCT|MANAGER_ID|DEPARTMENT_ID|\n",
      "+-----------+----------+---------+--------+------------+-------------------+-------+------+--------------+----------+-------------+-----------+----------+---------+-------+------------+-------------------+-------+------+--------------+----------+-------------+\n",
      "|        101|     Neena|  Kochhar|NKOCHHAR|515.123.4568|2005-09-21 00:00:00|  AD_VP| 17000|          null|       100|           90|        100|    Steven|     King|  SKING|515.123.4567|2003-06-17 00:00:00|AD_PRES| 24000|          null|      null|           90|\n",
      "|        102|       Lex|  De Haan| LDEHAAN|515.123.4569|2001-01-13 00:00:00|  AD_VP| 17000|          null|       100|           90|        100|    Steven|     King|  SKING|515.123.4567|2003-06-17 00:00:00|AD_PRES| 24000|          null|      null|           90|\n",
      "|        103| Alexander|   Hunold| AHUNOLD|590.423.4567|2006-01-03 00:00:00|IT_PROG|  9000|          null|       102|           60|        102|       Lex|  De Haan|LDEHAAN|515.123.4569|2001-01-13 00:00:00|  AD_VP| 17000|          null|       100|           90|\n",
      "|        104|     Bruce|    Ernst|  BERNST|590.423.4568|2007-05-21 00:00:00|IT_PROG|  6000|          null|       103|           60|        103| Alexander|   Hunold|AHUNOLD|590.423.4567|2006-01-03 00:00:00|IT_PROG|  9000|          null|       102|           60|\n",
      "|        105|     David|   Austin| DAUSTIN|590.423.4569|2005-06-25 00:00:00|IT_PROG|  4800|          null|       103|           60|        103| Alexander|   Hunold|AHUNOLD|590.423.4567|2006-01-03 00:00:00|IT_PROG|  9000|          null|       102|           60|\n",
      "+-----------+----------+---------+--------+------------+-------------------+-------+------+--------------+----------+-------------+-----------+----------+---------+-------+------------+-------------------+-------+------+--------------+----------+-------------+\n",
      "only showing top 5 rows\n",
      "\n"
     ]
    }
   ],
   "source": [
    "# 셀프조인 : 각 사원들의 상사(사번과 이름)을 조회하세요\n",
    "# 같은 이름의 테이블을 결합해서 원하는 데이터를 조회하는 것\n",
    "\n",
    "empmgr = emp.alias('emp').join(emp.alias('mgr'), col('emp.MANAGER_ID') == col('mgr.EMPLOYEE_ID'))\n",
    "empmgr.show(5)"
   ]
  },
  {
   "cell_type": "code",
   "execution_count": 32,
   "id": "7b52bdde-58f1-4147-8206-799a7fc5263f",
   "metadata": {},
   "outputs": [
    {
     "name": "stdout",
     "output_type": "stream",
     "text": [
      "+-----------+----------+----------+-----------+----------+\n",
      "|EMPLOYEE_ID|FIRST_NAME|MANAGER_ID|EMPLOYEE_ID|FIRST_NAME|\n",
      "+-----------+----------+----------+-----------+----------+\n",
      "|        101|     Neena|       100|        100|    Steven|\n",
      "|        102|       Lex|       100|        100|    Steven|\n",
      "|        103| Alexander|       102|        102|       Lex|\n",
      "|        104|     Bruce|       103|        103| Alexander|\n",
      "|        105|     David|       103|        103| Alexander|\n",
      "+-----------+----------+----------+-----------+----------+\n",
      "only showing top 5 rows\n",
      "\n"
     ]
    }
   ],
   "source": [
    "empmgr.select('emp.EMPLOYEE_ID','emp.FIRST_NAME', 'emp.MANAGER_ID',\n",
    "              'mgr.EMPLOYEE_ID', 'mgr.FIRST_NAME').show(5)"
   ]
  },
  {
   "cell_type": "markdown",
   "id": "05558a25-fb14-467f-b3ca-89667464e32b",
   "metadata": {},
   "source": [
    "### SparkSQL\n",
    "+ 스파크 데이터프레임에 저장된 데이터들을 SQL 문법을 이용해서 탐색할 수 있도록 해줌\n",
    "+ spark.sql() 함수 사용\n",
    "+ OLTP 보다는 OLAP 처리에 적합"
   ]
  },
  {
   "cell_type": "code",
   "execution_count": 36,
   "id": "05e9a12a-a463-441e-8725-6ffbefcb7106",
   "metadata": {},
   "outputs": [],
   "source": [
    "# 스파크 SQL을 위한 스파크 세션 생성\n",
    "spark = SparkSession.builder.master('app').appName('sparkSQL').getOrCreate()"
   ]
  },
  {
   "cell_type": "code",
   "execution_count": 40,
   "id": "365ba0bf-953a-4318-95bf-284d972eed6a",
   "metadata": {},
   "outputs": [
    {
     "name": "stdout",
     "output_type": "stream",
     "text": [
      "+-----------+----------+\n",
      "| FIRST_NAME| LAST_NAME|\n",
      "+-----------+----------+\n",
      "|     Steven|      King|\n",
      "|      Neena|   Kochhar|\n",
      "|        Lex|   De Haan|\n",
      "|  Alexander|    Hunold|\n",
      "|      Bruce|     Ernst|\n",
      "|      David|    Austin|\n",
      "|      Valli| Pataballa|\n",
      "|      Diana|   Lorentz|\n",
      "|      Nancy| Greenberg|\n",
      "|     Daniel|    Faviet|\n",
      "|       John|      Chen|\n",
      "|     Ismael|   Sciarra|\n",
      "|Jose Manuel|     Urman|\n",
      "|       Luis|      Popp|\n",
      "|        Den|  Raphaely|\n",
      "|  Alexander|      Khoo|\n",
      "|     Shelli|     Baida|\n",
      "|      Sigal|    Tobias|\n",
      "|        Guy|    Himuro|\n",
      "|      Karen|Colmenares|\n",
      "+-----------+----------+\n",
      "only showing top 20 rows\n",
      "\n"
     ]
    }
   ],
   "source": [
    "# SQL 사용을 위한 View 객체 생성\n",
    "EMP = emp.createOrReplaceTempView(\"EMP\")\n",
    "\n",
    "# sql 함수를 이용해서 SQL 질의문 실행하고 결과 출력\n",
    "spark.sql('select FIRST_NAME, LAST_NAME from EMP').show()"
   ]
  },
  {
   "cell_type": "code",
   "execution_count": null,
   "id": "0e3cfb7f-a275-4fd1-b4bc-749597ccad38",
   "metadata": {},
   "outputs": [],
   "source": []
  },
  {
   "cell_type": "code",
   "execution_count": null,
   "id": "9a8db066-519f-4af5-b258-9e0d277332dd",
   "metadata": {},
   "outputs": [],
   "source": []
  }
 ],
 "metadata": {
  "kernelspec": {
   "display_name": "Python 3 (ipykernel)",
   "language": "python",
   "name": "python3"
  },
  "language_info": {
   "codemirror_mode": {
    "name": "ipython",
    "version": 3
   },
   "file_extension": ".py",
   "mimetype": "text/x-python",
   "name": "python",
   "nbconvert_exporter": "python",
   "pygments_lexer": "ipython3",
   "version": "3.7.10"
  }
 },
 "nbformat": 4,
 "nbformat_minor": 5
}
