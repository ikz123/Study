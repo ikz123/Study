{
 "cells": [
  {
   "cell_type": "markdown",
   "id": "99fd76d9-4d5b-4465-88ad-4ddae93d4f02",
   "metadata": {},
   "source": [
    "# ggplot2 패키지에 있는 mpg 데이터셋을 이용해서 다음 문제들을 풀어보세요"
   ]
  },
  {
   "cell_type": "code",
   "execution_count": 1,
   "id": "f76d4710-a5b5-4306-9eec-7933b5d59bad",
   "metadata": {},
   "outputs": [
    {
     "data": {
      "text/html": [
       "<table class=\"dataframe\">\n",
       "<caption>A tibble: 234 × 11</caption>\n",
       "<thead>\n",
       "\t<tr><th scope=col>manufacturer</th><th scope=col>model</th><th scope=col>displ</th><th scope=col>year</th><th scope=col>cyl</th><th scope=col>trans</th><th scope=col>drv</th><th scope=col>cty</th><th scope=col>hwy</th><th scope=col>fl</th><th scope=col>class</th></tr>\n",
       "\t<tr><th scope=col>&lt;chr&gt;</th><th scope=col>&lt;chr&gt;</th><th scope=col>&lt;dbl&gt;</th><th scope=col>&lt;int&gt;</th><th scope=col>&lt;int&gt;</th><th scope=col>&lt;chr&gt;</th><th scope=col>&lt;chr&gt;</th><th scope=col>&lt;int&gt;</th><th scope=col>&lt;int&gt;</th><th scope=col>&lt;chr&gt;</th><th scope=col>&lt;chr&gt;</th></tr>\n",
       "</thead>\n",
       "<tbody>\n",
       "\t<tr><td>audi     </td><td>a4                </td><td>1.8</td><td>1999</td><td>4</td><td>auto(l5)  </td><td>f</td><td>18</td><td>29</td><td>p</td><td>compact</td></tr>\n",
       "\t<tr><td>audi     </td><td>a4                </td><td>1.8</td><td>1999</td><td>4</td><td>manual(m5)</td><td>f</td><td>21</td><td>29</td><td>p</td><td>compact</td></tr>\n",
       "\t<tr><td>audi     </td><td>a4                </td><td>2.0</td><td>2008</td><td>4</td><td>manual(m6)</td><td>f</td><td>20</td><td>31</td><td>p</td><td>compact</td></tr>\n",
       "\t<tr><td>audi     </td><td>a4                </td><td>2.0</td><td>2008</td><td>4</td><td>auto(av)  </td><td>f</td><td>21</td><td>30</td><td>p</td><td>compact</td></tr>\n",
       "\t<tr><td>audi     </td><td>a4                </td><td>2.8</td><td>1999</td><td>6</td><td>auto(l5)  </td><td>f</td><td>16</td><td>26</td><td>p</td><td>compact</td></tr>\n",
       "\t<tr><td>audi     </td><td>a4                </td><td>2.8</td><td>1999</td><td>6</td><td>manual(m5)</td><td>f</td><td>18</td><td>26</td><td>p</td><td>compact</td></tr>\n",
       "\t<tr><td>audi     </td><td>a4                </td><td>3.1</td><td>2008</td><td>6</td><td>auto(av)  </td><td>f</td><td>18</td><td>27</td><td>p</td><td>compact</td></tr>\n",
       "\t<tr><td>audi     </td><td>a4 quattro        </td><td>1.8</td><td>1999</td><td>4</td><td>manual(m5)</td><td>4</td><td>18</td><td>26</td><td>p</td><td>compact</td></tr>\n",
       "\t<tr><td>audi     </td><td>a4 quattro        </td><td>1.8</td><td>1999</td><td>4</td><td>auto(l5)  </td><td>4</td><td>16</td><td>25</td><td>p</td><td>compact</td></tr>\n",
       "\t<tr><td>audi     </td><td>a4 quattro        </td><td>2.0</td><td>2008</td><td>4</td><td>manual(m6)</td><td>4</td><td>20</td><td>28</td><td>p</td><td>compact</td></tr>\n",
       "\t<tr><td>audi     </td><td>a4 quattro        </td><td>2.0</td><td>2008</td><td>4</td><td>auto(s6)  </td><td>4</td><td>19</td><td>27</td><td>p</td><td>compact</td></tr>\n",
       "\t<tr><td>audi     </td><td>a4 quattro        </td><td>2.8</td><td>1999</td><td>6</td><td>auto(l5)  </td><td>4</td><td>15</td><td>25</td><td>p</td><td>compact</td></tr>\n",
       "\t<tr><td>audi     </td><td>a4 quattro        </td><td>2.8</td><td>1999</td><td>6</td><td>manual(m5)</td><td>4</td><td>17</td><td>25</td><td>p</td><td>compact</td></tr>\n",
       "\t<tr><td>audi     </td><td>a4 quattro        </td><td>3.1</td><td>2008</td><td>6</td><td>auto(s6)  </td><td>4</td><td>17</td><td>25</td><td>p</td><td>compact</td></tr>\n",
       "\t<tr><td>audi     </td><td>a4 quattro        </td><td>3.1</td><td>2008</td><td>6</td><td>manual(m6)</td><td>4</td><td>15</td><td>25</td><td>p</td><td>compact</td></tr>\n",
       "\t<tr><td>audi     </td><td>a6 quattro        </td><td>2.8</td><td>1999</td><td>6</td><td>auto(l5)  </td><td>4</td><td>15</td><td>24</td><td>p</td><td>midsize</td></tr>\n",
       "\t<tr><td>audi     </td><td>a6 quattro        </td><td>3.1</td><td>2008</td><td>6</td><td>auto(s6)  </td><td>4</td><td>17</td><td>25</td><td>p</td><td>midsize</td></tr>\n",
       "\t<tr><td>audi     </td><td>a6 quattro        </td><td>4.2</td><td>2008</td><td>8</td><td>auto(s6)  </td><td>4</td><td>16</td><td>23</td><td>p</td><td>midsize</td></tr>\n",
       "\t<tr><td>chevrolet</td><td>c1500 suburban 2wd</td><td>5.3</td><td>2008</td><td>8</td><td>auto(l4)  </td><td>r</td><td>14</td><td>20</td><td>r</td><td>suv    </td></tr>\n",
       "\t<tr><td>chevrolet</td><td>c1500 suburban 2wd</td><td>5.3</td><td>2008</td><td>8</td><td>auto(l4)  </td><td>r</td><td>11</td><td>15</td><td>e</td><td>suv    </td></tr>\n",
       "\t<tr><td>chevrolet</td><td>c1500 suburban 2wd</td><td>5.3</td><td>2008</td><td>8</td><td>auto(l4)  </td><td>r</td><td>14</td><td>20</td><td>r</td><td>suv    </td></tr>\n",
       "\t<tr><td>chevrolet</td><td>c1500 suburban 2wd</td><td>5.7</td><td>1999</td><td>8</td><td>auto(l4)  </td><td>r</td><td>13</td><td>17</td><td>r</td><td>suv    </td></tr>\n",
       "\t<tr><td>chevrolet</td><td>c1500 suburban 2wd</td><td>6.0</td><td>2008</td><td>8</td><td>auto(l4)  </td><td>r</td><td>12</td><td>17</td><td>r</td><td>suv    </td></tr>\n",
       "\t<tr><td>chevrolet</td><td>corvette          </td><td>5.7</td><td>1999</td><td>8</td><td>manual(m6)</td><td>r</td><td>16</td><td>26</td><td>p</td><td>2seater</td></tr>\n",
       "\t<tr><td>chevrolet</td><td>corvette          </td><td>5.7</td><td>1999</td><td>8</td><td>auto(l4)  </td><td>r</td><td>15</td><td>23</td><td>p</td><td>2seater</td></tr>\n",
       "\t<tr><td>chevrolet</td><td>corvette          </td><td>6.2</td><td>2008</td><td>8</td><td>manual(m6)</td><td>r</td><td>16</td><td>26</td><td>p</td><td>2seater</td></tr>\n",
       "\t<tr><td>chevrolet</td><td>corvette          </td><td>6.2</td><td>2008</td><td>8</td><td>auto(s6)  </td><td>r</td><td>15</td><td>25</td><td>p</td><td>2seater</td></tr>\n",
       "\t<tr><td>chevrolet</td><td>corvette          </td><td>7.0</td><td>2008</td><td>8</td><td>manual(m6)</td><td>r</td><td>15</td><td>24</td><td>p</td><td>2seater</td></tr>\n",
       "\t<tr><td>chevrolet</td><td>k1500 tahoe 4wd   </td><td>5.3</td><td>2008</td><td>8</td><td>auto(l4)  </td><td>4</td><td>14</td><td>19</td><td>r</td><td>suv    </td></tr>\n",
       "\t<tr><td>chevrolet</td><td>k1500 tahoe 4wd   </td><td>5.3</td><td>2008</td><td>8</td><td>auto(l4)  </td><td>4</td><td>11</td><td>14</td><td>e</td><td>suv    </td></tr>\n",
       "\t<tr><td>⋮</td><td>⋮</td><td>⋮</td><td>⋮</td><td>⋮</td><td>⋮</td><td>⋮</td><td>⋮</td><td>⋮</td><td>⋮</td><td>⋮</td></tr>\n",
       "\t<tr><td>toyota    </td><td>toyota tacoma 4wd</td><td>3.4</td><td>1999</td><td>6</td><td>auto(l4)  </td><td>4</td><td>15</td><td>19</td><td>r</td><td>pickup    </td></tr>\n",
       "\t<tr><td>toyota    </td><td>toyota tacoma 4wd</td><td>4.0</td><td>2008</td><td>6</td><td>manual(m6)</td><td>4</td><td>15</td><td>18</td><td>r</td><td>pickup    </td></tr>\n",
       "\t<tr><td>toyota    </td><td>toyota tacoma 4wd</td><td>4.0</td><td>2008</td><td>6</td><td>auto(l5)  </td><td>4</td><td>16</td><td>20</td><td>r</td><td>pickup    </td></tr>\n",
       "\t<tr><td>volkswagen</td><td>gti              </td><td>2.0</td><td>1999</td><td>4</td><td>manual(m5)</td><td>f</td><td>21</td><td>29</td><td>r</td><td>compact   </td></tr>\n",
       "\t<tr><td>volkswagen</td><td>gti              </td><td>2.0</td><td>1999</td><td>4</td><td>auto(l4)  </td><td>f</td><td>19</td><td>26</td><td>r</td><td>compact   </td></tr>\n",
       "\t<tr><td>volkswagen</td><td>gti              </td><td>2.0</td><td>2008</td><td>4</td><td>manual(m6)</td><td>f</td><td>21</td><td>29</td><td>p</td><td>compact   </td></tr>\n",
       "\t<tr><td>volkswagen</td><td>gti              </td><td>2.0</td><td>2008</td><td>4</td><td>auto(s6)  </td><td>f</td><td>22</td><td>29</td><td>p</td><td>compact   </td></tr>\n",
       "\t<tr><td>volkswagen</td><td>gti              </td><td>2.8</td><td>1999</td><td>6</td><td>manual(m5)</td><td>f</td><td>17</td><td>24</td><td>r</td><td>compact   </td></tr>\n",
       "\t<tr><td>volkswagen</td><td>jetta            </td><td>1.9</td><td>1999</td><td>4</td><td>manual(m5)</td><td>f</td><td>33</td><td>44</td><td>d</td><td>compact   </td></tr>\n",
       "\t<tr><td>volkswagen</td><td>jetta            </td><td>2.0</td><td>1999</td><td>4</td><td>manual(m5)</td><td>f</td><td>21</td><td>29</td><td>r</td><td>compact   </td></tr>\n",
       "\t<tr><td>volkswagen</td><td>jetta            </td><td>2.0</td><td>1999</td><td>4</td><td>auto(l4)  </td><td>f</td><td>19</td><td>26</td><td>r</td><td>compact   </td></tr>\n",
       "\t<tr><td>volkswagen</td><td>jetta            </td><td>2.0</td><td>2008</td><td>4</td><td>auto(s6)  </td><td>f</td><td>22</td><td>29</td><td>p</td><td>compact   </td></tr>\n",
       "\t<tr><td>volkswagen</td><td>jetta            </td><td>2.0</td><td>2008</td><td>4</td><td>manual(m6)</td><td>f</td><td>21</td><td>29</td><td>p</td><td>compact   </td></tr>\n",
       "\t<tr><td>volkswagen</td><td>jetta            </td><td>2.5</td><td>2008</td><td>5</td><td>auto(s6)  </td><td>f</td><td>21</td><td>29</td><td>r</td><td>compact   </td></tr>\n",
       "\t<tr><td>volkswagen</td><td>jetta            </td><td>2.5</td><td>2008</td><td>5</td><td>manual(m5)</td><td>f</td><td>21</td><td>29</td><td>r</td><td>compact   </td></tr>\n",
       "\t<tr><td>volkswagen</td><td>jetta            </td><td>2.8</td><td>1999</td><td>6</td><td>auto(l4)  </td><td>f</td><td>16</td><td>23</td><td>r</td><td>compact   </td></tr>\n",
       "\t<tr><td>volkswagen</td><td>jetta            </td><td>2.8</td><td>1999</td><td>6</td><td>manual(m5)</td><td>f</td><td>17</td><td>24</td><td>r</td><td>compact   </td></tr>\n",
       "\t<tr><td>volkswagen</td><td>new beetle       </td><td>1.9</td><td>1999</td><td>4</td><td>manual(m5)</td><td>f</td><td>35</td><td>44</td><td>d</td><td>subcompact</td></tr>\n",
       "\t<tr><td>volkswagen</td><td>new beetle       </td><td>1.9</td><td>1999</td><td>4</td><td>auto(l4)  </td><td>f</td><td>29</td><td>41</td><td>d</td><td>subcompact</td></tr>\n",
       "\t<tr><td>volkswagen</td><td>new beetle       </td><td>2.0</td><td>1999</td><td>4</td><td>manual(m5)</td><td>f</td><td>21</td><td>29</td><td>r</td><td>subcompact</td></tr>\n",
       "\t<tr><td>volkswagen</td><td>new beetle       </td><td>2.0</td><td>1999</td><td>4</td><td>auto(l4)  </td><td>f</td><td>19</td><td>26</td><td>r</td><td>subcompact</td></tr>\n",
       "\t<tr><td>volkswagen</td><td>new beetle       </td><td>2.5</td><td>2008</td><td>5</td><td>manual(m5)</td><td>f</td><td>20</td><td>28</td><td>r</td><td>subcompact</td></tr>\n",
       "\t<tr><td>volkswagen</td><td>new beetle       </td><td>2.5</td><td>2008</td><td>5</td><td>auto(s6)  </td><td>f</td><td>20</td><td>29</td><td>r</td><td>subcompact</td></tr>\n",
       "\t<tr><td>volkswagen</td><td>passat           </td><td>1.8</td><td>1999</td><td>4</td><td>manual(m5)</td><td>f</td><td>21</td><td>29</td><td>p</td><td>midsize   </td></tr>\n",
       "\t<tr><td>volkswagen</td><td>passat           </td><td>1.8</td><td>1999</td><td>4</td><td>auto(l5)  </td><td>f</td><td>18</td><td>29</td><td>p</td><td>midsize   </td></tr>\n",
       "\t<tr><td>volkswagen</td><td>passat           </td><td>2.0</td><td>2008</td><td>4</td><td>auto(s6)  </td><td>f</td><td>19</td><td>28</td><td>p</td><td>midsize   </td></tr>\n",
       "\t<tr><td>volkswagen</td><td>passat           </td><td>2.0</td><td>2008</td><td>4</td><td>manual(m6)</td><td>f</td><td>21</td><td>29</td><td>p</td><td>midsize   </td></tr>\n",
       "\t<tr><td>volkswagen</td><td>passat           </td><td>2.8</td><td>1999</td><td>6</td><td>auto(l5)  </td><td>f</td><td>16</td><td>26</td><td>p</td><td>midsize   </td></tr>\n",
       "\t<tr><td>volkswagen</td><td>passat           </td><td>2.8</td><td>1999</td><td>6</td><td>manual(m5)</td><td>f</td><td>18</td><td>26</td><td>p</td><td>midsize   </td></tr>\n",
       "\t<tr><td>volkswagen</td><td>passat           </td><td>3.6</td><td>2008</td><td>6</td><td>auto(s6)  </td><td>f</td><td>17</td><td>26</td><td>p</td><td>midsize   </td></tr>\n",
       "</tbody>\n",
       "</table>\n"
      ],
      "text/latex": [
       "A tibble: 234 × 11\n",
       "\\begin{tabular}{lllllllllll}\n",
       " manufacturer & model & displ & year & cyl & trans & drv & cty & hwy & fl & class\\\\\n",
       " <chr> & <chr> & <dbl> & <int> & <int> & <chr> & <chr> & <int> & <int> & <chr> & <chr>\\\\\n",
       "\\hline\n",
       "\t audi      & a4                 & 1.8 & 1999 & 4 & auto(l5)   & f & 18 & 29 & p & compact\\\\\n",
       "\t audi      & a4                 & 1.8 & 1999 & 4 & manual(m5) & f & 21 & 29 & p & compact\\\\\n",
       "\t audi      & a4                 & 2.0 & 2008 & 4 & manual(m6) & f & 20 & 31 & p & compact\\\\\n",
       "\t audi      & a4                 & 2.0 & 2008 & 4 & auto(av)   & f & 21 & 30 & p & compact\\\\\n",
       "\t audi      & a4                 & 2.8 & 1999 & 6 & auto(l5)   & f & 16 & 26 & p & compact\\\\\n",
       "\t audi      & a4                 & 2.8 & 1999 & 6 & manual(m5) & f & 18 & 26 & p & compact\\\\\n",
       "\t audi      & a4                 & 3.1 & 2008 & 6 & auto(av)   & f & 18 & 27 & p & compact\\\\\n",
       "\t audi      & a4 quattro         & 1.8 & 1999 & 4 & manual(m5) & 4 & 18 & 26 & p & compact\\\\\n",
       "\t audi      & a4 quattro         & 1.8 & 1999 & 4 & auto(l5)   & 4 & 16 & 25 & p & compact\\\\\n",
       "\t audi      & a4 quattro         & 2.0 & 2008 & 4 & manual(m6) & 4 & 20 & 28 & p & compact\\\\\n",
       "\t audi      & a4 quattro         & 2.0 & 2008 & 4 & auto(s6)   & 4 & 19 & 27 & p & compact\\\\\n",
       "\t audi      & a4 quattro         & 2.8 & 1999 & 6 & auto(l5)   & 4 & 15 & 25 & p & compact\\\\\n",
       "\t audi      & a4 quattro         & 2.8 & 1999 & 6 & manual(m5) & 4 & 17 & 25 & p & compact\\\\\n",
       "\t audi      & a4 quattro         & 3.1 & 2008 & 6 & auto(s6)   & 4 & 17 & 25 & p & compact\\\\\n",
       "\t audi      & a4 quattro         & 3.1 & 2008 & 6 & manual(m6) & 4 & 15 & 25 & p & compact\\\\\n",
       "\t audi      & a6 quattro         & 2.8 & 1999 & 6 & auto(l5)   & 4 & 15 & 24 & p & midsize\\\\\n",
       "\t audi      & a6 quattro         & 3.1 & 2008 & 6 & auto(s6)   & 4 & 17 & 25 & p & midsize\\\\\n",
       "\t audi      & a6 quattro         & 4.2 & 2008 & 8 & auto(s6)   & 4 & 16 & 23 & p & midsize\\\\\n",
       "\t chevrolet & c1500 suburban 2wd & 5.3 & 2008 & 8 & auto(l4)   & r & 14 & 20 & r & suv    \\\\\n",
       "\t chevrolet & c1500 suburban 2wd & 5.3 & 2008 & 8 & auto(l4)   & r & 11 & 15 & e & suv    \\\\\n",
       "\t chevrolet & c1500 suburban 2wd & 5.3 & 2008 & 8 & auto(l4)   & r & 14 & 20 & r & suv    \\\\\n",
       "\t chevrolet & c1500 suburban 2wd & 5.7 & 1999 & 8 & auto(l4)   & r & 13 & 17 & r & suv    \\\\\n",
       "\t chevrolet & c1500 suburban 2wd & 6.0 & 2008 & 8 & auto(l4)   & r & 12 & 17 & r & suv    \\\\\n",
       "\t chevrolet & corvette           & 5.7 & 1999 & 8 & manual(m6) & r & 16 & 26 & p & 2seater\\\\\n",
       "\t chevrolet & corvette           & 5.7 & 1999 & 8 & auto(l4)   & r & 15 & 23 & p & 2seater\\\\\n",
       "\t chevrolet & corvette           & 6.2 & 2008 & 8 & manual(m6) & r & 16 & 26 & p & 2seater\\\\\n",
       "\t chevrolet & corvette           & 6.2 & 2008 & 8 & auto(s6)   & r & 15 & 25 & p & 2seater\\\\\n",
       "\t chevrolet & corvette           & 7.0 & 2008 & 8 & manual(m6) & r & 15 & 24 & p & 2seater\\\\\n",
       "\t chevrolet & k1500 tahoe 4wd    & 5.3 & 2008 & 8 & auto(l4)   & 4 & 14 & 19 & r & suv    \\\\\n",
       "\t chevrolet & k1500 tahoe 4wd    & 5.3 & 2008 & 8 & auto(l4)   & 4 & 11 & 14 & e & suv    \\\\\n",
       "\t ⋮ & ⋮ & ⋮ & ⋮ & ⋮ & ⋮ & ⋮ & ⋮ & ⋮ & ⋮ & ⋮\\\\\n",
       "\t toyota     & toyota tacoma 4wd & 3.4 & 1999 & 6 & auto(l4)   & 4 & 15 & 19 & r & pickup    \\\\\n",
       "\t toyota     & toyota tacoma 4wd & 4.0 & 2008 & 6 & manual(m6) & 4 & 15 & 18 & r & pickup    \\\\\n",
       "\t toyota     & toyota tacoma 4wd & 4.0 & 2008 & 6 & auto(l5)   & 4 & 16 & 20 & r & pickup    \\\\\n",
       "\t volkswagen & gti               & 2.0 & 1999 & 4 & manual(m5) & f & 21 & 29 & r & compact   \\\\\n",
       "\t volkswagen & gti               & 2.0 & 1999 & 4 & auto(l4)   & f & 19 & 26 & r & compact   \\\\\n",
       "\t volkswagen & gti               & 2.0 & 2008 & 4 & manual(m6) & f & 21 & 29 & p & compact   \\\\\n",
       "\t volkswagen & gti               & 2.0 & 2008 & 4 & auto(s6)   & f & 22 & 29 & p & compact   \\\\\n",
       "\t volkswagen & gti               & 2.8 & 1999 & 6 & manual(m5) & f & 17 & 24 & r & compact   \\\\\n",
       "\t volkswagen & jetta             & 1.9 & 1999 & 4 & manual(m5) & f & 33 & 44 & d & compact   \\\\\n",
       "\t volkswagen & jetta             & 2.0 & 1999 & 4 & manual(m5) & f & 21 & 29 & r & compact   \\\\\n",
       "\t volkswagen & jetta             & 2.0 & 1999 & 4 & auto(l4)   & f & 19 & 26 & r & compact   \\\\\n",
       "\t volkswagen & jetta             & 2.0 & 2008 & 4 & auto(s6)   & f & 22 & 29 & p & compact   \\\\\n",
       "\t volkswagen & jetta             & 2.0 & 2008 & 4 & manual(m6) & f & 21 & 29 & p & compact   \\\\\n",
       "\t volkswagen & jetta             & 2.5 & 2008 & 5 & auto(s6)   & f & 21 & 29 & r & compact   \\\\\n",
       "\t volkswagen & jetta             & 2.5 & 2008 & 5 & manual(m5) & f & 21 & 29 & r & compact   \\\\\n",
       "\t volkswagen & jetta             & 2.8 & 1999 & 6 & auto(l4)   & f & 16 & 23 & r & compact   \\\\\n",
       "\t volkswagen & jetta             & 2.8 & 1999 & 6 & manual(m5) & f & 17 & 24 & r & compact   \\\\\n",
       "\t volkswagen & new beetle        & 1.9 & 1999 & 4 & manual(m5) & f & 35 & 44 & d & subcompact\\\\\n",
       "\t volkswagen & new beetle        & 1.9 & 1999 & 4 & auto(l4)   & f & 29 & 41 & d & subcompact\\\\\n",
       "\t volkswagen & new beetle        & 2.0 & 1999 & 4 & manual(m5) & f & 21 & 29 & r & subcompact\\\\\n",
       "\t volkswagen & new beetle        & 2.0 & 1999 & 4 & auto(l4)   & f & 19 & 26 & r & subcompact\\\\\n",
       "\t volkswagen & new beetle        & 2.5 & 2008 & 5 & manual(m5) & f & 20 & 28 & r & subcompact\\\\\n",
       "\t volkswagen & new beetle        & 2.5 & 2008 & 5 & auto(s6)   & f & 20 & 29 & r & subcompact\\\\\n",
       "\t volkswagen & passat            & 1.8 & 1999 & 4 & manual(m5) & f & 21 & 29 & p & midsize   \\\\\n",
       "\t volkswagen & passat            & 1.8 & 1999 & 4 & auto(l5)   & f & 18 & 29 & p & midsize   \\\\\n",
       "\t volkswagen & passat            & 2.0 & 2008 & 4 & auto(s6)   & f & 19 & 28 & p & midsize   \\\\\n",
       "\t volkswagen & passat            & 2.0 & 2008 & 4 & manual(m6) & f & 21 & 29 & p & midsize   \\\\\n",
       "\t volkswagen & passat            & 2.8 & 1999 & 6 & auto(l5)   & f & 16 & 26 & p & midsize   \\\\\n",
       "\t volkswagen & passat            & 2.8 & 1999 & 6 & manual(m5) & f & 18 & 26 & p & midsize   \\\\\n",
       "\t volkswagen & passat            & 3.6 & 2008 & 6 & auto(s6)   & f & 17 & 26 & p & midsize   \\\\\n",
       "\\end{tabular}\n"
      ],
      "text/markdown": [
       "\n",
       "A tibble: 234 × 11\n",
       "\n",
       "| manufacturer &lt;chr&gt; | model &lt;chr&gt; | displ &lt;dbl&gt; | year &lt;int&gt; | cyl &lt;int&gt; | trans &lt;chr&gt; | drv &lt;chr&gt; | cty &lt;int&gt; | hwy &lt;int&gt; | fl &lt;chr&gt; | class &lt;chr&gt; |\n",
       "|---|---|---|---|---|---|---|---|---|---|---|\n",
       "| audi      | a4                 | 1.8 | 1999 | 4 | auto(l5)   | f | 18 | 29 | p | compact |\n",
       "| audi      | a4                 | 1.8 | 1999 | 4 | manual(m5) | f | 21 | 29 | p | compact |\n",
       "| audi      | a4                 | 2.0 | 2008 | 4 | manual(m6) | f | 20 | 31 | p | compact |\n",
       "| audi      | a4                 | 2.0 | 2008 | 4 | auto(av)   | f | 21 | 30 | p | compact |\n",
       "| audi      | a4                 | 2.8 | 1999 | 6 | auto(l5)   | f | 16 | 26 | p | compact |\n",
       "| audi      | a4                 | 2.8 | 1999 | 6 | manual(m5) | f | 18 | 26 | p | compact |\n",
       "| audi      | a4                 | 3.1 | 2008 | 6 | auto(av)   | f | 18 | 27 | p | compact |\n",
       "| audi      | a4 quattro         | 1.8 | 1999 | 4 | manual(m5) | 4 | 18 | 26 | p | compact |\n",
       "| audi      | a4 quattro         | 1.8 | 1999 | 4 | auto(l5)   | 4 | 16 | 25 | p | compact |\n",
       "| audi      | a4 quattro         | 2.0 | 2008 | 4 | manual(m6) | 4 | 20 | 28 | p | compact |\n",
       "| audi      | a4 quattro         | 2.0 | 2008 | 4 | auto(s6)   | 4 | 19 | 27 | p | compact |\n",
       "| audi      | a4 quattro         | 2.8 | 1999 | 6 | auto(l5)   | 4 | 15 | 25 | p | compact |\n",
       "| audi      | a4 quattro         | 2.8 | 1999 | 6 | manual(m5) | 4 | 17 | 25 | p | compact |\n",
       "| audi      | a4 quattro         | 3.1 | 2008 | 6 | auto(s6)   | 4 | 17 | 25 | p | compact |\n",
       "| audi      | a4 quattro         | 3.1 | 2008 | 6 | manual(m6) | 4 | 15 | 25 | p | compact |\n",
       "| audi      | a6 quattro         | 2.8 | 1999 | 6 | auto(l5)   | 4 | 15 | 24 | p | midsize |\n",
       "| audi      | a6 quattro         | 3.1 | 2008 | 6 | auto(s6)   | 4 | 17 | 25 | p | midsize |\n",
       "| audi      | a6 quattro         | 4.2 | 2008 | 8 | auto(s6)   | 4 | 16 | 23 | p | midsize |\n",
       "| chevrolet | c1500 suburban 2wd | 5.3 | 2008 | 8 | auto(l4)   | r | 14 | 20 | r | suv     |\n",
       "| chevrolet | c1500 suburban 2wd | 5.3 | 2008 | 8 | auto(l4)   | r | 11 | 15 | e | suv     |\n",
       "| chevrolet | c1500 suburban 2wd | 5.3 | 2008 | 8 | auto(l4)   | r | 14 | 20 | r | suv     |\n",
       "| chevrolet | c1500 suburban 2wd | 5.7 | 1999 | 8 | auto(l4)   | r | 13 | 17 | r | suv     |\n",
       "| chevrolet | c1500 suburban 2wd | 6.0 | 2008 | 8 | auto(l4)   | r | 12 | 17 | r | suv     |\n",
       "| chevrolet | corvette           | 5.7 | 1999 | 8 | manual(m6) | r | 16 | 26 | p | 2seater |\n",
       "| chevrolet | corvette           | 5.7 | 1999 | 8 | auto(l4)   | r | 15 | 23 | p | 2seater |\n",
       "| chevrolet | corvette           | 6.2 | 2008 | 8 | manual(m6) | r | 16 | 26 | p | 2seater |\n",
       "| chevrolet | corvette           | 6.2 | 2008 | 8 | auto(s6)   | r | 15 | 25 | p | 2seater |\n",
       "| chevrolet | corvette           | 7.0 | 2008 | 8 | manual(m6) | r | 15 | 24 | p | 2seater |\n",
       "| chevrolet | k1500 tahoe 4wd    | 5.3 | 2008 | 8 | auto(l4)   | 4 | 14 | 19 | r | suv     |\n",
       "| chevrolet | k1500 tahoe 4wd    | 5.3 | 2008 | 8 | auto(l4)   | 4 | 11 | 14 | e | suv     |\n",
       "| ⋮ | ⋮ | ⋮ | ⋮ | ⋮ | ⋮ | ⋮ | ⋮ | ⋮ | ⋮ | ⋮ |\n",
       "| toyota     | toyota tacoma 4wd | 3.4 | 1999 | 6 | auto(l4)   | 4 | 15 | 19 | r | pickup     |\n",
       "| toyota     | toyota tacoma 4wd | 4.0 | 2008 | 6 | manual(m6) | 4 | 15 | 18 | r | pickup     |\n",
       "| toyota     | toyota tacoma 4wd | 4.0 | 2008 | 6 | auto(l5)   | 4 | 16 | 20 | r | pickup     |\n",
       "| volkswagen | gti               | 2.0 | 1999 | 4 | manual(m5) | f | 21 | 29 | r | compact    |\n",
       "| volkswagen | gti               | 2.0 | 1999 | 4 | auto(l4)   | f | 19 | 26 | r | compact    |\n",
       "| volkswagen | gti               | 2.0 | 2008 | 4 | manual(m6) | f | 21 | 29 | p | compact    |\n",
       "| volkswagen | gti               | 2.0 | 2008 | 4 | auto(s6)   | f | 22 | 29 | p | compact    |\n",
       "| volkswagen | gti               | 2.8 | 1999 | 6 | manual(m5) | f | 17 | 24 | r | compact    |\n",
       "| volkswagen | jetta             | 1.9 | 1999 | 4 | manual(m5) | f | 33 | 44 | d | compact    |\n",
       "| volkswagen | jetta             | 2.0 | 1999 | 4 | manual(m5) | f | 21 | 29 | r | compact    |\n",
       "| volkswagen | jetta             | 2.0 | 1999 | 4 | auto(l4)   | f | 19 | 26 | r | compact    |\n",
       "| volkswagen | jetta             | 2.0 | 2008 | 4 | auto(s6)   | f | 22 | 29 | p | compact    |\n",
       "| volkswagen | jetta             | 2.0 | 2008 | 4 | manual(m6) | f | 21 | 29 | p | compact    |\n",
       "| volkswagen | jetta             | 2.5 | 2008 | 5 | auto(s6)   | f | 21 | 29 | r | compact    |\n",
       "| volkswagen | jetta             | 2.5 | 2008 | 5 | manual(m5) | f | 21 | 29 | r | compact    |\n",
       "| volkswagen | jetta             | 2.8 | 1999 | 6 | auto(l4)   | f | 16 | 23 | r | compact    |\n",
       "| volkswagen | jetta             | 2.8 | 1999 | 6 | manual(m5) | f | 17 | 24 | r | compact    |\n",
       "| volkswagen | new beetle        | 1.9 | 1999 | 4 | manual(m5) | f | 35 | 44 | d | subcompact |\n",
       "| volkswagen | new beetle        | 1.9 | 1999 | 4 | auto(l4)   | f | 29 | 41 | d | subcompact |\n",
       "| volkswagen | new beetle        | 2.0 | 1999 | 4 | manual(m5) | f | 21 | 29 | r | subcompact |\n",
       "| volkswagen | new beetle        | 2.0 | 1999 | 4 | auto(l4)   | f | 19 | 26 | r | subcompact |\n",
       "| volkswagen | new beetle        | 2.5 | 2008 | 5 | manual(m5) | f | 20 | 28 | r | subcompact |\n",
       "| volkswagen | new beetle        | 2.5 | 2008 | 5 | auto(s6)   | f | 20 | 29 | r | subcompact |\n",
       "| volkswagen | passat            | 1.8 | 1999 | 4 | manual(m5) | f | 21 | 29 | p | midsize    |\n",
       "| volkswagen | passat            | 1.8 | 1999 | 4 | auto(l5)   | f | 18 | 29 | p | midsize    |\n",
       "| volkswagen | passat            | 2.0 | 2008 | 4 | auto(s6)   | f | 19 | 28 | p | midsize    |\n",
       "| volkswagen | passat            | 2.0 | 2008 | 4 | manual(m6) | f | 21 | 29 | p | midsize    |\n",
       "| volkswagen | passat            | 2.8 | 1999 | 6 | auto(l5)   | f | 16 | 26 | p | midsize    |\n",
       "| volkswagen | passat            | 2.8 | 1999 | 6 | manual(m5) | f | 18 | 26 | p | midsize    |\n",
       "| volkswagen | passat            | 3.6 | 2008 | 6 | auto(s6)   | f | 17 | 26 | p | midsize    |\n",
       "\n"
      ],
      "text/plain": [
       "    manufacturer model              displ year cyl trans      drv cty hwy fl\n",
       "1   audi         a4                 1.8   1999 4   auto(l5)   f   18  29  p \n",
       "2   audi         a4                 1.8   1999 4   manual(m5) f   21  29  p \n",
       "3   audi         a4                 2.0   2008 4   manual(m6) f   20  31  p \n",
       "4   audi         a4                 2.0   2008 4   auto(av)   f   21  30  p \n",
       "5   audi         a4                 2.8   1999 6   auto(l5)   f   16  26  p \n",
       "6   audi         a4                 2.8   1999 6   manual(m5) f   18  26  p \n",
       "7   audi         a4                 3.1   2008 6   auto(av)   f   18  27  p \n",
       "8   audi         a4 quattro         1.8   1999 4   manual(m5) 4   18  26  p \n",
       "9   audi         a4 quattro         1.8   1999 4   auto(l5)   4   16  25  p \n",
       "10  audi         a4 quattro         2.0   2008 4   manual(m6) 4   20  28  p \n",
       "11  audi         a4 quattro         2.0   2008 4   auto(s6)   4   19  27  p \n",
       "12  audi         a4 quattro         2.8   1999 6   auto(l5)   4   15  25  p \n",
       "13  audi         a4 quattro         2.8   1999 6   manual(m5) 4   17  25  p \n",
       "14  audi         a4 quattro         3.1   2008 6   auto(s6)   4   17  25  p \n",
       "15  audi         a4 quattro         3.1   2008 6   manual(m6) 4   15  25  p \n",
       "16  audi         a6 quattro         2.8   1999 6   auto(l5)   4   15  24  p \n",
       "17  audi         a6 quattro         3.1   2008 6   auto(s6)   4   17  25  p \n",
       "18  audi         a6 quattro         4.2   2008 8   auto(s6)   4   16  23  p \n",
       "19  chevrolet    c1500 suburban 2wd 5.3   2008 8   auto(l4)   r   14  20  r \n",
       "20  chevrolet    c1500 suburban 2wd 5.3   2008 8   auto(l4)   r   11  15  e \n",
       "21  chevrolet    c1500 suburban 2wd 5.3   2008 8   auto(l4)   r   14  20  r \n",
       "22  chevrolet    c1500 suburban 2wd 5.7   1999 8   auto(l4)   r   13  17  r \n",
       "23  chevrolet    c1500 suburban 2wd 6.0   2008 8   auto(l4)   r   12  17  r \n",
       "24  chevrolet    corvette           5.7   1999 8   manual(m6) r   16  26  p \n",
       "25  chevrolet    corvette           5.7   1999 8   auto(l4)   r   15  23  p \n",
       "26  chevrolet    corvette           6.2   2008 8   manual(m6) r   16  26  p \n",
       "27  chevrolet    corvette           6.2   2008 8   auto(s6)   r   15  25  p \n",
       "28  chevrolet    corvette           7.0   2008 8   manual(m6) r   15  24  p \n",
       "29  chevrolet    k1500 tahoe 4wd    5.3   2008 8   auto(l4)   4   14  19  r \n",
       "30  chevrolet    k1500 tahoe 4wd    5.3   2008 8   auto(l4)   4   11  14  e \n",
       "⋮   ⋮            ⋮                  ⋮     ⋮    ⋮   ⋮          ⋮   ⋮   ⋮   ⋮ \n",
       "205 toyota       toyota tacoma 4wd  3.4   1999 6   auto(l4)   4   15  19  r \n",
       "206 toyota       toyota tacoma 4wd  4.0   2008 6   manual(m6) 4   15  18  r \n",
       "207 toyota       toyota tacoma 4wd  4.0   2008 6   auto(l5)   4   16  20  r \n",
       "208 volkswagen   gti                2.0   1999 4   manual(m5) f   21  29  r \n",
       "209 volkswagen   gti                2.0   1999 4   auto(l4)   f   19  26  r \n",
       "210 volkswagen   gti                2.0   2008 4   manual(m6) f   21  29  p \n",
       "211 volkswagen   gti                2.0   2008 4   auto(s6)   f   22  29  p \n",
       "212 volkswagen   gti                2.8   1999 6   manual(m5) f   17  24  r \n",
       "213 volkswagen   jetta              1.9   1999 4   manual(m5) f   33  44  d \n",
       "214 volkswagen   jetta              2.0   1999 4   manual(m5) f   21  29  r \n",
       "215 volkswagen   jetta              2.0   1999 4   auto(l4)   f   19  26  r \n",
       "216 volkswagen   jetta              2.0   2008 4   auto(s6)   f   22  29  p \n",
       "217 volkswagen   jetta              2.0   2008 4   manual(m6) f   21  29  p \n",
       "218 volkswagen   jetta              2.5   2008 5   auto(s6)   f   21  29  r \n",
       "219 volkswagen   jetta              2.5   2008 5   manual(m5) f   21  29  r \n",
       "220 volkswagen   jetta              2.8   1999 6   auto(l4)   f   16  23  r \n",
       "221 volkswagen   jetta              2.8   1999 6   manual(m5) f   17  24  r \n",
       "222 volkswagen   new beetle         1.9   1999 4   manual(m5) f   35  44  d \n",
       "223 volkswagen   new beetle         1.9   1999 4   auto(l4)   f   29  41  d \n",
       "224 volkswagen   new beetle         2.0   1999 4   manual(m5) f   21  29  r \n",
       "225 volkswagen   new beetle         2.0   1999 4   auto(l4)   f   19  26  r \n",
       "226 volkswagen   new beetle         2.5   2008 5   manual(m5) f   20  28  r \n",
       "227 volkswagen   new beetle         2.5   2008 5   auto(s6)   f   20  29  r \n",
       "228 volkswagen   passat             1.8   1999 4   manual(m5) f   21  29  p \n",
       "229 volkswagen   passat             1.8   1999 4   auto(l5)   f   18  29  p \n",
       "230 volkswagen   passat             2.0   2008 4   auto(s6)   f   19  28  p \n",
       "231 volkswagen   passat             2.0   2008 4   manual(m6) f   21  29  p \n",
       "232 volkswagen   passat             2.8   1999 6   auto(l5)   f   16  26  p \n",
       "233 volkswagen   passat             2.8   1999 6   manual(m5) f   18  26  p \n",
       "234 volkswagen   passat             3.6   2008 6   auto(s6)   f   17  26  p \n",
       "    class     \n",
       "1   compact   \n",
       "2   compact   \n",
       "3   compact   \n",
       "4   compact   \n",
       "5   compact   \n",
       "6   compact   \n",
       "7   compact   \n",
       "8   compact   \n",
       "9   compact   \n",
       "10  compact   \n",
       "11  compact   \n",
       "12  compact   \n",
       "13  compact   \n",
       "14  compact   \n",
       "15  compact   \n",
       "16  midsize   \n",
       "17  midsize   \n",
       "18  midsize   \n",
       "19  suv       \n",
       "20  suv       \n",
       "21  suv       \n",
       "22  suv       \n",
       "23  suv       \n",
       "24  2seater   \n",
       "25  2seater   \n",
       "26  2seater   \n",
       "27  2seater   \n",
       "28  2seater   \n",
       "29  suv       \n",
       "30  suv       \n",
       "⋮   ⋮         \n",
       "205 pickup    \n",
       "206 pickup    \n",
       "207 pickup    \n",
       "208 compact   \n",
       "209 compact   \n",
       "210 compact   \n",
       "211 compact   \n",
       "212 compact   \n",
       "213 compact   \n",
       "214 compact   \n",
       "215 compact   \n",
       "216 compact   \n",
       "217 compact   \n",
       "218 compact   \n",
       "219 compact   \n",
       "220 compact   \n",
       "221 compact   \n",
       "222 subcompact\n",
       "223 subcompact\n",
       "224 subcompact\n",
       "225 subcompact\n",
       "226 subcompact\n",
       "227 subcompact\n",
       "228 midsize   \n",
       "229 midsize   \n",
       "230 midsize   \n",
       "231 midsize   \n",
       "232 midsize   \n",
       "233 midsize   \n",
       "234 midsize   "
      ]
     },
     "metadata": {},
     "output_type": "display_data"
    }
   ],
   "source": [
    "library(ggplot2)\n",
    "\n",
    "mpg"
   ]
  },
  {
   "cell_type": "code",
   "execution_count": 6,
   "id": "3cdf6695-80cf-42b3-ba61-56e288690ced",
   "metadata": {},
   "outputs": [],
   "source": [
    "library(ggplot2)"
   ]
  },
  {
   "cell_type": "code",
   "execution_count": 5,
   "id": "2366fbeb-065d-4be1-a1df-f0d622320221",
   "metadata": {},
   "outputs": [],
   "source": [
    "library(dplyr)"
   ]
  },
  {
   "cell_type": "code",
   "execution_count": 7,
   "id": "6ca25de7-ce4e-46ed-b9d2-1995010d489c",
   "metadata": {},
   "outputs": [
    {
     "name": "stdout",
     "output_type": "stream",
     "text": [
      "\u001b[90m# A tibble: 234 × 2\u001b[39m\n",
      "   class     cty\n",
      "   \u001b[3m\u001b[90m<chr>\u001b[39m\u001b[23m   \u001b[3m\u001b[90m<int>\u001b[39m\u001b[23m\n",
      "\u001b[90m 1\u001b[39m compact    18\n",
      "\u001b[90m 2\u001b[39m compact    21\n",
      "\u001b[90m 3\u001b[39m compact    20\n",
      "\u001b[90m 4\u001b[39m compact    21\n",
      "\u001b[90m 5\u001b[39m compact    16\n",
      "\u001b[90m 6\u001b[39m compact    18\n",
      "\u001b[90m 7\u001b[39m compact    18\n",
      "\u001b[90m 8\u001b[39m compact    18\n",
      "\u001b[90m 9\u001b[39m compact    16\n",
      "\u001b[90m10\u001b[39m compact    20\n",
      "\u001b[90m11\u001b[39m compact    19\n",
      "\u001b[90m12\u001b[39m compact    15\n",
      "\u001b[90m13\u001b[39m compact    17\n",
      "\u001b[90m14\u001b[39m compact    17\n",
      "\u001b[90m15\u001b[39m compact    15\n",
      "\u001b[90m16\u001b[39m midsize    15\n",
      "\u001b[90m17\u001b[39m midsize    17\n",
      "\u001b[90m18\u001b[39m midsize    16\n",
      "\u001b[90m19\u001b[39m suv        14\n",
      "\u001b[90m20\u001b[39m suv        11\n",
      "\u001b[90m21\u001b[39m suv        14\n",
      "\u001b[90m22\u001b[39m suv        13\n",
      "\u001b[90m23\u001b[39m suv        12\n",
      "\u001b[90m24\u001b[39m 2seater    16\n",
      "\u001b[90m25\u001b[39m 2seater    15\n",
      "\u001b[90m26\u001b[39m 2seater    16\n",
      "\u001b[90m27\u001b[39m 2seater    15\n",
      "\u001b[90m28\u001b[39m 2seater    15\n",
      "\u001b[90m29\u001b[39m suv        14\n",
      "\u001b[90m30\u001b[39m suv        11\n",
      "\u001b[90m31\u001b[39m suv        11\n",
      "\u001b[90m32\u001b[39m suv        14\n",
      "\u001b[90m33\u001b[39m midsize    19\n",
      "\u001b[90m34\u001b[39m midsize    22\n",
      "\u001b[90m35\u001b[39m midsize    18\n",
      "\u001b[90m36\u001b[39m midsize    18\n",
      "\u001b[90m37\u001b[39m midsize    17\n",
      "\u001b[90m38\u001b[39m minivan    18\n",
      "\u001b[90m39\u001b[39m minivan    17\n",
      "\u001b[90m40\u001b[39m minivan    16\n",
      "\u001b[90m41\u001b[39m minivan    16\n",
      "\u001b[90m42\u001b[39m minivan    17\n",
      "\u001b[90m43\u001b[39m minivan    17\n",
      "\u001b[90m44\u001b[39m minivan    11\n",
      "\u001b[90m45\u001b[39m minivan    15\n",
      "\u001b[90m46\u001b[39m minivan    15\n",
      "\u001b[90m47\u001b[39m minivan    16\n",
      "\u001b[90m48\u001b[39m minivan    16\n",
      "\u001b[90m49\u001b[39m pickup     15\n",
      "\u001b[90m50\u001b[39m pickup     14\n",
      "\u001b[90m# … with 184 more rows\u001b[39m\n"
     ]
    }
   ],
   "source": [
    "# 차종class과 도시연비cty를 조회하세요\n",
    "mpg %>% select(class, cty) %>% print(n=50)"
   ]
  },
  {
   "cell_type": "code",
   "execution_count": 8,
   "id": "12bcf6e0-f94d-44be-af84-f5ea07b4fc9e",
   "metadata": {},
   "outputs": [
    {
     "data": {
      "text/html": [
       "13.5"
      ],
      "text/latex": [
       "13.5"
      ],
      "text/markdown": [
       "13.5"
      ],
      "text/plain": [
       "[1] 13.5"
      ]
     },
     "metadata": {},
     "output_type": "display_data"
    },
    {
     "data": {
      "text/html": [
       "20.1"
      ],
      "text/latex": [
       "20.1"
      ],
      "text/markdown": [
       "20.1"
      ],
      "text/plain": [
       "[1] 20.1"
      ]
     },
     "metadata": {},
     "output_type": "display_data"
    },
    {
     "data": {
      "text/html": [
       "19.6"
      ],
      "text/latex": [
       "19.6"
      ],
      "text/markdown": [
       "19.6"
      ],
      "text/plain": [
       "[1] 19.6"
      ]
     },
     "metadata": {},
     "output_type": "display_data"
    },
    {
     "data": {
      "text/html": [
       "17"
      ],
      "text/latex": [
       "17"
      ],
      "text/markdown": [
       "17"
      ],
      "text/plain": [
       "[1] 17"
      ]
     },
     "metadata": {},
     "output_type": "display_data"
    },
    {
     "data": {
      "text/html": [
       "17.6"
      ],
      "text/latex": [
       "17.6"
      ],
      "text/markdown": [
       "17.6"
      ],
      "text/plain": [
       "[1] 17.6"
      ]
     },
     "metadata": {},
     "output_type": "display_data"
    },
    {
     "data": {
      "text/html": [
       "18.5"
      ],
      "text/latex": [
       "18.5"
      ],
      "text/markdown": [
       "18.5"
      ],
      "text/plain": [
       "[1] 18.5"
      ]
     },
     "metadata": {},
     "output_type": "display_data"
    },
    {
     "data": {
      "text/html": [
       "22.9"
      ],
      "text/latex": [
       "22.9"
      ],
      "text/markdown": [
       "22.9"
      ],
      "text/plain": [
       "[1] 22.9"
      ]
     },
     "metadata": {},
     "output_type": "display_data"
    },
    {
     "data": {
      "text/html": [
       "22.9"
      ],
      "text/latex": [
       "22.9"
      ],
      "text/markdown": [
       "22.9"
      ],
      "text/plain": [
       "[1] 22.9"
      ]
     },
     "metadata": {},
     "output_type": "display_data"
    }
   ],
   "source": [
    "# 차종이 suv, compact인 차량 중 어느 차량이 도시연비가 높은가?\n",
    "suv <- mpg %>% select(class, cty) %>%\n",
    "               filter(class == 'suv')\n",
    "\n",
    "mean(suv$cty)   # 13.5\n",
    "compact <- mpg %>% select(class, cty) %>%\n",
    "                   filter(class == 'compact')  \n",
    "round(mean(compact$cty), 1)    # 20.1\n",
    "# 배기량displ에 따라(4,5)  어느 차량이\n",
    "# 고속도로연비hwy가 높은가?\n",
    "disp4 <- mpg %>% select(displ, hwy) %>%\n",
    "                 filter(displ == 4)\n",
    "mean(disp4$hwy)    # 19.6\n",
    "disp5 <- mpg %>% select(displ, hwy) %>%\n",
    "                 filter(displ == 5)\n",
    "mean(disp5$hwy)    # 17\n",
    "# 제조사manufactor에 따라(audi, toyota)\n",
    "# 어느 차량이 도시연비가 높은가?\n",
    "audi <- mpg %>% select(manufacturer, cty) %>%\n",
    "                filter(manufacturer == 'audi')\n",
    "round(mean(audi$cty), 1)     # 17.6\n",
    "toyota <- mpg %>% select(manufacturer, cty) %>%\n",
    "                  filter(manufacturer == 'toyota')\n",
    "round(mean(toyota$cty), 1)     # 18.5\n",
    "# chervolet, ford, honda 차량의\n",
    "# 평균 고속도로연비를 조회하시오\n",
    "car3 <- mpg %>% select(manufacturer, hwy) %>%\n",
    "          filter(manufacturer == 'chervolet' |\n",
    "                 manufacturer == 'ford' |\n",
    "                 manufacturer == 'honda')\n",
    "round(mean(car3$hwy), 1)     # 22.9\n",
    "car3 <- mpg %>% select(manufacturer, hwy) %>%\n",
    "      filter(manufacturer  %in%\n",
    "               c('chervolet','ford', 'honda'))\n",
    "round(mean(car3$hwy), 1)     # 22.9"
   ]
  },
  {
   "cell_type": "code",
   "execution_count": 10,
   "id": "0a7dd3e0-d264-4018-92ed-295da5c7e4ac",
   "metadata": {},
   "outputs": [
    {
     "data": {
      "text/html": [
       "13.5"
      ],
      "text/latex": [
       "13.5"
      ],
      "text/markdown": [
       "13.5"
      ],
      "text/plain": [
       "[1] 13.5"
      ]
     },
     "metadata": {},
     "output_type": "display_data"
    }
   ],
   "source": [
    "# 차종이 suv, compact인 차량중 어느차량이 도시연비가 높은가?\n",
    "\n",
    "suv <- mpg %>% select(class, cty)  %>%  filter(class=='suv')\n",
    "mean(suv$cty)   #13.5"
   ]
  },
  {
   "cell_type": "code",
   "execution_count": 16,
   "id": "438c0bf9-00d4-4d2a-ba32-762b72f8f359",
   "metadata": {},
   "outputs": [
    {
     "data": {
      "text/html": [
       "19.6"
      ],
      "text/latex": [
       "19.6"
      ],
      "text/markdown": [
       "19.6"
      ],
      "text/plain": [
       "[1] 19.6"
      ]
     },
     "metadata": {},
     "output_type": "display_data"
    }
   ],
   "source": [
    "## 배기량 displ에 따라 (4,5) 어느차량이 고속도로 연비hwy가 높은가?\n",
    "\n",
    "d4 <- mpg %>% filter(displ==4) %>% select(hwy)\n",
    "mean(d4$hwy)"
   ]
  },
  {
   "cell_type": "code",
   "execution_count": 17,
   "id": "24523dba-826b-472a-b234-2a46fb8ae096",
   "metadata": {},
   "outputs": [
    {
     "data": {
      "text/html": [
       "17.6111111111111"
      ],
      "text/latex": [
       "17.6111111111111"
      ],
      "text/markdown": [
       "17.6111111111111"
      ],
      "text/plain": [
       "[1] 17.61111"
      ]
     },
     "metadata": {},
     "output_type": "display_data"
    },
    {
     "data": {
      "text/html": [
       "18.5294117647059"
      ],
      "text/latex": [
       "18.5294117647059"
      ],
      "text/markdown": [
       "18.5294117647059"
      ],
      "text/plain": [
       "[1] 18.52941"
      ]
     },
     "metadata": {},
     "output_type": "display_data"
    }
   ],
   "source": [
    "# 제조사 manufactor에 따라(audi, toyota) 어느차량이 도시연비가 높은가?\n",
    "audi <- mpg %>% filter(manufacturer == 'audi') %>% select(cty)\n",
    "mean(audi$cty)\n",
    "\n",
    "\n",
    "toyota <- mpg %>% filter(manufacturer == 'toyota') %>% select(cty)\n",
    "mean(toyota$cty)"
   ]
  },
  {
   "cell_type": "code",
   "execution_count": 28,
   "id": "51f61d25-af83-43ee-8446-c705082e1b17",
   "metadata": {},
   "outputs": [
    {
     "data": {
      "text/html": [
       "21.8947368421053"
      ],
      "text/latex": [
       "21.8947368421053"
      ],
      "text/markdown": [
       "21.8947368421053"
      ],
      "text/plain": [
       "[1] 21.89474"
      ]
     },
     "metadata": {},
     "output_type": "display_data"
    },
    {
     "data": {
      "text/html": [
       "19.36"
      ],
      "text/latex": [
       "19.36"
      ],
      "text/markdown": [
       "19.36"
      ],
      "text/plain": [
       "[1] 19.36"
      ]
     },
     "metadata": {},
     "output_type": "display_data"
    },
    {
     "data": {
      "text/html": [
       "32.5555555555556"
      ],
      "text/latex": [
       "32.5555555555556"
      ],
      "text/markdown": [
       "32.5555555555556"
      ],
      "text/plain": [
       "[1] 32.55556"
      ]
     },
     "metadata": {},
     "output_type": "display_data"
    }
   ],
   "source": [
    "# chevrolet\t, ford, honda 차량의 평균 고속도로연비를 조회하시오\n",
    "\n",
    "cvl <- mpg %>% filter(manufacturer == 'chevrolet') %>% select(hwy)\n",
    "mean(cvl$hwy)\n",
    "\n",
    "ford <- mpg %>% filter(manufacturer == 'ford') %>% select(hwy)\n",
    "mean(ford$hwy)\n",
    "\n",
    "honda <- mpg %>% filter(manufacturer == 'honda') %>% select(hwy)\n",
    "mean(honda$hwy)"
   ]
  },
  {
   "cell_type": "markdown",
   "id": "2f63c8d1-211b-4c98-be85-8d995c60935a",
   "metadata": {},
   "source": [
    "## mutate (행, 열 추가)"
   ]
  },
  {
   "cell_type": "code",
   "execution_count": 30,
   "id": "fba23dab-cd47-45c3-be26-4eecbc77c0a0",
   "metadata": {},
   "outputs": [
    {
     "data": {
      "text/html": [
       "<table class=\"dataframe\">\n",
       "<caption>A data.frame: 4 × 4</caption>\n",
       "<thead>\n",
       "\t<tr><th scope=col>name</th><th scope=col>eng</th><th scope=col>mat</th><th scope=col>sci</th></tr>\n",
       "\t<tr><th scope=col>&lt;fct&gt;</th><th scope=col>&lt;dbl&gt;</th><th scope=col>&lt;dbl&gt;</th><th scope=col>&lt;dbl&gt;</th></tr>\n",
       "</thead>\n",
       "<tbody>\n",
       "\t<tr><td>John</td><td>90</td><td>85</td><td>90</td></tr>\n",
       "\t<tr><td>Tom </td><td>95</td><td>96</td><td>80</td></tr>\n",
       "\t<tr><td>Mark</td><td>69</td><td>49</td><td>70</td></tr>\n",
       "\t<tr><td>Jane</td><td>78</td><td>95</td><td>60</td></tr>\n",
       "</tbody>\n",
       "</table>\n"
      ],
      "text/latex": [
       "A data.frame: 4 × 4\n",
       "\\begin{tabular}{llll}\n",
       " name & eng & mat & sci\\\\\n",
       " <fct> & <dbl> & <dbl> & <dbl>\\\\\n",
       "\\hline\n",
       "\t John & 90 & 85 & 90\\\\\n",
       "\t Tom  & 95 & 96 & 80\\\\\n",
       "\t Mark & 69 & 49 & 70\\\\\n",
       "\t Jane & 78 & 95 & 60\\\\\n",
       "\\end{tabular}\n"
      ],
      "text/markdown": [
       "\n",
       "A data.frame: 4 × 4\n",
       "\n",
       "| name &lt;fct&gt; | eng &lt;dbl&gt; | mat &lt;dbl&gt; | sci &lt;dbl&gt; |\n",
       "|---|---|---|---|\n",
       "| John | 90 | 85 | 90 |\n",
       "| Tom  | 95 | 96 | 80 |\n",
       "| Mark | 69 | 49 | 70 |\n",
       "| Jane | 78 | 95 | 60 |\n",
       "\n"
      ],
      "text/plain": [
       "  name eng mat sci\n",
       "1 John 90  85  90 \n",
       "2 Tom  95  96  80 \n",
       "3 Mark 69  49  70 \n",
       "4 Jane 78  95  60 "
      ]
     },
     "metadata": {},
     "output_type": "display_data"
    }
   ],
   "source": [
    "load('sungjuk.rdata')\n",
    "sungjuk"
   ]
  },
  {
   "cell_type": "code",
   "execution_count": 43,
   "id": "37cb5dfe-0a0b-4cde-bd0c-3e7a7f4e6c0a",
   "metadata": {},
   "outputs": [
    {
     "data": {
      "text/html": [
       "<table class=\"dataframe\">\n",
       "<caption>A data.frame: 4 × 5</caption>\n",
       "<thead>\n",
       "\t<tr><th scope=col>name</th><th scope=col>eng</th><th scope=col>mat</th><th scope=col>sci</th><th scope=col>tot</th></tr>\n",
       "\t<tr><th scope=col>&lt;fct&gt;</th><th scope=col>&lt;dbl&gt;</th><th scope=col>&lt;dbl&gt;</th><th scope=col>&lt;dbl&gt;</th><th scope=col>&lt;dbl&gt;</th></tr>\n",
       "</thead>\n",
       "<tbody>\n",
       "\t<tr><td>John</td><td>90</td><td>85</td><td>90</td><td>265</td></tr>\n",
       "\t<tr><td>Tom </td><td>95</td><td>96</td><td>80</td><td>271</td></tr>\n",
       "\t<tr><td>Mark</td><td>69</td><td>49</td><td>70</td><td>188</td></tr>\n",
       "\t<tr><td>Jane</td><td>78</td><td>95</td><td>60</td><td>233</td></tr>\n",
       "</tbody>\n",
       "</table>\n"
      ],
      "text/latex": [
       "A data.frame: 4 × 5\n",
       "\\begin{tabular}{lllll}\n",
       " name & eng & mat & sci & tot\\\\\n",
       " <fct> & <dbl> & <dbl> & <dbl> & <dbl>\\\\\n",
       "\\hline\n",
       "\t John & 90 & 85 & 90 & 265\\\\\n",
       "\t Tom  & 95 & 96 & 80 & 271\\\\\n",
       "\t Mark & 69 & 49 & 70 & 188\\\\\n",
       "\t Jane & 78 & 95 & 60 & 233\\\\\n",
       "\\end{tabular}\n"
      ],
      "text/markdown": [
       "\n",
       "A data.frame: 4 × 5\n",
       "\n",
       "| name &lt;fct&gt; | eng &lt;dbl&gt; | mat &lt;dbl&gt; | sci &lt;dbl&gt; | tot &lt;dbl&gt; |\n",
       "|---|---|---|---|---|\n",
       "| John | 90 | 85 | 90 | 265 |\n",
       "| Tom  | 95 | 96 | 80 | 271 |\n",
       "| Mark | 69 | 49 | 70 | 188 |\n",
       "| Jane | 78 | 95 | 60 | 233 |\n",
       "\n"
      ],
      "text/plain": [
       "  name eng mat sci tot\n",
       "1 John 90  85  90  265\n",
       "2 Tom  95  96  80  271\n",
       "3 Mark 69  49  70  188\n",
       "4 Jane 78  95  60  233"
      ]
     },
     "metadata": {},
     "output_type": "display_data"
    },
    {
     "data": {
      "text/html": [
       "<table class=\"dataframe\">\n",
       "<caption>A data.frame: 4 × 6</caption>\n",
       "<thead>\n",
       "\t<tr><th scope=col>name</th><th scope=col>eng</th><th scope=col>mat</th><th scope=col>sci</th><th scope=col>tot</th><th scope=col>avg</th></tr>\n",
       "\t<tr><th scope=col>&lt;fct&gt;</th><th scope=col>&lt;dbl&gt;</th><th scope=col>&lt;dbl&gt;</th><th scope=col>&lt;dbl&gt;</th><th scope=col>&lt;dbl&gt;</th><th scope=col>&lt;dbl&gt;</th></tr>\n",
       "</thead>\n",
       "<tbody>\n",
       "\t<tr><td>John</td><td>90</td><td>85</td><td>90</td><td>265</td><td>88.33333</td></tr>\n",
       "\t<tr><td>Tom </td><td>95</td><td>96</td><td>80</td><td>271</td><td>90.33333</td></tr>\n",
       "\t<tr><td>Mark</td><td>69</td><td>49</td><td>70</td><td>188</td><td>62.66667</td></tr>\n",
       "\t<tr><td>Jane</td><td>78</td><td>95</td><td>60</td><td>233</td><td>77.66667</td></tr>\n",
       "</tbody>\n",
       "</table>\n"
      ],
      "text/latex": [
       "A data.frame: 4 × 6\n",
       "\\begin{tabular}{llllll}\n",
       " name & eng & mat & sci & tot & avg\\\\\n",
       " <fct> & <dbl> & <dbl> & <dbl> & <dbl> & <dbl>\\\\\n",
       "\\hline\n",
       "\t John & 90 & 85 & 90 & 265 & 88.33333\\\\\n",
       "\t Tom  & 95 & 96 & 80 & 271 & 90.33333\\\\\n",
       "\t Mark & 69 & 49 & 70 & 188 & 62.66667\\\\\n",
       "\t Jane & 78 & 95 & 60 & 233 & 77.66667\\\\\n",
       "\\end{tabular}\n"
      ],
      "text/markdown": [
       "\n",
       "A data.frame: 4 × 6\n",
       "\n",
       "| name &lt;fct&gt; | eng &lt;dbl&gt; | mat &lt;dbl&gt; | sci &lt;dbl&gt; | tot &lt;dbl&gt; | avg &lt;dbl&gt; |\n",
       "|---|---|---|---|---|---|\n",
       "| John | 90 | 85 | 90 | 265 | 88.33333 |\n",
       "| Tom  | 95 | 96 | 80 | 271 | 90.33333 |\n",
       "| Mark | 69 | 49 | 70 | 188 | 62.66667 |\n",
       "| Jane | 78 | 95 | 60 | 233 | 77.66667 |\n",
       "\n"
      ],
      "text/plain": [
       "  name eng mat sci tot avg     \n",
       "1 John 90  85  90  265 88.33333\n",
       "2 Tom  95  96  80  271 90.33333\n",
       "3 Mark 69  49  70  188 62.66667\n",
       "4 Jane 78  95  60  233 77.66667"
      ]
     },
     "metadata": {},
     "output_type": "display_data"
    },
    {
     "data": {
      "text/html": [
       "<table class=\"dataframe\">\n",
       "<caption>A data.frame: 4 × 5</caption>\n",
       "<thead>\n",
       "\t<tr><th scope=col>name</th><th scope=col>eng</th><th scope=col>mat</th><th scope=col>sci</th><th scope=col>tot</th></tr>\n",
       "\t<tr><th scope=col>&lt;fct&gt;</th><th scope=col>&lt;dbl&gt;</th><th scope=col>&lt;dbl&gt;</th><th scope=col>&lt;dbl&gt;</th><th scope=col>&lt;dbl&gt;</th></tr>\n",
       "</thead>\n",
       "<tbody>\n",
       "\t<tr><td>John</td><td>90</td><td>85</td><td>90</td><td>265</td></tr>\n",
       "\t<tr><td>Tom </td><td>95</td><td>96</td><td>80</td><td>271</td></tr>\n",
       "\t<tr><td>Mark</td><td>69</td><td>49</td><td>70</td><td>188</td></tr>\n",
       "\t<tr><td>Jane</td><td>78</td><td>95</td><td>60</td><td>233</td></tr>\n",
       "</tbody>\n",
       "</table>\n"
      ],
      "text/latex": [
       "A data.frame: 4 × 5\n",
       "\\begin{tabular}{lllll}\n",
       " name & eng & mat & sci & tot\\\\\n",
       " <fct> & <dbl> & <dbl> & <dbl> & <dbl>\\\\\n",
       "\\hline\n",
       "\t John & 90 & 85 & 90 & 265\\\\\n",
       "\t Tom  & 95 & 96 & 80 & 271\\\\\n",
       "\t Mark & 69 & 49 & 70 & 188\\\\\n",
       "\t Jane & 78 & 95 & 60 & 233\\\\\n",
       "\\end{tabular}\n"
      ],
      "text/markdown": [
       "\n",
       "A data.frame: 4 × 5\n",
       "\n",
       "| name &lt;fct&gt; | eng &lt;dbl&gt; | mat &lt;dbl&gt; | sci &lt;dbl&gt; | tot &lt;dbl&gt; |\n",
       "|---|---|---|---|---|\n",
       "| John | 90 | 85 | 90 | 265 |\n",
       "| Tom  | 95 | 96 | 80 | 271 |\n",
       "| Mark | 69 | 49 | 70 | 188 |\n",
       "| Jane | 78 | 95 | 60 | 233 |\n",
       "\n"
      ],
      "text/plain": [
       "  name eng mat sci tot\n",
       "1 John 90  85  90  265\n",
       "2 Tom  95  96  80  271\n",
       "3 Mark 69  49  70  188\n",
       "4 Jane 78  95  60  233"
      ]
     },
     "metadata": {},
     "output_type": "display_data"
    }
   ],
   "source": [
    "# 영어/수학/과학 점수헤 대한 총점/평균을 계산하고, tot, avg 컬럼에 저장하세요\n",
    "\n",
    "sungjuk %>% mutate(tot = eng + mat + sci)\n",
    "sungjuk %>% mutate(avg = (eng + mat + sci) / 3)\n",
    "sungjuk"
   ]
  },
  {
   "cell_type": "code",
   "execution_count": 44,
   "id": "89234dd6-4557-44f5-8c1b-006141a11112",
   "metadata": {},
   "outputs": [
    {
     "name": "stderr",
     "output_type": "stream",
     "text": [
      "Warning message in Ops.factor(left):\n",
      "“‘-’ not meaningful for factors”\n"
     ]
    },
    {
     "ename": "ERROR",
     "evalue": "Error in Ops.data.frame(sungjuk, -sungjuk %>% mutate(avg = tot/3)): ‘<’ only defined for equally-sized data frames\n",
     "output_type": "error",
     "traceback": [
      "Error in Ops.data.frame(sungjuk, -sungjuk %>% mutate(avg = tot/3)): ‘<’ only defined for equally-sized data frames\nTraceback:\n",
      "1. Ops.data.frame(sungjuk, -sungjuk %>% mutate(avg = tot/3))",
      "2. stop(gettextf(\"%s only defined for equally-sized data frames\", \n .     sQuote(.Generic)), domain = NA)"
     ]
    }
   ],
   "source": [
    "sungjuk <- sungjuk %>% mutate(tot = eng + mat + sci)\n",
    "sungjuk < -sungjuk %>% mutate(avg = tot / 3)\n",
    "sungjuk"
   ]
  },
  {
   "cell_type": "code",
   "execution_count": 46,
   "id": "164b1095-9029-4dd8-b7ca-d446e1e51073",
   "metadata": {},
   "outputs": [
    {
     "data": {
      "text/html": [
       "<table class=\"dataframe\">\n",
       "<caption>A data.frame: 4 × 6</caption>\n",
       "<thead>\n",
       "\t<tr><th scope=col>name</th><th scope=col>eng</th><th scope=col>mat</th><th scope=col>sci</th><th scope=col>tot</th><th scope=col>avg</th></tr>\n",
       "\t<tr><th scope=col>&lt;fct&gt;</th><th scope=col>&lt;dbl&gt;</th><th scope=col>&lt;dbl&gt;</th><th scope=col>&lt;dbl&gt;</th><th scope=col>&lt;dbl&gt;</th><th scope=col>&lt;dbl&gt;</th></tr>\n",
       "</thead>\n",
       "<tbody>\n",
       "\t<tr><td>John</td><td>90</td><td>85</td><td>90</td><td>265</td><td>88.3</td></tr>\n",
       "\t<tr><td>Tom </td><td>95</td><td>96</td><td>80</td><td>271</td><td>90.3</td></tr>\n",
       "\t<tr><td>Mark</td><td>69</td><td>49</td><td>70</td><td>188</td><td>62.7</td></tr>\n",
       "\t<tr><td>Jane</td><td>78</td><td>95</td><td>60</td><td>233</td><td>77.7</td></tr>\n",
       "</tbody>\n",
       "</table>\n"
      ],
      "text/latex": [
       "A data.frame: 4 × 6\n",
       "\\begin{tabular}{llllll}\n",
       " name & eng & mat & sci & tot & avg\\\\\n",
       " <fct> & <dbl> & <dbl> & <dbl> & <dbl> & <dbl>\\\\\n",
       "\\hline\n",
       "\t John & 90 & 85 & 90 & 265 & 88.3\\\\\n",
       "\t Tom  & 95 & 96 & 80 & 271 & 90.3\\\\\n",
       "\t Mark & 69 & 49 & 70 & 188 & 62.7\\\\\n",
       "\t Jane & 78 & 95 & 60 & 233 & 77.7\\\\\n",
       "\\end{tabular}\n"
      ],
      "text/markdown": [
       "\n",
       "A data.frame: 4 × 6\n",
       "\n",
       "| name &lt;fct&gt; | eng &lt;dbl&gt; | mat &lt;dbl&gt; | sci &lt;dbl&gt; | tot &lt;dbl&gt; | avg &lt;dbl&gt; |\n",
       "|---|---|---|---|---|---|\n",
       "| John | 90 | 85 | 90 | 265 | 88.3 |\n",
       "| Tom  | 95 | 96 | 80 | 271 | 90.3 |\n",
       "| Mark | 69 | 49 | 70 | 188 | 62.7 |\n",
       "| Jane | 78 | 95 | 60 | 233 | 77.7 |\n",
       "\n"
      ],
      "text/plain": [
       "  name eng mat sci tot avg \n",
       "1 John 90  85  90  265 88.3\n",
       "2 Tom  95  96  80  271 90.3\n",
       "3 Mark 69  49  70  188 62.7\n",
       "4 Jane 78  95  60  233 77.7"
      ]
     },
     "metadata": {},
     "output_type": "display_data"
    }
   ],
   "source": [
    "# 간략하게 작성함\n",
    "sungjuk <- sungjuk %>% mutate(tot = eng + mat + sci, avg=round(tot /3,1))\n",
    "sungjuk "
   ]
  },
  {
   "cell_type": "code",
   "execution_count": 51,
   "id": "6866f919-d96e-4c11-89fe-4ef9dbfc03b1",
   "metadata": {},
   "outputs": [
    {
     "data": {
      "text/html": [
       "<table class=\"dataframe\">\n",
       "<caption>A tibble: 6 × 4</caption>\n",
       "<thead>\n",
       "\t<tr><th scope=col>model</th><th scope=col>manufacturer</th><th scope=col>allmpg</th><th scope=col>avgmpg</th></tr>\n",
       "\t<tr><th scope=col>&lt;chr&gt;</th><th scope=col>&lt;chr&gt;</th><th scope=col>&lt;int&gt;</th><th scope=col>&lt;dbl&gt;</th></tr>\n",
       "</thead>\n",
       "<tbody>\n",
       "\t<tr><td>a4</td><td>audi</td><td>47</td><td>23.5</td></tr>\n",
       "\t<tr><td>a4</td><td>audi</td><td>50</td><td>25.0</td></tr>\n",
       "\t<tr><td>a4</td><td>audi</td><td>51</td><td>25.5</td></tr>\n",
       "\t<tr><td>a4</td><td>audi</td><td>51</td><td>25.5</td></tr>\n",
       "\t<tr><td>a4</td><td>audi</td><td>42</td><td>21.0</td></tr>\n",
       "\t<tr><td>a4</td><td>audi</td><td>44</td><td>22.0</td></tr>\n",
       "</tbody>\n",
       "</table>\n"
      ],
      "text/latex": [
       "A tibble: 6 × 4\n",
       "\\begin{tabular}{llll}\n",
       " model & manufacturer & allmpg & avgmpg\\\\\n",
       " <chr> & <chr> & <int> & <dbl>\\\\\n",
       "\\hline\n",
       "\t a4 & audi & 47 & 23.5\\\\\n",
       "\t a4 & audi & 50 & 25.0\\\\\n",
       "\t a4 & audi & 51 & 25.5\\\\\n",
       "\t a4 & audi & 51 & 25.5\\\\\n",
       "\t a4 & audi & 42 & 21.0\\\\\n",
       "\t a4 & audi & 44 & 22.0\\\\\n",
       "\\end{tabular}\n"
      ],
      "text/markdown": [
       "\n",
       "A tibble: 6 × 4\n",
       "\n",
       "| model &lt;chr&gt; | manufacturer &lt;chr&gt; | allmpg &lt;int&gt; | avgmpg &lt;dbl&gt; |\n",
       "|---|---|---|---|\n",
       "| a4 | audi | 47 | 23.5 |\n",
       "| a4 | audi | 50 | 25.0 |\n",
       "| a4 | audi | 51 | 25.5 |\n",
       "| a4 | audi | 51 | 25.5 |\n",
       "| a4 | audi | 42 | 21.0 |\n",
       "| a4 | audi | 44 | 22.0 |\n",
       "\n"
      ],
      "text/plain": [
       "  model manufacturer allmpg avgmpg\n",
       "1 a4    audi         47     23.5  \n",
       "2 a4    audi         50     25.0  \n",
       "3 a4    audi         51     25.5  \n",
       "4 a4    audi         51     25.5  \n",
       "5 a4    audi         42     21.0  \n",
       "6 a4    audi         44     22.0  "
      ]
     },
     "metadata": {},
     "output_type": "display_data"
    }
   ],
   "source": [
    "# 고속도로연비와 도시연비를 합산해서 allmpg를,\n",
    "# allmpg를 2로 나눠 avgmpg라는 컬럼을 생성해서\n",
    "# 모델명, 제조사, allmpg, avgmpg 순으로 조회하세요\n",
    "\n",
    "mpg %>% mutate(allmpg = cty+hwy, avgmpg = allmpg/2) %>% \n",
    "        select(model, manufacturer, allmpg, avgmpg) %>% head()"
   ]
  },
  {
   "cell_type": "code",
   "execution_count": null,
   "id": "15ae0c50-9106-4c96-a415-3424e300eea5",
   "metadata": {},
   "outputs": [],
   "source": []
  },
  {
   "cell_type": "code",
   "execution_count": null,
   "id": "90c4208f-3d8f-4e3b-80c3-f91fa779d363",
   "metadata": {},
   "outputs": [],
   "source": []
  },
  {
   "cell_type": "code",
   "execution_count": null,
   "id": "bee41c1d-25f4-4682-9a7f-71e6fd322893",
   "metadata": {},
   "outputs": [],
   "source": []
  }
 ],
 "metadata": {
  "kernelspec": {
   "display_name": "R",
   "language": "R",
   "name": "ir"
  },
  "language_info": {
   "codemirror_mode": "r",
   "file_extension": ".r",
   "mimetype": "text/x-r-source",
   "name": "R",
   "pygments_lexer": "r",
   "version": "3.6.3"
  }
 },
 "nbformat": 4,
 "nbformat_minor": 5
}
