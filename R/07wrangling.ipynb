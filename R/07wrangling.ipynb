{
 "cells": [
  {
   "cell_type": "markdown",
   "id": "30135098-c066-4a8f-b805-e6e7d14853d9",
   "metadata": {},
   "source": [
    "### 데이터 전처리\n",
    "* 데이터를 조건에 따라 추출하고 원하는 형태로 데이터를 가공하는 것을 의미\n",
    "* 원시 데이터를 분석 목적에 맞게 다른 형태로 가공하는 것\n",
    "* 데이터 wrangling 또는 munging 이라고 함"
   ]
  },
  {
   "cell_type": "markdown",
   "id": "4461c977-4ecc-4d38-a9f0-c0e29dc13ac9",
   "metadata": {},
   "source": [
    "## 데이터 프레임\n",
    "* 서로 다른 자료형으로 구성된 데이터들로 만들어진 2차원 배열\n",
    "* 겉으로 봤을때는 행렬과 비슷해 보임"
   ]
  },
  {
   "cell_type": "code",
   "execution_count": 1,
   "id": "d9a3875a-6b69-489b-a563-b7a696daf9dd",
   "metadata": {},
   "outputs": [
    {
     "data": {
      "text/html": [
       "<table class=\"dataframe\">\n",
       "<caption>A data.frame: 4 × 4</caption>\n",
       "<thead>\n",
       "\t<tr><th></th><th scope=col>name</th><th scope=col>eng</th><th scope=col>mat</th><th scope=col>sci</th></tr>\n",
       "\t<tr><th></th><th scope=col>&lt;fct&gt;</th><th scope=col>&lt;dbl&gt;</th><th scope=col>&lt;dbl&gt;</th><th scope=col>&lt;dbl&gt;</th></tr>\n",
       "</thead>\n",
       "<tbody>\n",
       "\t<tr><th scope=row>1</th><td>John</td><td>90</td><td>85</td><td>90</td></tr>\n",
       "\t<tr><th scope=row>2</th><td>Tom </td><td>95</td><td>96</td><td>80</td></tr>\n",
       "\t<tr><th scope=row>3</th><td>Mark</td><td>69</td><td>49</td><td>70</td></tr>\n",
       "\t<tr><th scope=row>4</th><td>Jane</td><td>78</td><td>95</td><td>60</td></tr>\n",
       "</tbody>\n",
       "</table>\n"
      ],
      "text/latex": [
       "A data.frame: 4 × 4\n",
       "\\begin{tabular}{r|llll}\n",
       "  & name & eng & mat & sci\\\\\n",
       "  & <fct> & <dbl> & <dbl> & <dbl>\\\\\n",
       "\\hline\n",
       "\t1 & John & 90 & 85 & 90\\\\\n",
       "\t2 & Tom  & 95 & 96 & 80\\\\\n",
       "\t3 & Mark & 69 & 49 & 70\\\\\n",
       "\t4 & Jane & 78 & 95 & 60\\\\\n",
       "\\end{tabular}\n"
      ],
      "text/markdown": [
       "\n",
       "A data.frame: 4 × 4\n",
       "\n",
       "| <!--/--> | name &lt;fct&gt; | eng &lt;dbl&gt; | mat &lt;dbl&gt; | sci &lt;dbl&gt; |\n",
       "|---|---|---|---|---|\n",
       "| 1 | John | 90 | 85 | 90 |\n",
       "| 2 | Tom  | 95 | 96 | 80 |\n",
       "| 3 | Mark | 69 | 49 | 70 |\n",
       "| 4 | Jane | 78 | 95 | 60 |\n",
       "\n"
      ],
      "text/plain": [
       "  name eng mat sci\n",
       "1 John 90  85  90 \n",
       "2 Tom  95  96  80 \n",
       "3 Mark 69  49  70 \n",
       "4 Jane 78  95  60 "
      ]
     },
     "metadata": {},
     "output_type": "display_data"
    }
   ],
   "source": [
    "# 성적 데이터 불러오기\n",
    "load('../data/sungjuk.rdata')\n",
    "head(sungjuk)"
   ]
  },
  {
   "cell_type": "markdown",
   "id": "769eeb67-3f55-4052-b206-d92fcdf15afd",
   "metadata": {},
   "source": [
    "## 데이터프레임 각 요소 접근\n",
    "* 데이터프레임명$변수명\n",
    "* 데이터프레임명[인덱스, 인덱스]"
   ]
  },
  {
   "cell_type": "code",
   "execution_count": 2,
   "id": "32374bae-8491-4c99-8a16-30bccfe5c527",
   "metadata": {},
   "outputs": [
    {
     "data": {
      "text/html": [
       "<style>\n",
       ".list-inline {list-style: none; margin:0; padding: 0}\n",
       ".list-inline>li {display: inline-block}\n",
       ".list-inline>li:not(:last-child)::after {content: \"\\00b7\"; padding: 0 .5ex}\n",
       "</style>\n",
       "<ol class=list-inline><li>John</li><li>Tom</li><li>Mark</li><li>Jane</li></ol>\n",
       "\n",
       "<details>\n",
       "\t<summary style=display:list-item;cursor:pointer>\n",
       "\t\t<strong>Levels</strong>:\n",
       "\t</summary>\n",
       "\t<style>\n",
       "\t.list-inline {list-style: none; margin:0; padding: 0}\n",
       "\t.list-inline>li {display: inline-block}\n",
       "\t.list-inline>li:not(:last-child)::after {content: \"\\00b7\"; padding: 0 .5ex}\n",
       "\t</style>\n",
       "\t<ol class=list-inline><li>'Jane'</li><li>'John'</li><li>'Mark'</li><li>'Tom'</li></ol>\n",
       "</details>"
      ],
      "text/latex": [
       "\\begin{enumerate*}\n",
       "\\item John\n",
       "\\item Tom\n",
       "\\item Mark\n",
       "\\item Jane\n",
       "\\end{enumerate*}\n",
       "\n",
       "\\emph{Levels}: \\begin{enumerate*}\n",
       "\\item 'Jane'\n",
       "\\item 'John'\n",
       "\\item 'Mark'\n",
       "\\item 'Tom'\n",
       "\\end{enumerate*}\n"
      ],
      "text/markdown": [
       "1. John\n",
       "2. Tom\n",
       "3. Mark\n",
       "4. Jane\n",
       "\n",
       "\n",
       "\n",
       "**Levels**: 1. 'Jane'\n",
       "2. 'John'\n",
       "3. 'Mark'\n",
       "4. 'Tom'\n",
       "\n",
       "\n"
      ],
      "text/plain": [
       "[1] John Tom  Mark Jane\n",
       "Levels: Jane John Mark Tom"
      ]
     },
     "metadata": {},
     "output_type": "display_data"
    },
    {
     "data": {
      "text/html": [
       "<style>\n",
       ".list-inline {list-style: none; margin:0; padding: 0}\n",
       ".list-inline>li {display: inline-block}\n",
       ".list-inline>li:not(:last-child)::after {content: \"\\00b7\"; padding: 0 .5ex}\n",
       "</style>\n",
       "<ol class=list-inline><li>John</li><li>Tom</li><li>Mark</li><li>Jane</li></ol>\n",
       "\n",
       "<details>\n",
       "\t<summary style=display:list-item;cursor:pointer>\n",
       "\t\t<strong>Levels</strong>:\n",
       "\t</summary>\n",
       "\t<style>\n",
       "\t.list-inline {list-style: none; margin:0; padding: 0}\n",
       "\t.list-inline>li {display: inline-block}\n",
       "\t.list-inline>li:not(:last-child)::after {content: \"\\00b7\"; padding: 0 .5ex}\n",
       "\t</style>\n",
       "\t<ol class=list-inline><li>'Jane'</li><li>'John'</li><li>'Mark'</li><li>'Tom'</li></ol>\n",
       "</details>"
      ],
      "text/latex": [
       "\\begin{enumerate*}\n",
       "\\item John\n",
       "\\item Tom\n",
       "\\item Mark\n",
       "\\item Jane\n",
       "\\end{enumerate*}\n",
       "\n",
       "\\emph{Levels}: \\begin{enumerate*}\n",
       "\\item 'Jane'\n",
       "\\item 'John'\n",
       "\\item 'Mark'\n",
       "\\item 'Tom'\n",
       "\\end{enumerate*}\n"
      ],
      "text/markdown": [
       "1. John\n",
       "2. Tom\n",
       "3. Mark\n",
       "4. Jane\n",
       "\n",
       "\n",
       "\n",
       "**Levels**: 1. 'Jane'\n",
       "2. 'John'\n",
       "3. 'Mark'\n",
       "4. 'Tom'\n",
       "\n",
       "\n"
      ],
      "text/plain": [
       "[1] John Tom  Mark Jane\n",
       "Levels: Jane John Mark Tom"
      ]
     },
     "metadata": {},
     "output_type": "display_data"
    },
    {
     "data": {
      "text/html": [
       "<style>\n",
       ".list-inline {list-style: none; margin:0; padding: 0}\n",
       ".list-inline>li {display: inline-block}\n",
       ".list-inline>li:not(:last-child)::after {content: \"\\00b7\"; padding: 0 .5ex}\n",
       "</style>\n",
       "<ol class=list-inline><li>John</li><li>Tom</li><li>Mark</li><li>Jane</li></ol>\n",
       "\n",
       "<details>\n",
       "\t<summary style=display:list-item;cursor:pointer>\n",
       "\t\t<strong>Levels</strong>:\n",
       "\t</summary>\n",
       "\t<style>\n",
       "\t.list-inline {list-style: none; margin:0; padding: 0}\n",
       "\t.list-inline>li {display: inline-block}\n",
       "\t.list-inline>li:not(:last-child)::after {content: \"\\00b7\"; padding: 0 .5ex}\n",
       "\t</style>\n",
       "\t<ol class=list-inline><li>'Jane'</li><li>'John'</li><li>'Mark'</li><li>'Tom'</li></ol>\n",
       "</details>"
      ],
      "text/latex": [
       "\\begin{enumerate*}\n",
       "\\item John\n",
       "\\item Tom\n",
       "\\item Mark\n",
       "\\item Jane\n",
       "\\end{enumerate*}\n",
       "\n",
       "\\emph{Levels}: \\begin{enumerate*}\n",
       "\\item 'Jane'\n",
       "\\item 'John'\n",
       "\\item 'Mark'\n",
       "\\item 'Tom'\n",
       "\\end{enumerate*}\n"
      ],
      "text/markdown": [
       "1. John\n",
       "2. Tom\n",
       "3. Mark\n",
       "4. Jane\n",
       "\n",
       "\n",
       "\n",
       "**Levels**: 1. 'Jane'\n",
       "2. 'John'\n",
       "3. 'Mark'\n",
       "4. 'Tom'\n",
       "\n",
       "\n"
      ],
      "text/plain": [
       "[1] John Tom  Mark Jane\n",
       "Levels: Jane John Mark Tom"
      ]
     },
     "metadata": {},
     "output_type": "display_data"
    }
   ],
   "source": [
    "# 이름열을 출력하는 방법\n",
    "sungjuk$name\n",
    "sungjuk[, 1]\n",
    "sungjuk[, 'name']"
   ]
  },
  {
   "cell_type": "code",
   "execution_count": 3,
   "id": "9701df34-2845-4227-a52e-fd8021d84d08",
   "metadata": {},
   "outputs": [
    {
     "data": {
      "text/html": [
       "<table class=\"dataframe\">\n",
       "<caption>A data.frame: 1 × 4</caption>\n",
       "<thead>\n",
       "\t<tr><th></th><th scope=col>name</th><th scope=col>eng</th><th scope=col>mat</th><th scope=col>sci</th></tr>\n",
       "\t<tr><th></th><th scope=col>&lt;fct&gt;</th><th scope=col>&lt;dbl&gt;</th><th scope=col>&lt;dbl&gt;</th><th scope=col>&lt;dbl&gt;</th></tr>\n",
       "</thead>\n",
       "<tbody>\n",
       "\t<tr><th scope=row>2</th><td>Tom</td><td>95</td><td>96</td><td>80</td></tr>\n",
       "</tbody>\n",
       "</table>\n"
      ],
      "text/latex": [
       "A data.frame: 1 × 4\n",
       "\\begin{tabular}{r|llll}\n",
       "  & name & eng & mat & sci\\\\\n",
       "  & <fct> & <dbl> & <dbl> & <dbl>\\\\\n",
       "\\hline\n",
       "\t2 & Tom & 95 & 96 & 80\\\\\n",
       "\\end{tabular}\n"
      ],
      "text/markdown": [
       "\n",
       "A data.frame: 1 × 4\n",
       "\n",
       "| <!--/--> | name &lt;fct&gt; | eng &lt;dbl&gt; | mat &lt;dbl&gt; | sci &lt;dbl&gt; |\n",
       "|---|---|---|---|---|\n",
       "| 2 | Tom | 95 | 96 | 80 |\n",
       "\n"
      ],
      "text/plain": [
       "  name eng mat sci\n",
       "2 Tom  95  96  80 "
      ]
     },
     "metadata": {},
     "output_type": "display_data"
    },
    {
     "data": {
      "text/html": [
       "<table class=\"dataframe\">\n",
       "<caption>A data.frame: 1 × 4</caption>\n",
       "<thead>\n",
       "\t<tr><th></th><th scope=col>name</th><th scope=col>eng</th><th scope=col>mat</th><th scope=col>sci</th></tr>\n",
       "\t<tr><th></th><th scope=col>&lt;fct&gt;</th><th scope=col>&lt;dbl&gt;</th><th scope=col>&lt;dbl&gt;</th><th scope=col>&lt;dbl&gt;</th></tr>\n",
       "</thead>\n",
       "<tbody>\n",
       "\t<tr><th scope=row>NA</th><td>NA</td><td>NA</td><td>NA</td><td>NA</td></tr>\n",
       "</tbody>\n",
       "</table>\n"
      ],
      "text/latex": [
       "A data.frame: 1 × 4\n",
       "\\begin{tabular}{r|llll}\n",
       "  & name & eng & mat & sci\\\\\n",
       "  & <fct> & <dbl> & <dbl> & <dbl>\\\\\n",
       "\\hline\n",
       "\tNA & NA & NA & NA & NA\\\\\n",
       "\\end{tabular}\n"
      ],
      "text/markdown": [
       "\n",
       "A data.frame: 1 × 4\n",
       "\n",
       "| <!--/--> | name &lt;fct&gt; | eng &lt;dbl&gt; | mat &lt;dbl&gt; | sci &lt;dbl&gt; |\n",
       "|---|---|---|---|---|\n",
       "| NA | NA | NA | NA | NA |\n",
       "\n"
      ],
      "text/plain": [
       "   name eng mat sci\n",
       "NA NA   NA  NA  NA "
      ]
     },
     "metadata": {},
     "output_type": "display_data"
    },
    {
     "data": {
      "text/html": [
       "<table class=\"dataframe\">\n",
       "<caption>A data.frame: 1 × 4</caption>\n",
       "<thead>\n",
       "\t<tr><th></th><th scope=col>name</th><th scope=col>eng</th><th scope=col>mat</th><th scope=col>sci</th></tr>\n",
       "\t<tr><th></th><th scope=col>&lt;fct&gt;</th><th scope=col>&lt;dbl&gt;</th><th scope=col>&lt;dbl&gt;</th><th scope=col>&lt;dbl&gt;</th></tr>\n",
       "</thead>\n",
       "<tbody>\n",
       "\t<tr><th scope=row>2</th><td>Tom</td><td>95</td><td>96</td><td>80</td></tr>\n",
       "</tbody>\n",
       "</table>\n"
      ],
      "text/latex": [
       "A data.frame: 1 × 4\n",
       "\\begin{tabular}{r|llll}\n",
       "  & name & eng & mat & sci\\\\\n",
       "  & <fct> & <dbl> & <dbl> & <dbl>\\\\\n",
       "\\hline\n",
       "\t2 & Tom & 95 & 96 & 80\\\\\n",
       "\\end{tabular}\n"
      ],
      "text/markdown": [
       "\n",
       "A data.frame: 1 × 4\n",
       "\n",
       "| <!--/--> | name &lt;fct&gt; | eng &lt;dbl&gt; | mat &lt;dbl&gt; | sci &lt;dbl&gt; |\n",
       "|---|---|---|---|---|\n",
       "| 2 | Tom | 95 | 96 | 80 |\n",
       "\n"
      ],
      "text/plain": [
       "  name eng mat sci\n",
       "2 Tom  95  96  80 "
      ]
     },
     "metadata": {},
     "output_type": "display_data"
    }
   ],
   "source": [
    "# Tom의 성적을 출력\n",
    "sungjuk[2, ]\n",
    "sungjuk['Tom', ]   # 데이터프레임에서는 사용불가!\n",
    "sungjuk[sungjuk$name == 'Tom', ]"
   ]
  },
  {
   "cell_type": "code",
   "execution_count": 4,
   "id": "fc93b6a7-7cdd-4686-bcbd-a31b582e3404",
   "metadata": {},
   "outputs": [
    {
     "data": {
      "text/html": [
       "<table class=\"dataframe\">\n",
       "<caption>A data.frame: 1 × 3</caption>\n",
       "<thead>\n",
       "\t<tr><th></th><th scope=col>eng</th><th scope=col>mat</th><th scope=col>sci</th></tr>\n",
       "\t<tr><th></th><th scope=col>&lt;dbl&gt;</th><th scope=col>&lt;dbl&gt;</th><th scope=col>&lt;dbl&gt;</th></tr>\n",
       "</thead>\n",
       "<tbody>\n",
       "\t<tr><th scope=row>4</th><td>78</td><td>95</td><td>60</td></tr>\n",
       "</tbody>\n",
       "</table>\n"
      ],
      "text/latex": [
       "A data.frame: 1 × 3\n",
       "\\begin{tabular}{r|lll}\n",
       "  & eng & mat & sci\\\\\n",
       "  & <dbl> & <dbl> & <dbl>\\\\\n",
       "\\hline\n",
       "\t4 & 78 & 95 & 60\\\\\n",
       "\\end{tabular}\n"
      ],
      "text/markdown": [
       "\n",
       "A data.frame: 1 × 3\n",
       "\n",
       "| <!--/--> | eng &lt;dbl&gt; | mat &lt;dbl&gt; | sci &lt;dbl&gt; |\n",
       "|---|---|---|---|\n",
       "| 4 | 78 | 95 | 60 |\n",
       "\n"
      ],
      "text/plain": [
       "  eng mat sci\n",
       "4 78  95  60 "
      ]
     },
     "metadata": {},
     "output_type": "display_data"
    },
    {
     "data": {
      "text/html": [
       "<table class=\"dataframe\">\n",
       "<caption>A data.frame: 1 × 3</caption>\n",
       "<thead>\n",
       "\t<tr><th></th><th scope=col>eng</th><th scope=col>mat</th><th scope=col>sci</th></tr>\n",
       "\t<tr><th></th><th scope=col>&lt;dbl&gt;</th><th scope=col>&lt;dbl&gt;</th><th scope=col>&lt;dbl&gt;</th></tr>\n",
       "</thead>\n",
       "<tbody>\n",
       "\t<tr><th scope=row>4</th><td>78</td><td>95</td><td>60</td></tr>\n",
       "</tbody>\n",
       "</table>\n"
      ],
      "text/latex": [
       "A data.frame: 1 × 3\n",
       "\\begin{tabular}{r|lll}\n",
       "  & eng & mat & sci\\\\\n",
       "  & <dbl> & <dbl> & <dbl>\\\\\n",
       "\\hline\n",
       "\t4 & 78 & 95 & 60\\\\\n",
       "\\end{tabular}\n"
      ],
      "text/markdown": [
       "\n",
       "A data.frame: 1 × 3\n",
       "\n",
       "| <!--/--> | eng &lt;dbl&gt; | mat &lt;dbl&gt; | sci &lt;dbl&gt; |\n",
       "|---|---|---|---|\n",
       "| 4 | 78 | 95 | 60 |\n",
       "\n"
      ],
      "text/plain": [
       "  eng mat sci\n",
       "4 78  95  60 "
      ]
     },
     "metadata": {},
     "output_type": "display_data"
    },
    {
     "data": {
      "text/html": [
       "<table class=\"dataframe\">\n",
       "<caption>A data.frame: 1 × 3</caption>\n",
       "<thead>\n",
       "\t<tr><th></th><th scope=col>eng</th><th scope=col>mat</th><th scope=col>sci</th></tr>\n",
       "\t<tr><th></th><th scope=col>&lt;dbl&gt;</th><th scope=col>&lt;dbl&gt;</th><th scope=col>&lt;dbl&gt;</th></tr>\n",
       "</thead>\n",
       "<tbody>\n",
       "\t<tr><th scope=row>4</th><td>78</td><td>95</td><td>60</td></tr>\n",
       "</tbody>\n",
       "</table>\n"
      ],
      "text/latex": [
       "A data.frame: 1 × 3\n",
       "\\begin{tabular}{r|lll}\n",
       "  & eng & mat & sci\\\\\n",
       "  & <dbl> & <dbl> & <dbl>\\\\\n",
       "\\hline\n",
       "\t4 & 78 & 95 & 60\\\\\n",
       "\\end{tabular}\n"
      ],
      "text/markdown": [
       "\n",
       "A data.frame: 1 × 3\n",
       "\n",
       "| <!--/--> | eng &lt;dbl&gt; | mat &lt;dbl&gt; | sci &lt;dbl&gt; |\n",
       "|---|---|---|---|\n",
       "| 4 | 78 | 95 | 60 |\n",
       "\n"
      ],
      "text/plain": [
       "  eng mat sci\n",
       "4 78  95  60 "
      ]
     },
     "metadata": {},
     "output_type": "display_data"
    },
    {
     "data": {
      "text/html": [
       "<table class=\"dataframe\">\n",
       "<caption>A data.frame: 1 × 3</caption>\n",
       "<thead>\n",
       "\t<tr><th></th><th scope=col>eng</th><th scope=col>mat</th><th scope=col>sci</th></tr>\n",
       "\t<tr><th></th><th scope=col>&lt;dbl&gt;</th><th scope=col>&lt;dbl&gt;</th><th scope=col>&lt;dbl&gt;</th></tr>\n",
       "</thead>\n",
       "<tbody>\n",
       "\t<tr><th scope=row>4</th><td>78</td><td>95</td><td>60</td></tr>\n",
       "</tbody>\n",
       "</table>\n"
      ],
      "text/latex": [
       "A data.frame: 1 × 3\n",
       "\\begin{tabular}{r|lll}\n",
       "  & eng & mat & sci\\\\\n",
       "  & <dbl> & <dbl> & <dbl>\\\\\n",
       "\\hline\n",
       "\t4 & 78 & 95 & 60\\\\\n",
       "\\end{tabular}\n"
      ],
      "text/markdown": [
       "\n",
       "A data.frame: 1 × 3\n",
       "\n",
       "| <!--/--> | eng &lt;dbl&gt; | mat &lt;dbl&gt; | sci &lt;dbl&gt; |\n",
       "|---|---|---|---|\n",
       "| 4 | 78 | 95 | 60 |\n",
       "\n"
      ],
      "text/plain": [
       "  eng mat sci\n",
       "4 78  95  60 "
      ]
     },
     "metadata": {},
     "output_type": "display_data"
    }
   ],
   "source": [
    "# Jane의 성적만 출력\n",
    "sungjuk[4, c(2,3,4)]\n",
    "sungjuk[4, c('eng','mat','sci')]\n",
    "sungjuk[4, c(2:4)]\n",
    "sungjuk[sungjuk$name == 'Jane', c(2:4)]"
   ]
  },
  {
   "cell_type": "markdown",
   "id": "ee5b969a-e274-412f-8e4e-498efdada181",
   "metadata": {},
   "source": [
    "## 성적 데이터프레임에서 총점/평균/학점 컬럼 추가하기\n",
    "* 데이터프레임명$변수명 <- 처리코드"
   ]
  },
  {
   "cell_type": "code",
   "execution_count": 5,
   "id": "0c207efd-6bdd-4aec-a04a-b926782ef22a",
   "metadata": {},
   "outputs": [
    {
     "data": {
      "text/html": [
       "<table class=\"dataframe\">\n",
       "<caption>A data.frame: 4 × 6</caption>\n",
       "<thead>\n",
       "\t<tr><th scope=col>name</th><th scope=col>eng</th><th scope=col>mat</th><th scope=col>sci</th><th scope=col>tot</th><th scope=col>avg</th></tr>\n",
       "\t<tr><th scope=col>&lt;fct&gt;</th><th scope=col>&lt;dbl&gt;</th><th scope=col>&lt;dbl&gt;</th><th scope=col>&lt;dbl&gt;</th><th scope=col>&lt;dbl&gt;</th><th scope=col>&lt;dbl&gt;</th></tr>\n",
       "</thead>\n",
       "<tbody>\n",
       "\t<tr><td>John</td><td>90</td><td>85</td><td>90</td><td>265</td><td>88.3</td></tr>\n",
       "\t<tr><td>Tom </td><td>95</td><td>96</td><td>80</td><td>271</td><td>90.3</td></tr>\n",
       "\t<tr><td>Mark</td><td>69</td><td>49</td><td>70</td><td>188</td><td>62.7</td></tr>\n",
       "\t<tr><td>Jane</td><td>78</td><td>95</td><td>60</td><td>233</td><td>77.7</td></tr>\n",
       "</tbody>\n",
       "</table>\n"
      ],
      "text/latex": [
       "A data.frame: 4 × 6\n",
       "\\begin{tabular}{llllll}\n",
       " name & eng & mat & sci & tot & avg\\\\\n",
       " <fct> & <dbl> & <dbl> & <dbl> & <dbl> & <dbl>\\\\\n",
       "\\hline\n",
       "\t John & 90 & 85 & 90 & 265 & 88.3\\\\\n",
       "\t Tom  & 95 & 96 & 80 & 271 & 90.3\\\\\n",
       "\t Mark & 69 & 49 & 70 & 188 & 62.7\\\\\n",
       "\t Jane & 78 & 95 & 60 & 233 & 77.7\\\\\n",
       "\\end{tabular}\n"
      ],
      "text/markdown": [
       "\n",
       "A data.frame: 4 × 6\n",
       "\n",
       "| name &lt;fct&gt; | eng &lt;dbl&gt; | mat &lt;dbl&gt; | sci &lt;dbl&gt; | tot &lt;dbl&gt; | avg &lt;dbl&gt; |\n",
       "|---|---|---|---|---|---|\n",
       "| John | 90 | 85 | 90 | 265 | 88.3 |\n",
       "| Tom  | 95 | 96 | 80 | 271 | 90.3 |\n",
       "| Mark | 69 | 49 | 70 | 188 | 62.7 |\n",
       "| Jane | 78 | 95 | 60 | 233 | 77.7 |\n",
       "\n"
      ],
      "text/plain": [
       "  name eng mat sci tot avg \n",
       "1 John 90  85  90  265 88.3\n",
       "2 Tom  95  96  80  271 90.3\n",
       "3 Mark 69  49  70  188 62.7\n",
       "4 Jane 78  95  60  233 77.7"
      ]
     },
     "metadata": {},
     "output_type": "display_data"
    }
   ],
   "source": [
    "sungjuk$tot <- sungjuk$eng + sungjuk$mat + sungjuk$sci\n",
    "sungjuk$avg <- round(sungjuk$tot / 3, 1)\n",
    "sungjuk"
   ]
  },
  {
   "cell_type": "markdown",
   "id": "c23d3c5d-72eb-4e5b-ae96-f3cb42a0ae10",
   "metadata": {},
   "source": [
    "## 변수를 줄여서 사용하기\n",
    "* attach/detach, with, within 함수 이용"
   ]
  },
  {
   "cell_type": "code",
   "execution_count": 6,
   "id": "9988df6f-0407-4285-8adc-2dbd15d7aa77",
   "metadata": {},
   "outputs": [],
   "source": [
    "# attach(생략할키워드)\n",
    "# detach(생략할키워드)\n",
    "\n",
    "# 파생변수 생성에는 사용불가\n",
    "load('../data/sungjuk.rdata')\n",
    "attach(sungjuk)"
   ]
  },
  {
   "cell_type": "code",
   "execution_count": 7,
   "id": "0e7a4639-d941-49ab-9511-49c0a14da5b3",
   "metadata": {},
   "outputs": [
    {
     "data": {
      "text/html": [
       "<style>\n",
       ".list-inline {list-style: none; margin:0; padding: 0}\n",
       ".list-inline>li {display: inline-block}\n",
       ".list-inline>li:not(:last-child)::after {content: \"\\00b7\"; padding: 0 .5ex}\n",
       "</style>\n",
       "<ol class=list-inline><li>265</li><li>271</li><li>188</li><li>233</li></ol>\n"
      ],
      "text/latex": [
       "\\begin{enumerate*}\n",
       "\\item 265\n",
       "\\item 271\n",
       "\\item 188\n",
       "\\item 233\n",
       "\\end{enumerate*}\n"
      ],
      "text/markdown": [
       "1. 265\n",
       "2. 271\n",
       "3. 188\n",
       "4. 233\n",
       "\n",
       "\n"
      ],
      "text/plain": [
       "[1] 265 271 188 233"
      ]
     },
     "metadata": {},
     "output_type": "display_data"
    },
    {
     "data": {
      "text/html": [
       "<style>\n",
       ".list-inline {list-style: none; margin:0; padding: 0}\n",
       ".list-inline>li {display: inline-block}\n",
       ".list-inline>li:not(:last-child)::after {content: \"\\00b7\"; padding: 0 .5ex}\n",
       "</style>\n",
       "<ol class=list-inline><li>88.3</li><li>90.3</li><li>62.7</li><li>77.7</li></ol>\n"
      ],
      "text/latex": [
       "\\begin{enumerate*}\n",
       "\\item 88.3\n",
       "\\item 90.3\n",
       "\\item 62.7\n",
       "\\item 77.7\n",
       "\\end{enumerate*}\n"
      ],
      "text/markdown": [
       "1. 88.3\n",
       "2. 90.3\n",
       "3. 62.7\n",
       "4. 77.7\n",
       "\n",
       "\n"
      ],
      "text/plain": [
       "[1] 88.3 90.3 62.7 77.7"
      ]
     },
     "metadata": {},
     "output_type": "display_data"
    }
   ],
   "source": [
    "eng + mat + sci\n",
    "round((eng + mat + sci) / 3, 1)\n",
    "detach(sungjuk)"
   ]
  },
  {
   "cell_type": "code",
   "execution_count": 8,
   "id": "d5b32961-c56e-4409-9041-27869d8cea73",
   "metadata": {},
   "outputs": [
    {
     "data": {
      "text/html": [
       "<table class=\"dataframe\">\n",
       "<caption>A data.frame: 4 × 4</caption>\n",
       "<thead>\n",
       "\t<tr><th scope=col>name</th><th scope=col>eng</th><th scope=col>mat</th><th scope=col>sci</th></tr>\n",
       "\t<tr><th scope=col>&lt;fct&gt;</th><th scope=col>&lt;dbl&gt;</th><th scope=col>&lt;dbl&gt;</th><th scope=col>&lt;dbl&gt;</th></tr>\n",
       "</thead>\n",
       "<tbody>\n",
       "\t<tr><td>John</td><td>90</td><td>85</td><td>90</td></tr>\n",
       "\t<tr><td>Tom </td><td>95</td><td>96</td><td>80</td></tr>\n",
       "\t<tr><td>Mark</td><td>69</td><td>49</td><td>70</td></tr>\n",
       "\t<tr><td>Jane</td><td>78</td><td>95</td><td>60</td></tr>\n",
       "</tbody>\n",
       "</table>\n"
      ],
      "text/latex": [
       "A data.frame: 4 × 4\n",
       "\\begin{tabular}{llll}\n",
       " name & eng & mat & sci\\\\\n",
       " <fct> & <dbl> & <dbl> & <dbl>\\\\\n",
       "\\hline\n",
       "\t John & 90 & 85 & 90\\\\\n",
       "\t Tom  & 95 & 96 & 80\\\\\n",
       "\t Mark & 69 & 49 & 70\\\\\n",
       "\t Jane & 78 & 95 & 60\\\\\n",
       "\\end{tabular}\n"
      ],
      "text/markdown": [
       "\n",
       "A data.frame: 4 × 4\n",
       "\n",
       "| name &lt;fct&gt; | eng &lt;dbl&gt; | mat &lt;dbl&gt; | sci &lt;dbl&gt; |\n",
       "|---|---|---|---|\n",
       "| John | 90 | 85 | 90 |\n",
       "| Tom  | 95 | 96 | 80 |\n",
       "| Mark | 69 | 49 | 70 |\n",
       "| Jane | 78 | 95 | 60 |\n",
       "\n"
      ],
      "text/plain": [
       "  name eng mat sci\n",
       "1 John 90  85  90 \n",
       "2 Tom  95  96  80 \n",
       "3 Mark 69  49  70 \n",
       "4 Jane 78  95  60 "
      ]
     },
     "metadata": {},
     "output_type": "display_data"
    }
   ],
   "source": [
    "attach(sungjuk)\n",
    "tot <- eng + mat + sci\n",
    "avg <- round((eng + mat + sci) / 3, 1)\n",
    "detach(sungjuk)\n",
    "sungjuk"
   ]
  },
  {
   "cell_type": "code",
   "execution_count": 9,
   "id": "1e2d5bd7-3664-4f21-9275-48c0776c1c14",
   "metadata": {},
   "outputs": [
    {
     "data": {
      "text/html": [
       "<table class=\"dataframe\">\n",
       "<caption>A data.frame: 4 × 4</caption>\n",
       "<thead>\n",
       "\t<tr><th scope=col>name</th><th scope=col>eng</th><th scope=col>mat</th><th scope=col>sci</th></tr>\n",
       "\t<tr><th scope=col>&lt;fct&gt;</th><th scope=col>&lt;dbl&gt;</th><th scope=col>&lt;dbl&gt;</th><th scope=col>&lt;dbl&gt;</th></tr>\n",
       "</thead>\n",
       "<tbody>\n",
       "\t<tr><td>John</td><td>90</td><td>85</td><td>90</td></tr>\n",
       "\t<tr><td>Tom </td><td>95</td><td>96</td><td>80</td></tr>\n",
       "\t<tr><td>Mark</td><td>69</td><td>49</td><td>70</td></tr>\n",
       "\t<tr><td>Jane</td><td>78</td><td>95</td><td>60</td></tr>\n",
       "</tbody>\n",
       "</table>\n"
      ],
      "text/latex": [
       "A data.frame: 4 × 4\n",
       "\\begin{tabular}{llll}\n",
       " name & eng & mat & sci\\\\\n",
       " <fct> & <dbl> & <dbl> & <dbl>\\\\\n",
       "\\hline\n",
       "\t John & 90 & 85 & 90\\\\\n",
       "\t Tom  & 95 & 96 & 80\\\\\n",
       "\t Mark & 69 & 49 & 70\\\\\n",
       "\t Jane & 78 & 95 & 60\\\\\n",
       "\\end{tabular}\n"
      ],
      "text/markdown": [
       "\n",
       "A data.frame: 4 × 4\n",
       "\n",
       "| name &lt;fct&gt; | eng &lt;dbl&gt; | mat &lt;dbl&gt; | sci &lt;dbl&gt; |\n",
       "|---|---|---|---|\n",
       "| John | 90 | 85 | 90 |\n",
       "| Tom  | 95 | 96 | 80 |\n",
       "| Mark | 69 | 49 | 70 |\n",
       "| Jane | 78 | 95 | 60 |\n",
       "\n"
      ],
      "text/plain": [
       "  name eng mat sci\n",
       "1 John 90  85  90 \n",
       "2 Tom  95  96  80 \n",
       "3 Mark 69  49  70 \n",
       "4 Jane 78  95  60 "
      ]
     },
     "metadata": {},
     "output_type": "display_data"
    }
   ],
   "source": [
    "# with(생략할키워드, { 처리코드 })\n",
    "# attach/detach 보다는 사용 편리\n",
    "# 파생변수 생성에는 사용불가\n",
    "load('../data/sungjuk.rdata')\n",
    "with(sungjuk, {tot <- eng + mat + sci\n",
    "               avg <- round((eng + mat + sci) / 3, 1)})\n",
    "sungjuk"
   ]
  },
  {
   "cell_type": "code",
   "execution_count": 10,
   "id": "52c26868-0af8-4067-b915-d254434b452a",
   "metadata": {},
   "outputs": [
    {
     "data": {
      "text/html": [
       "<table class=\"dataframe\">\n",
       "<caption>A data.frame: 4 × 6</caption>\n",
       "<thead>\n",
       "\t<tr><th scope=col>name</th><th scope=col>eng</th><th scope=col>mat</th><th scope=col>sci</th><th scope=col>tot</th><th scope=col>avg</th></tr>\n",
       "\t<tr><th scope=col>&lt;fct&gt;</th><th scope=col>&lt;dbl&gt;</th><th scope=col>&lt;dbl&gt;</th><th scope=col>&lt;dbl&gt;</th><th scope=col>&lt;dbl&gt;</th><th scope=col>&lt;dbl&gt;</th></tr>\n",
       "</thead>\n",
       "<tbody>\n",
       "\t<tr><td>John</td><td>90</td><td>85</td><td>90</td><td>265</td><td>88.3</td></tr>\n",
       "\t<tr><td>Tom </td><td>95</td><td>96</td><td>80</td><td>271</td><td>90.3</td></tr>\n",
       "\t<tr><td>Mark</td><td>69</td><td>49</td><td>70</td><td>188</td><td>62.7</td></tr>\n",
       "\t<tr><td>Jane</td><td>78</td><td>95</td><td>60</td><td>233</td><td>77.7</td></tr>\n",
       "</tbody>\n",
       "</table>\n"
      ],
      "text/latex": [
       "A data.frame: 4 × 6\n",
       "\\begin{tabular}{llllll}\n",
       " name & eng & mat & sci & tot & avg\\\\\n",
       " <fct> & <dbl> & <dbl> & <dbl> & <dbl> & <dbl>\\\\\n",
       "\\hline\n",
       "\t John & 90 & 85 & 90 & 265 & 88.3\\\\\n",
       "\t Tom  & 95 & 96 & 80 & 271 & 90.3\\\\\n",
       "\t Mark & 69 & 49 & 70 & 188 & 62.7\\\\\n",
       "\t Jane & 78 & 95 & 60 & 233 & 77.7\\\\\n",
       "\\end{tabular}\n"
      ],
      "text/markdown": [
       "\n",
       "A data.frame: 4 × 6\n",
       "\n",
       "| name &lt;fct&gt; | eng &lt;dbl&gt; | mat &lt;dbl&gt; | sci &lt;dbl&gt; | tot &lt;dbl&gt; | avg &lt;dbl&gt; |\n",
       "|---|---|---|---|---|---|\n",
       "| John | 90 | 85 | 90 | 265 | 88.3 |\n",
       "| Tom  | 95 | 96 | 80 | 271 | 90.3 |\n",
       "| Mark | 69 | 49 | 70 | 188 | 62.7 |\n",
       "| Jane | 78 | 95 | 60 | 233 | 77.7 |\n",
       "\n"
      ],
      "text/plain": [
       "  name eng mat sci tot avg \n",
       "1 John 90  85  90  265 88.3\n",
       "2 Tom  95  96  80  271 90.3\n",
       "3 Mark 69  49  70  188 62.7\n",
       "4 Jane 78  95  60  233 77.7"
      ]
     },
     "metadata": {},
     "output_type": "display_data"
    }
   ],
   "source": [
    "# within(생략할키워드, { 처리코드 })\n",
    "# 파생변수 생성에 사용가능\n",
    "# 단, 파생변수 생성후 다시 데이터프레임에 저장해야 함!\n",
    "load('../data/sungjuk.rdata')\n",
    "\n",
    "# 파생변수 초기화\n",
    "sungjuk$tot <- c(0,0,0,0)\n",
    "sungjuk$avg <- c(0,0,0,0)\n",
    "\n",
    "sungjuk <- within(sungjuk, { tot <- eng + mat + sci\n",
    "                             avg <- round((eng + mat + sci) / 3, 1)})\n",
    "\n",
    "sungjuk"
   ]
  },
  {
   "cell_type": "code",
   "execution_count": null,
   "id": "8bce84f2-f167-4a75-aa2f-01fc5743c81b",
   "metadata": {},
   "outputs": [],
   "source": []
  },
  {
   "cell_type": "code",
   "execution_count": null,
   "id": "8f8ed8fa-9833-4598-9817-2bd71285dd2e",
   "metadata": {},
   "outputs": [],
   "source": []
  },
  {
   "cell_type": "code",
   "execution_count": null,
   "id": "9795902e-c0cc-4b4a-abfc-a8b826509a59",
   "metadata": {},
   "outputs": [],
   "source": []
  },
  {
   "cell_type": "code",
   "execution_count": null,
   "id": "9bb314ab-d236-49e0-96c2-4383e33065e0",
   "metadata": {},
   "outputs": [],
   "source": []
  },
  {
   "cell_type": "code",
   "execution_count": null,
   "id": "a38b6833-be2f-4217-a139-1a539ebc32b5",
   "metadata": {},
   "outputs": [],
   "source": []
  }
 ],
 "metadata": {
  "kernelspec": {
   "display_name": "R",
   "language": "R",
   "name": "ir"
  },
  "language_info": {
   "codemirror_mode": "r",
   "file_extension": ".r",
   "mimetype": "text/x-r-source",
   "name": "R",
   "pygments_lexer": "r",
   "version": "3.6.3"
  }
 },
 "nbformat": 4,
 "nbformat_minor": 5
}
