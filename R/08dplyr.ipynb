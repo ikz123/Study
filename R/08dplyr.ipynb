{
 "cells": [
  {
   "cell_type": "markdown",
   "id": "1153823b-9a67-4945-9c58-53b5fa0bbb00",
   "metadata": {},
   "source": [
    "## dplyr\n",
    "* 데이터 전처리 작업은 동사로 정의된 각 함수를 통해서 이루어 짐\n",
    "    + select    : 열 선택\n",
    "    + filter    : 조건 검색\n",
    "    + group_by  : 데이터 그룹화\n",
    "    + mutate    : 행/열 추가\n",
    "    + summrise  : 데이터 집계\n",
    "    + arrange   : 데이터 정렬\n",
    "\n",
    "* 이러한 함수들은 magrittr 패키지에 의해 구현된 파이프(>) 패러다임을 이용해서 체인형식으로 연산을 수행 할 수 있음\n",
    "* 즉, 먼저 수행한 함수의 결과를 다음 실행할 함수의 입력으로 보낼 수 있음\n",
    "    + sum(titanic, na.rm=T) # 기존방식\n",
    "    + titanic %>% sum(na.rm=T) # 파이프 방식\n",
    "* 파이프 기호(%>%)를 입력할 때는 단축키 ctrl + shift + M 를 사용함"
   ]
  },
  {
   "cell_type": "code",
   "execution_count": 2,
   "id": "872b2461-e9e0-4bb8-a6e4-412fbd3ce156",
   "metadata": {},
   "outputs": [],
   "source": [
    "library(dplyr)"
   ]
  },
  {
   "cell_type": "code",
   "execution_count": 3,
   "id": "cdc5f5fe-42ae-4bf2-b25b-648f2789ce8a",
   "metadata": {},
   "outputs": [],
   "source": [
    "load('sungjuk.rdata')"
   ]
  },
  {
   "cell_type": "markdown",
   "id": "fc7f3340-5e94-45ff-807f-17ec66f7039d",
   "metadata": {},
   "source": [
    "## arrange (데이터 정렬)"
   ]
  },
  {
   "cell_type": "code",
   "execution_count": 4,
   "id": "b19ee247-7c79-447d-b382-8f668e0ef2a5",
   "metadata": {},
   "outputs": [
    {
     "data": {
      "text/html": [
       "<table class=\"dataframe\">\n",
       "<caption>A data.frame: 4 × 4</caption>\n",
       "<thead>\n",
       "\t<tr><th scope=col>name</th><th scope=col>eng</th><th scope=col>mat</th><th scope=col>sci</th></tr>\n",
       "\t<tr><th scope=col>&lt;fct&gt;</th><th scope=col>&lt;dbl&gt;</th><th scope=col>&lt;dbl&gt;</th><th scope=col>&lt;dbl&gt;</th></tr>\n",
       "</thead>\n",
       "<tbody>\n",
       "\t<tr><td>Jane</td><td>78</td><td>95</td><td>60</td></tr>\n",
       "\t<tr><td>John</td><td>90</td><td>85</td><td>90</td></tr>\n",
       "\t<tr><td>Mark</td><td>69</td><td>49</td><td>70</td></tr>\n",
       "\t<tr><td>Tom </td><td>95</td><td>96</td><td>80</td></tr>\n",
       "</tbody>\n",
       "</table>\n"
      ],
      "text/latex": [
       "A data.frame: 4 × 4\n",
       "\\begin{tabular}{llll}\n",
       " name & eng & mat & sci\\\\\n",
       " <fct> & <dbl> & <dbl> & <dbl>\\\\\n",
       "\\hline\n",
       "\t Jane & 78 & 95 & 60\\\\\n",
       "\t John & 90 & 85 & 90\\\\\n",
       "\t Mark & 69 & 49 & 70\\\\\n",
       "\t Tom  & 95 & 96 & 80\\\\\n",
       "\\end{tabular}\n"
      ],
      "text/markdown": [
       "\n",
       "A data.frame: 4 × 4\n",
       "\n",
       "| name &lt;fct&gt; | eng &lt;dbl&gt; | mat &lt;dbl&gt; | sci &lt;dbl&gt; |\n",
       "|---|---|---|---|\n",
       "| Jane | 78 | 95 | 60 |\n",
       "| John | 90 | 85 | 90 |\n",
       "| Mark | 69 | 49 | 70 |\n",
       "| Tom  | 95 | 96 | 80 |\n",
       "\n"
      ],
      "text/plain": [
       "  name eng mat sci\n",
       "1 Jane 78  95  60 \n",
       "2 John 90  85  90 \n",
       "3 Mark 69  49  70 \n",
       "4 Tom  95  96  80 "
      ]
     },
     "metadata": {},
     "output_type": "display_data"
    }
   ],
   "source": [
    "# 이름순으로 오름차순 정렬\n",
    "\n",
    "sungjuk %>% arrange(name)"
   ]
  },
  {
   "cell_type": "code",
   "execution_count": 6,
   "id": "e6b47a91-0cc0-4a05-9a44-66506bc94776",
   "metadata": {},
   "outputs": [
    {
     "data": {
      "text/html": [
       "<table class=\"dataframe\">\n",
       "<caption>A data.frame: 4 × 4</caption>\n",
       "<thead>\n",
       "\t<tr><th scope=col>name</th><th scope=col>eng</th><th scope=col>mat</th><th scope=col>sci</th></tr>\n",
       "\t<tr><th scope=col>&lt;fct&gt;</th><th scope=col>&lt;dbl&gt;</th><th scope=col>&lt;dbl&gt;</th><th scope=col>&lt;dbl&gt;</th></tr>\n",
       "</thead>\n",
       "<tbody>\n",
       "\t<tr><td>Tom </td><td>95</td><td>96</td><td>80</td></tr>\n",
       "\t<tr><td>Mark</td><td>69</td><td>49</td><td>70</td></tr>\n",
       "\t<tr><td>John</td><td>90</td><td>85</td><td>90</td></tr>\n",
       "\t<tr><td>Jane</td><td>78</td><td>95</td><td>60</td></tr>\n",
       "</tbody>\n",
       "</table>\n"
      ],
      "text/latex": [
       "A data.frame: 4 × 4\n",
       "\\begin{tabular}{llll}\n",
       " name & eng & mat & sci\\\\\n",
       " <fct> & <dbl> & <dbl> & <dbl>\\\\\n",
       "\\hline\n",
       "\t Tom  & 95 & 96 & 80\\\\\n",
       "\t Mark & 69 & 49 & 70\\\\\n",
       "\t John & 90 & 85 & 90\\\\\n",
       "\t Jane & 78 & 95 & 60\\\\\n",
       "\\end{tabular}\n"
      ],
      "text/markdown": [
       "\n",
       "A data.frame: 4 × 4\n",
       "\n",
       "| name &lt;fct&gt; | eng &lt;dbl&gt; | mat &lt;dbl&gt; | sci &lt;dbl&gt; |\n",
       "|---|---|---|---|\n",
       "| Tom  | 95 | 96 | 80 |\n",
       "| Mark | 69 | 49 | 70 |\n",
       "| John | 90 | 85 | 90 |\n",
       "| Jane | 78 | 95 | 60 |\n",
       "\n"
      ],
      "text/plain": [
       "  name eng mat sci\n",
       "1 Tom  95  96  80 \n",
       "2 Mark 69  49  70 \n",
       "3 John 90  85  90 \n",
       "4 Jane 78  95  60 "
      ]
     },
     "metadata": {},
     "output_type": "display_data"
    }
   ],
   "source": [
    "# 이름순으로 내림차순 정렬\n",
    "\n",
    "sungjuk %>% arrange(desc(name))"
   ]
  },
  {
   "cell_type": "code",
   "execution_count": 7,
   "id": "43467c98-8b08-4201-9197-a507b76ca451",
   "metadata": {},
   "outputs": [
    {
     "data": {
      "text/html": [
       "<table class=\"dataframe\">\n",
       "<caption>A data.frame: 4 × 4</caption>\n",
       "<thead>\n",
       "\t<tr><th scope=col>name</th><th scope=col>eng</th><th scope=col>mat</th><th scope=col>sci</th></tr>\n",
       "\t<tr><th scope=col>&lt;fct&gt;</th><th scope=col>&lt;dbl&gt;</th><th scope=col>&lt;dbl&gt;</th><th scope=col>&lt;dbl&gt;</th></tr>\n",
       "</thead>\n",
       "<tbody>\n",
       "\t<tr><td>Mark</td><td>69</td><td>49</td><td>70</td></tr>\n",
       "\t<tr><td>Jane</td><td>78</td><td>95</td><td>60</td></tr>\n",
       "\t<tr><td>John</td><td>90</td><td>85</td><td>90</td></tr>\n",
       "\t<tr><td>Tom </td><td>95</td><td>96</td><td>80</td></tr>\n",
       "</tbody>\n",
       "</table>\n"
      ],
      "text/latex": [
       "A data.frame: 4 × 4\n",
       "\\begin{tabular}{llll}\n",
       " name & eng & mat & sci\\\\\n",
       " <fct> & <dbl> & <dbl> & <dbl>\\\\\n",
       "\\hline\n",
       "\t Mark & 69 & 49 & 70\\\\\n",
       "\t Jane & 78 & 95 & 60\\\\\n",
       "\t John & 90 & 85 & 90\\\\\n",
       "\t Tom  & 95 & 96 & 80\\\\\n",
       "\\end{tabular}\n"
      ],
      "text/markdown": [
       "\n",
       "A data.frame: 4 × 4\n",
       "\n",
       "| name &lt;fct&gt; | eng &lt;dbl&gt; | mat &lt;dbl&gt; | sci &lt;dbl&gt; |\n",
       "|---|---|---|---|\n",
       "| Mark | 69 | 49 | 70 |\n",
       "| Jane | 78 | 95 | 60 |\n",
       "| John | 90 | 85 | 90 |\n",
       "| Tom  | 95 | 96 | 80 |\n",
       "\n"
      ],
      "text/plain": [
       "  name eng mat sci\n",
       "1 Mark 69  49  70 \n",
       "2 Jane 78  95  60 \n",
       "3 John 90  85  90 \n",
       "4 Tom  95  96  80 "
      ]
     },
     "metadata": {},
     "output_type": "display_data"
    }
   ],
   "source": [
    "# 영어/수학/과학 점수를 내림차순 정렬\n",
    "\n",
    "sungjuk %>% arrange(eng, mat, sci)"
   ]
  },
  {
   "cell_type": "markdown",
   "id": "1e826b38-0349-425b-9407-94a0a1a2abf0",
   "metadata": {},
   "source": [
    "## summarise (데이터 집계)"
   ]
  },
  {
   "cell_type": "code",
   "execution_count": 11,
   "id": "260a9ec7-81e9-4f82-b219-a98537199415",
   "metadata": {},
   "outputs": [
    {
     "data": {
      "text/html": [
       "<table class=\"dataframe\">\n",
       "<caption>A data.frame: 1 × 1</caption>\n",
       "<thead>\n",
       "\t<tr><th scope=col>평균영어점수</th></tr>\n",
       "\t<tr><th scope=col>&lt;dbl&gt;</th></tr>\n",
       "</thead>\n",
       "<tbody>\n",
       "\t<tr><td>83</td></tr>\n",
       "</tbody>\n",
       "</table>\n"
      ],
      "text/latex": [
       "A data.frame: 1 × 1\n",
       "\\begin{tabular}{l}\n",
       " 평균영어점수\\\\\n",
       " <dbl>\\\\\n",
       "\\hline\n",
       "\t 83\\\\\n",
       "\\end{tabular}\n"
      ],
      "text/markdown": [
       "\n",
       "A data.frame: 1 × 1\n",
       "\n",
       "| 평균영어점수 &lt;dbl&gt; |\n",
       "|---|\n",
       "| 83 |\n",
       "\n"
      ],
      "text/plain": [
       "  평균영어점수\n",
       "1 83          "
      ]
     },
     "metadata": {},
     "output_type": "display_data"
    }
   ],
   "source": [
    "# 평균 영어 점수 출력\n",
    "\n",
    "sungjuk %>% summarise(평균영어점수=mean(eng))"
   ]
  },
  {
   "cell_type": "code",
   "execution_count": 13,
   "id": "ec1e7628-53da-4823-a08f-f9644294e4e7",
   "metadata": {},
   "outputs": [
    {
     "data": {
      "text/html": [
       "<table class=\"dataframe\">\n",
       "<caption>A data.frame: 1 × 9</caption>\n",
       "<thead>\n",
       "\t<tr><th scope=col>평균영어점수</th><th scope=col>평균수학점수</th><th scope=col>평균과학점수</th><th scope=col>최고영어점수</th><th scope=col>최고수학점수</th><th scope=col>최고과학점수</th><th scope=col>최소영어점수</th><th scope=col>최소수학점수</th><th scope=col>최소과학점수</th></tr>\n",
       "\t<tr><th scope=col>&lt;dbl&gt;</th><th scope=col>&lt;dbl&gt;</th><th scope=col>&lt;dbl&gt;</th><th scope=col>&lt;dbl&gt;</th><th scope=col>&lt;dbl&gt;</th><th scope=col>&lt;dbl&gt;</th><th scope=col>&lt;dbl&gt;</th><th scope=col>&lt;dbl&gt;</th><th scope=col>&lt;dbl&gt;</th></tr>\n",
       "</thead>\n",
       "<tbody>\n",
       "\t<tr><td>83</td><td>81.25</td><td>75</td><td>95</td><td>96</td><td>90</td><td>69</td><td>49</td><td>60</td></tr>\n",
       "</tbody>\n",
       "</table>\n"
      ],
      "text/latex": [
       "A data.frame: 1 × 9\n",
       "\\begin{tabular}{lllllllll}\n",
       " 평균영어점수 & 평균수학점수 & 평균과학점수 & 최고영어점수 & 최고수학점수 & 최고과학점수 & 최소영어점수 & 최소수학점수 & 최소과학점수\\\\\n",
       " <dbl> & <dbl> & <dbl> & <dbl> & <dbl> & <dbl> & <dbl> & <dbl> & <dbl>\\\\\n",
       "\\hline\n",
       "\t 83 & 81.25 & 75 & 95 & 96 & 90 & 69 & 49 & 60\\\\\n",
       "\\end{tabular}\n"
      ],
      "text/markdown": [
       "\n",
       "A data.frame: 1 × 9\n",
       "\n",
       "| 평균영어점수 &lt;dbl&gt; | 평균수학점수 &lt;dbl&gt; | 평균과학점수 &lt;dbl&gt; | 최고영어점수 &lt;dbl&gt; | 최고수학점수 &lt;dbl&gt; | 최고과학점수 &lt;dbl&gt; | 최소영어점수 &lt;dbl&gt; | 최소수학점수 &lt;dbl&gt; | 최소과학점수 &lt;dbl&gt; |\n",
       "|---|---|---|---|---|---|---|---|---|\n",
       "| 83 | 81.25 | 75 | 95 | 96 | 90 | 69 | 49 | 60 |\n",
       "\n"
      ],
      "text/plain": [
       "  평균영어점수 평균수학점수 평균과학점수 최고영어점수 최고수학점수 최고과학점수\n",
       "1 83           81.25        75           95           96           90          \n",
       "  최소영어점수 최소수학점수 최소과학점수\n",
       "1 69           49           60          "
      ]
     },
     "metadata": {},
     "output_type": "display_data"
    }
   ],
   "source": [
    "# 각 과목별로 평균/최고/최소 점수 출력\n",
    "\n",
    "sungjuk %>% summarise(평균영어점수=mean(eng), 평균수학점수=mean(mat), 평균과학점수=mean(sci),\n",
    "            최고영어점수=max(eng), 최고수학점수=max(mat), 최고과학점수=max(sci),\n",
    "            최소영어점수=min(eng), 최소수학점수=min(mat), 최소과학점수=min(sci))"
   ]
  },
  {
   "cell_type": "markdown",
   "id": "bf703004-3d8f-45ac-b878-79abb0a692d4",
   "metadata": {},
   "source": [
    "## group_by (데이터 그룹화)"
   ]
  },
  {
   "cell_type": "code",
   "execution_count": 15,
   "id": "03b4eab3-a94d-4d7b-8a00-e6de57119988",
   "metadata": {},
   "outputs": [],
   "source": [
    "# 새로운 컬럼 추가\n",
    "sungjuk$class <- c(2,1,2,3)"
   ]
  },
  {
   "cell_type": "code",
   "execution_count": 19,
   "id": "3554119d-c09a-4edc-b867-703dff638594",
   "metadata": {},
   "outputs": [
    {
     "data": {
      "text/html": [
       "<table class=\"dataframe\">\n",
       "<caption>A tibble: 3 × 2</caption>\n",
       "<thead>\n",
       "\t<tr><th scope=col>class</th><th scope=col>평균영어</th></tr>\n",
       "\t<tr><th scope=col>&lt;dbl&gt;</th><th scope=col>&lt;dbl&gt;</th></tr>\n",
       "</thead>\n",
       "<tbody>\n",
       "\t<tr><td>1</td><td>95.0</td></tr>\n",
       "\t<tr><td>2</td><td>79.5</td></tr>\n",
       "\t<tr><td>3</td><td>78.0</td></tr>\n",
       "</tbody>\n",
       "</table>\n"
      ],
      "text/latex": [
       "A tibble: 3 × 2\n",
       "\\begin{tabular}{ll}\n",
       " class & 평균영어\\\\\n",
       " <dbl> & <dbl>\\\\\n",
       "\\hline\n",
       "\t 1 & 95.0\\\\\n",
       "\t 2 & 79.5\\\\\n",
       "\t 3 & 78.0\\\\\n",
       "\\end{tabular}\n"
      ],
      "text/markdown": [
       "\n",
       "A tibble: 3 × 2\n",
       "\n",
       "| class &lt;dbl&gt; | 평균영어 &lt;dbl&gt; |\n",
       "|---|---|\n",
       "| 1 | 95.0 |\n",
       "| 2 | 79.5 |\n",
       "| 3 | 78.0 |\n",
       "\n"
      ],
      "text/plain": [
       "  class 평균영어\n",
       "1 1     95.0    \n",
       "2 2     79.5    \n",
       "3 3     78.0    "
      ]
     },
     "metadata": {},
     "output_type": "display_data"
    }
   ],
   "source": [
    "# 클래스별 평균 영어점수 출력\n",
    "\n",
    "sungjuk %>% group_by(class) %>% summarise(평균영어=mean(eng))"
   ]
  },
  {
   "cell_type": "code",
   "execution_count": 20,
   "id": "98cd1241-213c-4262-aba0-922052989a0c",
   "metadata": {},
   "outputs": [
    {
     "data": {
      "text/html": [
       "<table class=\"dataframe\">\n",
       "<caption>A tibble: 3 × 3</caption>\n",
       "<thead>\n",
       "\t<tr><th scope=col>class</th><th scope=col>max(eng)</th><th scope=col>min(eng)</th></tr>\n",
       "\t<tr><th scope=col>&lt;dbl&gt;</th><th scope=col>&lt;dbl&gt;</th><th scope=col>&lt;dbl&gt;</th></tr>\n",
       "</thead>\n",
       "<tbody>\n",
       "\t<tr><td>1</td><td>95</td><td>95</td></tr>\n",
       "\t<tr><td>2</td><td>90</td><td>69</td></tr>\n",
       "\t<tr><td>3</td><td>78</td><td>78</td></tr>\n",
       "</tbody>\n",
       "</table>\n"
      ],
      "text/latex": [
       "A tibble: 3 × 3\n",
       "\\begin{tabular}{lll}\n",
       " class & max(eng) & min(eng)\\\\\n",
       " <dbl> & <dbl> & <dbl>\\\\\n",
       "\\hline\n",
       "\t 1 & 95 & 95\\\\\n",
       "\t 2 & 90 & 69\\\\\n",
       "\t 3 & 78 & 78\\\\\n",
       "\\end{tabular}\n"
      ],
      "text/markdown": [
       "\n",
       "A tibble: 3 × 3\n",
       "\n",
       "| class &lt;dbl&gt; | max(eng) &lt;dbl&gt; | min(eng) &lt;dbl&gt; |\n",
       "|---|---|---|\n",
       "| 1 | 95 | 95 |\n",
       "| 2 | 90 | 69 |\n",
       "| 3 | 78 | 78 |\n",
       "\n"
      ],
      "text/plain": [
       "  class max(eng) min(eng)\n",
       "1 1     95       95      \n",
       "2 2     90       69      \n",
       "3 3     78       78      "
      ]
     },
     "metadata": {},
     "output_type": "display_data"
    }
   ],
   "source": [
    "# 클래스별 최고/최소 영어점수 출력\n",
    "sungjuk %>% group_by(class) %>% summarise(max(eng), min(eng))"
   ]
  },
  {
   "cell_type": "code",
   "execution_count": 21,
   "id": "604d7ef9-d738-46aa-9d59-bc37456ae273",
   "metadata": {},
   "outputs": [
    {
     "data": {
      "text/html": [
       "<table class=\"dataframe\">\n",
       "<caption>A tibble: 53940 × 10</caption>\n",
       "<thead>\n",
       "\t<tr><th scope=col>carat</th><th scope=col>cut</th><th scope=col>color</th><th scope=col>clarity</th><th scope=col>depth</th><th scope=col>table</th><th scope=col>price</th><th scope=col>x</th><th scope=col>y</th><th scope=col>z</th></tr>\n",
       "\t<tr><th scope=col>&lt;dbl&gt;</th><th scope=col>&lt;ord&gt;</th><th scope=col>&lt;ord&gt;</th><th scope=col>&lt;ord&gt;</th><th scope=col>&lt;dbl&gt;</th><th scope=col>&lt;dbl&gt;</th><th scope=col>&lt;int&gt;</th><th scope=col>&lt;dbl&gt;</th><th scope=col>&lt;dbl&gt;</th><th scope=col>&lt;dbl&gt;</th></tr>\n",
       "</thead>\n",
       "<tbody>\n",
       "\t<tr><td>0.23</td><td>Ideal    </td><td>E</td><td>SI2 </td><td>61.5</td><td>55</td><td>326</td><td>3.95</td><td>3.98</td><td>2.43</td></tr>\n",
       "\t<tr><td>0.21</td><td>Premium  </td><td>E</td><td>SI1 </td><td>59.8</td><td>61</td><td>326</td><td>3.89</td><td>3.84</td><td>2.31</td></tr>\n",
       "\t<tr><td>0.23</td><td>Good     </td><td>E</td><td>VS1 </td><td>56.9</td><td>65</td><td>327</td><td>4.05</td><td>4.07</td><td>2.31</td></tr>\n",
       "\t<tr><td>0.29</td><td>Premium  </td><td>I</td><td>VS2 </td><td>62.4</td><td>58</td><td>334</td><td>4.20</td><td>4.23</td><td>2.63</td></tr>\n",
       "\t<tr><td>0.31</td><td>Good     </td><td>J</td><td>SI2 </td><td>63.3</td><td>58</td><td>335</td><td>4.34</td><td>4.35</td><td>2.75</td></tr>\n",
       "\t<tr><td>0.24</td><td>Very Good</td><td>J</td><td>VVS2</td><td>62.8</td><td>57</td><td>336</td><td>3.94</td><td>3.96</td><td>2.48</td></tr>\n",
       "\t<tr><td>0.24</td><td>Very Good</td><td>I</td><td>VVS1</td><td>62.3</td><td>57</td><td>336</td><td>3.95</td><td>3.98</td><td>2.47</td></tr>\n",
       "\t<tr><td>0.26</td><td>Very Good</td><td>H</td><td>SI1 </td><td>61.9</td><td>55</td><td>337</td><td>4.07</td><td>4.11</td><td>2.53</td></tr>\n",
       "\t<tr><td>0.22</td><td>Fair     </td><td>E</td><td>VS2 </td><td>65.1</td><td>61</td><td>337</td><td>3.87</td><td>3.78</td><td>2.49</td></tr>\n",
       "\t<tr><td>0.23</td><td>Very Good</td><td>H</td><td>VS1 </td><td>59.4</td><td>61</td><td>338</td><td>4.00</td><td>4.05</td><td>2.39</td></tr>\n",
       "\t<tr><td>0.30</td><td>Good     </td><td>J</td><td>SI1 </td><td>64.0</td><td>55</td><td>339</td><td>4.25</td><td>4.28</td><td>2.73</td></tr>\n",
       "\t<tr><td>0.23</td><td>Ideal    </td><td>J</td><td>VS1 </td><td>62.8</td><td>56</td><td>340</td><td>3.93</td><td>3.90</td><td>2.46</td></tr>\n",
       "\t<tr><td>0.22</td><td>Premium  </td><td>F</td><td>SI1 </td><td>60.4</td><td>61</td><td>342</td><td>3.88</td><td>3.84</td><td>2.33</td></tr>\n",
       "\t<tr><td>0.31</td><td>Ideal    </td><td>J</td><td>SI2 </td><td>62.2</td><td>54</td><td>344</td><td>4.35</td><td>4.37</td><td>2.71</td></tr>\n",
       "\t<tr><td>0.20</td><td>Premium  </td><td>E</td><td>SI2 </td><td>60.2</td><td>62</td><td>345</td><td>3.79</td><td>3.75</td><td>2.27</td></tr>\n",
       "\t<tr><td>0.32</td><td>Premium  </td><td>E</td><td>I1  </td><td>60.9</td><td>58</td><td>345</td><td>4.38</td><td>4.42</td><td>2.68</td></tr>\n",
       "\t<tr><td>0.30</td><td>Ideal    </td><td>I</td><td>SI2 </td><td>62.0</td><td>54</td><td>348</td><td>4.31</td><td>4.34</td><td>2.68</td></tr>\n",
       "\t<tr><td>0.30</td><td>Good     </td><td>J</td><td>SI1 </td><td>63.4</td><td>54</td><td>351</td><td>4.23</td><td>4.29</td><td>2.70</td></tr>\n",
       "\t<tr><td>0.30</td><td>Good     </td><td>J</td><td>SI1 </td><td>63.8</td><td>56</td><td>351</td><td>4.23</td><td>4.26</td><td>2.71</td></tr>\n",
       "\t<tr><td>0.30</td><td>Very Good</td><td>J</td><td>SI1 </td><td>62.7</td><td>59</td><td>351</td><td>4.21</td><td>4.27</td><td>2.66</td></tr>\n",
       "\t<tr><td>0.30</td><td>Good     </td><td>I</td><td>SI2 </td><td>63.3</td><td>56</td><td>351</td><td>4.26</td><td>4.30</td><td>2.71</td></tr>\n",
       "\t<tr><td>0.23</td><td>Very Good</td><td>E</td><td>VS2 </td><td>63.8</td><td>55</td><td>352</td><td>3.85</td><td>3.92</td><td>2.48</td></tr>\n",
       "\t<tr><td>0.23</td><td>Very Good</td><td>H</td><td>VS1 </td><td>61.0</td><td>57</td><td>353</td><td>3.94</td><td>3.96</td><td>2.41</td></tr>\n",
       "\t<tr><td>0.31</td><td>Very Good</td><td>J</td><td>SI1 </td><td>59.4</td><td>62</td><td>353</td><td>4.39</td><td>4.43</td><td>2.62</td></tr>\n",
       "\t<tr><td>0.31</td><td>Very Good</td><td>J</td><td>SI1 </td><td>58.1</td><td>62</td><td>353</td><td>4.44</td><td>4.47</td><td>2.59</td></tr>\n",
       "\t<tr><td>0.23</td><td>Very Good</td><td>G</td><td>VVS2</td><td>60.4</td><td>58</td><td>354</td><td>3.97</td><td>4.01</td><td>2.41</td></tr>\n",
       "\t<tr><td>0.24</td><td>Premium  </td><td>I</td><td>VS1 </td><td>62.5</td><td>57</td><td>355</td><td>3.97</td><td>3.94</td><td>2.47</td></tr>\n",
       "\t<tr><td>0.30</td><td>Very Good</td><td>J</td><td>VS2 </td><td>62.2</td><td>57</td><td>357</td><td>4.28</td><td>4.30</td><td>2.67</td></tr>\n",
       "\t<tr><td>0.23</td><td>Very Good</td><td>D</td><td>VS2 </td><td>60.5</td><td>61</td><td>357</td><td>3.96</td><td>3.97</td><td>2.40</td></tr>\n",
       "\t<tr><td>0.23</td><td>Very Good</td><td>F</td><td>VS1 </td><td>60.9</td><td>57</td><td>357</td><td>3.96</td><td>3.99</td><td>2.42</td></tr>\n",
       "\t<tr><td>⋮</td><td>⋮</td><td>⋮</td><td>⋮</td><td>⋮</td><td>⋮</td><td>⋮</td><td>⋮</td><td>⋮</td><td>⋮</td></tr>\n",
       "\t<tr><td>0.70</td><td>Premium  </td><td>E</td><td>SI1 </td><td>60.5</td><td>58</td><td>2753</td><td>5.74</td><td>5.77</td><td>3.48</td></tr>\n",
       "\t<tr><td>0.57</td><td>Premium  </td><td>E</td><td>IF  </td><td>59.8</td><td>60</td><td>2753</td><td>5.43</td><td>5.38</td><td>3.23</td></tr>\n",
       "\t<tr><td>0.61</td><td>Premium  </td><td>F</td><td>VVS1</td><td>61.8</td><td>59</td><td>2753</td><td>5.48</td><td>5.40</td><td>3.36</td></tr>\n",
       "\t<tr><td>0.80</td><td>Good     </td><td>G</td><td>VS2 </td><td>64.2</td><td>58</td><td>2753</td><td>5.84</td><td>5.81</td><td>3.74</td></tr>\n",
       "\t<tr><td>0.84</td><td>Good     </td><td>I</td><td>VS1 </td><td>63.7</td><td>59</td><td>2753</td><td>5.94</td><td>5.90</td><td>3.77</td></tr>\n",
       "\t<tr><td>0.77</td><td>Ideal    </td><td>E</td><td>SI2 </td><td>62.1</td><td>56</td><td>2753</td><td>5.84</td><td>5.86</td><td>3.63</td></tr>\n",
       "\t<tr><td>0.74</td><td>Good     </td><td>D</td><td>SI1 </td><td>63.1</td><td>59</td><td>2753</td><td>5.71</td><td>5.74</td><td>3.61</td></tr>\n",
       "\t<tr><td>0.90</td><td>Very Good</td><td>J</td><td>SI1 </td><td>63.2</td><td>60</td><td>2753</td><td>6.12</td><td>6.09</td><td>3.86</td></tr>\n",
       "\t<tr><td>0.76</td><td>Premium  </td><td>I</td><td>VS1 </td><td>59.3</td><td>62</td><td>2753</td><td>5.93</td><td>5.85</td><td>3.49</td></tr>\n",
       "\t<tr><td>0.76</td><td>Ideal    </td><td>I</td><td>VVS1</td><td>62.2</td><td>55</td><td>2753</td><td>5.89</td><td>5.87</td><td>3.66</td></tr>\n",
       "\t<tr><td>0.70</td><td>Very Good</td><td>E</td><td>VS2 </td><td>62.4</td><td>60</td><td>2755</td><td>5.57</td><td>5.61</td><td>3.49</td></tr>\n",
       "\t<tr><td>0.70</td><td>Very Good</td><td>E</td><td>VS2 </td><td>62.8</td><td>60</td><td>2755</td><td>5.59</td><td>5.65</td><td>3.53</td></tr>\n",
       "\t<tr><td>0.70</td><td>Very Good</td><td>D</td><td>VS1 </td><td>63.1</td><td>59</td><td>2755</td><td>5.67</td><td>5.58</td><td>3.55</td></tr>\n",
       "\t<tr><td>0.73</td><td>Ideal    </td><td>I</td><td>VS2 </td><td>61.3</td><td>56</td><td>2756</td><td>5.80</td><td>5.84</td><td>3.57</td></tr>\n",
       "\t<tr><td>0.73</td><td>Ideal    </td><td>I</td><td>VS2 </td><td>61.6</td><td>55</td><td>2756</td><td>5.82</td><td>5.84</td><td>3.59</td></tr>\n",
       "\t<tr><td>0.79</td><td>Ideal    </td><td>I</td><td>SI1 </td><td>61.6</td><td>56</td><td>2756</td><td>5.95</td><td>5.97</td><td>3.67</td></tr>\n",
       "\t<tr><td>0.71</td><td>Ideal    </td><td>E</td><td>SI1 </td><td>61.9</td><td>56</td><td>2756</td><td>5.71</td><td>5.73</td><td>3.54</td></tr>\n",
       "\t<tr><td>0.79</td><td>Good     </td><td>F</td><td>SI1 </td><td>58.1</td><td>59</td><td>2756</td><td>6.06</td><td>6.13</td><td>3.54</td></tr>\n",
       "\t<tr><td>0.79</td><td>Premium  </td><td>E</td><td>SI2 </td><td>61.4</td><td>58</td><td>2756</td><td>6.03</td><td>5.96</td><td>3.68</td></tr>\n",
       "\t<tr><td>0.71</td><td>Ideal    </td><td>G</td><td>VS1 </td><td>61.4</td><td>56</td><td>2756</td><td>5.76</td><td>5.73</td><td>3.53</td></tr>\n",
       "\t<tr><td>0.71</td><td>Premium  </td><td>E</td><td>SI1 </td><td>60.5</td><td>55</td><td>2756</td><td>5.79</td><td>5.74</td><td>3.49</td></tr>\n",
       "\t<tr><td>0.71</td><td>Premium  </td><td>F</td><td>SI1 </td><td>59.8</td><td>62</td><td>2756</td><td>5.74</td><td>5.73</td><td>3.43</td></tr>\n",
       "\t<tr><td>0.70</td><td>Very Good</td><td>E</td><td>VS2 </td><td>60.5</td><td>59</td><td>2757</td><td>5.71</td><td>5.76</td><td>3.47</td></tr>\n",
       "\t<tr><td>0.70</td><td>Very Good</td><td>E</td><td>VS2 </td><td>61.2</td><td>59</td><td>2757</td><td>5.69</td><td>5.72</td><td>3.49</td></tr>\n",
       "\t<tr><td>0.72</td><td>Premium  </td><td>D</td><td>SI1 </td><td>62.7</td><td>59</td><td>2757</td><td>5.69</td><td>5.73</td><td>3.58</td></tr>\n",
       "\t<tr><td>0.72</td><td>Ideal    </td><td>D</td><td>SI1 </td><td>60.8</td><td>57</td><td>2757</td><td>5.75</td><td>5.76</td><td>3.50</td></tr>\n",
       "\t<tr><td>0.72</td><td>Good     </td><td>D</td><td>SI1 </td><td>63.1</td><td>55</td><td>2757</td><td>5.69</td><td>5.75</td><td>3.61</td></tr>\n",
       "\t<tr><td>0.70</td><td>Very Good</td><td>D</td><td>SI1 </td><td>62.8</td><td>60</td><td>2757</td><td>5.66</td><td>5.68</td><td>3.56</td></tr>\n",
       "\t<tr><td>0.86</td><td>Premium  </td><td>H</td><td>SI2 </td><td>61.0</td><td>58</td><td>2757</td><td>6.15</td><td>6.12</td><td>3.74</td></tr>\n",
       "\t<tr><td>0.75</td><td>Ideal    </td><td>D</td><td>SI2 </td><td>62.2</td><td>55</td><td>2757</td><td>5.83</td><td>5.87</td><td>3.64</td></tr>\n",
       "</tbody>\n",
       "</table>\n"
      ],
      "text/latex": [
       "A tibble: 53940 × 10\n",
       "\\begin{tabular}{llllllllll}\n",
       " carat & cut & color & clarity & depth & table & price & x & y & z\\\\\n",
       " <dbl> & <ord> & <ord> & <ord> & <dbl> & <dbl> & <int> & <dbl> & <dbl> & <dbl>\\\\\n",
       "\\hline\n",
       "\t 0.23 & Ideal     & E & SI2  & 61.5 & 55 & 326 & 3.95 & 3.98 & 2.43\\\\\n",
       "\t 0.21 & Premium   & E & SI1  & 59.8 & 61 & 326 & 3.89 & 3.84 & 2.31\\\\\n",
       "\t 0.23 & Good      & E & VS1  & 56.9 & 65 & 327 & 4.05 & 4.07 & 2.31\\\\\n",
       "\t 0.29 & Premium   & I & VS2  & 62.4 & 58 & 334 & 4.20 & 4.23 & 2.63\\\\\n",
       "\t 0.31 & Good      & J & SI2  & 63.3 & 58 & 335 & 4.34 & 4.35 & 2.75\\\\\n",
       "\t 0.24 & Very Good & J & VVS2 & 62.8 & 57 & 336 & 3.94 & 3.96 & 2.48\\\\\n",
       "\t 0.24 & Very Good & I & VVS1 & 62.3 & 57 & 336 & 3.95 & 3.98 & 2.47\\\\\n",
       "\t 0.26 & Very Good & H & SI1  & 61.9 & 55 & 337 & 4.07 & 4.11 & 2.53\\\\\n",
       "\t 0.22 & Fair      & E & VS2  & 65.1 & 61 & 337 & 3.87 & 3.78 & 2.49\\\\\n",
       "\t 0.23 & Very Good & H & VS1  & 59.4 & 61 & 338 & 4.00 & 4.05 & 2.39\\\\\n",
       "\t 0.30 & Good      & J & SI1  & 64.0 & 55 & 339 & 4.25 & 4.28 & 2.73\\\\\n",
       "\t 0.23 & Ideal     & J & VS1  & 62.8 & 56 & 340 & 3.93 & 3.90 & 2.46\\\\\n",
       "\t 0.22 & Premium   & F & SI1  & 60.4 & 61 & 342 & 3.88 & 3.84 & 2.33\\\\\n",
       "\t 0.31 & Ideal     & J & SI2  & 62.2 & 54 & 344 & 4.35 & 4.37 & 2.71\\\\\n",
       "\t 0.20 & Premium   & E & SI2  & 60.2 & 62 & 345 & 3.79 & 3.75 & 2.27\\\\\n",
       "\t 0.32 & Premium   & E & I1   & 60.9 & 58 & 345 & 4.38 & 4.42 & 2.68\\\\\n",
       "\t 0.30 & Ideal     & I & SI2  & 62.0 & 54 & 348 & 4.31 & 4.34 & 2.68\\\\\n",
       "\t 0.30 & Good      & J & SI1  & 63.4 & 54 & 351 & 4.23 & 4.29 & 2.70\\\\\n",
       "\t 0.30 & Good      & J & SI1  & 63.8 & 56 & 351 & 4.23 & 4.26 & 2.71\\\\\n",
       "\t 0.30 & Very Good & J & SI1  & 62.7 & 59 & 351 & 4.21 & 4.27 & 2.66\\\\\n",
       "\t 0.30 & Good      & I & SI2  & 63.3 & 56 & 351 & 4.26 & 4.30 & 2.71\\\\\n",
       "\t 0.23 & Very Good & E & VS2  & 63.8 & 55 & 352 & 3.85 & 3.92 & 2.48\\\\\n",
       "\t 0.23 & Very Good & H & VS1  & 61.0 & 57 & 353 & 3.94 & 3.96 & 2.41\\\\\n",
       "\t 0.31 & Very Good & J & SI1  & 59.4 & 62 & 353 & 4.39 & 4.43 & 2.62\\\\\n",
       "\t 0.31 & Very Good & J & SI1  & 58.1 & 62 & 353 & 4.44 & 4.47 & 2.59\\\\\n",
       "\t 0.23 & Very Good & G & VVS2 & 60.4 & 58 & 354 & 3.97 & 4.01 & 2.41\\\\\n",
       "\t 0.24 & Premium   & I & VS1  & 62.5 & 57 & 355 & 3.97 & 3.94 & 2.47\\\\\n",
       "\t 0.30 & Very Good & J & VS2  & 62.2 & 57 & 357 & 4.28 & 4.30 & 2.67\\\\\n",
       "\t 0.23 & Very Good & D & VS2  & 60.5 & 61 & 357 & 3.96 & 3.97 & 2.40\\\\\n",
       "\t 0.23 & Very Good & F & VS1  & 60.9 & 57 & 357 & 3.96 & 3.99 & 2.42\\\\\n",
       "\t ⋮ & ⋮ & ⋮ & ⋮ & ⋮ & ⋮ & ⋮ & ⋮ & ⋮ & ⋮\\\\\n",
       "\t 0.70 & Premium   & E & SI1  & 60.5 & 58 & 2753 & 5.74 & 5.77 & 3.48\\\\\n",
       "\t 0.57 & Premium   & E & IF   & 59.8 & 60 & 2753 & 5.43 & 5.38 & 3.23\\\\\n",
       "\t 0.61 & Premium   & F & VVS1 & 61.8 & 59 & 2753 & 5.48 & 5.40 & 3.36\\\\\n",
       "\t 0.80 & Good      & G & VS2  & 64.2 & 58 & 2753 & 5.84 & 5.81 & 3.74\\\\\n",
       "\t 0.84 & Good      & I & VS1  & 63.7 & 59 & 2753 & 5.94 & 5.90 & 3.77\\\\\n",
       "\t 0.77 & Ideal     & E & SI2  & 62.1 & 56 & 2753 & 5.84 & 5.86 & 3.63\\\\\n",
       "\t 0.74 & Good      & D & SI1  & 63.1 & 59 & 2753 & 5.71 & 5.74 & 3.61\\\\\n",
       "\t 0.90 & Very Good & J & SI1  & 63.2 & 60 & 2753 & 6.12 & 6.09 & 3.86\\\\\n",
       "\t 0.76 & Premium   & I & VS1  & 59.3 & 62 & 2753 & 5.93 & 5.85 & 3.49\\\\\n",
       "\t 0.76 & Ideal     & I & VVS1 & 62.2 & 55 & 2753 & 5.89 & 5.87 & 3.66\\\\\n",
       "\t 0.70 & Very Good & E & VS2  & 62.4 & 60 & 2755 & 5.57 & 5.61 & 3.49\\\\\n",
       "\t 0.70 & Very Good & E & VS2  & 62.8 & 60 & 2755 & 5.59 & 5.65 & 3.53\\\\\n",
       "\t 0.70 & Very Good & D & VS1  & 63.1 & 59 & 2755 & 5.67 & 5.58 & 3.55\\\\\n",
       "\t 0.73 & Ideal     & I & VS2  & 61.3 & 56 & 2756 & 5.80 & 5.84 & 3.57\\\\\n",
       "\t 0.73 & Ideal     & I & VS2  & 61.6 & 55 & 2756 & 5.82 & 5.84 & 3.59\\\\\n",
       "\t 0.79 & Ideal     & I & SI1  & 61.6 & 56 & 2756 & 5.95 & 5.97 & 3.67\\\\\n",
       "\t 0.71 & Ideal     & E & SI1  & 61.9 & 56 & 2756 & 5.71 & 5.73 & 3.54\\\\\n",
       "\t 0.79 & Good      & F & SI1  & 58.1 & 59 & 2756 & 6.06 & 6.13 & 3.54\\\\\n",
       "\t 0.79 & Premium   & E & SI2  & 61.4 & 58 & 2756 & 6.03 & 5.96 & 3.68\\\\\n",
       "\t 0.71 & Ideal     & G & VS1  & 61.4 & 56 & 2756 & 5.76 & 5.73 & 3.53\\\\\n",
       "\t 0.71 & Premium   & E & SI1  & 60.5 & 55 & 2756 & 5.79 & 5.74 & 3.49\\\\\n",
       "\t 0.71 & Premium   & F & SI1  & 59.8 & 62 & 2756 & 5.74 & 5.73 & 3.43\\\\\n",
       "\t 0.70 & Very Good & E & VS2  & 60.5 & 59 & 2757 & 5.71 & 5.76 & 3.47\\\\\n",
       "\t 0.70 & Very Good & E & VS2  & 61.2 & 59 & 2757 & 5.69 & 5.72 & 3.49\\\\\n",
       "\t 0.72 & Premium   & D & SI1  & 62.7 & 59 & 2757 & 5.69 & 5.73 & 3.58\\\\\n",
       "\t 0.72 & Ideal     & D & SI1  & 60.8 & 57 & 2757 & 5.75 & 5.76 & 3.50\\\\\n",
       "\t 0.72 & Good      & D & SI1  & 63.1 & 55 & 2757 & 5.69 & 5.75 & 3.61\\\\\n",
       "\t 0.70 & Very Good & D & SI1  & 62.8 & 60 & 2757 & 5.66 & 5.68 & 3.56\\\\\n",
       "\t 0.86 & Premium   & H & SI2  & 61.0 & 58 & 2757 & 6.15 & 6.12 & 3.74\\\\\n",
       "\t 0.75 & Ideal     & D & SI2  & 62.2 & 55 & 2757 & 5.83 & 5.87 & 3.64\\\\\n",
       "\\end{tabular}\n"
      ],
      "text/markdown": [
       "\n",
       "A tibble: 53940 × 10\n",
       "\n",
       "| carat &lt;dbl&gt; | cut &lt;ord&gt; | color &lt;ord&gt; | clarity &lt;ord&gt; | depth &lt;dbl&gt; | table &lt;dbl&gt; | price &lt;int&gt; | x &lt;dbl&gt; | y &lt;dbl&gt; | z &lt;dbl&gt; |\n",
       "|---|---|---|---|---|---|---|---|---|---|\n",
       "| 0.23 | Ideal     | E | SI2  | 61.5 | 55 | 326 | 3.95 | 3.98 | 2.43 |\n",
       "| 0.21 | Premium   | E | SI1  | 59.8 | 61 | 326 | 3.89 | 3.84 | 2.31 |\n",
       "| 0.23 | Good      | E | VS1  | 56.9 | 65 | 327 | 4.05 | 4.07 | 2.31 |\n",
       "| 0.29 | Premium   | I | VS2  | 62.4 | 58 | 334 | 4.20 | 4.23 | 2.63 |\n",
       "| 0.31 | Good      | J | SI2  | 63.3 | 58 | 335 | 4.34 | 4.35 | 2.75 |\n",
       "| 0.24 | Very Good | J | VVS2 | 62.8 | 57 | 336 | 3.94 | 3.96 | 2.48 |\n",
       "| 0.24 | Very Good | I | VVS1 | 62.3 | 57 | 336 | 3.95 | 3.98 | 2.47 |\n",
       "| 0.26 | Very Good | H | SI1  | 61.9 | 55 | 337 | 4.07 | 4.11 | 2.53 |\n",
       "| 0.22 | Fair      | E | VS2  | 65.1 | 61 | 337 | 3.87 | 3.78 | 2.49 |\n",
       "| 0.23 | Very Good | H | VS1  | 59.4 | 61 | 338 | 4.00 | 4.05 | 2.39 |\n",
       "| 0.30 | Good      | J | SI1  | 64.0 | 55 | 339 | 4.25 | 4.28 | 2.73 |\n",
       "| 0.23 | Ideal     | J | VS1  | 62.8 | 56 | 340 | 3.93 | 3.90 | 2.46 |\n",
       "| 0.22 | Premium   | F | SI1  | 60.4 | 61 | 342 | 3.88 | 3.84 | 2.33 |\n",
       "| 0.31 | Ideal     | J | SI2  | 62.2 | 54 | 344 | 4.35 | 4.37 | 2.71 |\n",
       "| 0.20 | Premium   | E | SI2  | 60.2 | 62 | 345 | 3.79 | 3.75 | 2.27 |\n",
       "| 0.32 | Premium   | E | I1   | 60.9 | 58 | 345 | 4.38 | 4.42 | 2.68 |\n",
       "| 0.30 | Ideal     | I | SI2  | 62.0 | 54 | 348 | 4.31 | 4.34 | 2.68 |\n",
       "| 0.30 | Good      | J | SI1  | 63.4 | 54 | 351 | 4.23 | 4.29 | 2.70 |\n",
       "| 0.30 | Good      | J | SI1  | 63.8 | 56 | 351 | 4.23 | 4.26 | 2.71 |\n",
       "| 0.30 | Very Good | J | SI1  | 62.7 | 59 | 351 | 4.21 | 4.27 | 2.66 |\n",
       "| 0.30 | Good      | I | SI2  | 63.3 | 56 | 351 | 4.26 | 4.30 | 2.71 |\n",
       "| 0.23 | Very Good | E | VS2  | 63.8 | 55 | 352 | 3.85 | 3.92 | 2.48 |\n",
       "| 0.23 | Very Good | H | VS1  | 61.0 | 57 | 353 | 3.94 | 3.96 | 2.41 |\n",
       "| 0.31 | Very Good | J | SI1  | 59.4 | 62 | 353 | 4.39 | 4.43 | 2.62 |\n",
       "| 0.31 | Very Good | J | SI1  | 58.1 | 62 | 353 | 4.44 | 4.47 | 2.59 |\n",
       "| 0.23 | Very Good | G | VVS2 | 60.4 | 58 | 354 | 3.97 | 4.01 | 2.41 |\n",
       "| 0.24 | Premium   | I | VS1  | 62.5 | 57 | 355 | 3.97 | 3.94 | 2.47 |\n",
       "| 0.30 | Very Good | J | VS2  | 62.2 | 57 | 357 | 4.28 | 4.30 | 2.67 |\n",
       "| 0.23 | Very Good | D | VS2  | 60.5 | 61 | 357 | 3.96 | 3.97 | 2.40 |\n",
       "| 0.23 | Very Good | F | VS1  | 60.9 | 57 | 357 | 3.96 | 3.99 | 2.42 |\n",
       "| ⋮ | ⋮ | ⋮ | ⋮ | ⋮ | ⋮ | ⋮ | ⋮ | ⋮ | ⋮ |\n",
       "| 0.70 | Premium   | E | SI1  | 60.5 | 58 | 2753 | 5.74 | 5.77 | 3.48 |\n",
       "| 0.57 | Premium   | E | IF   | 59.8 | 60 | 2753 | 5.43 | 5.38 | 3.23 |\n",
       "| 0.61 | Premium   | F | VVS1 | 61.8 | 59 | 2753 | 5.48 | 5.40 | 3.36 |\n",
       "| 0.80 | Good      | G | VS2  | 64.2 | 58 | 2753 | 5.84 | 5.81 | 3.74 |\n",
       "| 0.84 | Good      | I | VS1  | 63.7 | 59 | 2753 | 5.94 | 5.90 | 3.77 |\n",
       "| 0.77 | Ideal     | E | SI2  | 62.1 | 56 | 2753 | 5.84 | 5.86 | 3.63 |\n",
       "| 0.74 | Good      | D | SI1  | 63.1 | 59 | 2753 | 5.71 | 5.74 | 3.61 |\n",
       "| 0.90 | Very Good | J | SI1  | 63.2 | 60 | 2753 | 6.12 | 6.09 | 3.86 |\n",
       "| 0.76 | Premium   | I | VS1  | 59.3 | 62 | 2753 | 5.93 | 5.85 | 3.49 |\n",
       "| 0.76 | Ideal     | I | VVS1 | 62.2 | 55 | 2753 | 5.89 | 5.87 | 3.66 |\n",
       "| 0.70 | Very Good | E | VS2  | 62.4 | 60 | 2755 | 5.57 | 5.61 | 3.49 |\n",
       "| 0.70 | Very Good | E | VS2  | 62.8 | 60 | 2755 | 5.59 | 5.65 | 3.53 |\n",
       "| 0.70 | Very Good | D | VS1  | 63.1 | 59 | 2755 | 5.67 | 5.58 | 3.55 |\n",
       "| 0.73 | Ideal     | I | VS2  | 61.3 | 56 | 2756 | 5.80 | 5.84 | 3.57 |\n",
       "| 0.73 | Ideal     | I | VS2  | 61.6 | 55 | 2756 | 5.82 | 5.84 | 3.59 |\n",
       "| 0.79 | Ideal     | I | SI1  | 61.6 | 56 | 2756 | 5.95 | 5.97 | 3.67 |\n",
       "| 0.71 | Ideal     | E | SI1  | 61.9 | 56 | 2756 | 5.71 | 5.73 | 3.54 |\n",
       "| 0.79 | Good      | F | SI1  | 58.1 | 59 | 2756 | 6.06 | 6.13 | 3.54 |\n",
       "| 0.79 | Premium   | E | SI2  | 61.4 | 58 | 2756 | 6.03 | 5.96 | 3.68 |\n",
       "| 0.71 | Ideal     | G | VS1  | 61.4 | 56 | 2756 | 5.76 | 5.73 | 3.53 |\n",
       "| 0.71 | Premium   | E | SI1  | 60.5 | 55 | 2756 | 5.79 | 5.74 | 3.49 |\n",
       "| 0.71 | Premium   | F | SI1  | 59.8 | 62 | 2756 | 5.74 | 5.73 | 3.43 |\n",
       "| 0.70 | Very Good | E | VS2  | 60.5 | 59 | 2757 | 5.71 | 5.76 | 3.47 |\n",
       "| 0.70 | Very Good | E | VS2  | 61.2 | 59 | 2757 | 5.69 | 5.72 | 3.49 |\n",
       "| 0.72 | Premium   | D | SI1  | 62.7 | 59 | 2757 | 5.69 | 5.73 | 3.58 |\n",
       "| 0.72 | Ideal     | D | SI1  | 60.8 | 57 | 2757 | 5.75 | 5.76 | 3.50 |\n",
       "| 0.72 | Good      | D | SI1  | 63.1 | 55 | 2757 | 5.69 | 5.75 | 3.61 |\n",
       "| 0.70 | Very Good | D | SI1  | 62.8 | 60 | 2757 | 5.66 | 5.68 | 3.56 |\n",
       "| 0.86 | Premium   | H | SI2  | 61.0 | 58 | 2757 | 6.15 | 6.12 | 3.74 |\n",
       "| 0.75 | Ideal     | D | SI2  | 62.2 | 55 | 2757 | 5.83 | 5.87 | 3.64 |\n",
       "\n"
      ],
      "text/plain": [
       "      carat cut       color clarity depth table price x    y    z   \n",
       "1     0.23  Ideal     E     SI2     61.5  55    326   3.95 3.98 2.43\n",
       "2     0.21  Premium   E     SI1     59.8  61    326   3.89 3.84 2.31\n",
       "3     0.23  Good      E     VS1     56.9  65    327   4.05 4.07 2.31\n",
       "4     0.29  Premium   I     VS2     62.4  58    334   4.20 4.23 2.63\n",
       "5     0.31  Good      J     SI2     63.3  58    335   4.34 4.35 2.75\n",
       "6     0.24  Very Good J     VVS2    62.8  57    336   3.94 3.96 2.48\n",
       "7     0.24  Very Good I     VVS1    62.3  57    336   3.95 3.98 2.47\n",
       "8     0.26  Very Good H     SI1     61.9  55    337   4.07 4.11 2.53\n",
       "9     0.22  Fair      E     VS2     65.1  61    337   3.87 3.78 2.49\n",
       "10    0.23  Very Good H     VS1     59.4  61    338   4.00 4.05 2.39\n",
       "11    0.30  Good      J     SI1     64.0  55    339   4.25 4.28 2.73\n",
       "12    0.23  Ideal     J     VS1     62.8  56    340   3.93 3.90 2.46\n",
       "13    0.22  Premium   F     SI1     60.4  61    342   3.88 3.84 2.33\n",
       "14    0.31  Ideal     J     SI2     62.2  54    344   4.35 4.37 2.71\n",
       "15    0.20  Premium   E     SI2     60.2  62    345   3.79 3.75 2.27\n",
       "16    0.32  Premium   E     I1      60.9  58    345   4.38 4.42 2.68\n",
       "17    0.30  Ideal     I     SI2     62.0  54    348   4.31 4.34 2.68\n",
       "18    0.30  Good      J     SI1     63.4  54    351   4.23 4.29 2.70\n",
       "19    0.30  Good      J     SI1     63.8  56    351   4.23 4.26 2.71\n",
       "20    0.30  Very Good J     SI1     62.7  59    351   4.21 4.27 2.66\n",
       "21    0.30  Good      I     SI2     63.3  56    351   4.26 4.30 2.71\n",
       "22    0.23  Very Good E     VS2     63.8  55    352   3.85 3.92 2.48\n",
       "23    0.23  Very Good H     VS1     61.0  57    353   3.94 3.96 2.41\n",
       "24    0.31  Very Good J     SI1     59.4  62    353   4.39 4.43 2.62\n",
       "25    0.31  Very Good J     SI1     58.1  62    353   4.44 4.47 2.59\n",
       "26    0.23  Very Good G     VVS2    60.4  58    354   3.97 4.01 2.41\n",
       "27    0.24  Premium   I     VS1     62.5  57    355   3.97 3.94 2.47\n",
       "28    0.30  Very Good J     VS2     62.2  57    357   4.28 4.30 2.67\n",
       "29    0.23  Very Good D     VS2     60.5  61    357   3.96 3.97 2.40\n",
       "30    0.23  Very Good F     VS1     60.9  57    357   3.96 3.99 2.42\n",
       "⋮     ⋮     ⋮         ⋮     ⋮       ⋮     ⋮     ⋮     ⋮    ⋮    ⋮   \n",
       "53911 0.70  Premium   E     SI1     60.5  58    2753  5.74 5.77 3.48\n",
       "53912 0.57  Premium   E     IF      59.8  60    2753  5.43 5.38 3.23\n",
       "53913 0.61  Premium   F     VVS1    61.8  59    2753  5.48 5.40 3.36\n",
       "53914 0.80  Good      G     VS2     64.2  58    2753  5.84 5.81 3.74\n",
       "53915 0.84  Good      I     VS1     63.7  59    2753  5.94 5.90 3.77\n",
       "53916 0.77  Ideal     E     SI2     62.1  56    2753  5.84 5.86 3.63\n",
       "53917 0.74  Good      D     SI1     63.1  59    2753  5.71 5.74 3.61\n",
       "53918 0.90  Very Good J     SI1     63.2  60    2753  6.12 6.09 3.86\n",
       "53919 0.76  Premium   I     VS1     59.3  62    2753  5.93 5.85 3.49\n",
       "53920 0.76  Ideal     I     VVS1    62.2  55    2753  5.89 5.87 3.66\n",
       "53921 0.70  Very Good E     VS2     62.4  60    2755  5.57 5.61 3.49\n",
       "53922 0.70  Very Good E     VS2     62.8  60    2755  5.59 5.65 3.53\n",
       "53923 0.70  Very Good D     VS1     63.1  59    2755  5.67 5.58 3.55\n",
       "53924 0.73  Ideal     I     VS2     61.3  56    2756  5.80 5.84 3.57\n",
       "53925 0.73  Ideal     I     VS2     61.6  55    2756  5.82 5.84 3.59\n",
       "53926 0.79  Ideal     I     SI1     61.6  56    2756  5.95 5.97 3.67\n",
       "53927 0.71  Ideal     E     SI1     61.9  56    2756  5.71 5.73 3.54\n",
       "53928 0.79  Good      F     SI1     58.1  59    2756  6.06 6.13 3.54\n",
       "53929 0.79  Premium   E     SI2     61.4  58    2756  6.03 5.96 3.68\n",
       "53930 0.71  Ideal     G     VS1     61.4  56    2756  5.76 5.73 3.53\n",
       "53931 0.71  Premium   E     SI1     60.5  55    2756  5.79 5.74 3.49\n",
       "53932 0.71  Premium   F     SI1     59.8  62    2756  5.74 5.73 3.43\n",
       "53933 0.70  Very Good E     VS2     60.5  59    2757  5.71 5.76 3.47\n",
       "53934 0.70  Very Good E     VS2     61.2  59    2757  5.69 5.72 3.49\n",
       "53935 0.72  Premium   D     SI1     62.7  59    2757  5.69 5.73 3.58\n",
       "53936 0.72  Ideal     D     SI1     60.8  57    2757  5.75 5.76 3.50\n",
       "53937 0.72  Good      D     SI1     63.1  55    2757  5.69 5.75 3.61\n",
       "53938 0.70  Very Good D     SI1     62.8  60    2757  5.66 5.68 3.56\n",
       "53939 0.86  Premium   H     SI2     61.0  58    2757  6.15 6.12 3.74\n",
       "53940 0.75  Ideal     D     SI2     62.2  55    2757  5.83 5.87 3.64"
      ]
     },
     "metadata": {},
     "output_type": "display_data"
    }
   ],
   "source": [
    "# diamonds 데이터셋을 이용해서 다음 문제를 풀어보시오\n",
    "\n",
    "library(ggplot2)\n",
    "\n",
    "diamonds"
   ]
  },
  {
   "cell_type": "code",
   "execution_count": 92,
   "id": "89f1ada7-498d-4fec-8e07-f0b9056b8712",
   "metadata": {
    "tags": []
   },
   "outputs": [
    {
     "data": {
      "text/html": [
       "<table class=\"dataframe\">\n",
       "<caption>A tibble: 6 × 2</caption>\n",
       "<thead>\n",
       "\t<tr><th scope=col>carat</th><th scope=col>price</th></tr>\n",
       "\t<tr><th scope=col>&lt;dbl&gt;</th><th scope=col>&lt;int&gt;</th></tr>\n",
       "</thead>\n",
       "<tbody>\n",
       "\t<tr><td>0.23</td><td>326</td></tr>\n",
       "\t<tr><td>0.21</td><td>326</td></tr>\n",
       "\t<tr><td>0.23</td><td>327</td></tr>\n",
       "\t<tr><td>0.29</td><td>334</td></tr>\n",
       "\t<tr><td>0.31</td><td>335</td></tr>\n",
       "\t<tr><td>0.24</td><td>336</td></tr>\n",
       "</tbody>\n",
       "</table>\n"
      ],
      "text/latex": [
       "A tibble: 6 × 2\n",
       "\\begin{tabular}{ll}\n",
       " carat & price\\\\\n",
       " <dbl> & <int>\\\\\n",
       "\\hline\n",
       "\t 0.23 & 326\\\\\n",
       "\t 0.21 & 326\\\\\n",
       "\t 0.23 & 327\\\\\n",
       "\t 0.29 & 334\\\\\n",
       "\t 0.31 & 335\\\\\n",
       "\t 0.24 & 336\\\\\n",
       "\\end{tabular}\n"
      ],
      "text/markdown": [
       "\n",
       "A tibble: 6 × 2\n",
       "\n",
       "| carat &lt;dbl&gt; | price &lt;int&gt; |\n",
       "|---|---|\n",
       "| 0.23 | 326 |\n",
       "| 0.21 | 326 |\n",
       "| 0.23 | 327 |\n",
       "| 0.29 | 334 |\n",
       "| 0.31 | 335 |\n",
       "| 0.24 | 336 |\n",
       "\n"
      ],
      "text/plain": [
       "  carat price\n",
       "1 0.23  326  \n",
       "2 0.21  326  \n",
       "3 0.23  327  \n",
       "4 0.29  334  \n",
       "5 0.31  335  \n",
       "6 0.24  336  "
      ]
     },
     "metadata": {},
     "output_type": "display_data"
    }
   ],
   "source": [
    "# carat과 price 변수 출력\n",
    "\n",
    "head(diamonds[, c('carat','price')])"
   ]
  },
  {
   "cell_type": "code",
   "execution_count": 93,
   "id": "1c730652-0106-4864-8a47-469b085a1229",
   "metadata": {
    "tags": []
   },
   "outputs": [
    {
     "data": {
      "text/html": [
       "<table class=\"dataframe\">\n",
       "<caption>A tibble: 6 × 2</caption>\n",
       "<thead>\n",
       "\t<tr><th scope=col>carat</th><th scope=col>price</th></tr>\n",
       "\t<tr><th scope=col>&lt;dbl&gt;</th><th scope=col>&lt;int&gt;</th></tr>\n",
       "</thead>\n",
       "<tbody>\n",
       "\t<tr><td>0.23</td><td>326</td></tr>\n",
       "\t<tr><td>0.21</td><td>326</td></tr>\n",
       "\t<tr><td>0.23</td><td>327</td></tr>\n",
       "\t<tr><td>0.29</td><td>334</td></tr>\n",
       "\t<tr><td>0.31</td><td>335</td></tr>\n",
       "\t<tr><td>0.24</td><td>336</td></tr>\n",
       "</tbody>\n",
       "</table>\n"
      ],
      "text/latex": [
       "A tibble: 6 × 2\n",
       "\\begin{tabular}{ll}\n",
       " carat & price\\\\\n",
       " <dbl> & <int>\\\\\n",
       "\\hline\n",
       "\t 0.23 & 326\\\\\n",
       "\t 0.21 & 326\\\\\n",
       "\t 0.23 & 327\\\\\n",
       "\t 0.29 & 334\\\\\n",
       "\t 0.31 & 335\\\\\n",
       "\t 0.24 & 336\\\\\n",
       "\\end{tabular}\n"
      ],
      "text/markdown": [
       "\n",
       "A tibble: 6 × 2\n",
       "\n",
       "| carat &lt;dbl&gt; | price &lt;int&gt; |\n",
       "|---|---|\n",
       "| 0.23 | 326 |\n",
       "| 0.21 | 326 |\n",
       "| 0.23 | 327 |\n",
       "| 0.29 | 334 |\n",
       "| 0.31 | 335 |\n",
       "| 0.24 | 336 |\n",
       "\n"
      ],
      "text/plain": [
       "  carat price\n",
       "1 0.23  326  \n",
       "2 0.21  326  \n",
       "3 0.23  327  \n",
       "4 0.29  334  \n",
       "5 0.31  335  \n",
       "6 0.24  336  "
      ]
     },
     "metadata": {},
     "output_type": "display_data"
    }
   ],
   "source": [
    "head(diamonds[, c(1,7)])"
   ]
  },
  {
   "cell_type": "code",
   "execution_count": 49,
   "id": "7b57e42a-5a18-4f14-b814-dc76d34a3b1e",
   "metadata": {
    "tags": []
   },
   "outputs": [
    {
     "data": {
      "text/html": [
       "<table class=\"dataframe\">\n",
       "<caption>A tibble: 6 × 2</caption>\n",
       "<thead>\n",
       "\t<tr><th scope=col>carat</th><th scope=col>price</th></tr>\n",
       "\t<tr><th scope=col>&lt;dbl&gt;</th><th scope=col>&lt;int&gt;</th></tr>\n",
       "</thead>\n",
       "<tbody>\n",
       "\t<tr><td>0.23</td><td>326</td></tr>\n",
       "\t<tr><td>0.21</td><td>326</td></tr>\n",
       "\t<tr><td>0.23</td><td>327</td></tr>\n",
       "\t<tr><td>0.29</td><td>334</td></tr>\n",
       "\t<tr><td>0.31</td><td>335</td></tr>\n",
       "\t<tr><td>0.24</td><td>336</td></tr>\n",
       "</tbody>\n",
       "</table>\n"
      ],
      "text/latex": [
       "A tibble: 6 × 2\n",
       "\\begin{tabular}{ll}\n",
       " carat & price\\\\\n",
       " <dbl> & <int>\\\\\n",
       "\\hline\n",
       "\t 0.23 & 326\\\\\n",
       "\t 0.21 & 326\\\\\n",
       "\t 0.23 & 327\\\\\n",
       "\t 0.29 & 334\\\\\n",
       "\t 0.31 & 335\\\\\n",
       "\t 0.24 & 336\\\\\n",
       "\\end{tabular}\n"
      ],
      "text/markdown": [
       "\n",
       "A tibble: 6 × 2\n",
       "\n",
       "| carat &lt;dbl&gt; | price &lt;int&gt; |\n",
       "|---|---|\n",
       "| 0.23 | 326 |\n",
       "| 0.21 | 326 |\n",
       "| 0.23 | 327 |\n",
       "| 0.29 | 334 |\n",
       "| 0.31 | 335 |\n",
       "| 0.24 | 336 |\n",
       "\n"
      ],
      "text/plain": [
       "  carat price\n",
       "1 0.23  326  \n",
       "2 0.21  326  \n",
       "3 0.23  327  \n",
       "4 0.29  334  \n",
       "5 0.31  335  \n",
       "6 0.24  336  "
      ]
     },
     "metadata": {},
     "output_type": "display_data"
    }
   ],
   "source": [
    "diamonds %>% select(carat, price) %>% head()"
   ]
  },
  {
   "cell_type": "code",
   "execution_count": 53,
   "id": "9285f62c-a015-4417-8c17-6d60e420e01c",
   "metadata": {
    "tags": []
   },
   "outputs": [
    {
     "data": {
      "text/html": [
       "<table class=\"dataframe\">\n",
       "<caption>A tibble: 6 × 2</caption>\n",
       "<thead>\n",
       "\t<tr><th scope=col>carat</th><th scope=col>price</th></tr>\n",
       "\t<tr><th scope=col>&lt;dbl&gt;</th><th scope=col>&lt;int&gt;</th></tr>\n",
       "</thead>\n",
       "<tbody>\n",
       "\t<tr><td>0.23</td><td>326</td></tr>\n",
       "\t<tr><td>0.21</td><td>326</td></tr>\n",
       "\t<tr><td>0.23</td><td>327</td></tr>\n",
       "\t<tr><td>0.29</td><td>334</td></tr>\n",
       "\t<tr><td>0.31</td><td>335</td></tr>\n",
       "\t<tr><td>0.24</td><td>336</td></tr>\n",
       "</tbody>\n",
       "</table>\n"
      ],
      "text/latex": [
       "A tibble: 6 × 2\n",
       "\\begin{tabular}{ll}\n",
       " carat & price\\\\\n",
       " <dbl> & <int>\\\\\n",
       "\\hline\n",
       "\t 0.23 & 326\\\\\n",
       "\t 0.21 & 326\\\\\n",
       "\t 0.23 & 327\\\\\n",
       "\t 0.29 & 334\\\\\n",
       "\t 0.31 & 335\\\\\n",
       "\t 0.24 & 336\\\\\n",
       "\\end{tabular}\n"
      ],
      "text/markdown": [
       "\n",
       "A tibble: 6 × 2\n",
       "\n",
       "| carat &lt;dbl&gt; | price &lt;int&gt; |\n",
       "|---|---|\n",
       "| 0.23 | 326 |\n",
       "| 0.21 | 326 |\n",
       "| 0.23 | 327 |\n",
       "| 0.29 | 334 |\n",
       "| 0.31 | 335 |\n",
       "| 0.24 | 336 |\n",
       "\n"
      ],
      "text/plain": [
       "  carat price\n",
       "1 0.23  326  \n",
       "2 0.21  326  \n",
       "3 0.23  327  \n",
       "4 0.29  334  \n",
       "5 0.31  335  \n",
       "6 0.24  336  "
      ]
     },
     "metadata": {},
     "output_type": "display_data"
    }
   ],
   "source": [
    "diamonds %>% select(1, 7) %>% head() "
   ]
  },
  {
   "cell_type": "code",
   "execution_count": 94,
   "id": "97c43508-2bb2-45d1-8b11-7bde7b3ebac6",
   "metadata": {
    "tags": []
   },
   "outputs": [
    {
     "data": {
      "text/html": [
       "<table class=\"dataframe\">\n",
       "<caption>A tibble: 6 × 2</caption>\n",
       "<thead>\n",
       "\t<tr><th scope=col>carat</th><th scope=col>price</th></tr>\n",
       "\t<tr><th scope=col>&lt;dbl&gt;</th><th scope=col>&lt;int&gt;</th></tr>\n",
       "</thead>\n",
       "<tbody>\n",
       "\t<tr><td>0.23</td><td>326</td></tr>\n",
       "\t<tr><td>0.21</td><td>326</td></tr>\n",
       "\t<tr><td>0.23</td><td>327</td></tr>\n",
       "\t<tr><td>0.29</td><td>334</td></tr>\n",
       "\t<tr><td>0.31</td><td>335</td></tr>\n",
       "\t<tr><td>0.24</td><td>336</td></tr>\n",
       "</tbody>\n",
       "</table>\n"
      ],
      "text/latex": [
       "A tibble: 6 × 2\n",
       "\\begin{tabular}{ll}\n",
       " carat & price\\\\\n",
       " <dbl> & <int>\\\\\n",
       "\\hline\n",
       "\t 0.23 & 326\\\\\n",
       "\t 0.21 & 326\\\\\n",
       "\t 0.23 & 327\\\\\n",
       "\t 0.29 & 334\\\\\n",
       "\t 0.31 & 335\\\\\n",
       "\t 0.24 & 336\\\\\n",
       "\\end{tabular}\n"
      ],
      "text/markdown": [
       "\n",
       "A tibble: 6 × 2\n",
       "\n",
       "| carat &lt;dbl&gt; | price &lt;int&gt; |\n",
       "|---|---|\n",
       "| 0.23 | 326 |\n",
       "| 0.21 | 326 |\n",
       "| 0.23 | 327 |\n",
       "| 0.29 | 334 |\n",
       "| 0.31 | 335 |\n",
       "| 0.24 | 336 |\n",
       "\n"
      ],
      "text/plain": [
       "  carat price\n",
       "1 0.23  326  \n",
       "2 0.21  326  \n",
       "3 0.23  327  \n",
       "4 0.29  334  \n",
       "5 0.31  335  \n",
       "6 0.24  336  "
      ]
     },
     "metadata": {},
     "output_type": "display_data"
    }
   ],
   "source": [
    "head(select(diamonds, 1, 7) )"
   ]
  },
  {
   "cell_type": "code",
   "execution_count": 95,
   "id": "33e78602-efdb-4e5e-b8a4-5249361ec881",
   "metadata": {},
   "outputs": [
    {
     "data": {
      "text/html": [
       "<table class=\"dataframe\">\n",
       "<caption>A tibble: 6 × 8</caption>\n",
       "<thead>\n",
       "\t<tr><th scope=col>cut</th><th scope=col>color</th><th scope=col>clarity</th><th scope=col>depth</th><th scope=col>table</th><th scope=col>x</th><th scope=col>y</th><th scope=col>z</th></tr>\n",
       "\t<tr><th scope=col>&lt;ord&gt;</th><th scope=col>&lt;ord&gt;</th><th scope=col>&lt;ord&gt;</th><th scope=col>&lt;dbl&gt;</th><th scope=col>&lt;dbl&gt;</th><th scope=col>&lt;dbl&gt;</th><th scope=col>&lt;dbl&gt;</th><th scope=col>&lt;dbl&gt;</th></tr>\n",
       "</thead>\n",
       "<tbody>\n",
       "\t<tr><td>Ideal    </td><td>E</td><td>SI2 </td><td>61.5</td><td>55</td><td>3.95</td><td>3.98</td><td>2.43</td></tr>\n",
       "\t<tr><td>Premium  </td><td>E</td><td>SI1 </td><td>59.8</td><td>61</td><td>3.89</td><td>3.84</td><td>2.31</td></tr>\n",
       "\t<tr><td>Good     </td><td>E</td><td>VS1 </td><td>56.9</td><td>65</td><td>4.05</td><td>4.07</td><td>2.31</td></tr>\n",
       "\t<tr><td>Premium  </td><td>I</td><td>VS2 </td><td>62.4</td><td>58</td><td>4.20</td><td>4.23</td><td>2.63</td></tr>\n",
       "\t<tr><td>Good     </td><td>J</td><td>SI2 </td><td>63.3</td><td>58</td><td>4.34</td><td>4.35</td><td>2.75</td></tr>\n",
       "\t<tr><td>Very Good</td><td>J</td><td>VVS2</td><td>62.8</td><td>57</td><td>3.94</td><td>3.96</td><td>2.48</td></tr>\n",
       "</tbody>\n",
       "</table>\n"
      ],
      "text/latex": [
       "A tibble: 6 × 8\n",
       "\\begin{tabular}{llllllll}\n",
       " cut & color & clarity & depth & table & x & y & z\\\\\n",
       " <ord> & <ord> & <ord> & <dbl> & <dbl> & <dbl> & <dbl> & <dbl>\\\\\n",
       "\\hline\n",
       "\t Ideal     & E & SI2  & 61.5 & 55 & 3.95 & 3.98 & 2.43\\\\\n",
       "\t Premium   & E & SI1  & 59.8 & 61 & 3.89 & 3.84 & 2.31\\\\\n",
       "\t Good      & E & VS1  & 56.9 & 65 & 4.05 & 4.07 & 2.31\\\\\n",
       "\t Premium   & I & VS2  & 62.4 & 58 & 4.20 & 4.23 & 2.63\\\\\n",
       "\t Good      & J & SI2  & 63.3 & 58 & 4.34 & 4.35 & 2.75\\\\\n",
       "\t Very Good & J & VVS2 & 62.8 & 57 & 3.94 & 3.96 & 2.48\\\\\n",
       "\\end{tabular}\n"
      ],
      "text/markdown": [
       "\n",
       "A tibble: 6 × 8\n",
       "\n",
       "| cut &lt;ord&gt; | color &lt;ord&gt; | clarity &lt;ord&gt; | depth &lt;dbl&gt; | table &lt;dbl&gt; | x &lt;dbl&gt; | y &lt;dbl&gt; | z &lt;dbl&gt; |\n",
       "|---|---|---|---|---|---|---|---|\n",
       "| Ideal     | E | SI2  | 61.5 | 55 | 3.95 | 3.98 | 2.43 |\n",
       "| Premium   | E | SI1  | 59.8 | 61 | 3.89 | 3.84 | 2.31 |\n",
       "| Good      | E | VS1  | 56.9 | 65 | 4.05 | 4.07 | 2.31 |\n",
       "| Premium   | I | VS2  | 62.4 | 58 | 4.20 | 4.23 | 2.63 |\n",
       "| Good      | J | SI2  | 63.3 | 58 | 4.34 | 4.35 | 2.75 |\n",
       "| Very Good | J | VVS2 | 62.8 | 57 | 3.94 | 3.96 | 2.48 |\n",
       "\n"
      ],
      "text/plain": [
       "  cut       color clarity depth table x    y    z   \n",
       "1 Ideal     E     SI2     61.5  55    3.95 3.98 2.43\n",
       "2 Premium   E     SI1     59.8  61    3.89 3.84 2.31\n",
       "3 Good      E     VS1     56.9  65    4.05 4.07 2.31\n",
       "4 Premium   I     VS2     62.4  58    4.20 4.23 2.63\n",
       "5 Good      J     SI2     63.3  58    4.34 4.35 2.75\n",
       "6 Very Good J     VVS2    62.8  57    3.94 3.96 2.48"
      ]
     },
     "metadata": {},
     "output_type": "display_data"
    }
   ],
   "source": [
    "# 변수들 중 carat, price 제외하고 모두 출력\n",
    "\n",
    "# diamonds[, -c('carat','price')] # 오류발생!\n",
    "head(diamonds[, -c(1,7)])"
   ]
  },
  {
   "cell_type": "code",
   "execution_count": 59,
   "id": "c2609614-e0af-44bc-8e39-d1d8cde86fc3",
   "metadata": {},
   "outputs": [
    {
     "data": {
      "text/html": [
       "<table class=\"dataframe\">\n",
       "<caption>A tibble: 6 × 8</caption>\n",
       "<thead>\n",
       "\t<tr><th scope=col>cut</th><th scope=col>color</th><th scope=col>clarity</th><th scope=col>depth</th><th scope=col>table</th><th scope=col>x</th><th scope=col>y</th><th scope=col>z</th></tr>\n",
       "\t<tr><th scope=col>&lt;ord&gt;</th><th scope=col>&lt;ord&gt;</th><th scope=col>&lt;ord&gt;</th><th scope=col>&lt;dbl&gt;</th><th scope=col>&lt;dbl&gt;</th><th scope=col>&lt;dbl&gt;</th><th scope=col>&lt;dbl&gt;</th><th scope=col>&lt;dbl&gt;</th></tr>\n",
       "</thead>\n",
       "<tbody>\n",
       "\t<tr><td>Ideal    </td><td>E</td><td>SI2 </td><td>61.5</td><td>55</td><td>3.95</td><td>3.98</td><td>2.43</td></tr>\n",
       "\t<tr><td>Premium  </td><td>E</td><td>SI1 </td><td>59.8</td><td>61</td><td>3.89</td><td>3.84</td><td>2.31</td></tr>\n",
       "\t<tr><td>Good     </td><td>E</td><td>VS1 </td><td>56.9</td><td>65</td><td>4.05</td><td>4.07</td><td>2.31</td></tr>\n",
       "\t<tr><td>Premium  </td><td>I</td><td>VS2 </td><td>62.4</td><td>58</td><td>4.20</td><td>4.23</td><td>2.63</td></tr>\n",
       "\t<tr><td>Good     </td><td>J</td><td>SI2 </td><td>63.3</td><td>58</td><td>4.34</td><td>4.35</td><td>2.75</td></tr>\n",
       "\t<tr><td>Very Good</td><td>J</td><td>VVS2</td><td>62.8</td><td>57</td><td>3.94</td><td>3.96</td><td>2.48</td></tr>\n",
       "</tbody>\n",
       "</table>\n"
      ],
      "text/latex": [
       "A tibble: 6 × 8\n",
       "\\begin{tabular}{llllllll}\n",
       " cut & color & clarity & depth & table & x & y & z\\\\\n",
       " <ord> & <ord> & <ord> & <dbl> & <dbl> & <dbl> & <dbl> & <dbl>\\\\\n",
       "\\hline\n",
       "\t Ideal     & E & SI2  & 61.5 & 55 & 3.95 & 3.98 & 2.43\\\\\n",
       "\t Premium   & E & SI1  & 59.8 & 61 & 3.89 & 3.84 & 2.31\\\\\n",
       "\t Good      & E & VS1  & 56.9 & 65 & 4.05 & 4.07 & 2.31\\\\\n",
       "\t Premium   & I & VS2  & 62.4 & 58 & 4.20 & 4.23 & 2.63\\\\\n",
       "\t Good      & J & SI2  & 63.3 & 58 & 4.34 & 4.35 & 2.75\\\\\n",
       "\t Very Good & J & VVS2 & 62.8 & 57 & 3.94 & 3.96 & 2.48\\\\\n",
       "\\end{tabular}\n"
      ],
      "text/markdown": [
       "\n",
       "A tibble: 6 × 8\n",
       "\n",
       "| cut &lt;ord&gt; | color &lt;ord&gt; | clarity &lt;ord&gt; | depth &lt;dbl&gt; | table &lt;dbl&gt; | x &lt;dbl&gt; | y &lt;dbl&gt; | z &lt;dbl&gt; |\n",
       "|---|---|---|---|---|---|---|---|\n",
       "| Ideal     | E | SI2  | 61.5 | 55 | 3.95 | 3.98 | 2.43 |\n",
       "| Premium   | E | SI1  | 59.8 | 61 | 3.89 | 3.84 | 2.31 |\n",
       "| Good      | E | VS1  | 56.9 | 65 | 4.05 | 4.07 | 2.31 |\n",
       "| Premium   | I | VS2  | 62.4 | 58 | 4.20 | 4.23 | 2.63 |\n",
       "| Good      | J | SI2  | 63.3 | 58 | 4.34 | 4.35 | 2.75 |\n",
       "| Very Good | J | VVS2 | 62.8 | 57 | 3.94 | 3.96 | 2.48 |\n",
       "\n"
      ],
      "text/plain": [
       "  cut       color clarity depth table x    y    z   \n",
       "1 Ideal     E     SI2     61.5  55    3.95 3.98 2.43\n",
       "2 Premium   E     SI1     59.8  61    3.89 3.84 2.31\n",
       "3 Good      E     VS1     56.9  65    4.05 4.07 2.31\n",
       "4 Premium   I     VS2     62.4  58    4.20 4.23 2.63\n",
       "5 Good      J     SI2     63.3  58    4.34 4.35 2.75\n",
       "6 Very Good J     VVS2    62.8  57    3.94 3.96 2.48"
      ]
     },
     "metadata": {},
     "output_type": "display_data"
    },
    {
     "data": {
      "text/html": [
       "<table class=\"dataframe\">\n",
       "<caption>A tibble: 6 × 8</caption>\n",
       "<thead>\n",
       "\t<tr><th scope=col>cut</th><th scope=col>color</th><th scope=col>clarity</th><th scope=col>depth</th><th scope=col>table</th><th scope=col>x</th><th scope=col>y</th><th scope=col>z</th></tr>\n",
       "\t<tr><th scope=col>&lt;ord&gt;</th><th scope=col>&lt;ord&gt;</th><th scope=col>&lt;ord&gt;</th><th scope=col>&lt;dbl&gt;</th><th scope=col>&lt;dbl&gt;</th><th scope=col>&lt;dbl&gt;</th><th scope=col>&lt;dbl&gt;</th><th scope=col>&lt;dbl&gt;</th></tr>\n",
       "</thead>\n",
       "<tbody>\n",
       "\t<tr><td>Ideal    </td><td>E</td><td>SI2 </td><td>61.5</td><td>55</td><td>3.95</td><td>3.98</td><td>2.43</td></tr>\n",
       "\t<tr><td>Premium  </td><td>E</td><td>SI1 </td><td>59.8</td><td>61</td><td>3.89</td><td>3.84</td><td>2.31</td></tr>\n",
       "\t<tr><td>Good     </td><td>E</td><td>VS1 </td><td>56.9</td><td>65</td><td>4.05</td><td>4.07</td><td>2.31</td></tr>\n",
       "\t<tr><td>Premium  </td><td>I</td><td>VS2 </td><td>62.4</td><td>58</td><td>4.20</td><td>4.23</td><td>2.63</td></tr>\n",
       "\t<tr><td>Good     </td><td>J</td><td>SI2 </td><td>63.3</td><td>58</td><td>4.34</td><td>4.35</td><td>2.75</td></tr>\n",
       "\t<tr><td>Very Good</td><td>J</td><td>VVS2</td><td>62.8</td><td>57</td><td>3.94</td><td>3.96</td><td>2.48</td></tr>\n",
       "</tbody>\n",
       "</table>\n"
      ],
      "text/latex": [
       "A tibble: 6 × 8\n",
       "\\begin{tabular}{llllllll}\n",
       " cut & color & clarity & depth & table & x & y & z\\\\\n",
       " <ord> & <ord> & <ord> & <dbl> & <dbl> & <dbl> & <dbl> & <dbl>\\\\\n",
       "\\hline\n",
       "\t Ideal     & E & SI2  & 61.5 & 55 & 3.95 & 3.98 & 2.43\\\\\n",
       "\t Premium   & E & SI1  & 59.8 & 61 & 3.89 & 3.84 & 2.31\\\\\n",
       "\t Good      & E & VS1  & 56.9 & 65 & 4.05 & 4.07 & 2.31\\\\\n",
       "\t Premium   & I & VS2  & 62.4 & 58 & 4.20 & 4.23 & 2.63\\\\\n",
       "\t Good      & J & SI2  & 63.3 & 58 & 4.34 & 4.35 & 2.75\\\\\n",
       "\t Very Good & J & VVS2 & 62.8 & 57 & 3.94 & 3.96 & 2.48\\\\\n",
       "\\end{tabular}\n"
      ],
      "text/markdown": [
       "\n",
       "A tibble: 6 × 8\n",
       "\n",
       "| cut &lt;ord&gt; | color &lt;ord&gt; | clarity &lt;ord&gt; | depth &lt;dbl&gt; | table &lt;dbl&gt; | x &lt;dbl&gt; | y &lt;dbl&gt; | z &lt;dbl&gt; |\n",
       "|---|---|---|---|---|---|---|---|\n",
       "| Ideal     | E | SI2  | 61.5 | 55 | 3.95 | 3.98 | 2.43 |\n",
       "| Premium   | E | SI1  | 59.8 | 61 | 3.89 | 3.84 | 2.31 |\n",
       "| Good      | E | VS1  | 56.9 | 65 | 4.05 | 4.07 | 2.31 |\n",
       "| Premium   | I | VS2  | 62.4 | 58 | 4.20 | 4.23 | 2.63 |\n",
       "| Good      | J | SI2  | 63.3 | 58 | 4.34 | 4.35 | 2.75 |\n",
       "| Very Good | J | VVS2 | 62.8 | 57 | 3.94 | 3.96 | 2.48 |\n",
       "\n"
      ],
      "text/plain": [
       "  cut       color clarity depth table x    y    z   \n",
       "1 Ideal     E     SI2     61.5  55    3.95 3.98 2.43\n",
       "2 Premium   E     SI1     59.8  61    3.89 3.84 2.31\n",
       "3 Good      E     VS1     56.9  65    4.05 4.07 2.31\n",
       "4 Premium   I     VS2     62.4  58    4.20 4.23 2.63\n",
       "5 Good      J     SI2     63.3  58    4.34 4.35 2.75\n",
       "6 Very Good J     VVS2    62.8  57    3.94 3.96 2.48"
      ]
     },
     "metadata": {},
     "output_type": "display_data"
    }
   ],
   "source": [
    "diamonds %>% select(-carat, -price) %>% head()\n",
    "diamonds %>% select(-c(carat, price)) %>% head()"
   ]
  },
  {
   "cell_type": "code",
   "execution_count": 60,
   "id": "e9af97af-caa5-443f-a298-0086bbb434ee",
   "metadata": {},
   "outputs": [
    {
     "data": {
      "text/html": [
       "<table class=\"dataframe\">\n",
       "<caption>A tibble: 6 × 8</caption>\n",
       "<thead>\n",
       "\t<tr><th scope=col>cut</th><th scope=col>color</th><th scope=col>clarity</th><th scope=col>depth</th><th scope=col>table</th><th scope=col>x</th><th scope=col>y</th><th scope=col>z</th></tr>\n",
       "\t<tr><th scope=col>&lt;ord&gt;</th><th scope=col>&lt;ord&gt;</th><th scope=col>&lt;ord&gt;</th><th scope=col>&lt;dbl&gt;</th><th scope=col>&lt;dbl&gt;</th><th scope=col>&lt;dbl&gt;</th><th scope=col>&lt;dbl&gt;</th><th scope=col>&lt;dbl&gt;</th></tr>\n",
       "</thead>\n",
       "<tbody>\n",
       "\t<tr><td>Ideal    </td><td>E</td><td>SI2 </td><td>61.5</td><td>55</td><td>3.95</td><td>3.98</td><td>2.43</td></tr>\n",
       "\t<tr><td>Premium  </td><td>E</td><td>SI1 </td><td>59.8</td><td>61</td><td>3.89</td><td>3.84</td><td>2.31</td></tr>\n",
       "\t<tr><td>Good     </td><td>E</td><td>VS1 </td><td>56.9</td><td>65</td><td>4.05</td><td>4.07</td><td>2.31</td></tr>\n",
       "\t<tr><td>Premium  </td><td>I</td><td>VS2 </td><td>62.4</td><td>58</td><td>4.20</td><td>4.23</td><td>2.63</td></tr>\n",
       "\t<tr><td>Good     </td><td>J</td><td>SI2 </td><td>63.3</td><td>58</td><td>4.34</td><td>4.35</td><td>2.75</td></tr>\n",
       "\t<tr><td>Very Good</td><td>J</td><td>VVS2</td><td>62.8</td><td>57</td><td>3.94</td><td>3.96</td><td>2.48</td></tr>\n",
       "</tbody>\n",
       "</table>\n"
      ],
      "text/latex": [
       "A tibble: 6 × 8\n",
       "\\begin{tabular}{llllllll}\n",
       " cut & color & clarity & depth & table & x & y & z\\\\\n",
       " <ord> & <ord> & <ord> & <dbl> & <dbl> & <dbl> & <dbl> & <dbl>\\\\\n",
       "\\hline\n",
       "\t Ideal     & E & SI2  & 61.5 & 55 & 3.95 & 3.98 & 2.43\\\\\n",
       "\t Premium   & E & SI1  & 59.8 & 61 & 3.89 & 3.84 & 2.31\\\\\n",
       "\t Good      & E & VS1  & 56.9 & 65 & 4.05 & 4.07 & 2.31\\\\\n",
       "\t Premium   & I & VS2  & 62.4 & 58 & 4.20 & 4.23 & 2.63\\\\\n",
       "\t Good      & J & SI2  & 63.3 & 58 & 4.34 & 4.35 & 2.75\\\\\n",
       "\t Very Good & J & VVS2 & 62.8 & 57 & 3.94 & 3.96 & 2.48\\\\\n",
       "\\end{tabular}\n"
      ],
      "text/markdown": [
       "\n",
       "A tibble: 6 × 8\n",
       "\n",
       "| cut &lt;ord&gt; | color &lt;ord&gt; | clarity &lt;ord&gt; | depth &lt;dbl&gt; | table &lt;dbl&gt; | x &lt;dbl&gt; | y &lt;dbl&gt; | z &lt;dbl&gt; |\n",
       "|---|---|---|---|---|---|---|---|\n",
       "| Ideal     | E | SI2  | 61.5 | 55 | 3.95 | 3.98 | 2.43 |\n",
       "| Premium   | E | SI1  | 59.8 | 61 | 3.89 | 3.84 | 2.31 |\n",
       "| Good      | E | VS1  | 56.9 | 65 | 4.05 | 4.07 | 2.31 |\n",
       "| Premium   | I | VS2  | 62.4 | 58 | 4.20 | 4.23 | 2.63 |\n",
       "| Good      | J | SI2  | 63.3 | 58 | 4.34 | 4.35 | 2.75 |\n",
       "| Very Good | J | VVS2 | 62.8 | 57 | 3.94 | 3.96 | 2.48 |\n",
       "\n"
      ],
      "text/plain": [
       "  cut       color clarity depth table x    y    z   \n",
       "1 Ideal     E     SI2     61.5  55    3.95 3.98 2.43\n",
       "2 Premium   E     SI1     59.8  61    3.89 3.84 2.31\n",
       "3 Good      E     VS1     56.9  65    4.05 4.07 2.31\n",
       "4 Premium   I     VS2     62.4  58    4.20 4.23 2.63\n",
       "5 Good      J     SI2     63.3  58    4.34 4.35 2.75\n",
       "6 Very Good J     VVS2    62.8  57    3.94 3.96 2.48"
      ]
     },
     "metadata": {},
     "output_type": "display_data"
    },
    {
     "data": {
      "text/html": [
       "<table class=\"dataframe\">\n",
       "<caption>A tibble: 6 × 8</caption>\n",
       "<thead>\n",
       "\t<tr><th scope=col>cut</th><th scope=col>color</th><th scope=col>clarity</th><th scope=col>depth</th><th scope=col>table</th><th scope=col>x</th><th scope=col>y</th><th scope=col>z</th></tr>\n",
       "\t<tr><th scope=col>&lt;ord&gt;</th><th scope=col>&lt;ord&gt;</th><th scope=col>&lt;ord&gt;</th><th scope=col>&lt;dbl&gt;</th><th scope=col>&lt;dbl&gt;</th><th scope=col>&lt;dbl&gt;</th><th scope=col>&lt;dbl&gt;</th><th scope=col>&lt;dbl&gt;</th></tr>\n",
       "</thead>\n",
       "<tbody>\n",
       "\t<tr><td>Ideal    </td><td>E</td><td>SI2 </td><td>61.5</td><td>55</td><td>3.95</td><td>3.98</td><td>2.43</td></tr>\n",
       "\t<tr><td>Premium  </td><td>E</td><td>SI1 </td><td>59.8</td><td>61</td><td>3.89</td><td>3.84</td><td>2.31</td></tr>\n",
       "\t<tr><td>Good     </td><td>E</td><td>VS1 </td><td>56.9</td><td>65</td><td>4.05</td><td>4.07</td><td>2.31</td></tr>\n",
       "\t<tr><td>Premium  </td><td>I</td><td>VS2 </td><td>62.4</td><td>58</td><td>4.20</td><td>4.23</td><td>2.63</td></tr>\n",
       "\t<tr><td>Good     </td><td>J</td><td>SI2 </td><td>63.3</td><td>58</td><td>4.34</td><td>4.35</td><td>2.75</td></tr>\n",
       "\t<tr><td>Very Good</td><td>J</td><td>VVS2</td><td>62.8</td><td>57</td><td>3.94</td><td>3.96</td><td>2.48</td></tr>\n",
       "</tbody>\n",
       "</table>\n"
      ],
      "text/latex": [
       "A tibble: 6 × 8\n",
       "\\begin{tabular}{llllllll}\n",
       " cut & color & clarity & depth & table & x & y & z\\\\\n",
       " <ord> & <ord> & <ord> & <dbl> & <dbl> & <dbl> & <dbl> & <dbl>\\\\\n",
       "\\hline\n",
       "\t Ideal     & E & SI2  & 61.5 & 55 & 3.95 & 3.98 & 2.43\\\\\n",
       "\t Premium   & E & SI1  & 59.8 & 61 & 3.89 & 3.84 & 2.31\\\\\n",
       "\t Good      & E & VS1  & 56.9 & 65 & 4.05 & 4.07 & 2.31\\\\\n",
       "\t Premium   & I & VS2  & 62.4 & 58 & 4.20 & 4.23 & 2.63\\\\\n",
       "\t Good      & J & SI2  & 63.3 & 58 & 4.34 & 4.35 & 2.75\\\\\n",
       "\t Very Good & J & VVS2 & 62.8 & 57 & 3.94 & 3.96 & 2.48\\\\\n",
       "\\end{tabular}\n"
      ],
      "text/markdown": [
       "\n",
       "A tibble: 6 × 8\n",
       "\n",
       "| cut &lt;ord&gt; | color &lt;ord&gt; | clarity &lt;ord&gt; | depth &lt;dbl&gt; | table &lt;dbl&gt; | x &lt;dbl&gt; | y &lt;dbl&gt; | z &lt;dbl&gt; |\n",
       "|---|---|---|---|---|---|---|---|\n",
       "| Ideal     | E | SI2  | 61.5 | 55 | 3.95 | 3.98 | 2.43 |\n",
       "| Premium   | E | SI1  | 59.8 | 61 | 3.89 | 3.84 | 2.31 |\n",
       "| Good      | E | VS1  | 56.9 | 65 | 4.05 | 4.07 | 2.31 |\n",
       "| Premium   | I | VS2  | 62.4 | 58 | 4.20 | 4.23 | 2.63 |\n",
       "| Good      | J | SI2  | 63.3 | 58 | 4.34 | 4.35 | 2.75 |\n",
       "| Very Good | J | VVS2 | 62.8 | 57 | 3.94 | 3.96 | 2.48 |\n",
       "\n"
      ],
      "text/plain": [
       "  cut       color clarity depth table x    y    z   \n",
       "1 Ideal     E     SI2     61.5  55    3.95 3.98 2.43\n",
       "2 Premium   E     SI1     59.8  61    3.89 3.84 2.31\n",
       "3 Good      E     VS1     56.9  65    4.05 4.07 2.31\n",
       "4 Premium   I     VS2     62.4  58    4.20 4.23 2.63\n",
       "5 Good      J     SI2     63.3  58    4.34 4.35 2.75\n",
       "6 Very Good J     VVS2    62.8  57    3.94 3.96 2.48"
      ]
     },
     "metadata": {},
     "output_type": "display_data"
    }
   ],
   "source": [
    "diamonds %>% select(-1, -7) %>% head()\n",
    "diamonds %>% select(-c(1,7)) %>% head() "
   ]
  },
  {
   "cell_type": "code",
   "execution_count": 96,
   "id": "41128d6e-70ad-45f9-a68c-8c511a089dd6",
   "metadata": {},
   "outputs": [
    {
     "data": {
      "text/html": [
       "<table class=\"dataframe\">\n",
       "<caption>A tibble: 6 × 8</caption>\n",
       "<thead>\n",
       "\t<tr><th scope=col>cut</th><th scope=col>color</th><th scope=col>clarity</th><th scope=col>depth</th><th scope=col>table</th><th scope=col>x</th><th scope=col>y</th><th scope=col>z</th></tr>\n",
       "\t<tr><th scope=col>&lt;ord&gt;</th><th scope=col>&lt;ord&gt;</th><th scope=col>&lt;ord&gt;</th><th scope=col>&lt;dbl&gt;</th><th scope=col>&lt;dbl&gt;</th><th scope=col>&lt;dbl&gt;</th><th scope=col>&lt;dbl&gt;</th><th scope=col>&lt;dbl&gt;</th></tr>\n",
       "</thead>\n",
       "<tbody>\n",
       "\t<tr><td>Ideal    </td><td>E</td><td>SI2 </td><td>61.5</td><td>55</td><td>3.95</td><td>3.98</td><td>2.43</td></tr>\n",
       "\t<tr><td>Premium  </td><td>E</td><td>SI1 </td><td>59.8</td><td>61</td><td>3.89</td><td>3.84</td><td>2.31</td></tr>\n",
       "\t<tr><td>Good     </td><td>E</td><td>VS1 </td><td>56.9</td><td>65</td><td>4.05</td><td>4.07</td><td>2.31</td></tr>\n",
       "\t<tr><td>Premium  </td><td>I</td><td>VS2 </td><td>62.4</td><td>58</td><td>4.20</td><td>4.23</td><td>2.63</td></tr>\n",
       "\t<tr><td>Good     </td><td>J</td><td>SI2 </td><td>63.3</td><td>58</td><td>4.34</td><td>4.35</td><td>2.75</td></tr>\n",
       "\t<tr><td>Very Good</td><td>J</td><td>VVS2</td><td>62.8</td><td>57</td><td>3.94</td><td>3.96</td><td>2.48</td></tr>\n",
       "</tbody>\n",
       "</table>\n"
      ],
      "text/latex": [
       "A tibble: 6 × 8\n",
       "\\begin{tabular}{llllllll}\n",
       " cut & color & clarity & depth & table & x & y & z\\\\\n",
       " <ord> & <ord> & <ord> & <dbl> & <dbl> & <dbl> & <dbl> & <dbl>\\\\\n",
       "\\hline\n",
       "\t Ideal     & E & SI2  & 61.5 & 55 & 3.95 & 3.98 & 2.43\\\\\n",
       "\t Premium   & E & SI1  & 59.8 & 61 & 3.89 & 3.84 & 2.31\\\\\n",
       "\t Good      & E & VS1  & 56.9 & 65 & 4.05 & 4.07 & 2.31\\\\\n",
       "\t Premium   & I & VS2  & 62.4 & 58 & 4.20 & 4.23 & 2.63\\\\\n",
       "\t Good      & J & SI2  & 63.3 & 58 & 4.34 & 4.35 & 2.75\\\\\n",
       "\t Very Good & J & VVS2 & 62.8 & 57 & 3.94 & 3.96 & 2.48\\\\\n",
       "\\end{tabular}\n"
      ],
      "text/markdown": [
       "\n",
       "A tibble: 6 × 8\n",
       "\n",
       "| cut &lt;ord&gt; | color &lt;ord&gt; | clarity &lt;ord&gt; | depth &lt;dbl&gt; | table &lt;dbl&gt; | x &lt;dbl&gt; | y &lt;dbl&gt; | z &lt;dbl&gt; |\n",
       "|---|---|---|---|---|---|---|---|\n",
       "| Ideal     | E | SI2  | 61.5 | 55 | 3.95 | 3.98 | 2.43 |\n",
       "| Premium   | E | SI1  | 59.8 | 61 | 3.89 | 3.84 | 2.31 |\n",
       "| Good      | E | VS1  | 56.9 | 65 | 4.05 | 4.07 | 2.31 |\n",
       "| Premium   | I | VS2  | 62.4 | 58 | 4.20 | 4.23 | 2.63 |\n",
       "| Good      | J | SI2  | 63.3 | 58 | 4.34 | 4.35 | 2.75 |\n",
       "| Very Good | J | VVS2 | 62.8 | 57 | 3.94 | 3.96 | 2.48 |\n",
       "\n"
      ],
      "text/plain": [
       "  cut       color clarity depth table x    y    z   \n",
       "1 Ideal     E     SI2     61.5  55    3.95 3.98 2.43\n",
       "2 Premium   E     SI1     59.8  61    3.89 3.84 2.31\n",
       "3 Good      E     VS1     56.9  65    4.05 4.07 2.31\n",
       "4 Premium   I     VS2     62.4  58    4.20 4.23 2.63\n",
       "5 Good      J     SI2     63.3  58    4.34 4.35 2.75\n",
       "6 Very Good J     VVS2    62.8  57    3.94 3.96 2.48"
      ]
     },
     "metadata": {},
     "output_type": "display_data"
    },
    {
     "data": {
      "text/html": [
       "<table class=\"dataframe\">\n",
       "<caption>A tibble: 6 × 8</caption>\n",
       "<thead>\n",
       "\t<tr><th scope=col>cut</th><th scope=col>color</th><th scope=col>clarity</th><th scope=col>depth</th><th scope=col>table</th><th scope=col>x</th><th scope=col>y</th><th scope=col>z</th></tr>\n",
       "\t<tr><th scope=col>&lt;ord&gt;</th><th scope=col>&lt;ord&gt;</th><th scope=col>&lt;ord&gt;</th><th scope=col>&lt;dbl&gt;</th><th scope=col>&lt;dbl&gt;</th><th scope=col>&lt;dbl&gt;</th><th scope=col>&lt;dbl&gt;</th><th scope=col>&lt;dbl&gt;</th></tr>\n",
       "</thead>\n",
       "<tbody>\n",
       "\t<tr><td>Ideal    </td><td>E</td><td>SI2 </td><td>61.5</td><td>55</td><td>3.95</td><td>3.98</td><td>2.43</td></tr>\n",
       "\t<tr><td>Premium  </td><td>E</td><td>SI1 </td><td>59.8</td><td>61</td><td>3.89</td><td>3.84</td><td>2.31</td></tr>\n",
       "\t<tr><td>Good     </td><td>E</td><td>VS1 </td><td>56.9</td><td>65</td><td>4.05</td><td>4.07</td><td>2.31</td></tr>\n",
       "\t<tr><td>Premium  </td><td>I</td><td>VS2 </td><td>62.4</td><td>58</td><td>4.20</td><td>4.23</td><td>2.63</td></tr>\n",
       "\t<tr><td>Good     </td><td>J</td><td>SI2 </td><td>63.3</td><td>58</td><td>4.34</td><td>4.35</td><td>2.75</td></tr>\n",
       "\t<tr><td>Very Good</td><td>J</td><td>VVS2</td><td>62.8</td><td>57</td><td>3.94</td><td>3.96</td><td>2.48</td></tr>\n",
       "</tbody>\n",
       "</table>\n"
      ],
      "text/latex": [
       "A tibble: 6 × 8\n",
       "\\begin{tabular}{llllllll}\n",
       " cut & color & clarity & depth & table & x & y & z\\\\\n",
       " <ord> & <ord> & <ord> & <dbl> & <dbl> & <dbl> & <dbl> & <dbl>\\\\\n",
       "\\hline\n",
       "\t Ideal     & E & SI2  & 61.5 & 55 & 3.95 & 3.98 & 2.43\\\\\n",
       "\t Premium   & E & SI1  & 59.8 & 61 & 3.89 & 3.84 & 2.31\\\\\n",
       "\t Good      & E & VS1  & 56.9 & 65 & 4.05 & 4.07 & 2.31\\\\\n",
       "\t Premium   & I & VS2  & 62.4 & 58 & 4.20 & 4.23 & 2.63\\\\\n",
       "\t Good      & J & SI2  & 63.3 & 58 & 4.34 & 4.35 & 2.75\\\\\n",
       "\t Very Good & J & VVS2 & 62.8 & 57 & 3.94 & 3.96 & 2.48\\\\\n",
       "\\end{tabular}\n"
      ],
      "text/markdown": [
       "\n",
       "A tibble: 6 × 8\n",
       "\n",
       "| cut &lt;ord&gt; | color &lt;ord&gt; | clarity &lt;ord&gt; | depth &lt;dbl&gt; | table &lt;dbl&gt; | x &lt;dbl&gt; | y &lt;dbl&gt; | z &lt;dbl&gt; |\n",
       "|---|---|---|---|---|---|---|---|\n",
       "| Ideal     | E | SI2  | 61.5 | 55 | 3.95 | 3.98 | 2.43 |\n",
       "| Premium   | E | SI1  | 59.8 | 61 | 3.89 | 3.84 | 2.31 |\n",
       "| Good      | E | VS1  | 56.9 | 65 | 4.05 | 4.07 | 2.31 |\n",
       "| Premium   | I | VS2  | 62.4 | 58 | 4.20 | 4.23 | 2.63 |\n",
       "| Good      | J | SI2  | 63.3 | 58 | 4.34 | 4.35 | 2.75 |\n",
       "| Very Good | J | VVS2 | 62.8 | 57 | 3.94 | 3.96 | 2.48 |\n",
       "\n"
      ],
      "text/plain": [
       "  cut       color clarity depth table x    y    z   \n",
       "1 Ideal     E     SI2     61.5  55    3.95 3.98 2.43\n",
       "2 Premium   E     SI1     59.8  61    3.89 3.84 2.31\n",
       "3 Good      E     VS1     56.9  65    4.05 4.07 2.31\n",
       "4 Premium   I     VS2     62.4  58    4.20 4.23 2.63\n",
       "5 Good      J     SI2     63.3  58    4.34 4.35 2.75\n",
       "6 Very Good J     VVS2    62.8  57    3.94 3.96 2.48"
      ]
     },
     "metadata": {},
     "output_type": "display_data"
    }
   ],
   "source": [
    "# select(diamonds, carat, price) \n",
    "# select(diamonds, 1, 7) \n",
    "\n",
    "\n",
    "head(select(diamonds, -c(carat, price)))\n",
    "head(select(diamonds, -c(1, 7))) "
   ]
  },
  {
   "cell_type": "code",
   "execution_count": 70,
   "id": "ba804fd4-d99f-433d-a912-9ecf5310a151",
   "metadata": {},
   "outputs": [
    {
     "data": {
      "text/html": [
       "<table class=\"dataframe\">\n",
       "<caption>A tibble: 6 × 4</caption>\n",
       "<thead>\n",
       "\t<tr><th scope=col>carat</th><th scope=col>cut</th><th scope=col>color</th><th scope=col>clarity</th></tr>\n",
       "\t<tr><th scope=col>&lt;dbl&gt;</th><th scope=col>&lt;ord&gt;</th><th scope=col>&lt;ord&gt;</th><th scope=col>&lt;ord&gt;</th></tr>\n",
       "</thead>\n",
       "<tbody>\n",
       "\t<tr><td>0.23</td><td>Ideal    </td><td>E</td><td>SI2 </td></tr>\n",
       "\t<tr><td>0.21</td><td>Premium  </td><td>E</td><td>SI1 </td></tr>\n",
       "\t<tr><td>0.23</td><td>Good     </td><td>E</td><td>VS1 </td></tr>\n",
       "\t<tr><td>0.29</td><td>Premium  </td><td>I</td><td>VS2 </td></tr>\n",
       "\t<tr><td>0.31</td><td>Good     </td><td>J</td><td>SI2 </td></tr>\n",
       "\t<tr><td>0.24</td><td>Very Good</td><td>J</td><td>VVS2</td></tr>\n",
       "</tbody>\n",
       "</table>\n"
      ],
      "text/latex": [
       "A tibble: 6 × 4\n",
       "\\begin{tabular}{llll}\n",
       " carat & cut & color & clarity\\\\\n",
       " <dbl> & <ord> & <ord> & <ord>\\\\\n",
       "\\hline\n",
       "\t 0.23 & Ideal     & E & SI2 \\\\\n",
       "\t 0.21 & Premium   & E & SI1 \\\\\n",
       "\t 0.23 & Good      & E & VS1 \\\\\n",
       "\t 0.29 & Premium   & I & VS2 \\\\\n",
       "\t 0.31 & Good      & J & SI2 \\\\\n",
       "\t 0.24 & Very Good & J & VVS2\\\\\n",
       "\\end{tabular}\n"
      ],
      "text/markdown": [
       "\n",
       "A tibble: 6 × 4\n",
       "\n",
       "| carat &lt;dbl&gt; | cut &lt;ord&gt; | color &lt;ord&gt; | clarity &lt;ord&gt; |\n",
       "|---|---|---|---|\n",
       "| 0.23 | Ideal     | E | SI2  |\n",
       "| 0.21 | Premium   | E | SI1  |\n",
       "| 0.23 | Good      | E | VS1  |\n",
       "| 0.29 | Premium   | I | VS2  |\n",
       "| 0.31 | Good      | J | SI2  |\n",
       "| 0.24 | Very Good | J | VVS2 |\n",
       "\n"
      ],
      "text/plain": [
       "  carat cut       color clarity\n",
       "1 0.23  Ideal     E     SI2    \n",
       "2 0.21  Premium   E     SI1    \n",
       "3 0.23  Good      E     VS1    \n",
       "4 0.29  Premium   I     VS2    \n",
       "5 0.31  Good      J     SI2    \n",
       "6 0.24  Very Good J     VVS2   "
      ]
     },
     "metadata": {},
     "output_type": "display_data"
    },
    {
     "data": {
      "text/html": [
       "<table class=\"dataframe\">\n",
       "<caption>A tibble: 6 × 4</caption>\n",
       "<thead>\n",
       "\t<tr><th scope=col>carat</th><th scope=col>cut</th><th scope=col>color</th><th scope=col>clarity</th></tr>\n",
       "\t<tr><th scope=col>&lt;dbl&gt;</th><th scope=col>&lt;ord&gt;</th><th scope=col>&lt;ord&gt;</th><th scope=col>&lt;ord&gt;</th></tr>\n",
       "</thead>\n",
       "<tbody>\n",
       "\t<tr><td>0.23</td><td>Ideal    </td><td>E</td><td>SI2 </td></tr>\n",
       "\t<tr><td>0.21</td><td>Premium  </td><td>E</td><td>SI1 </td></tr>\n",
       "\t<tr><td>0.23</td><td>Good     </td><td>E</td><td>VS1 </td></tr>\n",
       "\t<tr><td>0.29</td><td>Premium  </td><td>I</td><td>VS2 </td></tr>\n",
       "\t<tr><td>0.31</td><td>Good     </td><td>J</td><td>SI2 </td></tr>\n",
       "\t<tr><td>0.24</td><td>Very Good</td><td>J</td><td>VVS2</td></tr>\n",
       "</tbody>\n",
       "</table>\n"
      ],
      "text/latex": [
       "A tibble: 6 × 4\n",
       "\\begin{tabular}{llll}\n",
       " carat & cut & color & clarity\\\\\n",
       " <dbl> & <ord> & <ord> & <ord>\\\\\n",
       "\\hline\n",
       "\t 0.23 & Ideal     & E & SI2 \\\\\n",
       "\t 0.21 & Premium   & E & SI1 \\\\\n",
       "\t 0.23 & Good      & E & VS1 \\\\\n",
       "\t 0.29 & Premium   & I & VS2 \\\\\n",
       "\t 0.31 & Good      & J & SI2 \\\\\n",
       "\t 0.24 & Very Good & J & VVS2\\\\\n",
       "\\end{tabular}\n"
      ],
      "text/markdown": [
       "\n",
       "A tibble: 6 × 4\n",
       "\n",
       "| carat &lt;dbl&gt; | cut &lt;ord&gt; | color &lt;ord&gt; | clarity &lt;ord&gt; |\n",
       "|---|---|---|---|\n",
       "| 0.23 | Ideal     | E | SI2  |\n",
       "| 0.21 | Premium   | E | SI1  |\n",
       "| 0.23 | Good      | E | VS1  |\n",
       "| 0.29 | Premium   | I | VS2  |\n",
       "| 0.31 | Good      | J | SI2  |\n",
       "| 0.24 | Very Good | J | VVS2 |\n",
       "\n"
      ],
      "text/plain": [
       "  carat cut       color clarity\n",
       "1 0.23  Ideal     E     SI2    \n",
       "2 0.21  Premium   E     SI1    \n",
       "3 0.23  Good      E     VS1    \n",
       "4 0.29  Premium   I     VS2    \n",
       "5 0.31  Good      J     SI2    \n",
       "6 0.24  Very Good J     VVS2   "
      ]
     },
     "metadata": {},
     "output_type": "display_data"
    }
   ],
   "source": [
    "# 변수명중 c로 시작하는 것만 출력 : starts_with\n",
    "# diamonds[, starts_with('c')]  # 실행오류!\n",
    "\n",
    "diamonds %>% select(starts_with('c')) %>% head()\n",
    "\n",
    "head(select(diamonds, starts_with('c')))"
   ]
  },
  {
   "cell_type": "code",
   "execution_count": 75,
   "id": "f7a5bcb9-871f-47fb-bc4c-ac195d946be0",
   "metadata": {},
   "outputs": [
    {
     "data": {
      "text/html": [
       "<table class=\"dataframe\">\n",
       "<caption>A tibble: 6 × 2</caption>\n",
       "<thead>\n",
       "\t<tr><th scope=col>table</th><th scope=col>price</th></tr>\n",
       "\t<tr><th scope=col>&lt;dbl&gt;</th><th scope=col>&lt;int&gt;</th></tr>\n",
       "</thead>\n",
       "<tbody>\n",
       "\t<tr><td>55</td><td>326</td></tr>\n",
       "\t<tr><td>61</td><td>326</td></tr>\n",
       "\t<tr><td>65</td><td>327</td></tr>\n",
       "\t<tr><td>58</td><td>334</td></tr>\n",
       "\t<tr><td>58</td><td>335</td></tr>\n",
       "\t<tr><td>57</td><td>336</td></tr>\n",
       "</tbody>\n",
       "</table>\n"
      ],
      "text/latex": [
       "A tibble: 6 × 2\n",
       "\\begin{tabular}{ll}\n",
       " table & price\\\\\n",
       " <dbl> & <int>\\\\\n",
       "\\hline\n",
       "\t 55 & 326\\\\\n",
       "\t 61 & 326\\\\\n",
       "\t 65 & 327\\\\\n",
       "\t 58 & 334\\\\\n",
       "\t 58 & 335\\\\\n",
       "\t 57 & 336\\\\\n",
       "\\end{tabular}\n"
      ],
      "text/markdown": [
       "\n",
       "A tibble: 6 × 2\n",
       "\n",
       "| table &lt;dbl&gt; | price &lt;int&gt; |\n",
       "|---|---|\n",
       "| 55 | 326 |\n",
       "| 61 | 326 |\n",
       "| 65 | 327 |\n",
       "| 58 | 334 |\n",
       "| 58 | 335 |\n",
       "| 57 | 336 |\n",
       "\n"
      ],
      "text/plain": [
       "  table price\n",
       "1 55    326  \n",
       "2 61    326  \n",
       "3 65    327  \n",
       "4 58    334  \n",
       "5 58    335  \n",
       "6 57    336  "
      ]
     },
     "metadata": {},
     "output_type": "display_data"
    },
    {
     "data": {
      "text/html": [
       "<table class=\"dataframe\">\n",
       "<caption>A tibble: 6 × 2</caption>\n",
       "<thead>\n",
       "\t<tr><th scope=col>table</th><th scope=col>price</th></tr>\n",
       "\t<tr><th scope=col>&lt;dbl&gt;</th><th scope=col>&lt;int&gt;</th></tr>\n",
       "</thead>\n",
       "<tbody>\n",
       "\t<tr><td>55</td><td>326</td></tr>\n",
       "\t<tr><td>61</td><td>326</td></tr>\n",
       "\t<tr><td>65</td><td>327</td></tr>\n",
       "\t<tr><td>58</td><td>334</td></tr>\n",
       "\t<tr><td>58</td><td>335</td></tr>\n",
       "\t<tr><td>57</td><td>336</td></tr>\n",
       "</tbody>\n",
       "</table>\n"
      ],
      "text/latex": [
       "A tibble: 6 × 2\n",
       "\\begin{tabular}{ll}\n",
       " table & price\\\\\n",
       " <dbl> & <int>\\\\\n",
       "\\hline\n",
       "\t 55 & 326\\\\\n",
       "\t 61 & 326\\\\\n",
       "\t 65 & 327\\\\\n",
       "\t 58 & 334\\\\\n",
       "\t 58 & 335\\\\\n",
       "\t 57 & 336\\\\\n",
       "\\end{tabular}\n"
      ],
      "text/markdown": [
       "\n",
       "A tibble: 6 × 2\n",
       "\n",
       "| table &lt;dbl&gt; | price &lt;int&gt; |\n",
       "|---|---|\n",
       "| 55 | 326 |\n",
       "| 61 | 326 |\n",
       "| 65 | 327 |\n",
       "| 58 | 334 |\n",
       "| 58 | 335 |\n",
       "| 57 | 336 |\n",
       "\n"
      ],
      "text/plain": [
       "  table price\n",
       "1 55    326  \n",
       "2 61    326  \n",
       "3 65    327  \n",
       "4 58    334  \n",
       "5 58    335  \n",
       "6 57    336  "
      ]
     },
     "metadata": {},
     "output_type": "display_data"
    }
   ],
   "source": [
    "# 변수명중 e로 끝나는 것만 출력 : ends_with\n",
    "\n",
    "diamonds %>% select(ends_with('e')) %>% head()\n",
    "\n",
    "head(select(diamonds, ends_with('e')))"
   ]
  },
  {
   "cell_type": "code",
   "execution_count": 76,
   "id": "7930e632-ea88-40ba-8b51-0e587c1df5df",
   "metadata": {},
   "outputs": [
    {
     "data": {
      "text/html": [
       "<table class=\"dataframe\">\n",
       "<caption>A tibble: 6 × 3</caption>\n",
       "<thead>\n",
       "\t<tr><th scope=col>color</th><th scope=col>clarity</th><th scope=col>table</th></tr>\n",
       "\t<tr><th scope=col>&lt;ord&gt;</th><th scope=col>&lt;ord&gt;</th><th scope=col>&lt;dbl&gt;</th></tr>\n",
       "</thead>\n",
       "<tbody>\n",
       "\t<tr><td>E</td><td>SI2 </td><td>55</td></tr>\n",
       "\t<tr><td>E</td><td>SI1 </td><td>61</td></tr>\n",
       "\t<tr><td>E</td><td>VS1 </td><td>65</td></tr>\n",
       "\t<tr><td>I</td><td>VS2 </td><td>58</td></tr>\n",
       "\t<tr><td>J</td><td>SI2 </td><td>58</td></tr>\n",
       "\t<tr><td>J</td><td>VVS2</td><td>57</td></tr>\n",
       "</tbody>\n",
       "</table>\n"
      ],
      "text/latex": [
       "A tibble: 6 × 3\n",
       "\\begin{tabular}{lll}\n",
       " color & clarity & table\\\\\n",
       " <ord> & <ord> & <dbl>\\\\\n",
       "\\hline\n",
       "\t E & SI2  & 55\\\\\n",
       "\t E & SI1  & 61\\\\\n",
       "\t E & VS1  & 65\\\\\n",
       "\t I & VS2  & 58\\\\\n",
       "\t J & SI2  & 58\\\\\n",
       "\t J & VVS2 & 57\\\\\n",
       "\\end{tabular}\n"
      ],
      "text/markdown": [
       "\n",
       "A tibble: 6 × 3\n",
       "\n",
       "| color &lt;ord&gt; | clarity &lt;ord&gt; | table &lt;dbl&gt; |\n",
       "|---|---|---|\n",
       "| E | SI2  | 55 |\n",
       "| E | SI1  | 61 |\n",
       "| E | VS1  | 65 |\n",
       "| I | VS2  | 58 |\n",
       "| J | SI2  | 58 |\n",
       "| J | VVS2 | 57 |\n",
       "\n"
      ],
      "text/plain": [
       "  color clarity table\n",
       "1 E     SI2     55   \n",
       "2 E     SI1     61   \n",
       "3 E     VS1     65   \n",
       "4 I     VS2     58   \n",
       "5 J     SI2     58   \n",
       "6 J     VVS2    57   "
      ]
     },
     "metadata": {},
     "output_type": "display_data"
    },
    {
     "data": {
      "text/html": [
       "<table class=\"dataframe\">\n",
       "<caption>A tibble: 6 × 3</caption>\n",
       "<thead>\n",
       "\t<tr><th scope=col>color</th><th scope=col>clarity</th><th scope=col>table</th></tr>\n",
       "\t<tr><th scope=col>&lt;ord&gt;</th><th scope=col>&lt;ord&gt;</th><th scope=col>&lt;dbl&gt;</th></tr>\n",
       "</thead>\n",
       "<tbody>\n",
       "\t<tr><td>E</td><td>SI2 </td><td>55</td></tr>\n",
       "\t<tr><td>E</td><td>SI1 </td><td>61</td></tr>\n",
       "\t<tr><td>E</td><td>VS1 </td><td>65</td></tr>\n",
       "\t<tr><td>I</td><td>VS2 </td><td>58</td></tr>\n",
       "\t<tr><td>J</td><td>SI2 </td><td>58</td></tr>\n",
       "\t<tr><td>J</td><td>VVS2</td><td>57</td></tr>\n",
       "</tbody>\n",
       "</table>\n"
      ],
      "text/latex": [
       "A tibble: 6 × 3\n",
       "\\begin{tabular}{lll}\n",
       " color & clarity & table\\\\\n",
       " <ord> & <ord> & <dbl>\\\\\n",
       "\\hline\n",
       "\t E & SI2  & 55\\\\\n",
       "\t E & SI1  & 61\\\\\n",
       "\t E & VS1  & 65\\\\\n",
       "\t I & VS2  & 58\\\\\n",
       "\t J & SI2  & 58\\\\\n",
       "\t J & VVS2 & 57\\\\\n",
       "\\end{tabular}\n"
      ],
      "text/markdown": [
       "\n",
       "A tibble: 6 × 3\n",
       "\n",
       "| color &lt;ord&gt; | clarity &lt;ord&gt; | table &lt;dbl&gt; |\n",
       "|---|---|---|\n",
       "| E | SI2  | 55 |\n",
       "| E | SI1  | 61 |\n",
       "| E | VS1  | 65 |\n",
       "| I | VS2  | 58 |\n",
       "| J | SI2  | 58 |\n",
       "| J | VVS2 | 57 |\n",
       "\n"
      ],
      "text/plain": [
       "  color clarity table\n",
       "1 E     SI2     55   \n",
       "2 E     SI1     61   \n",
       "3 E     VS1     65   \n",
       "4 I     VS2     58   \n",
       "5 J     SI2     58   \n",
       "6 J     VVS2    57   "
      ]
     },
     "metadata": {},
     "output_type": "display_data"
    }
   ],
   "source": [
    "# 변수명중 l을 포함하는 것만 출력: contains/matches\n",
    "\n",
    "diamonds %>% select(contains('l')) %>% head()\n",
    "\n",
    "head(select(diamonds, contains('l')))"
   ]
  },
  {
   "cell_type": "code",
   "execution_count": 87,
   "id": "f5f21305-344c-4b15-81ec-42b207941cbd",
   "metadata": {},
   "outputs": [
    {
     "data": {
      "text/html": [
       "<table class=\"dataframe\">\n",
       "<caption>A tibble: 6 × 2</caption>\n",
       "<thead>\n",
       "\t<tr><th scope=col>carat</th><th scope=col>clarity</th></tr>\n",
       "\t<tr><th scope=col>&lt;dbl&gt;</th><th scope=col>&lt;ord&gt;</th></tr>\n",
       "</thead>\n",
       "<tbody>\n",
       "\t<tr><td>0.23</td><td>SI2 </td></tr>\n",
       "\t<tr><td>0.21</td><td>SI1 </td></tr>\n",
       "\t<tr><td>0.23</td><td>VS1 </td></tr>\n",
       "\t<tr><td>0.29</td><td>VS2 </td></tr>\n",
       "\t<tr><td>0.31</td><td>SI2 </td></tr>\n",
       "\t<tr><td>0.24</td><td>VVS2</td></tr>\n",
       "</tbody>\n",
       "</table>\n"
      ],
      "text/latex": [
       "A tibble: 6 × 2\n",
       "\\begin{tabular}{ll}\n",
       " carat & clarity\\\\\n",
       " <dbl> & <ord>\\\\\n",
       "\\hline\n",
       "\t 0.23 & SI2 \\\\\n",
       "\t 0.21 & SI1 \\\\\n",
       "\t 0.23 & VS1 \\\\\n",
       "\t 0.29 & VS2 \\\\\n",
       "\t 0.31 & SI2 \\\\\n",
       "\t 0.24 & VVS2\\\\\n",
       "\\end{tabular}\n"
      ],
      "text/markdown": [
       "\n",
       "A tibble: 6 × 2\n",
       "\n",
       "| carat &lt;dbl&gt; | clarity &lt;ord&gt; |\n",
       "|---|---|\n",
       "| 0.23 | SI2  |\n",
       "| 0.21 | SI1  |\n",
       "| 0.23 | VS1  |\n",
       "| 0.29 | VS2  |\n",
       "| 0.31 | SI2  |\n",
       "| 0.24 | VVS2 |\n",
       "\n"
      ],
      "text/plain": [
       "  carat clarity\n",
       "1 0.23  SI2    \n",
       "2 0.21  SI1    \n",
       "3 0.23  VS1    \n",
       "4 0.29  VS2    \n",
       "5 0.31  SI2    \n",
       "6 0.24  VVS2   "
      ]
     },
     "metadata": {},
     "output_type": "display_data"
    },
    {
     "data": {
      "text/html": [
       "<table class=\"dataframe\">\n",
       "<caption>A tibble: 6 × 2</caption>\n",
       "<thead>\n",
       "\t<tr><th scope=col>carat</th><th scope=col>clarity</th></tr>\n",
       "\t<tr><th scope=col>&lt;dbl&gt;</th><th scope=col>&lt;ord&gt;</th></tr>\n",
       "</thead>\n",
       "<tbody>\n",
       "\t<tr><td>0.23</td><td>SI2 </td></tr>\n",
       "\t<tr><td>0.21</td><td>SI1 </td></tr>\n",
       "\t<tr><td>0.23</td><td>VS1 </td></tr>\n",
       "\t<tr><td>0.29</td><td>VS2 </td></tr>\n",
       "\t<tr><td>0.31</td><td>SI2 </td></tr>\n",
       "\t<tr><td>0.24</td><td>VVS2</td></tr>\n",
       "</tbody>\n",
       "</table>\n"
      ],
      "text/latex": [
       "A tibble: 6 × 2\n",
       "\\begin{tabular}{ll}\n",
       " carat & clarity\\\\\n",
       " <dbl> & <ord>\\\\\n",
       "\\hline\n",
       "\t 0.23 & SI2 \\\\\n",
       "\t 0.21 & SI1 \\\\\n",
       "\t 0.23 & VS1 \\\\\n",
       "\t 0.29 & VS2 \\\\\n",
       "\t 0.31 & SI2 \\\\\n",
       "\t 0.24 & VVS2\\\\\n",
       "\\end{tabular}\n"
      ],
      "text/markdown": [
       "\n",
       "A tibble: 6 × 2\n",
       "\n",
       "| carat &lt;dbl&gt; | clarity &lt;ord&gt; |\n",
       "|---|---|\n",
       "| 0.23 | SI2  |\n",
       "| 0.21 | SI1  |\n",
       "| 0.23 | VS1  |\n",
       "| 0.29 | VS2  |\n",
       "| 0.31 | SI2  |\n",
       "| 0.24 | VVS2 |\n",
       "\n"
      ],
      "text/plain": [
       "  carat clarity\n",
       "1 0.23  SI2    \n",
       "2 0.21  SI1    \n",
       "3 0.23  VS1    \n",
       "4 0.29  VS2    \n",
       "5 0.31  SI2    \n",
       "6 0.24  VVS2   "
      ]
     },
     "metadata": {},
     "output_type": "display_data"
    },
    {
     "data": {
      "text/html": [
       "<table class=\"dataframe\">\n",
       "<caption>A tibble: 6 × 2</caption>\n",
       "<thead>\n",
       "\t<tr><th scope=col>carat</th><th scope=col>clarity</th></tr>\n",
       "\t<tr><th scope=col>&lt;dbl&gt;</th><th scope=col>&lt;ord&gt;</th></tr>\n",
       "</thead>\n",
       "<tbody>\n",
       "\t<tr><td>0.23</td><td>SI2 </td></tr>\n",
       "\t<tr><td>0.21</td><td>SI1 </td></tr>\n",
       "\t<tr><td>0.23</td><td>VS1 </td></tr>\n",
       "\t<tr><td>0.29</td><td>VS2 </td></tr>\n",
       "\t<tr><td>0.31</td><td>SI2 </td></tr>\n",
       "\t<tr><td>0.24</td><td>VVS2</td></tr>\n",
       "</tbody>\n",
       "</table>\n"
      ],
      "text/latex": [
       "A tibble: 6 × 2\n",
       "\\begin{tabular}{ll}\n",
       " carat & clarity\\\\\n",
       " <dbl> & <ord>\\\\\n",
       "\\hline\n",
       "\t 0.23 & SI2 \\\\\n",
       "\t 0.21 & SI1 \\\\\n",
       "\t 0.23 & VS1 \\\\\n",
       "\t 0.29 & VS2 \\\\\n",
       "\t 0.31 & SI2 \\\\\n",
       "\t 0.24 & VVS2\\\\\n",
       "\\end{tabular}\n"
      ],
      "text/markdown": [
       "\n",
       "A tibble: 6 × 2\n",
       "\n",
       "| carat &lt;dbl&gt; | clarity &lt;ord&gt; |\n",
       "|---|---|\n",
       "| 0.23 | SI2  |\n",
       "| 0.21 | SI1  |\n",
       "| 0.23 | VS1  |\n",
       "| 0.29 | VS2  |\n",
       "| 0.31 | SI2  |\n",
       "| 0.24 | VVS2 |\n",
       "\n"
      ],
      "text/plain": [
       "  carat clarity\n",
       "1 0.23  SI2    \n",
       "2 0.21  SI1    \n",
       "3 0.23  VS1    \n",
       "4 0.29  VS2    \n",
       "5 0.31  SI2    \n",
       "6 0.24  VVS2   "
      ]
     },
     "metadata": {},
     "output_type": "display_data"
    }
   ],
   "source": [
    "# 변수명중 r과 t를 포함한 것만 출력\n",
    "\n",
    "diamonds %>% select(contains('r') & contains('t')) %>% head()\n",
    "\n",
    "\n",
    "diamonds %>% select(matches('r.t')) %>% head()\n",
    "\n",
    "\n",
    "diamonds %>% select(matches('r.+t')) %>% head()"
   ]
  },
  {
   "cell_type": "code",
   "execution_count": 91,
   "id": "40e8cfbe-eb15-4dc2-a494-760f1e0a8e13",
   "metadata": {},
   "outputs": [
    {
     "data": {
      "text/html": [
       "<table class=\"dataframe\">\n",
       "<caption>A tibble: 6 × 10</caption>\n",
       "<thead>\n",
       "\t<tr><th scope=col>carat</th><th scope=col>cut</th><th scope=col>color</th><th scope=col>clarity</th><th scope=col>depth</th><th scope=col>table</th><th scope=col>price</th><th scope=col>x</th><th scope=col>y</th><th scope=col>z</th></tr>\n",
       "\t<tr><th scope=col>&lt;dbl&gt;</th><th scope=col>&lt;ord&gt;</th><th scope=col>&lt;ord&gt;</th><th scope=col>&lt;ord&gt;</th><th scope=col>&lt;dbl&gt;</th><th scope=col>&lt;dbl&gt;</th><th scope=col>&lt;int&gt;</th><th scope=col>&lt;dbl&gt;</th><th scope=col>&lt;dbl&gt;</th><th scope=col>&lt;dbl&gt;</th></tr>\n",
       "</thead>\n",
       "<tbody>\n",
       "\t<tr><td>0.23</td><td>Ideal</td><td>E</td><td>SI2</td><td>61.5</td><td>55</td><td>326</td><td>3.95</td><td>3.98</td><td>2.43</td></tr>\n",
       "\t<tr><td>0.23</td><td>Ideal</td><td>J</td><td>VS1</td><td>62.8</td><td>56</td><td>340</td><td>3.93</td><td>3.90</td><td>2.46</td></tr>\n",
       "\t<tr><td>0.31</td><td>Ideal</td><td>J</td><td>SI2</td><td>62.2</td><td>54</td><td>344</td><td>4.35</td><td>4.37</td><td>2.71</td></tr>\n",
       "\t<tr><td>0.30</td><td>Ideal</td><td>I</td><td>SI2</td><td>62.0</td><td>54</td><td>348</td><td>4.31</td><td>4.34</td><td>2.68</td></tr>\n",
       "\t<tr><td>0.33</td><td>Ideal</td><td>I</td><td>SI2</td><td>61.8</td><td>55</td><td>403</td><td>4.49</td><td>4.51</td><td>2.78</td></tr>\n",
       "\t<tr><td>0.33</td><td>Ideal</td><td>I</td><td>SI2</td><td>61.2</td><td>56</td><td>403</td><td>4.49</td><td>4.50</td><td>2.75</td></tr>\n",
       "</tbody>\n",
       "</table>\n"
      ],
      "text/latex": [
       "A tibble: 6 × 10\n",
       "\\begin{tabular}{llllllllll}\n",
       " carat & cut & color & clarity & depth & table & price & x & y & z\\\\\n",
       " <dbl> & <ord> & <ord> & <ord> & <dbl> & <dbl> & <int> & <dbl> & <dbl> & <dbl>\\\\\n",
       "\\hline\n",
       "\t 0.23 & Ideal & E & SI2 & 61.5 & 55 & 326 & 3.95 & 3.98 & 2.43\\\\\n",
       "\t 0.23 & Ideal & J & VS1 & 62.8 & 56 & 340 & 3.93 & 3.90 & 2.46\\\\\n",
       "\t 0.31 & Ideal & J & SI2 & 62.2 & 54 & 344 & 4.35 & 4.37 & 2.71\\\\\n",
       "\t 0.30 & Ideal & I & SI2 & 62.0 & 54 & 348 & 4.31 & 4.34 & 2.68\\\\\n",
       "\t 0.33 & Ideal & I & SI2 & 61.8 & 55 & 403 & 4.49 & 4.51 & 2.78\\\\\n",
       "\t 0.33 & Ideal & I & SI2 & 61.2 & 56 & 403 & 4.49 & 4.50 & 2.75\\\\\n",
       "\\end{tabular}\n"
      ],
      "text/markdown": [
       "\n",
       "A tibble: 6 × 10\n",
       "\n",
       "| carat &lt;dbl&gt; | cut &lt;ord&gt; | color &lt;ord&gt; | clarity &lt;ord&gt; | depth &lt;dbl&gt; | table &lt;dbl&gt; | price &lt;int&gt; | x &lt;dbl&gt; | y &lt;dbl&gt; | z &lt;dbl&gt; |\n",
       "|---|---|---|---|---|---|---|---|---|---|\n",
       "| 0.23 | Ideal | E | SI2 | 61.5 | 55 | 326 | 3.95 | 3.98 | 2.43 |\n",
       "| 0.23 | Ideal | J | VS1 | 62.8 | 56 | 340 | 3.93 | 3.90 | 2.46 |\n",
       "| 0.31 | Ideal | J | SI2 | 62.2 | 54 | 344 | 4.35 | 4.37 | 2.71 |\n",
       "| 0.30 | Ideal | I | SI2 | 62.0 | 54 | 348 | 4.31 | 4.34 | 2.68 |\n",
       "| 0.33 | Ideal | I | SI2 | 61.8 | 55 | 403 | 4.49 | 4.51 | 2.78 |\n",
       "| 0.33 | Ideal | I | SI2 | 61.2 | 56 | 403 | 4.49 | 4.50 | 2.75 |\n",
       "\n"
      ],
      "text/plain": [
       "  carat cut   color clarity depth table price x    y    z   \n",
       "1 0.23  Ideal E     SI2     61.5  55    326   3.95 3.98 2.43\n",
       "2 0.23  Ideal J     VS1     62.8  56    340   3.93 3.90 2.46\n",
       "3 0.31  Ideal J     SI2     62.2  54    344   4.35 4.37 2.71\n",
       "4 0.30  Ideal I     SI2     62.0  54    348   4.31 4.34 2.68\n",
       "5 0.33  Ideal I     SI2     61.8  55    403   4.49 4.51 2.78\n",
       "6 0.33  Ideal I     SI2     61.2  56    403   4.49 4.50 2.75"
      ]
     },
     "metadata": {},
     "output_type": "display_data"
    },
    {
     "data": {
      "text/html": [
       "<table class=\"dataframe\">\n",
       "<caption>A tibble: 6 × 10</caption>\n",
       "<thead>\n",
       "\t<tr><th scope=col>carat</th><th scope=col>cut</th><th scope=col>color</th><th scope=col>clarity</th><th scope=col>depth</th><th scope=col>table</th><th scope=col>price</th><th scope=col>x</th><th scope=col>y</th><th scope=col>z</th></tr>\n",
       "\t<tr><th scope=col>&lt;dbl&gt;</th><th scope=col>&lt;ord&gt;</th><th scope=col>&lt;ord&gt;</th><th scope=col>&lt;ord&gt;</th><th scope=col>&lt;dbl&gt;</th><th scope=col>&lt;dbl&gt;</th><th scope=col>&lt;int&gt;</th><th scope=col>&lt;dbl&gt;</th><th scope=col>&lt;dbl&gt;</th><th scope=col>&lt;dbl&gt;</th></tr>\n",
       "</thead>\n",
       "<tbody>\n",
       "\t<tr><td>0.23</td><td>Ideal</td><td>E</td><td>SI2</td><td>61.5</td><td>55</td><td>326</td><td>3.95</td><td>3.98</td><td>2.43</td></tr>\n",
       "\t<tr><td>0.23</td><td>Ideal</td><td>J</td><td>VS1</td><td>62.8</td><td>56</td><td>340</td><td>3.93</td><td>3.90</td><td>2.46</td></tr>\n",
       "\t<tr><td>0.31</td><td>Ideal</td><td>J</td><td>SI2</td><td>62.2</td><td>54</td><td>344</td><td>4.35</td><td>4.37</td><td>2.71</td></tr>\n",
       "\t<tr><td>0.30</td><td>Ideal</td><td>I</td><td>SI2</td><td>62.0</td><td>54</td><td>348</td><td>4.31</td><td>4.34</td><td>2.68</td></tr>\n",
       "\t<tr><td>0.33</td><td>Ideal</td><td>I</td><td>SI2</td><td>61.8</td><td>55</td><td>403</td><td>4.49</td><td>4.51</td><td>2.78</td></tr>\n",
       "\t<tr><td>0.33</td><td>Ideal</td><td>I</td><td>SI2</td><td>61.2</td><td>56</td><td>403</td><td>4.49</td><td>4.50</td><td>2.75</td></tr>\n",
       "</tbody>\n",
       "</table>\n"
      ],
      "text/latex": [
       "A tibble: 6 × 10\n",
       "\\begin{tabular}{llllllllll}\n",
       " carat & cut & color & clarity & depth & table & price & x & y & z\\\\\n",
       " <dbl> & <ord> & <ord> & <ord> & <dbl> & <dbl> & <int> & <dbl> & <dbl> & <dbl>\\\\\n",
       "\\hline\n",
       "\t 0.23 & Ideal & E & SI2 & 61.5 & 55 & 326 & 3.95 & 3.98 & 2.43\\\\\n",
       "\t 0.23 & Ideal & J & VS1 & 62.8 & 56 & 340 & 3.93 & 3.90 & 2.46\\\\\n",
       "\t 0.31 & Ideal & J & SI2 & 62.2 & 54 & 344 & 4.35 & 4.37 & 2.71\\\\\n",
       "\t 0.30 & Ideal & I & SI2 & 62.0 & 54 & 348 & 4.31 & 4.34 & 2.68\\\\\n",
       "\t 0.33 & Ideal & I & SI2 & 61.8 & 55 & 403 & 4.49 & 4.51 & 2.78\\\\\n",
       "\t 0.33 & Ideal & I & SI2 & 61.2 & 56 & 403 & 4.49 & 4.50 & 2.75\\\\\n",
       "\\end{tabular}\n"
      ],
      "text/markdown": [
       "\n",
       "A tibble: 6 × 10\n",
       "\n",
       "| carat &lt;dbl&gt; | cut &lt;ord&gt; | color &lt;ord&gt; | clarity &lt;ord&gt; | depth &lt;dbl&gt; | table &lt;dbl&gt; | price &lt;int&gt; | x &lt;dbl&gt; | y &lt;dbl&gt; | z &lt;dbl&gt; |\n",
       "|---|---|---|---|---|---|---|---|---|---|\n",
       "| 0.23 | Ideal | E | SI2 | 61.5 | 55 | 326 | 3.95 | 3.98 | 2.43 |\n",
       "| 0.23 | Ideal | J | VS1 | 62.8 | 56 | 340 | 3.93 | 3.90 | 2.46 |\n",
       "| 0.31 | Ideal | J | SI2 | 62.2 | 54 | 344 | 4.35 | 4.37 | 2.71 |\n",
       "| 0.30 | Ideal | I | SI2 | 62.0 | 54 | 348 | 4.31 | 4.34 | 2.68 |\n",
       "| 0.33 | Ideal | I | SI2 | 61.8 | 55 | 403 | 4.49 | 4.51 | 2.78 |\n",
       "| 0.33 | Ideal | I | SI2 | 61.2 | 56 | 403 | 4.49 | 4.50 | 2.75 |\n",
       "\n"
      ],
      "text/plain": [
       "  carat cut   color clarity depth table price x    y    z   \n",
       "1 0.23  Ideal E     SI2     61.5  55    326   3.95 3.98 2.43\n",
       "2 0.23  Ideal J     VS1     62.8  56    340   3.93 3.90 2.46\n",
       "3 0.31  Ideal J     SI2     62.2  54    344   4.35 4.37 2.71\n",
       "4 0.30  Ideal I     SI2     62.0  54    348   4.31 4.34 2.68\n",
       "5 0.33  Ideal I     SI2     61.8  55    403   4.49 4.51 2.78\n",
       "6 0.33  Ideal I     SI2     61.2  56    403   4.49 4.50 2.75"
      ]
     },
     "metadata": {},
     "output_type": "display_data"
    },
    {
     "data": {
      "text/html": [
       "<table class=\"dataframe\">\n",
       "<caption>A tibble: 6 × 10</caption>\n",
       "<thead>\n",
       "\t<tr><th scope=col>carat</th><th scope=col>cut</th><th scope=col>color</th><th scope=col>clarity</th><th scope=col>depth</th><th scope=col>table</th><th scope=col>price</th><th scope=col>x</th><th scope=col>y</th><th scope=col>z</th></tr>\n",
       "\t<tr><th scope=col>&lt;dbl&gt;</th><th scope=col>&lt;ord&gt;</th><th scope=col>&lt;ord&gt;</th><th scope=col>&lt;ord&gt;</th><th scope=col>&lt;dbl&gt;</th><th scope=col>&lt;dbl&gt;</th><th scope=col>&lt;int&gt;</th><th scope=col>&lt;dbl&gt;</th><th scope=col>&lt;dbl&gt;</th><th scope=col>&lt;dbl&gt;</th></tr>\n",
       "</thead>\n",
       "<tbody>\n",
       "\t<tr><td>0.23</td><td>Ideal</td><td>E</td><td>SI2</td><td>61.5</td><td>55</td><td>326</td><td>3.95</td><td>3.98</td><td>2.43</td></tr>\n",
       "\t<tr><td>0.23</td><td>Ideal</td><td>J</td><td>VS1</td><td>62.8</td><td>56</td><td>340</td><td>3.93</td><td>3.90</td><td>2.46</td></tr>\n",
       "\t<tr><td>0.31</td><td>Ideal</td><td>J</td><td>SI2</td><td>62.2</td><td>54</td><td>344</td><td>4.35</td><td>4.37</td><td>2.71</td></tr>\n",
       "\t<tr><td>0.30</td><td>Ideal</td><td>I</td><td>SI2</td><td>62.0</td><td>54</td><td>348</td><td>4.31</td><td>4.34</td><td>2.68</td></tr>\n",
       "\t<tr><td>0.33</td><td>Ideal</td><td>I</td><td>SI2</td><td>61.8</td><td>55</td><td>403</td><td>4.49</td><td>4.51</td><td>2.78</td></tr>\n",
       "\t<tr><td>0.33</td><td>Ideal</td><td>I</td><td>SI2</td><td>61.2</td><td>56</td><td>403</td><td>4.49</td><td>4.50</td><td>2.75</td></tr>\n",
       "</tbody>\n",
       "</table>\n"
      ],
      "text/latex": [
       "A tibble: 6 × 10\n",
       "\\begin{tabular}{llllllllll}\n",
       " carat & cut & color & clarity & depth & table & price & x & y & z\\\\\n",
       " <dbl> & <ord> & <ord> & <ord> & <dbl> & <dbl> & <int> & <dbl> & <dbl> & <dbl>\\\\\n",
       "\\hline\n",
       "\t 0.23 & Ideal & E & SI2 & 61.5 & 55 & 326 & 3.95 & 3.98 & 2.43\\\\\n",
       "\t 0.23 & Ideal & J & VS1 & 62.8 & 56 & 340 & 3.93 & 3.90 & 2.46\\\\\n",
       "\t 0.31 & Ideal & J & SI2 & 62.2 & 54 & 344 & 4.35 & 4.37 & 2.71\\\\\n",
       "\t 0.30 & Ideal & I & SI2 & 62.0 & 54 & 348 & 4.31 & 4.34 & 2.68\\\\\n",
       "\t 0.33 & Ideal & I & SI2 & 61.8 & 55 & 403 & 4.49 & 4.51 & 2.78\\\\\n",
       "\t 0.33 & Ideal & I & SI2 & 61.2 & 56 & 403 & 4.49 & 4.50 & 2.75\\\\\n",
       "\\end{tabular}\n"
      ],
      "text/markdown": [
       "\n",
       "A tibble: 6 × 10\n",
       "\n",
       "| carat &lt;dbl&gt; | cut &lt;ord&gt; | color &lt;ord&gt; | clarity &lt;ord&gt; | depth &lt;dbl&gt; | table &lt;dbl&gt; | price &lt;int&gt; | x &lt;dbl&gt; | y &lt;dbl&gt; | z &lt;dbl&gt; |\n",
       "|---|---|---|---|---|---|---|---|---|---|\n",
       "| 0.23 | Ideal | E | SI2 | 61.5 | 55 | 326 | 3.95 | 3.98 | 2.43 |\n",
       "| 0.23 | Ideal | J | VS1 | 62.8 | 56 | 340 | 3.93 | 3.90 | 2.46 |\n",
       "| 0.31 | Ideal | J | SI2 | 62.2 | 54 | 344 | 4.35 | 4.37 | 2.71 |\n",
       "| 0.30 | Ideal | I | SI2 | 62.0 | 54 | 348 | 4.31 | 4.34 | 2.68 |\n",
       "| 0.33 | Ideal | I | SI2 | 61.8 | 55 | 403 | 4.49 | 4.51 | 2.78 |\n",
       "| 0.33 | Ideal | I | SI2 | 61.2 | 56 | 403 | 4.49 | 4.50 | 2.75 |\n",
       "\n"
      ],
      "text/plain": [
       "  carat cut   color clarity depth table price x    y    z   \n",
       "1 0.23  Ideal E     SI2     61.5  55    326   3.95 3.98 2.43\n",
       "2 0.23  Ideal J     VS1     62.8  56    340   3.93 3.90 2.46\n",
       "3 0.31  Ideal J     SI2     62.2  54    344   4.35 4.37 2.71\n",
       "4 0.30  Ideal I     SI2     62.0  54    348   4.31 4.34 2.68\n",
       "5 0.33  Ideal I     SI2     61.8  55    403   4.49 4.51 2.78\n",
       "6 0.33  Ideal I     SI2     61.2  56    403   4.49 4.50 2.75"
      ]
     },
     "metadata": {},
     "output_type": "display_data"
    }
   ],
   "source": [
    "# cut 변수 값 중 'Ideal' 인 데이터 조회\n",
    "\n",
    "head(diamonds[diamonds$cut == 'Ideal',])\n",
    "\n",
    "diamonds %>% filter(cut == 'Ideal') %>% head()\n",
    "\n",
    "head(filter(diamonds, cut == 'Ideal'))"
   ]
  },
  {
   "cell_type": "code",
   "execution_count": 100,
   "id": "fdcfe9b3-ac85-48d2-b0a6-fbb648d26e74",
   "metadata": {},
   "outputs": [
    {
     "data": {
      "text/html": [
       "<table class=\"dataframe\">\n",
       "<caption>A tibble: 6 × 10</caption>\n",
       "<thead>\n",
       "\t<tr><th scope=col>carat</th><th scope=col>cut</th><th scope=col>color</th><th scope=col>clarity</th><th scope=col>depth</th><th scope=col>table</th><th scope=col>price</th><th scope=col>x</th><th scope=col>y</th><th scope=col>z</th></tr>\n",
       "\t<tr><th scope=col>&lt;dbl&gt;</th><th scope=col>&lt;ord&gt;</th><th scope=col>&lt;ord&gt;</th><th scope=col>&lt;ord&gt;</th><th scope=col>&lt;dbl&gt;</th><th scope=col>&lt;dbl&gt;</th><th scope=col>&lt;int&gt;</th><th scope=col>&lt;dbl&gt;</th><th scope=col>&lt;dbl&gt;</th><th scope=col>&lt;dbl&gt;</th></tr>\n",
       "</thead>\n",
       "<tbody>\n",
       "\t<tr><td>0.70</td><td>Ideal    </td><td>E</td><td>SI1</td><td>62.5</td><td>57</td><td>2757</td><td>5.70</td><td>5.72</td><td>3.57</td></tr>\n",
       "\t<tr><td>0.86</td><td>Fair     </td><td>E</td><td>SI2</td><td>55.1</td><td>69</td><td>2757</td><td>6.45</td><td>6.33</td><td>3.52</td></tr>\n",
       "\t<tr><td>0.70</td><td>Ideal    </td><td>G</td><td>VS2</td><td>61.6</td><td>56</td><td>2757</td><td>5.70</td><td>5.67</td><td>3.50</td></tr>\n",
       "\t<tr><td>0.71</td><td>Very Good</td><td>E</td><td>VS2</td><td>62.4</td><td>57</td><td>2759</td><td>5.68</td><td>5.73</td><td>3.56</td></tr>\n",
       "\t<tr><td>0.78</td><td>Very Good</td><td>G</td><td>SI2</td><td>63.8</td><td>56</td><td>2759</td><td>5.81</td><td>5.85</td><td>3.72</td></tr>\n",
       "\t<tr><td>0.70</td><td>Good     </td><td>E</td><td>VS2</td><td>57.5</td><td>58</td><td>2759</td><td>5.85</td><td>5.90</td><td>3.38</td></tr>\n",
       "</tbody>\n",
       "</table>\n"
      ],
      "text/latex": [
       "A tibble: 6 × 10\n",
       "\\begin{tabular}{llllllllll}\n",
       " carat & cut & color & clarity & depth & table & price & x & y & z\\\\\n",
       " <dbl> & <ord> & <ord> & <ord> & <dbl> & <dbl> & <int> & <dbl> & <dbl> & <dbl>\\\\\n",
       "\\hline\n",
       "\t 0.70 & Ideal     & E & SI1 & 62.5 & 57 & 2757 & 5.70 & 5.72 & 3.57\\\\\n",
       "\t 0.86 & Fair      & E & SI2 & 55.1 & 69 & 2757 & 6.45 & 6.33 & 3.52\\\\\n",
       "\t 0.70 & Ideal     & G & VS2 & 61.6 & 56 & 2757 & 5.70 & 5.67 & 3.50\\\\\n",
       "\t 0.71 & Very Good & E & VS2 & 62.4 & 57 & 2759 & 5.68 & 5.73 & 3.56\\\\\n",
       "\t 0.78 & Very Good & G & SI2 & 63.8 & 56 & 2759 & 5.81 & 5.85 & 3.72\\\\\n",
       "\t 0.70 & Good      & E & VS2 & 57.5 & 58 & 2759 & 5.85 & 5.90 & 3.38\\\\\n",
       "\\end{tabular}\n"
      ],
      "text/markdown": [
       "\n",
       "A tibble: 6 × 10\n",
       "\n",
       "| carat &lt;dbl&gt; | cut &lt;ord&gt; | color &lt;ord&gt; | clarity &lt;ord&gt; | depth &lt;dbl&gt; | table &lt;dbl&gt; | price &lt;int&gt; | x &lt;dbl&gt; | y &lt;dbl&gt; | z &lt;dbl&gt; |\n",
       "|---|---|---|---|---|---|---|---|---|---|\n",
       "| 0.70 | Ideal     | E | SI1 | 62.5 | 57 | 2757 | 5.70 | 5.72 | 3.57 |\n",
       "| 0.86 | Fair      | E | SI2 | 55.1 | 69 | 2757 | 6.45 | 6.33 | 3.52 |\n",
       "| 0.70 | Ideal     | G | VS2 | 61.6 | 56 | 2757 | 5.70 | 5.67 | 3.50 |\n",
       "| 0.71 | Very Good | E | VS2 | 62.4 | 57 | 2759 | 5.68 | 5.73 | 3.56 |\n",
       "| 0.78 | Very Good | G | SI2 | 63.8 | 56 | 2759 | 5.81 | 5.85 | 3.72 |\n",
       "| 0.70 | Good      | E | VS2 | 57.5 | 58 | 2759 | 5.85 | 5.90 | 3.38 |\n",
       "\n"
      ],
      "text/plain": [
       "  carat cut       color clarity depth table price x    y    z   \n",
       "1 0.70  Ideal     E     SI1     62.5  57    2757  5.70 5.72 3.57\n",
       "2 0.86  Fair      E     SI2     55.1  69    2757  6.45 6.33 3.52\n",
       "3 0.70  Ideal     G     VS2     61.6  56    2757  5.70 5.67 3.50\n",
       "4 0.71  Very Good E     VS2     62.4  57    2759  5.68 5.73 3.56\n",
       "5 0.78  Very Good G     SI2     63.8  56    2759  5.81 5.85 3.72\n",
       "6 0.70  Good      E     VS2     57.5  58    2759  5.85 5.90 3.38"
      ]
     },
     "metadata": {},
     "output_type": "display_data"
    },
    {
     "data": {
      "text/html": [
       "<table class=\"dataframe\">\n",
       "<caption>A tibble: 6 × 10</caption>\n",
       "<thead>\n",
       "\t<tr><th scope=col>carat</th><th scope=col>cut</th><th scope=col>color</th><th scope=col>clarity</th><th scope=col>depth</th><th scope=col>table</th><th scope=col>price</th><th scope=col>x</th><th scope=col>y</th><th scope=col>z</th></tr>\n",
       "\t<tr><th scope=col>&lt;dbl&gt;</th><th scope=col>&lt;ord&gt;</th><th scope=col>&lt;ord&gt;</th><th scope=col>&lt;ord&gt;</th><th scope=col>&lt;dbl&gt;</th><th scope=col>&lt;dbl&gt;</th><th scope=col>&lt;int&gt;</th><th scope=col>&lt;dbl&gt;</th><th scope=col>&lt;dbl&gt;</th><th scope=col>&lt;dbl&gt;</th></tr>\n",
       "</thead>\n",
       "<tbody>\n",
       "\t<tr><td>0.70</td><td>Ideal    </td><td>E</td><td>SI1</td><td>62.5</td><td>57</td><td>2757</td><td>5.70</td><td>5.72</td><td>3.57</td></tr>\n",
       "\t<tr><td>0.86</td><td>Fair     </td><td>E</td><td>SI2</td><td>55.1</td><td>69</td><td>2757</td><td>6.45</td><td>6.33</td><td>3.52</td></tr>\n",
       "\t<tr><td>0.70</td><td>Ideal    </td><td>G</td><td>VS2</td><td>61.6</td><td>56</td><td>2757</td><td>5.70</td><td>5.67</td><td>3.50</td></tr>\n",
       "\t<tr><td>0.71</td><td>Very Good</td><td>E</td><td>VS2</td><td>62.4</td><td>57</td><td>2759</td><td>5.68</td><td>5.73</td><td>3.56</td></tr>\n",
       "\t<tr><td>0.78</td><td>Very Good</td><td>G</td><td>SI2</td><td>63.8</td><td>56</td><td>2759</td><td>5.81</td><td>5.85</td><td>3.72</td></tr>\n",
       "\t<tr><td>0.70</td><td>Good     </td><td>E</td><td>VS2</td><td>57.5</td><td>58</td><td>2759</td><td>5.85</td><td>5.90</td><td>3.38</td></tr>\n",
       "</tbody>\n",
       "</table>\n"
      ],
      "text/latex": [
       "A tibble: 6 × 10\n",
       "\\begin{tabular}{llllllllll}\n",
       " carat & cut & color & clarity & depth & table & price & x & y & z\\\\\n",
       " <dbl> & <ord> & <ord> & <ord> & <dbl> & <dbl> & <int> & <dbl> & <dbl> & <dbl>\\\\\n",
       "\\hline\n",
       "\t 0.70 & Ideal     & E & SI1 & 62.5 & 57 & 2757 & 5.70 & 5.72 & 3.57\\\\\n",
       "\t 0.86 & Fair      & E & SI2 & 55.1 & 69 & 2757 & 6.45 & 6.33 & 3.52\\\\\n",
       "\t 0.70 & Ideal     & G & VS2 & 61.6 & 56 & 2757 & 5.70 & 5.67 & 3.50\\\\\n",
       "\t 0.71 & Very Good & E & VS2 & 62.4 & 57 & 2759 & 5.68 & 5.73 & 3.56\\\\\n",
       "\t 0.78 & Very Good & G & SI2 & 63.8 & 56 & 2759 & 5.81 & 5.85 & 3.72\\\\\n",
       "\t 0.70 & Good      & E & VS2 & 57.5 & 58 & 2759 & 5.85 & 5.90 & 3.38\\\\\n",
       "\\end{tabular}\n"
      ],
      "text/markdown": [
       "\n",
       "A tibble: 6 × 10\n",
       "\n",
       "| carat &lt;dbl&gt; | cut &lt;ord&gt; | color &lt;ord&gt; | clarity &lt;ord&gt; | depth &lt;dbl&gt; | table &lt;dbl&gt; | price &lt;int&gt; | x &lt;dbl&gt; | y &lt;dbl&gt; | z &lt;dbl&gt; |\n",
       "|---|---|---|---|---|---|---|---|---|---|\n",
       "| 0.70 | Ideal     | E | SI1 | 62.5 | 57 | 2757 | 5.70 | 5.72 | 3.57 |\n",
       "| 0.86 | Fair      | E | SI2 | 55.1 | 69 | 2757 | 6.45 | 6.33 | 3.52 |\n",
       "| 0.70 | Ideal     | G | VS2 | 61.6 | 56 | 2757 | 5.70 | 5.67 | 3.50 |\n",
       "| 0.71 | Very Good | E | VS2 | 62.4 | 57 | 2759 | 5.68 | 5.73 | 3.56 |\n",
       "| 0.78 | Very Good | G | SI2 | 63.8 | 56 | 2759 | 5.81 | 5.85 | 3.72 |\n",
       "| 0.70 | Good      | E | VS2 | 57.5 | 58 | 2759 | 5.85 | 5.90 | 3.38 |\n",
       "\n"
      ],
      "text/plain": [
       "  carat cut       color clarity depth table price x    y    z   \n",
       "1 0.70  Ideal     E     SI1     62.5  57    2757  5.70 5.72 3.57\n",
       "2 0.86  Fair      E     SI2     55.1  69    2757  6.45 6.33 3.52\n",
       "3 0.70  Ideal     G     VS2     61.6  56    2757  5.70 5.67 3.50\n",
       "4 0.71  Very Good E     VS2     62.4  57    2759  5.68 5.73 3.56\n",
       "5 0.78  Very Good G     SI2     63.8  56    2759  5.81 5.85 3.72\n",
       "6 0.70  Good      E     VS2     57.5  58    2759  5.85 5.90 3.38"
      ]
     },
     "metadata": {},
     "output_type": "display_data"
    },
    {
     "data": {
      "text/html": [
       "<table class=\"dataframe\">\n",
       "<caption>A tibble: 6 × 10</caption>\n",
       "<thead>\n",
       "\t<tr><th scope=col>carat</th><th scope=col>cut</th><th scope=col>color</th><th scope=col>clarity</th><th scope=col>depth</th><th scope=col>table</th><th scope=col>price</th><th scope=col>x</th><th scope=col>y</th><th scope=col>z</th></tr>\n",
       "\t<tr><th scope=col>&lt;dbl&gt;</th><th scope=col>&lt;ord&gt;</th><th scope=col>&lt;ord&gt;</th><th scope=col>&lt;ord&gt;</th><th scope=col>&lt;dbl&gt;</th><th scope=col>&lt;dbl&gt;</th><th scope=col>&lt;int&gt;</th><th scope=col>&lt;dbl&gt;</th><th scope=col>&lt;dbl&gt;</th><th scope=col>&lt;dbl&gt;</th></tr>\n",
       "</thead>\n",
       "<tbody>\n",
       "\t<tr><td>0.70</td><td>Ideal    </td><td>E</td><td>SI1</td><td>62.5</td><td>57</td><td>2757</td><td>5.70</td><td>5.72</td><td>3.57</td></tr>\n",
       "\t<tr><td>0.86</td><td>Fair     </td><td>E</td><td>SI2</td><td>55.1</td><td>69</td><td>2757</td><td>6.45</td><td>6.33</td><td>3.52</td></tr>\n",
       "\t<tr><td>0.70</td><td>Ideal    </td><td>G</td><td>VS2</td><td>61.6</td><td>56</td><td>2757</td><td>5.70</td><td>5.67</td><td>3.50</td></tr>\n",
       "\t<tr><td>0.71</td><td>Very Good</td><td>E</td><td>VS2</td><td>62.4</td><td>57</td><td>2759</td><td>5.68</td><td>5.73</td><td>3.56</td></tr>\n",
       "\t<tr><td>0.78</td><td>Very Good</td><td>G</td><td>SI2</td><td>63.8</td><td>56</td><td>2759</td><td>5.81</td><td>5.85</td><td>3.72</td></tr>\n",
       "\t<tr><td>0.70</td><td>Good     </td><td>E</td><td>VS2</td><td>57.5</td><td>58</td><td>2759</td><td>5.85</td><td>5.90</td><td>3.38</td></tr>\n",
       "</tbody>\n",
       "</table>\n"
      ],
      "text/latex": [
       "A tibble: 6 × 10\n",
       "\\begin{tabular}{llllllllll}\n",
       " carat & cut & color & clarity & depth & table & price & x & y & z\\\\\n",
       " <dbl> & <ord> & <ord> & <ord> & <dbl> & <dbl> & <int> & <dbl> & <dbl> & <dbl>\\\\\n",
       "\\hline\n",
       "\t 0.70 & Ideal     & E & SI1 & 62.5 & 57 & 2757 & 5.70 & 5.72 & 3.57\\\\\n",
       "\t 0.86 & Fair      & E & SI2 & 55.1 & 69 & 2757 & 6.45 & 6.33 & 3.52\\\\\n",
       "\t 0.70 & Ideal     & G & VS2 & 61.6 & 56 & 2757 & 5.70 & 5.67 & 3.50\\\\\n",
       "\t 0.71 & Very Good & E & VS2 & 62.4 & 57 & 2759 & 5.68 & 5.73 & 3.56\\\\\n",
       "\t 0.78 & Very Good & G & SI2 & 63.8 & 56 & 2759 & 5.81 & 5.85 & 3.72\\\\\n",
       "\t 0.70 & Good      & E & VS2 & 57.5 & 58 & 2759 & 5.85 & 5.90 & 3.38\\\\\n",
       "\\end{tabular}\n"
      ],
      "text/markdown": [
       "\n",
       "A tibble: 6 × 10\n",
       "\n",
       "| carat &lt;dbl&gt; | cut &lt;ord&gt; | color &lt;ord&gt; | clarity &lt;ord&gt; | depth &lt;dbl&gt; | table &lt;dbl&gt; | price &lt;int&gt; | x &lt;dbl&gt; | y &lt;dbl&gt; | z &lt;dbl&gt; |\n",
       "|---|---|---|---|---|---|---|---|---|---|\n",
       "| 0.70 | Ideal     | E | SI1 | 62.5 | 57 | 2757 | 5.70 | 5.72 | 3.57 |\n",
       "| 0.86 | Fair      | E | SI2 | 55.1 | 69 | 2757 | 6.45 | 6.33 | 3.52 |\n",
       "| 0.70 | Ideal     | G | VS2 | 61.6 | 56 | 2757 | 5.70 | 5.67 | 3.50 |\n",
       "| 0.71 | Very Good | E | VS2 | 62.4 | 57 | 2759 | 5.68 | 5.73 | 3.56 |\n",
       "| 0.78 | Very Good | G | SI2 | 63.8 | 56 | 2759 | 5.81 | 5.85 | 3.72 |\n",
       "| 0.70 | Good      | E | VS2 | 57.5 | 58 | 2759 | 5.85 | 5.90 | 3.38 |\n",
       "\n"
      ],
      "text/plain": [
       "  carat cut       color clarity depth table price x    y    z   \n",
       "1 0.70  Ideal     E     SI1     62.5  57    2757  5.70 5.72 3.57\n",
       "2 0.86  Fair      E     SI2     55.1  69    2757  6.45 6.33 3.52\n",
       "3 0.70  Ideal     G     VS2     61.6  56    2757  5.70 5.67 3.50\n",
       "4 0.71  Very Good E     VS2     62.4  57    2759  5.68 5.73 3.56\n",
       "5 0.78  Very Good G     SI2     63.8  56    2759  5.81 5.85 3.72\n",
       "6 0.70  Good      E     VS2     57.5  58    2759  5.85 5.90 3.38"
      ]
     },
     "metadata": {},
     "output_type": "display_data"
    }
   ],
   "source": [
    "# price 가 1000 이상인 데이터 조회\n",
    "\n",
    "head(diamonds[diamonds$price >= 1000,])\n",
    "\n",
    "diamonds %>% filter(price>= 1000) %>% head()\n",
    "\n",
    "head(filter(diamonds, price >= 1000))"
   ]
  },
  {
   "cell_type": "code",
   "execution_count": 105,
   "id": "8d380a0e-3e41-46d4-8266-48454049c3f3",
   "metadata": {},
   "outputs": [
    {
     "data": {
      "text/html": [
       "<table class=\"dataframe\">\n",
       "<caption>A tibble: 6 × 10</caption>\n",
       "<thead>\n",
       "\t<tr><th scope=col>carat</th><th scope=col>cut</th><th scope=col>color</th><th scope=col>clarity</th><th scope=col>depth</th><th scope=col>table</th><th scope=col>price</th><th scope=col>x</th><th scope=col>y</th><th scope=col>z</th></tr>\n",
       "\t<tr><th scope=col>&lt;dbl&gt;</th><th scope=col>&lt;ord&gt;</th><th scope=col>&lt;ord&gt;</th><th scope=col>&lt;ord&gt;</th><th scope=col>&lt;dbl&gt;</th><th scope=col>&lt;dbl&gt;</th><th scope=col>&lt;int&gt;</th><th scope=col>&lt;dbl&gt;</th><th scope=col>&lt;dbl&gt;</th><th scope=col>&lt;dbl&gt;</th></tr>\n",
       "</thead>\n",
       "<tbody>\n",
       "\t<tr><td>2.00</td><td>Premium</td><td>J</td><td>I1</td><td>61.5</td><td>59</td><td>5051</td><td>8.11</td><td>8.06</td><td>4.97</td></tr>\n",
       "\t<tr><td>2.06</td><td>Premium</td><td>J</td><td>I1</td><td>61.2</td><td>58</td><td>5203</td><td>8.10</td><td>8.07</td><td>4.95</td></tr>\n",
       "\t<tr><td>2.14</td><td>Fair   </td><td>J</td><td>I1</td><td>69.4</td><td>57</td><td>5405</td><td>7.74</td><td>7.70</td><td>5.36</td></tr>\n",
       "\t<tr><td>2.15</td><td>Fair   </td><td>J</td><td>I1</td><td>65.5</td><td>57</td><td>5430</td><td>8.01</td><td>7.95</td><td>5.23</td></tr>\n",
       "\t<tr><td>2.22</td><td>Fair   </td><td>J</td><td>I1</td><td>66.7</td><td>56</td><td>5607</td><td>8.04</td><td>8.02</td><td>5.36</td></tr>\n",
       "\t<tr><td>2.00</td><td>Fair   </td><td>I</td><td>I1</td><td>66.0</td><td>60</td><td>5667</td><td>7.78</td><td>7.74</td><td>5.10</td></tr>\n",
       "</tbody>\n",
       "</table>\n"
      ],
      "text/latex": [
       "A tibble: 6 × 10\n",
       "\\begin{tabular}{llllllllll}\n",
       " carat & cut & color & clarity & depth & table & price & x & y & z\\\\\n",
       " <dbl> & <ord> & <ord> & <ord> & <dbl> & <dbl> & <int> & <dbl> & <dbl> & <dbl>\\\\\n",
       "\\hline\n",
       "\t 2.00 & Premium & J & I1 & 61.5 & 59 & 5051 & 8.11 & 8.06 & 4.97\\\\\n",
       "\t 2.06 & Premium & J & I1 & 61.2 & 58 & 5203 & 8.10 & 8.07 & 4.95\\\\\n",
       "\t 2.14 & Fair    & J & I1 & 69.4 & 57 & 5405 & 7.74 & 7.70 & 5.36\\\\\n",
       "\t 2.15 & Fair    & J & I1 & 65.5 & 57 & 5430 & 8.01 & 7.95 & 5.23\\\\\n",
       "\t 2.22 & Fair    & J & I1 & 66.7 & 56 & 5607 & 8.04 & 8.02 & 5.36\\\\\n",
       "\t 2.00 & Fair    & I & I1 & 66.0 & 60 & 5667 & 7.78 & 7.74 & 5.10\\\\\n",
       "\\end{tabular}\n"
      ],
      "text/markdown": [
       "\n",
       "A tibble: 6 × 10\n",
       "\n",
       "| carat &lt;dbl&gt; | cut &lt;ord&gt; | color &lt;ord&gt; | clarity &lt;ord&gt; | depth &lt;dbl&gt; | table &lt;dbl&gt; | price &lt;int&gt; | x &lt;dbl&gt; | y &lt;dbl&gt; | z &lt;dbl&gt; |\n",
       "|---|---|---|---|---|---|---|---|---|---|\n",
       "| 2.00 | Premium | J | I1 | 61.5 | 59 | 5051 | 8.11 | 8.06 | 4.97 |\n",
       "| 2.06 | Premium | J | I1 | 61.2 | 58 | 5203 | 8.10 | 8.07 | 4.95 |\n",
       "| 2.14 | Fair    | J | I1 | 69.4 | 57 | 5405 | 7.74 | 7.70 | 5.36 |\n",
       "| 2.15 | Fair    | J | I1 | 65.5 | 57 | 5430 | 8.01 | 7.95 | 5.23 |\n",
       "| 2.22 | Fair    | J | I1 | 66.7 | 56 | 5607 | 8.04 | 8.02 | 5.36 |\n",
       "| 2.00 | Fair    | I | I1 | 66.0 | 60 | 5667 | 7.78 | 7.74 | 5.10 |\n",
       "\n"
      ],
      "text/plain": [
       "  carat cut     color clarity depth table price x    y    z   \n",
       "1 2.00  Premium J     I1      61.5  59    5051  8.11 8.06 4.97\n",
       "2 2.06  Premium J     I1      61.2  58    5203  8.10 8.07 4.95\n",
       "3 2.14  Fair    J     I1      69.4  57    5405  7.74 7.70 5.36\n",
       "4 2.15  Fair    J     I1      65.5  57    5430  8.01 7.95 5.23\n",
       "5 2.22  Fair    J     I1      66.7  56    5607  8.04 8.02 5.36\n",
       "6 2.00  Fair    I     I1      66.0  60    5667  7.78 7.74 5.10"
      ]
     },
     "metadata": {},
     "output_type": "display_data"
    },
    {
     "data": {
      "text/html": [
       "<table class=\"dataframe\">\n",
       "<caption>A tibble: 6 × 10</caption>\n",
       "<thead>\n",
       "\t<tr><th scope=col>carat</th><th scope=col>cut</th><th scope=col>color</th><th scope=col>clarity</th><th scope=col>depth</th><th scope=col>table</th><th scope=col>price</th><th scope=col>x</th><th scope=col>y</th><th scope=col>z</th></tr>\n",
       "\t<tr><th scope=col>&lt;dbl&gt;</th><th scope=col>&lt;ord&gt;</th><th scope=col>&lt;ord&gt;</th><th scope=col>&lt;ord&gt;</th><th scope=col>&lt;dbl&gt;</th><th scope=col>&lt;dbl&gt;</th><th scope=col>&lt;int&gt;</th><th scope=col>&lt;dbl&gt;</th><th scope=col>&lt;dbl&gt;</th><th scope=col>&lt;dbl&gt;</th></tr>\n",
       "</thead>\n",
       "<tbody>\n",
       "\t<tr><td>2.00</td><td>Premium</td><td>J</td><td>I1</td><td>61.5</td><td>59</td><td>5051</td><td>8.11</td><td>8.06</td><td>4.97</td></tr>\n",
       "\t<tr><td>2.06</td><td>Premium</td><td>J</td><td>I1</td><td>61.2</td><td>58</td><td>5203</td><td>8.10</td><td>8.07</td><td>4.95</td></tr>\n",
       "\t<tr><td>2.14</td><td>Fair   </td><td>J</td><td>I1</td><td>69.4</td><td>57</td><td>5405</td><td>7.74</td><td>7.70</td><td>5.36</td></tr>\n",
       "\t<tr><td>2.15</td><td>Fair   </td><td>J</td><td>I1</td><td>65.5</td><td>57</td><td>5430</td><td>8.01</td><td>7.95</td><td>5.23</td></tr>\n",
       "\t<tr><td>2.22</td><td>Fair   </td><td>J</td><td>I1</td><td>66.7</td><td>56</td><td>5607</td><td>8.04</td><td>8.02</td><td>5.36</td></tr>\n",
       "\t<tr><td>2.00</td><td>Fair   </td><td>I</td><td>I1</td><td>66.0</td><td>60</td><td>5667</td><td>7.78</td><td>7.74</td><td>5.10</td></tr>\n",
       "</tbody>\n",
       "</table>\n"
      ],
      "text/latex": [
       "A tibble: 6 × 10\n",
       "\\begin{tabular}{llllllllll}\n",
       " carat & cut & color & clarity & depth & table & price & x & y & z\\\\\n",
       " <dbl> & <ord> & <ord> & <ord> & <dbl> & <dbl> & <int> & <dbl> & <dbl> & <dbl>\\\\\n",
       "\\hline\n",
       "\t 2.00 & Premium & J & I1 & 61.5 & 59 & 5051 & 8.11 & 8.06 & 4.97\\\\\n",
       "\t 2.06 & Premium & J & I1 & 61.2 & 58 & 5203 & 8.10 & 8.07 & 4.95\\\\\n",
       "\t 2.14 & Fair    & J & I1 & 69.4 & 57 & 5405 & 7.74 & 7.70 & 5.36\\\\\n",
       "\t 2.15 & Fair    & J & I1 & 65.5 & 57 & 5430 & 8.01 & 7.95 & 5.23\\\\\n",
       "\t 2.22 & Fair    & J & I1 & 66.7 & 56 & 5607 & 8.04 & 8.02 & 5.36\\\\\n",
       "\t 2.00 & Fair    & I & I1 & 66.0 & 60 & 5667 & 7.78 & 7.74 & 5.10\\\\\n",
       "\\end{tabular}\n"
      ],
      "text/markdown": [
       "\n",
       "A tibble: 6 × 10\n",
       "\n",
       "| carat &lt;dbl&gt; | cut &lt;ord&gt; | color &lt;ord&gt; | clarity &lt;ord&gt; | depth &lt;dbl&gt; | table &lt;dbl&gt; | price &lt;int&gt; | x &lt;dbl&gt; | y &lt;dbl&gt; | z &lt;dbl&gt; |\n",
       "|---|---|---|---|---|---|---|---|---|---|\n",
       "| 2.00 | Premium | J | I1 | 61.5 | 59 | 5051 | 8.11 | 8.06 | 4.97 |\n",
       "| 2.06 | Premium | J | I1 | 61.2 | 58 | 5203 | 8.10 | 8.07 | 4.95 |\n",
       "| 2.14 | Fair    | J | I1 | 69.4 | 57 | 5405 | 7.74 | 7.70 | 5.36 |\n",
       "| 2.15 | Fair    | J | I1 | 65.5 | 57 | 5430 | 8.01 | 7.95 | 5.23 |\n",
       "| 2.22 | Fair    | J | I1 | 66.7 | 56 | 5607 | 8.04 | 8.02 | 5.36 |\n",
       "| 2.00 | Fair    | I | I1 | 66.0 | 60 | 5667 | 7.78 | 7.74 | 5.10 |\n",
       "\n"
      ],
      "text/plain": [
       "  carat cut     color clarity depth table price x    y    z   \n",
       "1 2.00  Premium J     I1      61.5  59    5051  8.11 8.06 4.97\n",
       "2 2.06  Premium J     I1      61.2  58    5203  8.10 8.07 4.95\n",
       "3 2.14  Fair    J     I1      69.4  57    5405  7.74 7.70 5.36\n",
       "4 2.15  Fair    J     I1      65.5  57    5430  8.01 7.95 5.23\n",
       "5 2.22  Fair    J     I1      66.7  56    5607  8.04 8.02 5.36\n",
       "6 2.00  Fair    I     I1      66.0  60    5667  7.78 7.74 5.10"
      ]
     },
     "metadata": {},
     "output_type": "display_data"
    },
    {
     "data": {
      "text/html": [
       "<table class=\"dataframe\">\n",
       "<caption>A tibble: 6 × 10</caption>\n",
       "<thead>\n",
       "\t<tr><th scope=col>carat</th><th scope=col>cut</th><th scope=col>color</th><th scope=col>clarity</th><th scope=col>depth</th><th scope=col>table</th><th scope=col>price</th><th scope=col>x</th><th scope=col>y</th><th scope=col>z</th></tr>\n",
       "\t<tr><th scope=col>&lt;dbl&gt;</th><th scope=col>&lt;ord&gt;</th><th scope=col>&lt;ord&gt;</th><th scope=col>&lt;ord&gt;</th><th scope=col>&lt;dbl&gt;</th><th scope=col>&lt;dbl&gt;</th><th scope=col>&lt;int&gt;</th><th scope=col>&lt;dbl&gt;</th><th scope=col>&lt;dbl&gt;</th><th scope=col>&lt;dbl&gt;</th></tr>\n",
       "</thead>\n",
       "<tbody>\n",
       "\t<tr><td>2.00</td><td>Premium</td><td>J</td><td>I1</td><td>61.5</td><td>59</td><td>5051</td><td>8.11</td><td>8.06</td><td>4.97</td></tr>\n",
       "\t<tr><td>2.06</td><td>Premium</td><td>J</td><td>I1</td><td>61.2</td><td>58</td><td>5203</td><td>8.10</td><td>8.07</td><td>4.95</td></tr>\n",
       "\t<tr><td>2.14</td><td>Fair   </td><td>J</td><td>I1</td><td>69.4</td><td>57</td><td>5405</td><td>7.74</td><td>7.70</td><td>5.36</td></tr>\n",
       "\t<tr><td>2.15</td><td>Fair   </td><td>J</td><td>I1</td><td>65.5</td><td>57</td><td>5430</td><td>8.01</td><td>7.95</td><td>5.23</td></tr>\n",
       "\t<tr><td>2.22</td><td>Fair   </td><td>J</td><td>I1</td><td>66.7</td><td>56</td><td>5607</td><td>8.04</td><td>8.02</td><td>5.36</td></tr>\n",
       "\t<tr><td>2.00</td><td>Fair   </td><td>I</td><td>I1</td><td>66.0</td><td>60</td><td>5667</td><td>7.78</td><td>7.74</td><td>5.10</td></tr>\n",
       "</tbody>\n",
       "</table>\n"
      ],
      "text/latex": [
       "A tibble: 6 × 10\n",
       "\\begin{tabular}{llllllllll}\n",
       " carat & cut & color & clarity & depth & table & price & x & y & z\\\\\n",
       " <dbl> & <ord> & <ord> & <ord> & <dbl> & <dbl> & <int> & <dbl> & <dbl> & <dbl>\\\\\n",
       "\\hline\n",
       "\t 2.00 & Premium & J & I1 & 61.5 & 59 & 5051 & 8.11 & 8.06 & 4.97\\\\\n",
       "\t 2.06 & Premium & J & I1 & 61.2 & 58 & 5203 & 8.10 & 8.07 & 4.95\\\\\n",
       "\t 2.14 & Fair    & J & I1 & 69.4 & 57 & 5405 & 7.74 & 7.70 & 5.36\\\\\n",
       "\t 2.15 & Fair    & J & I1 & 65.5 & 57 & 5430 & 8.01 & 7.95 & 5.23\\\\\n",
       "\t 2.22 & Fair    & J & I1 & 66.7 & 56 & 5607 & 8.04 & 8.02 & 5.36\\\\\n",
       "\t 2.00 & Fair    & I & I1 & 66.0 & 60 & 5667 & 7.78 & 7.74 & 5.10\\\\\n",
       "\\end{tabular}\n"
      ],
      "text/markdown": [
       "\n",
       "A tibble: 6 × 10\n",
       "\n",
       "| carat &lt;dbl&gt; | cut &lt;ord&gt; | color &lt;ord&gt; | clarity &lt;ord&gt; | depth &lt;dbl&gt; | table &lt;dbl&gt; | price &lt;int&gt; | x &lt;dbl&gt; | y &lt;dbl&gt; | z &lt;dbl&gt; |\n",
       "|---|---|---|---|---|---|---|---|---|---|\n",
       "| 2.00 | Premium | J | I1 | 61.5 | 59 | 5051 | 8.11 | 8.06 | 4.97 |\n",
       "| 2.06 | Premium | J | I1 | 61.2 | 58 | 5203 | 8.10 | 8.07 | 4.95 |\n",
       "| 2.14 | Fair    | J | I1 | 69.4 | 57 | 5405 | 7.74 | 7.70 | 5.36 |\n",
       "| 2.15 | Fair    | J | I1 | 65.5 | 57 | 5430 | 8.01 | 7.95 | 5.23 |\n",
       "| 2.22 | Fair    | J | I1 | 66.7 | 56 | 5607 | 8.04 | 8.02 | 5.36 |\n",
       "| 2.00 | Fair    | I | I1 | 66.0 | 60 | 5667 | 7.78 | 7.74 | 5.10 |\n",
       "\n"
      ],
      "text/plain": [
       "  carat cut     color clarity depth table price x    y    z   \n",
       "1 2.00  Premium J     I1      61.5  59    5051  8.11 8.06 4.97\n",
       "2 2.06  Premium J     I1      61.2  58    5203  8.10 8.07 4.95\n",
       "3 2.14  Fair    J     I1      69.4  57    5405  7.74 7.70 5.36\n",
       "4 2.15  Fair    J     I1      65.5  57    5430  8.01 7.95 5.23\n",
       "5 2.22  Fair    J     I1      66.7  56    5607  8.04 8.02 5.36\n",
       "6 2.00  Fair    I     I1      66.0  60    5667  7.78 7.74 5.10"
      ]
     },
     "metadata": {},
     "output_type": "display_data"
    }
   ],
   "source": [
    "# carat이 2이상, price 가 14000 이하인 데이터 조회\n",
    "\n",
    "head(diamonds[diamonds$carat >= 2 & diamonds$price <= 14000,])\n",
    "\n",
    "\n",
    "diamonds %>% filter(carat >= 2 , price <= 14000) %>% head()\n",
    "\n",
    "\n",
    "head(filter(diamonds, carat >=2 & price <= 14000))"
   ]
  },
  {
   "cell_type": "code",
   "execution_count": 134,
   "id": "e1d46820-4f8d-44fe-bbd9-8d8000b4f6d3",
   "metadata": {},
   "outputs": [
    {
     "data": {
      "text/html": [
       "<table class=\"dataframe\">\n",
       "<caption>A tibble: 6 × 10</caption>\n",
       "<thead>\n",
       "\t<tr><th scope=col>carat</th><th scope=col>cut</th><th scope=col>color</th><th scope=col>clarity</th><th scope=col>depth</th><th scope=col>table</th><th scope=col>price</th><th scope=col>x</th><th scope=col>y</th><th scope=col>z</th></tr>\n",
       "\t<tr><th scope=col>&lt;dbl&gt;</th><th scope=col>&lt;ord&gt;</th><th scope=col>&lt;ord&gt;</th><th scope=col>&lt;ord&gt;</th><th scope=col>&lt;dbl&gt;</th><th scope=col>&lt;dbl&gt;</th><th scope=col>&lt;int&gt;</th><th scope=col>&lt;dbl&gt;</th><th scope=col>&lt;dbl&gt;</th><th scope=col>&lt;dbl&gt;</th></tr>\n",
       "</thead>\n",
       "<tbody>\n",
       "\t<tr><td>1.17</td><td>Very Good</td><td>J</td><td>I1 </td><td>60.2</td><td>61</td><td>2774</td><td>6.83</td><td>6.90</td><td>4.13</td></tr>\n",
       "\t<tr><td>1.01</td><td>Premium  </td><td>F</td><td>I1 </td><td>61.8</td><td>60</td><td>2781</td><td>6.39</td><td>6.36</td><td>3.94</td></tr>\n",
       "\t<tr><td>1.01</td><td>Fair     </td><td>E</td><td>I1 </td><td>64.5</td><td>58</td><td>2788</td><td>6.29</td><td>6.21</td><td>4.03</td></tr>\n",
       "\t<tr><td>1.01</td><td>Premium  </td><td>H</td><td>SI2</td><td>62.7</td><td>59</td><td>2788</td><td>6.31</td><td>6.22</td><td>3.93</td></tr>\n",
       "\t<tr><td>1.05</td><td>Very Good</td><td>J</td><td>SI2</td><td>63.2</td><td>56</td><td>2789</td><td>6.49</td><td>6.45</td><td>4.09</td></tr>\n",
       "\t<tr><td>1.05</td><td>Fair     </td><td>J</td><td>SI2</td><td>65.8</td><td>59</td><td>2789</td><td>6.41</td><td>6.27</td><td>4.18</td></tr>\n",
       "</tbody>\n",
       "</table>\n"
      ],
      "text/latex": [
       "A tibble: 6 × 10\n",
       "\\begin{tabular}{llllllllll}\n",
       " carat & cut & color & clarity & depth & table & price & x & y & z\\\\\n",
       " <dbl> & <ord> & <ord> & <ord> & <dbl> & <dbl> & <int> & <dbl> & <dbl> & <dbl>\\\\\n",
       "\\hline\n",
       "\t 1.17 & Very Good & J & I1  & 60.2 & 61 & 2774 & 6.83 & 6.90 & 4.13\\\\\n",
       "\t 1.01 & Premium   & F & I1  & 61.8 & 60 & 2781 & 6.39 & 6.36 & 3.94\\\\\n",
       "\t 1.01 & Fair      & E & I1  & 64.5 & 58 & 2788 & 6.29 & 6.21 & 4.03\\\\\n",
       "\t 1.01 & Premium   & H & SI2 & 62.7 & 59 & 2788 & 6.31 & 6.22 & 3.93\\\\\n",
       "\t 1.05 & Very Good & J & SI2 & 63.2 & 56 & 2789 & 6.49 & 6.45 & 4.09\\\\\n",
       "\t 1.05 & Fair      & J & SI2 & 65.8 & 59 & 2789 & 6.41 & 6.27 & 4.18\\\\\n",
       "\\end{tabular}\n"
      ],
      "text/markdown": [
       "\n",
       "A tibble: 6 × 10\n",
       "\n",
       "| carat &lt;dbl&gt; | cut &lt;ord&gt; | color &lt;ord&gt; | clarity &lt;ord&gt; | depth &lt;dbl&gt; | table &lt;dbl&gt; | price &lt;int&gt; | x &lt;dbl&gt; | y &lt;dbl&gt; | z &lt;dbl&gt; |\n",
       "|---|---|---|---|---|---|---|---|---|---|\n",
       "| 1.17 | Very Good | J | I1  | 60.2 | 61 | 2774 | 6.83 | 6.90 | 4.13 |\n",
       "| 1.01 | Premium   | F | I1  | 61.8 | 60 | 2781 | 6.39 | 6.36 | 3.94 |\n",
       "| 1.01 | Fair      | E | I1  | 64.5 | 58 | 2788 | 6.29 | 6.21 | 4.03 |\n",
       "| 1.01 | Premium   | H | SI2 | 62.7 | 59 | 2788 | 6.31 | 6.22 | 3.93 |\n",
       "| 1.05 | Very Good | J | SI2 | 63.2 | 56 | 2789 | 6.49 | 6.45 | 4.09 |\n",
       "| 1.05 | Fair      | J | SI2 | 65.8 | 59 | 2789 | 6.41 | 6.27 | 4.18 |\n",
       "\n"
      ],
      "text/plain": [
       "  carat cut       color clarity depth table price x    y    z   \n",
       "1 1.17  Very Good J     I1      60.2  61    2774  6.83 6.90 4.13\n",
       "2 1.01  Premium   F     I1      61.8  60    2781  6.39 6.36 3.94\n",
       "3 1.01  Fair      E     I1      64.5  58    2788  6.29 6.21 4.03\n",
       "4 1.01  Premium   H     SI2     62.7  59    2788  6.31 6.22 3.93\n",
       "5 1.05  Very Good J     SI2     63.2  56    2789  6.49 6.45 4.09\n",
       "6 1.05  Fair      J     SI2     65.8  59    2789  6.41 6.27 4.18"
      ]
     },
     "metadata": {},
     "output_type": "display_data"
    },
    {
     "data": {
      "text/html": [
       "<table class=\"dataframe\">\n",
       "<caption>A tibble: 6 × 10</caption>\n",
       "<thead>\n",
       "\t<tr><th scope=col>carat</th><th scope=col>cut</th><th scope=col>color</th><th scope=col>clarity</th><th scope=col>depth</th><th scope=col>table</th><th scope=col>price</th><th scope=col>x</th><th scope=col>y</th><th scope=col>z</th></tr>\n",
       "\t<tr><th scope=col>&lt;dbl&gt;</th><th scope=col>&lt;ord&gt;</th><th scope=col>&lt;ord&gt;</th><th scope=col>&lt;ord&gt;</th><th scope=col>&lt;dbl&gt;</th><th scope=col>&lt;dbl&gt;</th><th scope=col>&lt;int&gt;</th><th scope=col>&lt;dbl&gt;</th><th scope=col>&lt;dbl&gt;</th><th scope=col>&lt;dbl&gt;</th></tr>\n",
       "</thead>\n",
       "<tbody>\n",
       "\t<tr><td>1.17</td><td>Very Good</td><td>J</td><td>I1 </td><td>60.2</td><td>61</td><td>2774</td><td>6.83</td><td>6.90</td><td>4.13</td></tr>\n",
       "\t<tr><td>1.01</td><td>Premium  </td><td>F</td><td>I1 </td><td>61.8</td><td>60</td><td>2781</td><td>6.39</td><td>6.36</td><td>3.94</td></tr>\n",
       "\t<tr><td>1.01</td><td>Fair     </td><td>E</td><td>I1 </td><td>64.5</td><td>58</td><td>2788</td><td>6.29</td><td>6.21</td><td>4.03</td></tr>\n",
       "\t<tr><td>1.01</td><td>Premium  </td><td>H</td><td>SI2</td><td>62.7</td><td>59</td><td>2788</td><td>6.31</td><td>6.22</td><td>3.93</td></tr>\n",
       "\t<tr><td>1.05</td><td>Very Good</td><td>J</td><td>SI2</td><td>63.2</td><td>56</td><td>2789</td><td>6.49</td><td>6.45</td><td>4.09</td></tr>\n",
       "\t<tr><td>1.05</td><td>Fair     </td><td>J</td><td>SI2</td><td>65.8</td><td>59</td><td>2789</td><td>6.41</td><td>6.27</td><td>4.18</td></tr>\n",
       "</tbody>\n",
       "</table>\n"
      ],
      "text/latex": [
       "A tibble: 6 × 10\n",
       "\\begin{tabular}{llllllllll}\n",
       " carat & cut & color & clarity & depth & table & price & x & y & z\\\\\n",
       " <dbl> & <ord> & <ord> & <ord> & <dbl> & <dbl> & <int> & <dbl> & <dbl> & <dbl>\\\\\n",
       "\\hline\n",
       "\t 1.17 & Very Good & J & I1  & 60.2 & 61 & 2774 & 6.83 & 6.90 & 4.13\\\\\n",
       "\t 1.01 & Premium   & F & I1  & 61.8 & 60 & 2781 & 6.39 & 6.36 & 3.94\\\\\n",
       "\t 1.01 & Fair      & E & I1  & 64.5 & 58 & 2788 & 6.29 & 6.21 & 4.03\\\\\n",
       "\t 1.01 & Premium   & H & SI2 & 62.7 & 59 & 2788 & 6.31 & 6.22 & 3.93\\\\\n",
       "\t 1.05 & Very Good & J & SI2 & 63.2 & 56 & 2789 & 6.49 & 6.45 & 4.09\\\\\n",
       "\t 1.05 & Fair      & J & SI2 & 65.8 & 59 & 2789 & 6.41 & 6.27 & 4.18\\\\\n",
       "\\end{tabular}\n"
      ],
      "text/markdown": [
       "\n",
       "A tibble: 6 × 10\n",
       "\n",
       "| carat &lt;dbl&gt; | cut &lt;ord&gt; | color &lt;ord&gt; | clarity &lt;ord&gt; | depth &lt;dbl&gt; | table &lt;dbl&gt; | price &lt;int&gt; | x &lt;dbl&gt; | y &lt;dbl&gt; | z &lt;dbl&gt; |\n",
       "|---|---|---|---|---|---|---|---|---|---|\n",
       "| 1.17 | Very Good | J | I1  | 60.2 | 61 | 2774 | 6.83 | 6.90 | 4.13 |\n",
       "| 1.01 | Premium   | F | I1  | 61.8 | 60 | 2781 | 6.39 | 6.36 | 3.94 |\n",
       "| 1.01 | Fair      | E | I1  | 64.5 | 58 | 2788 | 6.29 | 6.21 | 4.03 |\n",
       "| 1.01 | Premium   | H | SI2 | 62.7 | 59 | 2788 | 6.31 | 6.22 | 3.93 |\n",
       "| 1.05 | Very Good | J | SI2 | 63.2 | 56 | 2789 | 6.49 | 6.45 | 4.09 |\n",
       "| 1.05 | Fair      | J | SI2 | 65.8 | 59 | 2789 | 6.41 | 6.27 | 4.18 |\n",
       "\n"
      ],
      "text/plain": [
       "  carat cut       color clarity depth table price x    y    z   \n",
       "1 1.17  Very Good J     I1      60.2  61    2774  6.83 6.90 4.13\n",
       "2 1.01  Premium   F     I1      61.8  60    2781  6.39 6.36 3.94\n",
       "3 1.01  Fair      E     I1      64.5  58    2788  6.29 6.21 4.03\n",
       "4 1.01  Premium   H     SI2     62.7  59    2788  6.31 6.22 3.93\n",
       "5 1.05  Very Good J     SI2     63.2  56    2789  6.49 6.45 4.09\n",
       "6 1.05  Fair      J     SI2     65.8  59    2789  6.41 6.27 4.18"
      ]
     },
     "metadata": {},
     "output_type": "display_data"
    },
    {
     "data": {
      "text/html": [
       "<table class=\"dataframe\">\n",
       "<caption>A tibble: 6 × 10</caption>\n",
       "<thead>\n",
       "\t<tr><th scope=col>carat</th><th scope=col>cut</th><th scope=col>color</th><th scope=col>clarity</th><th scope=col>depth</th><th scope=col>table</th><th scope=col>price</th><th scope=col>x</th><th scope=col>y</th><th scope=col>z</th></tr>\n",
       "\t<tr><th scope=col>&lt;dbl&gt;</th><th scope=col>&lt;ord&gt;</th><th scope=col>&lt;ord&gt;</th><th scope=col>&lt;ord&gt;</th><th scope=col>&lt;dbl&gt;</th><th scope=col>&lt;dbl&gt;</th><th scope=col>&lt;int&gt;</th><th scope=col>&lt;dbl&gt;</th><th scope=col>&lt;dbl&gt;</th><th scope=col>&lt;dbl&gt;</th></tr>\n",
       "</thead>\n",
       "<tbody>\n",
       "\t<tr><td>1.17</td><td>Very Good</td><td>J</td><td>I1 </td><td>60.2</td><td>61</td><td>2774</td><td>6.83</td><td>6.90</td><td>4.13</td></tr>\n",
       "\t<tr><td>1.01</td><td>Premium  </td><td>F</td><td>I1 </td><td>61.8</td><td>60</td><td>2781</td><td>6.39</td><td>6.36</td><td>3.94</td></tr>\n",
       "\t<tr><td>1.01</td><td>Fair     </td><td>E</td><td>I1 </td><td>64.5</td><td>58</td><td>2788</td><td>6.29</td><td>6.21</td><td>4.03</td></tr>\n",
       "\t<tr><td>1.01</td><td>Premium  </td><td>H</td><td>SI2</td><td>62.7</td><td>59</td><td>2788</td><td>6.31</td><td>6.22</td><td>3.93</td></tr>\n",
       "\t<tr><td>1.05</td><td>Very Good</td><td>J</td><td>SI2</td><td>63.2</td><td>56</td><td>2789</td><td>6.49</td><td>6.45</td><td>4.09</td></tr>\n",
       "\t<tr><td>1.05</td><td>Fair     </td><td>J</td><td>SI2</td><td>65.8</td><td>59</td><td>2789</td><td>6.41</td><td>6.27</td><td>4.18</td></tr>\n",
       "</tbody>\n",
       "</table>\n"
      ],
      "text/latex": [
       "A tibble: 6 × 10\n",
       "\\begin{tabular}{llllllllll}\n",
       " carat & cut & color & clarity & depth & table & price & x & y & z\\\\\n",
       " <dbl> & <ord> & <ord> & <ord> & <dbl> & <dbl> & <int> & <dbl> & <dbl> & <dbl>\\\\\n",
       "\\hline\n",
       "\t 1.17 & Very Good & J & I1  & 60.2 & 61 & 2774 & 6.83 & 6.90 & 4.13\\\\\n",
       "\t 1.01 & Premium   & F & I1  & 61.8 & 60 & 2781 & 6.39 & 6.36 & 3.94\\\\\n",
       "\t 1.01 & Fair      & E & I1  & 64.5 & 58 & 2788 & 6.29 & 6.21 & 4.03\\\\\n",
       "\t 1.01 & Premium   & H & SI2 & 62.7 & 59 & 2788 & 6.31 & 6.22 & 3.93\\\\\n",
       "\t 1.05 & Very Good & J & SI2 & 63.2 & 56 & 2789 & 6.49 & 6.45 & 4.09\\\\\n",
       "\t 1.05 & Fair      & J & SI2 & 65.8 & 59 & 2789 & 6.41 & 6.27 & 4.18\\\\\n",
       "\\end{tabular}\n"
      ],
      "text/markdown": [
       "\n",
       "A tibble: 6 × 10\n",
       "\n",
       "| carat &lt;dbl&gt; | cut &lt;ord&gt; | color &lt;ord&gt; | clarity &lt;ord&gt; | depth &lt;dbl&gt; | table &lt;dbl&gt; | price &lt;int&gt; | x &lt;dbl&gt; | y &lt;dbl&gt; | z &lt;dbl&gt; |\n",
       "|---|---|---|---|---|---|---|---|---|---|\n",
       "| 1.17 | Very Good | J | I1  | 60.2 | 61 | 2774 | 6.83 | 6.90 | 4.13 |\n",
       "| 1.01 | Premium   | F | I1  | 61.8 | 60 | 2781 | 6.39 | 6.36 | 3.94 |\n",
       "| 1.01 | Fair      | E | I1  | 64.5 | 58 | 2788 | 6.29 | 6.21 | 4.03 |\n",
       "| 1.01 | Premium   | H | SI2 | 62.7 | 59 | 2788 | 6.31 | 6.22 | 3.93 |\n",
       "| 1.05 | Very Good | J | SI2 | 63.2 | 56 | 2789 | 6.49 | 6.45 | 4.09 |\n",
       "| 1.05 | Fair      | J | SI2 | 65.8 | 59 | 2789 | 6.41 | 6.27 | 4.18 |\n",
       "\n"
      ],
      "text/plain": [
       "  carat cut       color clarity depth table price x    y    z   \n",
       "1 1.17  Very Good J     I1      60.2  61    2774  6.83 6.90 4.13\n",
       "2 1.01  Premium   F     I1      61.8  60    2781  6.39 6.36 3.94\n",
       "3 1.01  Fair      E     I1      64.5  58    2788  6.29 6.21 4.03\n",
       "4 1.01  Premium   H     SI2     62.7  59    2788  6.31 6.22 3.93\n",
       "5 1.05  Very Good J     SI2     63.2  56    2789  6.49 6.45 4.09\n",
       "6 1.05  Fair      J     SI2     65.8  59    2789  6.41 6.27 4.18"
      ]
     },
     "metadata": {},
     "output_type": "display_data"
    }
   ],
   "source": [
    "# carat이 1초과, 5 미만인 데이터 조회\n",
    "\n",
    "\n",
    "head(diamonds[diamonds$carat >= 1 | diamonds$carat > 5,])\n",
    "\n",
    "\n",
    "diamonds %>% filter(carat > 1 | carat > 5) %>% head()\n",
    "\n",
    "\n",
    "head(filter(diamonds, carat > 1 | carat > 5))"
   ]
  },
  {
   "cell_type": "code",
   "execution_count": 135,
   "id": "ec314e9d-d7cc-44ac-95f1-7685ab773584",
   "metadata": {},
   "outputs": [
    {
     "data": {
      "text/html": [
       "<table class=\"dataframe\">\n",
       "<caption>A tibble: 6 × 10</caption>\n",
       "<thead>\n",
       "\t<tr><th scope=col>carat</th><th scope=col>cut</th><th scope=col>color</th><th scope=col>clarity</th><th scope=col>depth</th><th scope=col>table</th><th scope=col>price</th><th scope=col>x</th><th scope=col>y</th><th scope=col>z</th></tr>\n",
       "\t<tr><th scope=col>&lt;dbl&gt;</th><th scope=col>&lt;ord&gt;</th><th scope=col>&lt;ord&gt;</th><th scope=col>&lt;ord&gt;</th><th scope=col>&lt;dbl&gt;</th><th scope=col>&lt;dbl&gt;</th><th scope=col>&lt;int&gt;</th><th scope=col>&lt;dbl&gt;</th><th scope=col>&lt;dbl&gt;</th><th scope=col>&lt;dbl&gt;</th></tr>\n",
       "</thead>\n",
       "<tbody>\n",
       "\t<tr><td>0.23</td><td>Ideal    </td><td>E</td><td>SI2 </td><td>61.5</td><td>55</td><td>326</td><td>3.95</td><td>3.98</td><td>2.43</td></tr>\n",
       "\t<tr><td>0.21</td><td>Premium  </td><td>E</td><td>SI1 </td><td>59.8</td><td>61</td><td>326</td><td>3.89</td><td>3.84</td><td>2.31</td></tr>\n",
       "\t<tr><td>0.23</td><td>Good     </td><td>E</td><td>VS1 </td><td>56.9</td><td>65</td><td>327</td><td>4.05</td><td>4.07</td><td>2.31</td></tr>\n",
       "\t<tr><td>0.29</td><td>Premium  </td><td>I</td><td>VS2 </td><td>62.4</td><td>58</td><td>334</td><td>4.20</td><td>4.23</td><td>2.63</td></tr>\n",
       "\t<tr><td>0.31</td><td>Good     </td><td>J</td><td>SI2 </td><td>63.3</td><td>58</td><td>335</td><td>4.34</td><td>4.35</td><td>2.75</td></tr>\n",
       "\t<tr><td>0.24</td><td>Very Good</td><td>J</td><td>VVS2</td><td>62.8</td><td>57</td><td>336</td><td>3.94</td><td>3.96</td><td>2.48</td></tr>\n",
       "</tbody>\n",
       "</table>\n"
      ],
      "text/latex": [
       "A tibble: 6 × 10\n",
       "\\begin{tabular}{llllllllll}\n",
       " carat & cut & color & clarity & depth & table & price & x & y & z\\\\\n",
       " <dbl> & <ord> & <ord> & <ord> & <dbl> & <dbl> & <int> & <dbl> & <dbl> & <dbl>\\\\\n",
       "\\hline\n",
       "\t 0.23 & Ideal     & E & SI2  & 61.5 & 55 & 326 & 3.95 & 3.98 & 2.43\\\\\n",
       "\t 0.21 & Premium   & E & SI1  & 59.8 & 61 & 326 & 3.89 & 3.84 & 2.31\\\\\n",
       "\t 0.23 & Good      & E & VS1  & 56.9 & 65 & 327 & 4.05 & 4.07 & 2.31\\\\\n",
       "\t 0.29 & Premium   & I & VS2  & 62.4 & 58 & 334 & 4.20 & 4.23 & 2.63\\\\\n",
       "\t 0.31 & Good      & J & SI2  & 63.3 & 58 & 335 & 4.34 & 4.35 & 2.75\\\\\n",
       "\t 0.24 & Very Good & J & VVS2 & 62.8 & 57 & 336 & 3.94 & 3.96 & 2.48\\\\\n",
       "\\end{tabular}\n"
      ],
      "text/markdown": [
       "\n",
       "A tibble: 6 × 10\n",
       "\n",
       "| carat &lt;dbl&gt; | cut &lt;ord&gt; | color &lt;ord&gt; | clarity &lt;ord&gt; | depth &lt;dbl&gt; | table &lt;dbl&gt; | price &lt;int&gt; | x &lt;dbl&gt; | y &lt;dbl&gt; | z &lt;dbl&gt; |\n",
       "|---|---|---|---|---|---|---|---|---|---|\n",
       "| 0.23 | Ideal     | E | SI2  | 61.5 | 55 | 326 | 3.95 | 3.98 | 2.43 |\n",
       "| 0.21 | Premium   | E | SI1  | 59.8 | 61 | 326 | 3.89 | 3.84 | 2.31 |\n",
       "| 0.23 | Good      | E | VS1  | 56.9 | 65 | 327 | 4.05 | 4.07 | 2.31 |\n",
       "| 0.29 | Premium   | I | VS2  | 62.4 | 58 | 334 | 4.20 | 4.23 | 2.63 |\n",
       "| 0.31 | Good      | J | SI2  | 63.3 | 58 | 335 | 4.34 | 4.35 | 2.75 |\n",
       "| 0.24 | Very Good | J | VVS2 | 62.8 | 57 | 336 | 3.94 | 3.96 | 2.48 |\n",
       "\n"
      ],
      "text/plain": [
       "  carat cut       color clarity depth table price x    y    z   \n",
       "1 0.23  Ideal     E     SI2     61.5  55    326   3.95 3.98 2.43\n",
       "2 0.21  Premium   E     SI1     59.8  61    326   3.89 3.84 2.31\n",
       "3 0.23  Good      E     VS1     56.9  65    327   4.05 4.07 2.31\n",
       "4 0.29  Premium   I     VS2     62.4  58    334   4.20 4.23 2.63\n",
       "5 0.31  Good      J     SI2     63.3  58    335   4.34 4.35 2.75\n",
       "6 0.24  Very Good J     VVS2    62.8  57    336   3.94 3.96 2.48"
      ]
     },
     "metadata": {},
     "output_type": "display_data"
    },
    {
     "data": {
      "text/html": [
       "<table class=\"dataframe\">\n",
       "<caption>A tibble: 6 × 10</caption>\n",
       "<thead>\n",
       "\t<tr><th scope=col>carat</th><th scope=col>cut</th><th scope=col>color</th><th scope=col>clarity</th><th scope=col>depth</th><th scope=col>table</th><th scope=col>price</th><th scope=col>x</th><th scope=col>y</th><th scope=col>z</th></tr>\n",
       "\t<tr><th scope=col>&lt;dbl&gt;</th><th scope=col>&lt;ord&gt;</th><th scope=col>&lt;ord&gt;</th><th scope=col>&lt;ord&gt;</th><th scope=col>&lt;dbl&gt;</th><th scope=col>&lt;dbl&gt;</th><th scope=col>&lt;int&gt;</th><th scope=col>&lt;dbl&gt;</th><th scope=col>&lt;dbl&gt;</th><th scope=col>&lt;dbl&gt;</th></tr>\n",
       "</thead>\n",
       "<tbody>\n",
       "\t<tr><td>0.23</td><td>Ideal    </td><td>E</td><td>SI2 </td><td>61.5</td><td>55</td><td>326</td><td>3.95</td><td>3.98</td><td>2.43</td></tr>\n",
       "\t<tr><td>0.21</td><td>Premium  </td><td>E</td><td>SI1 </td><td>59.8</td><td>61</td><td>326</td><td>3.89</td><td>3.84</td><td>2.31</td></tr>\n",
       "\t<tr><td>0.23</td><td>Good     </td><td>E</td><td>VS1 </td><td>56.9</td><td>65</td><td>327</td><td>4.05</td><td>4.07</td><td>2.31</td></tr>\n",
       "\t<tr><td>0.29</td><td>Premium  </td><td>I</td><td>VS2 </td><td>62.4</td><td>58</td><td>334</td><td>4.20</td><td>4.23</td><td>2.63</td></tr>\n",
       "\t<tr><td>0.31</td><td>Good     </td><td>J</td><td>SI2 </td><td>63.3</td><td>58</td><td>335</td><td>4.34</td><td>4.35</td><td>2.75</td></tr>\n",
       "\t<tr><td>0.24</td><td>Very Good</td><td>J</td><td>VVS2</td><td>62.8</td><td>57</td><td>336</td><td>3.94</td><td>3.96</td><td>2.48</td></tr>\n",
       "</tbody>\n",
       "</table>\n"
      ],
      "text/latex": [
       "A tibble: 6 × 10\n",
       "\\begin{tabular}{llllllllll}\n",
       " carat & cut & color & clarity & depth & table & price & x & y & z\\\\\n",
       " <dbl> & <ord> & <ord> & <ord> & <dbl> & <dbl> & <int> & <dbl> & <dbl> & <dbl>\\\\\n",
       "\\hline\n",
       "\t 0.23 & Ideal     & E & SI2  & 61.5 & 55 & 326 & 3.95 & 3.98 & 2.43\\\\\n",
       "\t 0.21 & Premium   & E & SI1  & 59.8 & 61 & 326 & 3.89 & 3.84 & 2.31\\\\\n",
       "\t 0.23 & Good      & E & VS1  & 56.9 & 65 & 327 & 4.05 & 4.07 & 2.31\\\\\n",
       "\t 0.29 & Premium   & I & VS2  & 62.4 & 58 & 334 & 4.20 & 4.23 & 2.63\\\\\n",
       "\t 0.31 & Good      & J & SI2  & 63.3 & 58 & 335 & 4.34 & 4.35 & 2.75\\\\\n",
       "\t 0.24 & Very Good & J & VVS2 & 62.8 & 57 & 336 & 3.94 & 3.96 & 2.48\\\\\n",
       "\\end{tabular}\n"
      ],
      "text/markdown": [
       "\n",
       "A tibble: 6 × 10\n",
       "\n",
       "| carat &lt;dbl&gt; | cut &lt;ord&gt; | color &lt;ord&gt; | clarity &lt;ord&gt; | depth &lt;dbl&gt; | table &lt;dbl&gt; | price &lt;int&gt; | x &lt;dbl&gt; | y &lt;dbl&gt; | z &lt;dbl&gt; |\n",
       "|---|---|---|---|---|---|---|---|---|---|\n",
       "| 0.23 | Ideal     | E | SI2  | 61.5 | 55 | 326 | 3.95 | 3.98 | 2.43 |\n",
       "| 0.21 | Premium   | E | SI1  | 59.8 | 61 | 326 | 3.89 | 3.84 | 2.31 |\n",
       "| 0.23 | Good      | E | VS1  | 56.9 | 65 | 327 | 4.05 | 4.07 | 2.31 |\n",
       "| 0.29 | Premium   | I | VS2  | 62.4 | 58 | 334 | 4.20 | 4.23 | 2.63 |\n",
       "| 0.31 | Good      | J | SI2  | 63.3 | 58 | 335 | 4.34 | 4.35 | 2.75 |\n",
       "| 0.24 | Very Good | J | VVS2 | 62.8 | 57 | 336 | 3.94 | 3.96 | 2.48 |\n",
       "\n"
      ],
      "text/plain": [
       "  carat cut       color clarity depth table price x    y    z   \n",
       "1 0.23  Ideal     E     SI2     61.5  55    326   3.95 3.98 2.43\n",
       "2 0.21  Premium   E     SI1     59.8  61    326   3.89 3.84 2.31\n",
       "3 0.23  Good      E     VS1     56.9  65    327   4.05 4.07 2.31\n",
       "4 0.29  Premium   I     VS2     62.4  58    334   4.20 4.23 2.63\n",
       "5 0.31  Good      J     SI2     63.3  58    335   4.34 4.35 2.75\n",
       "6 0.24  Very Good J     VVS2    62.8  57    336   3.94 3.96 2.48"
      ]
     },
     "metadata": {},
     "output_type": "display_data"
    },
    {
     "data": {
      "text/html": [
       "<table class=\"dataframe\">\n",
       "<caption>A tibble: 6 × 10</caption>\n",
       "<thead>\n",
       "\t<tr><th scope=col>carat</th><th scope=col>cut</th><th scope=col>color</th><th scope=col>clarity</th><th scope=col>depth</th><th scope=col>table</th><th scope=col>price</th><th scope=col>x</th><th scope=col>y</th><th scope=col>z</th></tr>\n",
       "\t<tr><th scope=col>&lt;dbl&gt;</th><th scope=col>&lt;ord&gt;</th><th scope=col>&lt;ord&gt;</th><th scope=col>&lt;ord&gt;</th><th scope=col>&lt;dbl&gt;</th><th scope=col>&lt;dbl&gt;</th><th scope=col>&lt;int&gt;</th><th scope=col>&lt;dbl&gt;</th><th scope=col>&lt;dbl&gt;</th><th scope=col>&lt;dbl&gt;</th></tr>\n",
       "</thead>\n",
       "<tbody>\n",
       "\t<tr><td>0.23</td><td>Ideal    </td><td>E</td><td>SI2 </td><td>61.5</td><td>55</td><td>326</td><td>3.95</td><td>3.98</td><td>2.43</td></tr>\n",
       "\t<tr><td>0.21</td><td>Premium  </td><td>E</td><td>SI1 </td><td>59.8</td><td>61</td><td>326</td><td>3.89</td><td>3.84</td><td>2.31</td></tr>\n",
       "\t<tr><td>0.23</td><td>Good     </td><td>E</td><td>VS1 </td><td>56.9</td><td>65</td><td>327</td><td>4.05</td><td>4.07</td><td>2.31</td></tr>\n",
       "\t<tr><td>0.29</td><td>Premium  </td><td>I</td><td>VS2 </td><td>62.4</td><td>58</td><td>334</td><td>4.20</td><td>4.23</td><td>2.63</td></tr>\n",
       "\t<tr><td>0.31</td><td>Good     </td><td>J</td><td>SI2 </td><td>63.3</td><td>58</td><td>335</td><td>4.34</td><td>4.35</td><td>2.75</td></tr>\n",
       "\t<tr><td>0.24</td><td>Very Good</td><td>J</td><td>VVS2</td><td>62.8</td><td>57</td><td>336</td><td>3.94</td><td>3.96</td><td>2.48</td></tr>\n",
       "</tbody>\n",
       "</table>\n"
      ],
      "text/latex": [
       "A tibble: 6 × 10\n",
       "\\begin{tabular}{llllllllll}\n",
       " carat & cut & color & clarity & depth & table & price & x & y & z\\\\\n",
       " <dbl> & <ord> & <ord> & <ord> & <dbl> & <dbl> & <int> & <dbl> & <dbl> & <dbl>\\\\\n",
       "\\hline\n",
       "\t 0.23 & Ideal     & E & SI2  & 61.5 & 55 & 326 & 3.95 & 3.98 & 2.43\\\\\n",
       "\t 0.21 & Premium   & E & SI1  & 59.8 & 61 & 326 & 3.89 & 3.84 & 2.31\\\\\n",
       "\t 0.23 & Good      & E & VS1  & 56.9 & 65 & 327 & 4.05 & 4.07 & 2.31\\\\\n",
       "\t 0.29 & Premium   & I & VS2  & 62.4 & 58 & 334 & 4.20 & 4.23 & 2.63\\\\\n",
       "\t 0.31 & Good      & J & SI2  & 63.3 & 58 & 335 & 4.34 & 4.35 & 2.75\\\\\n",
       "\t 0.24 & Very Good & J & VVS2 & 62.8 & 57 & 336 & 3.94 & 3.96 & 2.48\\\\\n",
       "\\end{tabular}\n"
      ],
      "text/markdown": [
       "\n",
       "A tibble: 6 × 10\n",
       "\n",
       "| carat &lt;dbl&gt; | cut &lt;ord&gt; | color &lt;ord&gt; | clarity &lt;ord&gt; | depth &lt;dbl&gt; | table &lt;dbl&gt; | price &lt;int&gt; | x &lt;dbl&gt; | y &lt;dbl&gt; | z &lt;dbl&gt; |\n",
       "|---|---|---|---|---|---|---|---|---|---|\n",
       "| 0.23 | Ideal     | E | SI2  | 61.5 | 55 | 326 | 3.95 | 3.98 | 2.43 |\n",
       "| 0.21 | Premium   | E | SI1  | 59.8 | 61 | 326 | 3.89 | 3.84 | 2.31 |\n",
       "| 0.23 | Good      | E | VS1  | 56.9 | 65 | 327 | 4.05 | 4.07 | 2.31 |\n",
       "| 0.29 | Premium   | I | VS2  | 62.4 | 58 | 334 | 4.20 | 4.23 | 2.63 |\n",
       "| 0.31 | Good      | J | SI2  | 63.3 | 58 | 335 | 4.34 | 4.35 | 2.75 |\n",
       "| 0.24 | Very Good | J | VVS2 | 62.8 | 57 | 336 | 3.94 | 3.96 | 2.48 |\n",
       "\n"
      ],
      "text/plain": [
       "  carat cut       color clarity depth table price x    y    z   \n",
       "1 0.23  Ideal     E     SI2     61.5  55    326   3.95 3.98 2.43\n",
       "2 0.21  Premium   E     SI1     59.8  61    326   3.89 3.84 2.31\n",
       "3 0.23  Good      E     VS1     56.9  65    327   4.05 4.07 2.31\n",
       "4 0.29  Premium   I     VS2     62.4  58    334   4.20 4.23 2.63\n",
       "5 0.31  Good      J     SI2     63.3  58    335   4.34 4.35 2.75\n",
       "6 0.24  Very Good J     VVS2    62.8  57    336   3.94 3.96 2.48"
      ]
     },
     "metadata": {},
     "output_type": "display_data"
    }
   ],
   "source": [
    "# carat이 1미만이거나, 5초과인 데이터 조회\n",
    "\n",
    "head(diamonds[diamonds$carat < 1 | diamonds$carat > 5,])\n",
    "\n",
    "\n",
    "diamonds %>% filter(carat < 1 | carat > 5) %>% head()\n",
    "\n",
    "\n",
    "head(filter(diamonds, carat < 1 | carat > 5))"
   ]
  },
  {
   "cell_type": "code",
   "execution_count": 128,
   "id": "8b01d4c7-a5a5-4d6b-986d-ca8da7c33314",
   "metadata": {},
   "outputs": [
    {
     "data": {
      "text/html": [
       "<table class=\"dataframe\">\n",
       "<caption>A tibble: 6 × 10</caption>\n",
       "<thead>\n",
       "\t<tr><th scope=col>carat</th><th scope=col>cut</th><th scope=col>color</th><th scope=col>clarity</th><th scope=col>depth</th><th scope=col>table</th><th scope=col>price</th><th scope=col>x</th><th scope=col>y</th><th scope=col>z</th></tr>\n",
       "\t<tr><th scope=col>&lt;dbl&gt;</th><th scope=col>&lt;ord&gt;</th><th scope=col>&lt;ord&gt;</th><th scope=col>&lt;ord&gt;</th><th scope=col>&lt;dbl&gt;</th><th scope=col>&lt;dbl&gt;</th><th scope=col>&lt;int&gt;</th><th scope=col>&lt;dbl&gt;</th><th scope=col>&lt;dbl&gt;</th><th scope=col>&lt;dbl&gt;</th></tr>\n",
       "</thead>\n",
       "<tbody>\n",
       "\t<tr><td>0.23</td><td>Ideal</td><td>E</td><td>SI2</td><td>61.5</td><td>55</td><td>326</td><td>3.95</td><td>3.98</td><td>2.43</td></tr>\n",
       "\t<tr><td>0.23</td><td>Good </td><td>E</td><td>VS1</td><td>56.9</td><td>65</td><td>327</td><td>4.05</td><td>4.07</td><td>2.31</td></tr>\n",
       "\t<tr><td>0.31</td><td>Good </td><td>J</td><td>SI2</td><td>63.3</td><td>58</td><td>335</td><td>4.34</td><td>4.35</td><td>2.75</td></tr>\n",
       "\t<tr><td>0.30</td><td>Good </td><td>J</td><td>SI1</td><td>64.0</td><td>55</td><td>339</td><td>4.25</td><td>4.28</td><td>2.73</td></tr>\n",
       "\t<tr><td>0.23</td><td>Ideal</td><td>J</td><td>VS1</td><td>62.8</td><td>56</td><td>340</td><td>3.93</td><td>3.90</td><td>2.46</td></tr>\n",
       "\t<tr><td>0.31</td><td>Ideal</td><td>J</td><td>SI2</td><td>62.2</td><td>54</td><td>344</td><td>4.35</td><td>4.37</td><td>2.71</td></tr>\n",
       "</tbody>\n",
       "</table>\n"
      ],
      "text/latex": [
       "A tibble: 6 × 10\n",
       "\\begin{tabular}{llllllllll}\n",
       " carat & cut & color & clarity & depth & table & price & x & y & z\\\\\n",
       " <dbl> & <ord> & <ord> & <ord> & <dbl> & <dbl> & <int> & <dbl> & <dbl> & <dbl>\\\\\n",
       "\\hline\n",
       "\t 0.23 & Ideal & E & SI2 & 61.5 & 55 & 326 & 3.95 & 3.98 & 2.43\\\\\n",
       "\t 0.23 & Good  & E & VS1 & 56.9 & 65 & 327 & 4.05 & 4.07 & 2.31\\\\\n",
       "\t 0.31 & Good  & J & SI2 & 63.3 & 58 & 335 & 4.34 & 4.35 & 2.75\\\\\n",
       "\t 0.30 & Good  & J & SI1 & 64.0 & 55 & 339 & 4.25 & 4.28 & 2.73\\\\\n",
       "\t 0.23 & Ideal & J & VS1 & 62.8 & 56 & 340 & 3.93 & 3.90 & 2.46\\\\\n",
       "\t 0.31 & Ideal & J & SI2 & 62.2 & 54 & 344 & 4.35 & 4.37 & 2.71\\\\\n",
       "\\end{tabular}\n"
      ],
      "text/markdown": [
       "\n",
       "A tibble: 6 × 10\n",
       "\n",
       "| carat &lt;dbl&gt; | cut &lt;ord&gt; | color &lt;ord&gt; | clarity &lt;ord&gt; | depth &lt;dbl&gt; | table &lt;dbl&gt; | price &lt;int&gt; | x &lt;dbl&gt; | y &lt;dbl&gt; | z &lt;dbl&gt; |\n",
       "|---|---|---|---|---|---|---|---|---|---|\n",
       "| 0.23 | Ideal | E | SI2 | 61.5 | 55 | 326 | 3.95 | 3.98 | 2.43 |\n",
       "| 0.23 | Good  | E | VS1 | 56.9 | 65 | 327 | 4.05 | 4.07 | 2.31 |\n",
       "| 0.31 | Good  | J | SI2 | 63.3 | 58 | 335 | 4.34 | 4.35 | 2.75 |\n",
       "| 0.30 | Good  | J | SI1 | 64.0 | 55 | 339 | 4.25 | 4.28 | 2.73 |\n",
       "| 0.23 | Ideal | J | VS1 | 62.8 | 56 | 340 | 3.93 | 3.90 | 2.46 |\n",
       "| 0.31 | Ideal | J | SI2 | 62.2 | 54 | 344 | 4.35 | 4.37 | 2.71 |\n",
       "\n"
      ],
      "text/plain": [
       "  carat cut   color clarity depth table price x    y    z   \n",
       "1 0.23  Ideal E     SI2     61.5  55    326   3.95 3.98 2.43\n",
       "2 0.23  Good  E     VS1     56.9  65    327   4.05 4.07 2.31\n",
       "3 0.31  Good  J     SI2     63.3  58    335   4.34 4.35 2.75\n",
       "4 0.30  Good  J     SI1     64.0  55    339   4.25 4.28 2.73\n",
       "5 0.23  Ideal J     VS1     62.8  56    340   3.93 3.90 2.46\n",
       "6 0.31  Ideal J     SI2     62.2  54    344   4.35 4.37 2.71"
      ]
     },
     "metadata": {},
     "output_type": "display_data"
    },
    {
     "data": {
      "text/html": [
       "<table class=\"dataframe\">\n",
       "<caption>A tibble: 6 × 10</caption>\n",
       "<thead>\n",
       "\t<tr><th scope=col>carat</th><th scope=col>cut</th><th scope=col>color</th><th scope=col>clarity</th><th scope=col>depth</th><th scope=col>table</th><th scope=col>price</th><th scope=col>x</th><th scope=col>y</th><th scope=col>z</th></tr>\n",
       "\t<tr><th scope=col>&lt;dbl&gt;</th><th scope=col>&lt;ord&gt;</th><th scope=col>&lt;ord&gt;</th><th scope=col>&lt;ord&gt;</th><th scope=col>&lt;dbl&gt;</th><th scope=col>&lt;dbl&gt;</th><th scope=col>&lt;int&gt;</th><th scope=col>&lt;dbl&gt;</th><th scope=col>&lt;dbl&gt;</th><th scope=col>&lt;dbl&gt;</th></tr>\n",
       "</thead>\n",
       "<tbody>\n",
       "\t<tr><td>0.23</td><td>Ideal</td><td>E</td><td>SI2</td><td>61.5</td><td>55</td><td>326</td><td>3.95</td><td>3.98</td><td>2.43</td></tr>\n",
       "\t<tr><td>0.23</td><td>Good </td><td>E</td><td>VS1</td><td>56.9</td><td>65</td><td>327</td><td>4.05</td><td>4.07</td><td>2.31</td></tr>\n",
       "\t<tr><td>0.31</td><td>Good </td><td>J</td><td>SI2</td><td>63.3</td><td>58</td><td>335</td><td>4.34</td><td>4.35</td><td>2.75</td></tr>\n",
       "\t<tr><td>0.30</td><td>Good </td><td>J</td><td>SI1</td><td>64.0</td><td>55</td><td>339</td><td>4.25</td><td>4.28</td><td>2.73</td></tr>\n",
       "\t<tr><td>0.23</td><td>Ideal</td><td>J</td><td>VS1</td><td>62.8</td><td>56</td><td>340</td><td>3.93</td><td>3.90</td><td>2.46</td></tr>\n",
       "\t<tr><td>0.31</td><td>Ideal</td><td>J</td><td>SI2</td><td>62.2</td><td>54</td><td>344</td><td>4.35</td><td>4.37</td><td>2.71</td></tr>\n",
       "</tbody>\n",
       "</table>\n"
      ],
      "text/latex": [
       "A tibble: 6 × 10\n",
       "\\begin{tabular}{llllllllll}\n",
       " carat & cut & color & clarity & depth & table & price & x & y & z\\\\\n",
       " <dbl> & <ord> & <ord> & <ord> & <dbl> & <dbl> & <int> & <dbl> & <dbl> & <dbl>\\\\\n",
       "\\hline\n",
       "\t 0.23 & Ideal & E & SI2 & 61.5 & 55 & 326 & 3.95 & 3.98 & 2.43\\\\\n",
       "\t 0.23 & Good  & E & VS1 & 56.9 & 65 & 327 & 4.05 & 4.07 & 2.31\\\\\n",
       "\t 0.31 & Good  & J & SI2 & 63.3 & 58 & 335 & 4.34 & 4.35 & 2.75\\\\\n",
       "\t 0.30 & Good  & J & SI1 & 64.0 & 55 & 339 & 4.25 & 4.28 & 2.73\\\\\n",
       "\t 0.23 & Ideal & J & VS1 & 62.8 & 56 & 340 & 3.93 & 3.90 & 2.46\\\\\n",
       "\t 0.31 & Ideal & J & SI2 & 62.2 & 54 & 344 & 4.35 & 4.37 & 2.71\\\\\n",
       "\\end{tabular}\n"
      ],
      "text/markdown": [
       "\n",
       "A tibble: 6 × 10\n",
       "\n",
       "| carat &lt;dbl&gt; | cut &lt;ord&gt; | color &lt;ord&gt; | clarity &lt;ord&gt; | depth &lt;dbl&gt; | table &lt;dbl&gt; | price &lt;int&gt; | x &lt;dbl&gt; | y &lt;dbl&gt; | z &lt;dbl&gt; |\n",
       "|---|---|---|---|---|---|---|---|---|---|\n",
       "| 0.23 | Ideal | E | SI2 | 61.5 | 55 | 326 | 3.95 | 3.98 | 2.43 |\n",
       "| 0.23 | Good  | E | VS1 | 56.9 | 65 | 327 | 4.05 | 4.07 | 2.31 |\n",
       "| 0.31 | Good  | J | SI2 | 63.3 | 58 | 335 | 4.34 | 4.35 | 2.75 |\n",
       "| 0.30 | Good  | J | SI1 | 64.0 | 55 | 339 | 4.25 | 4.28 | 2.73 |\n",
       "| 0.23 | Ideal | J | VS1 | 62.8 | 56 | 340 | 3.93 | 3.90 | 2.46 |\n",
       "| 0.31 | Ideal | J | SI2 | 62.2 | 54 | 344 | 4.35 | 4.37 | 2.71 |\n",
       "\n"
      ],
      "text/plain": [
       "  carat cut   color clarity depth table price x    y    z   \n",
       "1 0.23  Ideal E     SI2     61.5  55    326   3.95 3.98 2.43\n",
       "2 0.23  Good  E     VS1     56.9  65    327   4.05 4.07 2.31\n",
       "3 0.31  Good  J     SI2     63.3  58    335   4.34 4.35 2.75\n",
       "4 0.30  Good  J     SI1     64.0  55    339   4.25 4.28 2.73\n",
       "5 0.23  Ideal J     VS1     62.8  56    340   3.93 3.90 2.46\n",
       "6 0.31  Ideal J     SI2     62.2  54    344   4.35 4.37 2.71"
      ]
     },
     "metadata": {},
     "output_type": "display_data"
    },
    {
     "data": {
      "text/html": [
       "<table class=\"dataframe\">\n",
       "<caption>A tibble: 6 × 10</caption>\n",
       "<thead>\n",
       "\t<tr><th scope=col>carat</th><th scope=col>cut</th><th scope=col>color</th><th scope=col>clarity</th><th scope=col>depth</th><th scope=col>table</th><th scope=col>price</th><th scope=col>x</th><th scope=col>y</th><th scope=col>z</th></tr>\n",
       "\t<tr><th scope=col>&lt;dbl&gt;</th><th scope=col>&lt;ord&gt;</th><th scope=col>&lt;ord&gt;</th><th scope=col>&lt;ord&gt;</th><th scope=col>&lt;dbl&gt;</th><th scope=col>&lt;dbl&gt;</th><th scope=col>&lt;int&gt;</th><th scope=col>&lt;dbl&gt;</th><th scope=col>&lt;dbl&gt;</th><th scope=col>&lt;dbl&gt;</th></tr>\n",
       "</thead>\n",
       "<tbody>\n",
       "\t<tr><td>0.23</td><td>Ideal</td><td>E</td><td>SI2</td><td>61.5</td><td>55</td><td>326</td><td>3.95</td><td>3.98</td><td>2.43</td></tr>\n",
       "\t<tr><td>0.23</td><td>Good </td><td>E</td><td>VS1</td><td>56.9</td><td>65</td><td>327</td><td>4.05</td><td>4.07</td><td>2.31</td></tr>\n",
       "\t<tr><td>0.31</td><td>Good </td><td>J</td><td>SI2</td><td>63.3</td><td>58</td><td>335</td><td>4.34</td><td>4.35</td><td>2.75</td></tr>\n",
       "\t<tr><td>0.30</td><td>Good </td><td>J</td><td>SI1</td><td>64.0</td><td>55</td><td>339</td><td>4.25</td><td>4.28</td><td>2.73</td></tr>\n",
       "\t<tr><td>0.23</td><td>Ideal</td><td>J</td><td>VS1</td><td>62.8</td><td>56</td><td>340</td><td>3.93</td><td>3.90</td><td>2.46</td></tr>\n",
       "\t<tr><td>0.31</td><td>Ideal</td><td>J</td><td>SI2</td><td>62.2</td><td>54</td><td>344</td><td>4.35</td><td>4.37</td><td>2.71</td></tr>\n",
       "</tbody>\n",
       "</table>\n"
      ],
      "text/latex": [
       "A tibble: 6 × 10\n",
       "\\begin{tabular}{llllllllll}\n",
       " carat & cut & color & clarity & depth & table & price & x & y & z\\\\\n",
       " <dbl> & <ord> & <ord> & <ord> & <dbl> & <dbl> & <int> & <dbl> & <dbl> & <dbl>\\\\\n",
       "\\hline\n",
       "\t 0.23 & Ideal & E & SI2 & 61.5 & 55 & 326 & 3.95 & 3.98 & 2.43\\\\\n",
       "\t 0.23 & Good  & E & VS1 & 56.9 & 65 & 327 & 4.05 & 4.07 & 2.31\\\\\n",
       "\t 0.31 & Good  & J & SI2 & 63.3 & 58 & 335 & 4.34 & 4.35 & 2.75\\\\\n",
       "\t 0.30 & Good  & J & SI1 & 64.0 & 55 & 339 & 4.25 & 4.28 & 2.73\\\\\n",
       "\t 0.23 & Ideal & J & VS1 & 62.8 & 56 & 340 & 3.93 & 3.90 & 2.46\\\\\n",
       "\t 0.31 & Ideal & J & SI2 & 62.2 & 54 & 344 & 4.35 & 4.37 & 2.71\\\\\n",
       "\\end{tabular}\n"
      ],
      "text/markdown": [
       "\n",
       "A tibble: 6 × 10\n",
       "\n",
       "| carat &lt;dbl&gt; | cut &lt;ord&gt; | color &lt;ord&gt; | clarity &lt;ord&gt; | depth &lt;dbl&gt; | table &lt;dbl&gt; | price &lt;int&gt; | x &lt;dbl&gt; | y &lt;dbl&gt; | z &lt;dbl&gt; |\n",
       "|---|---|---|---|---|---|---|---|---|---|\n",
       "| 0.23 | Ideal | E | SI2 | 61.5 | 55 | 326 | 3.95 | 3.98 | 2.43 |\n",
       "| 0.23 | Good  | E | VS1 | 56.9 | 65 | 327 | 4.05 | 4.07 | 2.31 |\n",
       "| 0.31 | Good  | J | SI2 | 63.3 | 58 | 335 | 4.34 | 4.35 | 2.75 |\n",
       "| 0.30 | Good  | J | SI1 | 64.0 | 55 | 339 | 4.25 | 4.28 | 2.73 |\n",
       "| 0.23 | Ideal | J | VS1 | 62.8 | 56 | 340 | 3.93 | 3.90 | 2.46 |\n",
       "| 0.31 | Ideal | J | SI2 | 62.2 | 54 | 344 | 4.35 | 4.37 | 2.71 |\n",
       "\n"
      ],
      "text/plain": [
       "  carat cut   color clarity depth table price x    y    z   \n",
       "1 0.23  Ideal E     SI2     61.5  55    326   3.95 3.98 2.43\n",
       "2 0.23  Good  E     VS1     56.9  65    327   4.05 4.07 2.31\n",
       "3 0.31  Good  J     SI2     63.3  58    335   4.34 4.35 2.75\n",
       "4 0.30  Good  J     SI1     64.0  55    339   4.25 4.28 2.73\n",
       "5 0.23  Ideal J     VS1     62.8  56    340   3.93 3.90 2.46\n",
       "6 0.31  Ideal J     SI2     62.2  54    344   4.35 4.37 2.71"
      ]
     },
     "metadata": {},
     "output_type": "display_data"
    },
    {
     "data": {
      "text/html": [
       "<table class=\"dataframe\">\n",
       "<caption>A tibble: 6 × 10</caption>\n",
       "<thead>\n",
       "\t<tr><th scope=col>carat</th><th scope=col>cut</th><th scope=col>color</th><th scope=col>clarity</th><th scope=col>depth</th><th scope=col>table</th><th scope=col>price</th><th scope=col>x</th><th scope=col>y</th><th scope=col>z</th></tr>\n",
       "\t<tr><th scope=col>&lt;dbl&gt;</th><th scope=col>&lt;ord&gt;</th><th scope=col>&lt;ord&gt;</th><th scope=col>&lt;ord&gt;</th><th scope=col>&lt;dbl&gt;</th><th scope=col>&lt;dbl&gt;</th><th scope=col>&lt;int&gt;</th><th scope=col>&lt;dbl&gt;</th><th scope=col>&lt;dbl&gt;</th><th scope=col>&lt;dbl&gt;</th></tr>\n",
       "</thead>\n",
       "<tbody>\n",
       "\t<tr><td>0.23</td><td>Ideal</td><td>E</td><td>SI2</td><td>61.5</td><td>55</td><td>326</td><td>3.95</td><td>3.98</td><td>2.43</td></tr>\n",
       "\t<tr><td>0.23</td><td>Good </td><td>E</td><td>VS1</td><td>56.9</td><td>65</td><td>327</td><td>4.05</td><td>4.07</td><td>2.31</td></tr>\n",
       "\t<tr><td>0.31</td><td>Good </td><td>J</td><td>SI2</td><td>63.3</td><td>58</td><td>335</td><td>4.34</td><td>4.35</td><td>2.75</td></tr>\n",
       "\t<tr><td>0.30</td><td>Good </td><td>J</td><td>SI1</td><td>64.0</td><td>55</td><td>339</td><td>4.25</td><td>4.28</td><td>2.73</td></tr>\n",
       "\t<tr><td>0.23</td><td>Ideal</td><td>J</td><td>VS1</td><td>62.8</td><td>56</td><td>340</td><td>3.93</td><td>3.90</td><td>2.46</td></tr>\n",
       "\t<tr><td>0.31</td><td>Ideal</td><td>J</td><td>SI2</td><td>62.2</td><td>54</td><td>344</td><td>4.35</td><td>4.37</td><td>2.71</td></tr>\n",
       "</tbody>\n",
       "</table>\n"
      ],
      "text/latex": [
       "A tibble: 6 × 10\n",
       "\\begin{tabular}{llllllllll}\n",
       " carat & cut & color & clarity & depth & table & price & x & y & z\\\\\n",
       " <dbl> & <ord> & <ord> & <ord> & <dbl> & <dbl> & <int> & <dbl> & <dbl> & <dbl>\\\\\n",
       "\\hline\n",
       "\t 0.23 & Ideal & E & SI2 & 61.5 & 55 & 326 & 3.95 & 3.98 & 2.43\\\\\n",
       "\t 0.23 & Good  & E & VS1 & 56.9 & 65 & 327 & 4.05 & 4.07 & 2.31\\\\\n",
       "\t 0.31 & Good  & J & SI2 & 63.3 & 58 & 335 & 4.34 & 4.35 & 2.75\\\\\n",
       "\t 0.30 & Good  & J & SI1 & 64.0 & 55 & 339 & 4.25 & 4.28 & 2.73\\\\\n",
       "\t 0.23 & Ideal & J & VS1 & 62.8 & 56 & 340 & 3.93 & 3.90 & 2.46\\\\\n",
       "\t 0.31 & Ideal & J & SI2 & 62.2 & 54 & 344 & 4.35 & 4.37 & 2.71\\\\\n",
       "\\end{tabular}\n"
      ],
      "text/markdown": [
       "\n",
       "A tibble: 6 × 10\n",
       "\n",
       "| carat &lt;dbl&gt; | cut &lt;ord&gt; | color &lt;ord&gt; | clarity &lt;ord&gt; | depth &lt;dbl&gt; | table &lt;dbl&gt; | price &lt;int&gt; | x &lt;dbl&gt; | y &lt;dbl&gt; | z &lt;dbl&gt; |\n",
       "|---|---|---|---|---|---|---|---|---|---|\n",
       "| 0.23 | Ideal | E | SI2 | 61.5 | 55 | 326 | 3.95 | 3.98 | 2.43 |\n",
       "| 0.23 | Good  | E | VS1 | 56.9 | 65 | 327 | 4.05 | 4.07 | 2.31 |\n",
       "| 0.31 | Good  | J | SI2 | 63.3 | 58 | 335 | 4.34 | 4.35 | 2.75 |\n",
       "| 0.30 | Good  | J | SI1 | 64.0 | 55 | 339 | 4.25 | 4.28 | 2.73 |\n",
       "| 0.23 | Ideal | J | VS1 | 62.8 | 56 | 340 | 3.93 | 3.90 | 2.46 |\n",
       "| 0.31 | Ideal | J | SI2 | 62.2 | 54 | 344 | 4.35 | 4.37 | 2.71 |\n",
       "\n"
      ],
      "text/plain": [
       "  carat cut   color clarity depth table price x    y    z   \n",
       "1 0.23  Ideal E     SI2     61.5  55    326   3.95 3.98 2.43\n",
       "2 0.23  Good  E     VS1     56.9  65    327   4.05 4.07 2.31\n",
       "3 0.31  Good  J     SI2     63.3  58    335   4.34 4.35 2.75\n",
       "4 0.30  Good  J     SI1     64.0  55    339   4.25 4.28 2.73\n",
       "5 0.23  Ideal J     VS1     62.8  56    340   3.93 3.90 2.46\n",
       "6 0.31  Ideal J     SI2     62.2  54    344   4.35 4.37 2.71"
      ]
     },
     "metadata": {},
     "output_type": "display_data"
    }
   ],
   "source": [
    "# cut이 'Ideal'이거나 'Good'인 데이터 조회\n",
    "\n",
    "\n",
    "head(diamonds[diamonds$cut =='Ideal' | diamonds$cut == 'Good',])\n",
    "\n",
    "head(diamonds[diamonds$cut %in% c('Ideal','Good'),])\n",
    "\n",
    "\n",
    "diamonds %>% filter(cut == 'Ideal' | cut == 'Good') %>% head()\n",
    "\n",
    "\n",
    "diamonds %>% filter(cut %in% c('Ideal','Good')) %>% head()"
   ]
  },
  {
   "cell_type": "code",
   "execution_count": 138,
   "id": "ab31be6a-b0af-4c4d-9441-b85869807342",
   "metadata": {},
   "outputs": [
    {
     "data": {
      "text/html": [
       "<table class=\"dataframe\">\n",
       "<caption>A tibble: 6 × 4</caption>\n",
       "<thead>\n",
       "\t<tr><th scope=col>carat</th><th scope=col>price</th><th scope=col>Ratio</th><th scope=col>Double</th></tr>\n",
       "\t<tr><th scope=col>&lt;dbl&gt;</th><th scope=col>&lt;int&gt;</th><th scope=col>&lt;dbl&gt;</th><th scope=col>&lt;dbl&gt;</th></tr>\n",
       "</thead>\n",
       "<tbody>\n",
       "\t<tr><td>0.23</td><td>326</td><td>1417.391</td><td>2008998</td></tr>\n",
       "\t<tr><td>0.21</td><td>326</td><td>1552.381</td><td>2409887</td></tr>\n",
       "\t<tr><td>0.23</td><td>327</td><td>1421.739</td><td>2021342</td></tr>\n",
       "\t<tr><td>0.29</td><td>334</td><td>1151.724</td><td>1326468</td></tr>\n",
       "\t<tr><td>0.31</td><td>335</td><td>1080.645</td><td>1167794</td></tr>\n",
       "\t<tr><td>0.24</td><td>336</td><td>1400.000</td><td>1960000</td></tr>\n",
       "</tbody>\n",
       "</table>\n"
      ],
      "text/latex": [
       "A tibble: 6 × 4\n",
       "\\begin{tabular}{llll}\n",
       " carat & price & Ratio & Double\\\\\n",
       " <dbl> & <int> & <dbl> & <dbl>\\\\\n",
       "\\hline\n",
       "\t 0.23 & 326 & 1417.391 & 2008998\\\\\n",
       "\t 0.21 & 326 & 1552.381 & 2409887\\\\\n",
       "\t 0.23 & 327 & 1421.739 & 2021342\\\\\n",
       "\t 0.29 & 334 & 1151.724 & 1326468\\\\\n",
       "\t 0.31 & 335 & 1080.645 & 1167794\\\\\n",
       "\t 0.24 & 336 & 1400.000 & 1960000\\\\\n",
       "\\end{tabular}\n"
      ],
      "text/markdown": [
       "\n",
       "A tibble: 6 × 4\n",
       "\n",
       "| carat &lt;dbl&gt; | price &lt;int&gt; | Ratio &lt;dbl&gt; | Double &lt;dbl&gt; |\n",
       "|---|---|---|---|\n",
       "| 0.23 | 326 | 1417.391 | 2008998 |\n",
       "| 0.21 | 326 | 1552.381 | 2409887 |\n",
       "| 0.23 | 327 | 1421.739 | 2021342 |\n",
       "| 0.29 | 334 | 1151.724 | 1326468 |\n",
       "| 0.31 | 335 | 1080.645 | 1167794 |\n",
       "| 0.24 | 336 | 1400.000 | 1960000 |\n",
       "\n"
      ],
      "text/plain": [
       "  carat price Ratio    Double \n",
       "1 0.23  326   1417.391 2008998\n",
       "2 0.21  326   1552.381 2409887\n",
       "3 0.23  327   1421.739 2021342\n",
       "4 0.29  334   1151.724 1326468\n",
       "5 0.31  335   1080.645 1167794\n",
       "6 0.24  336   1400.000 1960000"
      ]
     },
     "metadata": {},
     "output_type": "display_data"
    }
   ],
   "source": [
    "# price를 carat으로 나눈 것을 Ratio라는 컬럼으로\n",
    "# Ratio 컬럼을 제곱한것을 Double이라는 컬럼으로 생성\n",
    "\n",
    "dia <- diamonds\n",
    "dia$Ratio <- dia$price / dia$carat\n",
    "dia$Double <- dia$Ratio **2\n",
    "\n",
    "head(dia[,c('carat','price','Ratio','Double')])"
   ]
  },
  {
   "cell_type": "code",
   "execution_count": 139,
   "id": "5d8b9479-80d2-41a1-b51c-260556a3af51",
   "metadata": {},
   "outputs": [
    {
     "data": {
      "text/html": [
       "<table class=\"dataframe\">\n",
       "<caption>A tibble: 6 × 4</caption>\n",
       "<thead>\n",
       "\t<tr><th scope=col>carat</th><th scope=col>price</th><th scope=col>Ratio</th><th scope=col>Double</th></tr>\n",
       "\t<tr><th scope=col>&lt;dbl&gt;</th><th scope=col>&lt;int&gt;</th><th scope=col>&lt;dbl&gt;</th><th scope=col>&lt;dbl&gt;</th></tr>\n",
       "</thead>\n",
       "<tbody>\n",
       "\t<tr><td>0.23</td><td>326</td><td>1417.391</td><td>2008998</td></tr>\n",
       "\t<tr><td>0.21</td><td>326</td><td>1552.381</td><td>2409887</td></tr>\n",
       "\t<tr><td>0.23</td><td>327</td><td>1421.739</td><td>2021342</td></tr>\n",
       "\t<tr><td>0.29</td><td>334</td><td>1151.724</td><td>1326468</td></tr>\n",
       "\t<tr><td>0.31</td><td>335</td><td>1080.645</td><td>1167794</td></tr>\n",
       "\t<tr><td>0.24</td><td>336</td><td>1400.000</td><td>1960000</td></tr>\n",
       "</tbody>\n",
       "</table>\n"
      ],
      "text/latex": [
       "A tibble: 6 × 4\n",
       "\\begin{tabular}{llll}\n",
       " carat & price & Ratio & Double\\\\\n",
       " <dbl> & <int> & <dbl> & <dbl>\\\\\n",
       "\\hline\n",
       "\t 0.23 & 326 & 1417.391 & 2008998\\\\\n",
       "\t 0.21 & 326 & 1552.381 & 2409887\\\\\n",
       "\t 0.23 & 327 & 1421.739 & 2021342\\\\\n",
       "\t 0.29 & 334 & 1151.724 & 1326468\\\\\n",
       "\t 0.31 & 335 & 1080.645 & 1167794\\\\\n",
       "\t 0.24 & 336 & 1400.000 & 1960000\\\\\n",
       "\\end{tabular}\n"
      ],
      "text/markdown": [
       "\n",
       "A tibble: 6 × 4\n",
       "\n",
       "| carat &lt;dbl&gt; | price &lt;int&gt; | Ratio &lt;dbl&gt; | Double &lt;dbl&gt; |\n",
       "|---|---|---|---|\n",
       "| 0.23 | 326 | 1417.391 | 2008998 |\n",
       "| 0.21 | 326 | 1552.381 | 2409887 |\n",
       "| 0.23 | 327 | 1421.739 | 2021342 |\n",
       "| 0.29 | 334 | 1151.724 | 1326468 |\n",
       "| 0.31 | 335 | 1080.645 | 1167794 |\n",
       "| 0.24 | 336 | 1400.000 | 1960000 |\n",
       "\n"
      ],
      "text/plain": [
       "  carat price Ratio    Double \n",
       "1 0.23  326   1417.391 2008998\n",
       "2 0.21  326   1552.381 2409887\n",
       "3 0.23  327   1421.739 2021342\n",
       "4 0.29  334   1151.724 1326468\n",
       "5 0.31  335   1080.645 1167794\n",
       "6 0.24  336   1400.000 1960000"
      ]
     },
     "metadata": {},
     "output_type": "display_data"
    }
   ],
   "source": [
    "dia <- diamonds\n",
    "\n",
    "dia %>% mutate(Ratio = price / carat, Double = Ratio **2) %>% select('carat','price','Ratio','Double') %>% head()"
   ]
  },
  {
   "cell_type": "code",
   "execution_count": 160,
   "id": "9bed4f1c-aa1b-47a4-9b6d-413710ea5408",
   "metadata": {},
   "outputs": [
    {
     "data": {
      "text/html": [
       "<table class=\"dataframe\">\n",
       "<caption>A data.frame: 1 × 3</caption>\n",
       "<thead>\n",
       "\t<tr><th scope=col>avgPrice</th><th scope=col>medPrice</th><th scope=col>avgCarat</th></tr>\n",
       "\t<tr><th scope=col>&lt;dbl&gt;</th><th scope=col>&lt;dbl&gt;</th><th scope=col>&lt;dbl&gt;</th></tr>\n",
       "</thead>\n",
       "<tbody>\n",
       "\t<tr><td>3932.8</td><td>2401</td><td>0.7979397</td></tr>\n",
       "</tbody>\n",
       "</table>\n"
      ],
      "text/latex": [
       "A data.frame: 1 × 3\n",
       "\\begin{tabular}{lll}\n",
       " avgPrice & medPrice & avgCarat\\\\\n",
       " <dbl> & <dbl> & <dbl>\\\\\n",
       "\\hline\n",
       "\t 3932.8 & 2401 & 0.7979397\\\\\n",
       "\\end{tabular}\n"
      ],
      "text/markdown": [
       "\n",
       "A data.frame: 1 × 3\n",
       "\n",
       "| avgPrice &lt;dbl&gt; | medPrice &lt;dbl&gt; | avgCarat &lt;dbl&gt; |\n",
       "|---|---|---|\n",
       "| 3932.8 | 2401 | 0.7979397 |\n",
       "\n"
      ],
      "text/plain": [
       "  avgPrice medPrice avgCarat \n",
       "1 3932.8   2401     0.7979397"
      ]
     },
     "metadata": {},
     "output_type": "display_data"
    }
   ],
   "source": [
    "# 평균 가격price와 price의 중앙값, 평균 carat을 집계\n",
    "\n",
    "\n",
    "c1 <- mean(diamonds$price)\n",
    "c2 <- median(diamonds$price)\n",
    "c3 <- mean(diamonds$carat)\n",
    "\n",
    "\n",
    "# 여러컬럼을 하나로 묶음 : cbind, data.frame\n",
    "\n",
    "df <- data.frame(c1,c2,c3)\n",
    "\n",
    "colnames(df) = c('avgPrice', 'medPrice', 'avgCarat')\n",
    "\n",
    "df"
   ]
  },
  {
   "cell_type": "code",
   "execution_count": 146,
   "id": "229e8bdd-4166-4496-95ee-b98924757ad5",
   "metadata": {},
   "outputs": [
    {
     "data": {
      "text/html": [
       "<table class=\"dataframe\">\n",
       "<caption>A tibble: 1 × 3</caption>\n",
       "<thead>\n",
       "\t<tr><th scope=col>avgPrice</th><th scope=col>medPrice</th><th scope=col>avgCarat</th></tr>\n",
       "\t<tr><th scope=col>&lt;dbl&gt;</th><th scope=col>&lt;dbl&gt;</th><th scope=col>&lt;dbl&gt;</th></tr>\n",
       "</thead>\n",
       "<tbody>\n",
       "\t<tr><td>3932.8</td><td>2401</td><td>0.7979397</td></tr>\n",
       "</tbody>\n",
       "</table>\n"
      ],
      "text/latex": [
       "A tibble: 1 × 3\n",
       "\\begin{tabular}{lll}\n",
       " avgPrice & medPrice & avgCarat\\\\\n",
       " <dbl> & <dbl> & <dbl>\\\\\n",
       "\\hline\n",
       "\t 3932.8 & 2401 & 0.7979397\\\\\n",
       "\\end{tabular}\n"
      ],
      "text/markdown": [
       "\n",
       "A tibble: 1 × 3\n",
       "\n",
       "| avgPrice &lt;dbl&gt; | medPrice &lt;dbl&gt; | avgCarat &lt;dbl&gt; |\n",
       "|---|---|---|\n",
       "| 3932.8 | 2401 | 0.7979397 |\n",
       "\n"
      ],
      "text/plain": [
       "  avgPrice medPrice avgCarat \n",
       "1 3932.8   2401     0.7979397"
      ]
     },
     "metadata": {},
     "output_type": "display_data"
    }
   ],
   "source": [
    "diamonds %>% summarise(avgPrice=mean(price), medPrice=median(price), avgCarat=mean(carat))"
   ]
  },
  {
   "cell_type": "markdown",
   "id": "0b369131-0f46-4e30-b36f-8a49bc8f5ccd",
   "metadata": {},
   "source": [
    "## 집계처리 : aggregate\n",
    "+ aggregate(집계대상컬럼, by=그룹대상컬럼, 집계함수)\n",
    "+ aggregate(인자식, 데이터, 집계함수)\n",
    "+ 집계시 사용하는 인자식 예 : a ~ b + c\n",
    "  - a : 집계하고자 하는 대상\n",
    "  - b : 그룹으로 묶을 기준1\n",
    "  - c : 그룹으로 묶을 기준2"
   ]
  },
  {
   "cell_type": "code",
   "execution_count": 162,
   "id": "2f9bd641-732d-4e33-8531-184fac55a91a",
   "metadata": {},
   "outputs": [
    {
     "data": {
      "text/html": [
       "<table class=\"dataframe\">\n",
       "<caption>A data.frame: 5 × 2</caption>\n",
       "<thead>\n",
       "\t<tr><th scope=col>Group.1</th><th scope=col>x</th></tr>\n",
       "\t<tr><th scope=col>&lt;ord&gt;</th><th scope=col>&lt;dbl&gt;</th></tr>\n",
       "</thead>\n",
       "<tbody>\n",
       "\t<tr><td>Fair     </td><td>4358.758</td></tr>\n",
       "\t<tr><td>Good     </td><td>3928.864</td></tr>\n",
       "\t<tr><td>Very Good</td><td>3981.760</td></tr>\n",
       "\t<tr><td>Premium  </td><td>4584.258</td></tr>\n",
       "\t<tr><td>Ideal    </td><td>3457.542</td></tr>\n",
       "</tbody>\n",
       "</table>\n"
      ],
      "text/latex": [
       "A data.frame: 5 × 2\n",
       "\\begin{tabular}{ll}\n",
       " Group.1 & x\\\\\n",
       " <ord> & <dbl>\\\\\n",
       "\\hline\n",
       "\t Fair      & 4358.758\\\\\n",
       "\t Good      & 3928.864\\\\\n",
       "\t Very Good & 3981.760\\\\\n",
       "\t Premium   & 4584.258\\\\\n",
       "\t Ideal     & 3457.542\\\\\n",
       "\\end{tabular}\n"
      ],
      "text/markdown": [
       "\n",
       "A data.frame: 5 × 2\n",
       "\n",
       "| Group.1 &lt;ord&gt; | x &lt;dbl&gt; |\n",
       "|---|---|\n",
       "| Fair      | 4358.758 |\n",
       "| Good      | 3928.864 |\n",
       "| Very Good | 3981.760 |\n",
       "| Premium   | 4584.258 |\n",
       "| Ideal     | 3457.542 |\n",
       "\n"
      ],
      "text/plain": [
       "  Group.1   x       \n",
       "1 Fair      4358.758\n",
       "2 Good      3928.864\n",
       "3 Very Good 3981.760\n",
       "4 Premium   4584.258\n",
       "5 Ideal     3457.542"
      ]
     },
     "metadata": {},
     "output_type": "display_data"
    }
   ],
   "source": [
    "# cut 기준으로 평균 price를 집계\n",
    "\n",
    "aggregate(diamonds$price, by=list(diamonds$cut), FUN=mean)"
   ]
  },
  {
   "cell_type": "code",
   "execution_count": 166,
   "id": "b58351e7-5ea0-46df-a7ff-b5f9ca5d3528",
   "metadata": {
    "tags": []
   },
   "outputs": [
    {
     "data": {
      "text/html": [
       "<table class=\"dataframe\">\n",
       "<caption>A data.frame: 5 × 2</caption>\n",
       "<thead>\n",
       "\t<tr><th scope=col>cut</th><th scope=col>price</th></tr>\n",
       "\t<tr><th scope=col>&lt;ord&gt;</th><th scope=col>&lt;dbl&gt;</th></tr>\n",
       "</thead>\n",
       "<tbody>\n",
       "\t<tr><td>Fair     </td><td>4358.758</td></tr>\n",
       "\t<tr><td>Good     </td><td>3928.864</td></tr>\n",
       "\t<tr><td>Very Good</td><td>3981.760</td></tr>\n",
       "\t<tr><td>Premium  </td><td>4584.258</td></tr>\n",
       "\t<tr><td>Ideal    </td><td>3457.542</td></tr>\n",
       "</tbody>\n",
       "</table>\n"
      ],
      "text/latex": [
       "A data.frame: 5 × 2\n",
       "\\begin{tabular}{ll}\n",
       " cut & price\\\\\n",
       " <ord> & <dbl>\\\\\n",
       "\\hline\n",
       "\t Fair      & 4358.758\\\\\n",
       "\t Good      & 3928.864\\\\\n",
       "\t Very Good & 3981.760\\\\\n",
       "\t Premium   & 4584.258\\\\\n",
       "\t Ideal     & 3457.542\\\\\n",
       "\\end{tabular}\n"
      ],
      "text/markdown": [
       "\n",
       "A data.frame: 5 × 2\n",
       "\n",
       "| cut &lt;ord&gt; | price &lt;dbl&gt; |\n",
       "|---|---|\n",
       "| Fair      | 4358.758 |\n",
       "| Good      | 3928.864 |\n",
       "| Very Good | 3981.760 |\n",
       "| Premium   | 4584.258 |\n",
       "| Ideal     | 3457.542 |\n",
       "\n"
      ],
      "text/plain": [
       "  cut       price   \n",
       "1 Fair      4358.758\n",
       "2 Good      3928.864\n",
       "3 Very Good 3981.760\n",
       "4 Premium   4584.258\n",
       "5 Ideal     3457.542"
      ]
     },
     "metadata": {},
     "output_type": "display_data"
    }
   ],
   "source": [
    "aggregate(price ~ cut, diamonds, FUN=mean)"
   ]
  },
  {
   "cell_type": "code",
   "execution_count": 169,
   "id": "48ead43a-aab8-48d1-a143-1171bf3e6126",
   "metadata": {},
   "outputs": [
    {
     "data": {
      "text/html": [
       "<table class=\"dataframe\">\n",
       "<caption>A tibble: 5 × 2</caption>\n",
       "<thead>\n",
       "\t<tr><th scope=col>cut</th><th scope=col>avgPrice</th></tr>\n",
       "\t<tr><th scope=col>&lt;ord&gt;</th><th scope=col>&lt;dbl&gt;</th></tr>\n",
       "</thead>\n",
       "<tbody>\n",
       "\t<tr><td>Fair     </td><td>4358.758</td></tr>\n",
       "\t<tr><td>Good     </td><td>3928.864</td></tr>\n",
       "\t<tr><td>Very Good</td><td>3981.760</td></tr>\n",
       "\t<tr><td>Premium  </td><td>4584.258</td></tr>\n",
       "\t<tr><td>Ideal    </td><td>3457.542</td></tr>\n",
       "</tbody>\n",
       "</table>\n"
      ],
      "text/latex": [
       "A tibble: 5 × 2\n",
       "\\begin{tabular}{ll}\n",
       " cut & avgPrice\\\\\n",
       " <ord> & <dbl>\\\\\n",
       "\\hline\n",
       "\t Fair      & 4358.758\\\\\n",
       "\t Good      & 3928.864\\\\\n",
       "\t Very Good & 3981.760\\\\\n",
       "\t Premium   & 4584.258\\\\\n",
       "\t Ideal     & 3457.542\\\\\n",
       "\\end{tabular}\n"
      ],
      "text/markdown": [
       "\n",
       "A tibble: 5 × 2\n",
       "\n",
       "| cut &lt;ord&gt; | avgPrice &lt;dbl&gt; |\n",
       "|---|---|\n",
       "| Fair      | 4358.758 |\n",
       "| Good      | 3928.864 |\n",
       "| Very Good | 3981.760 |\n",
       "| Premium   | 4584.258 |\n",
       "| Ideal     | 3457.542 |\n",
       "\n"
      ],
      "text/plain": [
       "  cut       avgPrice\n",
       "1 Fair      4358.758\n",
       "2 Good      3928.864\n",
       "3 Very Good 3981.760\n",
       "4 Premium   4584.258\n",
       "5 Ideal     3457.542"
      ]
     },
     "metadata": {},
     "output_type": "display_data"
    }
   ],
   "source": [
    "diamonds %>% group_by(cut) %>% summarise(avgPrice=mean(price))"
   ]
  },
  {
   "cell_type": "code",
   "execution_count": 177,
   "id": "6c45687d-6a55-4dd0-a18a-56b7c4204f8d",
   "metadata": {},
   "outputs": [
    {
     "data": {
      "text/html": [
       "<table class=\"dataframe\">\n",
       "<caption>A data.frame: 6 × 3</caption>\n",
       "<thead>\n",
       "\t<tr><th></th><th scope=col>cut</th><th scope=col>color</th><th scope=col>price</th></tr>\n",
       "\t<tr><th></th><th scope=col>&lt;ord&gt;</th><th scope=col>&lt;ord&gt;</th><th scope=col>&lt;dbl&gt;</th></tr>\n",
       "</thead>\n",
       "<tbody>\n",
       "\t<tr><th scope=row>1</th><td>Fair     </td><td>D</td><td>4291.061</td></tr>\n",
       "\t<tr><th scope=row>2</th><td>Good     </td><td>D</td><td>3405.382</td></tr>\n",
       "\t<tr><th scope=row>3</th><td>Very Good</td><td>D</td><td>3470.467</td></tr>\n",
       "\t<tr><th scope=row>4</th><td>Premium  </td><td>D</td><td>3631.293</td></tr>\n",
       "\t<tr><th scope=row>5</th><td>Ideal    </td><td>D</td><td>2629.095</td></tr>\n",
       "\t<tr><th scope=row>6</th><td>Fair     </td><td>E</td><td>3682.312</td></tr>\n",
       "</tbody>\n",
       "</table>\n"
      ],
      "text/latex": [
       "A data.frame: 6 × 3\n",
       "\\begin{tabular}{r|lll}\n",
       "  & cut & color & price\\\\\n",
       "  & <ord> & <ord> & <dbl>\\\\\n",
       "\\hline\n",
       "\t1 & Fair      & D & 4291.061\\\\\n",
       "\t2 & Good      & D & 3405.382\\\\\n",
       "\t3 & Very Good & D & 3470.467\\\\\n",
       "\t4 & Premium   & D & 3631.293\\\\\n",
       "\t5 & Ideal     & D & 2629.095\\\\\n",
       "\t6 & Fair      & E & 3682.312\\\\\n",
       "\\end{tabular}\n"
      ],
      "text/markdown": [
       "\n",
       "A data.frame: 6 × 3\n",
       "\n",
       "| <!--/--> | cut &lt;ord&gt; | color &lt;ord&gt; | price &lt;dbl&gt; |\n",
       "|---|---|---|---|\n",
       "| 1 | Fair      | D | 4291.061 |\n",
       "| 2 | Good      | D | 3405.382 |\n",
       "| 3 | Very Good | D | 3470.467 |\n",
       "| 4 | Premium   | D | 3631.293 |\n",
       "| 5 | Ideal     | D | 2629.095 |\n",
       "| 6 | Fair      | E | 3682.312 |\n",
       "\n"
      ],
      "text/plain": [
       "  cut       color price   \n",
       "1 Fair      D     4291.061\n",
       "2 Good      D     3405.382\n",
       "3 Very Good D     3470.467\n",
       "4 Premium   D     3631.293\n",
       "5 Ideal     D     2629.095\n",
       "6 Fair      E     3682.312"
      ]
     },
     "metadata": {},
     "output_type": "display_data"
    },
    {
     "data": {
      "text/html": [
       "<table class=\"dataframe\">\n",
       "<caption>A data.frame: 6 × 3</caption>\n",
       "<thead>\n",
       "\t<tr><th></th><th scope=col>cut</th><th scope=col>color</th><th scope=col>carat</th></tr>\n",
       "\t<tr><th></th><th scope=col>&lt;ord&gt;</th><th scope=col>&lt;ord&gt;</th><th scope=col>&lt;dbl&gt;</th></tr>\n",
       "</thead>\n",
       "<tbody>\n",
       "\t<tr><th scope=row>1</th><td>Fair     </td><td>D</td><td> 149.98</td></tr>\n",
       "\t<tr><th scope=row>2</th><td>Good     </td><td>D</td><td> 492.87</td></tr>\n",
       "\t<tr><th scope=row>3</th><td>Very Good</td><td>D</td><td>1053.69</td></tr>\n",
       "\t<tr><th scope=row>4</th><td>Premium  </td><td>D</td><td>1156.64</td></tr>\n",
       "\t<tr><th scope=row>5</th><td>Ideal    </td><td>D</td><td>1603.38</td></tr>\n",
       "\t<tr><th scope=row>6</th><td>Fair     </td><td>E</td><td> 191.88</td></tr>\n",
       "</tbody>\n",
       "</table>\n"
      ],
      "text/latex": [
       "A data.frame: 6 × 3\n",
       "\\begin{tabular}{r|lll}\n",
       "  & cut & color & carat\\\\\n",
       "  & <ord> & <ord> & <dbl>\\\\\n",
       "\\hline\n",
       "\t1 & Fair      & D &  149.98\\\\\n",
       "\t2 & Good      & D &  492.87\\\\\n",
       "\t3 & Very Good & D & 1053.69\\\\\n",
       "\t4 & Premium   & D & 1156.64\\\\\n",
       "\t5 & Ideal     & D & 1603.38\\\\\n",
       "\t6 & Fair      & E &  191.88\\\\\n",
       "\\end{tabular}\n"
      ],
      "text/markdown": [
       "\n",
       "A data.frame: 6 × 3\n",
       "\n",
       "| <!--/--> | cut &lt;ord&gt; | color &lt;ord&gt; | carat &lt;dbl&gt; |\n",
       "|---|---|---|---|\n",
       "| 1 | Fair      | D |  149.98 |\n",
       "| 2 | Good      | D |  492.87 |\n",
       "| 3 | Very Good | D | 1053.69 |\n",
       "| 4 | Premium   | D | 1156.64 |\n",
       "| 5 | Ideal     | D | 1603.38 |\n",
       "| 6 | Fair      | E |  191.88 |\n",
       "\n"
      ],
      "text/plain": [
       "  cut       color carat  \n",
       "1 Fair      D      149.98\n",
       "2 Good      D      492.87\n",
       "3 Very Good D     1053.69\n",
       "4 Premium   D     1156.64\n",
       "5 Ideal     D     1603.38\n",
       "6 Fair      E      191.88"
      ]
     },
     "metadata": {},
     "output_type": "display_data"
    }
   ],
   "source": [
    "# cut, color 기준으로 평균 가격을 avgPrice로, 총 carat을 sumCarat이라는 이름으로 집계\n",
    "\n",
    "head(aggregate(price ~ cut + color, diamonds, FUN=mean))\n",
    "head(aggregate(carat ~ cut + color, diamonds, FUN=sum))"
   ]
  },
  {
   "cell_type": "code",
   "execution_count": 183,
   "id": "07f09660-78f8-4bb9-b0cd-ae9ba7e6b42a",
   "metadata": {},
   "outputs": [
    {
     "data": {
      "text/html": [
       "<table class=\"dataframe\">\n",
       "<caption>A data.frame: 35 × 3</caption>\n",
       "<thead>\n",
       "\t<tr><th scope=col>cut</th><th scope=col>color</th><th scope=col>carat</th></tr>\n",
       "\t<tr><th scope=col>&lt;ord&gt;</th><th scope=col>&lt;ord&gt;</th><th scope=col>&lt;dbl[,2]&gt;</th></tr>\n",
       "</thead>\n",
       "<tbody>\n",
       "\t<tr><td>Fair     </td><td>D</td><td>0.9201227,  149.98</td></tr>\n",
       "\t<tr><td>Good     </td><td>D</td><td>0.7445166,  492.87</td></tr>\n",
       "\t<tr><td>Very Good</td><td>D</td><td>0.6964243, 1053.69</td></tr>\n",
       "\t<tr><td>Premium  </td><td>D</td><td>0.7215471, 1156.64</td></tr>\n",
       "\t<tr><td>Ideal    </td><td>D</td><td>0.5657657, 1603.38</td></tr>\n",
       "\t<tr><td>Fair     </td><td>E</td><td>0.8566071,  191.88</td></tr>\n",
       "\t<tr><td>Good     </td><td>E</td><td>0.7451340,  695.21</td></tr>\n",
       "\t<tr><td>Very Good</td><td>E</td><td>0.6763167, 1623.16</td></tr>\n",
       "\t<tr><td>Premium  </td><td>E</td><td>0.7177450, 1677.37</td></tr>\n",
       "\t<tr><td>Ideal    </td><td>E</td><td>0.5784012, 2257.50</td></tr>\n",
       "\t<tr><td>Fair     </td><td>F</td><td>0.9047115,  282.27</td></tr>\n",
       "\t<tr><td>Good     </td><td>F</td><td>0.7759296,  705.32</td></tr>\n",
       "\t<tr><td>Very Good</td><td>F</td><td>0.7409612, 1603.44</td></tr>\n",
       "\t<tr><td>Premium  </td><td>F</td><td>0.8270356, 1927.82</td></tr>\n",
       "\t<tr><td>Ideal    </td><td>F</td><td>0.6558285, 2509.20</td></tr>\n",
       "\t<tr><td>Fair     </td><td>G</td><td>1.0238217,  321.48</td></tr>\n",
       "\t<tr><td>Good     </td><td>G</td><td>0.8508955,  741.13</td></tr>\n",
       "\t<tr><td>Very Good</td><td>G</td><td>0.7667986, 1762.87</td></tr>\n",
       "\t<tr><td>Premium  </td><td>G</td><td>0.8414877, 2460.51</td></tr>\n",
       "\t<tr><td>Ideal    </td><td>G</td><td>0.7007146, 3422.29</td></tr>\n",
       "\t<tr><td>Fair     </td><td>H</td><td>1.2191749,  369.41</td></tr>\n",
       "\t<tr><td>Good     </td><td>H</td><td>0.9147293,  642.14</td></tr>\n",
       "\t<tr><td>Very Good</td><td>H</td><td>0.9159485, 1670.69</td></tr>\n",
       "\t<tr><td>Premium  </td><td>H</td><td>1.0164492, 2398.82</td></tr>\n",
       "\t<tr><td>Ideal    </td><td>H</td><td>0.7995249, 2490.52</td></tr>\n",
       "\t<tr><td>Fair     </td><td>I</td><td>1.1980571,  209.66</td></tr>\n",
       "\t<tr><td>Good     </td><td>I</td><td>1.0572222,  551.87</td></tr>\n",
       "\t<tr><td>Very Good</td><td>I</td><td>1.0469518, 1260.53</td></tr>\n",
       "\t<tr><td>Premium  </td><td>I</td><td>1.1449370, 1634.97</td></tr>\n",
       "\t<tr><td>Ideal    </td><td>I</td><td>0.9130291, 1910.97</td></tr>\n",
       "\t<tr><td>Fair     </td><td>J</td><td>1.3411765,  159.60</td></tr>\n",
       "\t<tr><td>Good     </td><td>J</td><td>1.0995440,  337.56</td></tr>\n",
       "\t<tr><td>Very Good</td><td>J</td><td>1.1332153,  768.32</td></tr>\n",
       "\t<tr><td>Premium  </td><td>J</td><td>1.2930941, 1044.82</td></tr>\n",
       "\t<tr><td>Ideal    </td><td>J</td><td>1.0635937,  952.98</td></tr>\n",
       "</tbody>\n",
       "</table>\n"
      ],
      "text/latex": [
       "A data.frame: 35 × 3\n",
       "\\begin{tabular}{lll}\n",
       " cut & color & carat\\\\\n",
       " <ord> & <ord> & <dbl{[},2{]}>\\\\\n",
       "\\hline\n",
       "\t Fair      & D & 0.9201227,  149.98\\\\\n",
       "\t Good      & D & 0.7445166,  492.87\\\\\n",
       "\t Very Good & D & 0.6964243, 1053.69\\\\\n",
       "\t Premium   & D & 0.7215471, 1156.64\\\\\n",
       "\t Ideal     & D & 0.5657657, 1603.38\\\\\n",
       "\t Fair      & E & 0.8566071,  191.88\\\\\n",
       "\t Good      & E & 0.7451340,  695.21\\\\\n",
       "\t Very Good & E & 0.6763167, 1623.16\\\\\n",
       "\t Premium   & E & 0.7177450, 1677.37\\\\\n",
       "\t Ideal     & E & 0.5784012, 2257.50\\\\\n",
       "\t Fair      & F & 0.9047115,  282.27\\\\\n",
       "\t Good      & F & 0.7759296,  705.32\\\\\n",
       "\t Very Good & F & 0.7409612, 1603.44\\\\\n",
       "\t Premium   & F & 0.8270356, 1927.82\\\\\n",
       "\t Ideal     & F & 0.6558285, 2509.20\\\\\n",
       "\t Fair      & G & 1.0238217,  321.48\\\\\n",
       "\t Good      & G & 0.8508955,  741.13\\\\\n",
       "\t Very Good & G & 0.7667986, 1762.87\\\\\n",
       "\t Premium   & G & 0.8414877, 2460.51\\\\\n",
       "\t Ideal     & G & 0.7007146, 3422.29\\\\\n",
       "\t Fair      & H & 1.2191749,  369.41\\\\\n",
       "\t Good      & H & 0.9147293,  642.14\\\\\n",
       "\t Very Good & H & 0.9159485, 1670.69\\\\\n",
       "\t Premium   & H & 1.0164492, 2398.82\\\\\n",
       "\t Ideal     & H & 0.7995249, 2490.52\\\\\n",
       "\t Fair      & I & 1.1980571,  209.66\\\\\n",
       "\t Good      & I & 1.0572222,  551.87\\\\\n",
       "\t Very Good & I & 1.0469518, 1260.53\\\\\n",
       "\t Premium   & I & 1.1449370, 1634.97\\\\\n",
       "\t Ideal     & I & 0.9130291, 1910.97\\\\\n",
       "\t Fair      & J & 1.3411765,  159.60\\\\\n",
       "\t Good      & J & 1.0995440,  337.56\\\\\n",
       "\t Very Good & J & 1.1332153,  768.32\\\\\n",
       "\t Premium   & J & 1.2930941, 1044.82\\\\\n",
       "\t Ideal     & J & 1.0635937,  952.98\\\\\n",
       "\\end{tabular}\n"
      ],
      "text/markdown": [
       "\n",
       "A data.frame: 35 × 3\n",
       "\n",
       "| cut &lt;ord&gt; | color &lt;ord&gt; | carat &lt;dbl[,2]&gt; |\n",
       "|---|---|---|\n",
       "| Fair      | D | 0.9201227,  149.98 |\n",
       "| Good      | D | 0.7445166,  492.87 |\n",
       "| Very Good | D | 0.6964243, 1053.69 |\n",
       "| Premium   | D | 0.7215471, 1156.64 |\n",
       "| Ideal     | D | 0.5657657, 1603.38 |\n",
       "| Fair      | E | 0.8566071,  191.88 |\n",
       "| Good      | E | 0.7451340,  695.21 |\n",
       "| Very Good | E | 0.6763167, 1623.16 |\n",
       "| Premium   | E | 0.7177450, 1677.37 |\n",
       "| Ideal     | E | 0.5784012, 2257.50 |\n",
       "| Fair      | F | 0.9047115,  282.27 |\n",
       "| Good      | F | 0.7759296,  705.32 |\n",
       "| Very Good | F | 0.7409612, 1603.44 |\n",
       "| Premium   | F | 0.8270356, 1927.82 |\n",
       "| Ideal     | F | 0.6558285, 2509.20 |\n",
       "| Fair      | G | 1.0238217,  321.48 |\n",
       "| Good      | G | 0.8508955,  741.13 |\n",
       "| Very Good | G | 0.7667986, 1762.87 |\n",
       "| Premium   | G | 0.8414877, 2460.51 |\n",
       "| Ideal     | G | 0.7007146, 3422.29 |\n",
       "| Fair      | H | 1.2191749,  369.41 |\n",
       "| Good      | H | 0.9147293,  642.14 |\n",
       "| Very Good | H | 0.9159485, 1670.69 |\n",
       "| Premium   | H | 1.0164492, 2398.82 |\n",
       "| Ideal     | H | 0.7995249, 2490.52 |\n",
       "| Fair      | I | 1.1980571,  209.66 |\n",
       "| Good      | I | 1.0572222,  551.87 |\n",
       "| Very Good | I | 1.0469518, 1260.53 |\n",
       "| Premium   | I | 1.1449370, 1634.97 |\n",
       "| Ideal     | I | 0.9130291, 1910.97 |\n",
       "| Fair      | J | 1.3411765,  159.60 |\n",
       "| Good      | J | 1.0995440,  337.56 |\n",
       "| Very Good | J | 1.1332153,  768.32 |\n",
       "| Premium   | J | 1.2930941, 1044.82 |\n",
       "| Ideal     | J | 1.0635937,  952.98 |\n",
       "\n"
      ],
      "text/plain": [
       "   cut       color carat             \n",
       "1  Fair      D     0.9201227,  149.98\n",
       "2  Good      D     0.7445166,  492.87\n",
       "3  Very Good D     0.6964243, 1053.69\n",
       "4  Premium   D     0.7215471, 1156.64\n",
       "5  Ideal     D     0.5657657, 1603.38\n",
       "6  Fair      E     0.8566071,  191.88\n",
       "7  Good      E     0.7451340,  695.21\n",
       "8  Very Good E     0.6763167, 1623.16\n",
       "9  Premium   E     0.7177450, 1677.37\n",
       "10 Ideal     E     0.5784012, 2257.50\n",
       "11 Fair      F     0.9047115,  282.27\n",
       "12 Good      F     0.7759296,  705.32\n",
       "13 Very Good F     0.7409612, 1603.44\n",
       "14 Premium   F     0.8270356, 1927.82\n",
       "15 Ideal     F     0.6558285, 2509.20\n",
       "16 Fair      G     1.0238217,  321.48\n",
       "17 Good      G     0.8508955,  741.13\n",
       "18 Very Good G     0.7667986, 1762.87\n",
       "19 Premium   G     0.8414877, 2460.51\n",
       "20 Ideal     G     0.7007146, 3422.29\n",
       "21 Fair      H     1.2191749,  369.41\n",
       "22 Good      H     0.9147293,  642.14\n",
       "23 Very Good H     0.9159485, 1670.69\n",
       "24 Premium   H     1.0164492, 2398.82\n",
       "25 Ideal     H     0.7995249, 2490.52\n",
       "26 Fair      I     1.1980571,  209.66\n",
       "27 Good      I     1.0572222,  551.87\n",
       "28 Very Good I     1.0469518, 1260.53\n",
       "29 Premium   I     1.1449370, 1634.97\n",
       "30 Ideal     I     0.9130291, 1910.97\n",
       "31 Fair      J     1.3411765,  159.60\n",
       "32 Good      J     1.0995440,  337.56\n",
       "33 Very Good J     1.1332153,  768.32\n",
       "34 Premium   J     1.2930941, 1044.82\n",
       "35 Ideal     J     1.0635937,  952.98"
      ]
     },
     "metadata": {},
     "output_type": "display_data"
    }
   ],
   "source": [
    "# aggregate함수에 집계함수를 2개 이상 사용하려면\n",
    "# plyr 패키지의 each 함수를 사용해야함\n",
    "# 단, 하나의 집계대상 컬럼에만 적용가능\n",
    "#install.packages('plyr')\n",
    "\n",
    "library(plyr)\n",
    "\n",
    "aggregate(carat ~ cut + color, diamonds, each(mean, sum))"
   ]
  },
  {
   "cell_type": "code",
   "execution_count": 190,
   "id": "95a03e5d-3789-4bbe-a1c1-8d1ff56b3b21",
   "metadata": {},
   "outputs": [
    {
     "data": {
      "text/html": [
       "<table class=\"dataframe\">\n",
       "<caption>A data.frame: 1 × 2</caption>\n",
       "<thead>\n",
       "\t<tr><th scope=col>avgPrice</th><th scope=col>sumCarat</th></tr>\n",
       "\t<tr><th scope=col>&lt;dbl&gt;</th><th scope=col>&lt;dbl&gt;</th></tr>\n",
       "</thead>\n",
       "<tbody>\n",
       "\t<tr><td>3932.8</td><td>43040.87</td></tr>\n",
       "</tbody>\n",
       "</table>\n"
      ],
      "text/latex": [
       "A data.frame: 1 × 2\n",
       "\\begin{tabular}{ll}\n",
       " avgPrice & sumCarat\\\\\n",
       " <dbl> & <dbl>\\\\\n",
       "\\hline\n",
       "\t 3932.8 & 43040.87\\\\\n",
       "\\end{tabular}\n"
      ],
      "text/markdown": [
       "\n",
       "A data.frame: 1 × 2\n",
       "\n",
       "| avgPrice &lt;dbl&gt; | sumCarat &lt;dbl&gt; |\n",
       "|---|---|\n",
       "| 3932.8 | 43040.87 |\n",
       "\n"
      ],
      "text/plain": [
       "  avgPrice sumCarat\n",
       "1 3932.8   43040.87"
      ]
     },
     "metadata": {},
     "output_type": "display_data"
    }
   ],
   "source": [
    "diamonds %>% group_by(cut, color) %>% summarise(avgPrice=mean(price), sumCarat=sum(carat))"
   ]
  },
  {
   "cell_type": "code",
   "execution_count": 210,
   "id": "b8cf295a-9335-4409-b239-1717c0bb0362",
   "metadata": {},
   "outputs": [],
   "source": [
    "# plyr 패키지를 메모리에서 제거\n",
    "#detach('package:plyr', unload=T)"
   ]
  },
  {
   "cell_type": "code",
   "execution_count": 208,
   "id": "dbe0616d-2138-47d1-8db2-a102418e1451",
   "metadata": {},
   "outputs": [
    {
     "data": {
      "text/html": [
       "<table class=\"dataframe\">\n",
       "<caption>A data.frame: 7 × 2</caption>\n",
       "<thead>\n",
       "\t<tr><th scope=col>color</th><th scope=col>price</th></tr>\n",
       "\t<tr><th scope=col>&lt;ord&gt;</th><th scope=col>&lt;dbl&gt;</th></tr>\n",
       "</thead>\n",
       "<tbody>\n",
       "\t<tr><td>D</td><td>3169.954</td></tr>\n",
       "\t<tr><td>E</td><td>3076.752</td></tr>\n",
       "\t<tr><td>F</td><td>3724.886</td></tr>\n",
       "\t<tr><td>G</td><td>3999.136</td></tr>\n",
       "\t<tr><td>H</td><td>4486.669</td></tr>\n",
       "\t<tr><td>I</td><td>5091.875</td></tr>\n",
       "\t<tr><td>J</td><td>5323.818</td></tr>\n",
       "</tbody>\n",
       "</table>\n"
      ],
      "text/latex": [
       "A data.frame: 7 × 2\n",
       "\\begin{tabular}{ll}\n",
       " color & price\\\\\n",
       " <ord> & <dbl>\\\\\n",
       "\\hline\n",
       "\t D & 3169.954\\\\\n",
       "\t E & 3076.752\\\\\n",
       "\t F & 3724.886\\\\\n",
       "\t G & 3999.136\\\\\n",
       "\t H & 4486.669\\\\\n",
       "\t I & 5091.875\\\\\n",
       "\t J & 5323.818\\\\\n",
       "\\end{tabular}\n"
      ],
      "text/markdown": [
       "\n",
       "A data.frame: 7 × 2\n",
       "\n",
       "| color &lt;ord&gt; | price &lt;dbl&gt; |\n",
       "|---|---|\n",
       "| D | 3169.954 |\n",
       "| E | 3076.752 |\n",
       "| F | 3724.886 |\n",
       "| G | 3999.136 |\n",
       "| H | 4486.669 |\n",
       "| I | 5091.875 |\n",
       "| J | 5323.818 |\n",
       "\n"
      ],
      "text/plain": [
       "  color price   \n",
       "1 D     3169.954\n",
       "2 E     3076.752\n",
       "3 F     3724.886\n",
       "4 G     3999.136\n",
       "5 H     4486.669\n",
       "6 I     5091.875\n",
       "7 J     5323.818"
      ]
     },
     "metadata": {},
     "output_type": "display_data"
    },
    {
     "data": {
      "text/html": [
       "<table class=\"dataframe\">\n",
       "<caption>A data.frame: 7 × 2</caption>\n",
       "<thead>\n",
       "\t<tr><th scope=col>color</th><th scope=col>carat</th></tr>\n",
       "\t<tr><th scope=col>&lt;ord&gt;</th><th scope=col>&lt;dbl&gt;</th></tr>\n",
       "</thead>\n",
       "<tbody>\n",
       "\t<tr><td>D</td><td>4456.56</td></tr>\n",
       "\t<tr><td>E</td><td>6445.12</td></tr>\n",
       "\t<tr><td>F</td><td>7028.05</td></tr>\n",
       "\t<tr><td>G</td><td>8708.28</td></tr>\n",
       "\t<tr><td>H</td><td>7571.58</td></tr>\n",
       "\t<tr><td>I</td><td>5568.00</td></tr>\n",
       "\t<tr><td>J</td><td>3263.28</td></tr>\n",
       "</tbody>\n",
       "</table>\n"
      ],
      "text/latex": [
       "A data.frame: 7 × 2\n",
       "\\begin{tabular}{ll}\n",
       " color & carat\\\\\n",
       " <ord> & <dbl>\\\\\n",
       "\\hline\n",
       "\t D & 4456.56\\\\\n",
       "\t E & 6445.12\\\\\n",
       "\t F & 7028.05\\\\\n",
       "\t G & 8708.28\\\\\n",
       "\t H & 7571.58\\\\\n",
       "\t I & 5568.00\\\\\n",
       "\t J & 3263.28\\\\\n",
       "\\end{tabular}\n"
      ],
      "text/markdown": [
       "\n",
       "A data.frame: 7 × 2\n",
       "\n",
       "| color &lt;ord&gt; | carat &lt;dbl&gt; |\n",
       "|---|---|\n",
       "| D | 4456.56 |\n",
       "| E | 6445.12 |\n",
       "| F | 7028.05 |\n",
       "| G | 8708.28 |\n",
       "| H | 7571.58 |\n",
       "| I | 5568.00 |\n",
       "| J | 3263.28 |\n",
       "\n"
      ],
      "text/plain": [
       "  color carat  \n",
       "1 D     4456.56\n",
       "2 E     6445.12\n",
       "3 F     7028.05\n",
       "4 G     8708.28\n",
       "5 H     7571.58\n",
       "6 I     5568.00\n",
       "7 J     3263.28"
      ]
     },
     "metadata": {},
     "output_type": "display_data"
    },
    {
     "data": {
      "text/html": [
       "<table class=\"dataframe\">\n",
       "<caption>A data.frame: 7 × 3</caption>\n",
       "<thead>\n",
       "\t<tr><th scope=col>color</th><th scope=col>avgPrice</th><th scope=col>sumCarat</th></tr>\n",
       "\t<tr><th scope=col>&lt;ord&gt;</th><th scope=col>&lt;dbl&gt;</th><th scope=col>&lt;dbl&gt;</th></tr>\n",
       "</thead>\n",
       "<tbody>\n",
       "\t<tr><td>D</td><td>3169.954</td><td>4456.56</td></tr>\n",
       "\t<tr><td>E</td><td>3076.752</td><td>6445.12</td></tr>\n",
       "\t<tr><td>F</td><td>3724.886</td><td>7028.05</td></tr>\n",
       "\t<tr><td>G</td><td>3999.136</td><td>8708.28</td></tr>\n",
       "\t<tr><td>H</td><td>4486.669</td><td>7571.58</td></tr>\n",
       "\t<tr><td>I</td><td>5091.875</td><td>5568.00</td></tr>\n",
       "\t<tr><td>J</td><td>5323.818</td><td>3263.28</td></tr>\n",
       "</tbody>\n",
       "</table>\n"
      ],
      "text/latex": [
       "A data.frame: 7 × 3\n",
       "\\begin{tabular}{lll}\n",
       " color & avgPrice & sumCarat\\\\\n",
       " <ord> & <dbl> & <dbl>\\\\\n",
       "\\hline\n",
       "\t D & 3169.954 & 4456.56\\\\\n",
       "\t E & 3076.752 & 6445.12\\\\\n",
       "\t F & 3724.886 & 7028.05\\\\\n",
       "\t G & 3999.136 & 8708.28\\\\\n",
       "\t H & 4486.669 & 7571.58\\\\\n",
       "\t I & 5091.875 & 5568.00\\\\\n",
       "\t J & 5323.818 & 3263.28\\\\\n",
       "\\end{tabular}\n"
      ],
      "text/markdown": [
       "\n",
       "A data.frame: 7 × 3\n",
       "\n",
       "| color &lt;ord&gt; | avgPrice &lt;dbl&gt; | sumCarat &lt;dbl&gt; |\n",
       "|---|---|---|\n",
       "| D | 3169.954 | 4456.56 |\n",
       "| E | 3076.752 | 6445.12 |\n",
       "| F | 3724.886 | 7028.05 |\n",
       "| G | 3999.136 | 8708.28 |\n",
       "| H | 4486.669 | 7571.58 |\n",
       "| I | 5091.875 | 5568.00 |\n",
       "| J | 5323.818 | 3263.28 |\n",
       "\n"
      ],
      "text/plain": [
       "  color avgPrice sumCarat\n",
       "1 D     3169.954 4456.56 \n",
       "2 E     3076.752 6445.12 \n",
       "3 F     3724.886 7028.05 \n",
       "4 G     3999.136 8708.28 \n",
       "5 H     4486.669 7571.58 \n",
       "6 I     5091.875 5568.00 \n",
       "7 J     5323.818 3263.28 "
      ]
     },
     "metadata": {},
     "output_type": "display_data"
    }
   ],
   "source": [
    "# color 기준으로 평균 가격을 avgPrice로, 총 carat을 sumCarat이라는 이름으로 집계하고 평균가격으로 내림차순 정렬\n",
    "dia <- diamonds\n",
    "avgPrice <- aggregate(price ~ color,dia,FUN=mean)\n",
    "avgPrice \n",
    "\n",
    "sumCarat <- aggregate(carat ~ color,dia,FUN=sum)\n",
    "sumCarat \n",
    "\n",
    "df <- data.frame(avgPrice, carat=(sumCarat$carat))\n",
    "colnames(df) <- c('color','avgPrice','sumCarat')\n",
    "df"
   ]
  },
  {
   "cell_type": "code",
   "execution_count": 213,
   "id": "87ec4d89-7694-48a1-9a68-d56b1f3f99a4",
   "metadata": {},
   "outputs": [
    {
     "data": {
      "text/html": [
       "<table class=\"dataframe\">\n",
       "<caption>A data.frame: 7 × 3</caption>\n",
       "<thead>\n",
       "\t<tr><th></th><th scope=col>color</th><th scope=col>avgPrice</th><th scope=col>sumCarat</th></tr>\n",
       "\t<tr><th></th><th scope=col>&lt;ord&gt;</th><th scope=col>&lt;dbl&gt;</th><th scope=col>&lt;dbl&gt;</th></tr>\n",
       "</thead>\n",
       "<tbody>\n",
       "\t<tr><th scope=row>7</th><td>J</td><td>5323.818</td><td>3263.28</td></tr>\n",
       "\t<tr><th scope=row>6</th><td>I</td><td>5091.875</td><td>5568.00</td></tr>\n",
       "\t<tr><th scope=row>5</th><td>H</td><td>4486.669</td><td>7571.58</td></tr>\n",
       "\t<tr><th scope=row>4</th><td>G</td><td>3999.136</td><td>8708.28</td></tr>\n",
       "\t<tr><th scope=row>3</th><td>F</td><td>3724.886</td><td>7028.05</td></tr>\n",
       "\t<tr><th scope=row>1</th><td>D</td><td>3169.954</td><td>4456.56</td></tr>\n",
       "\t<tr><th scope=row>2</th><td>E</td><td>3076.752</td><td>6445.12</td></tr>\n",
       "</tbody>\n",
       "</table>\n"
      ],
      "text/latex": [
       "A data.frame: 7 × 3\n",
       "\\begin{tabular}{r|lll}\n",
       "  & color & avgPrice & sumCarat\\\\\n",
       "  & <ord> & <dbl> & <dbl>\\\\\n",
       "\\hline\n",
       "\t7 & J & 5323.818 & 3263.28\\\\\n",
       "\t6 & I & 5091.875 & 5568.00\\\\\n",
       "\t5 & H & 4486.669 & 7571.58\\\\\n",
       "\t4 & G & 3999.136 & 8708.28\\\\\n",
       "\t3 & F & 3724.886 & 7028.05\\\\\n",
       "\t1 & D & 3169.954 & 4456.56\\\\\n",
       "\t2 & E & 3076.752 & 6445.12\\\\\n",
       "\\end{tabular}\n"
      ],
      "text/markdown": [
       "\n",
       "A data.frame: 7 × 3\n",
       "\n",
       "| <!--/--> | color &lt;ord&gt; | avgPrice &lt;dbl&gt; | sumCarat &lt;dbl&gt; |\n",
       "|---|---|---|---|\n",
       "| 7 | J | 5323.818 | 3263.28 |\n",
       "| 6 | I | 5091.875 | 5568.00 |\n",
       "| 5 | H | 4486.669 | 7571.58 |\n",
       "| 4 | G | 3999.136 | 8708.28 |\n",
       "| 3 | F | 3724.886 | 7028.05 |\n",
       "| 1 | D | 3169.954 | 4456.56 |\n",
       "| 2 | E | 3076.752 | 6445.12 |\n",
       "\n"
      ],
      "text/plain": [
       "  color avgPrice sumCarat\n",
       "7 J     5323.818 3263.28 \n",
       "6 I     5091.875 5568.00 \n",
       "5 H     4486.669 7571.58 \n",
       "4 G     3999.136 8708.28 \n",
       "3 F     3724.886 7028.05 \n",
       "1 D     3169.954 4456.56 \n",
       "2 E     3076.752 6445.12 "
      ]
     },
     "metadata": {},
     "output_type": "display_data"
    }
   ],
   "source": [
    "df[order(-df$avgPrice), ]  # 정렬 출력"
   ]
  },
  {
   "cell_type": "code",
   "execution_count": 215,
   "id": "fede1f2d-6c4f-4e81-bdd9-9ec07b4bf4e6",
   "metadata": {},
   "outputs": [
    {
     "data": {
      "text/html": [
       "<table class=\"dataframe\">\n",
       "<caption>A tibble: 7 × 3</caption>\n",
       "<thead>\n",
       "\t<tr><th scope=col>color</th><th scope=col>avgPrice</th><th scope=col>sumCarat</th></tr>\n",
       "\t<tr><th scope=col>&lt;ord&gt;</th><th scope=col>&lt;dbl&gt;</th><th scope=col>&lt;dbl&gt;</th></tr>\n",
       "</thead>\n",
       "<tbody>\n",
       "\t<tr><td>J</td><td>5323.818</td><td>3263.28</td></tr>\n",
       "\t<tr><td>I</td><td>5091.875</td><td>5568.00</td></tr>\n",
       "\t<tr><td>H</td><td>4486.669</td><td>7571.58</td></tr>\n",
       "\t<tr><td>G</td><td>3999.136</td><td>8708.28</td></tr>\n",
       "\t<tr><td>F</td><td>3724.886</td><td>7028.05</td></tr>\n",
       "\t<tr><td>D</td><td>3169.954</td><td>4456.56</td></tr>\n",
       "\t<tr><td>E</td><td>3076.752</td><td>6445.12</td></tr>\n",
       "</tbody>\n",
       "</table>\n"
      ],
      "text/latex": [
       "A tibble: 7 × 3\n",
       "\\begin{tabular}{lll}\n",
       " color & avgPrice & sumCarat\\\\\n",
       " <ord> & <dbl> & <dbl>\\\\\n",
       "\\hline\n",
       "\t J & 5323.818 & 3263.28\\\\\n",
       "\t I & 5091.875 & 5568.00\\\\\n",
       "\t H & 4486.669 & 7571.58\\\\\n",
       "\t G & 3999.136 & 8708.28\\\\\n",
       "\t F & 3724.886 & 7028.05\\\\\n",
       "\t D & 3169.954 & 4456.56\\\\\n",
       "\t E & 3076.752 & 6445.12\\\\\n",
       "\\end{tabular}\n"
      ],
      "text/markdown": [
       "\n",
       "A tibble: 7 × 3\n",
       "\n",
       "| color &lt;ord&gt; | avgPrice &lt;dbl&gt; | sumCarat &lt;dbl&gt; |\n",
       "|---|---|---|\n",
       "| J | 5323.818 | 3263.28 |\n",
       "| I | 5091.875 | 5568.00 |\n",
       "| H | 4486.669 | 7571.58 |\n",
       "| G | 3999.136 | 8708.28 |\n",
       "| F | 3724.886 | 7028.05 |\n",
       "| D | 3169.954 | 4456.56 |\n",
       "| E | 3076.752 | 6445.12 |\n",
       "\n"
      ],
      "text/plain": [
       "  color avgPrice sumCarat\n",
       "1 J     5323.818 3263.28 \n",
       "2 I     5091.875 5568.00 \n",
       "3 H     4486.669 7571.58 \n",
       "4 G     3999.136 8708.28 \n",
       "5 F     3724.886 7028.05 \n",
       "6 D     3169.954 4456.56 \n",
       "7 E     3076.752 6445.12 "
      ]
     },
     "metadata": {},
     "output_type": "display_data"
    }
   ],
   "source": [
    "diamonds %>% group_by(color) %>% summarise(avgPrice=mean(price), sumCarat=sum(carat)) %>% arrange(desc(avgPrice))"
   ]
  },
  {
   "cell_type": "code",
   "execution_count": 219,
   "id": "75b9bf9e-72d3-443c-ac70-8c66b0ff3d34",
   "metadata": {
    "tags": []
   },
   "outputs": [
    {
     "data": {
      "text/html": [
       "<table class=\"dataframe\">\n",
       "<caption>A data.frame: 7 × 3</caption>\n",
       "<thead>\n",
       "\t<tr><th></th><th scope=col>color</th><th scope=col>avgPrice</th><th scope=col>sumCarat</th></tr>\n",
       "\t<tr><th></th><th scope=col>&lt;ord&gt;</th><th scope=col>&lt;dbl&gt;</th><th scope=col>&lt;dbl&gt;</th></tr>\n",
       "</thead>\n",
       "<tbody>\n",
       "\t<tr><th scope=row>7</th><td>J</td><td>5323.818</td><td>3263.28</td></tr>\n",
       "\t<tr><th scope=row>6</th><td>I</td><td>5091.875</td><td>5568.00</td></tr>\n",
       "\t<tr><th scope=row>5</th><td>H</td><td>4486.669</td><td>7571.58</td></tr>\n",
       "\t<tr><th scope=row>4</th><td>G</td><td>3999.136</td><td>8708.28</td></tr>\n",
       "\t<tr><th scope=row>3</th><td>F</td><td>3724.886</td><td>7028.05</td></tr>\n",
       "\t<tr><th scope=row>1</th><td>D</td><td>3169.954</td><td>4456.56</td></tr>\n",
       "\t<tr><th scope=row>2</th><td>E</td><td>3076.752</td><td>6445.12</td></tr>\n",
       "</tbody>\n",
       "</table>\n"
      ],
      "text/latex": [
       "A data.frame: 7 × 3\n",
       "\\begin{tabular}{r|lll}\n",
       "  & color & avgPrice & sumCarat\\\\\n",
       "  & <ord> & <dbl> & <dbl>\\\\\n",
       "\\hline\n",
       "\t7 & J & 5323.818 & 3263.28\\\\\n",
       "\t6 & I & 5091.875 & 5568.00\\\\\n",
       "\t5 & H & 4486.669 & 7571.58\\\\\n",
       "\t4 & G & 3999.136 & 8708.28\\\\\n",
       "\t3 & F & 3724.886 & 7028.05\\\\\n",
       "\t1 & D & 3169.954 & 4456.56\\\\\n",
       "\t2 & E & 3076.752 & 6445.12\\\\\n",
       "\\end{tabular}\n"
      ],
      "text/markdown": [
       "\n",
       "A data.frame: 7 × 3\n",
       "\n",
       "| <!--/--> | color &lt;ord&gt; | avgPrice &lt;dbl&gt; | sumCarat &lt;dbl&gt; |\n",
       "|---|---|---|---|\n",
       "| 7 | J | 5323.818 | 3263.28 |\n",
       "| 6 | I | 5091.875 | 5568.00 |\n",
       "| 5 | H | 4486.669 | 7571.58 |\n",
       "| 4 | G | 3999.136 | 8708.28 |\n",
       "| 3 | F | 3724.886 | 7028.05 |\n",
       "| 1 | D | 3169.954 | 4456.56 |\n",
       "| 2 | E | 3076.752 | 6445.12 |\n",
       "\n"
      ],
      "text/plain": [
       "  color avgPrice sumCarat\n",
       "7 J     5323.818 3263.28 \n",
       "6 I     5091.875 5568.00 \n",
       "5 H     4486.669 7571.58 \n",
       "4 G     3999.136 8708.28 \n",
       "3 F     3724.886 7028.05 \n",
       "1 D     3169.954 4456.56 \n",
       "2 E     3076.752 6445.12 "
      ]
     },
     "metadata": {},
     "output_type": "display_data"
    },
    {
     "data": {
      "text/html": [
       "<table class=\"dataframe\">\n",
       "<caption>A tibble: 7 × 3</caption>\n",
       "<thead>\n",
       "\t<tr><th scope=col>color</th><th scope=col>avgPrice</th><th scope=col>sumCarat</th></tr>\n",
       "\t<tr><th scope=col>&lt;ord&gt;</th><th scope=col>&lt;dbl&gt;</th><th scope=col>&lt;dbl&gt;</th></tr>\n",
       "</thead>\n",
       "<tbody>\n",
       "\t<tr><td>J</td><td>5323.818</td><td>3263.28</td></tr>\n",
       "\t<tr><td>I</td><td>5091.875</td><td>5568.00</td></tr>\n",
       "\t<tr><td>H</td><td>4486.669</td><td>7571.58</td></tr>\n",
       "\t<tr><td>G</td><td>3999.136</td><td>8708.28</td></tr>\n",
       "\t<tr><td>F</td><td>3724.886</td><td>7028.05</td></tr>\n",
       "\t<tr><td>D</td><td>3169.954</td><td>4456.56</td></tr>\n",
       "\t<tr><td>E</td><td>3076.752</td><td>6445.12</td></tr>\n",
       "</tbody>\n",
       "</table>\n"
      ],
      "text/latex": [
       "A tibble: 7 × 3\n",
       "\\begin{tabular}{lll}\n",
       " color & avgPrice & sumCarat\\\\\n",
       " <ord> & <dbl> & <dbl>\\\\\n",
       "\\hline\n",
       "\t J & 5323.818 & 3263.28\\\\\n",
       "\t I & 5091.875 & 5568.00\\\\\n",
       "\t H & 4486.669 & 7571.58\\\\\n",
       "\t G & 3999.136 & 8708.28\\\\\n",
       "\t F & 3724.886 & 7028.05\\\\\n",
       "\t D & 3169.954 & 4456.56\\\\\n",
       "\t E & 3076.752 & 6445.12\\\\\n",
       "\\end{tabular}\n"
      ],
      "text/markdown": [
       "\n",
       "A tibble: 7 × 3\n",
       "\n",
       "| color &lt;ord&gt; | avgPrice &lt;dbl&gt; | sumCarat &lt;dbl&gt; |\n",
       "|---|---|---|\n",
       "| J | 5323.818 | 3263.28 |\n",
       "| I | 5091.875 | 5568.00 |\n",
       "| H | 4486.669 | 7571.58 |\n",
       "| G | 3999.136 | 8708.28 |\n",
       "| F | 3724.886 | 7028.05 |\n",
       "| D | 3169.954 | 4456.56 |\n",
       "| E | 3076.752 | 6445.12 |\n",
       "\n"
      ],
      "text/plain": [
       "  color avgPrice sumCarat\n",
       "1 J     5323.818 3263.28 \n",
       "2 I     5091.875 5568.00 \n",
       "3 H     4486.669 7571.58 \n",
       "4 G     3999.136 8708.28 \n",
       "5 F     3724.886 7028.05 \n",
       "6 D     3169.954 4456.56 \n",
       "7 E     3076.752 6445.12 "
      ]
     },
     "metadata": {},
     "output_type": "display_data"
    }
   ],
   "source": [
    "# color 기준으로 평균 가격을 avgPrice로, 총 carat을 sumCarat이라는 이름으로 집계하고,\n",
    "# 평균가격은 내림차순 정렬, 총 carat은 오름차순으로 정렬\n",
    "\n",
    "\n",
    "df[ order(-df$avgPrice, df$sumCarat),  ]\n",
    "\n",
    "\n",
    "diamonds %>% group_by(color) %>% summarise(avgPrice=mean(price), sumCarat=sum(carat)) %>% arrange(desc(avgPrice), sumCarat)\n"
   ]
  },
  {
   "cell_type": "code",
   "execution_count": null,
   "id": "2ea0b1a5-e711-49fb-8761-8cb4f01b401e",
   "metadata": {},
   "outputs": [],
   "source": []
  }
 ],
 "metadata": {
  "kernelspec": {
   "display_name": "R",
   "language": "R",
   "name": "ir"
  },
  "language_info": {
   "codemirror_mode": "r",
   "file_extension": ".r",
   "mimetype": "text/x-r-source",
   "name": "R",
   "pygments_lexer": "r",
   "version": "3.6.3"
  }
 },
 "nbformat": 4,
 "nbformat_minor": 5
}
