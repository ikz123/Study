{
 "cells": [
  {
   "cell_type": "markdown",
   "id": "5026b7c2-d648-4b0e-be66-92642585ded8",
   "metadata": {},
   "source": [
    "# 통계\n",
    "* 분석하고자 하는 집단과 관련해 조사나 실험의 결과로 얻는 자료 또는 이의 요약된 형태를 의미\n",
    "* 통계학 : 좀더 효과적인 의사결정을 할 수 있도록 수치자료를 수집,정리,표현,분석하는 학문\n",
    "* 통계는 항상 반례 가능성을 가지고 있음\n",
    "* 관련 통계 분야 : 사회과학통계, 자연과학통계, 수학학통계"
   ]
  },
  {
   "cell_type": "markdown",
   "id": "00789232-f6da-482e-b3a2-4a73d0103ca9",
   "metadata": {},
   "source": [
    "# 통계학의 유형\n",
    "### 1. 기술통계학\n",
    "* 자료중심 통계\n",
    "* 수집한 데이터를 요약, 묘사, 설명하는 통계기법 \n",
    "* 그래프,표,수치를 이용해서 집단의 특성 파악\n",
    "* 대표값, 분산"
   ]
  },
  {
   "cell_type": "markdown",
   "id": "f9826028-b7b4-4df8-b54e-394e535f2dc3",
   "metadata": {},
   "source": [
    "### 2. 추론통계학\n",
    "* 예측 중심 통계 (중요도높음)\n",
    "* 수집된 데이터를 바탕으로 예측하는 통계기법\n",
    "* 관측된 자료를 이용해서 모집단 특성 추측\n",
    "    + 모수통계 \n",
    "        - 빈도분석\n",
    "        - 상관분석\n",
    "        - 세 집단이상 평균분석\n",
    "        - 회귀분석(!!!)\n",
    "    + 비모수통계\n",
    "        - 적합도검증\n",
    "        - 변수간 상관분석"
   ]
  },
  {
   "cell_type": "markdown",
   "id": "1af75d9c-eed6-40a1-914e-dc187d80a69a",
   "metadata": {},
   "source": [
    "# 자료의 종류\n",
    "### 질적자료 : 문자로 표현된 자료\n",
    "\n",
    "  + 명목자료 : 일반적인 범주형 데이터  \n",
    "        ex) 남,여\n",
    "  + 순서자료 : 순서의 의미가 포함된 데이터  \n",
    "        ex) 초등학교,중학교,고등학교,대학교 \n",
    "        \n",
    "### 양적자료 : 숫자로 표현된 자료\n",
    "\n",
    "  + 이산형 : 셈이 가능한 양적자료, 정수형데이터\n",
    "  + 연속형 : 셈이 불가능한 양적자료, 실수형 데이터  \n",
    "    \n",
    "  + 구간자료 : 양적자료를 구간별로 나누어 명목/순서의 의미를 포함시킨 데이터  \n",
    "      ex) 수,우,미,양,가  \n",
    "  + 비율자료 : 양적자료를 구간별로 나누어 서열/비율(산술)의 의미를 포함시킨 데이터  \n",
    "      ex) 몸무게, 시간, 키 "
   ]
  },
  {
   "cell_type": "markdown",
   "id": "8c55ae71-7631-456e-9f1f-1fda3473ffed",
   "metadata": {},
   "source": [
    "# 데이터를 이해하는 마음가짐\n",
    "## 데이터가 숲이라고 가정한다면\n",
    "* 처음부터 숲의 나무를 보고 자세히 관찰한다기 보다는\n",
    "* 개략적으로 숲의 모양을 보고 특징을 파악하고 나무를 관찰할 것!\n",
    "* 데이터도 이런식의 접근방식을 사용해야 함"
   ]
  },
  {
   "cell_type": "markdown",
   "id": "6648ba92-ce87-437f-aa03-89dc2c0e2e3b",
   "metadata": {},
   "source": [
    "## 데이터의 특징이란\n",
    "* 말로 표현하기 보다는 숫자로 표현하여야 하고\n",
    "* 주로 평균,편차 등등을 활용하는데\n",
    "* 이렇게 숫자로 데이터의 특징을 표현하는 과정을 \n",
    "\"요약summary\" 이라함"
   ]
  },
  {
   "cell_type": "markdown",
   "id": "7c8c0d4b-a59b-45c3-8c99-e45e3134bba9",
   "metadata": {},
   "source": [
    "## 데이터 분석 순서\n",
    "* 데이터를 처음 만나면 요약을 먼저하고 \n",
    "* 데이터의 특징을 파악해서\n",
    "* 어떤 차이가 있는지 알아낸 다음\n",
    "* 데이터 분석방향을 설정할 것!"
   ]
  },
  {
   "cell_type": "markdown",
   "id": "a62022bc-9ea6-4211-9c23-6275f142935c",
   "metadata": {},
   "source": [
    "# 기술통계 분석관점\n",
    "## 1. 중심화 경향\n",
    "+ 수집한 데이터 전체를 대표하는 값이 무엇인지 나타내는 통계(대표값)\n",
    "    * 평균\n",
    "    * 중앙값\n",
    "    * 최빈값\n",
    "\n",
    "## 2. 분산화 경향\n",
    "+ 데이터가 어떻게 분포되어 있는지 설명하는 통계치\n",
    "    * 범위\n",
    "    * 표준편차\n",
    "    * 분산\n",
    "    * 사분위수"
   ]
  },
  {
   "cell_type": "markdown",
   "id": "d35a6de1-b78b-422c-b2a9-0a29e1168f80",
   "metadata": {},
   "source": [
    "# 대표값\n",
    "## 평균 : 중심척도의 대표적인 통계값\n",
    "+ **정량적 자료의 대표값**\n",
    "+ 평균은 유일하다\n",
    "+ 평균은 계산하기 쉽다\n",
    "+ 모든 측정값을 반영한다\n",
    "+ 단, 평균은 특이값(이상치)에 영향을 받는다\n",
    "> ###  $ \\bar x = \\frac {\\Sigma x} {n} $"
   ]
  },
  {
   "cell_type": "code",
   "execution_count": 4,
   "id": "71c41879-f355-41d9-b829-3d2cf257e966",
   "metadata": {},
   "outputs": [],
   "source": [
    "# R의 1차원 배열 : vector\n",
    "# c(값, 값, 값  ... )\n",
    "num1 <- c(1,2,3,4,5,6,7,8,9,10)"
   ]
  },
  {
   "cell_type": "code",
   "execution_count": 18,
   "id": "3942a16d-08da-435d-87f2-82cad2798917",
   "metadata": {},
   "outputs": [
    {
     "data": {
      "text/html": [
       "5.5"
      ],
      "text/latex": [
       "5.5"
      ],
      "text/markdown": [
       "5.5"
      ],
      "text/plain": [
       "[1] 5.5"
      ]
     },
     "metadata": {},
     "output_type": "display_data"
    }
   ],
   "source": [
    "# 총합 계산 : sum(벡터)\n",
    "# 벡터의 요소갯수 : length(벡터)\n",
    "\n",
    "mean1 = sum(num1) / length(num1)\n",
    "mean1"
   ]
  },
  {
   "cell_type": "code",
   "execution_count": 14,
   "id": "06de8387-6eb8-4152-bdb3-7b78516b828f",
   "metadata": {},
   "outputs": [
    {
     "data": {
      "text/html": [
       "5.5"
      ],
      "text/latex": [
       "5.5"
      ],
      "text/markdown": [
       "5.5"
      ],
      "text/plain": [
       "[1] 5.5"
      ]
     },
     "metadata": {},
     "output_type": "display_data"
    }
   ],
   "source": [
    "# 평균 계산 : mean(벡터)\n",
    "mean(num1)"
   ]
  },
  {
   "cell_type": "code",
   "execution_count": 28,
   "id": "0e59cfdd-4573-46f0-9479-3c6eca54e2e1",
   "metadata": {},
   "outputs": [
    {
     "data": {
      "text/html": [
       "46.037037037037"
      ],
      "text/latex": [
       "46.037037037037"
      ],
      "text/markdown": [
       "46.037037037037"
      ],
      "text/plain": [
       "[1] 46.03704"
      ]
     },
     "metadata": {},
     "output_type": "display_data"
    },
    {
     "data": {
      "text/html": [
       "46.037037037037"
      ],
      "text/latex": [
       "46.037037037037"
      ],
      "text/markdown": [
       "46.037037037037"
      ],
      "text/plain": [
       "[1] 46.03704"
      ]
     },
     "metadata": {},
     "output_type": "display_data"
    },
    {
     "data": {
      "text/html": [
       "46.04"
      ],
      "text/latex": [
       "46.04"
      ],
      "text/markdown": [
       "46.04"
      ],
      "text/plain": [
       "[1] 46.04"
      ]
     },
     "metadata": {},
     "output_type": "display_data"
    }
   ],
   "source": [
    "# 조선조 왕들의 평균수명을 조사\n",
    "# 73, 62, 45, 53, 38, 16, 51, 28, 37, 30, 56\n",
    "# 30, 33, 56, 66, 54, 40, 33, 59, 36, 82, 48\n",
    "# 44, 22, 32, 67, 52\n",
    "\n",
    "\n",
    "kings <- c(73, 62, 45, 53, 38, 16, 51, 28, 37, 30, 56, 30, 33, 56, 66, 54, 40, 33, 59, 36, 82, 48, 44, 22, 32, 67, 52)\n",
    "\n",
    "\n",
    "mean2 = sum(kings) / length(kings)\n",
    "mean2 \n",
    "\n",
    "mean(kings)\n",
    "\n",
    "round(mean(kings), 2)   # round(개체, 자릿수)"
   ]
  },
  {
   "cell_type": "code",
   "execution_count": 41,
   "id": "84135dc6-c549-4970-95d9-66528ff3d73d",
   "metadata": {},
   "outputs": [
    {
     "data": {
      "text/html": [
       "20.2727272727273"
      ],
      "text/latex": [
       "20.2727272727273"
      ],
      "text/markdown": [
       "20.2727272727273"
      ],
      "text/plain": [
       "[1] 20.27273"
      ]
     },
     "metadata": {},
     "output_type": "display_data"
    },
    {
     "data": {
      "text/html": [
       "20.2727272727273"
      ],
      "text/latex": [
       "20.2727272727273"
      ],
      "text/markdown": [
       "20.2727272727273"
      ],
      "text/plain": [
       "[1] 20.27273"
      ]
     },
     "metadata": {},
     "output_type": "display_data"
    },
    {
     "data": {
      "text/html": [
       "20.27"
      ],
      "text/latex": [
       "20.27"
      ],
      "text/markdown": [
       "20.27"
      ],
      "text/plain": [
       "[1] 20.27"
      ]
     },
     "metadata": {},
     "output_type": "display_data"
    }
   ],
   "source": [
    "# 대학원생들의 평균 나이 구하기\n",
    "\n",
    "colls <- c(19, 18, 19, 21, 20, 24, 21, 19, 19, 20, 18, 21, 22, 23, 21, 19, 18, 22, 24, 21, 18, 19)\n",
    "\n",
    "mean3 = sum(colls) / length(colls)\n",
    "mean3\n",
    "\n",
    "\n",
    "mean(colls)\n",
    "\n",
    "round(mean(colls), 2)   # round(개체, 자릿수)"
   ]
  },
  {
   "cell_type": "code",
   "execution_count": 30,
   "id": "3cb6c9fb-d4ad-4c3e-84a8-b0c4bde23d25",
   "metadata": {},
   "outputs": [],
   "source": [
    "# 성적 데이터 평균 계산\n",
    "# 외부 파일 읽기 : read.csv(경로, 옵션)\n",
    "\n",
    "exams = read.csv('exams.csv')"
   ]
  },
  {
   "cell_type": "code",
   "execution_count": 32,
   "id": "04b4bd40-e3a4-4b33-86ca-f92f95d95bb3",
   "metadata": {},
   "outputs": [
    {
     "name": "stdout",
     "output_type": "stream",
     "text": [
      "'data.frame':\t50 obs. of  3 variables:\n",
      " $ student.number: int  1 2 3 4 5 6 7 8 9 10 ...\n",
      " $ english       : int  42 69 56 41 57 48 65 49 65 58 ...\n",
      " $ mathematics   : int  65 80 63 63 76 60 81 66 78 82 ...\n"
     ]
    }
   ],
   "source": [
    "# 데이터 구조 살펴보기 : str(객체명) (structure)\n",
    "\n",
    "str(exams)"
   ]
  },
  {
   "cell_type": "code",
   "execution_count": 33,
   "id": "48c1e987-62fc-4375-9649-2728986078a7",
   "metadata": {},
   "outputs": [
    {
     "data": {
      "text/plain": [
       " student.number     english       mathematics   \n",
       " Min.   : 1.00   Min.   :37.00   Min.   :57.00  \n",
       " 1st Qu.:13.25   1st Qu.:54.00   1st Qu.:76.00  \n",
       " Median :25.50   Median :57.50   Median :80.00  \n",
       " Mean   :25.50   Mean   :58.38   Mean   :78.88  \n",
       " 3rd Qu.:37.75   3rd Qu.:65.00   3rd Qu.:84.00  \n",
       " Max.   :50.00   Max.   :79.00   Max.   :94.00  "
      ]
     },
     "metadata": {},
     "output_type": "display_data"
    }
   ],
   "source": [
    "# 데이터 요약 : summary(객체명)\n",
    "\n",
    "summary(exams)"
   ]
  },
  {
   "cell_type": "code",
   "execution_count": 36,
   "id": "6d929b5d-a878-4906-9cf3-be2cd0ce5569",
   "metadata": {},
   "outputs": [
    {
     "data": {
      "text/html": [
       "58.38"
      ],
      "text/latex": [
       "58.38"
      ],
      "text/markdown": [
       "58.38"
      ],
      "text/plain": [
       "[1] 58.38"
      ]
     },
     "metadata": {},
     "output_type": "display_data"
    },
    {
     "data": {
      "text/html": [
       "78.88"
      ],
      "text/latex": [
       "78.88"
      ],
      "text/markdown": [
       "78.88"
      ],
      "text/plain": [
       "[1] 78.88"
      ]
     },
     "metadata": {},
     "output_type": "display_data"
    }
   ],
   "source": [
    "# 각 과목별 평균\n",
    "# 변수지정 : 객체명$변수명\n",
    "\n",
    "mean(exams$english)\n",
    "mean(exams$mathematics)"
   ]
  },
  {
   "cell_type": "code",
   "execution_count": null,
   "id": "8085ed88-20bb-42bc-a1ea-f792d2802c4f",
   "metadata": {},
   "outputs": [],
   "source": []
  },
  {
   "cell_type": "code",
   "execution_count": 1,
   "id": "dbaaf0cd-bdc6-4567-af48-4b1a3283c564",
   "metadata": {},
   "outputs": [],
   "source": [
    "age <- c(1,3,5,2,11,9,3,9,12,3)\n",
    "weight <- c(4.4, 5.3, 7.2, 5.2, 8.5, 7.3, 6.0, 10.4, 10.2, 6.1)"
   ]
  },
  {
   "cell_type": "code",
   "execution_count": 2,
   "id": "57eac614-730c-497c-8894-f8e05d082b6a",
   "metadata": {},
   "outputs": [
    {
     "data": {
      "text/html": [
       "7.06"
      ],
      "text/latex": [
       "7.06"
      ],
      "text/markdown": [
       "7.06"
      ],
      "text/plain": [
       "[1] 7.06"
      ]
     },
     "metadata": {},
     "output_type": "display_data"
    }
   ],
   "source": [
    "mean(weight)"
   ]
  },
  {
   "cell_type": "code",
   "execution_count": 5,
   "id": "d671e29a-3ad1-41fe-ab80-28a1231b885a",
   "metadata": {},
   "outputs": [
    {
     "data": {
      "image/png": "[encoded data removed]",
      "text/plain": [
       "plot without title"
      ]
     },
     "metadata": {
      "image/png": {
       "height": 420,
       "width": 420
      }
     },
     "output_type": "display_data"
    }
   ],
   "source": [
    "plot(weight)"
   ]
  },
  {
   "cell_type": "code",
   "execution_count": null,
   "id": "6ef0cb3d-fe13-4f21-a921-cc61311b60d7",
   "metadata": {},
   "outputs": [],
   "source": []
  },
  {
   "cell_type": "code",
   "execution_count": null,
   "id": "5bac82f3-d140-4f6b-b532-d742bd572dae",
   "metadata": {},
   "outputs": [],
   "source": []
  },
  {
   "cell_type": "code",
   "execution_count": null,
   "id": "b5645229-6d13-4ad7-9281-010b80e9a7bc",
   "metadata": {},
   "outputs": [],
   "source": []
  },
  {
   "cell_type": "code",
   "execution_count": null,
   "id": "1c1df31e-ba1f-4bbc-9fb6-b68dfe3d8243",
   "metadata": {},
   "outputs": [],
   "source": []
  },
  {
   "cell_type": "code",
   "execution_count": null,
   "id": "c91c9a1a-6989-4154-ba0d-6f96a5868991",
   "metadata": {},
   "outputs": [],
   "source": []
  },
  {
   "cell_type": "code",
   "execution_count": 28,
   "id": "7479aacf-b438-4c37-abd9-d4b74ae1d3af",
   "metadata": {},
   "outputs": [],
   "source": [
    "manager <- c(1,2,3,4,5)\n",
    "date <- c('10/24/14', '10/28/14', '10/01/14', '10/12/14', '05/01/14' )\n",
    "country <- c('US','US','UK','UK','UK')\n",
    "gender <- c('M','F','F','M','F')\n",
    "mgrage <- c(32, 45, 25, 39, 99)\n",
    "q1 <- c(5, 3, 3, 3, 2)\n",
    "q2 <- c(4, 5, 5, 3, 2)\n",
    "q3 <- c(5, 2, 5, 4, 1)\n",
    "q4 <- c(5, 5, 5, NA, 2)\n",
    "q5 <- c(5, 5, 2, NA, 1)\n"
   ]
  },
  {
   "cell_type": "code",
   "execution_count": 30,
   "id": "11521d0a-d18e-47c1-9cc8-790acdca42c2",
   "metadata": {},
   "outputs": [
    {
     "data": {
      "text/plain": [
       "country\n",
       "UK US \n",
       " 3  2 "
      ]
     },
     "metadata": {},
     "output_type": "display_data"
    }
   ],
   "source": [
    "# 명목형 변수 기술통계 = 빈도\n",
    "# table(변수명)\n",
    "\n",
    "table(country)"
   ]
  },
  {
   "cell_type": "code",
   "execution_count": 31,
   "id": "f856cff8-8099-4c0a-b885-f8d593014803",
   "metadata": {},
   "outputs": [
    {
     "data": {
      "text/plain": [
       "gender\n",
       "F M \n",
       "3 2 "
      ]
     },
     "metadata": {},
     "output_type": "display_data"
    }
   ],
   "source": [
    "table(gender)"
   ]
  },
  {
   "cell_type": "code",
   "execution_count": 29,
   "id": "cdbbd9ef-e89f-4bbc-bf40-c88226b4e867",
   "metadata": {},
   "outputs": [
    {
     "data": {
      "text/html": [
       "48"
      ],
      "text/latex": [
       "48"
      ],
      "text/markdown": [
       "48"
      ],
      "text/plain": [
       "[1] 48"
      ]
     },
     "metadata": {},
     "output_type": "display_data"
    }
   ],
   "source": [
    "# 연속형 변수 기술 통계 - 평균\n",
    "mean(mgrage)"
   ]
  },
  {
   "cell_type": "code",
   "execution_count": 32,
   "id": "c219c879-fccb-4490-a0fc-27eea39b68c6",
   "metadata": {},
   "outputs": [
    {
     "data": {
      "text/html": [
       "3.2"
      ],
      "text/latex": [
       "3.2"
      ],
      "text/markdown": [
       "3.2"
      ],
      "text/plain": [
       "[1] 3.2"
      ]
     },
     "metadata": {},
     "output_type": "display_data"
    }
   ],
   "source": [
    "mean(q1)"
   ]
  },
  {
   "cell_type": "code",
   "execution_count": 33,
   "id": "aea93e7e-2119-41a6-853c-0d1c0142b4ec",
   "metadata": {},
   "outputs": [
    {
     "data": {
      "text/html": [
       "&lt;NA&gt;"
      ],
      "text/latex": [
       "<NA>"
      ],
      "text/markdown": [
       "&lt;NA&gt;"
      ],
      "text/plain": [
       "[1] NA"
      ]
     },
     "metadata": {},
     "output_type": "display_data"
    }
   ],
   "source": [
    "mean(q4)  # 결측치가 포함된 벡터에 통계함수 적용 : NA"
   ]
  },
  {
   "cell_type": "code",
   "execution_count": 34,
   "id": "7428742c-52b4-4519-b1e6-f2d23c8cb77d",
   "metadata": {},
   "outputs": [
    {
     "data": {
      "text/html": [
       "4.25"
      ],
      "text/latex": [
       "4.25"
      ],
      "text/markdown": [
       "4.25"
      ],
      "text/plain": [
       "[1] 4.25"
      ]
     },
     "metadata": {},
     "output_type": "display_data"
    }
   ],
   "source": [
    "mean(q4, na.rm=TRUE)   # 결측치 제외 후 평균계산"
   ]
  },
  {
   "cell_type": "markdown",
   "id": "6ec369a6-fca1-4e99-85b1-52746e25c2a2",
   "metadata": {},
   "source": [
    "# 중앙값median\n",
    "+ **순서자료의 대표값**\n",
    "* 자료를 오름차순으로 나열한 후 가장 가운데 놓인 수\n",
    "* 특이값의 영향을 받는 평균을 보완한 수치\n",
    "* 자료 갯수가 짝수인 경우와 홀수인 경우 계산하는 방법이 다름\n",
    "    + 데이터의 개수 $n$이 짝수라면 $ \\frac {(n+1)}{2}$ 번째 데이터가 중앙값\n",
    "    + 데이터의 개수 $n$이 홀수라면 $ n \\over 2$ 번째 데이터와 $ {n \\over 2} + 1 $ 번째 데이터의 평균이 중앙값"
   ]
  },
  {
   "cell_type": "code",
   "execution_count": 36,
   "id": "3083c852-3e92-426a-954f-d0def5bb01b2",
   "metadata": {},
   "outputs": [
    {
     "data": {
      "text/html": [
       "45"
      ],
      "text/latex": [
       "45"
      ],
      "text/markdown": [
       "45"
      ],
      "text/plain": [
       "[1] 45"
      ]
     },
     "metadata": {},
     "output_type": "display_data"
    }
   ],
   "source": [
    "# 조선조 왕들의 수명의 중앙값 조사\n",
    "# 중앙값 : median(객체)\n",
    "# 73, 62, 45, 53, 38, 16, 51, 28, 37, 30, 56\n",
    "# 30, 33, 56, 66, 54, 40, 33, 59, 36, 82, 48\n",
    "# 44, 22, 32, 67, 52\n",
    "\n",
    "\n",
    "kings <- c(73, 62, 45, 53, 38, 16, 51, 28, 37, 30, 56, 30, 33, 56, 66, 54, 40, 33, 59, 36, 82, 48, 44, 22, 32, 67, 52)\n",
    "\n",
    "\n",
    "median(kings)"
   ]
  },
  {
   "cell_type": "code",
   "execution_count": 77,
   "id": "2772a7e6-7f8a-423d-b9b8-6a6a2e25e668",
   "metadata": {},
   "outputs": [
    {
     "data": {
      "text/html": [
       "<style>\n",
       ".list-inline {list-style: none; margin:0; padding: 0}\n",
       ".list-inline>li {display: inline-block}\n",
       ".list-inline>li:not(:last-child)::after {content: \"\\00b7\"; padding: 0 .5ex}\n",
       "</style>\n",
       "<ol class=list-inline><li>16</li><li>22</li><li>28</li><li>30</li><li>30</li><li>32</li><li>33</li><li>33</li><li>36</li><li>37</li><li>38</li><li>40</li><li>44</li><li>45</li><li>48</li><li>51</li><li>52</li><li>53</li><li>54</li><li>56</li><li>56</li><li>59</li><li>62</li><li>66</li><li>67</li><li>73</li><li>82</li></ol>\n"
      ],
      "text/latex": [
       "\\begin{enumerate*}\n",
       "\\item 16\n",
       "\\item 22\n",
       "\\item 28\n",
       "\\item 30\n",
       "\\item 30\n",
       "\\item 32\n",
       "\\item 33\n",
       "\\item 33\n",
       "\\item 36\n",
       "\\item 37\n",
       "\\item 38\n",
       "\\item 40\n",
       "\\item 44\n",
       "\\item 45\n",
       "\\item 48\n",
       "\\item 51\n",
       "\\item 52\n",
       "\\item 53\n",
       "\\item 54\n",
       "\\item 56\n",
       "\\item 56\n",
       "\\item 59\n",
       "\\item 62\n",
       "\\item 66\n",
       "\\item 67\n",
       "\\item 73\n",
       "\\item 82\n",
       "\\end{enumerate*}\n"
      ],
      "text/markdown": [
       "1. 16\n",
       "2. 22\n",
       "3. 28\n",
       "4. 30\n",
       "5. 30\n",
       "6. 32\n",
       "7. 33\n",
       "8. 33\n",
       "9. 36\n",
       "10. 37\n",
       "11. 38\n",
       "12. 40\n",
       "13. 44\n",
       "14. 45\n",
       "15. 48\n",
       "16. 51\n",
       "17. 52\n",
       "18. 53\n",
       "19. 54\n",
       "20. 56\n",
       "21. 56\n",
       "22. 59\n",
       "23. 62\n",
       "24. 66\n",
       "25. 67\n",
       "26. 73\n",
       "27. 82\n",
       "\n",
       "\n"
      ],
      "text/plain": [
       " [1] 16 22 28 30 30 32 33 33 36 37 38 40 44 45 48 51 52 53 54 56 56 59 62 66 67\n",
       "[26] 73 82"
      ]
     },
     "metadata": {},
     "output_type": "display_data"
    }
   ],
   "source": [
    "# 벡터의 각 요소 정렬 : sort\n",
    "# sort(객체, decreasing=T,F)\n",
    "\n",
    "sort(kings)"
   ]
  },
  {
   "cell_type": "code",
   "execution_count": 40,
   "id": "383d7ffd-8f2c-4d70-bc68-84b6cd09cde6",
   "metadata": {},
   "outputs": [
    {
     "data": {
      "text/html": [
       "27"
      ],
      "text/latex": [
       "27"
      ],
      "text/markdown": [
       "27"
      ],
      "text/plain": [
       "[1] 27"
      ]
     },
     "metadata": {},
     "output_type": "display_data"
    }
   ],
   "source": [
    "# 데이터의 갯수\n",
    "length(kings)"
   ]
  },
  {
   "cell_type": "code",
   "execution_count": 50,
   "id": "105e0d1f-2bc5-441f-a7a4-50c7ca7d3094",
   "metadata": {},
   "outputs": [
    {
     "data": {
      "text/html": [
       "45"
      ],
      "text/latex": [
       "45"
      ],
      "text/markdown": [
       "45"
      ],
      "text/plain": [
       "[1] 45"
      ]
     },
     "metadata": {},
     "output_type": "display_data"
    }
   ],
   "source": [
    "pos = (length(kings)+1) /2\n",
    "sort(kings)[pos]"
   ]
  },
  {
   "cell_type": "code",
   "execution_count": 47,
   "id": "57bd42ba-79a5-437c-9a09-679f6c633f18",
   "metadata": {},
   "outputs": [
    {
     "data": {
      "text/html": [
       "20"
      ],
      "text/latex": [
       "20"
      ],
      "text/markdown": [
       "20"
      ],
      "text/plain": [
       "[1] 20"
      ]
     },
     "metadata": {},
     "output_type": "display_data"
    },
    {
     "data": {
      "text/html": [
       "22"
      ],
      "text/latex": [
       "22"
      ],
      "text/markdown": [
       "22"
      ],
      "text/plain": [
       "[1] 22"
      ]
     },
     "metadata": {},
     "output_type": "display_data"
    },
    {
     "data": {
      "text/html": [
       "<style>\n",
       ".list-inline {list-style: none; margin:0; padding: 0}\n",
       ".list-inline>li {display: inline-block}\n",
       ".list-inline>li:not(:last-child)::after {content: \"\\00b7\"; padding: 0 .5ex}\n",
       "</style>\n",
       "<ol class=list-inline><li>18</li><li>18</li><li>18</li><li>18</li><li>19</li><li>19</li><li>19</li><li>19</li><li>19</li><li>19</li><li>20</li><li>20</li><li>21</li><li>21</li><li>21</li><li>21</li><li>21</li><li>22</li><li>22</li><li>23</li><li>24</li><li>24</li></ol>\n"
      ],
      "text/latex": [
       "\\begin{enumerate*}\n",
       "\\item 18\n",
       "\\item 18\n",
       "\\item 18\n",
       "\\item 18\n",
       "\\item 19\n",
       "\\item 19\n",
       "\\item 19\n",
       "\\item 19\n",
       "\\item 19\n",
       "\\item 19\n",
       "\\item 20\n",
       "\\item 20\n",
       "\\item 21\n",
       "\\item 21\n",
       "\\item 21\n",
       "\\item 21\n",
       "\\item 21\n",
       "\\item 22\n",
       "\\item 22\n",
       "\\item 23\n",
       "\\item 24\n",
       "\\item 24\n",
       "\\end{enumerate*}\n"
      ],
      "text/markdown": [
       "1. 18\n",
       "2. 18\n",
       "3. 18\n",
       "4. 18\n",
       "5. 19\n",
       "6. 19\n",
       "7. 19\n",
       "8. 19\n",
       "9. 19\n",
       "10. 19\n",
       "11. 20\n",
       "12. 20\n",
       "13. 21\n",
       "14. 21\n",
       "15. 21\n",
       "16. 21\n",
       "17. 21\n",
       "18. 22\n",
       "19. 22\n",
       "20. 23\n",
       "21. 24\n",
       "22. 24\n",
       "\n",
       "\n"
      ],
      "text/plain": [
       " [1] 18 18 18 18 19 19 19 19 19 19 20 20 21 21 21 21 21 22 22 23 24 24"
      ]
     },
     "metadata": {},
     "output_type": "display_data"
    }
   ],
   "source": [
    "# 대학원생들의 나이 중앙값 조사\n",
    "\n",
    "colls <- c(19, 18, 19, 21, 20, 24, 21, 19, 19, 20, 18, 21, 22, 23, 21, 19, 18, 22, 24, 21, 18, 19)\n",
    "\n",
    "median(colls)\n",
    "length(colls)\n",
    "sort(colls)"
   ]
  },
  {
   "cell_type": "code",
   "execution_count": 51,
   "id": "48beea46-2750-47fe-82ec-2d2de3ec8431",
   "metadata": {},
   "outputs": [
    {
     "data": {
      "text/html": [
       "20"
      ],
      "text/latex": [
       "20"
      ],
      "text/markdown": [
       "20"
      ],
      "text/plain": [
       "[1] 20"
      ]
     },
     "metadata": {},
     "output_type": "display_data"
    }
   ],
   "source": [
    "pos = (length(colls)+1) /2\n",
    "sort(colls)[pos]"
   ]
  },
  {
   "cell_type": "code",
   "execution_count": 55,
   "id": "84283d3d-b078-4c58-98d3-1d15533462e4",
   "metadata": {},
   "outputs": [
    {
     "data": {
      "text/html": [
       "6.65"
      ],
      "text/latex": [
       "6.65"
      ],
      "text/markdown": [
       "6.65"
      ],
      "text/plain": [
       "[1] 6.65"
      ]
     },
     "metadata": {},
     "output_type": "display_data"
    },
    {
     "data": {
      "text/html": [
       "<style>\n",
       ".list-inline {list-style: none; margin:0; padding: 0}\n",
       ".list-inline>li {display: inline-block}\n",
       ".list-inline>li:not(:last-child)::after {content: \"\\00b7\"; padding: 0 .5ex}\n",
       "</style>\n",
       "<ol class=list-inline><li>4.4</li><li>5.2</li><li>5.3</li><li>6</li><li>6.1</li><li>7.2</li><li>7.3</li><li>8.5</li><li>10.2</li><li>10.4</li></ol>\n"
      ],
      "text/latex": [
       "\\begin{enumerate*}\n",
       "\\item 4.4\n",
       "\\item 5.2\n",
       "\\item 5.3\n",
       "\\item 6\n",
       "\\item 6.1\n",
       "\\item 7.2\n",
       "\\item 7.3\n",
       "\\item 8.5\n",
       "\\item 10.2\n",
       "\\item 10.4\n",
       "\\end{enumerate*}\n"
      ],
      "text/markdown": [
       "1. 4.4\n",
       "2. 5.2\n",
       "3. 5.3\n",
       "4. 6\n",
       "5. 6.1\n",
       "6. 7.2\n",
       "7. 7.3\n",
       "8. 8.5\n",
       "9. 10.2\n",
       "10. 10.4\n",
       "\n",
       "\n"
      ],
      "text/plain": [
       " [1]  4.4  5.2  5.3  6.0  6.1  7.2  7.3  8.5 10.2 10.4"
      ]
     },
     "metadata": {},
     "output_type": "display_data"
    },
    {
     "data": {
      "text/html": [
       "10"
      ],
      "text/latex": [
       "10"
      ],
      "text/markdown": [
       "10"
      ],
      "text/plain": [
       "[1] 10"
      ]
     },
     "metadata": {},
     "output_type": "display_data"
    }
   ],
   "source": [
    "# 신생아 개월별 몸무게의 중앙값 조사\n",
    "\n",
    "age <- c(1,3,5,2,11,9,3,9,12,3)\n",
    "weight <- c(4.4, 5.3, 7.2, 5.2, 8.5, 7.3, 6.0, 10.4, 10.2, 6.1)\n",
    "\n",
    "median(weight)\n",
    "sort(weight)\n",
    "length(weight)"
   ]
  },
  {
   "cell_type": "code",
   "execution_count": 73,
   "id": "49d04d4e-7112-4651-b505-ac730e8dd9e0",
   "metadata": {},
   "outputs": [
    {
     "data": {
      "text/html": [
       "6.65"
      ],
      "text/latex": [
       "6.65"
      ],
      "text/markdown": [
       "6.65"
      ],
      "text/plain": [
       "[1] 6.65"
      ]
     },
     "metadata": {},
     "output_type": "display_data"
    }
   ],
   "source": [
    "pos = length(weight)/2\n",
    "\n",
    "sorted = sort(weight)\n",
    "(sorted[pos] + sorted[pos+1])/2"
   ]
  },
  {
   "cell_type": "markdown",
   "id": "30f2d80a-6d1f-4d73-96d6-0a4266de817a",
   "metadata": {},
   "source": [
    "# 최빈값\n",
    "+ **명목 자료의 대표값**\n",
    "+ 데이터들 중에서 도수가 가장 큰 값(들)\n",
    "+ 두번 이상 발생하는 자료 중에서 자주 나타나는 자료값\n",
    "+ 극단값에 전혀 영향을 받지 않음\n",
    "+ 존재하지 않거나 여러개 존재할 수 있음\n",
    "+ 애석하게도 R에는 최빈값을 구하는 기본함수가 없음"
   ]
  },
  {
   "cell_type": "code",
   "execution_count": 79,
   "id": "1889c7ef-f3e3-4b86-bd11-b6c5d71be2ff",
   "metadata": {},
   "outputs": [
    {
     "data": {
      "text/html": [
       "<strong>30:</strong> 2"
      ],
      "text/latex": [
       "\\textbf{30:} 2"
      ],
      "text/markdown": [
       "**30:** 2"
      ],
      "text/plain": [
       "30 \n",
       " 2 "
      ]
     },
     "metadata": {},
     "output_type": "display_data"
    }
   ],
   "source": [
    "# 조선조 왕들의 수명의 최빈값 조사\n",
    "\n",
    "sort(table(kings), decreasing=T)[1]"
   ]
  },
  {
   "cell_type": "code",
   "execution_count": 80,
   "id": "6df14e23-518e-4f88-b9f4-7fe92bcdd851",
   "metadata": {},
   "outputs": [
    {
     "data": {
      "text/html": [
       "'30'"
      ],
      "text/latex": [
       "'30'"
      ],
      "text/markdown": [
       "'30'"
      ],
      "text/plain": [
       "[1] \"30\""
      ]
     },
     "metadata": {},
     "output_type": "display_data"
    }
   ],
   "source": [
    "# 빈도표에 헤더만 출력하고 싶으면 names 함수 사용\n",
    "\n",
    "names(sort(table(kings), decreasing=T))[1]"
   ]
  },
  {
   "cell_type": "code",
   "execution_count": 82,
   "id": "b56feae1-4729-4b93-bc03-0eb424c2087b",
   "metadata": {},
   "outputs": [
    {
     "data": {
      "text/html": [
       "<style>\n",
       ".list-inline {list-style: none; margin:0; padding: 0}\n",
       ".list-inline>li {display: inline-block}\n",
       ".list-inline>li:not(:last-child)::after {content: \"\\00b7\"; padding: 0 .5ex}\n",
       "</style>\n",
       "<ol class=list-inline><li>30</li><li>56</li><li>33</li></ol>\n"
      ],
      "text/latex": [
       "\\begin{enumerate*}\n",
       "\\item 30\n",
       "\\item 56\n",
       "\\item 33\n",
       "\\end{enumerate*}\n"
      ],
      "text/markdown": [
       "1. 30\n",
       "2. 56\n",
       "3. 33\n",
       "\n",
       "\n"
      ],
      "text/plain": [
       "[1] 30 56 33"
      ]
     },
     "metadata": {},
     "output_type": "display_data"
    }
   ],
   "source": [
    "# 최빈값을 구하는 사용자 정의 함수\n",
    "Modes <- function(x) {\n",
    "   ux <- unique(x)\n",
    "  tab <- tabulate(match(x, ux))\n",
    "   ux[tab == max(tab)]\n",
    "}\n",
    "\n",
    "Modes(kings)"
   ]
  },
  {
   "cell_type": "code",
   "execution_count": 87,
   "id": "092d84f7-37f6-4bac-a1e2-7ec0484c7309",
   "metadata": {},
   "outputs": [
    {
     "data": {
      "text/html": [
       "<style>\n",
       ".list-inline {list-style: none; margin:0; padding: 0}\n",
       ".list-inline>li {display: inline-block}\n",
       ".list-inline>li:not(:last-child)::after {content: \"\\00b7\"; padding: 0 .5ex}\n",
       "</style>\n",
       "<ol class=list-inline><li>73</li><li>62</li><li>45</li><li>53</li><li>38</li><li>16</li><li>51</li><li>28</li><li>37</li><li>30</li><li>56</li><li>33</li><li>66</li><li>54</li><li>40</li><li>59</li><li>36</li><li>82</li><li>48</li><li>44</li><li>22</li><li>32</li><li>67</li><li>52</li></ol>\n"
      ],
      "text/latex": [
       "\\begin{enumerate*}\n",
       "\\item 73\n",
       "\\item 62\n",
       "\\item 45\n",
       "\\item 53\n",
       "\\item 38\n",
       "\\item 16\n",
       "\\item 51\n",
       "\\item 28\n",
       "\\item 37\n",
       "\\item 30\n",
       "\\item 56\n",
       "\\item 33\n",
       "\\item 66\n",
       "\\item 54\n",
       "\\item 40\n",
       "\\item 59\n",
       "\\item 36\n",
       "\\item 82\n",
       "\\item 48\n",
       "\\item 44\n",
       "\\item 22\n",
       "\\item 32\n",
       "\\item 67\n",
       "\\item 52\n",
       "\\end{enumerate*}\n"
      ],
      "text/markdown": [
       "1. 73\n",
       "2. 62\n",
       "3. 45\n",
       "4. 53\n",
       "5. 38\n",
       "6. 16\n",
       "7. 51\n",
       "8. 28\n",
       "9. 37\n",
       "10. 30\n",
       "11. 56\n",
       "12. 33\n",
       "13. 66\n",
       "14. 54\n",
       "15. 40\n",
       "16. 59\n",
       "17. 36\n",
       "18. 82\n",
       "19. 48\n",
       "20. 44\n",
       "21. 22\n",
       "22. 32\n",
       "23. 67\n",
       "24. 52\n",
       "\n",
       "\n"
      ],
      "text/plain": [
       " [1] 73 62 45 53 38 16 51 28 37 30 56 33 66 54 40 59 36 82 48 44 22 32 67 52"
      ]
     },
     "metadata": {},
     "output_type": "display_data"
    },
    {
     "data": {
      "text/html": [
       "1"
      ],
      "text/latex": [
       "1"
      ],
      "text/markdown": [
       "1"
      ],
      "text/plain": [
       "[1] 1"
      ]
     },
     "metadata": {},
     "output_type": "display_data"
    },
    {
     "data": {
      "text/html": [
       "<style>\n",
       ".list-inline {list-style: none; margin:0; padding: 0}\n",
       ".list-inline>li {display: inline-block}\n",
       ".list-inline>li:not(:last-child)::after {content: \"\\00b7\"; padding: 0 .5ex}\n",
       "</style>\n",
       "<ol class=list-inline><li>30</li><li>56</li><li>33</li></ol>\n"
      ],
      "text/latex": [
       "\\begin{enumerate*}\n",
       "\\item 30\n",
       "\\item 56\n",
       "\\item 33\n",
       "\\end{enumerate*}\n"
      ],
      "text/markdown": [
       "1. 30\n",
       "2. 56\n",
       "3. 33\n",
       "\n",
       "\n"
      ],
      "text/plain": [
       "[1] 30 56 33"
      ]
     },
     "metadata": {},
     "output_type": "display_data"
    }
   ],
   "source": [
    "# 벡터에서 중복값 제외 후 객체 생성 : unique\n",
    "unique(kings)\n",
    "\n",
    "\n",
    "# 특정값에 대한 빈도 계산 : tabulate(객체, 값)\n",
    "# kings의 첫번째 요소인 73이 몇번 출현하는지 조사\n",
    "tabulate(match(kings, kings[1]))\n",
    "\n",
    "\n",
    "Modes(kings)"
   ]
  },
  {
   "cell_type": "markdown",
   "id": "a84c89dd-cd22-41cc-94fd-6afbb63a26a3",
   "metadata": {},
   "source": [
    "## 사원 데이터의 기술통계1 (대표값)"
   ]
  },
  {
   "cell_type": "code",
   "execution_count": 98,
   "id": "0361f0e4-7403-44e0-88e9-1a1cba1d9194",
   "metadata": {},
   "outputs": [
    {
     "data": {
      "text/html": [
       "<table class=\"dataframe\">\n",
       "<caption>A data.frame: 6 × 11</caption>\n",
       "<thead>\n",
       "\t<tr><th></th><th scope=col>EMPLOYEE_ID</th><th scope=col>FIRST_NAME</th><th scope=col>LAST_NAME</th><th scope=col>EMAIL</th><th scope=col>PHONE_NUMBER</th><th scope=col>HIRE_DATE</th><th scope=col>JOB_ID</th><th scope=col>SALARY</th><th scope=col>COMMISSION_PCT</th><th scope=col>MANAGER_ID</th><th scope=col>DEPARTMENT_ID</th></tr>\n",
       "\t<tr><th></th><th scope=col>&lt;int&gt;</th><th scope=col>&lt;chr&gt;</th><th scope=col>&lt;chr&gt;</th><th scope=col>&lt;chr&gt;</th><th scope=col>&lt;chr&gt;</th><th scope=col>&lt;chr&gt;</th><th scope=col>&lt;chr&gt;</th><th scope=col>&lt;int&gt;</th><th scope=col>&lt;dbl&gt;</th><th scope=col>&lt;int&gt;</th><th scope=col>&lt;int&gt;</th></tr>\n",
       "</thead>\n",
       "<tbody>\n",
       "\t<tr><th scope=row>1</th><td>100</td><td>Steven   </td><td>King   </td><td>SKING   </td><td>515.123.4567</td><td>2003-06-17</td><td>AD_PRES</td><td>24000</td><td>NA</td><td> NA</td><td>90</td></tr>\n",
       "\t<tr><th scope=row>2</th><td>101</td><td>Neena    </td><td>Kochhar</td><td>NKOCHHAR</td><td>515.123.4568</td><td>2005-09-21</td><td>AD_VP  </td><td>17000</td><td>NA</td><td>100</td><td>90</td></tr>\n",
       "\t<tr><th scope=row>3</th><td>102</td><td>Lex      </td><td>De Haan</td><td>LDEHAAN </td><td>515.123.4569</td><td>2001-01-13</td><td>AD_VP  </td><td>17000</td><td>NA</td><td>100</td><td>90</td></tr>\n",
       "\t<tr><th scope=row>4</th><td>103</td><td>Alexander</td><td>Hunold </td><td>AHUNOLD </td><td>590.423.4567</td><td>2006-01-03</td><td>IT_PROG</td><td> 9000</td><td>NA</td><td>102</td><td>60</td></tr>\n",
       "\t<tr><th scope=row>5</th><td>104</td><td>Bruce    </td><td>Ernst  </td><td>BERNST  </td><td>590.423.4568</td><td>2007-05-21</td><td>IT_PROG</td><td> 6000</td><td>NA</td><td>103</td><td>60</td></tr>\n",
       "\t<tr><th scope=row>6</th><td>105</td><td>David    </td><td>Austin </td><td>DAUSTIN </td><td>590.423.4569</td><td>2005-06-25</td><td>IT_PROG</td><td> 4800</td><td>NA</td><td>103</td><td>60</td></tr>\n",
       "</tbody>\n",
       "</table>\n"
      ],
      "text/latex": [
       "A data.frame: 6 × 11\n",
       "\\begin{tabular}{r|lllllllllll}\n",
       "  & EMPLOYEE\\_ID & FIRST\\_NAME & LAST\\_NAME & EMAIL & PHONE\\_NUMBER & HIRE\\_DATE & JOB\\_ID & SALARY & COMMISSION\\_PCT & MANAGER\\_ID & DEPARTMENT\\_ID\\\\\n",
       "  & <int> & <chr> & <chr> & <chr> & <chr> & <chr> & <chr> & <int> & <dbl> & <int> & <int>\\\\\n",
       "\\hline\n",
       "\t1 & 100 & Steven    & King    & SKING    & 515.123.4567 & 2003-06-17 & AD\\_PRES & 24000 & NA &  NA & 90\\\\\n",
       "\t2 & 101 & Neena     & Kochhar & NKOCHHAR & 515.123.4568 & 2005-09-21 & AD\\_VP   & 17000 & NA & 100 & 90\\\\\n",
       "\t3 & 102 & Lex       & De Haan & LDEHAAN  & 515.123.4569 & 2001-01-13 & AD\\_VP   & 17000 & NA & 100 & 90\\\\\n",
       "\t4 & 103 & Alexander & Hunold  & AHUNOLD  & 590.423.4567 & 2006-01-03 & IT\\_PROG &  9000 & NA & 102 & 60\\\\\n",
       "\t5 & 104 & Bruce     & Ernst   & BERNST   & 590.423.4568 & 2007-05-21 & IT\\_PROG &  6000 & NA & 103 & 60\\\\\n",
       "\t6 & 105 & David     & Austin  & DAUSTIN  & 590.423.4569 & 2005-06-25 & IT\\_PROG &  4800 & NA & 103 & 60\\\\\n",
       "\\end{tabular}\n"
      ],
      "text/markdown": [
       "\n",
       "A data.frame: 6 × 11\n",
       "\n",
       "| <!--/--> | EMPLOYEE_ID &lt;int&gt; | FIRST_NAME &lt;chr&gt; | LAST_NAME &lt;chr&gt; | EMAIL &lt;chr&gt; | PHONE_NUMBER &lt;chr&gt; | HIRE_DATE &lt;chr&gt; | JOB_ID &lt;chr&gt; | SALARY &lt;int&gt; | COMMISSION_PCT &lt;dbl&gt; | MANAGER_ID &lt;int&gt; | DEPARTMENT_ID &lt;int&gt; |\n",
       "|---|---|---|---|---|---|---|---|---|---|---|---|\n",
       "| 1 | 100 | Steven    | King    | SKING    | 515.123.4567 | 2003-06-17 | AD_PRES | 24000 | NA |  NA | 90 |\n",
       "| 2 | 101 | Neena     | Kochhar | NKOCHHAR | 515.123.4568 | 2005-09-21 | AD_VP   | 17000 | NA | 100 | 90 |\n",
       "| 3 | 102 | Lex       | De Haan | LDEHAAN  | 515.123.4569 | 2001-01-13 | AD_VP   | 17000 | NA | 100 | 90 |\n",
       "| 4 | 103 | Alexander | Hunold  | AHUNOLD  | 590.423.4567 | 2006-01-03 | IT_PROG |  9000 | NA | 102 | 60 |\n",
       "| 5 | 104 | Bruce     | Ernst   | BERNST   | 590.423.4568 | 2007-05-21 | IT_PROG |  6000 | NA | 103 | 60 |\n",
       "| 6 | 105 | David     | Austin  | DAUSTIN  | 590.423.4569 | 2005-06-25 | IT_PROG |  4800 | NA | 103 | 60 |\n",
       "\n"
      ],
      "text/plain": [
       "  EMPLOYEE_ID FIRST_NAME LAST_NAME EMAIL    PHONE_NUMBER HIRE_DATE  JOB_ID \n",
       "1 100         Steven     King      SKING    515.123.4567 2003-06-17 AD_PRES\n",
       "2 101         Neena      Kochhar   NKOCHHAR 515.123.4568 2005-09-21 AD_VP  \n",
       "3 102         Lex        De Haan   LDEHAAN  515.123.4569 2001-01-13 AD_VP  \n",
       "4 103         Alexander  Hunold    AHUNOLD  590.423.4567 2006-01-03 IT_PROG\n",
       "5 104         Bruce      Ernst     BERNST   590.423.4568 2007-05-21 IT_PROG\n",
       "6 105         David      Austin    DAUSTIN  590.423.4569 2005-06-25 IT_PROG\n",
       "  SALARY COMMISSION_PCT MANAGER_ID DEPARTMENT_ID\n",
       "1 24000  NA              NA        90           \n",
       "2 17000  NA             100        90           \n",
       "3 17000  NA             100        90           \n",
       "4  9000  NA             102        60           \n",
       "5  6000  NA             103        60           \n",
       "6  4800  NA             103        60           "
      ]
     },
     "metadata": {},
     "output_type": "display_data"
    }
   ],
   "source": [
    "# 사원데이터 불러오기 \n",
    "# : 문자형 데이터를 무조건 범주형으로 바꾸는것을 방지\n",
    "emp <- read.csv('employees.csv', stringsAsFactors=F)\n",
    "head(emp)"
   ]
  },
  {
   "cell_type": "code",
   "execution_count": 96,
   "id": "e7baf195-c4d5-4fd9-ba7e-ac12f2aa3fb8",
   "metadata": {},
   "outputs": [
    {
     "name": "stdout",
     "output_type": "stream",
     "text": [
      "'data.frame':\t107 obs. of  11 variables:\n",
      " $ EMPLOYEE_ID   : int  100 101 102 103 104 105 106 107 108 109 ...\n",
      " $ FIRST_NAME    : chr  \"Steven\" \"Neena\" \"Lex\" \"Alexander\" ...\n",
      " $ LAST_NAME     : chr  \"King\" \"Kochhar\" \"De Haan\" \"Hunold\" ...\n",
      " $ EMAIL         : chr  \"SKING\" \"NKOCHHAR\" \"LDEHAAN\" \"AHUNOLD\" ...\n",
      " $ PHONE_NUMBER  : chr  \"515.123.4567\" \"515.123.4568\" \"515.123.4569\" \"590.423.4567\" ...\n",
      " $ HIRE_DATE     : chr  \"2003-06-17\" \"2005-09-21\" \"2001-01-13\" \"2006-01-03\" ...\n",
      " $ JOB_ID        : chr  \"AD_PRES\" \"AD_VP\" \"AD_VP\" \"IT_PROG\" ...\n",
      " $ SALARY        : int  24000 17000 17000 9000 6000 4800 4800 4200 12008 9000 ...\n",
      " $ COMMISSION_PCT: num  NA NA NA NA NA NA NA NA NA NA ...\n",
      " $ MANAGER_ID    : int  NA 100 100 102 103 103 103 103 101 108 ...\n",
      " $ DEPARTMENT_ID : int  90 90 90 60 60 60 60 60 100 100 ...\n"
     ]
    }
   ],
   "source": [
    "# 데이터 구조 파악\n",
    "str(emp)"
   ]
  },
  {
   "cell_type": "code",
   "execution_count": 106,
   "id": "11e528e9-b73c-4c44-9eca-7cf821b3c8a8",
   "metadata": {},
   "outputs": [],
   "source": [
    "# 데이터 형식 변경 : as.~\n",
    "# 객체명$변수명 <- 형식변경\n",
    "\n",
    "# 직책, 상사번호, 부서번호 컬럼을 문자형에서 범주형으로 변경\n",
    "\n",
    "emp$JOB_ID <- as.factor(emp$JOB_ID)\n",
    "emp$MANAGER_ID <- as.factor(emp$MANAGER_ID)\n",
    "emp$DEPARTMENT_ID <- as.factor(emp$DEPARTMENT_ID)"
   ]
  },
  {
   "cell_type": "code",
   "execution_count": 107,
   "id": "57d30d47-e638-4bd8-bf93-f7e56caaff68",
   "metadata": {},
   "outputs": [
    {
     "data": {
      "text/plain": [
       "  EMPLOYEE_ID     FIRST_NAME         LAST_NAME            EMAIL          \n",
       " Min.   :100.0   Length:107         Length:107         Length:107        \n",
       " 1st Qu.:126.5   Class :character   Class :character   Class :character  \n",
       " Median :153.0   Mode  :character   Mode  :character   Mode  :character  \n",
       " Mean   :153.0                                                           \n",
       " 3rd Qu.:179.5                                                           \n",
       " Max.   :206.0                                                           \n",
       "                                                                         \n",
       " PHONE_NUMBER        HIRE_DATE                JOB_ID       SALARY     \n",
       " Length:107         Length:107         SA_REP    :30   Min.   : 2100  \n",
       " Class :character   Class :character   SH_CLERK  :20   1st Qu.: 3100  \n",
       " Mode  :character   Mode  :character   ST_CLERK  :20   Median : 6200  \n",
       "                                       FI_ACCOUNT: 5   Mean   : 6462  \n",
       "                                       IT_PROG   : 5   3rd Qu.: 8900  \n",
       "                                       PU_CLERK  : 5   Max.   :24000  \n",
       "                                       (Other)   :22                  \n",
       " COMMISSION_PCT     MANAGER_ID DEPARTMENT_ID\n",
       " Min.   :0.1000   100    :14   50     :45   \n",
       " 1st Qu.:0.1500   120    : 8   80     :34   \n",
       " Median :0.2000   121    : 8   30     : 6   \n",
       " Mean   :0.2229   122    : 8   100    : 6   \n",
       " 3rd Qu.:0.3000   123    : 8   60     : 5   \n",
       " Max.   :0.4000   (Other):60   (Other):10   \n",
       " NA's   :72       NA's   : 1   NA's   : 1   "
      ]
     },
     "metadata": {},
     "output_type": "display_data"
    }
   ],
   "source": [
    "# 데이터 요약\n",
    "summary(emp)"
   ]
  },
  {
   "cell_type": "code",
   "execution_count": 112,
   "id": "a3eac567-d25e-4eaf-bbb1-470c7a5ea91d",
   "metadata": {},
   "outputs": [
    {
     "data": {
      "text/plain": [
       "\n",
       "    SA_REP   SH_CLERK   ST_CLERK FI_ACCOUNT    IT_PROG   PU_CLERK     SA_MAN \n",
       "        30         20         20          5          5          5          5 \n",
       "    ST_MAN      AD_VP AC_ACCOUNT     AC_MGR    AD_ASST    AD_PRES     FI_MGR \n",
       "         5          2          1          1          1          1          1 \n",
       "    HR_REP     MK_MAN     MK_REP     PR_REP     PU_MAN \n",
       "         1          1          1          1          1 "
      ]
     },
     "metadata": {},
     "output_type": "display_data"
    }
   ],
   "source": [
    "# 직책별 사원 현황\n",
    "# 역순정렬, 제일큰값부터 나옴 (decreasing=T)\n",
    "\n",
    "sort(table(emp$JOB_ID), decreasing=T)"
   ]
  },
  {
   "cell_type": "code",
   "execution_count": 115,
   "id": "faf38ef6-beef-403e-89d2-3f800f33a989",
   "metadata": {},
   "outputs": [
    {
     "data": {
      "text/plain": [
       "\n",
       " 50  80  30 100  60  90  20 110  10  40  70 \n",
       " 45  34   6   6   5   3   2   2   1   1   1 "
      ]
     },
     "metadata": {},
     "output_type": "display_data"
    }
   ],
   "source": [
    "# 부서번호별 사원 현황\n",
    "\n",
    "sort(table(emp$DEPARTMENT_ID), decreasing=T)"
   ]
  },
  {
   "cell_type": "code",
   "execution_count": 119,
   "id": "2b8ca8e0-655b-4e9f-86dd-fa9ae0fee0b9",
   "metadata": {},
   "outputs": [
    {
     "data": {
      "text/html": [
       "6461.83"
      ],
      "text/latex": [
       "6461.83"
      ],
      "text/markdown": [
       "6461.83"
      ],
      "text/plain": [
       "[1] 6461.83"
      ]
     },
     "metadata": {},
     "output_type": "display_data"
    },
    {
     "data": {
      "text/html": [
       "6461.83177570093"
      ],
      "text/latex": [
       "6461.83177570093"
      ],
      "text/markdown": [
       "6461.83177570093"
      ],
      "text/plain": [
       "[1] 6461.832"
      ]
     },
     "metadata": {},
     "output_type": "display_data"
    },
    {
     "data": {
      "text/html": [
       "6200"
      ],
      "text/latex": [
       "6200"
      ],
      "text/markdown": [
       "6200"
      ],
      "text/plain": [
       "[1] 6200"
      ]
     },
     "metadata": {},
     "output_type": "display_data"
    },
    {
     "data": {
      "text/html": [
       "2500"
      ],
      "text/latex": [
       "2500"
      ],
      "text/markdown": [
       "2500"
      ],
      "text/plain": [
       "[1] 2500"
      ]
     },
     "metadata": {},
     "output_type": "display_data"
    }
   ],
   "source": [
    "# 급여에 대한 대표값 파악\n",
    "round(mean(emp$SALARY), 2)\n",
    "mean(emp$SALARY)\n",
    "\n",
    "median(emp$SALARY)\n",
    "Modes(emp$SALARY)"
   ]
  },
  {
   "cell_type": "code",
   "execution_count": null,
   "id": "004c3ed9-263c-44fa-82b7-c3052d71aa4d",
   "metadata": {},
   "outputs": [],
   "source": []
  },
  {
   "cell_type": "markdown",
   "id": "69916890-241d-4d96-a32a-c7c860ffa5bf",
   "metadata": {},
   "source": [
    "## 핫도그 먹기 대회 데이터의 기술통계1 (대표값)"
   ]
  },
  {
   "cell_type": "code",
   "execution_count": 134,
   "id": "e025f49f-f5c8-4ccb-a53c-bdc2f284c5bb",
   "metadata": {},
   "outputs": [
    {
     "name": "stdout",
     "output_type": "stream",
     "text": [
      "'data.frame':\t31 obs. of  5 variables:\n",
      " $ Year      : int  1980 1981 1982 1983 1984 1985 1986 1987 1988 1989 ...\n",
      " $ Winner    : chr  \"Paul Siederman & Joe Baldini\" \"Thomas DeBerry \" \"Steven Abrams \" \"Luis Llamas \" ...\n",
      " $ Dogs.eaten: num  9.1 11 11 19.5 9.5 ...\n",
      " $ Country   : chr  \"United States\" \"United States\" \"United States\" \"Mexico\" ...\n",
      " $ New.record: int  0 0 0 0 0 0 0 0 0 0 ...\n"
     ]
    }
   ],
   "source": [
    "hotdog = read.csv('hotdog-winners.csv', stringsAsFactors=F)\n",
    "\n",
    "str(hotdog)"
   ]
  },
  {
   "cell_type": "code",
   "execution_count": 139,
   "id": "79e80298-4d06-419e-8ec9-9018bb054f13",
   "metadata": {},
   "outputs": [
    {
     "data": {
      "text/plain": [
       "      Year         Winner            Dogs.eaten             Country  \n",
       " Min.   :1980   Length:31          Min.   : 9.10   Germany      : 1  \n",
       " 1st Qu.:1988   Class :character   1st Qu.:14.75   Japan        : 9  \n",
       " Median :1995   Mode  :character   Median :20.00   Mexico       : 1  \n",
       " Mean   :1995                      Mean   :28.99   United States:20  \n",
       " 3rd Qu.:2002                      3rd Qu.:49.50                     \n",
       " Max.   :2010                      Max.   :68.00                     \n",
       "   New.record    \n",
       " Min.   :0.0000  \n",
       " 1st Qu.:0.0000  \n",
       " Median :0.0000  \n",
       " Mean   :0.3226  \n",
       " 3rd Qu.:1.0000  \n",
       " Max.   :1.0000  "
      ]
     },
     "metadata": {},
     "output_type": "display_data"
    }
   ],
   "source": [
    "hotdog$Country <- as.factor(hotdog$Country)\n",
    "summary(hotdog)"
   ]
  },
  {
   "cell_type": "code",
   "execution_count": 140,
   "id": "3d924dac-7abe-45a8-8d1e-c0c648be7d99",
   "metadata": {},
   "outputs": [
    {
     "data": {
      "text/html": [
       "28.9912903225806"
      ],
      "text/latex": [
       "28.9912903225806"
      ],
      "text/markdown": [
       "28.9912903225806"
      ],
      "text/plain": [
       "[1] 28.99129"
      ]
     },
     "metadata": {},
     "output_type": "display_data"
    }
   ],
   "source": [
    "mean(hotdog$Dogs.eaten)"
   ]
  },
  {
   "cell_type": "code",
   "execution_count": 141,
   "id": "f6fa2be2-87fc-4b63-a665-9dccd8e84a4a",
   "metadata": {},
   "outputs": [
    {
     "data": {
      "text/html": [
       "United States\n",
       "<details>\n",
       "\t<summary style=display:list-item;cursor:pointer>\n",
       "\t\t<strong>Levels</strong>:\n",
       "\t</summary>\n",
       "\t<style>\n",
       "\t.list-inline {list-style: none; margin:0; padding: 0}\n",
       "\t.list-inline>li {display: inline-block}\n",
       "\t.list-inline>li:not(:last-child)::after {content: \"\\00b7\"; padding: 0 .5ex}\n",
       "\t</style>\n",
       "\t<ol class=list-inline><li>'Germany'</li><li>'Japan'</li><li>'Mexico'</li><li>'United States'</li></ol>\n",
       "</details>"
      ],
      "text/latex": [
       "United States\n",
       "\\emph{Levels}: \\begin{enumerate*}\n",
       "\\item 'Germany'\n",
       "\\item 'Japan'\n",
       "\\item 'Mexico'\n",
       "\\item 'United States'\n",
       "\\end{enumerate*}\n"
      ],
      "text/markdown": [
       "United States\n",
       "**Levels**: 1. 'Germany'\n",
       "2. 'Japan'\n",
       "3. 'Mexico'\n",
       "4. 'United States'\n",
       "\n",
       "\n"
      ],
      "text/plain": [
       "[1] United States\n",
       "Levels: Germany Japan Mexico United States"
      ]
     },
     "metadata": {},
     "output_type": "display_data"
    }
   ],
   "source": [
    "Modes(hotdog$Country)"
   ]
  },
  {
   "cell_type": "code",
   "execution_count": 144,
   "id": "948ace99-4a38-43e3-b751-063c68dda1a8",
   "metadata": {},
   "outputs": [
    {
     "data": {
      "text/plain": [
       "\n",
       "United States         Japan       Germany        Mexico \n",
       "           20             9             1             1 "
      ]
     },
     "metadata": {},
     "output_type": "display_data"
    }
   ],
   "source": [
    "sort(table(hotdog$Country),decreasing=T)"
   ]
  },
  {
   "cell_type": "code",
   "execution_count": null,
   "id": "7d4dce67-64c5-4556-baed-73e518d08bc3",
   "metadata": {},
   "outputs": [],
   "source": []
  },
  {
   "cell_type": "code",
   "execution_count": null,
   "id": "5c2abd75-3361-4659-8a1f-3b301dc23a5b",
   "metadata": {},
   "outputs": [],
   "source": []
  }
 ],
 "metadata": {
  "kernelspec": {
   "display_name": "R",
   "language": "R",
   "name": "ir"
  },
  "language_info": {
   "codemirror_mode": "r",
   "file_extension": ".r",
   "mimetype": "text/x-r-source",
   "name": "R",
   "pygments_lexer": "r",
   "version": "3.6.3"
  }
 },
 "nbformat": 4,
 "nbformat_minor": 5
}
