{
 "cells": [
  {
   "cell_type": "markdown",
   "id": "cc490d65-a71b-4b05-8ac6-e7dc0c51ce86",
   "metadata": {},
   "source": [
    "## 추정\n",
    "* 보통 어떤 집단(모집단)의 특징을 알고싶다 => 전수조사\n",
    "* 현실에서는 시간/비용상의 문제 때문에 모든 구성원 대상 조사는 어려움\n",
    "    + => 표본 이용(일부조사)\n",
    "* 알고자 하는 모집단의 특징을 숫자로 표현\n",
    "    + => 모수(평균,분산,비율, 표준편차)\n",
    "    + 표본으로 뽑은 데이터 - 통계량, 추정치\n",
    "    \n",
    "* **표본의 통계량으로 \"'모수'가 이럴것이다\"라고 추리** => 추정\n",
    "    + ex) 한국 성인 남자의 평균 키 파악\n",
    "    \n",
    "## 한국 성인 남자의 평균 키 파악\n",
    "+ **모집단** : 한국 성인 남자\n",
    "+ **모수** : 평균\n",
    "    - 한국 성인남자 모두를 조사할 수 없으니 \n",
    "      표본(남자 1000명)을 선정해서 평균을 구함\n",
    "    - 표본의 평균으로 모집단의 평균을 추리함\n",
    "\n",
    "+ 추정은 일부 데이터로 전체를 추리하기 때문에 \n",
    "  100% 정답은 아니고, 일부 오차는 존재함"
   ]
  },
  {
   "cell_type": "markdown",
   "id": "1fea196b-f7da-44e7-8517-b14a00943801",
   "metadata": {},
   "source": [
    "## 추정의 종류\n",
    "+ 추정에는 점추정, 구간 추정이 있음\n",
    "+ 점추정\n",
    "    - 추정치를 하나의 값(점)으로 표현\n",
    "    - 성인 남자 평균 키 - 172.38cm(통계량)\n",
    "    - 그런데, 진짜 한국 남성의 평균키가 172cm일까?\n",
    "    - 당연히 그럴 확률은 희박 => 표본수 작음, 오차 존재\n",
    "    - 따라서, 특성상 점추정은 신뢰하기 어려움\n",
    "    - ex) 서울 지역내 하이마트에서 UHD TV를 구매한 고객의 평균 나이 추정\n",
    "    - 경주를 방문한 관광객들의 평균 지출액 추정\n",
    "    \n",
    "* 구간 추정\n",
    "    + 추정치를 일정구간으로 설정\n",
    "    + 즉, 신뢰도(신뢰수준)를 제시하면서 상한값과 하한값으로 추정\n",
    "    + 성인 남자 평균 키 - 172.38cm(통계량) => 167 ~ 177cm (+-5)\n",
    "    + 이렇게 하면, 이 구간에 모수가 포함될 확률이 높아짐\n",
    "    + 추정치의 신뢰도를 높이고, 점추정치의 한계를 극복하기 위해 구간 추정을 사용함\n",
    "    + 서울 지역 IT노동자의 연간 평균 급여가 200만원이다 (점추정 - 신뢰도 하락)\n",
    "    + 서울 지역 IT노동자의 연간 평균 급여가 180 ~ 220만원 사이에 있을 가능성이 85%이다  \n",
    "          (구간추정 -어느 정도 신뢰도 보장)"
   ]
  },
  {
   "cell_type": "markdown",
   "id": "2b327c35-c17c-4ba6-a87e-fcde5e0e4ec6",
   "metadata": {},
   "source": [
    "## 신뢰구간\n",
    "+ 점추정은 특성상 신뢰도가 떨어짐 => 구간추정으로 보완\n",
    "+ 그러면, 구간추정시 어느정도까지 구간을 설정해야 할까?\n",
    "+ 성인 남자 평균 키에 대한 구간추정을 150~190으로 잡으면? => 너무 넓음\n",
    "+ 구간설정이 짧을수록 좋을까? 너무 짧아도 문제\n",
    "+ 너무 넓지도, 짧지않게 나름의 기준에 따라 신뢰가능한 구간을 설정 - 신뢰구간 사용\n",
    "+ 주어진 확률로 모집단의 모수가 존재할 것으로 예상되는 값의 범위 - 신뢰구간\n",
    "+ 이때, 주어진 확률은 '신뢰수준'이라 함\n",
    "    - 신뢰수준 - 표본으로부터 계산한 결과에 대해 확실성 정도를 표현하는 것으로, 추정값으로 모수를 맞출 확률을 의미\n",
    "    - 90% ~ 99.9% 정도로 표현\n",
    "\n"
   ]
  },
  {
   "cell_type": "markdown",
   "id": "d870bbce-19ed-41a5-924e-0b442688fb1a",
   "metadata": {},
   "source": [
    "## 표본 추출방법\n",
    "+ **표본조사** : 더조은 수강생 5000명 대상 사용중인 핸드폰 선호도 조사를 위해 30명 선정 \n",
    "    - 모집단 : 수강생 5000명 \n",
    "    - 표본 : 수강생 30명\n",
    "+ **단순 랜덤** : Simple Random Sampling (SRS)\n",
    "    - 모집단 개체에 번호표 부여 후 30명 \n",
    "    - 추출 추출틀 이용      \n",
    "+ **계통 추출** : 기본적으로 SRS와 유사 \n",
    "    - 단, '개체수/표본수'로 계산되는 k값을 알아냄 1 ~ n의 숫자중 하나를 선택하고 그 숫자에 k를 더해서 개체들을 선택 \n",
    "    - 예) k : 3000 / 30 => 100 임의의 숫자 뽑음(1~3000): 25 25, 125, 225, 325,..., 2925  \n",
    "+ **층화 추출** : 모집단을 몇개의 계층(고유특성)으로 나누어 표본 추출 \n",
    "    - ex) 모집단 : 3000명 => 남/여 수 파악 각 계층별로 번호 부여 : 남=2100, 여=900 계층별 비율 계산 : 남여비율 = 7:3 \n",
    "    - 따라서, 남자은 21명, 여자는 9명을 SRS으로 추출\n",
    "+ **군집 추출** : 모집단을 몇개의 군집(가변특성)으로 나누어 표본 추출 \n",
    "    - ex)모집단을 학력수준/거주지역으로 나눔 각 군집별로 번호부여 (고졸,대졸,대학원졸/서울/경기/부산)_ \n",
    "    - 임의의 그룹을 선택하고 번호표 부여후 비율별로 SRS 추출"
   ]
  },
  {
   "cell_type": "markdown",
   "id": "4eec3725-4e3d-4f3b-aa08-01df4058a529",
   "metadata": {},
   "source": [
    "## 표본추출 : sample"
   ]
  },
  {
   "cell_type": "code",
   "execution_count": 4,
   "id": "960b345d-f919-4d08-a7f2-3c94d3aacdf1",
   "metadata": {},
   "outputs": [
    {
     "data": {
      "text/html": [
       "2"
      ],
      "text/latex": [
       "2"
      ],
      "text/markdown": [
       "2"
      ],
      "text/plain": [
       "[1] 2"
      ]
     },
     "metadata": {},
     "output_type": "display_data"
    }
   ],
   "source": [
    "x <- c(1:10)\n",
    "\n",
    "sample(x,1)  # 10개의 모집단에서 1개의 표본 추출"
   ]
  },
  {
   "cell_type": "code",
   "execution_count": 9,
   "id": "9c2a994b-25d0-403a-b356-ad279129cf25",
   "metadata": {},
   "outputs": [
    {
     "data": {
      "text/html": [
       "<style>\n",
       ".list-inline {list-style: none; margin:0; padding: 0}\n",
       ".list-inline>li {display: inline-block}\n",
       ".list-inline>li:not(:last-child)::after {content: \"\\00b7\"; padding: 0 .5ex}\n",
       "</style>\n",
       "<ol class=list-inline><li>6</li><li>5</li><li>7</li><li>2</li><li>3</li></ol>\n"
      ],
      "text/latex": [
       "\\begin{enumerate*}\n",
       "\\item 6\n",
       "\\item 5\n",
       "\\item 7\n",
       "\\item 2\n",
       "\\item 3\n",
       "\\end{enumerate*}\n"
      ],
      "text/markdown": [
       "1. 6\n",
       "2. 5\n",
       "3. 7\n",
       "4. 2\n",
       "5. 3\n",
       "\n",
       "\n"
      ],
      "text/plain": [
       "[1] 6 5 7 2 3"
      ]
     },
     "metadata": {},
     "output_type": "display_data"
    }
   ],
   "source": [
    "sample(x,5)  # 10개의 모집단에서 5개의 표본 추출"
   ]
  },
  {
   "cell_type": "code",
   "execution_count": 14,
   "id": "34b61ff0-8d86-4bee-ba40-94a3d60b235b",
   "metadata": {},
   "outputs": [
    {
     "data": {
      "text/html": [
       "<style>\n",
       ".list-inline {list-style: none; margin:0; padding: 0}\n",
       ".list-inline>li {display: inline-block}\n",
       ".list-inline>li:not(:last-child)::after {content: \"\\00b7\"; padding: 0 .5ex}\n",
       "</style>\n",
       "<ol class=list-inline><li>3</li><li>6</li><li>8</li><li>4</li><li>6</li></ol>\n"
      ],
      "text/latex": [
       "\\begin{enumerate*}\n",
       "\\item 3\n",
       "\\item 6\n",
       "\\item 8\n",
       "\\item 4\n",
       "\\item 6\n",
       "\\end{enumerate*}\n"
      ],
      "text/markdown": [
       "1. 3\n",
       "2. 6\n",
       "3. 8\n",
       "4. 4\n",
       "5. 6\n",
       "\n",
       "\n"
      ],
      "text/plain": [
       "[1] 3 6 8 4 6"
      ]
     },
     "metadata": {},
     "output_type": "display_data"
    }
   ],
   "source": [
    "sample(x,5, replace=T)  # 복원추출 "
   ]
  },
  {
   "cell_type": "code",
   "execution_count": 19,
   "id": "43611315-241e-406a-9abe-f103368eafbc",
   "metadata": {},
   "outputs": [
    {
     "data": {
      "text/html": [
       "<style>\n",
       ".list-inline {list-style: none; margin:0; padding: 0}\n",
       ".list-inline>li {display: inline-block}\n",
       ".list-inline>li:not(:last-child)::after {content: \"\\00b7\"; padding: 0 .5ex}\n",
       "</style>\n",
       "<ol class=list-inline><li>10</li><li>9</li><li>2</li><li>7</li><li>8</li></ol>\n"
      ],
      "text/latex": [
       "\\begin{enumerate*}\n",
       "\\item 10\n",
       "\\item 9\n",
       "\\item 2\n",
       "\\item 7\n",
       "\\item 8\n",
       "\\end{enumerate*}\n"
      ],
      "text/markdown": [
       "1. 10\n",
       "2. 9\n",
       "3. 2\n",
       "4. 7\n",
       "5. 8\n",
       "\n",
       "\n"
      ],
      "text/plain": [
       "[1] 10  9  2  7  8"
      ]
     },
     "metadata": {},
     "output_type": "display_data"
    }
   ],
   "source": [
    "# 가중치를 부여한 표본 추출\n",
    "# 가중치 = 1:1, 2:2, 3:3, ~, 9:9, 10:10\n",
    "sample(x,5, prob=1:10)"
   ]
  },
  {
   "cell_type": "markdown",
   "id": "668952a9-34fc-45a5-9aa8-08df4841a44a",
   "metadata": {},
   "source": [
    "## 추론통계의 두 갈래\n",
    "\n",
    "* 모집단으로부터 표본을 추출해서 모집단의 특성을 나타내는 모수에 대한 여러 가지 정보를 얻음 : 추론통계\n",
    "* 통계적 추론 = 추정 + 가설검정\n",
    "\n",
    "## 가설검정\n",
    "* 추론 통계학에서 중요하게 여기는 3가지\n",
    "    + 표본집단은 모집단을 대표할 수 있나?\n",
    "    + 표본의 특성이 모집단을 잘 반영해야 함 -> 대표성을 지녀야 함\n",
    "    + 표본의 확률분포는 어떤가?\n",
    "* 어떤 분포이냐에 따라 추정을 위한 기법이 다름\n",
    "* 단, 표본의 수가 많아지면 정규분포에 근사\n",
    "* 추정된 결과는 신뢰할 만 한가?\n",
    "* 추정된 결과를 활용할 지 결정하는 요소\n",
    "\n",
    "## 통계적 가설검정\n",
    "+ 세상에는 수 많은 분야에 걸쳐 다양한 이론/관념이 존재\n",
    "+ 이러한 이론/관념들은 그 자체로 정답이라기 보다는 '이럴것이다'라는 하나의 가설에 불과\n",
    "+ 정답은 아니고 가설이므로 항상 불완전함이 내포\n",
    "+ 한편, 불완전함을 채우기 위해 새로운 가설이 등장하기도 함\n",
    "    - ex) 우주에 대한 가설\n",
    "    - 신화적 상상 -> 천동설 -> 지동설\n",
    "    - 그런데, 새로운 가설이 이전가설보다 늘 합리적이고 신뢰적일까?\n",
    "+ 오히려 이전 가설이 더 합리적일수도 있음"
   ]
  },
  {
   "cell_type": "markdown",
   "id": "a5e9ef24-bd5d-4108-8d30-6d6dccd62408",
   "metadata": {},
   "source": [
    "## 통계적 관점의 가설\n",
    "* 검정을 전제로 모집단의 모수에 대한 진술 또는 가정\n",
    "    - 하이마트에서 일하는 모든 종업원의 평균임금은 200만원이다 - 가설\n",
    "    - 이 가설이 옳은지 알아보기 위해서는 모든 영업점을 다 돌아봐야 함 - 사실상 불가능\n",
    "    - 일정 수의 표본을 추출해서 표본 통계량을 조사하고 결정규칙에 따라 가설을 채택하거나 기각할 수 있음\n",
    "* 표본 통계량 조사 후 :\n",
    "1) 표본평균 100만원 -> 가설기각\n",
    "2) 표본평균 196만원 -> 가설채택? 오차 허용여부는?\n",
    "\n",
    "## 통계적 관점의 검정\n",
    "* 가설이 타당성 있는 진술인지 결정하기 위해 표본증거와 확률이론에 기반하여 수행하는 과정\n",
    "* 이러한 검정은 수학적 증명을 동반하지 않고 받아들일 만한 확률적 증거만을 제공\n",
    "* 따라서, 해석능력, 경험이 어느정도 동반되어야 함"
   ]
  },
  {
   "cell_type": "markdown",
   "id": "861451c4-7058-427d-8361-d8a3e891af05",
   "metadata": {
    "tags": []
   },
   "source": [
    "# 가설검정의 6가지 절차\n",
    "\n",
    "* 귀무/대립가설 설정 -> 유의수준 선정 -> 검정 통계량 선택 -> 결정규칙 수립 -> 표본추출, 결론도출 -> 결과 해석\n",
    "\n",
    "### 1. 귀무/대립가설 설정\n",
    "* 검정하고자 하는 가설을 설정\n",
    "* 귀무(null)가설 $H_0$\n",
    "     - 수치증거를 검정하기 위한 목표로 만들어진 모집단 모수값에 대한 진술(가정)\n",
    "* 대립(alternative)가설$H_1$\n",
    "     - 표본 데이터 정보로 귀무가설이 거짓이라는 충분한 증거를 제시할 때 채택되는 진술\n",
    "* 상업적 항공기의 평균수명은 25년인지 알고 싶다\n",
    "     - 귀무가설 : 평균수명은 25년이다 (=)\n",
    "     - 대립가설 : 평균수명은 25년이 아니다/25년이상/25년이하(>,<,!=)\n",
    "\n",
    "### 2. 유의수준 선정\n",
    "* 귀무가설을 기각하게 되는 확률\n",
    "    - 일반적으로 소비자 관련 - 0.05\n",
    "    - 품질보증 관련 - 0.01\n",
    "    - 정치 여론 조사관련 - 0.10\n",
    "    - ex) 전자회로기판PCB 생산업체에서 불량률이 6% 이하일때 계약업체로 선적해서 납품한다는 품질보증계약 체결함\n",
    "        + 귀무가설H0: 불량률 6% 이하 - 선적 o\n",
    "        + 대립가설H1: 불량률 6% 초과 - 선적 x\n",
    "\n",
    "\n",
    "    - 4000개의 회로판에서 표본 50개 추출\n",
    "        4개가 불량 -> 0.08 -> 8% -> 선적x\n",
    "* 그런데, 4개의 불량이 전체 4000개에서 유일하다면?\n",
    "   + => 불량률 0.1% -> 선적취소는 잘못된 결정\n",
    "   + => 귀무가설이 옳지만 기각했음 (제1종오류(알파$\\alpha$))\n",
    "\n",
    "    - 4000개의 회로판에서 표본 50개 추출\n",
    "        -> 2개가 불량 -> 0.04 -> 4% -> 선적o\n",
    "    * 그런데, 48개 정상품이 전체 4000개에서 유일\n",
    "        + -> 불량률 98.8% -> 선적허용은 잘못된 결정\n",
    "              => 귀무가설이 틀리지만 기각못함 (제2종오류(베타$\\beta$))"
   ]
  },
  {
   "cell_type": "markdown",
   "id": "ee94ca71-f3c1-42d1-a1de-da17257f17cb",
   "metadata": {},
   "source": [
    "### 3. 검정 통계량 선택\n",
    "* 귀무가설을 기각할 것인지를 결정하기 위해서 표본으로부터 계산된 값\n",
    "* 일반적으로 z검정값, t검정값등을 사용\n",
    "* 상황에 따라 F/카이제곱 검정값도 사용\n",
    "\n",
    "### 4. 결정규칙 수립 - 단측/양측 검정\n",
    "* 귀무가설이 기각될 특정 조건과 기각되지 않을 조건을 명시\n",
    "* 일반적으로 기각영역은 귀무가설이 발생할 가능성이 없도록 작게 설정\n",
    "\n",
    "* 단측검정 : one-side, 한쪽 꼬리 검정\n",
    "    + 방향성(크다/작다)이 대립가설에 포함되는 경우 시행하는 검정\n",
    "    + 우측(오른쪽) 단측검정\n",
    "        - ex) 농심의 '오징어다리' 스낵의 포장중량이 500g미만인지 검정한다고 가정\n",
    "    - 귀무가설 : 포장중량이 500g미만\n",
    "    - 대립가설 : 포장중량이 500g이상\n",
    "    - 유의수준 0.05일때 귀무가설이 기각될 영역(기각역)은 임계값 1.645 기준 오른쪽 영역\n",
    "        + 임계값 : 귀무가설을 채택하거나 기각할 영역 사이의 분기점\n",
    "\n",
    "* 분기점 좌측(왼쪽) 단측검정\n",
    "    - ex) 현대 자동차에 장착되는 타이어의 평균 수명이 50000km 이상인지 검정\n",
    "    - 귀무가설 : 평균 수명이 50000km 이상\n",
    "    - 대립가설 : 평균 수명이 50000km 미만\n",
    "    - 유의수준 0.05일때 귀무가설이 기각될 영역(기각역)은 임계값 -1.645 기준 왼쪽 영역\n",
    "\n",
    "\n",
    "* 양측검정 - two sided, 양쪽 꼬리 검정\n",
    "    - 방향성(크다/작다)이 대립가설에 포함되지 않는 경우 시행하는 검정\n",
    "    - ex) 회계사의 연평균 수입은 5500만원인가?\n",
    "    - 귀무가설 : 연평균 수입은 5500만원 이다\n",
    "    - 대립가설 : 연평균 수입은 5500만원 아니다\n",
    "    - 유의수준 0.05일때 귀무가설이 기각된 영역은 임계값 -1.96(0.025)/1.96(0.025) 기준 양쪽 영역임"
   ]
  },
  {
   "cell_type": "markdown",
   "id": "2ef7fc63-cc3e-4cb4-b924-c6bde4d7b0de",
   "metadata": {},
   "source": [
    "### 5. 결론도출\n",
    "* 만약, 계산된 검정 통계량 z값이 기각역을 넘는 값이라면 (ex: 2.34) 귀무가설은 기각됨\n",
    "* 계산된 검정 통계량 z값이 기각역을 넘지 않는 값이라면 (ex: 0.71) 귀무가설은 채택됨\n",
    "* 하지만, 1종오류/2종오류가 발생할 수도 있음\n",
    "\n",
    "* 유의확률 p-value\n",
    "    - 귀무가설이 참이라고 가정할때 주어진 데이터가 관측될 확률\n",
    "    - 또는 극단적인 데이터가 관측될 확률을 의미\n",
    "    - 따라서, '유의확률이 유의수준보다 작으면 귀무가설을 기각할 수 있음' (중요!)\n",
    "\n",
    "### 6. 결과 해석\n",
    "* 통계를 이용해서 가설검정이 모든 분야의 가설을 다 판단하지 못함\n",
    "* 수학적 특성상 제약이 존재(표본의 편중)\n",
    "* 판단의 의사결정시 수학적 방법을 이용하는 것도 좋지만, 수학의 틀에서 벗어나 의사결정하는 것도 좋음\n",
    "    - => 동물적 직감, 영감을 이용\n",
    "    - 즉, 참/거짓이 존재하는 수학적 가설과는 달리 통계적 가설은 참/거짓의 유무보다는 확률만 존재함\n",
    "* 언제나 틀릴 가능성 내포\n",
    "\n",
    "* 회계사의 연평균 수입은 5500만원인가?\n",
    "    + 귀무가설 : 연평균 수입은 5500만원 이다\n",
    "    + 대립가설 : 연평균 수입은 5500만원 아니다\n",
    "    + 결론 : 연평균 수입은 5500만원 이다 (x)\n",
    "    + 연평균 수입이 5500만원일/아닐 확률이 다소 높다/낮다 (o)"
   ]
  },
  {
   "cell_type": "code",
   "execution_count": 20,
   "id": "40d1970a-c307-42ae-86d7-acb21b5d1bb4",
   "metadata": {},
   "outputs": [
    {
     "data": {
      "text/html": [
       "<table class=\"dataframe\">\n",
       "<caption>A data.frame: 6 × 4</caption>\n",
       "<thead>\n",
       "\t<tr><th></th><th scope=col>user_id</th><th scope=col>age</th><th scope=col>drinks_coffee</th><th scope=col>height</th></tr>\n",
       "\t<tr><th></th><th scope=col>&lt;int&gt;</th><th scope=col>&lt;fct&gt;</th><th scope=col>&lt;fct&gt;</th><th scope=col>&lt;dbl&gt;</th></tr>\n",
       "</thead>\n",
       "<tbody>\n",
       "\t<tr><th scope=row>1</th><td>4509</td><td>&lt;21 </td><td>False</td><td>64.53818</td></tr>\n",
       "\t<tr><th scope=row>2</th><td>1864</td><td>&gt;=21</td><td>True </td><td>65.82425</td></tr>\n",
       "\t<tr><th scope=row>3</th><td>2060</td><td>&lt;21 </td><td>False</td><td>71.31985</td></tr>\n",
       "\t<tr><th scope=row>4</th><td>7875</td><td>&gt;=21</td><td>True </td><td>68.56940</td></tr>\n",
       "\t<tr><th scope=row>5</th><td>6254</td><td>&lt;21 </td><td>True </td><td>64.02023</td></tr>\n",
       "\t<tr><th scope=row>6</th><td>3742</td><td>&lt;21 </td><td>False</td><td>63.49178</td></tr>\n",
       "</tbody>\n",
       "</table>\n"
      ],
      "text/latex": [
       "A data.frame: 6 × 4\n",
       "\\begin{tabular}{r|llll}\n",
       "  & user\\_id & age & drinks\\_coffee & height\\\\\n",
       "  & <int> & <fct> & <fct> & <dbl>\\\\\n",
       "\\hline\n",
       "\t1 & 4509 & <21  & False & 64.53818\\\\\n",
       "\t2 & 1864 & >=21 & True  & 65.82425\\\\\n",
       "\t3 & 2060 & <21  & False & 71.31985\\\\\n",
       "\t4 & 7875 & >=21 & True  & 68.56940\\\\\n",
       "\t5 & 6254 & <21  & True  & 64.02023\\\\\n",
       "\t6 & 3742 & <21  & False & 63.49178\\\\\n",
       "\\end{tabular}\n"
      ],
      "text/markdown": [
       "\n",
       "A data.frame: 6 × 4\n",
       "\n",
       "| <!--/--> | user_id &lt;int&gt; | age &lt;fct&gt; | drinks_coffee &lt;fct&gt; | height &lt;dbl&gt; |\n",
       "|---|---|---|---|---|\n",
       "| 1 | 4509 | &lt;21  | False | 64.53818 |\n",
       "| 2 | 1864 | &gt;=21 | True  | 65.82425 |\n",
       "| 3 | 2060 | &lt;21  | False | 71.31985 |\n",
       "| 4 | 7875 | &gt;=21 | True  | 68.56940 |\n",
       "| 5 | 6254 | &lt;21  | True  | 64.02023 |\n",
       "| 6 | 3742 | &lt;21  | False | 63.49178 |\n",
       "\n"
      ],
      "text/plain": [
       "  user_id age  drinks_coffee height  \n",
       "1 4509    <21  False         64.53818\n",
       "2 1864    >=21 True          65.82425\n",
       "3 2060    <21  False         71.31985\n",
       "4 7875    >=21 True          68.56940\n",
       "5 6254    <21  True          64.02023\n",
       "6 3742    <21  False         63.49178"
      ]
     },
     "metadata": {},
     "output_type": "display_data"
    }
   ],
   "source": [
    "# 다음 자료는 커피판매점에 방문하는 성인들의 키를 조사한 것임\n",
    "# 이것을 성인의 평균키가 67.7인치 (172cm)인지 알아보자\n",
    "# 귀무가설 : 성인의 평균키가 67.6인치이다\n",
    "# 대립가설 : 성인의 평균키가 67.6인치가 아니다\n",
    "# 검정방법 : 양측검정\n",
    "# 단일표본 t검정 : t.test(표본, 평균, 검정방법)\n",
    "\n",
    "data <- read.csv('coffee.csv')\n",
    "head(data)"
   ]
  },
  {
   "cell_type": "code",
   "execution_count": 23,
   "id": "2306e483-ba4d-46d2-8d2f-55b1f7a0d067",
   "metadata": {},
   "outputs": [
    {
     "data": {
      "text/plain": [
       "\n",
       "\tOne Sample t-test\n",
       "\n",
       "data:  data$height\n",
       "t = -0.043933, df = 2973, p-value = 0.965\n",
       "alternative hypothesis: true mean is not equal to 67.6\n",
       "95 percent confidence interval:\n",
       " 67.48533 67.70964\n",
       "sample estimates:\n",
       "mean of x \n",
       " 67.59749 \n"
      ]
     },
     "metadata": {},
     "output_type": "display_data"
    }
   ],
   "source": [
    "t.test(data$height, mu=67.6)  # 양측검정\n",
    "\n",
    "# 임계값 : 양측검정이므로 1.96/-1.96\n",
    "# t검정값 = -1.96 < -0.043933 => 귀무가설 채택\n",
    "# 유의확률(p-value) = 0.965 (유의수준 0.05보다 크므로 귀무가설 채택)"
   ]
  },
  {
   "cell_type": "code",
   "execution_count": null,
   "id": "47f89418-5a27-40b7-ae26-0788d6e263fc",
   "metadata": {},
   "outputs": [],
   "source": []
  },
  {
   "cell_type": "code",
   "execution_count": null,
   "id": "b7f40565-f2c9-4920-83ff-cbcfbac29a44",
   "metadata": {},
   "outputs": [],
   "source": []
  },
  {
   "cell_type": "markdown",
   "id": "f3bc193a-211c-4b6f-8be3-fd0a8f056ff9",
   "metadata": {},
   "source": [
    "* 2010년 어느 지역 중학교 1학년 남학생의 몸무게를 전수조사하니 평균 63kg, 표준편차 8.0kg이 나왔다\n",
    "* 2015년 15명의 남학생을 표본추출해서 몸무게를 재보니 \n",
    "* 70.2, 54.9, 67.0, 60.5, 63.4, 61.9, 65.9, 71.8, 66.1, 72.6, 73.0, 68.7, 70.3, 66.2, 55.6 일때\n",
    "* 이 지역 남학생의 몸무게는 5년전에 비해 증가했는가?\n",
    "\n",
    "\n",
    "* 귀무가설 : 남학생의 몸무게 변화없다 = 평균 63kg이다\n",
    "* 대립가설 : 남학생의 몸무게 변화 있다 = 평균 63kg 이상이다\n",
    "* 방향성이 있는 대립가설 >> 단측검정 (!)\n",
    "* 유의수준 : 0.05 \n",
    "* 자유도 : 단일표본 검정시 n - 1 => 14\n",
    "* 임계값 : t-table에서 검정유형, 자유도 이용 => 1.761(!)"
   ]
  },
  {
   "cell_type": "code",
   "execution_count": 4,
   "id": "b0453a88-cb2c-450f-8f7c-c49bdccfee9c",
   "metadata": {},
   "outputs": [],
   "source": [
    "stud <- c(70.2, 54.9, 67.0, 60.5, 63.4, 61.9, 65.9, 71.8, 66.1, 72.6, 73.0, 68.7, 70.3, 66.2, 55.6)"
   ]
  },
  {
   "cell_type": "code",
   "execution_count": 5,
   "id": "04ad183e-1d4e-4224-afa6-beec4947c43a",
   "metadata": {},
   "outputs": [
    {
     "data": {
      "text/plain": [
       "\n",
       "\tOne Sample t-test\n",
       "\n",
       "data:  stud\n",
       "t = 1.9507, df = 14, p-value = 0.0357\n",
       "alternative hypothesis: true mean is greater than 63\n",
       "95 percent confidence interval:\n",
       " 63.27896      Inf\n",
       "sample estimates:\n",
       "mean of x \n",
       " 65.87333 \n"
      ]
     },
     "metadata": {},
     "output_type": "display_data"
    }
   ],
   "source": [
    "t.test(stud, mu=63, alternative=c('greater'))"
   ]
  },
  {
   "cell_type": "code",
   "execution_count": null,
   "id": "b928e965-fde2-4470-8ed6-f2021e428e05",
   "metadata": {},
   "outputs": [],
   "source": []
  },
  {
   "cell_type": "code",
   "execution_count": null,
   "id": "d42dedb4-ee54-48db-8e81-853a975bbf84",
   "metadata": {},
   "outputs": [],
   "source": []
  },
  {
   "cell_type": "markdown",
   "id": "50eaac21-7f65-476a-bed9-e2f6763b63c9",
   "metadata": {},
   "source": [
    "* 어떤 보험회사의 클레임 평균 처리비용이 60달러라 할때, 비용절감 정책을 도입한 효과를 알아보려 한다\n",
    "* 지난달 처리된 26건의 클레임을 표본으로 채택할때 유의수준 0.01에서 처리비용이 평균 60미만인지 검정하시요\n",
    "* 단, 유의수준 0.01의 임계값은 2.485/-2.485이다\n",
    "* 45, 49, 62, 40, 43, 61, 48, 53, 67, 63, 78, 64, 76, 48, 54, 51, 56, 63, 69, 58, 51, 58, 59, 56, 57, 38"
   ]
  },
  {
   "cell_type": "markdown",
   "id": "d4405682-0771-4cc9-a739-3deb9cd03a7d",
   "metadata": {},
   "source": [
    "* 귀무가설 : 처리비용이 평균 60이다\n",
    "* 대립가설 : 처리비용이 평균 60 미만이다\n",
    "* 방향성이 있는 대립가설 >> 단측검정 (!)\n",
    "* 유의수준 : 0.01\n",
    "* 자유도 : 단일표본 검정시 n - 1 => 25\n",
    "* 임계값 : -2.485(!)"
   ]
  },
  {
   "cell_type": "code",
   "execution_count": 24,
   "id": "d90725c0-2fb0-4884-b41c-179124b8d57f",
   "metadata": {},
   "outputs": [],
   "source": [
    "claims <- c(45, 49, 62, 40, 43, 61, 48, 53, 67, 63, 78, 64, 76, 48, 54, 51, 56, 63, 69, 58, 51, 58, 59, 56, 57, 38)"
   ]
  },
  {
   "cell_type": "code",
   "execution_count": 10,
   "id": "ecd53c12-38bb-46fd-adf6-c45d7303c138",
   "metadata": {},
   "outputs": [
    {
     "data": {
      "text/plain": [
       "\n",
       "\tOne Sample t-test\n",
       "\n",
       "data:  claims\n",
       "t = -1.8165, df = 25, p-value = 0.04065\n",
       "alternative hypothesis: true mean is less than 60\n",
       "95 percent confidence interval:\n",
       "     -Inf 59.78662\n",
       "sample estimates:\n",
       "mean of x \n",
       " 56.42308 \n"
      ]
     },
     "metadata": {},
     "output_type": "display_data"
    }
   ],
   "source": [
    "t.test(claims, mu=60, alternative=c('less'))\n",
    "# -1.8165, p-value = 0.04065  => 귀무가설 채택"
   ]
  },
  {
   "cell_type": "markdown",
   "id": "ff78c395-9015-4526-8f75-60411b155b5d",
   "metadata": {},
   "source": [
    "## 표본의 정규성\n",
    "\n",
    "* 정규성 검정은 표본집단의 분포상태를 확인해서\n",
    "\n",
    "* 모집단의 확률분포가 정규분포곡선을 따르는지 검정하는 것을 의미"
   ]
  },
  {
   "cell_type": "markdown",
   "id": "027dd731-9f13-4709-a9c0-ce8d4d941593",
   "metadata": {},
   "source": [
    "## 정규성 확인 방법\n",
    "\n",
    "* 히스토그램이용 : 시각적으로 확인 (종모양 여부)\n",
    "\n",
    "* 분위수 그래프 : QQ 도표 (분위수/분위수 그래프)\n",
    "\n",
    "* shapiro-wilk 함수 이용 : shapiro-test"
   ]
  },
  {
   "cell_type": "code",
   "execution_count": 14,
   "id": "84e9e932-edcc-4d4f-b04c-6a7851eaefaf",
   "metadata": {},
   "outputs": [
    {
     "data": {
      "image/png": "[encoded data removed]",
      "text/plain": [
       "Plot with title “Histogram of claims”"
      ]
     },
     "metadata": {
      "image/png": {
       "height": 420,
       "width": 420
      }
     },
     "output_type": "display_data"
    }
   ],
   "source": [
    "# 지난달 처리된 26건의 클레임을 표본의 정규성을 확인하세요\n",
    "\n",
    "hist(claims, probability=T)\n",
    "lines(density(claims), col='red')"
   ]
  },
  {
   "cell_type": "code",
   "execution_count": 27,
   "id": "512b0891-9bcd-45c4-9a46-13055154c1be",
   "metadata": {},
   "outputs": [
    {
     "data": {
      "image/png": "[encoded data removed]",
      "text/plain": [
       "Plot with title “Normal Q-Q Plot”"
      ]
     },
     "metadata": {
      "image/png": {
       "height": 420,
       "width": 420
      }
     },
     "output_type": "display_data"
    }
   ],
   "source": [
    "# qq 도표\n",
    "# 산점도 상의 점들이 직선에 가깝게 붙어있으면 정규성을 띈다고 봄\n",
    "qqnorm(claims)\n",
    "qqline(claims, col='red')"
   ]
  },
  {
   "cell_type": "code",
   "execution_count": 26,
   "id": "f0a7828f-7d94-4f89-aed1-8baea202785a",
   "metadata": {},
   "outputs": [
    {
     "data": {
      "text/plain": [
       "\n",
       "\tShapiro-Wilk normality test\n",
       "\n",
       "data:  claims\n",
       "W = 0.98413, p-value = 0.9472\n"
      ]
     },
     "metadata": {},
     "output_type": "display_data"
    }
   ],
   "source": [
    "# shapiro-wilk 테스트(유의수준 0.05)\n",
    "# 귀무가설 : 표본은 정규성을 따른다\n",
    "# 대립가설 : 표본은 정규성을 따르지 않는다\n",
    "\n",
    "shapiro.test(claims)\n",
    "# => 0.9472(귀무가설 채택 - 정규성을 따름)"
   ]
  },
  {
   "cell_type": "code",
   "execution_count": null,
   "id": "a342bd44-a334-4230-b7a7-5f3dcd7d035b",
   "metadata": {},
   "outputs": [],
   "source": []
  },
  {
   "cell_type": "code",
   "execution_count": null,
   "id": "c953cb91-28a5-4719-bb84-39ff437858ff",
   "metadata": {},
   "outputs": [],
   "source": []
  },
  {
   "cell_type": "markdown",
   "id": "daaaf4f6-4bc1-426f-ae8a-36296efb6c13",
   "metadata": {},
   "source": [
    "* 건장한 남성이 하루에 소비하는 물의 양은 평균 1.4리터인 정규분포를 따른다\n",
    "* 건강 캠페인으로 하루 최소 2리터를 마실것을 권고하였다. 10명의 성인 남성을 뽑아서 조사해보니 \n",
    "* 1.5, 1.6, 1.5, 1.4, 1.9, 1.4, 1.3, 1.9, 1.8, 1.7 일때\n",
    "* 유의수준 0.01에서 물 소비량은 증가했다고 볼 수 있나?\n",
    "+ 귀무가설 : 물 소비량은 증가하지 않았다 = 변화가없다\n",
    "+ 대립가설 : 물 소비량은 증가했다\n",
    "+ 유의수준 : 0.01\n",
    "+ 임계값 : 2.821\n",
    "+ 자유도 : 9"
   ]
  },
  {
   "cell_type": "code",
   "execution_count": 46,
   "id": "eae8f5f8-905f-44dc-9268-6e061b66aab5",
   "metadata": {},
   "outputs": [],
   "source": [
    "water <- c(1.5, 1.6, 1.5, 1.4, 1.9, 1.4, 1.3, 1.9, 1.8, 1.7)"
   ]
  },
  {
   "cell_type": "code",
   "execution_count": 44,
   "id": "9cb89869-074b-4fa2-895b-ebae3648765f",
   "metadata": {},
   "outputs": [
    {
     "data": {
      "image/png": "[encoded data removed]",
      "text/plain": [
       "Plot with title “Histogram of water”"
      ]
     },
     "metadata": {
      "image/png": {
       "height": 420,
       "width": 420
      }
     },
     "output_type": "display_data"
    }
   ],
   "source": [
    "# 정규성 확인\n",
    "hist(water, breaks=10, probability=T)\n",
    "lines(density(water), col='red')"
   ]
  },
  {
   "cell_type": "code",
   "execution_count": 40,
   "id": "40c47a66-f420-4c9b-9462-035e760d7009",
   "metadata": {},
   "outputs": [
    {
     "data": {
      "image/png": "[encoded data removed]",
      "text/plain": [
       "Plot with title “Normal Q-Q Plot”"
      ]
     },
     "metadata": {
      "image/png": {
       "height": 420,
       "width": 420
      }
     },
     "output_type": "display_data"
    }
   ],
   "source": [
    "# qq\n",
    "qqnorm(water)\n",
    "qqline(water, col='red')"
   ]
  },
  {
   "cell_type": "code",
   "execution_count": 45,
   "id": "6f81e2f9-4015-4f89-acd0-5d78e91c7eb3",
   "metadata": {},
   "outputs": [
    {
     "data": {
      "text/plain": [
       "\n",
       "\tShapiro-Wilk normality test\n",
       "\n",
       "data:  water\n",
       "W = 0.92418, p-value = 0.3931\n"
      ]
     },
     "metadata": {},
     "output_type": "display_data"
    }
   ],
   "source": [
    "# shapiro-wilk\n",
    "shapiro.test(water)  # 낮은 확류로 정규성 확인"
   ]
  },
  {
   "cell_type": "code",
   "execution_count": 47,
   "id": "bf7e664a-9303-4da2-b1d1-2944cbac5a3b",
   "metadata": {},
   "outputs": [
    {
     "data": {
      "text/plain": [
       "\n",
       "\tOne Sample t-test\n",
       "\n",
       "data:  water\n",
       "t = 2.9277, df = 9, p-value = 0.00841\n",
       "alternative hypothesis: true mean is greater than 1.4\n",
       "95 percent confidence interval:\n",
       " 1.474775      Inf\n",
       "sample estimates:\n",
       "mean of x \n",
       "      1.6 \n"
      ]
     },
     "metadata": {},
     "output_type": "display_data"
    }
   ],
   "source": [
    "t.test(water, mu=1.4, alternative=c('greater'))"
   ]
  },
  {
   "cell_type": "code",
   "execution_count": null,
   "id": "2276e830-18ec-428f-a522-d40c0bcb7f52",
   "metadata": {},
   "outputs": [],
   "source": []
  },
  {
   "cell_type": "code",
   "execution_count": null,
   "id": "133c9240-4abf-460c-868a-4801d94b946b",
   "metadata": {},
   "outputs": [],
   "source": []
  }
 ],
 "metadata": {
  "kernelspec": {
   "display_name": "R",
   "language": "R",
   "name": "ir"
  },
  "language_info": {
   "codemirror_mode": "r",
   "file_extension": ".r",
   "mimetype": "text/x-r-source",
   "name": "R",
   "pygments_lexer": "r",
   "version": "3.6.3"
  }
 },
 "nbformat": 4,
 "nbformat_minor": 5
}
