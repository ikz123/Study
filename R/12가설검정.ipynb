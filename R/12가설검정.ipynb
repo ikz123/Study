{
 "cells": [
  {
   "cell_type": "markdown",
   "id": "86d49eaf-48b7-4b22-b37b-011b99b3c0d3",
   "metadata": {},
   "source": [
    "## 짝paired 표본을 이용한 가설검정\n",
    "* 동일한 집단의 전/후 차이를 비교하기 위해 사용\n",
    "* 짝paired 표본 : 동일한 모집단으로 부터 추출된 서로 연관있는 2개의 표본을 의미\n",
    "* 주의점 : 짝paired 표본의 갯수는 서로 동일해야 함\n",
    "* t.test(표본1, 표본2, 짝표본여부, 검정유형)\n",
    "* 표본에 대한 정규성 여부 확인 필요"
   ]
  },
  {
   "cell_type": "markdown",
   "id": "103b3b4c-4820-434f-98d7-8d2b1cc1bfcf",
   "metadata": {},
   "source": [
    "###  ex) 10명 학생의 과외 받기 전/후 수학\n",
    "+ 성적차이를 비교하시오 (유의수준 0.05)\n",
    "+ before = [16,20,21,22,23,22,27,25,27,28]\n",
    "+ after = [19,22,24,24,25,25,26,26,28,32]"
   ]
  },
  {
   "cell_type": "code",
   "execution_count": 1,
   "id": "d7e9e7a5-e2d7-4fa4-ac8c-ab8eb38103fe",
   "metadata": {},
   "outputs": [],
   "source": [
    "before <- c(16,20,21,22,23,22,27,25,27,28)\n",
    "after <- c(19,22,24,24,25,25,26,26,28,32)"
   ]
  },
  {
   "cell_type": "markdown",
   "id": "503e3918-b2a2-4069-a802-e90bbfd70175",
   "metadata": {},
   "source": [
    "* 귀무가설 : 과외 전/후 수학성적 차이가 없다\n",
    "* 대립가설 : 과외 전/후 수학성적 차이가 있다\n",
    "* 유의수준 : 0.05\n",
    "* 자유도 : 9\n",
    "* 임계값 : 2.262 / -2.262"
   ]
  },
  {
   "cell_type": "code",
   "execution_count": 5,
   "id": "58e4092b-95ee-4550-af06-1366aebb8ae5",
   "metadata": {},
   "outputs": [
    {
     "data": {
      "text/plain": [
       "\n",
       "\tShapiro-Wilk normality test\n",
       "\n",
       "data:  before\n",
       "W = 0.94809, p-value = 0.6459\n"
      ]
     },
     "metadata": {},
     "output_type": "display_data"
    },
    {
     "data": {
      "text/plain": [
       "\n",
       "\tShapiro-Wilk normality test\n",
       "\n",
       "data:  after\n",
       "W = 0.95546, p-value = 0.7332\n"
      ]
     },
     "metadata": {},
     "output_type": "display_data"
    }
   ],
   "source": [
    "# 정규성 여부 확인\n",
    "shapiro.test(before)\n",
    "shapiro.test(after)"
   ]
  },
  {
   "cell_type": "code",
   "execution_count": 28,
   "id": "66113b36-c2bc-4484-b111-039a766505a4",
   "metadata": {},
   "outputs": [
    {
     "data": {
      "text/plain": [
       "\n",
       "\tPaired t-test\n",
       "\n",
       "data:  before and after\n",
       "t = -4.4721, df = 9, p-value = 0.00155\n",
       "alternative hypothesis: true difference in means is not equal to 0\n",
       "95 percent confidence interval:\n",
       " -3.0116674 -0.9883326\n",
       "sample estimates:\n",
       "mean of the differences \n",
       "                     -2 \n"
      ]
     },
     "metadata": {},
     "output_type": "display_data"
    }
   ],
   "source": [
    "t.test(before, after, paired=T, alternative=c('two.side'))\n",
    "\n",
    "# t:-4.4721,  p-value:0.00155  => 귀무가설 기각  =>  과외 전/후 성적 차이가 있을 확률이 높음"
   ]
  },
  {
   "cell_type": "code",
   "execution_count": null,
   "id": "e6a05e81-d335-4725-bae1-26eae6689469",
   "metadata": {},
   "outputs": [],
   "source": []
  },
  {
   "cell_type": "code",
   "execution_count": null,
   "id": "bff843f8-94c8-403b-b898-7abea1c09bb5",
   "metadata": {},
   "outputs": [],
   "source": []
  },
  {
   "cell_type": "code",
   "execution_count": null,
   "id": "6625f317-fc71-49d9-929a-48e8f1da96e0",
   "metadata": {},
   "outputs": [],
   "source": []
  },
  {
   "cell_type": "markdown",
   "id": "40b17dbf-b924-48a0-bab8-85e6fd5ea555",
   "metadata": {},
   "source": [
    "## ex) 상호금융회사는 부동산 가치 평가를 위해 2개의 평가회사를 고용했음\n",
    "* 임의로 10채의 주택을 추출해서 각 회사에 주택 가치평가 의뢰\n",
    "* 평가 회사별 가치 평가 차이가 있는가? 유의수준 0.05로 검정하시오  \n",
    "* woori : 235, 210, 231, 242, 205, 230, 231, 210, 225, 249\n",
    "* shinhan : 228, 205, 219, 240, 198, 223, 227, 215, 222, 245  \n",
    "    + woori = [235, 210, 231, 242, 205, 230, 231, 210, 225, 249]\n",
    "    + shinhan = [228, 205, 219, 240, 198, 223, 227, 215, 222, 245]"
   ]
  },
  {
   "cell_type": "code",
   "execution_count": 8,
   "id": "41a6c846-7807-4c0f-b608-dc6601ce28af",
   "metadata": {},
   "outputs": [],
   "source": [
    "woori <- c(235, 210, 231, 242, 205, 230, 231, 210, 225, 249)\n",
    "shinhan <- c(228, 205, 219, 240, 198, 223, 227, 215, 222, 245)"
   ]
  },
  {
   "cell_type": "markdown",
   "id": "cb03e74d-e2d1-4cbe-b035-ebdf4ff2710c",
   "metadata": {},
   "source": [
    "* 귀무가설 : 평가 회사별 부동산 가치 평가에 차이가 없다\n",
    "* 대립가설 : 평가 회사별 부동산 가치 평가에 차이가 있다\n",
    "* 유의수준 : 0.05\n",
    "* 자유도 : 9\n",
    "* 임계값 : 2.262 / -2.262"
   ]
  },
  {
   "cell_type": "code",
   "execution_count": 9,
   "id": "6c564fce-3f81-420d-b563-e37cf5ec33d5",
   "metadata": {},
   "outputs": [
    {
     "data": {
      "text/plain": [
       "\n",
       "\tShapiro-Wilk normality test\n",
       "\n",
       "data:  woori\n",
       "W = 0.9343, p-value = 0.4915\n"
      ]
     },
     "metadata": {},
     "output_type": "display_data"
    },
    {
     "data": {
      "text/plain": [
       "\n",
       "\tShapiro-Wilk normality test\n",
       "\n",
       "data:  shinhan\n",
       "W = 0.97313, p-value = 0.9183\n"
      ]
     },
     "metadata": {},
     "output_type": "display_data"
    }
   ],
   "source": [
    "shapiro.test(woori)\n",
    "shapiro.test(shinhan)"
   ]
  },
  {
   "cell_type": "code",
   "execution_count": 26,
   "id": "5c7a05ce-4831-464a-83ad-72fd084009d9",
   "metadata": {},
   "outputs": [
    {
     "data": {
      "text/plain": [
       "\n",
       "\tF test to compare two variances\n",
       "\n",
       "data:  woori and shinhan\n",
       "F = 1.0229, num df = 9, denom df = 9, p-value = 0.9737\n",
       "alternative hypothesis: true ratio of variances is not equal to 1\n",
       "95 percent confidence interval:\n",
       " 0.2540629 4.1180119\n",
       "sample estimates:\n",
       "ratio of variances \n",
       "          1.022856 \n"
      ]
     },
     "metadata": {},
     "output_type": "display_data"
    }
   ],
   "source": [
    "var.test(woori, shinhan)"
   ]
  },
  {
   "cell_type": "code",
   "execution_count": 42,
   "id": "485897eb-7d43-42a4-b85a-fa68cf14be89",
   "metadata": {},
   "outputs": [
    {
     "data": {
      "text/plain": [
       "\n",
       "\tPaired t-test\n",
       "\n",
       "data:  woori and shinhan\n",
       "t = 3.3045, df = 9, p-value = 0.009164\n",
       "alternative hypothesis: true difference in means is not equal to 0\n",
       "95 percent confidence interval:\n",
       " 1.450985 7.749015\n",
       "sample estimates:\n",
       "mean of the differences \n",
       "                    4.6 \n"
      ]
     },
     "metadata": {},
     "output_type": "display_data"
    }
   ],
   "source": [
    "t.test(woori, shinhan, paired=T, alternative=c('two.side'))\n",
    "\n",
    "# t:3.3045 / p-value:0.009164  => 귀무가설 기각  => 평가 회사별 부동산 가치 평가에 차이 있을 확률이 있음"
   ]
  },
  {
   "cell_type": "code",
   "execution_count": 43,
   "id": "46875b02-0e8d-4561-bb22-ebd380188e09",
   "metadata": {},
   "outputs": [],
   "source": [
    "# hist(woori, probability=T)\n",
    "# lines(density(woori), col='red')\n",
    "\n",
    "# hist(shinhan, probability=T)\n",
    "# lines(density(shinhan), col='red')"
   ]
  },
  {
   "cell_type": "code",
   "execution_count": 44,
   "id": "52baf9ea-e028-4d13-989f-6ded4170e988",
   "metadata": {},
   "outputs": [],
   "source": [
    "# boxplot(woori, shinhan, names=c('woori','shinhan'))"
   ]
  },
  {
   "cell_type": "code",
   "execution_count": null,
   "id": "84153686-cc2b-423f-8493-8267da4fef04",
   "metadata": {},
   "outputs": [],
   "source": []
  },
  {
   "cell_type": "code",
   "execution_count": null,
   "id": "c49b2c6b-2c00-4ec3-b59b-b9c4e7bdfedc",
   "metadata": {},
   "outputs": [],
   "source": []
  },
  {
   "cell_type": "code",
   "execution_count": 61,
   "id": "2064adf1-17e1-4f7a-8bc7-eeb07489d099",
   "metadata": {},
   "outputs": [
    {
     "data": {
      "text/html": [
       "<dl>\n",
       "\t<dt>$A</dt>\n",
       "\t\t<dd><style>\n",
       ".list-inline {list-style: none; margin:0; padding: 0}\n",
       ".list-inline>li {display: inline-block}\n",
       ".list-inline>li:not(:last-child)::after {content: \"\\00b7\"; padding: 0 .5ex}\n",
       "</style>\n",
       "<ol class=list-inline><li>13.2</li><li>8.2</li><li>10.9</li><li>14.3</li><li>10.7</li><li>6.6</li><li>9.5</li><li>10.8</li><li>8.8</li><li>13.3</li></ol>\n",
       "</dd>\n",
       "\t<dt>$B</dt>\n",
       "\t\t<dd><style>\n",
       ".list-inline {list-style: none; margin:0; padding: 0}\n",
       ".list-inline>li {display: inline-block}\n",
       ".list-inline>li:not(:last-child)::after {content: \"\\00b7\"; padding: 0 .5ex}\n",
       "</style>\n",
       "<ol class=list-inline><li>14</li><li>8.8</li><li>11.2</li><li>14.2</li><li>11.8</li><li>6.4</li><li>9.8</li><li>11.3</li><li>9.3</li><li>13.6</li></ol>\n",
       "</dd>\n",
       "</dl>\n"
      ],
      "text/latex": [
       "\\begin{description}\n",
       "\\item[\\$A] \\begin{enumerate*}\n",
       "\\item 13.2\n",
       "\\item 8.2\n",
       "\\item 10.9\n",
       "\\item 14.3\n",
       "\\item 10.7\n",
       "\\item 6.6\n",
       "\\item 9.5\n",
       "\\item 10.8\n",
       "\\item 8.8\n",
       "\\item 13.3\n",
       "\\end{enumerate*}\n",
       "\n",
       "\\item[\\$B] \\begin{enumerate*}\n",
       "\\item 14\n",
       "\\item 8.8\n",
       "\\item 11.2\n",
       "\\item 14.2\n",
       "\\item 11.8\n",
       "\\item 6.4\n",
       "\\item 9.8\n",
       "\\item 11.3\n",
       "\\item 9.3\n",
       "\\item 13.6\n",
       "\\end{enumerate*}\n",
       "\n",
       "\\end{description}\n"
      ],
      "text/markdown": [
       "$A\n",
       ":   1. 13.2\n",
       "2. 8.2\n",
       "3. 10.9\n",
       "4. 14.3\n",
       "5. 10.7\n",
       "6. 6.6\n",
       "7. 9.5\n",
       "8. 10.8\n",
       "9. 8.8\n",
       "10. 13.3\n",
       "\n",
       "\n",
       "\n",
       "$B\n",
       ":   1. 14\n",
       "2. 8.8\n",
       "3. 11.2\n",
       "4. 14.2\n",
       "5. 11.8\n",
       "6. 6.4\n",
       "7. 9.8\n",
       "8. 11.3\n",
       "9. 9.3\n",
       "10. 13.6\n",
       "\n",
       "\n",
       "\n",
       "\n",
       "\n"
      ],
      "text/plain": [
       "$A\n",
       " [1] 13.2  8.2 10.9 14.3 10.7  6.6  9.5 10.8  8.8 13.3\n",
       "\n",
       "$B\n",
       " [1] 14.0  8.8 11.2 14.2 11.8  6.4  9.8 11.3  9.3 13.6\n"
      ]
     },
     "metadata": {},
     "output_type": "display_data"
    }
   ],
   "source": [
    "library(MASS)\n",
    "head(shoes)"
   ]
  },
  {
   "cell_type": "markdown",
   "id": "ccb99491-af00-4834-b288-d012fb58a366",
   "metadata": {
    "tags": []
   },
   "source": [
    "## ex) 신발 밑창 원재료에 따라 소모정도가 다른가?\n",
    "* 10명의 아이들에게 A/B사 밑창재료로 만든 신발을 신기고 각각의 소모정도를 조사하였을때\n",
    "* 유의수준 5%에서 각 원재료 소모정도는 차이가 있는가를 검정하시오\n",
    "\n",
    "a = (13.2, 8.2, 10.9, 14.3, 10.7, 6.6, 9.5, 10.8, 8.8, 13.3)  \n",
    "\n",
    "b = (14, 8.8, 11.2, 14.2, 11.8, 6.4, 9.8, 11.3, 9.3, 13.6)"
   ]
  },
  {
   "cell_type": "code",
   "execution_count": 47,
   "id": "40812c56-528c-4840-bd4f-de79585ce642",
   "metadata": {},
   "outputs": [],
   "source": [
    "a <- c(13.2, 8.2, 10.9, 14.3, 10.7, 6.6, 9.5, 10.8, 8.8, 13.3)\n",
    "b <- c(14, 8.8, 11.2, 14.2, 11.8, 6.4, 9.8, 11.3, 9.3, 13.6)"
   ]
  },
  {
   "cell_type": "markdown",
   "id": "8eaf2f5d-7883-4f64-9298-9795bc1de62d",
   "metadata": {},
   "source": [
    "* 귀무가설 : 원재료 소모정도 차이가 없다\n",
    "* 대립가설 : 원재료 소모정도 차이가 있다 \n",
    "* 유의수준 : 0.05\n",
    "* 자유도 : 18\n",
    "* 임계값 : 2.101 / -2.101"
   ]
  },
  {
   "cell_type": "code",
   "execution_count": 71,
   "id": "61cbb133-9550-4bb3-b801-5b880d3b8a8c",
   "metadata": {},
   "outputs": [
    {
     "data": {
      "text/plain": [
       "\n",
       "\tShapiro-Wilk normality test\n",
       "\n",
       "data:  a\n",
       "W = 0.9624, p-value = 0.8129\n"
      ]
     },
     "metadata": {},
     "output_type": "display_data"
    },
    {
     "data": {
      "text/plain": [
       "\n",
       "\tShapiro-Wilk normality test\n",
       "\n",
       "data:  b\n",
       "W = 0.94815, p-value = 0.6467\n"
      ]
     },
     "metadata": {},
     "output_type": "display_data"
    }
   ],
   "source": [
    "shapiro.test(a)\n",
    "shapiro.test(b)"
   ]
  },
  {
   "cell_type": "code",
   "execution_count": 72,
   "id": "ef60d5ee-e027-4970-b50b-88b9b8af47f5",
   "metadata": {},
   "outputs": [
    {
     "data": {
      "text/plain": [
       "\n",
       "\tF test to compare two variances\n",
       "\n",
       "data:  a and b\n",
       "F = 0.94739, num df = 9, denom df = 9, p-value = 0.9372\n",
       "alternative hypothesis: true ratio of variances is not equal to 1\n",
       "95 percent confidence interval:\n",
       " 0.2353191 3.8142000\n",
       "sample estimates:\n",
       "ratio of variances \n",
       "         0.9473933 \n"
      ]
     },
     "metadata": {},
     "output_type": "display_data"
    }
   ],
   "source": [
    "var.test(a, b)"
   ]
  },
  {
   "cell_type": "code",
   "execution_count": 73,
   "id": "714692b9-8b80-416a-a913-a8ba8ecc08dc",
   "metadata": {},
   "outputs": [
    {
     "data": {
      "text/plain": [
       "\n",
       "\tTwo Sample t-test\n",
       "\n",
       "data:  a and b\n",
       "t = -0.36891, df = 18, p-value = 0.7165\n",
       "alternative hypothesis: true difference in means is not equal to 0\n",
       "95 percent confidence interval:\n",
       " -2.744924  1.924924\n",
       "sample estimates:\n",
       "mean of x mean of y \n",
       "    10.63     11.04 \n"
      ]
     },
     "metadata": {},
     "output_type": "display_data"
    }
   ],
   "source": [
    "t.test(a, b, var.equal=T, alternative=c('two.side'))\n",
    "\n",
    "# t:-0.36891 / p-value:0.7165  => 귀무가설 채택,  원재료상의 차이가 없을 가능성이 큼"
   ]
  },
  {
   "cell_type": "markdown",
   "id": "4a70a0d5-4015-4653-88f5-6983c4036dc5",
   "metadata": {},
   "source": [
    "### 짝표본 검정\n",
    "#### 짝표본 풀이가 맞음\n",
    "* 자유도 : 9\n",
    "* 임계값 : 2.262 / -2.262"
   ]
  },
  {
   "cell_type": "code",
   "execution_count": 74,
   "id": "e5b7b4ad-42c2-49d4-b84d-cd15e64ee117",
   "metadata": {},
   "outputs": [
    {
     "data": {
      "text/plain": [
       "\n",
       "\tPaired t-test\n",
       "\n",
       "data:  a and b\n",
       "t = -3.3489, df = 9, p-value = 0.008539\n",
       "alternative hypothesis: true difference in means is not equal to 0\n",
       "95 percent confidence interval:\n",
       " -0.6869539 -0.1330461\n",
       "sample estimates:\n",
       "mean of the differences \n",
       "                  -0.41 \n"
      ]
     },
     "metadata": {},
     "output_type": "display_data"
    }
   ],
   "source": [
    "t.test(a, b, paired=T, alternative=c('two.side'))\n",
    "\n",
    "# t: -3.3489 / p-value:0.008539  => 귀무가설 기각 => 원재료상의 차이가 있을 가능성이 높음"
   ]
  },
  {
   "cell_type": "markdown",
   "id": "4f949e40-8a79-4221-a6dd-dfc2682a4d1a",
   "metadata": {},
   "source": [
    "**Paired-samples t tests compare scores on  \n",
    "two different variables but for the same group of cases;**\n",
    "\n",
    "**independent-samples t tests compare scores on  \n",
    "the same variable \n",
    "but for two different groups of cases.**"
   ]
  },
  {
   "cell_type": "code",
   "execution_count": null,
   "id": "07b4b4bb-da3f-483c-ba5d-7bc38474b0b9",
   "metadata": {},
   "outputs": [],
   "source": []
  },
  {
   "cell_type": "code",
   "execution_count": null,
   "id": "17ee1a04-9baa-45d6-9bcc-4a5032016496",
   "metadata": {},
   "outputs": [],
   "source": []
  },
  {
   "cell_type": "code",
   "execution_count": null,
   "id": "f41c5d5d-17cb-4abd-8ed9-8b10c3b32fe8",
   "metadata": {},
   "outputs": [],
   "source": []
  },
  {
   "cell_type": "markdown",
   "id": "baf0a6bd-8fec-4bae-959c-970b81fac3d8",
   "metadata": {},
   "source": [
    "### ex) 새로운 당뇨병 치료제를 만든 제약회사에서 신약 효과를 알아보려 함. \n",
    "* 10명의 당뇨병 환자를 선별해서 혈당의 차이를 유의수준 5%에서 검정하시오\n",
    "* old : 51.4, 52.0, 45.5, 54.5, 52.3, 50.9, 52.7, 50.3, 53.8, 53.1\n",
    "* new : 50.1, 51.5, 45.9, 53.1, 51.8, 50.3, 52.0, 49.9, 52.5, 53.0"
   ]
  },
  {
   "cell_type": "code",
   "execution_count": 75,
   "id": "080f116c-8636-471b-bae3-ee432b2dd7de",
   "metadata": {},
   "outputs": [],
   "source": [
    "old <- c(51.4, 52.0, 45.5, 54.5, 52.3, 50.9, 52.7, 50.3, 53.8, 53.1)\n",
    "new <- c(50.1, 51.5, 45.9, 53.1, 51.8, 50.3, 52.0, 49.9, 52.5, 53.0)"
   ]
  },
  {
   "cell_type": "markdown",
   "id": "778ffae6-209c-4ebe-a513-03db8009ef83",
   "metadata": {},
   "source": [
    "* 귀무가설 : 혈당의 차이는 없다\n",
    "* 대립가설 : 혈당의 차이는 있다\n",
    "* 유의수준 : 0.05\n",
    "* 자유도 : 9\n",
    "* 임계값 : 2.262 / -2.262"
   ]
  },
  {
   "cell_type": "code",
   "execution_count": 77,
   "id": "f9de1ac4-43ad-44ce-b91b-98f563b8b7a4",
   "metadata": {},
   "outputs": [
    {
     "data": {
      "text/plain": [
       "\n",
       "\tShapiro-Wilk normality test\n",
       "\n",
       "data:  old\n",
       "W = 0.85289, p-value = 0.06287\n"
      ]
     },
     "metadata": {},
     "output_type": "display_data"
    },
    {
     "data": {
      "text/plain": [
       "\n",
       "\tShapiro-Wilk normality test\n",
       "\n",
       "data:  new\n",
       "W = 0.84351, p-value = 0.04861\n"
      ]
     },
     "metadata": {},
     "output_type": "display_data"
    }
   ],
   "source": [
    "shapiro.test(old)\n",
    "shapiro.test(new)"
   ]
  },
  {
   "cell_type": "code",
   "execution_count": 88,
   "id": "de7dcd2e-0723-42af-a28f-62c500400a37",
   "metadata": {},
   "outputs": [
    {
     "data": {
      "text/plain": [
       "\n",
       "\tPaired t-test\n",
       "\n",
       "data:  old and new\n",
       "t = 3.5507, df = 9, p-value = 0.006209\n",
       "alternative hypothesis: true difference in means is not equal to 0\n",
       "95 percent confidence interval:\n",
       " 0.2322535 1.0477465\n",
       "sample estimates:\n",
       "mean of the differences \n",
       "                   0.64 \n"
      ]
     },
     "metadata": {},
     "output_type": "display_data"
    }
   ],
   "source": [
    "t.test(old, new, paired=T, alternative=c('two.side'))\n",
    "\n",
    "# t:3.5507, p-value:0.006209  =>  귀무가설 기각  => 혈당은 차이가 있을 확률이 높다"
   ]
  },
  {
   "cell_type": "code",
   "execution_count": null,
   "id": "f2318803-a825-4e1d-b0d8-84001cf2354b",
   "metadata": {},
   "outputs": [],
   "source": []
  },
  {
   "cell_type": "code",
   "execution_count": null,
   "id": "e10ef678-fa66-4d0a-bc50-18c45f619be9",
   "metadata": {},
   "outputs": [],
   "source": []
  },
  {
   "cell_type": "code",
   "execution_count": null,
   "id": "09714a53-d2e3-49df-8da8-9028b60e141d",
   "metadata": {},
   "outputs": [],
   "source": []
  },
  {
   "cell_type": "markdown",
   "id": "4ad19b75-88c0-4b78-b2cb-c2e9817fd9ea",
   "metadata": {},
   "source": [
    "## ex) 12명의 영업사원에게 인센티브 지급 전/후 주급 증가여부 확인하려 한다\n",
    "* 인센티브 지급 후 주급은 증가했는지를 유의수준 0.05로 검정하시오\n",
    "* before : 320, 290, 421, 510, 210, 402, 625, 560, 360, 431, 506, 505\n",
    "* after : 340, 285, 475, 510, 210, 500, 631, 560, 365, 431, 525, 619"
   ]
  },
  {
   "cell_type": "code",
   "execution_count": 83,
   "id": "91dc0e50-21f0-4ed3-893e-35fb02029d90",
   "metadata": {},
   "outputs": [],
   "source": [
    "before <- c(320, 290, 421, 510, 210, 402, 625, 560, 360, 431, 506, 505)\n",
    "after <- c(340, 285, 475, 510, 210, 500, 631, 560, 365, 431, 525, 619)"
   ]
  },
  {
   "cell_type": "markdown",
   "id": "abea2123-3dce-4cd6-8a92-8f1f2f7f2a57",
   "metadata": {},
   "source": [
    "* 귀무가설 : 인센티브 지급 후 주급의 변화는 없다\n",
    "* 대립가설 : 인센티브 지급 후 주급의 변화가 있다(증가) => 단측검정\n",
    "* 유의수준 : 0.05 \n",
    "* 자유도 : 11\n",
    "* 임계값 : 1.796 / -1.796"
   ]
  },
  {
   "cell_type": "code",
   "execution_count": 84,
   "id": "54bf2835-6919-4230-b2d7-da70dfde70f1",
   "metadata": {},
   "outputs": [
    {
     "data": {
      "text/plain": [
       "\n",
       "\tShapiro-Wilk normality test\n",
       "\n",
       "data:  before\n",
       "W = 0.98183, p-value = 0.9899\n"
      ]
     },
     "metadata": {},
     "output_type": "display_data"
    },
    {
     "data": {
      "text/plain": [
       "\n",
       "\tShapiro-Wilk normality test\n",
       "\n",
       "data:  after\n",
       "W = 0.95762, p-value = 0.7493\n"
      ]
     },
     "metadata": {},
     "output_type": "display_data"
    }
   ],
   "source": [
    "shapiro.test(before)\n",
    "shapiro.test(after)"
   ]
  },
  {
   "cell_type": "code",
   "execution_count": 96,
   "id": "866feca3-5355-4645-bc01-9d8f1a490573",
   "metadata": {},
   "outputs": [
    {
     "data": {
      "text/plain": [
       "\n",
       "\tPaired t-test\n",
       "\n",
       "data:  before and after\n",
       "t = -2.2009, df = 11, p-value = 0.975\n",
       "alternative hypothesis: true difference in means is greater than 0\n",
       "95 percent confidence interval:\n",
       " -47.06381       Inf\n",
       "sample estimates:\n",
       "mean of the differences \n",
       "              -25.91667 \n"
      ]
     },
     "metadata": {},
     "output_type": "display_data"
    }
   ],
   "source": [
    "t.test(before, after, paired=T, alternative=c('greater'))\n",
    "# t:-2.2009  / p-value:0.975  => 귀무가설 기각 => 인센티브 지급 후 주급은 변화있을 확률이 높다"
   ]
  },
  {
   "cell_type": "code",
   "execution_count": null,
   "id": "2115b98c-e324-4ca3-84ea-13f8a3a7d8ab",
   "metadata": {},
   "outputs": [],
   "source": []
  },
  {
   "cell_type": "code",
   "execution_count": null,
   "id": "b12aefba-3b1f-47fc-b573-b334e37beaa8",
   "metadata": {},
   "outputs": [],
   "source": []
  },
  {
   "cell_type": "code",
   "execution_count": null,
   "id": "dc9b7f20-f38b-404d-b91c-05da04de2cfe",
   "metadata": {},
   "outputs": [],
   "source": []
  },
  {
   "cell_type": "markdown",
   "id": "a30b7570-6a9b-4b92-9e9d-4f0be4b2177b",
   "metadata": {},
   "source": [
    "### ex) 정부에서는 범죄율을 줄이기 위한 프로그램에 막대한 예산을 지급하고 있음. \n",
    "* 각 지역에 프로그램 시행 전/후 범죄율을 다음과 같이 조사하였을때\n",
    "* 유의수준 0.01로 범죄수가 감소했는지 검정하시오\n",
    "* 전 : 14 7 4 5 17 12 8 9\n",
    "* 후 : 2 7 3 6 8 13 3 5"
   ]
  },
  {
   "cell_type": "code",
   "execution_count": 97,
   "id": "462c3114-c2b1-4ba3-ac12-6143dfb5175e",
   "metadata": {},
   "outputs": [],
   "source": [
    "j<- c(14, 7, 4, 5, 17, 12, 8, 9)\n",
    "h<- c(2, 7, 3, 6, 8, 13, 3, 5)"
   ]
  },
  {
   "cell_type": "markdown",
   "id": "513e276a-6977-47b9-bc85-07b37d52e876",
   "metadata": {},
   "source": [
    "* 귀무가설 : 범죄수는 변화 없다\n",
    "* 대립가설 : 범죄수는 감소했다\n",
    "* 유의수준 : 0.01\n",
    "* 자유도 : 7\n",
    "* 임계값 : 2.998 / -2.998"
   ]
  },
  {
   "cell_type": "code",
   "execution_count": 98,
   "id": "82070b07-9cd5-4a3f-a48c-00a12df52343",
   "metadata": {},
   "outputs": [
    {
     "data": {
      "text/plain": [
       "\n",
       "\tShapiro-Wilk normality test\n",
       "\n",
       "data:  j\n",
       "W = 0.9549, p-value = 0.7603\n"
      ]
     },
     "metadata": {},
     "output_type": "display_data"
    },
    {
     "data": {
      "text/plain": [
       "\n",
       "\tShapiro-Wilk normality test\n",
       "\n",
       "data:  h\n",
       "W = 0.9102, p-value = 0.3555\n"
      ]
     },
     "metadata": {},
     "output_type": "display_data"
    }
   ],
   "source": [
    "shapiro.test(j)\n",
    "shapiro.test(h)"
   ]
  },
  {
   "cell_type": "code",
   "execution_count": 103,
   "id": "5f15fe87-da1d-413c-9c98-2b2535f994dd",
   "metadata": {},
   "outputs": [
    {
     "data": {
      "text/plain": [
       "\n",
       "\tF test to compare two variances\n",
       "\n",
       "data:  j and h\n",
       "F = 1.5977, num df = 7, denom df = 7, p-value = 0.5514\n",
       "alternative hypothesis: true ratio of variances is not equal to 1\n",
       "95 percent confidence interval:\n",
       " 0.3198756 7.9806144\n",
       "sample estimates:\n",
       "ratio of variances \n",
       "           1.59775 \n"
      ]
     },
     "metadata": {},
     "output_type": "display_data"
    }
   ],
   "source": [
    "var.test(j, h)"
   ]
  },
  {
   "cell_type": "code",
   "execution_count": 108,
   "id": "f58ea2ae-2763-462d-b2a5-d8f4c0b30fc9",
   "metadata": {},
   "outputs": [
    {
     "data": {
      "text/plain": [
       "\n",
       "\tPaired t-test\n",
       "\n",
       "data:  j and h\n",
       "t = 2.1191, df = 7, p-value = 0.9641\n",
       "alternative hypothesis: true difference in means is less than 0\n",
       "95 percent confidence interval:\n",
       "    -Inf 6.86597\n",
       "sample estimates:\n",
       "mean of the differences \n",
       "                  3.625 \n"
      ]
     },
     "metadata": {},
     "output_type": "display_data"
    }
   ],
   "source": [
    "t.test(j, h, paired=T, alternative=c('less'))\n",
    "\n",
    "#t = 2.1191, df = 7, p-value = 0.07182"
   ]
  },
  {
   "cell_type": "code",
   "execution_count": null,
   "id": "8de9b3c6-a100-4b14-b11e-9f475f60bd51",
   "metadata": {},
   "outputs": [],
   "source": []
  },
  {
   "cell_type": "code",
   "execution_count": null,
   "id": "83bd15e2-f754-4bb4-8969-6382d7f51c58",
   "metadata": {},
   "outputs": [],
   "source": []
  }
 ],
 "metadata": {
  "kernelspec": {
   "display_name": "R",
   "language": "R",
   "name": "ir"
  },
  "language_info": {
   "codemirror_mode": "r",
   "file_extension": ".r",
   "mimetype": "text/x-r-source",
   "name": "R",
   "pygments_lexer": "r",
   "version": "3.6.3"
  }
 },
 "nbformat": 4,
 "nbformat_minor": 5
}
