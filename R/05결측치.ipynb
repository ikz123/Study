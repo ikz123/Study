{
 "cells": [
  {
   "cell_type": "markdown",
   "id": "9ce45c95-3e81-4c1f-80b2-f4f9564f3be6",
   "metadata": {},
   "source": [
    "## 결측치 : missing value (누락값)\n",
    "* 데이터 수집과정에서 채워지지 못한 값을 의미\n",
    "* 예를 들어 설문조사시 설문자가 특정문항에\n",
    "  + 답을 하지 않으면 그 문항이 결측치가 됨\n",
    "* 데이터에 결측치가 포함되어 있으면\n",
    "  + 데이터 분석시 편향/왜곡된 결과가 도출될 수 있음\n",
    "*해결책 : 제거하거나 추정값으로 대체"
   ]
  },
  {
   "cell_type": "code",
   "execution_count": 1,
   "id": "4a7dcca7-7e2d-4cc6-91d3-c03846f6cd69",
   "metadata": {},
   "outputs": [
    {
     "data": {
      "text/html": [
       "&lt;NA&gt;"
      ],
      "text/latex": [
       "<NA>"
      ],
      "text/markdown": [
       "&lt;NA&gt;"
      ],
      "text/plain": [
       "[1] NA"
      ]
     },
     "metadata": {},
     "output_type": "display_data"
    },
    {
     "data": {
      "text/html": [
       "<style>\n",
       ".list-inline {list-style: none; margin:0; padding: 0}\n",
       ".list-inline>li {display: inline-block}\n",
       ".list-inline>li:not(:last-child)::after {content: \"\\00b7\"; padding: 0 .5ex}\n",
       "</style>\n",
       "<ol class=list-inline><li>FALSE</li><li>FALSE</li><li>FALSE</li><li>TRUE</li><li>FALSE</li><li>TRUE</li><li>FALSE</li></ol>\n"
      ],
      "text/latex": [
       "\\begin{enumerate*}\n",
       "\\item FALSE\n",
       "\\item FALSE\n",
       "\\item FALSE\n",
       "\\item TRUE\n",
       "\\item FALSE\n",
       "\\item TRUE\n",
       "\\item FALSE\n",
       "\\end{enumerate*}\n"
      ],
      "text/markdown": [
       "1. FALSE\n",
       "2. FALSE\n",
       "3. FALSE\n",
       "4. TRUE\n",
       "5. FALSE\n",
       "6. TRUE\n",
       "7. FALSE\n",
       "\n",
       "\n"
      ],
      "text/plain": [
       "[1] FALSE FALSE FALSE  TRUE FALSE  TRUE FALSE"
      ]
     },
     "metadata": {},
     "output_type": "display_data"
    },
    {
     "data": {
      "text/html": [
       "2"
      ],
      "text/latex": [
       "2"
      ],
      "text/markdown": [
       "2"
      ],
      "text/plain": [
       "[1] 2"
      ]
     },
     "metadata": {},
     "output_type": "display_data"
    },
    {
     "data": {
      "text/plain": [
       "\n",
       "FALSE  TRUE \n",
       "    5     2 "
      ]
     },
     "metadata": {},
     "output_type": "display_data"
    }
   ],
   "source": [
    "x <- c(1,2,3,NA,5,NA,7)\n",
    "sum(x)\n",
    "\n",
    "# NA 확인 => TRUE\n",
    "is.na(x)\n",
    "\n",
    "# 결측치 갯수 확인\n",
    "sum(is.na(x))\n",
    "\n",
    "# 빈도표 결측치 확인\n",
    "table(is.na(x))"
   ]
  },
  {
   "cell_type": "markdown",
   "id": "1abc4912-edfd-44ae-a422-00fbea516432",
   "metadata": {},
   "source": [
    "### 결측치 처리 : 제거"
   ]
  },
  {
   "cell_type": "code",
   "execution_count": 2,
   "id": "f1851598-8bc0-4f0b-86bd-b5674310bd04",
   "metadata": {},
   "outputs": [
    {
     "data": {
      "text/html": [
       "18"
      ],
      "text/latex": [
       "18"
      ],
      "text/markdown": [
       "18"
      ],
      "text/plain": [
       "[1] 18"
      ]
     },
     "metadata": {},
     "output_type": "display_data"
    }
   ],
   "source": [
    "sum(x, na.rm=T) # NA 제외후 계산"
   ]
  },
  {
   "cell_type": "code",
   "execution_count": 3,
   "id": "0be15dc6-0082-410a-897e-a9130474c053",
   "metadata": {},
   "outputs": [
    {
     "data": {
      "text/html": [
       "<style>\n",
       ".list-inline {list-style: none; margin:0; padding: 0}\n",
       ".list-inline>li {display: inline-block}\n",
       ".list-inline>li:not(:last-child)::after {content: \"\\00b7\"; padding: 0 .5ex}\n",
       "</style>\n",
       "<ol class=list-inline><li>1</li><li>2</li><li>3</li><li>5</li><li>7</li></ol>\n"
      ],
      "text/latex": [
       "\\begin{enumerate*}\n",
       "\\item 1\n",
       "\\item 2\n",
       "\\item 3\n",
       "\\item 5\n",
       "\\item 7\n",
       "\\end{enumerate*}\n"
      ],
      "text/markdown": [
       "1. 1\n",
       "2. 2\n",
       "3. 3\n",
       "4. 5\n",
       "5. 7\n",
       "\n",
       "\n"
      ],
      "text/plain": [
       "[1] 1 2 3 5 7\n",
       "attr(,\"na.action\")\n",
       "[1] 4 6\n",
       "attr(,\"class\")\n",
       "[1] \"omit\""
      ]
     },
     "metadata": {},
     "output_type": "display_data"
    },
    {
     "data": {
      "text/html": [
       "<style>\n",
       ".list-inline {list-style: none; margin:0; padding: 0}\n",
       ".list-inline>li {display: inline-block}\n",
       ".list-inline>li:not(:last-child)::after {content: \"\\00b7\"; padding: 0 .5ex}\n",
       "</style>\n",
       "<ol class=list-inline><li>1</li><li>2</li><li>3</li><li>5</li><li>7</li></ol>\n"
      ],
      "text/latex": [
       "\\begin{enumerate*}\n",
       "\\item 1\n",
       "\\item 2\n",
       "\\item 3\n",
       "\\item 5\n",
       "\\item 7\n",
       "\\end{enumerate*}\n"
      ],
      "text/markdown": [
       "1. 1\n",
       "2. 2\n",
       "3. 3\n",
       "4. 5\n",
       "5. 7\n",
       "\n",
       "\n"
      ],
      "text/plain": [
       "[1] 1 2 3 5 7"
      ]
     },
     "metadata": {},
     "output_type": "display_data"
    }
   ],
   "source": [
    "# NA 제거\n",
    "na.omit(x)\n",
    "\n",
    "# NA 제거 후 새로운 벡터로 저장\n",
    "x2 <- as.vector(na.omit(x))\n",
    "x2"
   ]
  },
  {
   "cell_type": "markdown",
   "id": "8da715ab-ce87-4bf6-8c5b-5393a0c03905",
   "metadata": {},
   "source": [
    "### 결측치 처리 : 대체"
   ]
  },
  {
   "cell_type": "code",
   "execution_count": 4,
   "id": "0e6b2b1d-192a-4cbe-b3ce-e9e19ded34de",
   "metadata": {},
   "outputs": [
    {
     "data": {
      "text/html": [
       "<style>\n",
       ".list-inline {list-style: none; margin:0; padding: 0}\n",
       ".list-inline>li {display: inline-block}\n",
       ".list-inline>li:not(:last-child)::after {content: \"\\00b7\"; padding: 0 .5ex}\n",
       "</style>\n",
       "<ol class=list-inline><li>1</li><li>2</li><li>3</li><li>3.6</li><li>5</li><li>3.6</li><li>7</li></ol>\n"
      ],
      "text/latex": [
       "\\begin{enumerate*}\n",
       "\\item 1\n",
       "\\item 2\n",
       "\\item 3\n",
       "\\item 3.6\n",
       "\\item 5\n",
       "\\item 3.6\n",
       "\\item 7\n",
       "\\end{enumerate*}\n"
      ],
      "text/markdown": [
       "1. 1\n",
       "2. 2\n",
       "3. 3\n",
       "4. 3.6\n",
       "5. 5\n",
       "6. 3.6\n",
       "7. 7\n",
       "\n",
       "\n"
      ],
      "text/plain": [
       "[1] 1.0 2.0 3.0 3.6 5.0 3.6 7.0"
      ]
     },
     "metadata": {},
     "output_type": "display_data"
    }
   ],
   "source": [
    "mean <- mean(x, na.rm=T)\n",
    "\n",
    "# boolean 인덱싱을 이용해서 NA 요소를 찾은 후 평균값으로 대체\n",
    "x[is.na(x)] <- mean\n",
    "x"
   ]
  },
  {
   "cell_type": "code",
   "execution_count": 19,
   "id": "a6e91229-c81f-4463-8160-678bc7f1082e",
   "metadata": {},
   "outputs": [
    {
     "name": "stderr",
     "output_type": "stream",
     "text": [
      "Warning message in file(file, \"rt\"):\n",
      "“cannot open file 'data/titanic2.csv': No such file or directory”\n"
     ]
    },
    {
     "ename": "ERROR",
     "evalue": "Error in file(file, \"rt\"): cannot open the connection\n",
     "output_type": "error",
     "traceback": [
      "Error in file(file, \"rt\"): cannot open the connection\nTraceback:\n",
      "1. read.csv(\"data/titanic2.csv\", na.strings = c(\"\", \"NA\"))",
      "2. read.table(file = file, header = header, sep = sep, quote = quote, \n .     dec = dec, fill = fill, comment.char = comment.char, ...)",
      "3. file(file, \"rt\")"
     ]
    }
   ],
   "source": [
    "titanic <- read.csv('data/titanic2.csv', na.strings=c('','NA'))"
   ]
  },
  {
   "cell_type": "code",
   "execution_count": 14,
   "id": "670c2b32-7adc-4eba-86a0-5751f1d6a79c",
   "metadata": {},
   "outputs": [
    {
     "ename": "ERROR",
     "evalue": "Error in str(titanic): object 'titanic' not found\n",
     "output_type": "error",
     "traceback": [
      "Error in str(titanic): object 'titanic' not found\nTraceback:\n",
      "1. str(titanic)"
     ]
    }
   ],
   "source": [
    "str(titanic)"
   ]
  },
  {
   "cell_type": "code",
   "execution_count": null,
   "id": "e59f8c6a-818d-4bf3-b4a0-36cda5afc5e6",
   "metadata": {},
   "outputs": [],
   "source": []
  },
  {
   "cell_type": "code",
   "execution_count": null,
   "id": "c2fda0cf-9fba-4713-a42e-823f2acb9b8d",
   "metadata": {},
   "outputs": [],
   "source": []
  },
  {
   "cell_type": "code",
   "execution_count": null,
   "id": "1aff1744-cf35-4155-83a1-18d5b38dd4ee",
   "metadata": {},
   "outputs": [],
   "source": []
  },
  {
   "cell_type": "code",
   "execution_count": null,
   "id": "b9d7bc8a-a5f3-4e55-af12-b17c84ca39c7",
   "metadata": {},
   "outputs": [],
   "source": []
  },
  {
   "cell_type": "code",
   "execution_count": null,
   "id": "ddba8025-c1b6-4f4d-8cbf-f29964b8f4b5",
   "metadata": {},
   "outputs": [],
   "source": []
  },
  {
   "cell_type": "code",
   "execution_count": null,
   "id": "26f6726d-61cc-4b7f-b5b1-2bc5f4b603ea",
   "metadata": {},
   "outputs": [],
   "source": []
  },
  {
   "cell_type": "code",
   "execution_count": null,
   "id": "3525132e-a73c-4077-bdcf-fc5f71282dec",
   "metadata": {},
   "outputs": [],
   "source": []
  },
  {
   "cell_type": "code",
   "execution_count": null,
   "id": "9d5a1225-2650-4b34-af09-ba5c72608097",
   "metadata": {},
   "outputs": [],
   "source": []
  }
 ],
 "metadata": {
  "kernelspec": {
   "display_name": "R",
   "language": "R",
   "name": "ir"
  },
  "language_info": {
   "codemirror_mode": "r",
   "file_extension": ".r",
   "mimetype": "text/x-r-source",
   "name": "R",
   "pygments_lexer": "r",
   "version": "3.6.3"
  }
 },
 "nbformat": 4,
 "nbformat_minor": 5
}
