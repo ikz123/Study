{
 "cells": [
  {
   "cell_type": "markdown",
   "id": "d2d299f3-6a22-4b33-a5b3-0a854d6f6503",
   "metadata": {},
   "source": [
    "## 변동성 이해하기\n",
    "+ 값들이 얼마나 서로 다른지 여부 파악"
   ]
  },
  {
   "cell_type": "code",
   "execution_count": 5,
   "id": "c569b907-176d-4605-8e1f-dc99321508b3",
   "metadata": {},
   "outputs": [
    {
     "data": {
      "text/html": [
       "'4 4 4'"
      ],
      "text/latex": [
       "'4 4 4'"
      ],
      "text/markdown": [
       "'4 4 4'"
      ],
      "text/plain": [
       "[1] \"4 4 4\""
      ]
     },
     "metadata": {},
     "output_type": "display_data"
    }
   ],
   "source": [
    "num1 <- c(7,6,3,3,1)\n",
    "num2 <- c(3,4,4,5,4)\n",
    "num3 <- c(4,4,4,4,4)\n",
    "\n",
    "# 형식화된 문자열 형태로 출력 : sprintf\n",
    "# sprintf(형식문자열, 변수들)\n",
    "sprintf('%d %d %d', mean(num1), mean(num2), mean(num3))"
   ]
  },
  {
   "cell_type": "markdown",
   "id": "e1b2976e-d051-4cbb-bab5-0150afa638e6",
   "metadata": {
    "jp-MarkdownHeadingCollapsed": true,
    "tags": []
   },
   "source": [
    "## 기술통계의 또다른 관점 : 분산, 산포\n",
    "+ 자료의 흩어지거나 밀집되는 정도를 나타내는 척도\n",
    "+ 범위, 사분위수, 분산, 표준편차등으로 표현"
   ]
  },
  {
   "cell_type": "markdown",
   "id": "5f1f19d0-51ee-439e-b1ea-162fa4467910",
   "metadata": {},
   "source": [
    "## 범위\n",
    "+ 수집한 자료의 가장 큰 값과 작은 값의 차이\n",
    "+ 수집한 자료가 어느정도 흩어져 있는지 살펴볼 수 있는 통계치\n",
    "+ 계산하기 쉽다\n",
    "+ 특이값에 영향을 많이 받는다\n",
    "+ 범위가 동일해도 분산정도는 크게 다를 수 있다\n",
    "> #### $ r = h - l $  \n",
    "> #### $ R = x_{(n)} - x_{(1)} $"
   ]
  },
  {
   "cell_type": "code",
   "execution_count": 9,
   "id": "9f1ee3f5-17f2-48b3-b53c-635c11397562",
   "metadata": {},
   "outputs": [
    {
     "data": {
      "text/html": [
       "<style>\n",
       ".list-inline {list-style: none; margin:0; padding: 0}\n",
       ".list-inline>li {display: inline-block}\n",
       ".list-inline>li:not(:last-child)::after {content: \"\\00b7\"; padding: 0 .5ex}\n",
       "</style>\n",
       "<ol class=list-inline><li>16</li><li>82</li></ol>\n"
      ],
      "text/latex": [
       "\\begin{enumerate*}\n",
       "\\item 16\n",
       "\\item 82\n",
       "\\end{enumerate*}\n"
      ],
      "text/markdown": [
       "1. 16\n",
       "2. 82\n",
       "\n",
       "\n"
      ],
      "text/plain": [
       "[1] 16 82"
      ]
     },
     "metadata": {},
     "output_type": "display_data"
    },
    {
     "data": {
      "text/html": [
       "66"
      ],
      "text/latex": [
       "66"
      ],
      "text/markdown": [
       "66"
      ],
      "text/plain": [
       "[1] 66"
      ]
     },
     "metadata": {},
     "output_type": "display_data"
    },
    {
     "data": {
      "text/html": [
       "45"
      ],
      "text/latex": [
       "45"
      ],
      "text/markdown": [
       "45"
      ],
      "text/plain": [
       "[1] 45"
      ]
     },
     "metadata": {},
     "output_type": "display_data"
    }
   ],
   "source": [
    "# 조선조 왕들의 수명의 범위를 조사\n",
    "\n",
    "# 73, 62, 45, 53, 38, 16, 51, 28, 37, 30, 56\n",
    "# 30, 33, 56, 66, 54, 40, 33, 59, 36, 82, 48\n",
    "# 44, 22, 32, 67, 52\n",
    "\n",
    "\n",
    "kings <- c(73, 62, 45, 53, 38, 16, 51, 28, 37, 30, 56, 30, 33, 56, 66, 54, 40, 33, 59, 36, 82, 48, 44, 22, 32, 67, 52)\n",
    "\n",
    "range(kings)\n",
    "range(kings)[2] - range(kings)[1]"
   ]
  },
  {
   "cell_type": "code",
   "execution_count": 11,
   "id": "75b9cc57-27e0-4005-a123-505f87bfa58e",
   "metadata": {},
   "outputs": [
    {
     "data": {
      "text/html": [
       "66"
      ],
      "text/latex": [
       "66"
      ],
      "text/markdown": [
       "66"
      ],
      "text/plain": [
       "[1] 66"
      ]
     },
     "metadata": {},
     "output_type": "display_data"
    }
   ],
   "source": [
    "# 수식으로 작성\n",
    "\n",
    "max = max(kings)\n",
    "min = min(kings)\n",
    "max - min"
   ]
  },
  {
   "cell_type": "code",
   "execution_count": 110,
   "id": "b276277b-3b99-41e7-b7a8-bc2fe054fadd",
   "metadata": {},
   "outputs": [
    {
     "data": {
      "text/html": [
       "16.1732958476465"
      ],
      "text/latex": [
       "16.1732958476465"
      ],
      "text/markdown": [
       "16.1732958476465"
      ],
      "text/plain": [
       "[1] 16.1733"
      ]
     },
     "metadata": {},
     "output_type": "display_data"
    },
    {
     "data": {
      "text/html": [
       "16.1732958476465"
      ],
      "text/latex": [
       "16.1732958476465"
      ],
      "text/markdown": [
       "16.1732958476465"
      ],
      "text/plain": [
       "[1] 16.1733"
      ]
     },
     "metadata": {},
     "output_type": "display_data"
    }
   ],
   "source": [
    "# 조선조 왕들 수명의 표준편차 조사\n",
    "# 표준편차 \n",
    "sqrt(var(kings))\n",
    "\n",
    "sd(kings)"
   ]
  },
  {
   "cell_type": "code",
   "execution_count": 13,
   "id": "b062c56c-849d-465d-8923-9e955604351d",
   "metadata": {},
   "outputs": [
    {
     "data": {
      "text/html": [
       "<style>\n",
       ".list-inline {list-style: none; margin:0; padding: 0}\n",
       ".list-inline>li {display: inline-block}\n",
       ".list-inline>li:not(:last-child)::after {content: \"\\00b7\"; padding: 0 .5ex}\n",
       "</style>\n",
       "<ol class=list-inline><li>18</li><li>24</li></ol>\n"
      ],
      "text/latex": [
       "\\begin{enumerate*}\n",
       "\\item 18\n",
       "\\item 24\n",
       "\\end{enumerate*}\n"
      ],
      "text/markdown": [
       "1. 18\n",
       "2. 24\n",
       "\n",
       "\n"
      ],
      "text/plain": [
       "[1] 18 24"
      ]
     },
     "metadata": {},
     "output_type": "display_data"
    },
    {
     "data": {
      "text/html": [
       "6"
      ],
      "text/latex": [
       "6"
      ],
      "text/markdown": [
       "6"
      ],
      "text/plain": [
       "[1] 6"
      ]
     },
     "metadata": {},
     "output_type": "display_data"
    }
   ],
   "source": [
    "# 대학원생들의 나이 범위를 조사\n",
    "\n",
    "colls <- c(19, 18, 19, 21, 20, 24, 21, 19, 19, 20, 18, 21, 22, 23, 21, 19, 18, 22, 24, 21, 18, 19)\n",
    "\n",
    "range(colls)\n",
    "range(colls)[2] - range(colls)[1]"
   ]
  },
  {
   "cell_type": "code",
   "execution_count": 82,
   "id": "0e2bb505-3da0-466f-93a1-e3826ce415d3",
   "metadata": {},
   "outputs": [
    {
     "data": {
      "text/html": [
       "6"
      ],
      "text/latex": [
       "6"
      ],
      "text/markdown": [
       "6"
      ],
      "text/plain": [
       "[1] 6"
      ]
     },
     "metadata": {},
     "output_type": "display_data"
    }
   ],
   "source": [
    "# 수식으로 작성\n",
    "\n",
    "max = max(colls)\n",
    "min = min(colls)\n",
    "max - min"
   ]
  },
  {
   "cell_type": "code",
   "execution_count": 111,
   "id": "d7fd6e1d-03ed-4c71-afe4-7aee275d33ff",
   "metadata": {},
   "outputs": [
    {
     "data": {
      "text/html": [
       "1.88178785763049"
      ],
      "text/latex": [
       "1.88178785763049"
      ],
      "text/markdown": [
       "1.88178785763049"
      ],
      "text/plain": [
       "[1] 1.881788"
      ]
     },
     "metadata": {},
     "output_type": "display_data"
    },
    {
     "data": {
      "text/html": [
       "1.88178785763049"
      ],
      "text/latex": [
       "1.88178785763049"
      ],
      "text/markdown": [
       "1.88178785763049"
      ],
      "text/plain": [
       "[1] 1.881788"
      ]
     },
     "metadata": {},
     "output_type": "display_data"
    }
   ],
   "source": [
    "# 대학원생들의 나이 표준편차 조사\n",
    "# 표준편차 \n",
    "sqrt(var(colls))\n",
    "\n",
    "sd(colls)"
   ]
  },
  {
   "cell_type": "markdown",
   "id": "f41ee823-820e-4167-832d-d8f2f7d2b8e4",
   "metadata": {},
   "source": [
    "## 분산\n",
    "+ 평균을 중심으로 밀집되거나 퍼짐 정도를 나타내는 척도\n",
    "+ 모분산 $ \\sigma^2 $ : 모집단을 구성하는 모든 자료값과 모평균의 편차제곱에 대한 평균\n",
    "+ 표본분산 $ s^2 $ : 표본을 구성하는 모든 자료값과 표본평균의 편차의 제곱합을 n-1로 나눈 수치\n",
    "+ 편차\n",
    "> $ (x_{i} - \\bar {x}) $\n",
    "+ 편차제곱\n",
    "> $ (x_{i} - \\bar {x})^2 $\n",
    "+ 모분산\n",
    "> ## $ {(x_{i} - \\bar {x})^2} \\over {n} $\n",
    "+ 표본분산\n",
    "> ## $ \\sum{(x_{i} - \\bar {x})^2} \\over {n-1} $"
   ]
  },
  {
   "cell_type": "code",
   "execution_count": 15,
   "id": "3912ee53-49a3-4979-8533-66a8470ee834",
   "metadata": {},
   "outputs": [],
   "source": [
    "# 직접 모분산 구하기\n",
    "nums <- c(5,8,5,4,6,7,8,8,3,6)"
   ]
  },
  {
   "cell_type": "code",
   "execution_count": 17,
   "id": "d2d60840-d053-4afc-a288-ec62ba01b21d",
   "metadata": {},
   "outputs": [
    {
     "data": {
      "text/html": [
       "6"
      ],
      "text/latex": [
       "6"
      ],
      "text/markdown": [
       "6"
      ],
      "text/plain": [
       "[1] 6"
      ]
     },
     "metadata": {},
     "output_type": "display_data"
    }
   ],
   "source": [
    "m <- mean(nums)\n",
    "m       # 평균"
   ]
  },
  {
   "cell_type": "code",
   "execution_count": 20,
   "id": "31669e2a-1661-4905-915c-09e723f49061",
   "metadata": {},
   "outputs": [
    {
     "data": {
      "text/html": [
       "<style>\n",
       ".list-inline {list-style: none; margin:0; padding: 0}\n",
       ".list-inline>li {display: inline-block}\n",
       ".list-inline>li:not(:last-child)::after {content: \"\\00b7\"; padding: 0 .5ex}\n",
       "</style>\n",
       "<ol class=list-inline><li>-1</li><li>2</li><li>-1</li><li>-2</li><li>0</li><li>1</li><li>2</li><li>2</li><li>-3</li><li>0</li></ol>\n"
      ],
      "text/latex": [
       "\\begin{enumerate*}\n",
       "\\item -1\n",
       "\\item 2\n",
       "\\item -1\n",
       "\\item -2\n",
       "\\item 0\n",
       "\\item 1\n",
       "\\item 2\n",
       "\\item 2\n",
       "\\item -3\n",
       "\\item 0\n",
       "\\end{enumerate*}\n"
      ],
      "text/markdown": [
       "1. -1\n",
       "2. 2\n",
       "3. -1\n",
       "4. -2\n",
       "5. 0\n",
       "6. 1\n",
       "7. 2\n",
       "8. 2\n",
       "9. -3\n",
       "10. 0\n",
       "\n",
       "\n"
      ],
      "text/plain": [
       " [1] -1  2 -1 -2  0  1  2  2 -3  0"
      ]
     },
     "metadata": {},
     "output_type": "display_data"
    }
   ],
   "source": [
    "devi <- (nums - m)\n",
    "devi     # 편차의 합 : 0"
   ]
  },
  {
   "cell_type": "code",
   "execution_count": 21,
   "id": "25f73907-91bf-4c6e-9b31-854d402c5303",
   "metadata": {},
   "outputs": [
    {
     "data": {
      "text/html": [
       "<style>\n",
       ".list-inline {list-style: none; margin:0; padding: 0}\n",
       ".list-inline>li {display: inline-block}\n",
       ".list-inline>li:not(:last-child)::after {content: \"\\00b7\"; padding: 0 .5ex}\n",
       "</style>\n",
       "<ol class=list-inline><li>1</li><li>4</li><li>1</li><li>4</li><li>0</li><li>1</li><li>4</li><li>4</li><li>9</li><li>0</li></ol>\n"
      ],
      "text/latex": [
       "\\begin{enumerate*}\n",
       "\\item 1\n",
       "\\item 4\n",
       "\\item 1\n",
       "\\item 4\n",
       "\\item 0\n",
       "\\item 1\n",
       "\\item 4\n",
       "\\item 4\n",
       "\\item 9\n",
       "\\item 0\n",
       "\\end{enumerate*}\n"
      ],
      "text/markdown": [
       "1. 1\n",
       "2. 4\n",
       "3. 1\n",
       "4. 4\n",
       "5. 0\n",
       "6. 1\n",
       "7. 4\n",
       "8. 4\n",
       "9. 9\n",
       "10. 0\n",
       "\n",
       "\n"
      ],
      "text/plain": [
       " [1] 1 4 1 4 0 1 4 4 9 0"
      ]
     },
     "metadata": {},
     "output_type": "display_data"
    }
   ],
   "source": [
    "devi <- (nums - m)**2\n",
    "devi     # 편차제곱"
   ]
  },
  {
   "cell_type": "code",
   "execution_count": 23,
   "id": "f0e701b5-ddd4-4d52-8745-511d3879259a",
   "metadata": {},
   "outputs": [
    {
     "data": {
      "text/html": [
       "28"
      ],
      "text/latex": [
       "28"
      ],
      "text/markdown": [
       "28"
      ],
      "text/plain": [
       "[1] 28"
      ]
     },
     "metadata": {},
     "output_type": "display_data"
    }
   ],
   "source": [
    "sum(devi)    # 편차제곱의 합 : 임의의 수"
   ]
  },
  {
   "cell_type": "code",
   "execution_count": 24,
   "id": "85bf2438-94d4-42dd-af7f-a5f82757740a",
   "metadata": {},
   "outputs": [
    {
     "data": {
      "text/html": [
       "2.8"
      ],
      "text/latex": [
       "2.8"
      ],
      "text/markdown": [
       "2.8"
      ],
      "text/plain": [
       "[1] 2.8"
      ]
     },
     "metadata": {},
     "output_type": "display_data"
    }
   ],
   "source": [
    "sum(devi) / length(nums)   # 모분산"
   ]
  },
  {
   "cell_type": "code",
   "execution_count": 25,
   "id": "6deb1a2c-814f-4005-9319-5ecd4cf5974f",
   "metadata": {},
   "outputs": [
    {
     "data": {
      "text/html": [
       "3.11111111111111"
      ],
      "text/latex": [
       "3.11111111111111"
      ],
      "text/markdown": [
       "3.11111111111111"
      ],
      "text/plain": [
       "[1] 3.111111"
      ]
     },
     "metadata": {},
     "output_type": "display_data"
    }
   ],
   "source": [
    "sum(devi) / (length(nums)-1)   # 표본분산"
   ]
  },
  {
   "cell_type": "code",
   "execution_count": 27,
   "id": "40ef02f1-ae43-4bb8-9e4b-9161102fd3be",
   "metadata": {},
   "outputs": [
    {
     "data": {
      "text/html": [
       "3.11111111111111"
      ],
      "text/latex": [
       "3.11111111111111"
      ],
      "text/markdown": [
       "3.11111111111111"
      ],
      "text/plain": [
       "[1] 3.111111"
      ]
     },
     "metadata": {},
     "output_type": "display_data"
    }
   ],
   "source": [
    "# 분산 : var\n",
    "# R에서는 기본적으로 표본분산으로 계산해서 결과출력\n",
    "var(nums)"
   ]
  },
  {
   "cell_type": "code",
   "execution_count": 66,
   "id": "5150ce51-39ae-4deb-ad2e-84b5a03035a0",
   "metadata": {},
   "outputs": [],
   "source": [
    "# A부서와 B부서 사원들의 비상금 편차 파악\n",
    "\n",
    "a <- c(30,26,40,28,26)\n",
    "b <- c(35,20,60,15,20)"
   ]
  },
  {
   "cell_type": "code",
   "execution_count": 67,
   "id": "ca4a99a7-b08f-4260-a87e-4b02ba9866cb",
   "metadata": {},
   "outputs": [
    {
     "data": {
      "text/html": [
       "30"
      ],
      "text/latex": [
       "30"
      ],
      "text/markdown": [
       "30"
      ],
      "text/plain": [
       "[1] 30"
      ]
     },
     "metadata": {},
     "output_type": "display_data"
    },
    {
     "data": {
      "text/html": [
       "30"
      ],
      "text/latex": [
       "30"
      ],
      "text/markdown": [
       "30"
      ],
      "text/plain": [
       "[1] 30"
      ]
     },
     "metadata": {},
     "output_type": "display_data"
    }
   ],
   "source": [
    "ma <- mean(a)\n",
    "ma       # 평균\n",
    "mb <- mean(b)\n",
    "mb       # 평균"
   ]
  },
  {
   "cell_type": "code",
   "execution_count": 68,
   "id": "8183ea0e-0f19-4fe4-87aa-5d1ea059526c",
   "metadata": {},
   "outputs": [
    {
     "data": {
      "text/html": [
       "<style>\n",
       ".list-inline {list-style: none; margin:0; padding: 0}\n",
       ".list-inline>li {display: inline-block}\n",
       ".list-inline>li:not(:last-child)::after {content: \"\\00b7\"; padding: 0 .5ex}\n",
       "</style>\n",
       "<ol class=list-inline><li>0</li><li>-4</li><li>10</li><li>-2</li><li>-4</li></ol>\n"
      ],
      "text/latex": [
       "\\begin{enumerate*}\n",
       "\\item 0\n",
       "\\item -4\n",
       "\\item 10\n",
       "\\item -2\n",
       "\\item -4\n",
       "\\end{enumerate*}\n"
      ],
      "text/markdown": [
       "1. 0\n",
       "2. -4\n",
       "3. 10\n",
       "4. -2\n",
       "5. -4\n",
       "\n",
       "\n"
      ],
      "text/plain": [
       "[1]  0 -4 10 -2 -4"
      ]
     },
     "metadata": {},
     "output_type": "display_data"
    },
    {
     "data": {
      "text/html": [
       "<style>\n",
       ".list-inline {list-style: none; margin:0; padding: 0}\n",
       ".list-inline>li {display: inline-block}\n",
       ".list-inline>li:not(:last-child)::after {content: \"\\00b7\"; padding: 0 .5ex}\n",
       "</style>\n",
       "<ol class=list-inline><li>5</li><li>-10</li><li>30</li><li>-15</li><li>-10</li></ol>\n"
      ],
      "text/latex": [
       "\\begin{enumerate*}\n",
       "\\item 5\n",
       "\\item -10\n",
       "\\item 30\n",
       "\\item -15\n",
       "\\item -10\n",
       "\\end{enumerate*}\n"
      ],
      "text/markdown": [
       "1. 5\n",
       "2. -10\n",
       "3. 30\n",
       "4. -15\n",
       "5. -10\n",
       "\n",
       "\n"
      ],
      "text/plain": [
       "[1]   5 -10  30 -15 -10"
      ]
     },
     "metadata": {},
     "output_type": "display_data"
    }
   ],
   "source": [
    "devi1 <- (a - ma)\n",
    "devi1     # 편차의 합 : 0\n",
    "devi2 <- (b - mb)\n",
    "devi2   # 편차의 합 : 0"
   ]
  },
  {
   "cell_type": "code",
   "execution_count": 69,
   "id": "f65d6ed3-8fee-404c-89da-4d9864a5b461",
   "metadata": {},
   "outputs": [
    {
     "data": {
      "text/html": [
       "<style>\n",
       ".list-inline {list-style: none; margin:0; padding: 0}\n",
       ".list-inline>li {display: inline-block}\n",
       ".list-inline>li:not(:last-child)::after {content: \"\\00b7\"; padding: 0 .5ex}\n",
       "</style>\n",
       "<ol class=list-inline><li>0</li><li>16</li><li>100</li><li>4</li><li>16</li></ol>\n"
      ],
      "text/latex": [
       "\\begin{enumerate*}\n",
       "\\item 0\n",
       "\\item 16\n",
       "\\item 100\n",
       "\\item 4\n",
       "\\item 16\n",
       "\\end{enumerate*}\n"
      ],
      "text/markdown": [
       "1. 0\n",
       "2. 16\n",
       "3. 100\n",
       "4. 4\n",
       "5. 16\n",
       "\n",
       "\n"
      ],
      "text/plain": [
       "[1]   0  16 100   4  16"
      ]
     },
     "metadata": {},
     "output_type": "display_data"
    },
    {
     "data": {
      "text/html": [
       "<style>\n",
       ".list-inline {list-style: none; margin:0; padding: 0}\n",
       ".list-inline>li {display: inline-block}\n",
       ".list-inline>li:not(:last-child)::after {content: \"\\00b7\"; padding: 0 .5ex}\n",
       "</style>\n",
       "<ol class=list-inline><li>25</li><li>100</li><li>900</li><li>225</li><li>100</li></ol>\n"
      ],
      "text/latex": [
       "\\begin{enumerate*}\n",
       "\\item 25\n",
       "\\item 100\n",
       "\\item 900\n",
       "\\item 225\n",
       "\\item 100\n",
       "\\end{enumerate*}\n"
      ],
      "text/markdown": [
       "1. 25\n",
       "2. 100\n",
       "3. 900\n",
       "4. 225\n",
       "5. 100\n",
       "\n",
       "\n"
      ],
      "text/plain": [
       "[1]  25 100 900 225 100"
      ]
     },
     "metadata": {},
     "output_type": "display_data"
    }
   ],
   "source": [
    "devi1 <- (a - ma)**2\n",
    "devi1     # 편차의 합 : 0\n",
    "devi2 <- (b - mb)**2\n",
    "devi2   # 편차의 합 : 0"
   ]
  },
  {
   "cell_type": "code",
   "execution_count": 70,
   "id": "dc2b836f-8ac1-4b52-9d74-eefa5c3350d1",
   "metadata": {},
   "outputs": [
    {
     "data": {
      "text/html": [
       "136"
      ],
      "text/latex": [
       "136"
      ],
      "text/markdown": [
       "136"
      ],
      "text/plain": [
       "[1] 136"
      ]
     },
     "metadata": {},
     "output_type": "display_data"
    },
    {
     "data": {
      "text/html": [
       "1350"
      ],
      "text/latex": [
       "1350"
      ],
      "text/markdown": [
       "1350"
      ],
      "text/plain": [
       "[1] 1350"
      ]
     },
     "metadata": {},
     "output_type": "display_data"
    }
   ],
   "source": [
    "sum(devi1)    # 편차제곱의 합 : 임의의 수\n",
    "sum(devi2)    # 편차제곱의 합 : 임의의 수"
   ]
  },
  {
   "cell_type": "code",
   "execution_count": 71,
   "id": "1c604756-3dbf-42cf-9439-dce7c52ef009",
   "metadata": {},
   "outputs": [
    {
     "data": {
      "text/html": [
       "27.2"
      ],
      "text/latex": [
       "27.2"
      ],
      "text/markdown": [
       "27.2"
      ],
      "text/plain": [
       "[1] 27.2"
      ]
     },
     "metadata": {},
     "output_type": "display_data"
    },
    {
     "data": {
      "text/html": [
       "270"
      ],
      "text/latex": [
       "270"
      ],
      "text/markdown": [
       "270"
      ],
      "text/plain": [
       "[1] 270"
      ]
     },
     "metadata": {},
     "output_type": "display_data"
    }
   ],
   "source": [
    "sum(devi1) / length(a)   # 모분산\n",
    "sum(devi2) / length(b)   # 모분산"
   ]
  },
  {
   "cell_type": "code",
   "execution_count": 72,
   "id": "20ea074e-fd24-4861-9467-bde948fd816f",
   "metadata": {},
   "outputs": [
    {
     "data": {
      "text/html": [
       "34"
      ],
      "text/latex": [
       "34"
      ],
      "text/markdown": [
       "34"
      ],
      "text/plain": [
       "[1] 34"
      ]
     },
     "metadata": {},
     "output_type": "display_data"
    },
    {
     "data": {
      "text/html": [
       "337.5"
      ],
      "text/latex": [
       "337.5"
      ],
      "text/markdown": [
       "337.5"
      ],
      "text/plain": [
       "[1] 337.5"
      ]
     },
     "metadata": {},
     "output_type": "display_data"
    }
   ],
   "source": [
    "sum(devi1) / (length(a)-1)   # 표본분산\n",
    "sum(devi2) / (length(b)-1)   # 표본분산"
   ]
  },
  {
   "cell_type": "code",
   "execution_count": 73,
   "id": "9201311f-e7d8-40eb-a21f-2dde53ac4522",
   "metadata": {},
   "outputs": [
    {
     "data": {
      "text/html": [
       "34"
      ],
      "text/latex": [
       "34"
      ],
      "text/markdown": [
       "34"
      ],
      "text/plain": [
       "[1] 34"
      ]
     },
     "metadata": {},
     "output_type": "display_data"
    }
   ],
   "source": [
    "mean1 <- mean(a)\n",
    "devi1 <- (a- mean1)**2\n",
    "sum(devi1) / (length(a)-1)"
   ]
  },
  {
   "cell_type": "code",
   "execution_count": 74,
   "id": "06a688c5-d1d7-43a7-8fb9-fb92714886e8",
   "metadata": {},
   "outputs": [
    {
     "data": {
      "text/html": [
       "337.5"
      ],
      "text/latex": [
       "337.5"
      ],
      "text/markdown": [
       "337.5"
      ],
      "text/plain": [
       "[1] 337.5"
      ]
     },
     "metadata": {},
     "output_type": "display_data"
    }
   ],
   "source": [
    "mean2 <- mean(b)\n",
    "devi2 <- (b- mean2)**2\n",
    "sum(devi2) / (length(b)-1)"
   ]
  },
  {
   "cell_type": "code",
   "execution_count": 75,
   "id": "5e4d6e00-5b19-4eb0-bdcb-a2595f969051",
   "metadata": {},
   "outputs": [
    {
     "data": {
      "text/html": [
       "261.575498575499"
      ],
      "text/latex": [
       "261.575498575499"
      ],
      "text/markdown": [
       "261.575498575499"
      ],
      "text/plain": [
       "[1] 261.5755"
      ]
     },
     "metadata": {},
     "output_type": "display_data"
    }
   ],
   "source": [
    "# 조선조 왕들 수명의 분산을 조사\n",
    "var(kings)"
   ]
  },
  {
   "cell_type": "code",
   "execution_count": 77,
   "id": "8e80a2e1-38ae-451f-884d-46a1b3718e43",
   "metadata": {},
   "outputs": [
    {
     "data": {
      "text/html": [
       "3.54112554112554"
      ],
      "text/latex": [
       "3.54112554112554"
      ],
      "text/markdown": [
       "3.54112554112554"
      ],
      "text/plain": [
       "[1] 3.541126"
      ]
     },
     "metadata": {},
     "output_type": "display_data"
    }
   ],
   "source": [
    "# 대학원생들 나이의 분산을 조사\n",
    "var(colls)"
   ]
  },
  {
   "cell_type": "markdown",
   "id": "8f6a1b2c-752c-4770-91a6-32a7b60181df",
   "metadata": {},
   "source": [
    "## 표준편차\n",
    "+ 분산값에 제곱근을 취한 값\n",
    "+ 분산은 편차를 제곱했기 때문에 결과값의 단위 역시 제곱이 됨\n",
    "+ 분산의 단위를 원래 자료의 단위로 전환하기 위해 만든 값\n",
    "+ 모표준편차 $ \\sigma $\n",
    "> ### $ \\sqrt {\\sum{(x_{i} - \\bar {x})^2} \\over {n}}$\n",
    "+ 표본 표준편차 $ s $\n",
    "> ### $ \\sqrt {\\sum{(x_{i} - \\bar {x})^2} \\over {n-1}}$"
   ]
  },
  {
   "cell_type": "code",
   "execution_count": 101,
   "id": "4773a76a-e79c-4af3-b379-b8a98524bc73",
   "metadata": {},
   "outputs": [
    {
     "data": {
      "text/html": [
       "5.8309518948453"
      ],
      "text/latex": [
       "5.8309518948453"
      ],
      "text/markdown": [
       "5.8309518948453"
      ],
      "text/plain": [
       "[1] 5.830952"
      ]
     },
     "metadata": {},
     "output_type": "display_data"
    },
    {
     "data": {
      "text/html": [
       "18.3711730708738"
      ],
      "text/latex": [
       "18.3711730708738"
      ],
      "text/markdown": [
       "18.3711730708738"
      ],
      "text/plain": [
       "[1] 18.37117"
      ]
     },
     "metadata": {},
     "output_type": "display_data"
    },
    {
     "data": {
      "text/html": [
       "'5.8 18.4'"
      ],
      "text/latex": [
       "'5.8 18.4'"
      ],
      "text/markdown": [
       "'5.8 18.4'"
      ],
      "text/plain": [
       "[1] \"5.8 18.4\""
      ]
     },
     "metadata": {},
     "output_type": "display_data"
    }
   ],
   "source": [
    "# A부서와 B부서 사원들의 비상금 편차 파악\n",
    "# 표준편차 : sd\n",
    "\n",
    "sqrt(var(a))\n",
    "sqrt(var(b))\n",
    "\n",
    "\n",
    "sprintf('%.1f %.1f',sd(a), sd(b))"
   ]
  },
  {
   "cell_type": "code",
   "execution_count": 91,
   "id": "f565e9ce-bd45-43a0-970e-06415d5905be",
   "metadata": {},
   "outputs": [],
   "source": [
    "# 어떤 카푸치노 판매점들의 5일동안 오후 4~5시 사이의 판매량 데이터를 보고\n",
    "# 어느지점이 판매를 잘하였는지 파악하시오\n",
    "\n",
    "cafea <- c(20,40,50,60,80)\n",
    "cafeb <- c(20,45,50,55,80)"
   ]
  },
  {
   "cell_type": "code",
   "execution_count": 97,
   "id": "2669c2c5-43ca-4652-9bfe-a97e10f8bb3b",
   "metadata": {},
   "outputs": [
    {
     "data": {
      "text/html": [
       "22.3606797749979"
      ],
      "text/latex": [
       "22.3606797749979"
      ],
      "text/markdown": [
       "22.3606797749979"
      ],
      "text/plain": [
       "[1] 22.36068"
      ]
     },
     "metadata": {},
     "output_type": "display_data"
    },
    {
     "data": {
      "text/html": [
       "21.5058131676066"
      ],
      "text/latex": [
       "21.5058131676066"
      ],
      "text/markdown": [
       "21.5058131676066"
      ],
      "text/plain": [
       "[1] 21.50581"
      ]
     },
     "metadata": {},
     "output_type": "display_data"
    }
   ],
   "source": [
    "sd(cafea)\n",
    "sd(cafeb)"
   ]
  },
  {
   "cell_type": "code",
   "execution_count": 108,
   "id": "bd075bf6-446e-4cda-9e55-f73110fdbe9b",
   "metadata": {},
   "outputs": [
    {
     "data": {
      "text/html": [
       "'50.0 50.0'"
      ],
      "text/latex": [
       "'50.0 50.0'"
      ],
      "text/markdown": [
       "'50.0 50.0'"
      ],
      "text/plain": [
       "[1] \"50.0 50.0\""
      ]
     },
     "metadata": {},
     "output_type": "display_data"
    }
   ],
   "source": [
    "# 중심화 경향\n",
    "sprintf('%.1f %.1f',mean(cafea), mean(cafeb))"
   ]
  },
  {
   "cell_type": "code",
   "execution_count": 106,
   "id": "2603fcae-bf8c-4648-ba10-6a8d2682e392",
   "metadata": {},
   "outputs": [
    {
     "data": {
      "text/html": [
       "<style>\n",
       ".list-inline {list-style: none; margin:0; padding: 0}\n",
       ".list-inline>li {display: inline-block}\n",
       ".list-inline>li:not(:last-child)::after {content: \"\\00b7\"; padding: 0 .5ex}\n",
       "</style>\n",
       "<ol class=list-inline><li>20</li><li>80</li></ol>\n"
      ],
      "text/latex": [
       "\\begin{enumerate*}\n",
       "\\item 20\n",
       "\\item 80\n",
       "\\end{enumerate*}\n"
      ],
      "text/markdown": [
       "1. 20\n",
       "2. 80\n",
       "\n",
       "\n"
      ],
      "text/plain": [
       "[1] 20 80"
      ]
     },
     "metadata": {},
     "output_type": "display_data"
    },
    {
     "data": {
      "text/html": [
       "<style>\n",
       ".list-inline {list-style: none; margin:0; padding: 0}\n",
       ".list-inline>li {display: inline-block}\n",
       ".list-inline>li:not(:last-child)::after {content: \"\\00b7\"; padding: 0 .5ex}\n",
       "</style>\n",
       "<ol class=list-inline><li>20</li><li>80</li></ol>\n"
      ],
      "text/latex": [
       "\\begin{enumerate*}\n",
       "\\item 20\n",
       "\\item 80\n",
       "\\end{enumerate*}\n"
      ],
      "text/markdown": [
       "1. 20\n",
       "2. 80\n",
       "\n",
       "\n"
      ],
      "text/plain": [
       "[1] 20 80"
      ]
     },
     "metadata": {},
     "output_type": "display_data"
    }
   ],
   "source": [
    "range(cafea)\n",
    "range(cafeb)"
   ]
  },
  {
   "cell_type": "code",
   "execution_count": 109,
   "id": "65ca3f33-cc39-45a5-9138-e616803affdc",
   "metadata": {},
   "outputs": [
    {
     "data": {
      "text/html": [
       "'500.0 462.5'"
      ],
      "text/latex": [
       "'500.0 462.5'"
      ],
      "text/markdown": [
       "'500.0 462.5'"
      ],
      "text/plain": [
       "[1] \"500.0 462.5\""
      ]
     },
     "metadata": {},
     "output_type": "display_data"
    },
    {
     "data": {
      "text/html": [
       "'22.4 21.5'"
      ],
      "text/latex": [
       "'22.4 21.5'"
      ],
      "text/markdown": [
       "'22.4 21.5'"
      ],
      "text/plain": [
       "[1] \"22.4 21.5\""
      ]
     },
     "metadata": {},
     "output_type": "display_data"
    }
   ],
   "source": [
    "sprintf('%.1f %.1f',var(cafea), var(cafeb))\n",
    "sprintf('%.1f %.1f',sd(cafea), sd(cafeb))"
   ]
  },
  {
   "cell_type": "code",
   "execution_count": 112,
   "id": "430adb41-b0fb-415a-ace8-50e703c461b1",
   "metadata": {},
   "outputs": [],
   "source": [
    "# 회계수습 사원들의 월급이 3536, 3173, 3448, 3121, 3622 라고 한다.\n",
    "# 사무수습사원들의 월급 평균은 3550, 표준편차는 250이라 할때\n",
    "# 이 둘 수습사원 그룹을 비교하시오"
   ]
  },
  {
   "cell_type": "code",
   "execution_count": 122,
   "id": "334543a8-9abf-4464-a94e-edbb5bdeb667",
   "metadata": {},
   "outputs": [
    {
     "data": {
      "text/html": [
       "3380"
      ],
      "text/latex": [
       "3380"
      ],
      "text/markdown": [
       "3380"
      ],
      "text/plain": [
       "[1] 3380"
      ]
     },
     "metadata": {},
     "output_type": "display_data"
    },
    {
     "data": {
      "text/html": [
       "3550"
      ],
      "text/latex": [
       "3550"
      ],
      "text/markdown": [
       "3550"
      ],
      "text/plain": [
       "[1] 3550"
      ]
     },
     "metadata": {},
     "output_type": "display_data"
    }
   ],
   "source": [
    "hh <- c(3536, 3173, 3448, 3121, 3622)\n",
    "ss <- c(3550)\n",
    "mean(hh)\n",
    "mean(ss)"
   ]
  },
  {
   "cell_type": "code",
   "execution_count": 123,
   "id": "636eac71-dba1-4a16-a8e0-d65d589b1e6a",
   "metadata": {},
   "outputs": [
    {
     "data": {
      "text/html": [
       "222.17898190423"
      ],
      "text/latex": [
       "222.17898190423"
      ],
      "text/markdown": [
       "222.17898190423"
      ],
      "text/plain": [
       "[1] 222.179"
      ]
     },
     "metadata": {},
     "output_type": "display_data"
    },
    {
     "data": {
      "text/html": [
       "&lt;NA&gt;"
      ],
      "text/latex": [
       "<NA>"
      ],
      "text/markdown": [
       "&lt;NA&gt;"
      ],
      "text/plain": [
       "[1] NA"
      ]
     },
     "metadata": {},
     "output_type": "display_data"
    }
   ],
   "source": [
    "sd(hh)\n",
    "sd(ss)"
   ]
  },
  {
   "cell_type": "code",
   "execution_count": 126,
   "id": "a44c6bcf-600d-46b5-8377-818f00aa5884",
   "metadata": {},
   "outputs": [
    {
     "data": {
      "text/html": [
       "'3550.0 3380.0'"
      ],
      "text/latex": [
       "'3550.0 3380.0'"
      ],
      "text/markdown": [
       "'3550.0 3380.0'"
      ],
      "text/plain": [
       "[1] \"3550.0 3380.0\""
      ]
     },
     "metadata": {},
     "output_type": "display_data"
    },
    {
     "data": {
      "text/html": [
       "'NA 49363.5'"
      ],
      "text/latex": [
       "'NA 49363.5'"
      ],
      "text/markdown": [
       "'NA 49363.5'"
      ],
      "text/plain": [
       "[1] \"NA 49363.5\""
      ]
     },
     "metadata": {},
     "output_type": "display_data"
    },
    {
     "data": {
      "text/html": [
       "'NA 222.2'"
      ],
      "text/latex": [
       "'NA 222.2'"
      ],
      "text/markdown": [
       "'NA 222.2'"
      ],
      "text/plain": [
       "[1] \"NA 222.2\""
      ]
     },
     "metadata": {},
     "output_type": "display_data"
    }
   ],
   "source": [
    "sprintf('%.1f %.1f',mean(ss), mean(hh))\n",
    "sprintf('%.1f %.1f',var(ss), var(hh))\n",
    "sprintf('%.1f %.1f',sd(ss), sd(hh))"
   ]
  },
  {
   "cell_type": "code",
   "execution_count": 128,
   "id": "435d2398-2d9c-42e2-bb31-d9bfb0b9b971",
   "metadata": {},
   "outputs": [
    {
     "data": {
      "text/html": [
       "3380"
      ],
      "text/latex": [
       "3380"
      ],
      "text/markdown": [
       "3380"
      ],
      "text/plain": [
       "[1] 3380"
      ]
     },
     "metadata": {},
     "output_type": "display_data"
    },
    {
     "data": {
      "text/html": [
       "222.17898190423"
      ],
      "text/latex": [
       "222.17898190423"
      ],
      "text/markdown": [
       "222.17898190423"
      ],
      "text/plain": [
       "[1] 222.179"
      ]
     },
     "metadata": {},
     "output_type": "display_data"
    }
   ],
   "source": [
    "# 답안\n",
    "\n",
    "acc <- c(3536, 3173, 3448, 3121, 3622)\n",
    "mean(acc)\n",
    "sd(acc)"
   ]
  },
  {
   "cell_type": "markdown",
   "id": "a8a977e2-aeb3-43c6-ba5f-56da8aa03a8a",
   "metadata": {},
   "source": [
    "# 사분위수\n",
    "+ 데이터를 가장 작은수부터 가장 큰수까지 정렬하였을때 1/4, 2/4, 3/4 위치에 있는 수를 의미\n",
    "+ 이 각각의 수를 1사분위수, **2사분위수**, 3사분위수라고 하는데,\n",
    "+ 2사분위수는 **중앙값**과 같음\n",
    "    * $ Q_1 $ :25%\n",
    "    * $ Q_2 $ :50%\n",
    "    * $ Q_3 $ :75%\n",
    "+ 때로 위치를 1/100단위로 나눈 경우도 있는데, 이때 백분위수를 사용함\n",
    "+ 한편, 사분위수를 구하는 방법은 크게 **9가지**가 존재하는데 대상 데이터의 **유형**에 따라 적용방법이 다름\n",
    "+ **사분위 범위(IQR)** 사이의 구간에 항상 전체 데이터의 **50%** 가 포함됨\n",
    "    * 사분위 범위는 3사분위수에서 1사분위수 간의 범위를 의미\n",
    "+ numpy의 percentile함수의 interpolation 속성으로 계산방법을 지정할 수 있음 (nearst, lower, higher, linear, midpoint)"
   ]
  },
  {
   "cell_type": "code",
   "execution_count": 129,
   "id": "a195a08e-26da-48fa-a764-28c326c1b71d",
   "metadata": {},
   "outputs": [
    {
     "data": {
      "text/html": [
       "<style>\n",
       ".dl-inline {width: auto; margin:0; padding: 0}\n",
       ".dl-inline>dt, .dl-inline>dd {float: none; width: auto; display: inline-block}\n",
       ".dl-inline>dt::after {content: \":\\0020\"; padding-right: .5ex}\n",
       ".dl-inline>dt:not(:first-of-type) {padding-left: .5ex}\n",
       "</style><dl class=dl-inline><dt>0%</dt><dd>16</dd><dt>25%</dt><dd>33</dd><dt>50%</dt><dd>45</dd><dt>75%</dt><dd>56</dd><dt>100%</dt><dd>82</dd></dl>\n"
      ],
      "text/latex": [
       "\\begin{description*}\n",
       "\\item[0\\textbackslash{}\\%] 16\n",
       "\\item[25\\textbackslash{}\\%] 33\n",
       "\\item[50\\textbackslash{}\\%] 45\n",
       "\\item[75\\textbackslash{}\\%] 56\n",
       "\\item[100\\textbackslash{}\\%] 82\n",
       "\\end{description*}\n"
      ],
      "text/markdown": [
       "0%\n",
       ":   1625%\n",
       ":   3350%\n",
       ":   4575%\n",
       ":   56100%\n",
       ":   82\n",
       "\n"
      ],
      "text/plain": [
       "  0%  25%  50%  75% 100% \n",
       "  16   33   45   56   82 "
      ]
     },
     "metadata": {},
     "output_type": "display_data"
    }
   ],
   "source": [
    "# 조선조 왕들 수명의 사분위수\n",
    "# 사분위수 : quantile(객체, 사분위)\n",
    "\n",
    "quantile(kings)"
   ]
  },
  {
   "cell_type": "code",
   "execution_count": 132,
   "id": "ad3710e5-7968-4826-bae9-9ee7066987f5",
   "metadata": {},
   "outputs": [
    {
     "data": {
      "text/html": [
       "<strong>25%:</strong> 33"
      ],
      "text/latex": [
       "\\textbf{25\\textbackslash{}\\%:} 33"
      ],
      "text/markdown": [
       "**25%:** 33"
      ],
      "text/plain": [
       "25% \n",
       " 33 "
      ]
     },
     "metadata": {},
     "output_type": "display_data"
    }
   ],
   "source": [
    "# 하위 25%를 나누는 기준 계산\n",
    "quantile(kings, 0.25)"
   ]
  },
  {
   "cell_type": "code",
   "execution_count": 133,
   "id": "cc7ab681-5691-4613-9948-7ea3b541778c",
   "metadata": {},
   "outputs": [
    {
     "data": {
      "text/html": [
       "<strong>75%:</strong> 56"
      ],
      "text/latex": [
       "\\textbf{75\\textbackslash{}\\%:} 56"
      ],
      "text/markdown": [
       "**75%:** 56"
      ],
      "text/plain": [
       "75% \n",
       " 56 "
      ]
     },
     "metadata": {},
     "output_type": "display_data"
    }
   ],
   "source": [
    "# 상위 25%를 나누는 기준 계산\n",
    "quantile(kings, 0.75)"
   ]
  },
  {
   "cell_type": "code",
   "execution_count": 137,
   "id": "fc03e552-1170-4417-aaf0-e80d48895bd3",
   "metadata": {},
   "outputs": [
    {
     "data": {
      "text/html": [
       "<strong>75%:</strong> 23"
      ],
      "text/latex": [
       "\\textbf{75\\textbackslash{}\\%:} 23"
      ],
      "text/markdown": [
       "**75%:** 23"
      ],
      "text/plain": [
       "75% \n",
       " 23 "
      ]
     },
     "metadata": {},
     "output_type": "display_data"
    },
    {
     "data": {
      "text/html": [
       "23"
      ],
      "text/latex": [
       "23"
      ],
      "text/markdown": [
       "23"
      ],
      "text/plain": [
       "[1] 23"
      ]
     },
     "metadata": {},
     "output_type": "display_data"
    }
   ],
   "source": [
    "# 사분위 범위(IQR) 계산 : Q3 - Q1\n",
    "quantile(kings, 0.75) - quantile(kings, 0.25)\n",
    "IQR(kings)"
   ]
  },
  {
   "cell_type": "markdown",
   "id": "8c90c34e-72a2-4ed7-bf33-bddc1ffe1feb",
   "metadata": {},
   "source": [
    "# 사원 데이터의 기술통계2 (분산화 경향)"
   ]
  },
  {
   "cell_type": "code",
   "execution_count": 143,
   "id": "59f3a849-a861-45bf-8152-e0a5345f761f",
   "metadata": {},
   "outputs": [
    {
     "data": {
      "text/html": [
       "<table class=\"dataframe\">\n",
       "<caption>A data.frame: 6 × 11</caption>\n",
       "<thead>\n",
       "\t<tr><th></th><th scope=col>EMPLOYEE_ID</th><th scope=col>FIRST_NAME</th><th scope=col>LAST_NAME</th><th scope=col>EMAIL</th><th scope=col>PHONE_NUMBER</th><th scope=col>HIRE_DATE</th><th scope=col>JOB_ID</th><th scope=col>SALARY</th><th scope=col>COMMISSION_PCT</th><th scope=col>MANAGER_ID</th><th scope=col>DEPARTMENT_ID</th></tr>\n",
       "\t<tr><th></th><th scope=col>&lt;int&gt;</th><th scope=col>&lt;chr&gt;</th><th scope=col>&lt;chr&gt;</th><th scope=col>&lt;chr&gt;</th><th scope=col>&lt;chr&gt;</th><th scope=col>&lt;chr&gt;</th><th scope=col>&lt;chr&gt;</th><th scope=col>&lt;int&gt;</th><th scope=col>&lt;dbl&gt;</th><th scope=col>&lt;int&gt;</th><th scope=col>&lt;int&gt;</th></tr>\n",
       "</thead>\n",
       "<tbody>\n",
       "\t<tr><th scope=row>1</th><td>100</td><td>Steven   </td><td>King   </td><td>SKING   </td><td>515.123.4567</td><td>2003-06-17</td><td>AD_PRES</td><td>24000</td><td>NA</td><td> NA</td><td>90</td></tr>\n",
       "\t<tr><th scope=row>2</th><td>101</td><td>Neena    </td><td>Kochhar</td><td>NKOCHHAR</td><td>515.123.4568</td><td>2005-09-21</td><td>AD_VP  </td><td>17000</td><td>NA</td><td>100</td><td>90</td></tr>\n",
       "\t<tr><th scope=row>3</th><td>102</td><td>Lex      </td><td>De Haan</td><td>LDEHAAN </td><td>515.123.4569</td><td>2001-01-13</td><td>AD_VP  </td><td>17000</td><td>NA</td><td>100</td><td>90</td></tr>\n",
       "\t<tr><th scope=row>4</th><td>103</td><td>Alexander</td><td>Hunold </td><td>AHUNOLD </td><td>590.423.4567</td><td>2006-01-03</td><td>IT_PROG</td><td> 9000</td><td>NA</td><td>102</td><td>60</td></tr>\n",
       "\t<tr><th scope=row>5</th><td>104</td><td>Bruce    </td><td>Ernst  </td><td>BERNST  </td><td>590.423.4568</td><td>2007-05-21</td><td>IT_PROG</td><td> 6000</td><td>NA</td><td>103</td><td>60</td></tr>\n",
       "\t<tr><th scope=row>6</th><td>105</td><td>David    </td><td>Austin </td><td>DAUSTIN </td><td>590.423.4569</td><td>2005-06-25</td><td>IT_PROG</td><td> 4800</td><td>NA</td><td>103</td><td>60</td></tr>\n",
       "</tbody>\n",
       "</table>\n"
      ],
      "text/latex": [
       "A data.frame: 6 × 11\n",
       "\\begin{tabular}{r|lllllllllll}\n",
       "  & EMPLOYEE\\_ID & FIRST\\_NAME & LAST\\_NAME & EMAIL & PHONE\\_NUMBER & HIRE\\_DATE & JOB\\_ID & SALARY & COMMISSION\\_PCT & MANAGER\\_ID & DEPARTMENT\\_ID\\\\\n",
       "  & <int> & <chr> & <chr> & <chr> & <chr> & <chr> & <chr> & <int> & <dbl> & <int> & <int>\\\\\n",
       "\\hline\n",
       "\t1 & 100 & Steven    & King    & SKING    & 515.123.4567 & 2003-06-17 & AD\\_PRES & 24000 & NA &  NA & 90\\\\\n",
       "\t2 & 101 & Neena     & Kochhar & NKOCHHAR & 515.123.4568 & 2005-09-21 & AD\\_VP   & 17000 & NA & 100 & 90\\\\\n",
       "\t3 & 102 & Lex       & De Haan & LDEHAAN  & 515.123.4569 & 2001-01-13 & AD\\_VP   & 17000 & NA & 100 & 90\\\\\n",
       "\t4 & 103 & Alexander & Hunold  & AHUNOLD  & 590.423.4567 & 2006-01-03 & IT\\_PROG &  9000 & NA & 102 & 60\\\\\n",
       "\t5 & 104 & Bruce     & Ernst   & BERNST   & 590.423.4568 & 2007-05-21 & IT\\_PROG &  6000 & NA & 103 & 60\\\\\n",
       "\t6 & 105 & David     & Austin  & DAUSTIN  & 590.423.4569 & 2005-06-25 & IT\\_PROG &  4800 & NA & 103 & 60\\\\\n",
       "\\end{tabular}\n"
      ],
      "text/markdown": [
       "\n",
       "A data.frame: 6 × 11\n",
       "\n",
       "| <!--/--> | EMPLOYEE_ID &lt;int&gt; | FIRST_NAME &lt;chr&gt; | LAST_NAME &lt;chr&gt; | EMAIL &lt;chr&gt; | PHONE_NUMBER &lt;chr&gt; | HIRE_DATE &lt;chr&gt; | JOB_ID &lt;chr&gt; | SALARY &lt;int&gt; | COMMISSION_PCT &lt;dbl&gt; | MANAGER_ID &lt;int&gt; | DEPARTMENT_ID &lt;int&gt; |\n",
       "|---|---|---|---|---|---|---|---|---|---|---|---|\n",
       "| 1 | 100 | Steven    | King    | SKING    | 515.123.4567 | 2003-06-17 | AD_PRES | 24000 | NA |  NA | 90 |\n",
       "| 2 | 101 | Neena     | Kochhar | NKOCHHAR | 515.123.4568 | 2005-09-21 | AD_VP   | 17000 | NA | 100 | 90 |\n",
       "| 3 | 102 | Lex       | De Haan | LDEHAAN  | 515.123.4569 | 2001-01-13 | AD_VP   | 17000 | NA | 100 | 90 |\n",
       "| 4 | 103 | Alexander | Hunold  | AHUNOLD  | 590.423.4567 | 2006-01-03 | IT_PROG |  9000 | NA | 102 | 60 |\n",
       "| 5 | 104 | Bruce     | Ernst   | BERNST   | 590.423.4568 | 2007-05-21 | IT_PROG |  6000 | NA | 103 | 60 |\n",
       "| 6 | 105 | David     | Austin  | DAUSTIN  | 590.423.4569 | 2005-06-25 | IT_PROG |  4800 | NA | 103 | 60 |\n",
       "\n"
      ],
      "text/plain": [
       "  EMPLOYEE_ID FIRST_NAME LAST_NAME EMAIL    PHONE_NUMBER HIRE_DATE  JOB_ID \n",
       "1 100         Steven     King      SKING    515.123.4567 2003-06-17 AD_PRES\n",
       "2 101         Neena      Kochhar   NKOCHHAR 515.123.4568 2005-09-21 AD_VP  \n",
       "3 102         Lex        De Haan   LDEHAAN  515.123.4569 2001-01-13 AD_VP  \n",
       "4 103         Alexander  Hunold    AHUNOLD  590.423.4567 2006-01-03 IT_PROG\n",
       "5 104         Bruce      Ernst     BERNST   590.423.4568 2007-05-21 IT_PROG\n",
       "6 105         David      Austin    DAUSTIN  590.423.4569 2005-06-25 IT_PROG\n",
       "  SALARY COMMISSION_PCT MANAGER_ID DEPARTMENT_ID\n",
       "1 24000  NA              NA        90           \n",
       "2 17000  NA             100        90           \n",
       "3 17000  NA             100        90           \n",
       "4  9000  NA             102        60           \n",
       "5  6000  NA             103        60           \n",
       "6  4800  NA             103        60           "
      ]
     },
     "metadata": {},
     "output_type": "display_data"
    }
   ],
   "source": [
    "emp <- read.csv('employees.csv', stringsAsFactor=F)\n",
    "head(emp)"
   ]
  },
  {
   "cell_type": "code",
   "execution_count": 162,
   "id": "b2d2e6b9-adcb-41a7-866e-5ff4eebc245a",
   "metadata": {},
   "outputs": [
    {
     "name": "stdout",
     "output_type": "stream",
     "text": [
      "'data.frame':\t107 obs. of  11 variables:\n",
      " $ EMPLOYEE_ID   : int  100 101 102 103 104 105 106 107 108 109 ...\n",
      " $ FIRST_NAME    : chr  \"Steven\" \"Neena\" \"Lex\" \"Alexander\" ...\n",
      " $ LAST_NAME     : chr  \"King\" \"Kochhar\" \"De Haan\" \"Hunold\" ...\n",
      " $ EMAIL         : chr  \"SKING\" \"NKOCHHAR\" \"LDEHAAN\" \"AHUNOLD\" ...\n",
      " $ PHONE_NUMBER  : chr  \"515.123.4567\" \"515.123.4568\" \"515.123.4569\" \"590.423.4567\" ...\n",
      " $ HIRE_DATE     : chr  \"2003-06-17\" \"2005-09-21\" \"2001-01-13\" \"2006-01-03\" ...\n",
      " $ JOB_ID        : chr  \"AD_PRES\" \"AD_VP\" \"AD_VP\" \"IT_PROG\" ...\n",
      " $ SALARY        : int  24000 17000 17000 9000 6000 4800 4800 4200 12008 9000 ...\n",
      " $ COMMISSION_PCT: num  NA NA NA NA NA NA NA NA NA NA ...\n",
      " $ MANAGER_ID    : int  NA 100 100 102 103 103 103 103 101 108 ...\n",
      " $ DEPARTMENT_ID : int  90 90 90 60 60 60 60 60 100 100 ...\n"
     ]
    }
   ],
   "source": [
    "str(emp)"
   ]
  },
  {
   "cell_type": "code",
   "execution_count": 173,
   "id": "ef20bbf7-c1ac-4d81-81b9-aeaad1f99311",
   "metadata": {},
   "outputs": [
    {
     "data": {
      "text/html": [
       "6200"
      ],
      "text/latex": [
       "6200"
      ],
      "text/markdown": [
       "6200"
      ],
      "text/plain": [
       "[1] 6200"
      ]
     },
     "metadata": {},
     "output_type": "display_data"
    },
    {
     "data": {
      "text/html": [
       "2500"
      ],
      "text/latex": [
       "2500"
      ],
      "text/markdown": [
       "2500"
      ],
      "text/plain": [
       "[1] 2500"
      ]
     },
     "metadata": {},
     "output_type": "display_data"
    },
    {
     "data": {
      "text/html": [
       "21900"
      ],
      "text/latex": [
       "21900"
      ],
      "text/markdown": [
       "21900"
      ],
      "text/plain": [
       "[1] 21900"
      ]
     },
     "metadata": {},
     "output_type": "display_data"
    }
   ],
   "source": [
    "m4 <-mean(emp$SALARY)   # 평균\n",
    "median(emp$SALARY) # 중앙값\n",
    "Modes(emp$SALARY)  # 최빈값\n",
    "\n",
    "max = max(emp$SALARY)\n",
    "min = min(emp$SALARY)\n",
    "max-min            # 최대값 - 최소값\n",
    "range(emp$SALARY)[2] - range(emp$SALARY)[1]  # 최대값 - 최소값"
   ]
  },
  {
   "cell_type": "code",
   "execution_count": 184,
   "id": "018b287d-60c4-44d7-9631-0a286d7b7bb2",
   "metadata": {},
   "outputs": [
    {
     "data": {
      "text/html": [
       "<style>\n",
       ".list-inline {list-style: none; margin:0; padding: 0}\n",
       ".list-inline>li {display: inline-block}\n",
       ".list-inline>li:not(:last-child)::after {content: \"\\00b7\"; padding: 0 .5ex}\n",
       "</style>\n",
       "<ol class=list-inline><li>2100</li><li>24000</li></ol>\n"
      ],
      "text/latex": [
       "\\begin{enumerate*}\n",
       "\\item 2100\n",
       "\\item 24000\n",
       "\\end{enumerate*}\n"
      ],
      "text/markdown": [
       "1. 2100\n",
       "2. 24000\n",
       "\n",
       "\n"
      ],
      "text/plain": [
       "[1]  2100 24000"
      ]
     },
     "metadata": {},
     "output_type": "display_data"
    },
    {
     "data": {
      "text/html": [
       "107"
      ],
      "text/latex": [
       "107"
      ],
      "text/markdown": [
       "107"
      ],
      "text/plain": [
       "[1] 107"
      ]
     },
     "metadata": {},
     "output_type": "display_data"
    },
    {
     "data": {
      "text/html": [
       "<style>\n",
       ".list-inline {list-style: none; margin:0; padding: 0}\n",
       ".list-inline>li {display: inline-block}\n",
       ".list-inline>li:not(:last-child)::after {content: \"\\00b7\"; padding: 0 .5ex}\n",
       "</style>\n",
       "<ol class=list-inline><li>2100</li><li>2200</li><li>2200</li><li>2400</li><li>2400</li><li>2500</li><li>2500</li><li>2500</li><li>2500</li><li>2500</li><li>2500</li><li>2600</li><li>2600</li><li>2600</li><li>2600</li><li>2700</li><li>2700</li><li>2800</li><li>2800</li><li>2800</li><li>2800</li><li>2900</li><li>2900</li><li>2900</li><li>3000</li><li>3000</li><li>3100</li><li>3100</li><li>3100</li><li>3100</li><li>3200</li><li>3200</li><li>3200</li><li>3200</li><li>3300</li><li>3300</li><li>3400</li><li>3500</li><li>3600</li><li>3600</li><li>3800</li><li>3900</li><li>4000</li><li>4100</li><li>4200</li><li>4200</li><li>4400</li><li>4800</li><li>4800</li><li>5800</li><li>6000</li><li>6000</li><li>6100</li><li>6200</li><li>6200</li><li>6400</li><li>6500</li><li>6500</li><li>6800</li><li>6900</li><li>7000</li><li>7000</li><li>7000</li><li>7200</li><li>7300</li><li>7400</li><li>7500</li><li>7500</li><li>7700</li><li>7800</li><li>7900</li><li>8000</li><li>8000</li><li>8000</li><li>8200</li><li>8200</li><li>8300</li><li>8400</li><li>8600</li><li>8800</li><li>9000</li><li>9000</li><li>9000</li><li>9000</li><li>9500</li><li>9500</li><li>9500</li><li>9600</li><li>10000</li><li>10000</li><li>10000</li><li>10000</li><li>10500</li><li>10500</li><li>11000</li><li>11000</li><li>11000</li><li>11500</li><li>12000</li><li>12008</li><li>12008</li><li>13000</li><li>13500</li><li>14000</li><li>17000</li><li>17000</li><li>24000</li></ol>\n"
      ],
      "text/latex": [
       "\\begin{enumerate*}\n",
       "\\item 2100\n",
       "\\item 2200\n",
       "\\item 2200\n",
       "\\item 2400\n",
       "\\item 2400\n",
       "\\item 2500\n",
       "\\item 2500\n",
       "\\item 2500\n",
       "\\item 2500\n",
       "\\item 2500\n",
       "\\item 2500\n",
       "\\item 2600\n",
       "\\item 2600\n",
       "\\item 2600\n",
       "\\item 2600\n",
       "\\item 2700\n",
       "\\item 2700\n",
       "\\item 2800\n",
       "\\item 2800\n",
       "\\item 2800\n",
       "\\item 2800\n",
       "\\item 2900\n",
       "\\item 2900\n",
       "\\item 2900\n",
       "\\item 3000\n",
       "\\item 3000\n",
       "\\item 3100\n",
       "\\item 3100\n",
       "\\item 3100\n",
       "\\item 3100\n",
       "\\item 3200\n",
       "\\item 3200\n",
       "\\item 3200\n",
       "\\item 3200\n",
       "\\item 3300\n",
       "\\item 3300\n",
       "\\item 3400\n",
       "\\item 3500\n",
       "\\item 3600\n",
       "\\item 3600\n",
       "\\item 3800\n",
       "\\item 3900\n",
       "\\item 4000\n",
       "\\item 4100\n",
       "\\item 4200\n",
       "\\item 4200\n",
       "\\item 4400\n",
       "\\item 4800\n",
       "\\item 4800\n",
       "\\item 5800\n",
       "\\item 6000\n",
       "\\item 6000\n",
       "\\item 6100\n",
       "\\item 6200\n",
       "\\item 6200\n",
       "\\item 6400\n",
       "\\item 6500\n",
       "\\item 6500\n",
       "\\item 6800\n",
       "\\item 6900\n",
       "\\item 7000\n",
       "\\item 7000\n",
       "\\item 7000\n",
       "\\item 7200\n",
       "\\item 7300\n",
       "\\item 7400\n",
       "\\item 7500\n",
       "\\item 7500\n",
       "\\item 7700\n",
       "\\item 7800\n",
       "\\item 7900\n",
       "\\item 8000\n",
       "\\item 8000\n",
       "\\item 8000\n",
       "\\item 8200\n",
       "\\item 8200\n",
       "\\item 8300\n",
       "\\item 8400\n",
       "\\item 8600\n",
       "\\item 8800\n",
       "\\item 9000\n",
       "\\item 9000\n",
       "\\item 9000\n",
       "\\item 9000\n",
       "\\item 9500\n",
       "\\item 9500\n",
       "\\item 9500\n",
       "\\item 9600\n",
       "\\item 10000\n",
       "\\item 10000\n",
       "\\item 10000\n",
       "\\item 10000\n",
       "\\item 10500\n",
       "\\item 10500\n",
       "\\item 11000\n",
       "\\item 11000\n",
       "\\item 11000\n",
       "\\item 11500\n",
       "\\item 12000\n",
       "\\item 12008\n",
       "\\item 12008\n",
       "\\item 13000\n",
       "\\item 13500\n",
       "\\item 14000\n",
       "\\item 17000\n",
       "\\item 17000\n",
       "\\item 24000\n",
       "\\end{enumerate*}\n"
      ],
      "text/markdown": [
       "1. 2100\n",
       "2. 2200\n",
       "3. 2200\n",
       "4. 2400\n",
       "5. 2400\n",
       "6. 2500\n",
       "7. 2500\n",
       "8. 2500\n",
       "9. 2500\n",
       "10. 2500\n",
       "11. 2500\n",
       "12. 2600\n",
       "13. 2600\n",
       "14. 2600\n",
       "15. 2600\n",
       "16. 2700\n",
       "17. 2700\n",
       "18. 2800\n",
       "19. 2800\n",
       "20. 2800\n",
       "21. 2800\n",
       "22. 2900\n",
       "23. 2900\n",
       "24. 2900\n",
       "25. 3000\n",
       "26. 3000\n",
       "27. 3100\n",
       "28. 3100\n",
       "29. 3100\n",
       "30. 3100\n",
       "31. 3200\n",
       "32. 3200\n",
       "33. 3200\n",
       "34. 3200\n",
       "35. 3300\n",
       "36. 3300\n",
       "37. 3400\n",
       "38. 3500\n",
       "39. 3600\n",
       "40. 3600\n",
       "41. 3800\n",
       "42. 3900\n",
       "43. 4000\n",
       "44. 4100\n",
       "45. 4200\n",
       "46. 4200\n",
       "47. 4400\n",
       "48. 4800\n",
       "49. 4800\n",
       "50. 5800\n",
       "51. 6000\n",
       "52. 6000\n",
       "53. 6100\n",
       "54. 6200\n",
       "55. 6200\n",
       "56. 6400\n",
       "57. 6500\n",
       "58. 6500\n",
       "59. 6800\n",
       "60. 6900\n",
       "61. 7000\n",
       "62. 7000\n",
       "63. 7000\n",
       "64. 7200\n",
       "65. 7300\n",
       "66. 7400\n",
       "67. 7500\n",
       "68. 7500\n",
       "69. 7700\n",
       "70. 7800\n",
       "71. 7900\n",
       "72. 8000\n",
       "73. 8000\n",
       "74. 8000\n",
       "75. 8200\n",
       "76. 8200\n",
       "77. 8300\n",
       "78. 8400\n",
       "79. 8600\n",
       "80. 8800\n",
       "81. 9000\n",
       "82. 9000\n",
       "83. 9000\n",
       "84. 9000\n",
       "85. 9500\n",
       "86. 9500\n",
       "87. 9500\n",
       "88. 9600\n",
       "89. 10000\n",
       "90. 10000\n",
       "91. 10000\n",
       "92. 10000\n",
       "93. 10500\n",
       "94. 10500\n",
       "95. 11000\n",
       "96. 11000\n",
       "97. 11000\n",
       "98. 11500\n",
       "99. 12000\n",
       "100. 12008\n",
       "101. 12008\n",
       "102. 13000\n",
       "103. 13500\n",
       "104. 14000\n",
       "105. 17000\n",
       "106. 17000\n",
       "107. 24000\n",
       "\n",
       "\n"
      ],
      "text/plain": [
       "  [1]  2100  2200  2200  2400  2400  2500  2500  2500  2500  2500  2500  2600\n",
       " [13]  2600  2600  2600  2700  2700  2800  2800  2800  2800  2900  2900  2900\n",
       " [25]  3000  3000  3100  3100  3100  3100  3200  3200  3200  3200  3300  3300\n",
       " [37]  3400  3500  3600  3600  3800  3900  4000  4100  4200  4200  4400  4800\n",
       " [49]  4800  5800  6000  6000  6100  6200  6200  6400  6500  6500  6800  6900\n",
       " [61]  7000  7000  7000  7200  7300  7400  7500  7500  7700  7800  7900  8000\n",
       " [73]  8000  8000  8200  8200  8300  8400  8600  8800  9000  9000  9000  9000\n",
       " [85]  9500  9500  9500  9600 10000 10000 10000 10000 10500 10500 11000 11000\n",
       " [97] 11000 11500 12000 12008 12008 13000 13500 14000 17000 17000 24000"
      ]
     },
     "metadata": {},
     "output_type": "display_data"
    },
    {
     "data": {
      "text/html": [
       "<style>\n",
       ".list-inline {list-style: none; margin:0; padding: 0}\n",
       ".list-inline>li {display: inline-block}\n",
       ".list-inline>li:not(:last-child)::after {content: \"\\00b7\"; padding: 0 .5ex}\n",
       "</style>\n",
       "<ol class=list-inline><li>24000</li><li>17000</li><li>9000</li><li>6000</li><li>4800</li><li>4200</li><li>12008</li><li>8200</li><li>7700</li><li>7800</li><li>6900</li><li>11000</li><li>3100</li><li>2900</li><li>2800</li><li>2600</li><li>2500</li><li>8000</li><li>7900</li><li>6500</li><li>5800</li><li>3200</li><li>2700</li><li>2400</li><li>2200</li><li>3300</li><li>2100</li><li>3600</li><li>3500</li><li>14000</li><li>13500</li><li>12000</li><li>10500</li><li>10000</li><li>9500</li><li>7500</li><li>7000</li><li>7200</li><li>6800</li><li>6400</li><li>6200</li><li>11500</li><li>9600</li><li>7400</li><li>7300</li><li>6100</li><li>8800</li><li>8600</li><li>8400</li><li>4100</li><li>3400</li><li>3000</li><li>3800</li><li>4000</li><li>3900</li><li>4400</li><li>13000</li><li>8300</li></ol>\n"
      ],
      "text/latex": [
       "\\begin{enumerate*}\n",
       "\\item 24000\n",
       "\\item 17000\n",
       "\\item 9000\n",
       "\\item 6000\n",
       "\\item 4800\n",
       "\\item 4200\n",
       "\\item 12008\n",
       "\\item 8200\n",
       "\\item 7700\n",
       "\\item 7800\n",
       "\\item 6900\n",
       "\\item 11000\n",
       "\\item 3100\n",
       "\\item 2900\n",
       "\\item 2800\n",
       "\\item 2600\n",
       "\\item 2500\n",
       "\\item 8000\n",
       "\\item 7900\n",
       "\\item 6500\n",
       "\\item 5800\n",
       "\\item 3200\n",
       "\\item 2700\n",
       "\\item 2400\n",
       "\\item 2200\n",
       "\\item 3300\n",
       "\\item 2100\n",
       "\\item 3600\n",
       "\\item 3500\n",
       "\\item 14000\n",
       "\\item 13500\n",
       "\\item 12000\n",
       "\\item 10500\n",
       "\\item 10000\n",
       "\\item 9500\n",
       "\\item 7500\n",
       "\\item 7000\n",
       "\\item 7200\n",
       "\\item 6800\n",
       "\\item 6400\n",
       "\\item 6200\n",
       "\\item 11500\n",
       "\\item 9600\n",
       "\\item 7400\n",
       "\\item 7300\n",
       "\\item 6100\n",
       "\\item 8800\n",
       "\\item 8600\n",
       "\\item 8400\n",
       "\\item 4100\n",
       "\\item 3400\n",
       "\\item 3000\n",
       "\\item 3800\n",
       "\\item 4000\n",
       "\\item 3900\n",
       "\\item 4400\n",
       "\\item 13000\n",
       "\\item 8300\n",
       "\\end{enumerate*}\n"
      ],
      "text/markdown": [
       "1. 24000\n",
       "2. 17000\n",
       "3. 9000\n",
       "4. 6000\n",
       "5. 4800\n",
       "6. 4200\n",
       "7. 12008\n",
       "8. 8200\n",
       "9. 7700\n",
       "10. 7800\n",
       "11. 6900\n",
       "12. 11000\n",
       "13. 3100\n",
       "14. 2900\n",
       "15. 2800\n",
       "16. 2600\n",
       "17. 2500\n",
       "18. 8000\n",
       "19. 7900\n",
       "20. 6500\n",
       "21. 5800\n",
       "22. 3200\n",
       "23. 2700\n",
       "24. 2400\n",
       "25. 2200\n",
       "26. 3300\n",
       "27. 2100\n",
       "28. 3600\n",
       "29. 3500\n",
       "30. 14000\n",
       "31. 13500\n",
       "32. 12000\n",
       "33. 10500\n",
       "34. 10000\n",
       "35. 9500\n",
       "36. 7500\n",
       "37. 7000\n",
       "38. 7200\n",
       "39. 6800\n",
       "40. 6400\n",
       "41. 6200\n",
       "42. 11500\n",
       "43. 9600\n",
       "44. 7400\n",
       "45. 7300\n",
       "46. 6100\n",
       "47. 8800\n",
       "48. 8600\n",
       "49. 8400\n",
       "50. 4100\n",
       "51. 3400\n",
       "52. 3000\n",
       "53. 3800\n",
       "54. 4000\n",
       "55. 3900\n",
       "56. 4400\n",
       "57. 13000\n",
       "58. 8300\n",
       "\n",
       "\n"
      ],
      "text/plain": [
       " [1] 24000 17000  9000  6000  4800  4200 12008  8200  7700  7800  6900 11000\n",
       "[13]  3100  2900  2800  2600  2500  8000  7900  6500  5800  3200  2700  2400\n",
       "[25]  2200  3300  2100  3600  3500 14000 13500 12000 10500 10000  9500  7500\n",
       "[37]  7000  7200  6800  6400  6200 11500  9600  7400  7300  6100  8800  8600\n",
       "[49]  8400  4100  3400  3000  3800  4000  3900  4400 13000  8300"
      ]
     },
     "metadata": {},
     "output_type": "display_data"
    }
   ],
   "source": [
    "range(emp$SALARY)  # 범위\n",
    "length(emp$SALARY) # 데이터 갯수\n",
    "sort(emp$SALARY)   # 정렬\n",
    "unique(emp$SALARY) # 중복제외"
   ]
  },
  {
   "cell_type": "code",
   "execution_count": 181,
   "id": "24f95d59-1153-4638-b45f-b60bd032fffd",
   "metadata": {},
   "outputs": [
    {
     "data": {
      "text/html": [
       "3909.57973055248"
      ],
      "text/latex": [
       "3909.57973055248"
      ],
      "text/markdown": [
       "3909.57973055248"
      ],
      "text/plain": [
       "[1] 3909.58"
      ]
     },
     "metadata": {},
     "output_type": "display_data"
    },
    {
     "data": {
      "text/html": [
       "3909.57973055248"
      ],
      "text/latex": [
       "3909.57973055248"
      ],
      "text/markdown": [
       "3909.57973055248"
      ],
      "text/plain": [
       "[1] 3909.58"
      ]
     },
     "metadata": {},
     "output_type": "display_data"
    },
    {
     "data": {
      "text/html": [
       "<style>\n",
       ".list-inline {list-style: none; margin:0; padding: 0}\n",
       ".list-inline>li {display: inline-block}\n",
       ".list-inline>li:not(:last-child)::after {content: \"\\00b7\"; padding: 0 .5ex}\n",
       "</style>\n",
       "<ol class=list-inline><li>17538.1682242991</li><li>10538.1682242991</li><li>10538.1682242991</li><li>2538.16822429907</li><li>-461.831775700934</li><li>-1661.83177570093</li></ol>\n"
      ],
      "text/latex": [
       "\\begin{enumerate*}\n",
       "\\item 17538.1682242991\n",
       "\\item 10538.1682242991\n",
       "\\item 10538.1682242991\n",
       "\\item 2538.16822429907\n",
       "\\item -461.831775700934\n",
       "\\item -1661.83177570093\n",
       "\\end{enumerate*}\n"
      ],
      "text/markdown": [
       "1. 17538.1682242991\n",
       "2. 10538.1682242991\n",
       "3. 10538.1682242991\n",
       "4. 2538.16822429907\n",
       "5. -461.831775700934\n",
       "6. -1661.83177570093\n",
       "\n",
       "\n"
      ],
      "text/plain": [
       "[1] 17538.1682 10538.1682 10538.1682  2538.1682  -461.8318 -1661.8318"
      ]
     },
     "metadata": {},
     "output_type": "display_data"
    },
    {
     "data": {
      "text/html": [
       "<style>\n",
       ".list-inline {list-style: none; margin:0; padding: 0}\n",
       ".list-inline>li {display: inline-block}\n",
       ".list-inline>li:not(:last-child)::after {content: \"\\00b7\"; padding: 0 .5ex}\n",
       "</style>\n",
       "<ol class=list-inline><li>307587344.663813</li><li>111052989.523627</li><li>111052989.523627</li><li>6442297.93484147</li><li>213288.589047078</li><li>2761684.85072932</li></ol>\n"
      ],
      "text/latex": [
       "\\begin{enumerate*}\n",
       "\\item 307587344.663813\n",
       "\\item 111052989.523627\n",
       "\\item 111052989.523627\n",
       "\\item 6442297.93484147\n",
       "\\item 213288.589047078\n",
       "\\item 2761684.85072932\n",
       "\\end{enumerate*}\n"
      ],
      "text/markdown": [
       "1. 307587344.663813\n",
       "2. 111052989.523627\n",
       "3. 111052989.523627\n",
       "4. 6442297.93484147\n",
       "5. 213288.589047078\n",
       "6. 2761684.85072932\n",
       "\n",
       "\n"
      ],
      "text/plain": [
       "[1] 307587344.7 111052989.5 111052989.5   6442297.9    213288.6   2761684.9"
      ]
     },
     "metadata": {},
     "output_type": "display_data"
    },
    {
     "data": {
      "text/html": [
       "1620190248.97196"
      ],
      "text/latex": [
       "1620190248.97196"
      ],
      "text/markdown": [
       "1620190248.97196"
      ],
      "text/plain": [
       "[1] 1620190249"
      ]
     },
     "metadata": {},
     "output_type": "display_data"
    }
   ],
   "source": [
    "sd(emp$SALARY)      # 표준편차\n",
    "sqrt(var(emp$SALARY)) #표준편차\n",
    "\n",
    "\n",
    "emp_sd <- (emp$SALARY - m4)\n",
    "head(emp_sd)  # 편차\n",
    "\n",
    "emp_sd2 <- (emp$SALARY - m4)**2\n",
    "head(emp_sd2)  # 편차제곱\n",
    "\n",
    "\n",
    "sum(emp_sd2)   # 편차의 합"
   ]
  },
  {
   "cell_type": "code",
   "execution_count": 183,
   "id": "1a144626-be47-4c70-97e7-a6ef68292cb8",
   "metadata": {},
   "outputs": [
    {
     "data": {
      "text/html": [
       "15141964.9436632"
      ],
      "text/latex": [
       "15141964.9436632"
      ],
      "text/markdown": [
       "15141964.9436632"
      ],
      "text/plain": [
       "[1] 15141965"
      ]
     },
     "metadata": {},
     "output_type": "display_data"
    },
    {
     "data": {
      "text/html": [
       "15284813.6695468"
      ],
      "text/latex": [
       "15284813.6695468"
      ],
      "text/markdown": [
       "15284813.6695468"
      ],
      "text/plain": [
       "[1] 15284814"
      ]
     },
     "metadata": {},
     "output_type": "display_data"
    }
   ],
   "source": [
    "sum(emp_sd2) / length(emp$SALARY)   # 모분산\n",
    "\n",
    "sum(emp_sd2) / (length(emp$SALARY)-1)   # 표본분산"
   ]
  },
  {
   "cell_type": "code",
   "execution_count": 185,
   "id": "3e0ccb3e-d2aa-4fcc-8a76-681376f90cad",
   "metadata": {},
   "outputs": [
    {
     "data": {
      "text/html": [
       "<style>\n",
       ".dl-inline {width: auto; margin:0; padding: 0}\n",
       ".dl-inline>dt, .dl-inline>dd {float: none; width: auto; display: inline-block}\n",
       ".dl-inline>dt::after {content: \":\\0020\"; padding-right: .5ex}\n",
       ".dl-inline>dt:not(:first-of-type) {padding-left: .5ex}\n",
       "</style><dl class=dl-inline><dt>0%</dt><dd>2100</dd><dt>25%</dt><dd>3100</dd><dt>50%</dt><dd>6200</dd><dt>75%</dt><dd>8900</dd><dt>100%</dt><dd>24000</dd></dl>\n"
      ],
      "text/latex": [
       "\\begin{description*}\n",
       "\\item[0\\textbackslash{}\\%] 2100\n",
       "\\item[25\\textbackslash{}\\%] 3100\n",
       "\\item[50\\textbackslash{}\\%] 6200\n",
       "\\item[75\\textbackslash{}\\%] 8900\n",
       "\\item[100\\textbackslash{}\\%] 24000\n",
       "\\end{description*}\n"
      ],
      "text/markdown": [
       "0%\n",
       ":   210025%\n",
       ":   310050%\n",
       ":   620075%\n",
       ":   8900100%\n",
       ":   24000\n",
       "\n"
      ],
      "text/plain": [
       "   0%   25%   50%   75%  100% \n",
       " 2100  3100  6200  8900 24000 "
      ]
     },
     "metadata": {},
     "output_type": "display_data"
    }
   ],
   "source": [
    "quantile(emp$SALARY)"
   ]
  },
  {
   "cell_type": "code",
   "execution_count": 186,
   "id": "5c4cd670-eb50-43ca-9281-6317007b54f0",
   "metadata": {},
   "outputs": [
    {
     "data": {
      "text/html": [
       "'6461.8'"
      ],
      "text/latex": [
       "'6461.8'"
      ],
      "text/markdown": [
       "'6461.8'"
      ],
      "text/plain": [
       "[1] \"6461.8\""
      ]
     },
     "metadata": {},
     "output_type": "display_data"
    },
    {
     "data": {
      "text/html": [
       "'3909.6'"
      ],
      "text/latex": [
       "'3909.6'"
      ],
      "text/markdown": [
       "'3909.6'"
      ],
      "text/plain": [
       "[1] \"3909.6\""
      ]
     },
     "metadata": {},
     "output_type": "display_data"
    },
    {
     "data": {
      "text/html": [
       "'15284813.7'"
      ],
      "text/latex": [
       "'15284813.7'"
      ],
      "text/markdown": [
       "'15284813.7'"
      ],
      "text/plain": [
       "[1] \"15284813.7\""
      ]
     },
     "metadata": {},
     "output_type": "display_data"
    }
   ],
   "source": [
    "sprintf('%.1f', mean(emp$SALARY))   # 평균\n",
    "sprintf('%.1f', sd(emp$SALARY))     # 분산\n",
    "sprintf('%.1f', var(emp$SALARY))    # 표준편차"
   ]
  },
  {
   "cell_type": "code",
   "execution_count": null,
   "id": "b3f71067-b2c2-4e31-bf05-41823cfca3ba",
   "metadata": {},
   "outputs": [],
   "source": []
  },
  {
   "cell_type": "code",
   "execution_count": null,
   "id": "9617bda5-fbaf-4f35-9811-d32817b7d618",
   "metadata": {},
   "outputs": [],
   "source": []
  },
  {
   "cell_type": "code",
   "execution_count": null,
   "id": "2dbffc90-348f-43d7-9901-0f3c13a106eb",
   "metadata": {},
   "outputs": [],
   "source": []
  },
  {
   "cell_type": "code",
   "execution_count": null,
   "id": "7628f0b7-b7bc-47e0-bd2a-e2a3ef479b75",
   "metadata": {},
   "outputs": [],
   "source": []
  },
  {
   "cell_type": "code",
   "execution_count": null,
   "id": "7468bf7c-faa4-46d3-bcb4-af7c249bcc46",
   "metadata": {},
   "outputs": [],
   "source": []
  },
  {
   "cell_type": "code",
   "execution_count": null,
   "id": "f90e9ae6-e186-4a69-b9cd-e9213a74dbec",
   "metadata": {},
   "outputs": [],
   "source": []
  },
  {
   "cell_type": "code",
   "execution_count": null,
   "id": "64da82fa-bb51-4dff-b986-e213c41950a6",
   "metadata": {},
   "outputs": [],
   "source": []
  },
  {
   "cell_type": "code",
   "execution_count": null,
   "id": "a5a19302-0591-4241-b12a-93222146a5b5",
   "metadata": {},
   "outputs": [],
   "source": []
  },
  {
   "cell_type": "code",
   "execution_count": null,
   "id": "0cbe9700-2f5a-49c0-bfc8-9b233e8277ce",
   "metadata": {},
   "outputs": [],
   "source": []
  },
  {
   "cell_type": "code",
   "execution_count": null,
   "id": "04bff7a7-8567-43b4-a38c-e7ae9dca97e4",
   "metadata": {},
   "outputs": [],
   "source": []
  },
  {
   "cell_type": "markdown",
   "id": "1fb47cc3-73ae-4075-913e-543024c992da",
   "metadata": {
    "tags": []
   },
   "source": [
    "# 교통사고 현황 데이터 기술통계2 (중심화 경향)"
   ]
  },
  {
   "cell_type": "code",
   "execution_count": 190,
   "id": "80fc6518-db5b-4929-8e47-0d93079432fd",
   "metadata": {},
   "outputs": [],
   "source": [
    "# 명목형 자료들 많기 때문에 (stringsAsFactors=F)를 사용X\n",
    "car = read.csv('accident2016.csv')"
   ]
  },
  {
   "cell_type": "code",
   "execution_count": 191,
   "id": "38b824fc-d2a2-4964-9620-97f78ff117e9",
   "metadata": {},
   "outputs": [
    {
     "name": "stdout",
     "output_type": "stream",
     "text": [
      "'data.frame':\t4119 obs. of  27 variables:\n",
      " $ 발생년               : int  2016 2016 2016 2016 2016 2016 2016 2016 2016 2016 ...\n",
      " $ 발생년월일시         : int  2016122320 2016122517 2016122519 2016122610 2016122819 2016111207 2016110919 2016111005 2016110711 2016110818 ...\n",
      " $ 발생분               : int  35 48 5 40 40 34 25 0 5 0 ...\n",
      " $ 주야                 : Factor w/ 2 levels \"야간\",\"주간\": 1 2 1 2 1 2 1 1 2 1 ...\n",
      " $ 요일                 : Factor w/ 7 levels \"금\",\"목\",\"수\",..: 1 5 5 4 3 6 3 2 4 7 ...\n",
      " $ 사망자수             : int  1 1 1 1 1 1 1 1 1 1 ...\n",
      " $ 사상자수             : int  1 1 1 1 1 1 1 1 1 1 ...\n",
      " $ 중상자수             : int  0 0 0 0 0 0 0 0 0 0 ...\n",
      " $ 경상자수             : int  0 0 0 0 0 0 0 0 0 0 ...\n",
      " $ 부상신고자수         : int  0 0 0 0 0 0 0 0 0 0 ...\n",
      " $ 발생지시도           : Factor w/ 17 levels \"강원\",\"경기\",..: 2 9 17 4 3 3 2 12 16 13 ...\n",
      " $ 발생지시군구         : Factor w/ 205 levels \"가평군\",\"강남구\",..: 26 38 172 12 171 9 190 86 132 103 ...\n",
      " $ 사고유형_대분류      : Factor w/ 3 levels \"차대사람\",\"차대차\",..: 1 1 1 1 1 1 1 1 3 1 ...\n",
      " $ 사고유형_중분류      : Factor w/ 12 levels \"공작물충돌\",\"기타\",..: 2 12 9 12 12 12 2 12 6 9 ...\n",
      " $ 사고유형             : Factor w/ 13 levels \"공작물충돌\",\"기타\",..: 2 13 11 13 13 13 2 13 7 11 ...\n",
      " $ 법규위반_대분류      : Factor w/ 1 level \"운전자법규위반\": 1 1 1 1 1 1 1 1 1 1 ...\n",
      " $ 법규위반             : Factor w/ 14 levels \"과속\",\"교차로 통행방법 위반\",..: 9 9 9 9 4 9 9 4 9 9 ...\n",
      " $ 도로형태_대분류      : Factor w/ 5 levels \"고가도로위\",\"교차로\",..: 2 4 4 4 4 4 4 4 4 4 ...\n",
      " $ 도로형태             : Factor w/ 10 levels \"고가도로위\",\"교량위\",..: 3 6 6 6 6 6 6 6 6 6 ...\n",
      " $ 당사자종별_1당_대분류: Factor w/ 10 levels \"건설기계\",\"농기계\",..: 4 4 10 5 4 1 4 4 1 4 ...\n",
      " $ 당사자종별_1당       : Factor w/ 10 levels \"건설기계\",\"경형\",..: 10 10 7 2 7 1 10 2 1 10 ...\n",
      " $ 당사자종별_2당_대분류: Factor w/ 12 levels \"\",\"건설기계\",..: 4 4 4 4 4 4 4 4 1 4 ...\n",
      " $ 당사자종별_2당       : Factor w/ 12 levels \"\",\"건설기계\",..: 6 6 6 6 6 6 6 6 1 6 ...\n",
      " $ 발생위치X_UTMK       : num  981731 945989 993981 1161153 1056276 ...\n",
      " $ 발생위치Y_UTMK       : num  1932086 1942347 1879534 1751026 1686645 ...\n",
      " $ 경도                 : num  127 127 127 129 128 ...\n",
      " $ 위도                 : num  37.4 37.5 36.9 35.7 35.2 ...\n"
     ]
    }
   ],
   "source": [
    "str(car)"
   ]
  },
  {
   "cell_type": "code",
   "execution_count": 192,
   "id": "1095217a-1a87-461f-98bd-98ade8335e11",
   "metadata": {},
   "outputs": [
    {
     "data": {
      "text/plain": [
       "     발생년      발생년월일시           발생분        주야      요일    \n",
       " Min.   :2016   Min.   :2.016e+09   Min.   : 0.00   야간:2072   금:666  \n",
       " 1st Qu.:2016   1st Qu.:2.016e+09   1st Qu.:10.00   주간:2047   목:596  \n",
       " Median :2016   Median :2.016e+09   Median :27.00               수:565  \n",
       " Mean   :2016   Mean   :2.016e+09   Mean   :26.94               월:584  \n",
       " 3rd Qu.:2016   3rd Qu.:2.016e+09   3rd Qu.:40.00               일:513  \n",
       " Max.   :2016   Max.   :2.016e+09   Max.   :59.00               토:635  \n",
       "                                                                화:560  \n",
       "    사망자수         사상자수         중상자수         경상자수      \n",
       " Min.   : 1.000   Min.   : 1.000   Min.   : 0.000   Min.   : 0.0000  \n",
       " 1st Qu.: 1.000   1st Qu.: 1.000   1st Qu.: 0.000   1st Qu.: 0.0000  \n",
       " Median : 1.000   Median : 1.000   Median : 0.000   Median : 0.0000  \n",
       " Mean   : 1.042   Mean   : 1.576   Mean   : 0.252   Mean   : 0.2595  \n",
       " 3rd Qu.: 1.000   3rd Qu.: 1.000   3rd Qu.: 0.000   3rd Qu.: 0.0000  \n",
       " Max.   :10.000   Max.   :67.000   Max.   :22.000   Max.   :62.0000  \n",
       "                                                                     \n",
       "  부상신고자수       발생지시도         발생지시군구  사고유형_대분류\n",
       " Min.   :0.00000   경기   : 749   서구        :  78   차대사람:1647  \n",
       " 1st Qu.:0.00000   경북   : 477   남구        :  76   차대차  :1646  \n",
       " Median :0.00000   충남   : 372   창원시(통합):  75   차량단독: 826  \n",
       " Mean   :0.02282   경남   : 359   청주시      :  74                  \n",
       " 3rd Qu.:0.00000   서울   : 342   북구        :  69                  \n",
       " Max.   :5.00000   전남   : 327   동구        :  58                  \n",
       "                   (Other):1493   (Other)     :3689                  \n",
       "     사고유형_중분류         사고유형          법규위반_대분류\n",
       " 횡단중      :1078   횡단중      :1078   운전자법규위반:4119  \n",
       " 기타        : 665   기타        : 665                        \n",
       " 측면직각충돌: 619   측면직각충돌: 619                        \n",
       " 전도전복    : 480   전도전복    : 480                        \n",
       " 추돌        : 436   진행중 추돌 : 436                        \n",
       " 정면충돌    : 323   정면충돌    : 323                        \n",
       " (Other)     : 518   (Other)     : 518                        \n",
       "                 법규위반      도로형태_대분류       도로형태   \n",
       " 안전운전 의무 불이행:2856   고가도로위:  14   기타단일로:2427  \n",
       " 신호위반            : 333   교차로    :1285   교차로내  : 817  \n",
       " 중앙선 침범         : 314   기타/불명 : 103   교차로부근: 468  \n",
       " 과속                : 178   단일로    :2704   횡단보도상: 170  \n",
       " 보행자 보호의무 위반: 174   지하도로내:  13   기타/불명 : 103  \n",
       " 교차로 통행방법 위반:  68                     교량위    :  49  \n",
       " (Other)             : 196                     (Other)   :  85  \n",
       "      당사자종별_1당_대분류          당사자종별_1당 당사자종별_2당_대분류\n",
       " 승용차          :2023      소형            :1265   보행자 :1642         \n",
       " 화물차          : 914      중형            :1206          : 825         \n",
       " 이륜차          : 415      경형            : 660   승용차 : 548         \n",
       " 승합차          : 261      대형            : 478   화물차 : 408         \n",
       " 원동기장치자전거: 184      원동기장치자전거: 184   이륜차 : 210         \n",
       " 자전거          : 113      자전거          : 113   자전거 : 148         \n",
       " (Other)         : 209      (Other)         : 213   (Other): 338         \n",
       " 당사자종별_2당 발생위치X_UTMK    발생위치Y_UTMK         경도      \n",
       " 보행자 :1642   Min.   :      0   Min.   :      0   Min.   :118.0  \n",
       "        : 825   1st Qu.: 946505   1st Qu.:1725992   1st Qu.:126.9  \n",
       " 소형   : 465   Median : 977012   Median :1823659   Median :127.2  \n",
       " 중형   : 385   Mean   :1007249   Mean   :1818670   Mean   :127.6  \n",
       " 대형   : 239   3rd Qu.:1080134   3rd Qu.:1930029   3rd Qu.:128.4  \n",
       " 경형   : 195   Max.   :1296967   Max.   :2053766   Max.   :130.9  \n",
       " (Other): 368                                                      \n",
       "      위도      \n",
       " Min.   :19.69  \n",
       " 1st Qu.:35.52  \n",
       " Median :36.41  \n",
       " Mean   :36.36  \n",
       " 3rd Qu.:37.37  \n",
       " Max.   :38.48  \n",
       "                "
      ]
     },
     "metadata": {},
     "output_type": "display_data"
    }
   ],
   "source": [
    "summary(car)"
   ]
  },
  {
   "cell_type": "code",
   "execution_count": 200,
   "id": "1d3e11b4-1ce8-41f6-b71f-90b06bd5dc67",
   "metadata": {},
   "outputs": [
    {
     "data": {
      "text/plain": [
       "\n",
       "야간 주간 \n",
       "2072 2047 "
      ]
     },
     "metadata": {},
     "output_type": "display_data"
    }
   ],
   "source": [
    "# 주야별 교통사고 건수\n",
    "table(car$주야)"
   ]
  },
  {
   "cell_type": "code",
   "execution_count": 205,
   "id": "e3b6415e-3b8b-414d-ab88-9d9ff5206cd8",
   "metadata": {},
   "outputs": [
    {
     "data": {
      "text/plain": [
       "\n",
       " 금  목  수  월  일  토  화 \n",
       "666 596 565 584 513 635 560 "
      ]
     },
     "metadata": {},
     "output_type": "display_data"
    }
   ],
   "source": [
    "# 요일별 교통사고 건수\n",
    "table(car$요일)"
   ]
  },
  {
   "cell_type": "code",
   "execution_count": 209,
   "id": "6ffdc9dc-a2af-4c34-ba82-e2bd7b4e3747",
   "metadata": {},
   "outputs": [
    {
     "data": {
      "text/plain": [
       "\n",
       "경기 경북 충남 경남 서울 전남 전북 충북 강원 부산 대구 인천 대전 광주 제주 울산 \n",
       " 749  477  372  359  342  327  275  221  206  153  150  137   94   85   77   70 \n",
       "세종 \n",
       "  25 "
      ]
     },
     "metadata": {},
     "output_type": "display_data"
    }
   ],
   "source": [
    "# 발생지시도 교통사고 건수\n",
    "sort(table(car$발생지시도), decreasing=T)"
   ]
  },
  {
   "cell_type": "code",
   "execution_count": 210,
   "id": "cd461415-42c9-4da9-9adf-be55525c3843",
   "metadata": {},
   "outputs": [
    {
     "data": {
      "text/plain": [
       "\n",
       "차대사람   차대차 차량단독 \n",
       "    1647     1646      826 "
      ]
     },
     "metadata": {},
     "output_type": "display_data"
    }
   ],
   "source": [
    "# 사고유형_대분류 교통사고 건수\n",
    "sort(table(car$사고유형_대분류),decreasing=T)"
   ]
  },
  {
   "cell_type": "code",
   "execution_count": 211,
   "id": "1c46e5d2-7210-4b8e-bb29-76547d958201",
   "metadata": {},
   "outputs": [
    {
     "data": {
      "text/plain": [
       "\n",
       "              횡단중                 기타         측면직각충돌 \n",
       "                1078                  665                  619 \n",
       "            전도전복          진행중 추돌             정면충돌 \n",
       "                 480                  436                  323 \n",
       "          공작물충돌           차도통행중 길가장자리구역통행중 \n",
       "                 230                  146                   65 \n",
       "       도로이탈 추락           보도통행중        도로이탈 기타 \n",
       "                  30                   30                   16 \n",
       "    주/정차차량 충돌 \n",
       "                   1 "
      ]
     },
     "metadata": {},
     "output_type": "display_data"
    }
   ],
   "source": [
    "# 사고유형 교통사고 건수\n",
    "sort(table(car$사고유형),decreasing=T)"
   ]
  },
  {
   "cell_type": "code",
   "execution_count": 212,
   "id": "ce5700e5-2753-4cae-bfce-7c4ba4a20144",
   "metadata": {},
   "outputs": [
    {
     "data": {
      "text/plain": [
       "\n",
       "       안전운전 의무 불이행                    신호위반 \n",
       "                       2856                         333 \n",
       "                중앙선 침범                        과속 \n",
       "                        314                         178 \n",
       "       보행자 보호의무 위반        교차로 통행방법 위반 \n",
       "                        174                          68 \n",
       "            안전거리 미확보        기타(운전자법규위반) \n",
       "                         68                          44 \n",
       "직진 및 우회전차의 통행방해                 부당한 회전 \n",
       "                         37                          28 \n",
       "    차로위반(진로변경 위반)           앞지르기 금지위반 \n",
       "                         12                           3 \n",
       "       서행 및 일시정지위반           앞지르기 방법위반 \n",
       "                          2                           2 "
      ]
     },
     "metadata": {},
     "output_type": "display_data"
    }
   ],
   "source": [
    "# 법규위반 교통사고 건수\n",
    "sort(table(car$법규위반),decreasing=T)"
   ]
  },
  {
   "cell_type": "code",
   "execution_count": 213,
   "id": "8bbe3a2d-de16-41ba-bd82-492401fed759",
   "metadata": {},
   "outputs": [
    {
     "data": {
      "text/plain": [
       "\n",
       "  기타단일로     교차로내   교차로부근   횡단보도상    기타/불명       교량위 \n",
       "        2427          817          468          170          103           49 \n",
       "횡단보도부근       터널안   고가도로위   지하도로내 \n",
       "          37           21           14           13 "
      ]
     },
     "metadata": {},
     "output_type": "display_data"
    }
   ],
   "source": [
    "# 도로형태 교통사고 건수\n",
    "sort(table(car$도로형태),decreasing=T)"
   ]
  },
  {
   "cell_type": "code",
   "execution_count": 214,
   "id": "b7bd150e-09d6-4870-ac65-cb6b6864f6a9",
   "metadata": {},
   "outputs": [
    {
     "data": {
      "text/plain": [
       "\n",
       "  기타단일로     교차로내   교차로부근   횡단보도상    기타/불명       교량위 \n",
       "        2427          817          468          170          103           49 \n",
       "횡단보도부근       터널안   고가도로위   지하도로내 \n",
       "          37           21           14           13 "
      ]
     },
     "metadata": {},
     "output_type": "display_data"
    }
   ],
   "source": [
    "# 도로형태 교통사고 건수\n",
    "sort(table(car$도로형태),decreasing=T)"
   ]
  },
  {
   "cell_type": "code",
   "execution_count": 215,
   "id": "08a3e3a0-8bfc-4c27-8dc9-a5160fa23040",
   "metadata": {},
   "outputs": [
    {
     "data": {
      "text/plain": [
       "\n",
       "            소형             중형             경형             대형 \n",
       "            1265             1206              660              478 \n",
       "원동기장치자전거           자전거         건설기계           농기계 \n",
       "             184              113               94               72 \n",
       "          사발이             불명 \n",
       "              45                2 "
      ]
     },
     "metadata": {},
     "output_type": "display_data"
    }
   ],
   "source": [
    "# 당사자종별_1당교통사고 건수\n",
    "sort(table(car$당사자종별_1당),decreasing=T)"
   ]
  },
  {
   "cell_type": "markdown",
   "id": "8f25854d-594b-46af-87bd-88caa538e6e8",
   "metadata": {},
   "source": [
    "# 교통사고 현황 데이터 기술통계2 (분산화 경향)\n",
    "+ 데이터가 주로 범주형으로 구성되어 있기때문에\n",
    "+ 조건검색 후 데이터를 선별하지 않는 이상 적절한 분석은 의미없음"
   ]
  },
  {
   "cell_type": "code",
   "execution_count": null,
   "id": "9bd8f387-9938-488d-a68a-90074658e81b",
   "metadata": {},
   "outputs": [],
   "source": []
  },
  {
   "cell_type": "code",
   "execution_count": null,
   "id": "75cb500e-5240-45cc-91ee-38e335033325",
   "metadata": {},
   "outputs": [],
   "source": []
  },
  {
   "cell_type": "code",
   "execution_count": null,
   "id": "e1aba3fc-20d6-45d6-8151-c5932f334e36",
   "metadata": {},
   "outputs": [],
   "source": []
  },
  {
   "cell_type": "code",
   "execution_count": null,
   "id": "cb1a67a1-8c31-4865-acf4-4becc117f39c",
   "metadata": {},
   "outputs": [],
   "source": []
  }
 ],
 "metadata": {
  "kernelspec": {
   "display_name": "R",
   "language": "R",
   "name": "ir"
  },
  "language_info": {
   "codemirror_mode": "r",
   "file_extension": ".r",
   "mimetype": "text/x-r-source",
   "name": "R",
   "pygments_lexer": "r",
   "version": "3.6.3"
  }
 },
 "nbformat": 4,
 "nbformat_minor": 5
}
