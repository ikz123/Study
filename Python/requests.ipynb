{
 "cells": [
  {
   "cell_type": "markdown",
   "id": "5ea65291-a3e3-4f2c-86f8-e342b410d298",
   "metadata": {
    "jp-MarkdownHeadingCollapsed": true,
    "tags": []
   },
   "source": [
    "## 크롤링crawling  \n",
    "*  웹 상에 존재하는 다양한 컨텐츠를 수집하는 행위\n",
    "*  html 문서를 통채로 읽어서 내용을 분석한 뒤 필요한 데이터만 골라서 추출하는 것이 주된 작업"
   ]
  },
  {
   "cell_type": "markdown",
   "id": "816d9f29-6c4f-4e33-ae13-1438295c8802",
   "metadata": {},
   "source": [
    "## 파이썬으로 크롤링하기\n",
    "* urllib/urllib2 : 사용하기 무난, 코드 단순, 내장패키지\n",
    "* requests : 따로 설치, urllib보다 고급기능 제공\n",
    "* lxml : 웹을 통해 읽어 들인 문서 내용 분석  \n",
    "         문서내에서 필요한 데이터를 추출하는데 사용"
   ]
  },
  {
   "cell_type": "code",
   "execution_count": 1,
   "id": "06abdd6c-a35b-4c39-9dcb-189681e24cc3",
   "metadata": {},
   "outputs": [],
   "source": [
    "# 관련 패키지 설치 (requests, lxml, cssselect)"
   ]
  },
  {
   "cell_type": "code",
   "execution_count": 2,
   "id": "0f677b14-f88f-455b-9aa3-4b8c5518662f",
   "metadata": {},
   "outputs": [],
   "source": [
    "import requests\n",
    "import lxml.html\n",
    "from lxml.cssselect import CSSSelector"
   ]
  },
  {
   "cell_type": "code",
   "execution_count": 3,
   "id": "c48e71ee-4be0-4da7-980d-1d2fee79773e",
   "metadata": {},
   "outputs": [],
   "source": [
    "# 한빛미디어 홈페이지(hanb.co.kr)의 베스트셀러 페이지의\n",
    "# 도서정보(이미지,도서명,저자,가격)을 수집하세요.\n",
    "url = 'https://www.hanbit.co.kr/store/books/bestseller_list.html'"
   ]
  },
  {
   "cell_type": "code",
   "execution_count": 4,
   "id": "2d46d65f-1ab2-4840-aa27-50b4d8b5b268",
   "metadata": {},
   "outputs": [],
   "source": [
    "# 지정한 url의 문서를 읽어옴 : get(주소, 옵선)\n",
    "res = requests.get(url)"
   ]
  },
  {
   "cell_type": "code",
   "execution_count": 5,
   "id": "35ed5e7d-7cc8-4b70-80ba-ac11c5319c3e",
   "metadata": {},
   "outputs": [
    {
     "name": "stdout",
     "output_type": "stream",
     "text": [
      "200 UTF-8 text/html; charset=UTF-8\n"
     ]
    }
   ],
   "source": [
    "# requests 패키지 실행후 유용한 변수로 결과 확인\n",
    "# http 응답코드, 응답으로 받은 컨텐츠의 인코딩 및\n",
    "# 컨텐츠 유형 확인\n",
    "print(res.status_code, res.encoding,\n",
    "      res.headers['content-type'])"
   ]
  },
  {
   "cell_type": "code",
   "execution_count": 6,
   "id": "5c98b1a8-79ca-4fc5-b0bc-2dc543942c48",
   "metadata": {},
   "outputs": [
    {
     "data": {
      "text/plain": [
       "'<!DOCTYPE html>\\r\\n<html lang=\"ko\">\\r\\n<head>\\r\\n<!--[if lte IE 8]>\\r\\n<script>\\r\\n  location.replace(\\'/support/explorer_upgrade.html\\');\\r\\n</script>\\r\\n<![endif]-->\\r\\n<meta charset=\"utf-8\"/>\\r\\n<title>한빛출판네트워크</title>\\r\\n<link rel=\"shortcut icon\" href=\"https://www.hanbit.co.kr/images/common/hanbit.ico\"> \\r\\n<meta http-equiv=\"X-UA-Compatible\" content=\"IE=Edge\" />\\r\\n<meta property=\"og:type\" content=\"website\"/>\\r\\n<meta property=\"og:title\" content=\"한빛출판네트워크\"/>\\r\\n<meta property=\"og:description\" content=\"더 넓은 세상, 더 나은 미래를 위'"
      ]
     },
     "execution_count": 6,
     "metadata": {},
     "output_type": "execute_result"
    }
   ],
   "source": [
    "# 응답으로 받은 컨텐츠 확인 : text, content\n",
    "# 보통은 text 를 많이씀 ( content 를 사용하는 경우 한글이 깨지는 경우가 생길 수 있음 )\n",
    "res.text[:500]                # 문자형으로 출력"
   ]
  },
  {
   "cell_type": "code",
   "execution_count": 7,
   "id": "a0c522d1-74c7-48b0-875d-1629e4462dd7",
   "metadata": {},
   "outputs": [
    {
     "data": {
      "text/plain": [
       "b'<!DOCTYPE html>\\r\\n<html lang=\"ko\">\\r\\n<head>\\r\\n<!--[if lte IE 8]>\\r\\n<script>\\r\\n  location.replace(\\'/support/explorer_upgrade.html\\');\\r\\n</script>\\r\\n<![endif]-->\\r\\n<meta charset=\"utf-8\"/>\\r\\n<title>\\xed\\x95\\x9c\\xeb\\xb9\\x9b\\xec\\xb6\\x9c\\xed\\x8c\\x90\\xeb\\x84\\xa4\\xed\\x8a\\xb8\\xec\\x9b\\x8c\\xed\\x81\\xac</title>\\r\\n<link rel=\"shortcut icon\" href=\"https://www.hanbit.co.kr/images/common/hanbit.ico\"> \\r\\n<meta http-equiv=\"X-UA-Compatible\" content=\"IE=Edge\" />\\r\\n<meta property=\"og:type\" content=\"website\"/>\\r\\n<meta property=\"og:title\" content=\"\\xed\\x95\\x9c\\xeb\\xb9\\x9b\\xec\\xb6\\x9c\\xed\\x8c\\x90\\xeb\\x84\\xa4\\xed\\x8a\\xb8\\xec\\x9b\\x8c\\xed\\x81\\xac\"/>\\r\\n<meta property=\"og:descripti'"
      ]
     },
     "execution_count": 7,
     "metadata": {},
     "output_type": "execute_result"
    }
   ],
   "source": [
    "res.content[:500]             # byte(유니코드)로 출력"
   ]
  },
  {
   "cell_type": "code",
   "execution_count": 8,
   "id": "32f0f2ea-ef26-4494-a0ed-1e1dd79b5125",
   "metadata": {},
   "outputs": [],
   "source": [
    "# 스크래핑한 결과를 분석해서 필요한 데이터를\n",
    "# 추출하기 위해 따로 변수로 저장\n",
    "html = res.text "
   ]
  },
  {
   "cell_type": "code",
   "execution_count": 9,
   "id": "62441050-29fe-47ce-b2f1-2b98dd3db498",
   "metadata": {},
   "outputs": [],
   "source": [
    "# html 문서에 저장된 문서 내 요소들을 탐색하기 편하도록 계층구조DOM로 생성\n",
    "root = lxml.html.fromstring(html)"
   ]
  },
  {
   "cell_type": "code",
   "execution_count": 10,
   "id": "dd64b016-a349-40fe-8ca2-3c64f899fdf1",
   "metadata": {},
   "outputs": [],
   "source": [
    "# 추출한 제목을 저장하기 위해 리스트 선언\n",
    "titles = []\n",
    "authors = []\n",
    "prices = []\n",
    "thumbs = []"
   ]
  },
  {
   "cell_type": "code",
   "execution_count": 11,
   "id": "16ff90af-f014-47e4-9df3-8a876981f231",
   "metadata": {},
   "outputs": [],
   "source": [
    "# 모든 p 태그들 중에서 클래스명이 book_tit인 p태그(들)\n",
    "# 찾으후 하위 태그가 a인 요소들을 선택한후 \n",
    "# 텍스트 요소를 추출함\n",
    "for title in root.cssselect('p.book_tit a'):\n",
    "    titles.append(title.text_content())\n",
    "    # print(title.text_content())"
   ]
  },
  {
   "cell_type": "code",
   "execution_count": 12,
   "id": "185d8998-a57f-47f3-98ed-8e7b66a5095a",
   "metadata": {},
   "outputs": [],
   "source": [
    "for author in root.cssselect('p.book_writer'):\n",
    "    # print(author.text_content())\n",
    "    authors.append(author.text_content())"
   ]
  },
  {
   "cell_type": "code",
   "execution_count": 13,
   "id": "d17e562d-f863-4293-8844-57598fdaa058",
   "metadata": {},
   "outputs": [],
   "source": [
    "# 도서 가격 추출시 ',' 와 '원'은 제거한후 리스트에 저장 해야함\n",
    "for price in root.cssselect('span.price'):\n",
    "    # print(price.text_content())\n",
    "    prices.append(price.text_content())"
   ]
  },
  {
   "cell_type": "code",
   "execution_count": 14,
   "id": "8a7d775f-f43e-4f93-b174-cc8f9c4a8dd4",
   "metadata": {},
   "outputs": [],
   "source": [
    "for thumb in root.cssselect('img.thumb'):\n",
    "    # print(thumb.get('src'))\n",
    "    thumbs.append(thumb.get('src'))"
   ]
  },
  {
   "cell_type": "code",
   "execution_count": 15,
   "id": "bd4a3e82-5258-485a-b6a2-bca0b60c01c5",
   "metadata": {},
   "outputs": [
    {
     "name": "stdout",
     "output_type": "stream",
     "text": [
      "\"혼자 공부하는 머신러닝+딥러닝\",\"박해선 \", 23,400원, /data/books/B2002963743_m.jpg\n",
      "\n",
      "\"제대로 알고 쓰는 논문 통계분석 : SPSS & AMOS (개정증보판)\",\"노경섭 \", 28,000원, /data/books/B3589179269_m.jpg\n",
      "\n",
      "\"비겁한 돈\",\"황현희 , 제갈현열 \", 14,400원, /data/books/B7543250605_m.jpg\n",
      "\n",
      "\"365 부모 말하기 연습 일력(스프링북)\",\"박재연 , 공인영 \", 16,200원, /data/books/B5051207171_m.jpg\n",
      "\n",
      "\"1000개 숨은그림찾기 바다 동물\",\"이한이 \", 7,200원, /data/books/B7197264292_m.jpg\n",
      "\n",
      "\"유지보수하기 어렵게 코딩하는 방법: 평생 개발자로 먹고 살 수 있다\",\"로에디 그린 \", 0원, /data/ebook/E2375873090_m.jpg\n",
      "\n",
      "\"회사에서 바로 통하는  실무 엑셀+파워포인트+워드&한글(개정판)\",\"전미진 , 이화진 , 신면철 \", 19,800원, /data/books/B6634694521_m.jpg\n",
      "\n",
      "\"혼자 공부하는 파이썬\",\"윤인성 \", 16,200원, /data/books/B2587075793_m.jpg\n",
      "\n",
      "\"이것이 취업을 위한 코딩 테스트다 with 파이썬\",\"나동빈 \", 30,600원, /data/books/B8945183661_m.jpg\n",
      "\n",
      "\"한번에 통과하는 논문 : SPSS 결과표 작성과 해석 방법\",\"히든그레이스 논문통계팀 \", 23,000원, /data/books/B6318137900_m.jpg\n",
      "\n",
      "\"프리드버그 선형대수학\",\"스티븐 H. 프리드버그 , 아놀드 J. 인셀 , 로렌스 E. 스펜스 \", 35,000원, /data/books/B1710834745_m.jpg\n",
      "\n",
      "\"혼자 공부하는 C 언어\",\"서현우 \", 21,600원, /data/books/B1854329839_m.jpg\n",
      "\n",
      "\"심리 읽어드립니다\",\"김경일 , 사피엔스 스튜디오 \", 15,750원, /data/books/B8953951220_m.jpg\n",
      "\n",
      "\"눈 떠보니 선진국\",\"박태웅 \", 14,850원, /data/books/B7123382765_m.jpg\n",
      "\n",
      "\"일잘러의 비밀, 구글 스프레드시트 제대로 파헤치기\",\"강남석 \", 25,200원, /data/books/B7461753617_m.jpg\n",
      "\n"
     ]
    }
   ],
   "source": [
    "# 추출한 데이터들을 csv 형식 재작성\n",
    "# 혼자 공부하는 파이썬, 윤인성, 16200, 이미지경로 \n",
    "data = ''\n",
    "for i in range(len(titles)):\n",
    "    print(f'\"{titles[i]}\",\"{authors[i]}\", {prices[i]}, {thumbs[i]}\\n')\n",
    "    data += f'\"{titles[i]}\",\"{authors[i]}\", {prices[i]}, {thumbs[i]}\\n'\n"
   ]
  },
  {
   "cell_type": "code",
   "execution_count": 16,
   "id": "126ed87d-425d-4f09-ac5b-269a5a849c46",
   "metadata": {},
   "outputs": [],
   "source": [
    "# 추출한 데이터들을 csv 파일로 저장\n",
    "hdr = 'title,author,price,thumb\\n'\n",
    "with open('books.csv', 'w') as f:\n",
    "    f.write(hdr)\n",
    "    f.write(data)"
   ]
  },
  {
   "cell_type": "code",
   "execution_count": 17,
   "id": "f1652465-e4c6-4f76-9bca-027a646084cc",
   "metadata": {},
   "outputs": [],
   "source": [
    "# 한빛미디어 홈페이지의 새로나온책 페이지의 \n",
    "# 도서정보(이미지,도서명,저자,가격)를 수집하세요 \n",
    "# 단, 1~3페이지까지의 도서를 대상으로 추출"
   ]
  },
  {
   "cell_type": "code",
   "execution_count": 18,
   "id": "1658aa0c-afb8-476e-925f-374cc012fb23",
   "metadata": {},
   "outputs": [],
   "source": [
    "# 한빛미디어 홈페이지의 전체도서목록 페이지의 \n",
    "# 도서정보(브랜드,도서명,저자,발행일,가격)를 수집해보기 "
   ]
  },
  {
   "cell_type": "code",
   "execution_count": 19,
   "id": "88b66412-8407-4ac1-aff5-48e8e70e81db",
   "metadata": {},
   "outputs": [],
   "source": [
    "url = 'https://www.hanbit.co.kr/store/books/full_book_list.html'"
   ]
  },
  {
   "cell_type": "code",
   "execution_count": 20,
   "id": "9fa51c25-3659-43dc-8494-1d8c2af75d2c",
   "metadata": {},
   "outputs": [],
   "source": [
    "res = requests.get(url)\n",
    "html = res.text\n",
    "root = lxml.html.fromstring(html)"
   ]
  },
  {
   "cell_type": "code",
   "execution_count": 21,
   "id": "2e83634d-d13b-4f98-9ba3-1a4ab0bb253c",
   "metadata": {},
   "outputs": [],
   "source": [
    "brands = []\n",
    "titles = []\n",
    "writers = []\n",
    "pubdates = []\n",
    "prices = []"
   ]
  },
  {
   "cell_type": "code",
   "execution_count": 22,
   "id": "a90c15bd-b306-43df-80e4-93f800f8effe",
   "metadata": {},
   "outputs": [
    {
     "name": "stdout",
     "output_type": "stream",
     "text": [
      "한빛미디어\n",
      "한빛미디어\n",
      "한빛라이프\n",
      "한빛비즈\n",
      "한빛미디어\n",
      "한빛미디어\n",
      "한빛에듀\n",
      "한빛아카데미\n",
      "한빛아카데미\n",
      "한빛아카데미\n",
      "한빛아카데미\n",
      "한빛아카데미\n",
      "한빛아카데미\n",
      "한빛미디어\n",
      "한빛미디어\n",
      "한빛미디어\n",
      "한빛미디어\n",
      "한빛아카데미\n",
      "한빛아카데미\n",
      "한빛라이프\n",
      "한빛비즈\n",
      "한빛아카데미\n",
      "한빛미디어\n",
      "한빛아카데미\n",
      "한빛미디어\n",
      "한빛미디어\n",
      "한빛미디어\n",
      "한빛미디어\n",
      "한빛라이프\n",
      "한빛비즈\n",
      "한빛미디어\n",
      "한빛비즈\n",
      "한빛라이프\n",
      "한빛미디어\n",
      "한빛아카데미\n",
      "한빛미디어\n",
      "한빛비즈\n",
      "한빛라이프\n",
      "한빛미디어\n",
      "한빛미디어\n",
      "한빛비즈\n",
      "한빛라이프\n",
      "한빛비즈\n",
      "한빛미디어\n",
      "한빛라이프\n",
      "한빛미디어\n",
      "한빛에듀\n",
      "한빛에듀\n",
      "한빛에듀\n",
      "한빛미디어\n"
     ]
    }
   ],
   "source": [
    "# css선택자가 요소마다 다름\n",
    "# 이런 경우 이름을 요소로 선택하는 것보다는 \n",
    "# 요소의 위치를 선택자로 사용해서 요소를 선택하는 것이 좋음 \n",
    "# for brand in root.cssselect('td.brd_m'): \n",
    "# 모든 td태그들 중에서 첫번째 td태그(들)를 선택함 \n",
    "for brand in root.cssselect('table.tbl_type_list td:first_child'):\n",
    "    print(brand.text_content())\n",
    "    #brands.append(brand.get('src'))"
   ]
  },
  {
   "cell_type": "code",
   "execution_count": 23,
   "id": "5259809b-7f5e-4f8e-b057-939023c11437",
   "metadata": {},
   "outputs": [
    {
     "name": "stdout",
     "output_type": "stream",
     "text": [
      "혼자 공부하는 R 데이터 분석\n",
      "리버스 엔지니어링 기드라 실전 가이드\n",
      "초등 매일 독서의 힘\n",
      "저는 주식투자가 처음인데요(기본편 2022년 개정판)\n",
      "맛있는 디자인 포토샵&일러스트레이터 CC 2022\n",
      "파워포인트 디자인 실무 강의 with 신프로\n",
      "1학년 한글 떼기\n",
      "IT CookBook, C 언어 for Beginner 4판\n",
      "IT CookBook, 파이썬 for Beginner(3판)\n",
      "IT CookBook, 엑셀과 파워포인트 2019\n",
      "IT CookBook, 자바스크립트 프로그래밍 입문(2판)\n",
      "IT CookBook, 난생처음 C 언어 프로그래밍\n",
      "IT CookBook, 데이터 과학을 위한 파이썬 머신러닝\n",
      "SRE를 위한 시스템 설계와 구축\n",
      "AI로 일하는 기술\n",
      "이것이 안드로이드다 with 코틀린(3판)\n",
      "팀장부터 CEO까지 알아야 할 기업 정보보안 가이드\n",
      "가상현실의 이해\n",
      "기본 재무관리(제5판)\n",
      "세밀화로 보는 멸종 동물 도감\n",
      "저는 주식투자가 처음인데요(투자전략편 2022년 개정판)\n",
      "(개발자에게 필요 없는 수학은 없다) 프로그래머를 위한 수학\n",
      "금융 전략을 위한 머신러닝\n",
      "STEM CookBook, 컴퓨팅 사고력을 키우는 이산수학(3판)\n",
      "그래프QL 인 액션\n",
      "비전 시스템을 위한 딥러닝\n",
      "무던한 개발자를 위한 모던한 자바스크립트\n",
      "소문난 명강의 : 오준석의 안드로이드 생존코딩_코틀린 편(2판)\n",
      "하루 한 장 초등과학 365\n",
      "다시, 배우다\n",
      "당당한 디자인 결정을 위한 9가지 방법\n",
      "슈퍼 석세스\n",
      "365 부모 말하기 연습 일력(스프링북)\n",
      "엑셀 매크로&VBA 업무 공략집\n",
      "공학도를 위한 수치해석(8판)\n",
      "데이터 과학자 되는 법\n",
      "돈 되는 기획\n",
      "초등 어휘력이 공부력이다\n",
      "빠르게 찾아 바로 적용하는 엑셀 에센스 사전 100\n",
      "스토리텔링 우동이즘의 잘 팔리는 웹툰, 웹소설 이야기 만들기\n",
      "만화로 배우는 의학의 역사(개정판)\n",
      "중학교 입학 가이드\n",
      "비겁한 돈\n",
      "보고서 작성 실무 강의(개정판)\n",
      "나도 영문 손글씨 잘 쓰면 소원이 없겠네\n",
      "구글 BERT의 정석\n",
      "1000개 숨은그림찾기 보물찾기 : 찾아도 찾아도 끝판왕\n",
      "1000개 숨은그림찾기 탈것 : 찾아도 찾아도 끝판왕\n",
      "1000개 숨은그림찾기 몬스터 : 찾아도 찾아도 끝판왕\n",
      "머신러닝 디자인 패턴\n"
     ]
    }
   ],
   "source": [
    "for title in root.cssselect('td.left a'):\n",
    "    print(title.text_content())\n",
    "    #.append(thumb.get('src'))"
   ]
  },
  {
   "cell_type": "code",
   "execution_count": 24,
   "id": "d8007a5c-95f2-40a5-bf67-db092e87b288",
   "metadata": {},
   "outputs": [
    {
     "name": "stdout",
     "output_type": "stream",
     "text": [
      "강전희 외 1명  \n",
      "나카지마 쇼타 외 3명  \n",
      "이은경   \n",
      "강병욱   \n",
      "빨간고래(박정아) 외 1명  \n",
      "신프로(신강식)   \n",
      "하유정 외 1명  \n",
      "우재남   \n",
      "우재남   \n",
      "김지연   \n",
      "윤인성   \n",
      "김화수   \n",
      "최성철   \n",
      "헤더 애드킨스 외 5명  \n",
      "장동인   \n",
      "고돈호   \n",
      "강은성   \n",
      "송은지   \n",
      "Jonathan Berk 외 2명  \n",
      "라데크 말리 외 2명  \n",
      "강병욱   \n",
      "폴 올랜드   \n",
      "하리옴 탓샛 외 2명  \n",
      "박주미   \n",
      "사메르 부나   \n",
      "모하메드 엘겐디   \n",
      "카이 호스트만   \n",
      "오준석   \n",
      "치바 가즈요시   \n",
      "폴 김   \n",
      "톰 그리버   \n",
      "댄 페냐   \n",
      "박재연 외 1명  \n",
      "최준선   \n",
      "Steven C.Chapra 외 1명  \n",
      "에밀리 로빈슨 외 1명  \n",
      "김도균   \n",
      "박명선   \n",
      "한은숙   \n",
      "우동이즘(이동우)   \n",
      "장 노엘 파비아니 외 3명  \n",
      "배혜림   \n",
      "황현희 외 1명  \n",
      "홍장표   \n",
      "윤정희(리제 캘리그라피)   \n",
      "수다르산 라비찬디란   \n",
      "전진희   \n",
      "이한이   \n",
      "김확실   \n",
      "발리아파 락슈마난 외 2명  \n"
     ]
    }
   ],
   "source": [
    "# 동일한 css 선택자가 여러 요소에 사용됨\n",
    "# for writer in root.cssselect('td.left'):\n",
    "for writer in root.cssselect('td:nth-child(3)'):\n",
    "    print(writer.text_content())\n",
    "    #.append(thumb.get('src'))"
   ]
  },
  {
   "cell_type": "code",
   "execution_count": 25,
   "id": "26be673c-9ec6-4f75-bc01-74b2689fc1fd",
   "metadata": {},
   "outputs": [
    {
     "name": "stdout",
     "output_type": "stream",
     "text": [
      "2022-01-17\n",
      "2022-01-10\n",
      "2022-01-10\n",
      "2022-01-10\n",
      "2022-01-07\n",
      "2022-01-05\n",
      "2022-01-05\n",
      "2022-01-03\n",
      "2022-01-03\n",
      "2022-01-03\n",
      "2022-01-03\n",
      "2022-01-03\n",
      "2022-01-03\n",
      "2022-01-03\n",
      "2022-01-03\n",
      "2022-01-03\n",
      "2022-01-03\n",
      "2022-01-03\n",
      "2021-12-31\n",
      "2021-12-30\n",
      "2021-12-30\n",
      "2021-12-29\n",
      "2021-12-27\n",
      "2021-12-26\n",
      "2021-12-24\n",
      "2021-12-20\n",
      "2021-12-20\n",
      "2021-12-17\n",
      "2021-12-14\n",
      "2021-12-10\n",
      "2021-12-10\n",
      "2021-12-03\n",
      "2021-12-01\n",
      "2021-11-30\n",
      "2021-11-30\n",
      "2021-11-26\n",
      "2021-11-26\n",
      "2021-11-25\n",
      "2021-11-25\n",
      "2021-11-15\n",
      "2021-11-15\n",
      "2021-11-11\n",
      "2021-11-08\n",
      "2021-11-08\n",
      "2021-11-05\n",
      "2021-11-03\n",
      "2021-11-02\n",
      "2021-11-02\n",
      "2021-11-02\n",
      "2021-11-01\n"
     ]
    }
   ],
   "source": [
    "# 요소에 css 선택자가 없음\n",
    "for pubdate in root.cssselect('td:nth-child(4)'):\n",
    "    print(pubdate.text_content())\n",
    "    #.append(thumb.get('src'))"
   ]
  },
  {
   "cell_type": "code",
   "execution_count": 26,
   "id": "5b9c2020-10c0-4af5-8cc5-b36dc4a08fab",
   "metadata": {},
   "outputs": [
    {
     "name": "stdout",
     "output_type": "stream",
     "text": [
      "['2022-01-17', '2022-01-10', '2022-01-10', '2022-01-10', '2022-01-07', '2022-01-05', '2022-01-05', '2022-01-03', '2022-01-03', '2022-01-03', '2022-01-03', '2022-01-03', '2022-01-03', '2022-01-03', '2022-01-03', '2022-01-03', '2022-01-03', '2022-01-03', '2021-12-31', '2021-12-30', '2021-12-30', '2021-12-29', '2021-12-27', '2021-12-26', '2021-12-24', '2021-12-20', '2021-12-20', '2021-12-17', '2021-12-14', '2021-12-10', '2021-12-10', '2021-12-03', '2021-12-01', '2021-11-30', '2021-11-30', '2021-11-26', '2021-11-26', '2021-11-25', '2021-11-25', '2021-11-15', '2021-11-15', '2021-11-11', '2021-11-08', '2021-11-08', '2021-11-05', '2021-11-03', '2021-11-02', '2021-11-02', '2021-11-02', '2021-11-01']\n"
     ]
    }
   ],
   "source": [
    "# 코드가 없는 경우 하위 설정 할때 + 로 해도됨 ( 호연씨 코드 ) \n",
    "for pubdate in root.cssselect('td.left+td.left+td'):\n",
    "    pubdates.append(pubdate.text_content())\n",
    "print(pubdates)"
   ]
  },
  {
   "cell_type": "code",
   "execution_count": 31,
   "id": "546c94ed-6850-4b27-8979-a31cefb1a21a",
   "metadata": {},
   "outputs": [
    {
     "name": "stdout",
     "output_type": "stream",
     "text": [
      "['\\n                \\n                \\n                {{ bookSummary.author }} 지음\\n                {{ bookSummary.publishingCompany }} | {{ bookSummary.date }}\\n                \\n                \\n                {{ bookSummary.bookType }}\\n                \\n              ', '22,000원', '50,000원', '17,000원', '18,500원', '22,000원', '18,000원', '12,000원', '26,000원', '25,000원', '23,000원', '27,000원', '25,000원', '30,000원', '40,000원', '18,000원', '34,000원', '25,000원', '22,000원', '42,000원', '22,000원', '18,500원', '42,000원', '35,000원', '29,000원', '35,000원', '38,000원', '32,000원', '32,000원', '19,800원', '16,000원', '22,000원', '25,000원', '18,000원', '22,000원', '36,000원', '24,000원', '14,500원', '18,000원', '18,000원', '16,000원', '20,800원', '16,500원', '16,000원', '18,000원', '16,800원', '34,000원', '8,000원', '8,000원', '8,000원', '38,000원', '\\n                \\n                \\n                {{ bookSummary.author }} 지음\\n                {{ bookSummary.publishingCompany }} | {{ bookSummary.date }}\\n                \\n                \\n                {{ bookSummary.bookType }}\\n                \\n              ', '22,000원', '50,000원', '17,000원', '18,500원', '22,000원', '18,000원', '12,000원', '26,000원', '25,000원', '23,000원', '27,000원', '25,000원', '30,000원', '40,000원', '18,000원', '34,000원', '25,000원', '22,000원', '42,000원', '22,000원', '18,500원', '42,000원', '35,000원', '29,000원', '35,000원', '38,000원', '32,000원', '32,000원', '19,800원', '16,000원', '22,000원', '25,000원', '18,000원', '22,000원', '36,000원', '24,000원', '14,500원', '18,000원', '18,000원', '16,000원', '20,800원', '16,500원', '16,000원', '18,000원', '16,800원', '34,000원', '8,000원', '8,000원', '8,000원', '38,000원', '22,000원', '50,000원', '17,000원', '18,500원', '22,000원', '18,000원', '12,000원', '26,000원', '25,000원', '23,000원', '27,000원', '25,000원', '30,000원', '40,000원', '18,000원', '34,000원', '25,000원', '22,000원', '42,000원', '22,000원', '18,500원', '42,000원', '35,000원', '29,000원', '35,000원', '38,000원', '32,000원', '32,000원', '19,800원', '16,000원', '22,000원', '25,000원', '18,000원', '22,000원', '36,000원', '24,000원', '14,500원', '18,000원', '18,000원', '16,000원', '20,800원', '16,500원', '16,000원', '18,000원', '16,800원', '34,000원', '8,000원', '8,000원', '8,000원', '38,000원', '\\n                \\n                \\n                {{ bookSummary.author }} 지음\\n                {{ bookSummary.publishingCompany }} | {{ bookSummary.date }}\\n                \\n                \\n                {{ bookSummary.bookType }}\\n                \\n              ', '22,000원', '50,000원', '17,000원', '18,500원', '22,000원', '18,000원', '12,000원', '26,000원', '25,000원', '23,000원', '27,000원', '25,000원', '30,000원', '40,000원', '18,000원', '34,000원', '25,000원', '22,000원', '42,000원', '22,000원', '18,500원', '42,000원', '35,000원', '29,000원', '35,000원', '38,000원', '32,000원', '32,000원', '19,800원', '16,000원', '22,000원', '25,000원', '18,000원', '22,000원', '36,000원', '24,000원', '14,500원', '18,000원', '18,000원', '16,000원', '20,800원', '16,500원', '16,000원', '18,000원', '16,800원', '34,000원', '8,000원', '8,000원', '8,000원', '38,000원']\n"
     ]
    }
   ],
   "source": [
    "# for price in root.cssselect('td.right'):\n",
    "for price in root.cssselect('td:last-child'):\n",
    "    prices.append(price.text_content())\n",
    "print(prices)\n",
    "    #.append(thumb.get('src'))"
   ]
  },
  {
   "cell_type": "markdown",
   "id": "14e9e1c9-34da-4cbd-9aeb-56b807ecf622",
   "metadata": {},
   "source": [
    "### 네이버 검색예제\n",
    "* search.naver.com/search.naver?query=검색어\n",
    "* 네이버에 검색어를 입력하고 검색결과에서 데이터 추출\n",
    "* 질의문자열 querystring 을 이용해서 검색하고 그 결과에서 필요한 데이터를 추출함\n",
    "* 특정 사이트는 스크래핑이나 크롤링을 막기 위한 방편으로 사이트에 접속하는 사용자의 useragent를 확인함\n",
    "* UA없이 사이트 접속을 시도하면 접속권한 거부의 의미로 403 응답코드와 함께 접속을 금지하기도 함 "
   ]
  },
  {
   "cell_type": "code",
   "execution_count": null,
   "id": "76ee9f33-6c04-4367-8363-764146a344b1",
   "metadata": {},
   "outputs": [],
   "source": [
    "# 특정 사이트는 스크래핑이나 크롤링을 막기 위한 방편으로\n",
    "# 사이트에 접속하는 사용자의 useragent를 확인함\n",
    "# UA없이 사이트 접속을 시도하면 접속권한 거부의 의미로\n",
    "# 403 응답코드와 함께 접속을 금지하기도 함 "
   ]
  },
  {
   "cell_type": "code",
   "execution_count": null,
   "id": "d82102b6-a3e8-4e2d-b291-7d8c505383f0",
   "metadata": {},
   "outputs": [],
   "source": [
    "query = 'html5' #검색어\n",
    "url = 'https://search.naver.com/search.naver'\n",
    "\n",
    "headers = {'User-Agent': 'Mozilla/5.0 (Windows NT 10.0; Win64; x64) AppleWebKit/537.36 (KHTML, like Gecko) Chrome/94.0.4606.81 Safari/537.36'}\n",
    "params = {'query' : query}\n",
    "\n",
    "res = requests.get(url, headers=headers, params=params)\n",
    "html = res.text\n",
    "html[:500]\n",
    "root = lxml.html.fromstring(html)"
   ]
  },
  {
   "cell_type": "code",
   "execution_count": null,
   "id": "46f14de1-05f0-40c7-a06a-25d74cd301cc",
   "metadata": {},
   "outputs": [],
   "source": [
    "# 블로그, 웹사이트, 네이버책, 포스트 등의\n",
    "# 제목과 링크 추출"
   ]
  },
  {
   "cell_type": "code",
   "execution_count": null,
   "id": "1dd3b1af-2564-4c8e-bbf7-4f4d8eade13c",
   "metadata": {},
   "outputs": [],
   "source": [
    "titles = []\n",
    "links = []"
   ]
  },
  {
   "cell_type": "code",
   "execution_count": null,
   "id": "9f68c4d8-1101-47f4-ba76-5a8ead50350c",
   "metadata": {},
   "outputs": [],
   "source": [
    "for web in root.cssselect('panel-list a.api_txt_lines'):\n",
    "    print(web.text_content())\n",
    "    print(web.get('href'))"
   ]
  },
  {
   "cell_type": "code",
   "execution_count": null,
   "id": "07b6fe73-26fb-4354-8ae0-4713261d519e",
   "metadata": {},
   "outputs": [],
   "source": [
    "for brain in root.cssselect('a.question_text'):\n",
    "    print(brain.text_content())\n",
    "    print(brain.get('href'))"
   ]
  },
  {
   "cell_type": "code",
   "execution_count": null,
   "id": "c240994d-c94e-4dd2-9b49-e9b68e3aa87c",
   "metadata": {},
   "outputs": [],
   "source": [
    "for wiki in root.cssselect('a.link_tit'):\n",
    "    print(wiki.text_content())\n",
    "    print(wiki.get('href'))"
   ]
  },
  {
   "cell_type": "code",
   "execution_count": null,
   "id": "fe56d97c-9d1b-46ab-8806-1573dfc1f36d",
   "metadata": {},
   "outputs": [],
   "source": [
    "for book in root.cssselect('a.title_area'):\n",
    "    print(book.text_content())\n",
    "    print(book.get('href'))"
   ]
  },
  {
   "cell_type": "code",
   "execution_count": null,
   "id": "94c39735-aee2-49a6-b8a8-957d1e8bafd2",
   "metadata": {},
   "outputs": [],
   "source": [
    "# jtbc 뉴스 사이트에서\n",
    "# 사진npic, 제목title, 기사미리보기preview, 범주ntype 등을\n",
    "# 크롤링해서 jtbcnews 테이블에 저장\n",
    "# 단, 뉴스기사는 2020-10-22 일자를 대상으로 한다 "
   ]
  },
  {
   "cell_type": "code",
   "execution_count": null,
   "id": "7f96c707-519f-43d9-8ecd-1fc03e5db343",
   "metadata": {},
   "outputs": [],
   "source": [
    "url = 'https://news.jtbc.joins.com/section/list.aspx'\n",
    "params = {'pdate':'20201022'}"
   ]
  },
  {
   "cell_type": "code",
   "execution_count": null,
   "id": "8d3d53ef-6113-4568-9ae9-5ebd29e50a41",
   "metadata": {},
   "outputs": [],
   "source": [
    "res = requests.get(url, headers=headers, params=params)"
   ]
  },
  {
   "cell_type": "code",
   "execution_count": null,
   "id": "b91573ca-c447-426e-895a-aa909291c93a",
   "metadata": {},
   "outputs": [],
   "source": [
    "html = res.text\n",
    "root = lxml.html.fromstring(html)"
   ]
  },
  {
   "cell_type": "code",
   "execution_count": null,
   "id": "5450ead4-3795-4546-98c3-6839b451c86b",
   "metadata": {},
   "outputs": [],
   "source": [
    "res.text[:500]"
   ]
  },
  {
   "cell_type": "code",
   "execution_count": null,
   "id": "ca4dac3f-09f5-4cd9-b48f-33fe3ca66755",
   "metadata": {},
   "outputs": [],
   "source": [
    "npics = []\n",
    "titles = []\n",
    "previews = []\n",
    "ntypes = []"
   ]
  },
  {
   "cell_type": "code",
   "execution_count": null,
   "id": "0373b63f-117e-46c7-855d-ac8cb1ec4c0b",
   "metadata": {},
   "outputs": [],
   "source": [
    "for npic in root.cssselect('dd.photo a img'):\n",
    "    print(npic.get('src'))\n",
    "    npics.append(npic.get('src'))"
   ]
  },
  {
   "cell_type": "code",
   "execution_count": null,
   "id": "bf7bb312-b4e6-44f8-824e-4d8f09f57f65",
   "metadata": {},
   "outputs": [],
   "source": [
    "for title in root.cssselect('dt.title_cr a'):\n",
    "    print(title.text_content())\n",
    "    titles.append(title.text_content())"
   ]
  },
  {
   "cell_type": "code",
   "execution_count": null,
   "id": "a8c6e4d5-1422-4c91-ae56-2298e39ccd59",
   "metadata": {},
   "outputs": [],
   "source": [
    "for preview in root.cssselect('dd.read_cr a'):\n",
    "    print(preview.text_content())\n",
    "    previews.append(preview.text_content())"
   ]
  },
  {
   "cell_type": "code",
   "execution_count": null,
   "id": "55095e91-ee44-4e50-ac0d-59e0606ca51f",
   "metadata": {},
   "outputs": [],
   "source": [
    "for ntype in root.cssselect('span.location'):\n",
    "    ntype = ntype.text_content().replace('\\t', '')\n",
    "    ntype = ntype.replace('\\r\\n', '')\n",
    "    ntype = ntype.replace(' ', '')\n",
    "    ntype = ntype.replace('[JTBC>', '')\n",
    "    ntype = ntype.replace(']', '')\n",
    "    ntypes.append(ntype)"
   ]
  },
  {
   "cell_type": "code",
   "execution_count": null,
   "id": "6d57f490-3dcd-4e9a-b2c2-ab788286bda2",
   "metadata": {},
   "outputs": [],
   "source": [
    "ntypes"
   ]
  },
  {
   "cell_type": "code",
   "execution_count": null,
   "id": "d2b1b281-4a49-4036-83cd-d3f87e126bff",
   "metadata": {},
   "outputs": [],
   "source": [
    "#re 사용해서 하는 내용물 전처리 \n",
    "import re \n",
    "for ntype in root.cssselect('span.location'):\n",
    "    ntype = re.sub('\\t|\\r\\n|','',ntype.text_content())\n",
    "    ntype = re.sub('\\[JTBC>|\\]', '', ntype)\n",
    "    ntypes.append(ntype)"
   ]
  },
  {
   "cell_type": "code",
   "execution_count": null,
   "id": "945f19e6-ad2e-41fd-abad-1e2cb5c22bf3",
   "metadata": {},
   "outputs": [],
   "source": [
    "# 추출한 데이터들을 csv 형식 재작성 \n",
    "data = ''\n",
    "for i in range(len(titles)):\n",
    "    rows = f'{titles[i]}{previews[i]}{ntypes[i]}{npics[i]}\\n'\n",
    "    print(rows)\n",
    "    \n",
    "print(len(titles), len(previews), len(ntypes), len(npics))"
   ]
  }
 ],
 "metadata": {
  "kernelspec": {
   "display_name": "Python 3 (ipykernel)",
   "language": "python",
   "name": "python3"
  },
  "language_info": {
   "codemirror_mode": {
    "name": "ipython",
    "version": 3
   },
   "file_extension": ".py",
   "mimetype": "text/x-python",
   "name": "python",
   "nbconvert_exporter": "python",
   "pygments_lexer": "ipython3",
   "version": "3.7.10"
  }
 },
 "nbformat": 4,
 "nbformat_minor": 5
}
