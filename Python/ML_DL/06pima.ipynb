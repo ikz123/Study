{
 "cells": [
  {
   "cell_type": "markdown",
   "id": "14786ab4-b2cc-4e4d-95fa-2f961017d77a",
   "metadata": {},
   "source": [
    "### 피마인디언 당뇨병 예측\n",
    "* 보통 당뇨병의 원인은 식습관 유전으로 꼽음고립된 지역인 피마 지역의 인디언들은 고유의 혈통이 지속되어 왔지만\n",
    "* 20세기 후반 강제 이주정책으로 인해 서구화된 식습관으로 많은 당뇨병 환자가 생겨남\n",
    "\n",
    "* diabetes 테이터 셋 구조\n",
    "    + 임신횟수, 포도당부하검사, 혈압, 삼두근피하지방측정값, 인슐린농도,\n",
    "    + 비만지수, 당뇨내력가중치, 나이, 5년내 당뇨발병여부(0:음성)"
   ]
  },
  {
   "cell_type": "code",
   "execution_count": 6,
   "id": "d53f3b81-c6db-4437-a316-303e9495f122",
   "metadata": {},
   "outputs": [],
   "source": [
    "import numpy as np\n",
    "import pandas as pd\n",
    "import matplotlib.pyplot as plt\n",
    "import seaborn as sns"
   ]
  },
  {
   "cell_type": "code",
   "execution_count": 7,
   "id": "c6826c9e-6351-4c2e-bb20-b152500a89c6",
   "metadata": {},
   "outputs": [],
   "source": [
    "from sklearn.model_selection import train_test_split\n",
    "from sklearn.linear_model import LogisticRegression\n",
    "from sklearn.metrics import accuracy_score\n",
    "from sklearn.metrics import confusion_matrix\n",
    "from sklearn.metrics import precision_score, recall_score, f1_score\n",
    "from sklearn.metrics import roc_auc_score, roc_curve\n",
    "from sklearn.metrics import classification_report"
   ]
  },
  {
   "cell_type": "code",
   "execution_count": 8,
   "id": "1cde4ba8-36db-470b-b0c7-f9ec5a2dccc1",
   "metadata": {},
   "outputs": [
    {
     "name": "stdout",
     "output_type": "stream",
     "text": [
      "<class 'pandas.core.frame.DataFrame'>\n",
      "RangeIndex: 768 entries, 0 to 767\n",
      "Data columns (total 9 columns):\n",
      " #   Column     Non-Null Count  Dtype  \n",
      "---  ------     --------------  -----  \n",
      " 0   pregnant   768 non-null    int64  \n",
      " 1   glucose    768 non-null    int64  \n",
      " 2   blood      768 non-null    int64  \n",
      " 3   thickness  768 non-null    int64  \n",
      " 4   insulin    768 non-null    int64  \n",
      " 5   bmi        768 non-null    float64\n",
      " 6   pedigree   768 non-null    float64\n",
      " 7   age        768 non-null    int64  \n",
      " 8   diabete    768 non-null    int64  \n",
      "dtypes: float64(2), int64(7)\n",
      "memory usage: 54.1 KB\n"
     ]
    }
   ],
   "source": [
    "pima = pd.read_csv('data/pima-indian.csv')\n",
    "pima.info()"
   ]
  },
  {
   "cell_type": "code",
   "execution_count": 9,
   "id": "01d71153-347e-488c-887d-9b2b28cdb2a5",
   "metadata": {},
   "outputs": [
    {
     "data": {
      "text/html": [
       "<div>\n",
       "<style scoped>\n",
       "    .dataframe tbody tr th:only-of-type {\n",
       "        vertical-align: middle;\n",
       "    }\n",
       "\n",
       "    .dataframe tbody tr th {\n",
       "        vertical-align: top;\n",
       "    }\n",
       "\n",
       "    .dataframe thead th {\n",
       "        text-align: right;\n",
       "    }\n",
       "</style>\n",
       "<table border=\"1\" class=\"dataframe\">\n",
       "  <thead>\n",
       "    <tr style=\"text-align: right;\">\n",
       "      <th></th>\n",
       "      <th>pregnant</th>\n",
       "      <th>glucose</th>\n",
       "      <th>blood</th>\n",
       "      <th>thickness</th>\n",
       "      <th>insulin</th>\n",
       "      <th>bmi</th>\n",
       "      <th>pedigree</th>\n",
       "      <th>age</th>\n",
       "      <th>diabete</th>\n",
       "    </tr>\n",
       "  </thead>\n",
       "  <tbody>\n",
       "    <tr>\n",
       "      <th>0</th>\n",
       "      <td>6</td>\n",
       "      <td>148</td>\n",
       "      <td>72</td>\n",
       "      <td>35</td>\n",
       "      <td>0</td>\n",
       "      <td>33.6</td>\n",
       "      <td>0.627</td>\n",
       "      <td>50</td>\n",
       "      <td>1</td>\n",
       "    </tr>\n",
       "    <tr>\n",
       "      <th>1</th>\n",
       "      <td>1</td>\n",
       "      <td>85</td>\n",
       "      <td>66</td>\n",
       "      <td>29</td>\n",
       "      <td>0</td>\n",
       "      <td>26.6</td>\n",
       "      <td>0.351</td>\n",
       "      <td>31</td>\n",
       "      <td>0</td>\n",
       "    </tr>\n",
       "    <tr>\n",
       "      <th>2</th>\n",
       "      <td>8</td>\n",
       "      <td>183</td>\n",
       "      <td>64</td>\n",
       "      <td>0</td>\n",
       "      <td>0</td>\n",
       "      <td>23.3</td>\n",
       "      <td>0.672</td>\n",
       "      <td>32</td>\n",
       "      <td>1</td>\n",
       "    </tr>\n",
       "    <tr>\n",
       "      <th>3</th>\n",
       "      <td>1</td>\n",
       "      <td>89</td>\n",
       "      <td>66</td>\n",
       "      <td>23</td>\n",
       "      <td>94</td>\n",
       "      <td>28.1</td>\n",
       "      <td>0.167</td>\n",
       "      <td>21</td>\n",
       "      <td>0</td>\n",
       "    </tr>\n",
       "    <tr>\n",
       "      <th>4</th>\n",
       "      <td>0</td>\n",
       "      <td>137</td>\n",
       "      <td>40</td>\n",
       "      <td>35</td>\n",
       "      <td>168</td>\n",
       "      <td>43.1</td>\n",
       "      <td>2.288</td>\n",
       "      <td>33</td>\n",
       "      <td>1</td>\n",
       "    </tr>\n",
       "  </tbody>\n",
       "</table>\n",
       "</div>"
      ],
      "text/plain": [
       "   pregnant  glucose  blood  thickness  insulin   bmi  pedigree  age  diabete\n",
       "0         6      148     72         35        0  33.6     0.627   50        1\n",
       "1         1       85     66         29        0  26.6     0.351   31        0\n",
       "2         8      183     64          0        0  23.3     0.672   32        1\n",
       "3         1       89     66         23       94  28.1     0.167   21        0\n",
       "4         0      137     40         35      168  43.1     2.288   33        1"
      ]
     },
     "execution_count": 9,
     "metadata": {},
     "output_type": "execute_result"
    }
   ],
   "source": [
    "pima.head()"
   ]
  },
  {
   "cell_type": "code",
   "execution_count": 10,
   "id": "47519758-c5bf-49b2-b8b2-4d373b6d350e",
   "metadata": {},
   "outputs": [
    {
     "data": {
      "text/plain": [
       "0    500\n",
       "1    268\n",
       "Name: diabete, dtype: int64"
      ]
     },
     "execution_count": 10,
     "metadata": {},
     "output_type": "execute_result"
    }
   ],
   "source": [
    "pima.diabete.value_counts()"
   ]
  },
  {
   "cell_type": "code",
   "execution_count": 11,
   "id": "475c9d7a-1aed-493e-84ab-d90a6d9f995b",
   "metadata": {},
   "outputs": [],
   "source": [
    "data = pima.iloc[:,0:7]\n",
    "target = pima.diabete"
   ]
  },
  {
   "cell_type": "code",
   "execution_count": 12,
   "id": "8d4a373f-33b4-4fef-825e-393289ba29bb",
   "metadata": {},
   "outputs": [],
   "source": [
    "Xtrain, Xtest, ytrain, ytest = train_test_split(data, target, train_size=0.7, stratify=target, random_state=2111051205)"
   ]
  },
  {
   "cell_type": "code",
   "execution_count": 13,
   "id": "df6f93d2-0841-47b0-925e-6daa91e8c37b",
   "metadata": {},
   "outputs": [],
   "source": [
    "lrclf = LogisticRegression(max_iter=1000)\n",
    "lrclf.fit(Xtrain, ytrain)\n",
    "pred = lrclf.predict(Xtest)"
   ]
  },
  {
   "cell_type": "code",
   "execution_count": 14,
   "id": "d7bb2a1c-8c5e-4621-af43-07a90b105a87",
   "metadata": {},
   "outputs": [
    {
     "data": {
      "text/plain": [
       "0.7965367965367965"
      ]
     },
     "execution_count": 14,
     "metadata": {},
     "output_type": "execute_result"
    }
   ],
   "source": [
    "accuracy_score(pred,ytest)"
   ]
  },
  {
   "cell_type": "code",
   "execution_count": 15,
   "id": "9beb79db-3a49-4a4c-abc3-c5eecfcff814",
   "metadata": {},
   "outputs": [
    {
     "data": {
      "text/plain": [
       "0.654320987654321"
      ]
     },
     "execution_count": 15,
     "metadata": {},
     "output_type": "execute_result"
    }
   ],
   "source": [
    "precision_score(pred,ytest)"
   ]
  },
  {
   "cell_type": "code",
   "execution_count": 16,
   "id": "4f35f529-068f-4ad1-a761-b44e8ee601a1",
   "metadata": {},
   "outputs": [
    {
     "data": {
      "text/plain": [
       "0.7361111111111112"
      ]
     },
     "execution_count": 16,
     "metadata": {},
     "output_type": "execute_result"
    }
   ],
   "source": [
    "recall_score(pred,ytest)"
   ]
  },
  {
   "cell_type": "code",
   "execution_count": 17,
   "id": "39ce3065-fcad-4427-8fb9-381d59af4414",
   "metadata": {},
   "outputs": [
    {
     "data": {
      "text/plain": [
       "0.6928104575163399"
      ]
     },
     "execution_count": 17,
     "metadata": {},
     "output_type": "execute_result"
    }
   ],
   "source": [
    "f1_score(pred,ytest) # 중요"
   ]
  },
  {
   "cell_type": "code",
   "execution_count": 64,
   "id": "9c9187cd-3a84-46c9-baf9-eec37a22f096",
   "metadata": {},
   "outputs": [
    {
     "name": "stdout",
     "output_type": "stream",
     "text": [
      "              precision    recall  f1-score   support\n",
      "\n",
      "           0       0.82      0.75      0.78       160\n",
      "           1       0.53      0.63      0.58        71\n",
      "\n",
      "    accuracy                           0.71       231\n",
      "   macro avg       0.68      0.69      0.68       231\n",
      "weighted avg       0.73      0.71      0.72       231\n",
      "\n"
     ]
    }
   ],
   "source": [
    "print(classification_report(pred,ytest))"
   ]
  },
  {
   "cell_type": "code",
   "execution_count": 19,
   "id": "71616689-7341-40f8-89ff-a3ab7e9663c2",
   "metadata": {},
   "outputs": [],
   "source": [
    "pred_proba = lrclf.predict_proba(Xtest)[:,1]\n",
    "fprs,tprs, _ = roc_curve(ytest, pred_proba)"
   ]
  },
  {
   "cell_type": "code",
   "execution_count": 20,
   "id": "4fdbb648-8576-40f8-9118-f7b24dcc22f1",
   "metadata": {},
   "outputs": [
    {
     "data": {
      "text/plain": [
       "<seaborn.axisgrid.FacetGrid at 0x7f896c02ddd0>"
      ]
     },
     "execution_count": 20,
     "metadata": {},
     "output_type": "execute_result"
    },
    {
     "data": {
      "image/png": "[encoded data removed]",
      "text/plain": [
       "<Figure size 414.875x360 with 1 Axes>"
      ]
     },
     "metadata": {
      "needs_background": "light"
     },
     "output_type": "display_data"
    }
   ],
   "source": [
    "roc = pd.DataFrame({'FPR':fprs, 'TPR':tprs})\n",
    "sns.displot(roc.iloc[:, [0,1]], kind='kde')"
   ]
  },
  {
   "cell_type": "code",
   "execution_count": 21,
   "id": "ebc7a664-56b4-4ad3-ba00-db588b208923",
   "metadata": {},
   "outputs": [
    {
     "data": {
      "text/plain": [
       "<matplotlib.legend.Legend at 0x7f8967e7e450>"
      ]
     },
     "execution_count": 21,
     "metadata": {},
     "output_type": "execute_result"
    },
    {
     "data": {
      "image/png": "[encoded data removed]",
      "text/plain": [
       "<Figure size 432x288 with 1 Axes>"
      ]
     },
     "metadata": {
      "needs_background": "light"
     },
     "output_type": "display_data"
    }
   ],
   "source": [
    "plt.plot(fprs, tprs, 'r', label='ROC')\n",
    "plt.plot([0,1],[0,1], 'k--')\n",
    "plt.legend()"
   ]
  },
  {
   "cell_type": "code",
   "execution_count": 22,
   "id": "f9313617-2ae1-4c4e-9417-c8adda4b0608",
   "metadata": {},
   "outputs": [
    {
     "data": {
      "text/plain": [
       "0.7638271604938272"
      ]
     },
     "execution_count": 22,
     "metadata": {},
     "output_type": "execute_result"
    }
   ],
   "source": [
    "roc_auc_score(ytest, pred)"
   ]
  },
  {
   "cell_type": "code",
   "execution_count": 24,
   "id": "10617b01-173b-458e-93e8-3a958e3839e4",
   "metadata": {},
   "outputs": [],
   "source": [
    "# iris 데이터셋 중 petal length와 width에 대해 \n",
    "# 로지스틱 회귀로 분석한 후 정확도/특이도/재현율(민감도)/F1스코어를 구한 다음\n",
    "# ROC 그래프와 AUC를 확인해보세요"
   ]
  },
  {
   "cell_type": "code",
   "execution_count": null,
   "id": "896eb64e-3149-48ce-b3f2-ab911a76e948",
   "metadata": {},
   "outputs": [],
   "source": []
  },
  {
   "cell_type": "code",
   "execution_count": null,
   "id": "0293ee97-beef-4380-984d-a6e2abfeb338",
   "metadata": {},
   "outputs": [],
   "source": []
  },
  {
   "cell_type": "markdown",
   "id": "0c574849-8556-4dde-947b-1a3c3e04cda8",
   "metadata": {},
   "source": [
    "## 로지스틱 회귀로 유방암 진단 분석하기\n",
    "* sklearn 에서 제공하는 dataset 중 하나 - breast cancer\n",
    "* 위스콘신 대학 유방암 진단 데이터\n",
    "* 30+1변수, 569개의 데이터로 구성\n",
    "* 반경, 질감, 둘레, 면적, 매끄러움, 크기, 오목함, 대칭여부\n",
    "* 3차원 진단각종 통계수치(평균,표준편차,최악에 대한 평균)"
   ]
  },
  {
   "cell_type": "code",
   "execution_count": 44,
   "id": "d25d2d29-866f-43f8-b975-896a5f09cd1d",
   "metadata": {
    "tags": []
   },
   "outputs": [],
   "source": [
    "from sklearn.datasets import load_breast_cancer"
   ]
  },
  {
   "cell_type": "code",
   "execution_count": 45,
   "id": "2537626a-a4b2-45ff-8f0c-a7942b38cd84",
   "metadata": {},
   "outputs": [],
   "source": [
    "cancer = load_breast_cancer()"
   ]
  },
  {
   "cell_type": "code",
   "execution_count": 47,
   "id": "32c67fdf-f114-4ce9-9de4-be8b45ad675d",
   "metadata": {},
   "outputs": [
    {
     "name": "stdout",
     "output_type": "stream",
     "text": [
      ".. _breast_cancer_dataset:\n",
      "\n",
      "Breast cancer wisconsin (diagnostic) dataset\n",
      "--------------------------------------------\n",
      "\n",
      "**Data Set Characteristics:**\n",
      "\n",
      "    :Number of Instances: 569\n",
      "\n",
      "    :Number of Attributes: 30 numeric, predictive attributes and the class\n",
      "\n",
      "    :Attribute Information:\n",
      "        - radius (mean of distances from center to points on the perimeter)\n",
      "        - texture (standard deviation of gray-scale values)\n",
      "        - perimeter\n",
      "        - area\n",
      "        - smoothness (local variation in radius lengths)\n",
      "        - compactness (perimeter^2 / area - 1.0)\n",
      "        - concavity (severity of concave portions of the contour)\n",
      "        - concave points (number of concave portions of the contour)\n",
      "        - symmetry\n",
      "        - fractal dimension (\"coastline approximation\" - 1)\n",
      "\n",
      "        The mean, standard error, and \"worst\" or largest (mean of the three\n",
      "        worst/largest values) of these features were computed for each image,\n",
      "        resulting in 30 features.  For instance, field 0 is Mean Radius, field\n",
      "        10 is Radius SE, field 20 is Worst Radius.\n",
      "\n",
      "        - class:\n",
      "                - WDBC-Malignant\n",
      "                - WDBC-Benign\n",
      "\n",
      "    :Summary Statistics:\n",
      "\n",
      "    ===================================== ====== ======\n",
      "                                           Min    Max\n",
      "    ===================================== ====== ======\n",
      "    radius (mean):                        6.981  28.11\n",
      "    texture (mean):                       9.71   39.28\n",
      "    perimeter (mean):                     43.79  188.5\n",
      "    area (mean):                          143.5  2501.0\n",
      "    smoothness (mean):                    0.053  0.163\n",
      "    compactness (mean):                   0.019  0.345\n",
      "    concavity (mean):                     0.0    0.427\n",
      "    concave points (mean):                0.0    0.201\n",
      "    symmetry (mean):                      0.106  0.304\n",
      "    fractal dimension (mean):             0.05   0.097\n",
      "    radius (standard error):              0.112  2.873\n",
      "    texture (standard error):             0.36   4.885\n",
      "    perimeter (standard error):           0.757  21.98\n",
      "    area (standard error):                6.802  542.2\n",
      "    smoothness (standard error):          0.002  0.031\n",
      "    compactness (standard error):         0.002  0.135\n",
      "    concavity (standard error):           0.0    0.396\n",
      "    concave points (standard error):      0.0    0.053\n",
      "    symmetry (standard error):            0.008  0.079\n",
      "    fractal dimension (standard error):   0.001  0.03\n",
      "    radius (worst):                       7.93   36.04\n",
      "    texture (worst):                      12.02  49.54\n",
      "    perimeter (worst):                    50.41  251.2\n",
      "    area (worst):                         185.2  4254.0\n",
      "    smoothness (worst):                   0.071  0.223\n",
      "    compactness (worst):                  0.027  1.058\n",
      "    concavity (worst):                    0.0    1.252\n",
      "    concave points (worst):               0.0    0.291\n",
      "    symmetry (worst):                     0.156  0.664\n",
      "    fractal dimension (worst):            0.055  0.208\n",
      "    ===================================== ====== ======\n",
      "\n",
      "    :Missing Attribute Values: None\n",
      "\n",
      "    :Class Distribution: 212 - Malignant, 357 - Benign\n",
      "\n",
      "    :Creator:  Dr. William H. Wolberg, W. Nick Street, Olvi L. Mangasarian\n",
      "\n",
      "    :Donor: Nick Street\n",
      "\n",
      "    :Date: November, 1995\n",
      "\n",
      "This is a copy of UCI ML Breast Cancer Wisconsin (Diagnostic) datasets.\n",
      "https://goo.gl/U2Uwz2\n",
      "\n",
      "Features are computed from a digitized image of a fine needle\n",
      "aspirate (FNA) of a breast mass.  They describe\n",
      "characteristics of the cell nuclei present in the image.\n",
      "\n",
      "Separating plane described above was obtained using\n",
      "Multisurface Method-Tree (MSM-T) [K. P. Bennett, \"Decision Tree\n",
      "Construction Via Linear Programming.\" Proceedings of the 4th\n",
      "Midwest Artificial Intelligence and Cognitive Science Society,\n",
      "pp. 97-101, 1992], a classification method which uses linear\n",
      "programming to construct a decision tree.  Relevant features\n",
      "were selected using an exhaustive search in the space of 1-4\n",
      "features and 1-3 separating planes.\n",
      "\n",
      "The actual linear program used to obtain the separating plane\n",
      "in the 3-dimensional space is that described in:\n",
      "[K. P. Bennett and O. L. Mangasarian: \"Robust Linear\n",
      "Programming Discrimination of Two Linearly Inseparable Sets\",\n",
      "Optimization Methods and Software 1, 1992, 23-34].\n",
      "\n",
      "This database is also available through the UW CS ftp server:\n",
      "\n",
      "ftp ftp.cs.wisc.edu\n",
      "cd math-prog/cpo-dataset/machine-learn/WDBC/\n",
      "\n",
      ".. topic:: References\n",
      "\n",
      "   - W.N. Street, W.H. Wolberg and O.L. Mangasarian. Nuclear feature extraction \n",
      "     for breast tumor diagnosis. IS&T/SPIE 1993 International Symposium on \n",
      "     Electronic Imaging: Science and Technology, volume 1905, pages 861-870,\n",
      "     San Jose, CA, 1993.\n",
      "   - O.L. Mangasarian, W.N. Street and W.H. Wolberg. Breast cancer diagnosis and \n",
      "     prognosis via linear programming. Operations Research, 43(4), pages 570-577, \n",
      "     July-August 1995.\n",
      "   - W.H. Wolberg, W.N. Street, and O.L. Mangasarian. Machine learning techniques\n",
      "     to diagnose breast cancer from fine-needle aspirates. Cancer Letters 77 (1994) \n",
      "     163-171.\n"
     ]
    }
   ],
   "source": [
    "print(cancer.DESCR)"
   ]
  },
  {
   "cell_type": "code",
   "execution_count": 52,
   "id": "61a8c73f-9f86-4c5b-a04b-83943e89b1f9",
   "metadata": {},
   "outputs": [
    {
     "name": "stdout",
     "output_type": "stream",
     "text": [
      "['mean radius' 'mean texture' 'mean perimeter' 'mean area'\n",
      " 'mean smoothness' 'mean compactness' 'mean concavity'\n",
      " 'mean concave points' 'mean symmetry' 'mean fractal dimension'\n",
      " 'radius error' 'texture error' 'perimeter error' 'area error'\n",
      " 'smoothness error' 'compactness error' 'concavity error'\n",
      " 'concave points error' 'symmetry error' 'fractal dimension error'\n",
      " 'worst radius' 'worst texture' 'worst perimeter' 'worst area'\n",
      " 'worst smoothness' 'worst compactness' 'worst concavity'\n",
      " 'worst concave points' 'worst symmetry' 'worst fractal dimension']\n"
     ]
    }
   ],
   "source": [
    "print(cancer.feature_names)"
   ]
  },
  {
   "cell_type": "code",
   "execution_count": 54,
   "id": "0a1f09b9-6d38-43dd-8be1-62abd9d7be2d",
   "metadata": {},
   "outputs": [
    {
     "name": "stdout",
     "output_type": "stream",
     "text": [
      "['malignant' 'benign']\n"
     ]
    }
   ],
   "source": [
    "print(cancer.target_names)  #  악성/정상"
   ]
  },
  {
   "cell_type": "code",
   "execution_count": 55,
   "id": "a15a6dce-a48f-4e41-98e8-d7b09da4a18c",
   "metadata": {},
   "outputs": [
    {
     "data": {
      "text/plain": [
       "1    357\n",
       "0    212\n",
       "dtype: int64"
      ]
     },
     "execution_count": 55,
     "metadata": {},
     "output_type": "execute_result"
    }
   ],
   "source": [
    "pd.Series(cancer.target).value_counts()"
   ]
  },
  {
   "cell_type": "code",
   "execution_count": 56,
   "id": "86420486-3a2d-4f1f-9a89-ca6ebf1a9f58",
   "metadata": {},
   "outputs": [],
   "source": [
    "Xtrain, Xtest, ytrain, ytest = train_test_split(data, target, train_size=0.7, random_state=2111051505)"
   ]
  },
  {
   "cell_type": "code",
   "execution_count": 58,
   "id": "aaa828da-4d9d-4e91-a4ed-e9c0a9e01b0a",
   "metadata": {},
   "outputs": [],
   "source": [
    "lrclf = LogisticRegression(max_iter=3000)\n",
    "lrclf.fit(Xtrain, ytrain)\n",
    "pred = lrclf.predict(Xtest)"
   ]
  },
  {
   "cell_type": "code",
   "execution_count": 59,
   "id": "f3a25edd-8a7f-4b65-af57-78295ebe2591",
   "metadata": {},
   "outputs": [
    {
     "data": {
      "text/plain": [
       "0.7142857142857143"
      ]
     },
     "execution_count": 59,
     "metadata": {},
     "output_type": "execute_result"
    }
   ],
   "source": [
    "accuracy_score(pred, ytest)"
   ]
  },
  {
   "cell_type": "code",
   "execution_count": 60,
   "id": "23eea16f-ebd8-4889-b813-411333559489",
   "metadata": {},
   "outputs": [
    {
     "data": {
      "text/plain": [
       "0.5294117647058824"
      ]
     },
     "execution_count": 60,
     "metadata": {},
     "output_type": "execute_result"
    }
   ],
   "source": [
    "precision_score(pred,ytest)"
   ]
  },
  {
   "cell_type": "code",
   "execution_count": 61,
   "id": "9c0f4573-7ee2-40bf-80ed-ae2b9ec21b94",
   "metadata": {},
   "outputs": [
    {
     "data": {
      "text/plain": [
       "0.6338028169014085"
      ]
     },
     "execution_count": 61,
     "metadata": {},
     "output_type": "execute_result"
    }
   ],
   "source": [
    "recall_score(pred,ytest)"
   ]
  },
  {
   "cell_type": "code",
   "execution_count": 63,
   "id": "7cffa815-0aa8-4fc4-91b2-9f3272ed2bcd",
   "metadata": {},
   "outputs": [
    {
     "data": {
      "text/plain": [
       "0.576923076923077"
      ]
     },
     "execution_count": 63,
     "metadata": {},
     "output_type": "execute_result"
    }
   ],
   "source": [
    "f1_score(pred,ytest)"
   ]
  },
  {
   "cell_type": "code",
   "execution_count": 65,
   "id": "79025a99-7dc0-4b2f-ac4e-468521f93a5b",
   "metadata": {},
   "outputs": [
    {
     "name": "stdout",
     "output_type": "stream",
     "text": [
      "              precision    recall  f1-score   support\n",
      "\n",
      "           0       0.82      0.75      0.78       160\n",
      "           1       0.53      0.63      0.58        71\n",
      "\n",
      "    accuracy                           0.71       231\n",
      "   macro avg       0.68      0.69      0.68       231\n",
      "weighted avg       0.73      0.71      0.72       231\n",
      "\n"
     ]
    }
   ],
   "source": [
    "print(classification_report(pred,ytest))"
   ]
  },
  {
   "cell_type": "code",
   "execution_count": 66,
   "id": "490a1fb3-42dd-4fae-88b8-fd14377bff36",
   "metadata": {},
   "outputs": [],
   "source": [
    "pred_proba = lrclf.predict_proba(Xtest)[:,1]\n",
    "fprs,tprs, _ = roc_curve(ytest, pred_proba)"
   ]
  },
  {
   "cell_type": "code",
   "execution_count": 67,
   "id": "8785965e-7a30-4c71-96e9-e7ec93d41f42",
   "metadata": {},
   "outputs": [
    {
     "data": {
      "text/plain": [
       "<seaborn.axisgrid.FacetGrid at 0x7f896c02d910>"
      ]
     },
     "execution_count": 67,
     "metadata": {},
     "output_type": "execute_result"
    },
    {
     "data": {
      "image/png": "[encoded data removed]",
      "text/plain": [
       "<Figure size 414.875x360 with 1 Axes>"
      ]
     },
     "metadata": {
      "needs_background": "light"
     },
     "output_type": "display_data"
    }
   ],
   "source": [
    "roc = pd.DataFrame({'FPR':fprs, 'TPR':tprs})\n",
    "sns.displot(roc.iloc[:, [0,1]], kind='kde')"
   ]
  },
  {
   "cell_type": "code",
   "execution_count": 68,
   "id": "65405d50-ac75-4c73-8b91-b0aaf47f50df",
   "metadata": {},
   "outputs": [
    {
     "data": {
      "text/plain": [
       "0.6756647864625301"
      ]
     },
     "execution_count": 68,
     "metadata": {},
     "output_type": "execute_result"
    }
   ],
   "source": [
    "roc_auc_score(ytest, pred)"
   ]
  },
  {
   "cell_type": "code",
   "execution_count": 69,
   "id": "b27d07b6-cb07-4ff8-8a5e-c2bd92f157d9",
   "metadata": {},
   "outputs": [
    {
     "data": {
      "text/plain": [
       "<matplotlib.legend.Legend at 0x7f896710d890>"
      ]
     },
     "execution_count": 69,
     "metadata": {},
     "output_type": "execute_result"
    },
    {
     "data": {
      "image/png": "[encoded data removed]",
      "text/plain": [
       "<Figure size 432x288 with 1 Axes>"
      ]
     },
     "metadata": {
      "needs_background": "light"
     },
     "output_type": "display_data"
    }
   ],
   "source": [
    "plt.plot(fprs, tprs, 'r', label='ROC')\n",
    "plt.plot([0,1],[0,1], 'k--')\n",
    "plt.legend()"
   ]
  },
  {
   "cell_type": "code",
   "execution_count": null,
   "id": "54a8780c-689a-4ed6-8d1c-a83fd7bec2a8",
   "metadata": {},
   "outputs": [],
   "source": []
  },
  {
   "cell_type": "code",
   "execution_count": null,
   "id": "8899275b-7e39-4a56-9701-884d38e10dcd",
   "metadata": {},
   "outputs": [],
   "source": []
  }
 ],
 "metadata": {
  "kernelspec": {
   "display_name": "Python 3 (ipykernel)",
   "language": "python",
   "name": "python3"
  },
  "language_info": {
   "codemirror_mode": {
    "name": "ipython",
    "version": 3
   },
   "file_extension": ".py",
   "mimetype": "text/x-python",
   "name": "python",
   "nbconvert_exporter": "python",
   "pygments_lexer": "ipython3",
   "version": "3.7.10"
  }
 },
 "nbformat": 4,
 "nbformat_minor": 5
}
