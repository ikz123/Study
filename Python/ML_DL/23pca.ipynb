{
 "cells": [
  {
   "cell_type": "markdown",
   "id": "ffd8b3ec-1424-4795-8e18-1e8632ac8cc4",
   "metadata": {},
   "source": [
    "## 주성분분석 Principal Component Analysis\n",
    "\n",
    "<img src = 'img/pca.gif'>\n",
    "\n",
    "* 자료의 요약이나 '선형관계식'을 통해  \n",
    "    '차원수'를 감소시켜 데이터해석을 용이하게 하는데 있음\n",
    "* 서로 상관이 없거나 독립적인 새로운 변수들을   \n",
    "    이용해서 정보손실을 최소화하도록 함\n",
    "\n",
    "\n",
    "* 둘 이상의 양적변수등 사이에서 분산/공분산 관계를 이용하여   \n",
    "    변수들의 선형결합으로 나타나는 주성분을 찾고\n",
    "* 이 중 중요한 n개의 주성분으로 전체변동의 대부분을 설명하고자 하는 다변량 분석법  \n",
    "    \n",
    "        \n",
    "\n",
    "* 예를 들어, 8x8크기의 손글씨 데이터 경우 총 64개의 특성으로 구성되어 있는데\n",
    "* 글씨가 쓰여진 영역만 따로 골라서 분석에 활용한다면 64개의 특성이 모두 다 필요한 것은 아님"
   ]
  },
  {
   "cell_type": "markdown",
   "id": "b7b08ab4-c0a9-4e71-a026-770cf65be09e",
   "metadata": {},
   "source": [
    "* 차원축소 방법 - 투영/사영projection\n",
    "    + 먼저, 데이터에 임의의 초평면을 정의한 다음, 데이터들을 이 평면에 투영함\n",
    "    + 그런 다음, 데이터의 분산이 최대로 보존되는지 확인\n",
    "\n",
    "\n",
    "* PCA를 이용해 고차원의 데이터를\n",
    "    + 정보손실없이 변환함으로써 시각화가 편리해지고\n",
    "    + 데이터의 크기가 감소함으로써 빠른 학습이 가능해짐\n",
    "\n",
    "\n",
    "* PCA 분석을 위해 공분산/고유벡터/고유값에 대한 개념 필요 - 선형대수"
   ]
  },
  {
   "cell_type": "markdown",
   "id": "2091edea-6b32-44b3-935d-396798449d82",
   "metadata": {},
   "source": [
    "## 고유값/고유벡터 찾아보기\n",
    "* Ax = λχ\n",
    "* 선형번환 A = [[3,1],[1,3]]을 만족하는 고유벡터와 고유값은?"
   ]
  },
  {
   "cell_type": "code",
   "execution_count": 8,
   "id": "ac3144cf-baa1-43f8-9068-82662c243572",
   "metadata": {},
   "outputs": [],
   "source": [
    "A = [[3,1],[1,3]]   # 선형변환\n",
    "x1 = [-1 , 1]\n",
    "x2 = [1, 1]"
   ]
  },
  {
   "cell_type": "code",
   "execution_count": 11,
   "id": "3a66ff8a-a8c7-406c-a687-1a0a58e3eab2",
   "metadata": {},
   "outputs": [],
   "source": [
    "x3 = np.dot(A, x1)   # 행렬  곱연산, 선형변환 적용\n",
    "x4 = np.dot(A, x2)"
   ]
  },
  {
   "cell_type": "code",
   "execution_count": 12,
   "id": "da74d73e-e5c7-44b6-a27f-2472048184f7",
   "metadata": {},
   "outputs": [],
   "source": [
    "origin = [0],[0]    # 벡터공간 원점 정의"
   ]
  },
  {
   "cell_type": "code",
   "execution_count": 38,
   "id": "852c8886-9e7a-498c-b8d0-9eba53348f04",
   "metadata": {},
   "outputs": [
    {
     "data": {
      "image/png": "[encoded data removed]",
      "text/plain": [
       "<Figure size 432x288 with 1 Axes>"
      ]
     },
     "metadata": {
      "needs_background": "light"
     },
     "output_type": "display_data"
    }
   ],
   "source": [
    "# 변환전 벡터\n",
    "# quiver 함수 : 그래프의 화살표 벡터를 표시\n",
    "# quiver(원점, x좌표, y좌표, 색상, 각도, 단위)\n",
    "plt.quiver(*origin, x1[0],x1[1], color='r', angles='xy', scale_units='xy', scale=1)\n",
    "\n",
    "plt.quiver(*origin, x2[0],x2[1], color='b', angles='xy', scale_units='xy', scale=1)\n",
    "\n",
    "# 변환후 벡터\n",
    "\n",
    "plt.quiver(*origin, x3[0],x3[1], color='k', alpha=0.5, angles='xy', scale_units='xy', scale=1)\n",
    "\n",
    "plt.quiver(*origin, x4[0],x4[1], color='k', alpha=0.5, angles='xy', scale_units='xy', scale=1)\n",
    "\n",
    "\n",
    "plt.xlim(-5,5)\n",
    "plt.ylim(-5,5)\n",
    "plt.grid(True)\n"
   ]
  },
  {
   "cell_type": "code",
   "execution_count": 41,
   "id": "f6dc7f0f-95d4-4294-9779-e54356548ad6",
   "metadata": {},
   "outputs": [
    {
     "data": {
      "text/plain": [
       "(array([4, 2]),\n",
       " array([[1, -1],\n",
       "        [1, 1]]))"
      ]
     },
     "execution_count": 41,
     "metadata": {},
     "output_type": "execute_result"
    }
   ],
   "source": [
    "# numpy함수로 고유값 알아내기\n",
    "\n",
    "np.set_printoptions(formatter={'float_kind':'{:.0f}'.format},suppress=True)\n",
    "\n",
    "A = np.array([[3,1],[1,3]])\n",
    "eigval, eigvec = np.linalg.eig(A)\n",
    "eigval, eigvec"
   ]
  },
  {
   "cell_type": "code",
   "execution_count": null,
   "id": "ed3e36a0-75f9-42bb-9b1a-2793b2c00d26",
   "metadata": {},
   "outputs": [],
   "source": []
  },
  {
   "cell_type": "code",
   "execution_count": null,
   "id": "4ab5644c-807d-4511-98c0-6da49956b66d",
   "metadata": {},
   "outputs": [],
   "source": []
  },
  {
   "cell_type": "code",
   "execution_count": null,
   "id": "24ecf103-782a-4b3a-861f-111f9a245fdd",
   "metadata": {},
   "outputs": [],
   "source": []
  },
  {
   "cell_type": "code",
   "execution_count": null,
   "id": "e0977fb7-99a8-4d3b-af22-aa4af875dd85",
   "metadata": {},
   "outputs": [],
   "source": []
  },
  {
   "cell_type": "markdown",
   "id": "cbf0a578-6b2c-4a70-9261-771a44e207e3",
   "metadata": {},
   "source": [
    "## 주성분 분석 순서\n",
    "* 먼저 데이터를 표준화/정규화한 후\n",
    "* 각 변수간 공분산을 구하고\n",
    "* 이것을 이용해서 고유값/고유벡터를 구함\n",
    "* 분산이 큰 고유벡터를 찾아 데이터를 이것에 투영해서\n",
    "* 그 결과값들을 분석이나 시각화에 사용"
   ]
  },
  {
   "cell_type": "code",
   "execution_count": 10,
   "id": "45d4d5cd-264c-4b73-ac4c-dc7a7d0e808b",
   "metadata": {},
   "outputs": [],
   "source": [
    "import numpy as np\n",
    "import pandas as pd\n",
    "import matplotlib.pyplot as plt"
   ]
  },
  {
   "cell_type": "code",
   "execution_count": 2,
   "id": "30e8f2b5-678f-404e-875f-14a3d72be0f6",
   "metadata": {},
   "outputs": [],
   "source": [
    "from sklearn.datasets import load_iris\n",
    "from sklearn.preprocessing import StandardScaler\n",
    "from sklearn.decomposition import PCA"
   ]
  },
  {
   "cell_type": "code",
   "execution_count": 3,
   "id": "01334e36-2027-4f11-b3c7-95b1e25bf8fb",
   "metadata": {},
   "outputs": [],
   "source": [
    "iris = load_iris()\n",
    "data = iris.data\n",
    "target = iris.target"
   ]
  },
  {
   "cell_type": "code",
   "execution_count": 4,
   "id": "be485846-7d56-4fb5-bf69-8373d86dbbfe",
   "metadata": {},
   "outputs": [],
   "source": [
    "# 전처리\n",
    "\n",
    "data = StandardScaler().fit_transform(data)"
   ]
  },
  {
   "cell_type": "markdown",
   "id": "4d332d6a-fa09-4650-b2b9-4961f101adac",
   "metadata": {},
   "source": [
    "## 공분산 계산\n",
    "* 각 독립변수(특성)별 상관관계 파악\n",
    "* 그러기 위해서는 특성들을 전치행렬로 변환해야 함\n",
    "* 전치행렬은 객체명.T로 간단히 만들수 있음"
   ]
  },
  {
   "cell_type": "code",
   "execution_count": 6,
   "id": "c6ecfd39-9dad-4598-a7f5-2f09d1a71bb5",
   "metadata": {},
   "outputs": [
    {
     "data": {
      "text/plain": [
       "array([[ 1.00671141, -0.11835884,  0.87760447,  0.82343066],\n",
       "       [-0.11835884,  1.00671141, -0.43131554, -0.36858315],\n",
       "       [ 0.87760447, -0.43131554,  1.00671141,  0.96932762],\n",
       "       [ 0.82343066, -0.36858315,  0.96932762,  1.00671141]])"
      ]
     },
     "execution_count": 6,
     "metadata": {},
     "output_type": "execute_result"
    }
   ],
   "source": [
    "cov_matrix=np.cov(data.T)\n",
    "cov_matrix"
   ]
  },
  {
   "cell_type": "markdown",
   "id": "d98e0a7c-ca85-4f98-81e1-6169c093c484",
   "metadata": {
    "tags": []
   },
   "source": [
    "## 공분산의 고유값/고유벡터 계산\n",
    "* numpy에서 linalg.eig함수 제공"
   ]
  },
  {
   "cell_type": "code",
   "execution_count": 8,
   "id": "15349924-bf95-4770-887a-1a18c5e9b807",
   "metadata": {},
   "outputs": [
    {
     "data": {
      "text/plain": [
       "(array([2.93808505, 0.9201649 , 0.14774182, 0.02085386]),\n",
       " array([[ 0.52106591, -0.37741762, -0.71956635,  0.26128628],\n",
       "        [-0.26934744, -0.92329566,  0.24438178, -0.12350962],\n",
       "        [ 0.5804131 , -0.02449161,  0.14212637, -0.80144925],\n",
       "        [ 0.56485654, -0.06694199,  0.63427274,  0.52359713]]))"
      ]
     },
     "execution_count": 8,
     "metadata": {},
     "output_type": "execute_result"
    }
   ],
   "source": [
    "eigval, eigvec = np.linalg.eig(cov_matrix)\n",
    "eigval, eigvec"
   ]
  },
  {
   "cell_type": "code",
   "execution_count": 11,
   "id": "4ab58bce-fac1-429f-bc7a-7516cc2f1ff5",
   "metadata": {},
   "outputs": [
    {
     "data": {
      "text/plain": [
       "array([0.72962445, 0.22850762, 0.03668922, 0.00517871])"
      ]
     },
     "execution_count": 11,
     "metadata": {},
     "output_type": "execute_result"
    }
   ],
   "source": [
    "# 데이터의 차원을 1차원으로 변환했을때  73%\n",
    "# 2차원으로 변환하는 경우 73+23% 정도로\n",
    "# 고유 데이터의 분산을 유지할 수 있음\n",
    "\n",
    "eigval/sum(eigval)"
   ]
  },
  {
   "cell_type": "markdown",
   "id": "7f8d8654-3051-4337-a165-bbcf51e68b40",
   "metadata": {},
   "source": [
    "## 고유값을 이용해서 적절한 주성분 갯수 선택\n",
    "* 스크리scree 그래프 이용"
   ]
  },
  {
   "cell_type": "code",
   "execution_count": 12,
   "id": "91b9358a-946c-48e9-ae82-12d3eb30d8f7",
   "metadata": {},
   "outputs": [
    {
     "data": {
      "text/plain": [
       "[<matplotlib.lines.Line2D at 0x7f99eb403c50>]"
      ]
     },
     "execution_count": 12,
     "metadata": {},
     "output_type": "execute_result"
    },
    {
     "data": {
      "image/png": "[encoded data removed]",
      "text/plain": [
       "<Figure size 432x288 with 1 Axes>"
      ]
     },
     "metadata": {
      "needs_background": "light"
     },
     "output_type": "display_data"
    }
   ],
   "source": [
    "plt.plot(eigval, 'ro-')"
   ]
  },
  {
   "cell_type": "code",
   "execution_count": 15,
   "id": "bbadcf2c-ea19-4414-ac89-412e13554e8e",
   "metadata": {},
   "outputs": [],
   "source": [
    "# 투영한 결과를 데이터프레임에 생성\n",
    "# 즉, 4차원 데이터를 고유벡터로 투영함\n",
    "# A벡터를 B벡터에 투열했을때 투영된 벡터의 길이를 구하는 공식\n",
    "# x.y / || y ||\n",
    "# x.y => np.dot(x,y)   / x.dot(y)\n",
    "# || y || => np.linalg.norm(y)"
   ]
  },
  {
   "cell_type": "code",
   "execution_count": 29,
   "id": "e6a0248f-7845-4fbf-aa90-99e8bfe466d0",
   "metadata": {},
   "outputs": [],
   "source": [
    "projX1 = data.dot(eigvec.T[0]) / np.linalg.norm(eigvec.T[0])\n",
    "result = pd.DataFrame(projX1, columns=['PC1'])"
   ]
  },
  {
   "cell_type": "code",
   "execution_count": 30,
   "id": "8e614924-04e2-4317-9b50-c31c01044b70",
   "metadata": {},
   "outputs": [],
   "source": [
    "projX2 = data.dot(eigvec.T[1]) / np.linalg.norm(eigvec.T[1])\n",
    "result['PC2']= projX2"
   ]
  },
  {
   "cell_type": "code",
   "execution_count": 31,
   "id": "2dae2215-d2a7-480c-8d90-7df2ab3c811a",
   "metadata": {},
   "outputs": [],
   "source": [
    "result['target'] = target"
   ]
  },
  {
   "cell_type": "code",
   "execution_count": 32,
   "id": "bcc2a53f-86d1-4560-8de2-91f10e90e916",
   "metadata": {},
   "outputs": [
    {
     "data": {
      "text/plain": [
       "<matplotlib.collections.PathCollection at 0x7f99eac8d4d0>"
      ]
     },
     "execution_count": 32,
     "metadata": {},
     "output_type": "execute_result"
    },
    {
     "data": {
      "image/png": "[encoded data removed]",
      "text/plain": [
       "<Figure size 432x288 with 1 Axes>"
      ]
     },
     "metadata": {
      "needs_background": "light"
     },
     "output_type": "display_data"
    }
   ],
   "source": [
    "# 기존 변수로 시각화\n",
    "plt.scatter(data[:,0], data[:,1], c=target)"
   ]
  },
  {
   "cell_type": "code",
   "execution_count": 33,
   "id": "9d954e59-10c0-4560-84f2-c641a34e8017",
   "metadata": {},
   "outputs": [
    {
     "data": {
      "text/plain": [
       "<matplotlib.collections.PathCollection at 0x7f99eb8bfe50>"
      ]
     },
     "execution_count": 33,
     "metadata": {},
     "output_type": "execute_result"
    },
    {
     "data": {
      "image/png": "[encoded data removed]",
      "text/plain": [
       "<Figure size 432x288 with 1 Axes>"
      ]
     },
     "metadata": {
      "needs_background": "light"
     },
     "output_type": "display_data"
    }
   ],
   "source": [
    "# 주성분 분서 후 시각화\n",
    "plt.scatter(result.PC1, result.PC2, c=target)"
   ]
  },
  {
   "cell_type": "markdown",
   "id": "a398b3fe-4a5d-4524-8118-16b6b4468da1",
   "metadata": {},
   "source": [
    "## sklearn으로 PCA분석"
   ]
  },
  {
   "cell_type": "code",
   "execution_count": 36,
   "id": "5c11717a-341d-435e-92fd-79c824222bbe",
   "metadata": {},
   "outputs": [],
   "source": [
    "# n_components : 차원축소할 차원수 지정\n",
    "pca = PCA(n_components=2)\n",
    "pcaXY = pca.fit_transform(data)\n",
    "result = pd.DataFrame(pcaXY, columns=['PC1','PC2'])\n",
    "result['target'] = target"
   ]
  },
  {
   "cell_type": "code",
   "execution_count": 37,
   "id": "04e2b5f1-cf6d-438d-b980-beee0d29296e",
   "metadata": {},
   "outputs": [
    {
     "data": {
      "text/plain": [
       "<matplotlib.collections.PathCollection at 0x7f99eb692710>"
      ]
     },
     "execution_count": 37,
     "metadata": {},
     "output_type": "execute_result"
    },
    {
     "data": {
      "image/png": "[encoded data removed]",
      "text/plain": [
       "<Figure size 432x288 with 1 Axes>"
      ]
     },
     "metadata": {
      "needs_background": "light"
     },
     "output_type": "display_data"
    }
   ],
   "source": [
    "plt.scatter(result.PC1, result.PC2, c=target)"
   ]
  },
  {
   "cell_type": "markdown",
   "id": "7302439b-6217-4451-87f7-b2799fb151d7",
   "metadata": {},
   "source": [
    "## 89구역 54개의 공원 잔디 식물종 분석\n",
    "* 1~54컬럼만 추출해서 주성분분석 실시\n",
    "* plot : 실험조건\n",
    "* species : 식물종\n",
    "* hey : 건초량\n",
    "* pH : 토양산성도"
   ]
  },
  {
   "cell_type": "code",
   "execution_count": null,
   "id": "32430855-2c69-4bc7-8b8b-97a5d4a5cbad",
   "metadata": {},
   "outputs": [],
   "source": []
  },
  {
   "cell_type": "code",
   "execution_count": null,
   "id": "3c9902a0-9b7d-414a-8128-f54a915e36c9",
   "metadata": {},
   "outputs": [],
   "source": []
  },
  {
   "cell_type": "code",
   "execution_count": null,
   "id": "f5a0ead0-1764-4fc7-8cfc-db0ac00ec7d4",
   "metadata": {},
   "outputs": [],
   "source": []
  },
  {
   "cell_type": "code",
   "execution_count": null,
   "id": "7b7ef7d4-333a-4ece-a461-acc566770387",
   "metadata": {},
   "outputs": [],
   "source": []
  },
  {
   "cell_type": "code",
   "execution_count": null,
   "id": "56bee8ce-029c-4783-8da0-8cdc57c36bb5",
   "metadata": {},
   "outputs": [],
   "source": []
  },
  {
   "cell_type": "code",
   "execution_count": null,
   "id": "85f00511-3cfe-42dc-8716-61363bd83a46",
   "metadata": {},
   "outputs": [],
   "source": []
  },
  {
   "cell_type": "code",
   "execution_count": null,
   "id": "966f5c3e-8f6c-4007-b850-e13edc640b46",
   "metadata": {},
   "outputs": [],
   "source": []
  },
  {
   "cell_type": "code",
   "execution_count": null,
   "id": "dc8263f1-504d-4f09-b13d-5bee18b9a23a",
   "metadata": {},
   "outputs": [],
   "source": []
  },
  {
   "cell_type": "code",
   "execution_count": null,
   "id": "d863d5d4-edf0-4d4a-9f9d-8ba9e3f667e4",
   "metadata": {},
   "outputs": [],
   "source": []
  },
  {
   "cell_type": "code",
   "execution_count": null,
   "id": "e91c8e97-8912-44b5-8711-802bcf41d0b7",
   "metadata": {},
   "outputs": [],
   "source": []
  },
  {
   "cell_type": "code",
   "execution_count": null,
   "id": "ff1f62f8-cd22-4857-a6b2-f28e18d0519d",
   "metadata": {},
   "outputs": [],
   "source": []
  },
  {
   "cell_type": "code",
   "execution_count": null,
   "id": "904e7cfd-8040-4fbb-80ef-f6a806db53b0",
   "metadata": {},
   "outputs": [],
   "source": []
  },
  {
   "cell_type": "code",
   "execution_count": null,
   "id": "74c6982b-dc9d-42bf-bbbc-5720aa675c04",
   "metadata": {},
   "outputs": [],
   "source": []
  },
  {
   "cell_type": "code",
   "execution_count": null,
   "id": "bde39f52-f584-4eb3-8a82-b546adb6440b",
   "metadata": {},
   "outputs": [],
   "source": []
  },
  {
   "cell_type": "code",
   "execution_count": null,
   "id": "2c1c17c3-1b00-4508-ae6c-9aadfc5ac5e8",
   "metadata": {},
   "outputs": [],
   "source": []
  },
  {
   "cell_type": "code",
   "execution_count": null,
   "id": "49f1a1f9-1674-43e2-b2f8-33a54c0880a2",
   "metadata": {},
   "outputs": [],
   "source": []
  },
  {
   "cell_type": "code",
   "execution_count": null,
   "id": "07d3e24e-dc48-41ac-8da1-24e300a9aa11",
   "metadata": {},
   "outputs": [],
   "source": []
  },
  {
   "cell_type": "code",
   "execution_count": null,
   "id": "1f5c3124-8017-4b7d-af07-aca7d7ca23bc",
   "metadata": {},
   "outputs": [],
   "source": []
  },
  {
   "cell_type": "code",
   "execution_count": null,
   "id": "364e27a5-bab7-4c37-8e0c-cb9e72017da6",
   "metadata": {},
   "outputs": [],
   "source": []
  },
  {
   "cell_type": "code",
   "execution_count": null,
   "id": "0d6b3c86-cd1d-416b-a1f6-ce9c70b20a04",
   "metadata": {},
   "outputs": [],
   "source": []
  },
  {
   "cell_type": "code",
   "execution_count": null,
   "id": "9d635f81-68ce-4db0-9b2f-2c88b1cad4b6",
   "metadata": {},
   "outputs": [],
   "source": []
  },
  {
   "cell_type": "code",
   "execution_count": null,
   "id": "58b1bde2-d397-412f-b1b9-f505a542c59e",
   "metadata": {},
   "outputs": [],
   "source": []
  }
 ],
 "metadata": {
  "kernelspec": {
   "display_name": "Python 3 (ipykernel)",
   "language": "python",
   "name": "python3"
  },
  "language_info": {
   "codemirror_mode": {
    "name": "ipython",
    "version": 3
   },
   "file_extension": ".py",
   "mimetype": "text/x-python",
   "name": "python",
   "nbconvert_exporter": "python",
   "pygments_lexer": "ipython3",
   "version": "3.7.10"
  }
 },
 "nbformat": 4,
 "nbformat_minor": 5
}
