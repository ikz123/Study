{
 "cells": [
  {
   "cell_type": "code",
   "execution_count": 2,
   "id": "451fbb29-845b-4004-86ac-0ce5bfbf4e2e",
   "metadata": {},
   "outputs": [],
   "source": [
    "import numpy as np\n",
    "import pandas as pd\n",
    "import matplotlib.pyplot as plt\n",
    "import sklearn"
   ]
  },
  {
   "cell_type": "markdown",
   "id": "51cbc035-172c-4d17-939d-11fdd4e2ae39",
   "metadata": {},
   "source": [
    "## 훈련과 테스트 데이터\n",
    "* 머신러닝 모델을 만들기 위해서는 훈련(학습)에 필요한 데이터집합이 있어야 함\n",
    "* 하지만, 전체 데이터 모드를 학습에 사용하면 과적합 문제 발생"
   ]
  },
  {
   "cell_type": "code",
   "execution_count": 3,
   "id": "1024849d-76a4-46ac-980f-e0b8eacb6335",
   "metadata": {},
   "outputs": [],
   "source": [
    "# train/test 데이터 분할의 필요성 알아보기\n",
    "from sklearn.datasets import load_iris\n",
    "from sklearn.tree import DecisionTreeClassifier\n",
    "from sklearn.metrics import accuracy_score"
   ]
  },
  {
   "cell_type": "code",
   "execution_count": 4,
   "id": "4ae4646b-9494-48fe-8c62-2717e4e7dda9",
   "metadata": {},
   "outputs": [],
   "source": [
    "# 데이터 적재\n",
    "iris = load_iris()\n",
    "data = iris.data     # 특성/독립변수\n",
    "label= iris.target   # 레이블/종속변수"
   ]
  },
  {
   "cell_type": "code",
   "execution_count": 5,
   "id": "ed8ef18b-6ca9-47d6-a976-5f320ba642eb",
   "metadata": {},
   "outputs": [
    {
     "data": {
      "text/plain": [
       "DecisionTreeClassifier()"
      ]
     },
     "execution_count": 5,
     "metadata": {},
     "output_type": "execute_result"
    }
   ],
   "source": [
    "# 의사결정나무 모델 생성을 위해 주어진 변수들로 학습(fit)을 시켜봄\n",
    "\n",
    "dtclf = DecisionTreeClassifier()\n",
    "dtclf.fit(data,label)"
   ]
  },
  {
   "cell_type": "code",
   "execution_count": 6,
   "id": "f6b2695a-c18d-4ab9-9b8e-a3a6c8d7720d",
   "metadata": {},
   "outputs": [],
   "source": [
    "# 생성된 모델에 기존 변수를 이용해서 예측(predict)을 해봄\n",
    "\n",
    "pred = dtclf.predict(data)"
   ]
  },
  {
   "cell_type": "code",
   "execution_count": 7,
   "id": "c76b9c6f-993a-42e9-868f-d7e9dbb6f9d6",
   "metadata": {},
   "outputs": [
    {
     "data": {
      "text/plain": [
       "1.0"
      ]
     },
     "execution_count": 7,
     "metadata": {},
     "output_type": "execute_result"
    }
   ],
   "source": [
    "# 예측값과 실제값으로 정확도를 알아봄\n",
    "accuracy_score(label, pred)"
   ]
  },
  {
   "cell_type": "code",
   "execution_count": 8,
   "id": "cb86a2a2-0bf9-4e86-8eef-0fffbf271259",
   "metadata": {},
   "outputs": [],
   "source": [
    "# 모델을 학습할때 사용한 데이터를\n",
    "# 모델을 평가할때도 사용함 -> 정확도 : 1 => 과적합"
   ]
  },
  {
   "cell_type": "markdown",
   "id": "ee6ed4f8-19a2-4b14-b6d2-4500203bb364",
   "metadata": {},
   "source": [
    "## 데이터를 학습용/평가용 데이터로 분할1\n",
    "* 분할 비율 = 7 : 3\n",
    "* iris 데이터 건수 : 150 => 105:45로 결정"
   ]
  },
  {
   "cell_type": "code",
   "execution_count": 9,
   "id": "f1fa8c28-bdd8-410d-8404-f2a84e99ad6c",
   "metadata": {},
   "outputs": [],
   "source": [
    "train_data = iris.data[:105,]\n",
    "test_data = iris.data[105:,]"
   ]
  },
  {
   "cell_type": "code",
   "execution_count": 10,
   "id": "c3d96b1c-222c-423a-bae1-f61106e31f89",
   "metadata": {},
   "outputs": [],
   "source": [
    "train_target = iris.target[:105,]\n",
    "test_target = iris.target[105:,]"
   ]
  },
  {
   "cell_type": "code",
   "execution_count": 11,
   "id": "224d7005-e207-4915-a758-4feff64653b9",
   "metadata": {},
   "outputs": [
    {
     "data": {
      "text/plain": [
       "DecisionTreeClassifier()"
      ]
     },
     "execution_count": 11,
     "metadata": {},
     "output_type": "execute_result"
    }
   ],
   "source": [
    "dtclf = DecisionTreeClassifier()\n",
    "dtclf.fit(train_data, train_target)"
   ]
  },
  {
   "cell_type": "code",
   "execution_count": 12,
   "id": "eb6e2dfd-2241-45b6-a20c-76d63c651b17",
   "metadata": {},
   "outputs": [
    {
     "data": {
      "text/plain": [
       "0.7777777777777778"
      ]
     },
     "execution_count": 12,
     "metadata": {},
     "output_type": "execute_result"
    }
   ],
   "source": [
    "pred = dtclf.predict(test_data)\n",
    "accuracy_score(test_target, pred)"
   ]
  },
  {
   "cell_type": "code",
   "execution_count": 13,
   "id": "f06a4ca0-6e80-4841-bcb7-2e77552e7707",
   "metadata": {},
   "outputs": [
    {
     "data": {
      "text/plain": [
       "0    50\n",
       "1    50\n",
       "2     5\n",
       "dtype: int64"
      ]
     },
     "execution_count": 13,
     "metadata": {},
     "output_type": "execute_result"
    }
   ],
   "source": [
    "# 데이터 분할이 잘 되었는지 확인\n",
    "pd.Series(train_target).value_counts()"
   ]
  },
  {
   "cell_type": "code",
   "execution_count": 14,
   "id": "87a7eaf2-478f-4443-8e4d-38f387f26dd4",
   "metadata": {},
   "outputs": [
    {
     "data": {
      "text/plain": [
       "2    45\n",
       "dtype: int64"
      ]
     },
     "execution_count": 14,
     "metadata": {},
     "output_type": "execute_result"
    }
   ],
   "source": [
    "pd.Series(test_target).value_counts()"
   ]
  },
  {
   "cell_type": "code",
   "execution_count": 15,
   "id": "c3f6be98-c1e3-4eee-b166-238e1d2e93b7",
   "metadata": {},
   "outputs": [],
   "source": [
    "# 데이터를 앞에서 부터 순서대로 나눴기 때문에 종속변수 비율이 일정하지 않음\n",
    "# setosa, versicolor, virginica의 비율이 모두 같아야하는데\n",
    "# train에는 setosa, versicolor 위주로\n",
    "# test에는 verginica 위주로 데이터가 분할됨"
   ]
  },
  {
   "cell_type": "markdown",
   "id": "2c447e2f-6fc4-47ae-b339-22608c1b0ce4",
   "metadata": {},
   "source": [
    "## 데이터를 학습용/평가용 데이터로 분할2\n",
    "* 독립변수의 속성들이 분포를 고려한 표본추출 필요\n",
    "  + sklearn의 train_test_split 함수 사용\n",
    "* train_test_split(독립변수, 종속변수, 훈련데이터크기, 평가데이터크기, [계층추출여부(분류용)], 시드값)"
   ]
  },
  {
   "cell_type": "code",
   "execution_count": 16,
   "id": "4dc8c8c0-f4d0-4f59-a9d9-4144d5c0f155",
   "metadata": {},
   "outputs": [],
   "source": [
    "from sklearn.model_selection import train_test_split"
   ]
  },
  {
   "cell_type": "code",
   "execution_count": 27,
   "id": "99ed3fa0-3768-431a-a673-873e592adf3e",
   "metadata": {},
   "outputs": [],
   "source": [
    "Xtrain, Xtest, ytrain, ytest = train_test_split(iris.data, iris.target, train_size=0.7, test_size=0.3, random_state=211040945)"
   ]
  },
  {
   "cell_type": "code",
   "execution_count": 28,
   "id": "2a1d3f1f-7e0b-439d-975c-e2afc0729165",
   "metadata": {},
   "outputs": [
    {
     "data": {
      "text/plain": [
       "1    19\n",
       "2    17\n",
       "0     9\n",
       "dtype: int64"
      ]
     },
     "execution_count": 28,
     "metadata": {},
     "output_type": "execute_result"
    }
   ],
   "source": [
    "pd.Series(ytrain).value_counts()\n",
    "pd.Series(ytest).value_counts()"
   ]
  },
  {
   "cell_type": "code",
   "execution_count": 29,
   "id": "9c4cd2a2-0116-40d8-bd37-b2c5a4ceb257",
   "metadata": {},
   "outputs": [
    {
     "data": {
      "text/plain": [
       "DecisionTreeClassifier()"
      ]
     },
     "execution_count": 29,
     "metadata": {},
     "output_type": "execute_result"
    }
   ],
   "source": [
    "dtclf = DecisionTreeClassifier()\n",
    "dtclf.fit(Xtrain, ytrain)"
   ]
  },
  {
   "cell_type": "code",
   "execution_count": 30,
   "id": "065d3d46-8716-4932-8ef4-67a9e5816ca0",
   "metadata": {},
   "outputs": [
    {
     "data": {
      "text/plain": [
       "0.9111111111111111"
      ]
     },
     "execution_count": 30,
     "metadata": {},
     "output_type": "execute_result"
    }
   ],
   "source": [
    "pred = dtclf.predict(Xtest)\n",
    "accuracy_score(ytest, pred)"
   ]
  },
  {
   "cell_type": "code",
   "execution_count": null,
   "id": "ef0fb419-d23d-4fb2-9358-df33ffcba7cc",
   "metadata": {},
   "outputs": [],
   "source": []
  },
  {
   "cell_type": "code",
   "execution_count": 31,
   "id": "7ceb92db-0367-40bc-992a-1cf8ece81079",
   "metadata": {},
   "outputs": [],
   "source": [
    "Xtrain, Xtest, ytrain, ytest = train_test_split(iris.data, iris.target, train_size=0.7, test_size=0.3, \n",
    "                                                stratify=iris.target, random_state=211040945)"
   ]
  },
  {
   "cell_type": "code",
   "execution_count": 32,
   "id": "407be5ee-07da-43ac-9cf1-504da9f59a0d",
   "metadata": {},
   "outputs": [
    {
     "data": {
      "text/plain": [
       "0    15\n",
       "1    15\n",
       "2    15\n",
       "dtype: int64"
      ]
     },
     "execution_count": 32,
     "metadata": {},
     "output_type": "execute_result"
    }
   ],
   "source": [
    "pd.Series(ytrain).value_counts()\n",
    "pd.Series(ytest).value_counts()"
   ]
  },
  {
   "cell_type": "code",
   "execution_count": 33,
   "id": "c42011ad-0cb2-457e-aba7-43c86607ec28",
   "metadata": {},
   "outputs": [
    {
     "data": {
      "text/plain": [
       "DecisionTreeClassifier()"
      ]
     },
     "execution_count": 33,
     "metadata": {},
     "output_type": "execute_result"
    }
   ],
   "source": [
    "dtclf = DecisionTreeClassifier()\n",
    "dtclf.fit(Xtrain, ytrain)"
   ]
  },
  {
   "cell_type": "code",
   "execution_count": 34,
   "id": "036faef9-fa66-47d2-a9ac-1261e4de6603",
   "metadata": {},
   "outputs": [
    {
     "data": {
      "text/plain": [
       "0.9555555555555556"
      ]
     },
     "execution_count": 34,
     "metadata": {},
     "output_type": "execute_result"
    }
   ],
   "source": [
    "pred = dtclf.predict(Xtest)\n",
    "accuracy_score(ytest, pred)"
   ]
  },
  {
   "cell_type": "code",
   "execution_count": null,
   "id": "f5746793-4226-410b-8a5c-66846f36844e",
   "metadata": {},
   "outputs": [],
   "source": []
  },
  {
   "cell_type": "code",
   "execution_count": null,
   "id": "e399f52b-d82c-4827-9eb2-5ca69f144497",
   "metadata": {},
   "outputs": [],
   "source": []
  },
  {
   "cell_type": "markdown",
   "id": "2001370a-1588-4a99-a7c7-a6963b395aac",
   "metadata": {},
   "source": [
    "## 데이터를 학습용/평가용 데이터로 분할3\n",
    "* 데이터수가 작은 경우 데이터의 일부인 평가데이터도 작음\n",
    "  + 성능평가의 신뢰도 의심\n",
    "* 데이터를 동일한 크기로 k개 나누고 이들중 훈련/평가데이터로 구분지어  \n",
    "  + 순환적으로 훈련 및 평가를 k번 실시함 => K fold 교차검증이라 함\n",
    "* cross_val_score(모델객체, 독립변수, 종속변수, 평가방법, 검증횟수)"
   ]
  },
  {
   "cell_type": "code",
   "execution_count": 35,
   "id": "1469e79c-ec03-47d1-bbbe-e98b3cd6bc64",
   "metadata": {},
   "outputs": [],
   "source": [
    "from sklearn.model_selection import cross_val_score"
   ]
  },
  {
   "cell_type": "code",
   "execution_count": 37,
   "id": "68fbeaa1-0366-4d69-a30e-d2613ef6c833",
   "metadata": {},
   "outputs": [],
   "source": [
    "dtclf = DecisionTreeClassifier()\n",
    "\n",
    "scores = cross_val_score(dtclf, iris.data, iris.target, scoring='accuracy', cv=5)"
   ]
  },
  {
   "cell_type": "code",
   "execution_count": 38,
   "id": "ab897594-8781-4179-81a6-257c130cb556",
   "metadata": {},
   "outputs": [
    {
     "data": {
      "text/plain": [
       "array([0.96666667, 0.96666667, 0.9       , 0.96666667, 1.        ])"
      ]
     },
     "execution_count": 38,
     "metadata": {},
     "output_type": "execute_result"
    }
   ],
   "source": [
    "scores"
   ]
  },
  {
   "cell_type": "code",
   "execution_count": 39,
   "id": "6a0960fa-2ca6-418f-88b1-6907febab758",
   "metadata": {},
   "outputs": [
    {
     "data": {
      "text/plain": [
       "0.9600000000000002"
      ]
     },
     "execution_count": 39,
     "metadata": {},
     "output_type": "execute_result"
    }
   ],
   "source": [
    "np.mean(scores)"
   ]
  },
  {
   "cell_type": "code",
   "execution_count": null,
   "id": "ac5440a3-3449-433a-a24d-ed04ffe5684b",
   "metadata": {},
   "outputs": [],
   "source": []
  },
  {
   "cell_type": "code",
   "execution_count": null,
   "id": "c115fc1e-9b56-449a-9e34-0d2004b76d33",
   "metadata": {},
   "outputs": [],
   "source": []
  },
  {
   "cell_type": "code",
   "execution_count": null,
   "id": "0bbabe39-6b7e-4653-9d99-b381d52f27de",
   "metadata": {},
   "outputs": [],
   "source": []
  },
  {
   "cell_type": "code",
   "execution_count": null,
   "id": "147cfeb1-cd52-4738-b42c-f42f90b2b74e",
   "metadata": {},
   "outputs": [],
   "source": []
  },
  {
   "cell_type": "code",
   "execution_count": null,
   "id": "fc15c05f-bec8-46fa-a340-905b21982b6b",
   "metadata": {},
   "outputs": [],
   "source": []
  },
  {
   "cell_type": "code",
   "execution_count": null,
   "id": "d8c50224-dd0e-471d-bec0-1f12420f4924",
   "metadata": {},
   "outputs": [],
   "source": []
  },
  {
   "cell_type": "code",
   "execution_count": null,
   "id": "c919003d-39ff-45ec-ba24-716fe68ea11b",
   "metadata": {},
   "outputs": [],
   "source": []
  },
  {
   "cell_type": "code",
   "execution_count": null,
   "id": "23aeb924-dd07-4d72-8a45-c9bb9bf70d7d",
   "metadata": {},
   "outputs": [],
   "source": []
  },
  {
   "cell_type": "code",
   "execution_count": null,
   "id": "2e371ed6-3ad0-48b8-b20b-e994de1fc6ae",
   "metadata": {},
   "outputs": [],
   "source": []
  },
  {
   "cell_type": "code",
   "execution_count": null,
   "id": "a5f903ca-3691-4153-9bd7-4728d1c6b053",
   "metadata": {},
   "outputs": [],
   "source": []
  },
  {
   "cell_type": "code",
   "execution_count": null,
   "id": "4a809d3c-42c8-4f49-89a9-876022974ab7",
   "metadata": {},
   "outputs": [],
   "source": []
  },
  {
   "cell_type": "code",
   "execution_count": null,
   "id": "5a026dbf-e23a-4911-80ae-e5a63045bafa",
   "metadata": {},
   "outputs": [],
   "source": []
  },
  {
   "cell_type": "code",
   "execution_count": null,
   "id": "07061887-1916-4bd1-a554-2061976daa46",
   "metadata": {},
   "outputs": [],
   "source": []
  },
  {
   "cell_type": "code",
   "execution_count": null,
   "id": "6bc30e56-435b-4e20-902e-8d520ae6c761",
   "metadata": {},
   "outputs": [],
   "source": []
  },
  {
   "cell_type": "code",
   "execution_count": null,
   "id": "ef7db520-295d-4c42-8e16-8e92afb3826f",
   "metadata": {},
   "outputs": [],
   "source": []
  }
 ],
 "metadata": {
  "kernelspec": {
   "display_name": "Python 3 (ipykernel)",
   "language": "python",
   "name": "python3"
  },
  "language_info": {
   "codemirror_mode": {
    "name": "ipython",
    "version": 3
   },
   "file_extension": ".py",
   "mimetype": "text/x-python",
   "name": "python",
   "nbconvert_exporter": "python",
   "pygments_lexer": "ipython3",
   "version": "3.7.10"
  }
 },
 "nbformat": 4,
 "nbformat_minor": 5
}
