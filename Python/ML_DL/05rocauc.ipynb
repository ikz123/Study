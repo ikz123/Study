{
 "cells": [
  {
   "cell_type": "markdown",
   "id": "b1e8cc83-290b-4e04-a816-ad6edb7e8ccd",
   "metadata": {},
   "source": [
    "# ROC\n",
    "\n",
    "* 수신자 판단 곡선 (receiver operation characteristic)\n",
    "* 세계 2차대전 통신장비 성능평가를 위해 고안된 수치\n",
    "    + 레이더 데이터를 분석해서 적 항공기와 신호소음을 구분\n",
    "    + 수신기의 감도가 증가함에 따라 거짓긍정(특이성)의 수가 감소\n",
    "* 의학분야에 많이 사용되지만 머신러닝의 이진분류 모델 성능 평가에도 사용\n",
    "* ROC 곡선의 y축은 민감도, x축은 1-재현율로 그림\n",
    "* 모델이 양성/긍정으로 예측했을때 얼마나 잘 맞추고 있는지 설명"
   ]
  },
  {
   "cell_type": "code",
   "execution_count": 3,
   "id": "e85dd85c-6490-4646-8cba-eae769adb2e3",
   "metadata": {},
   "outputs": [],
   "source": [
    "# 타이타닉 데이터셋을 로지스틱 회귀로 분석한 후  특이도/재현율을 구한다음 ROC 그래프를 그려보세요\n",
    "\n",
    "import numpy as np\n",
    "import pandas as pd\n",
    "import matplotlib.pyplot as plt\n",
    "import sklearn\n",
    "import seaborn as sns"
   ]
  },
  {
   "cell_type": "code",
   "execution_count": 6,
   "id": "9119af16-f1d3-4ce6-ab11-8050674532ff",
   "metadata": {},
   "outputs": [
    {
     "data": {
      "text/html": [
       "<div>\n",
       "<style scoped>\n",
       "    .dataframe tbody tr th:only-of-type {\n",
       "        vertical-align: middle;\n",
       "    }\n",
       "\n",
       "    .dataframe tbody tr th {\n",
       "        vertical-align: top;\n",
       "    }\n",
       "\n",
       "    .dataframe thead th {\n",
       "        text-align: right;\n",
       "    }\n",
       "</style>\n",
       "<table border=\"1\" class=\"dataframe\">\n",
       "  <thead>\n",
       "    <tr style=\"text-align: right;\">\n",
       "      <th></th>\n",
       "      <th>pclass</th>\n",
       "      <th>survived</th>\n",
       "      <th>name</th>\n",
       "      <th>sex</th>\n",
       "      <th>age</th>\n",
       "      <th>sibsp</th>\n",
       "      <th>parch</th>\n",
       "      <th>ticket</th>\n",
       "      <th>fare</th>\n",
       "      <th>embarked</th>\n",
       "      <th>life</th>\n",
       "      <th>seat</th>\n",
       "      <th>port</th>\n",
       "    </tr>\n",
       "  </thead>\n",
       "  <tbody>\n",
       "    <tr>\n",
       "      <th>0</th>\n",
       "      <td>1</td>\n",
       "      <td>1</td>\n",
       "      <td>Allen, Miss. Elisabeth Walton</td>\n",
       "      <td>female</td>\n",
       "      <td>29.0000</td>\n",
       "      <td>0</td>\n",
       "      <td>0</td>\n",
       "      <td>24160</td>\n",
       "      <td>211.3375</td>\n",
       "      <td>S</td>\n",
       "      <td>live</td>\n",
       "      <td>1st</td>\n",
       "      <td>cherbourg</td>\n",
       "    </tr>\n",
       "    <tr>\n",
       "      <th>1</th>\n",
       "      <td>1</td>\n",
       "      <td>1</td>\n",
       "      <td>Allison, Master. Hudson Trevor</td>\n",
       "      <td>male</td>\n",
       "      <td>0.9167</td>\n",
       "      <td>1</td>\n",
       "      <td>2</td>\n",
       "      <td>113781</td>\n",
       "      <td>151.5500</td>\n",
       "      <td>S</td>\n",
       "      <td>live</td>\n",
       "      <td>1st</td>\n",
       "      <td>cherbourg</td>\n",
       "    </tr>\n",
       "    <tr>\n",
       "      <th>2</th>\n",
       "      <td>1</td>\n",
       "      <td>0</td>\n",
       "      <td>Allison, Miss. Helen Loraine</td>\n",
       "      <td>female</td>\n",
       "      <td>2.0000</td>\n",
       "      <td>1</td>\n",
       "      <td>2</td>\n",
       "      <td>113781</td>\n",
       "      <td>151.5500</td>\n",
       "      <td>S</td>\n",
       "      <td>dead</td>\n",
       "      <td>1st</td>\n",
       "      <td>cherbourg</td>\n",
       "    </tr>\n",
       "    <tr>\n",
       "      <th>3</th>\n",
       "      <td>1</td>\n",
       "      <td>0</td>\n",
       "      <td>Allison, Mr. Hudson Joshua Creighton</td>\n",
       "      <td>male</td>\n",
       "      <td>30.0000</td>\n",
       "      <td>1</td>\n",
       "      <td>2</td>\n",
       "      <td>113781</td>\n",
       "      <td>151.5500</td>\n",
       "      <td>S</td>\n",
       "      <td>dead</td>\n",
       "      <td>1st</td>\n",
       "      <td>cherbourg</td>\n",
       "    </tr>\n",
       "    <tr>\n",
       "      <th>4</th>\n",
       "      <td>1</td>\n",
       "      <td>0</td>\n",
       "      <td>Allison, Mrs. Hudson J C (Bessie Waldo Daniels)</td>\n",
       "      <td>female</td>\n",
       "      <td>25.0000</td>\n",
       "      <td>1</td>\n",
       "      <td>2</td>\n",
       "      <td>113781</td>\n",
       "      <td>151.5500</td>\n",
       "      <td>S</td>\n",
       "      <td>dead</td>\n",
       "      <td>1st</td>\n",
       "      <td>cherbourg</td>\n",
       "    </tr>\n",
       "  </tbody>\n",
       "</table>\n",
       "</div>"
      ],
      "text/plain": [
       "   pclass  survived                                             name     sex  \\\n",
       "0       1         1                    Allen, Miss. Elisabeth Walton  female   \n",
       "1       1         1                   Allison, Master. Hudson Trevor    male   \n",
       "2       1         0                     Allison, Miss. Helen Loraine  female   \n",
       "3       1         0             Allison, Mr. Hudson Joshua Creighton    male   \n",
       "4       1         0  Allison, Mrs. Hudson J C (Bessie Waldo Daniels)  female   \n",
       "\n",
       "       age  sibsp  parch  ticket      fare embarked  life seat       port  \n",
       "0  29.0000      0      0   24160  211.3375        S  live  1st  cherbourg  \n",
       "1   0.9167      1      2  113781  151.5500        S  live  1st  cherbourg  \n",
       "2   2.0000      1      2  113781  151.5500        S  dead  1st  cherbourg  \n",
       "3  30.0000      1      2  113781  151.5500        S  dead  1st  cherbourg  \n",
       "4  25.0000      1      2  113781  151.5500        S  dead  1st  cherbourg  "
      ]
     },
     "execution_count": 6,
     "metadata": {},
     "output_type": "execute_result"
    }
   ],
   "source": [
    "titanic = pd.read_csv('data/titanic.csv')\n",
    "titanic.head()"
   ]
  },
  {
   "cell_type": "code",
   "execution_count": 8,
   "id": "ae0ffba7-b952-41d0-ac27-656afb8ee4f7",
   "metadata": {},
   "outputs": [],
   "source": [
    "titanic['gender'] = titanic['sex'].apply(lambda x : 0 if x == 'female' else 1)"
   ]
  },
  {
   "cell_type": "code",
   "execution_count": 10,
   "id": "804a3fe4-7ed6-4357-8e84-90ca88acffc8",
   "metadata": {},
   "outputs": [],
   "source": [
    "titanic['harbor'] = titanic['embarked'].apply(lambda x:0 if x == 'C' else (1 if x =='S' else 2))"
   ]
  },
  {
   "cell_type": "code",
   "execution_count": 11,
   "id": "3bcae435-4076-42ac-ad9d-22de809d4693",
   "metadata": {},
   "outputs": [],
   "source": [
    "data = titanic.iloc[:, [0,4,5,6,8,13,14]]\n",
    "target = titanic.survived"
   ]
  },
  {
   "cell_type": "code",
   "execution_count": 12,
   "id": "2e7aafd1-a658-4ae0-b342-d089fb146c99",
   "metadata": {},
   "outputs": [],
   "source": [
    "titanic.to_csv('titanic3.csv', index=False)"
   ]
  },
  {
   "cell_type": "code",
   "execution_count": 13,
   "id": "397a9b31-6742-4df6-b817-e26e5093c6bf",
   "metadata": {},
   "outputs": [],
   "source": [
    "from sklearn.model_selection import train_test_split\n",
    "from sklearn.linear_model import LogisticRegression"
   ]
  },
  {
   "cell_type": "code",
   "execution_count": 14,
   "id": "1d8c45b0-13ed-4577-98d0-cfe0c31c95d7",
   "metadata": {},
   "outputs": [],
   "source": [
    "Xtrain, Xtest, ytrain, ytest = train_test_split(data, target, train_size=0.7, random_state=2111050955)"
   ]
  },
  {
   "cell_type": "code",
   "execution_count": 15,
   "id": "3889e79a-1d44-4954-b4c4-8fb60efabd34",
   "metadata": {},
   "outputs": [
    {
     "name": "stderr",
     "output_type": "stream",
     "text": [
      "/opt/miniconda3/lib/python3.7/site-packages/sklearn/linear_model/_logistic.py:818: ConvergenceWarning: lbfgs failed to converge (status=1):\n",
      "STOP: TOTAL NO. of ITERATIONS REACHED LIMIT.\n",
      "\n",
      "Increase the number of iterations (max_iter) or scale the data as shown in:\n",
      "    https://scikit-learn.org/stable/modules/preprocessing.html\n",
      "Please also refer to the documentation for alternative solver options:\n",
      "    https://scikit-learn.org/stable/modules/linear_model.html#logistic-regression\n",
      "  extra_warning_msg=_LOGISTIC_SOLVER_CONVERGENCE_MSG,\n"
     ]
    }
   ],
   "source": [
    "lrclf = LogisticRegression()\n",
    "lrclf.fit(Xtrain, ytrain)\n",
    "pred = lrclf.predict(Xtest)"
   ]
  },
  {
   "cell_type": "markdown",
   "id": "18fcf605-6afb-4c40-9dc7-4cdd6c1c52c1",
   "metadata": {},
   "source": [
    "## 분류 알고리즘 종류\n",
    "* 판별함수 모형\n",
    "  + 주어진 데이터를 범주에 따라 서로 다른 영역으로 나누는 경계면을 찾아낸 후    \n",
    "     이 경계면을 기준으로 데이터가 어디에 속하는지 계산하는 함수 사용\n",
    "     \n",
    "     </br>\n",
    "     </br>\n",
    "* 확률절 판별/생성 모형\n",
    "  + 주어진 데이터에 대해 각 범주/레이블이 정답일 조건부확률을 계산하는 방법에 따라     \n",
    "    조건부확률 함수를 추정하거나 베이즈 정리를 사용해서 분류하는 모형\n",
    "     </br>\n",
    "     </br>\n",
    "* 분류기의 예측 불확실성을 추정하려면 scikit-learn에서 제공하는 2가지 함수 사용\n",
    "  + predict / predict_proba"
   ]
  },
  {
   "cell_type": "code",
   "execution_count": 17,
   "id": "a2ae25ef-60dd-41a5-81a4-8888219d48d4",
   "metadata": {},
   "outputs": [
    {
     "data": {
      "text/plain": [
       "array([0, 0, 0, 0, 0])"
      ]
     },
     "execution_count": 17,
     "metadata": {},
     "output_type": "execute_result"
    }
   ],
   "source": [
    "# 타이타닉 생존 예측확률 알아보기 1\n",
    "Xtest[:5]\n",
    "lrclf.predict(Xtest[:5])   # 예측결과는 이산형값으로 출력"
   ]
  },
  {
   "cell_type": "code",
   "execution_count": 18,
   "id": "a601d543-0aa8-45ab-8017-e5ea5acdb71d",
   "metadata": {},
   "outputs": [
    {
     "data": {
      "text/plain": [
       "array([[0.75907372, 0.24092628],\n",
       "       [0.53317206, 0.46682794],\n",
       "       [0.90039215, 0.09960785],\n",
       "       [0.90023582, 0.09976418],\n",
       "       [0.95356543, 0.04643457]])"
      ]
     },
     "execution_count": 18,
     "metadata": {},
     "output_type": "execute_result"
    }
   ],
   "source": [
    "# 타이타닉 생존 예측확률 알아보기 2\n",
    "lrclf.predict_proba(Xtest[:5])   # 예측결과는 확률수치로 출력"
   ]
  },
  {
   "cell_type": "code",
   "execution_count": 21,
   "id": "9986593e-da94-41b2-a21f-d3cf3832fa65",
   "metadata": {},
   "outputs": [
    {
     "data": {
      "text/plain": [
       "array([[0.75907372, 0.24092628],\n",
       "       [0.53317206, 0.46682794],\n",
       "       [0.90039215, 0.09960785],\n",
       "       [0.90023582, 0.09976418],\n",
       "       [0.95356543, 0.04643457]])"
      ]
     },
     "execution_count": 21,
     "metadata": {},
     "output_type": "execute_result"
    }
   ],
   "source": [
    "# 확률적 판별/생성 모형을 통해 특이도에 따른 재현율의 변화를 살펴봄\n",
    "lrclf.predict_proba(Xtest)[:5]"
   ]
  },
  {
   "cell_type": "code",
   "execution_count": 23,
   "id": "f5f70d8d-aff9-4e8b-b3ce-144ff695b514",
   "metadata": {},
   "outputs": [
    {
     "data": {
      "text/plain": [
       "(392,)"
      ]
     },
     "execution_count": 23,
     "metadata": {},
     "output_type": "execute_result"
    }
   ],
   "source": [
    "pred_proba = lrclf.predict_proba(Xtest)[:,1]\n",
    "pred_proba.shape   # 예측확률 건수 => 392"
   ]
  },
  {
   "cell_type": "code",
   "execution_count": 25,
   "id": "ec4dedc2-b654-4b79-8207-1efef91c32c1",
   "metadata": {
    "tags": []
   },
   "outputs": [
    {
     "data": {
      "text/html": [
       "<div>\n",
       "<style scoped>\n",
       "    .dataframe tbody tr th:only-of-type {\n",
       "        vertical-align: middle;\n",
       "    }\n",
       "\n",
       "    .dataframe tbody tr th {\n",
       "        vertical-align: top;\n",
       "    }\n",
       "\n",
       "    .dataframe thead th {\n",
       "        text-align: right;\n",
       "    }\n",
       "</style>\n",
       "<table border=\"1\" class=\"dataframe\">\n",
       "  <thead>\n",
       "    <tr style=\"text-align: right;\">\n",
       "      <th></th>\n",
       "      <th>ytest</th>\n",
       "      <th>proba</th>\n",
       "    </tr>\n",
       "  </thead>\n",
       "  <tbody>\n",
       "    <tr>\n",
       "      <th>332</th>\n",
       "      <td>0</td>\n",
       "      <td>0</td>\n",
       "    </tr>\n",
       "    <tr>\n",
       "      <th>164</th>\n",
       "      <td>1</td>\n",
       "      <td>0</td>\n",
       "    </tr>\n",
       "    <tr>\n",
       "      <th>1289</th>\n",
       "      <td>0</td>\n",
       "      <td>0</td>\n",
       "    </tr>\n",
       "    <tr>\n",
       "      <th>1279</th>\n",
       "      <td>0</td>\n",
       "      <td>0</td>\n",
       "    </tr>\n",
       "    <tr>\n",
       "      <th>1001</th>\n",
       "      <td>1</td>\n",
       "      <td>0</td>\n",
       "    </tr>\n",
       "  </tbody>\n",
       "</table>\n",
       "</div>"
      ],
      "text/plain": [
       "      ytest  proba\n",
       "332       0      0\n",
       "164       1      0\n",
       "1289      0      0\n",
       "1279      0      0\n",
       "1001      1      0"
      ]
     },
     "execution_count": 25,
     "metadata": {},
     "output_type": "execute_result"
    }
   ],
   "source": [
    "# 실제값, 확률값, 예측값을 하나의 데이터프레임에 작성\n",
    "df = pd.DataFrame()\n",
    "df['ytest'] = ytest\n",
    "df['proba'] = pred_proba   # FP 확률   \n",
    "df['proba'] = pred\n",
    "df.head()"
   ]
  },
  {
   "cell_type": "code",
   "execution_count": 42,
   "id": "cf0d7ff9-fa7d-4aef-bdb3-b57bdbc04d2e",
   "metadata": {},
   "outputs": [],
   "source": [
    "# 각 예측확률별 특이도 FPR와 민감도 TPR, 임계값을 구함\n",
    "# 즉, 생존했는데 사망했다고 예측한 비율과\n",
    "from sklearn.metrics import roc_curve"
   ]
  },
  {
   "cell_type": "code",
   "execution_count": 28,
   "id": "7467c46d-0c19-44d5-9854-93a2e1ec9c18",
   "metadata": {},
   "outputs": [
    {
     "name": "stdout",
     "output_type": "stream",
     "text": [
      "음성판단 [0.         0.00396825 0.00396825 0.00396825 0.00396825 0.00793651\n",
      " 0.00793651 0.01587302 0.01587302 0.01587302]\n",
      "양성판단 [0.         0.         0.24285714 0.25714286 0.27857143 0.28571429\n",
      " 0.33571429 0.33571429 0.35714286 0.36428571]\n"
     ]
    }
   ],
   "source": [
    "fprs, tprs, thresholds = roc_curve(ytest, pred_proba)\n",
    "print('음성판단', fprs[:10])\n",
    "print('양성판단', tprs[:10])"
   ]
  },
  {
   "cell_type": "code",
   "execution_count": 31,
   "id": "1afaa97b-0d5b-4d22-b8b4-63dd5a960dc0",
   "metadata": {},
   "outputs": [],
   "source": [
    "roc = pd.DataFrame({'FPR':fprs, 'TPR':tprs, 'Threshold':thresholds})"
   ]
  },
  {
   "cell_type": "markdown",
   "id": "8d925405-6ce8-4beb-bf04-4bf1394834ff",
   "metadata": {
    "tags": []
   },
   "source": [
    "<img src='img/thredhold2low.gif'>\n",
    "<img src='img/thredhold2high.gif'>\n",
    "<img src='img/thredhold2curve.gif'>\n",
    "<img src='img/roc2good.gif'>"
   ]
  },
  {
   "cell_type": "code",
   "execution_count": 33,
   "id": "fab50bbb-af8f-4481-b588-3b8fcf2d237a",
   "metadata": {},
   "outputs": [
    {
     "data": {
      "text/plain": [
       "<seaborn.axisgrid.FacetGrid at 0x7ff68b5351d0>"
      ]
     },
     "execution_count": 33,
     "metadata": {},
     "output_type": "execute_result"
    },
    {
     "data": {
      "image/png": "[encoded data removed]",
      "text/plain": [
       "<Figure size 414.875x360 with 1 Axes>"
      ]
     },
     "metadata": {
      "needs_background": "light"
     },
     "output_type": "display_data"
    }
   ],
   "source": [
    "# fpr과 tpr의 수치 시각화\n",
    "# TPR 곡선과 FPR 곡선이 서로 겹칠수록 분류기의 성능은 떨어짐\n",
    "\n",
    "sns.displot(roc.iloc[:, [0,1]], kind='kde')"
   ]
  },
  {
   "cell_type": "code",
   "execution_count": 34,
   "id": "d5d81ec2-28c1-440a-99b4-1f2299667c55",
   "metadata": {},
   "outputs": [
    {
     "data": {
      "text/plain": [
       "0.5200862449201471"
      ]
     },
     "execution_count": 34,
     "metadata": {},
     "output_type": "execute_result"
    }
   ],
   "source": [
    "# 최적의 임계값살펴보기\n",
    "# tprs와 fprs 중 가장 큰 값을 찾아서 서로 빼줌\n",
    "optidx = np.argmax(tprs-fprs)\n",
    "optths = thresholds[optidx]\n",
    "optths "
   ]
  },
  {
   "cell_type": "code",
   "execution_count": 40,
   "id": "3c739ba9-5222-4347-826e-0080f51f96e8",
   "metadata": {},
   "outputs": [
    {
     "data": {
      "text/plain": [
       "<matplotlib.legend.Legend at 0x7ff689038c10>"
      ]
     },
     "execution_count": 40,
     "metadata": {},
     "output_type": "execute_result"
    },
    {
     "data": {
      "image/png": "[encoded data removed]",
      "text/plain": [
       "<Figure size 432x288 with 1 Axes>"
      ]
     },
     "metadata": {
      "needs_background": "light"
     },
     "output_type": "display_data"
    }
   ],
   "source": [
    "# ROC 그래프 그림\n",
    "# 커브가 왼쪽 최상단에 가깝게 붙을수록 좋은 분류기임\n",
    "# x축은 FPR, y축은 TPR을 의미\n",
    "# TP : 사망한 승객을 사망했다고 예측한 것\n",
    "# FP : 사망하지 않은 승객을 사망했다고 예측한 것\n",
    "plt.plot(fprs, tprs, 'r', label='ROC',)\n",
    "plt.plot([0,1], [0,1], 'k--')\n",
    "plt.legend()"
   ]
  },
  {
   "cell_type": "code",
   "execution_count": null,
   "id": "b992321a-1063-4764-9218-6deb83e59192",
   "metadata": {},
   "outputs": [],
   "source": []
  },
  {
   "cell_type": "code",
   "execution_count": null,
   "id": "3b4f4782-ae6d-4cd8-84d0-b28e47a21bbd",
   "metadata": {},
   "outputs": [],
   "source": []
  },
  {
   "cell_type": "markdown",
   "id": "6038ffc6-15bc-4bcd-8285-a7b4c9fde178",
   "metadata": {},
   "source": [
    "## AUC\n",
    "* 0.7 ~ 0.8 : normal\n",
    "* 0.8 ~ 0.9 : good\n",
    "* 0.9 ~ 1 : excellent"
   ]
  },
  {
   "cell_type": "code",
   "execution_count": 36,
   "id": "903abe96-7e20-48d2-8da8-bc40054adc7c",
   "metadata": {},
   "outputs": [],
   "source": [
    "from sklearn.metrics import roc_auc_score"
   ]
  },
  {
   "cell_type": "code",
   "execution_count": 37,
   "id": "57d3b546-b93d-444c-85b9-95688b65b72f",
   "metadata": {},
   "outputs": [
    {
     "data": {
      "text/plain": [
       "0.7416666666666667"
      ]
     },
     "execution_count": 37,
     "metadata": {},
     "output_type": "execute_result"
    }
   ],
   "source": [
    "roc_auc_score(ytest, pred)"
   ]
  },
  {
   "cell_type": "code",
   "execution_count": null,
   "id": "86040228-16b8-4bfc-821c-5f088833375d",
   "metadata": {},
   "outputs": [],
   "source": []
  },
  {
   "cell_type": "code",
   "execution_count": null,
   "id": "ff941464-c71a-44a7-b342-ed5792fb9952",
   "metadata": {},
   "outputs": [],
   "source": [
    "\n"
   ]
  },
  {
   "cell_type": "code",
   "execution_count": null,
   "id": "2428bf2c-9e6e-43b2-b2db-0edcb46b394b",
   "metadata": {},
   "outputs": [],
   "source": []
  },
  {
   "cell_type": "code",
   "execution_count": null,
   "id": "e93834ef-f53e-4bed-805b-bb104070f271",
   "metadata": {},
   "outputs": [],
   "source": []
  },
  {
   "cell_type": "code",
   "execution_count": null,
   "id": "c4258f64-90bc-4741-9b32-6879487154ec",
   "metadata": {},
   "outputs": [],
   "source": []
  },
  {
   "cell_type": "code",
   "execution_count": null,
   "id": "a952badf-8032-4417-95b6-7f602f847638",
   "metadata": {},
   "outputs": [],
   "source": []
  }
 ],
 "metadata": {
  "kernelspec": {
   "display_name": "Python 3 (ipykernel)",
   "language": "python",
   "name": "python3"
  },
  "language_info": {
   "codemirror_mode": {
    "name": "ipython",
    "version": 3
   },
   "file_extension": ".py",
   "mimetype": "text/x-python",
   "name": "python",
   "nbconvert_exporter": "python",
   "pygments_lexer": "ipython3",
   "version": "3.7.10"
  }
 },
 "nbformat": 4,
 "nbformat_minor": 5
}
