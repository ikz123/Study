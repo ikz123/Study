{
 "cells": [
  {
   "cell_type": "markdown",
   "id": "0f224eac-d1ab-45e7-a382-8cea03409684",
   "metadata": {},
   "source": [
    "### 머신러닝 모델 평가\n",
    "* 일반적으로 머신러닝은\n",
    "    + 데이터가공/변환(전처리)\n",
    "    + 모델 학습/예측\n",
    "    + 평가의 과정을 거침\n",
    "* 앞의 타이타닉 분석에서 모델의 평가는 정확도만 사용함\n",
    "* 한편, 머신러닝의 예측성능의 평가방법은\n",
    "    + 회귀 : R^2, MSE평균제곱오차\n",
    "    + 분류 : 오차행렬, 정밀도ROC, AUC, F1스코어, 크로스엔트로피, 최대우도"
   ]
  },
  {
   "cell_type": "markdown",
   "id": "fd24c201-eb71-4f00-965f-c1c0a5a16e1e",
   "metadata": {
    "jp-MarkdownHeadingCollapsed": true,
    "tags": []
   },
   "source": [
    "### 정확도의 함정\n",
    "* 탐색적 분석 시행시 성별 기준 생존비율은 여성이 더 높음\n",
    "* 따라서, 굳이 ML알고리즘을 적용하지 않아도 성별이 여성일 경우 생존, 남성일 경우 사망이라고 예측해도 크게 무리가 없음\n",
    "* 즉, 단순히 성별 조건 하나만 적용해도 별거 아닌 알고리즘으로도 높은 정확도가 나타나는 상황 발생"
   ]
  },
  {
   "cell_type": "code",
   "execution_count": 51,
   "id": "f6a0301e-ead0-4466-9d8c-aad2e0bd5d6c",
   "metadata": {},
   "outputs": [],
   "source": [
    "# BaseEstimator 클래스를 상속받아 가짜분류기 생성\n",
    "from sklearn.base import BaseEstimator"
   ]
  },
  {
   "cell_type": "code",
   "execution_count": 52,
   "id": "be587550-471c-4f17-aa2e-6cce74234193",
   "metadata": {},
   "outputs": [],
   "source": [
    "class DummyClassifier(BaseEstimator):\n",
    "    def fit(self, X, y=None):\n",
    "        pass\n",
    "    \n",
    "    def predict(self, X):\n",
    "        pass\n",
    "    \n",
    "    # 성별이 1 (남자) 이면 사망(0)\n",
    "    # 성별이 0 (여자) 이면 생존(1) 이라고 \n",
    "    # 예측하는 predict메서드 정의\n",
    "    def predict(self, X):\n",
    "        # 입력데이터 크기만큼 0으로 채워진 1차원 행렬 생성\n",
    "        pred = np.zeros((X.shape[0],1))\n",
    "        \n",
    "        for i in range(X.shape[0]):\n",
    "            # 성별이 여성이면 무조건 생존이라 예측\n",
    "            if X['sex'].iloc[i] != 1:\n",
    "                pred[i] = 1\n",
    "                \n",
    "        return pred"
   ]
  },
  {
   "cell_type": "code",
   "execution_count": 53,
   "id": "684f8af4-e0ca-4467-85b0-e6dc07dd1ff7",
   "metadata": {},
   "outputs": [],
   "source": [
    "import pandas as pd\n",
    "import numpy as np\n",
    "from sklearn.model_selection import train_test_split\n",
    "from sklearn.metrics import accuracy_score"
   ]
  },
  {
   "cell_type": "code",
   "execution_count": 54,
   "id": "dfc17265-ecc6-47a8-92c5-884ea5c06add",
   "metadata": {},
   "outputs": [],
   "source": [
    "titanic = pd.read_csv('titanic.csv')"
   ]
  },
  {
   "cell_type": "code",
   "execution_count": 55,
   "id": "7bbb2d85-6907-4df8-bd66-4737f2702db4",
   "metadata": {},
   "outputs": [],
   "source": [
    "titanic['sex'] = titanic['sex'].apply(lambda x:0 if x == 'female' else 1)"
   ]
  },
  {
   "cell_type": "code",
   "execution_count": 56,
   "id": "e16e7319-06c5-4eb0-8705-5d9c0218d49d",
   "metadata": {},
   "outputs": [],
   "source": [
    "data = titanic.iloc[:, [0,3,4,5.6,8]]\n",
    "target = titanic.survived"
   ]
  },
  {
   "cell_type": "code",
   "execution_count": 57,
   "id": "9db2dba6-33f2-4a75-b704-9dca228c118b",
   "metadata": {},
   "outputs": [],
   "source": [
    "Xtrain, Xtest, ytrain, ytest = train_test_split(data, target, train_size=0.7, random_state=2111041205)"
   ]
  },
  {
   "cell_type": "code",
   "execution_count": 58,
   "id": "4245d8d5-e4cd-4fe1-9d85-1b5d50b2686a",
   "metadata": {},
   "outputs": [
    {
     "data": {
      "text/plain": [
       "0.798469387755102"
      ]
     },
     "execution_count": 58,
     "metadata": {},
     "output_type": "execute_result"
    }
   ],
   "source": [
    "myclf = DummyClassifier()\n",
    "myclf.fit(Xtrain, ytrain)\n",
    "pred = myclf.predict(Xtest)\n",
    "accuracy_score(pred, ytest)"
   ]
  },
  {
   "cell_type": "markdown",
   "id": "af1ad7f3-51e7-4943-a836-51b1299600e8",
   "metadata": {},
   "source": [
    "* 따라서 불균형한 레이블 데이터셋트의 성능수치로 정확도를 평가지표로 사용해서는 안됨\n",
    "    + 이러한 한계를 극복하기 위해 오차행렬을 사용\n",
    "    + 특히 분류모델에서 정확도보다 정밀도 /재현율을 더 선호"
   ]
  },
  {
   "cell_type": "code",
   "execution_count": 59,
   "id": "6574df84-d777-4988-92c5-b7523a82cb5f",
   "metadata": {},
   "outputs": [],
   "source": [
    "from sklearn.metrics import confusion_matrix\n",
    "from sklearn.metrics import classification_report"
   ]
  },
  {
   "cell_type": "code",
   "execution_count": 60,
   "id": "76c3521b-b7ab-441b-9423-a16f14a8141a",
   "metadata": {},
   "outputs": [
    {
     "data": {
      "text/plain": [
       "array([[202,  36],\n",
       "       [ 43, 111]])"
      ]
     },
     "execution_count": 60,
     "metadata": {},
     "output_type": "execute_result"
    }
   ],
   "source": [
    "confusion_matrix(pred, ytest)"
   ]
  },
  {
   "cell_type": "code",
   "execution_count": 61,
   "id": "88dcac3b-b847-4e2b-b628-900ded1420aa",
   "metadata": {},
   "outputs": [
    {
     "name": "stdout",
     "output_type": "stream",
     "text": [
      "              precision    recall  f1-score   support\n",
      "\n",
      "         0.0       0.82      0.85      0.84       238\n",
      "         1.0       0.76      0.72      0.74       154\n",
      "\n",
      "    accuracy                           0.80       392\n",
      "   macro avg       0.79      0.78      0.79       392\n",
      "weighted avg       0.80      0.80      0.80       392\n",
      "\n"
     ]
    }
   ],
   "source": [
    "print(classification_report(pred, ytest))"
   ]
  },
  {
   "cell_type": "code",
   "execution_count": 62,
   "id": "165b99c1-1797-4eb4-95db-02c6470b697d",
   "metadata": {},
   "outputs": [],
   "source": [
    "# iris 데이터셋을 이용해서 로지스틱 회귀모델로 분석한후 오차행렬과 정밀도/재현율등을 확인해보세요"
   ]
  },
  {
   "cell_type": "code",
   "execution_count": 63,
   "id": "84712252-97b3-43a1-a3d1-b0ee96ef3e89",
   "metadata": {},
   "outputs": [],
   "source": [
    "from sklearn.datasets import load_iris\n",
    "from sklearn.linear_model import LogisticRegression"
   ]
  },
  {
   "cell_type": "code",
   "execution_count": 64,
   "id": "d4f9e280-ccf7-4234-985b-eef3b4e5977b",
   "metadata": {},
   "outputs": [],
   "source": [
    "iris = load_iris()"
   ]
  },
  {
   "cell_type": "code",
   "execution_count": 65,
   "id": "71c51f3a-c376-4aa2-82b7-99ed3bcb243b",
   "metadata": {},
   "outputs": [],
   "source": [
    "Xtrain, Xtest, ytrain, ytest = train_test_split(iris.data, iris.target, train_size=0.7, stratify=iris.target, random_state=2111041255)"
   ]
  },
  {
   "cell_type": "code",
   "execution_count": 66,
   "id": "5076f601-0e38-499d-93d6-9acb867e33ea",
   "metadata": {},
   "outputs": [
    {
     "data": {
      "text/plain": [
       "0.9777777777777777"
      ]
     },
     "execution_count": 66,
     "metadata": {},
     "output_type": "execute_result"
    }
   ],
   "source": [
    "lrclf = LogisticRegression()\n",
    "lrclf.fit(Xtrain, ytrain)\n",
    "pred = lrclf.predict(Xtest)\n",
    "accuracy_score(pred, ytest)"
   ]
  },
  {
   "cell_type": "code",
   "execution_count": 67,
   "id": "5878d8e4-77a4-4031-8984-13f34c520861",
   "metadata": {},
   "outputs": [
    {
     "name": "stdout",
     "output_type": "stream",
     "text": [
      "              precision    recall  f1-score   support\n",
      "\n",
      "           0       1.00      1.00      1.00        15\n",
      "           1       0.93      1.00      0.97        14\n",
      "           2       1.00      0.94      0.97        16\n",
      "\n",
      "    accuracy                           0.98        45\n",
      "   macro avg       0.98      0.98      0.98        45\n",
      "weighted avg       0.98      0.98      0.98        45\n",
      "\n"
     ]
    }
   ],
   "source": [
    "print(classification_report(pred, ytest))"
   ]
  },
  {
   "cell_type": "code",
   "execution_count": 68,
   "id": "1b6f8364-cf00-469a-b0d3-64ad9bf52631",
   "metadata": {},
   "outputs": [
    {
     "data": {
      "text/plain": [
       "array([[15,  0,  0],\n",
       "       [ 0, 14,  0],\n",
       "       [ 0,  1, 15]])"
      ]
     },
     "execution_count": 68,
     "metadata": {},
     "output_type": "execute_result"
    }
   ],
   "source": [
    "confusion_matrix(pred, ytest)"
   ]
  },
  {
   "attachments": {
    "97539840-1f88-4770-90c6-dabc36323768.png": {
     "image/png": "[encoded data removed]"
    }
   },
   "cell_type": "markdown",
   "id": "cb0db806-0203-4886-b009-f1a91e3009a8",
   "metadata": {},
   "source": [
    "# TP, TN, FP, FN\n",
    "![image.png](attachment:97539840-1f88-4770-90c6-dabc36323768.png)"
   ]
  },
  {
   "cell_type": "markdown",
   "id": "25a71eb8-9621-4a6b-95d4-173cee0dad21",
   "metadata": {},
   "source": [
    "### 정확도\n",
    "* 맞는 것을 맞다고, 틀린것을 틀리다고 올바르게 예측한 것\n",
    "##  $ accuacy = \\frac {TP + TN} {TP + TN + FP + FN } $\n",
    "* 오차행렬에서 대각선 방향"
   ]
  },
  {
   "cell_type": "code",
   "execution_count": 69,
   "id": "c44e7fb7-e858-4b97-a008-791d513f51b8",
   "metadata": {},
   "outputs": [
    {
     "data": {
      "text/plain": [
       "0.798469387755102"
      ]
     },
     "execution_count": 69,
     "metadata": {},
     "output_type": "execute_result"
    }
   ],
   "source": [
    "# 타이타닉 분석결과의 오차행렬에서 정확도 계산\n",
    "(202 + 111) / (202 + 36 + 43 + 111)"
   ]
  },
  {
   "cell_type": "markdown",
   "id": "418c64a3-b347-47da-9bbd-012c88840de1",
   "metadata": {},
   "source": [
    "### 정밀도\n",
    "* 모델의 예측값이 얼마나 올바른지 알아보는 지표\n",
    "* 양성으로 예측한 것 중에서 실제로 양성인 것은 얼마나 존재하나?\n",
    "# 이 수치가 높을수록 모델의 성능이 좋다는 의미\n",
    "## $ precision = \\frac {TP} {Tp + FP}$"
   ]
  },
  {
   "cell_type": "code",
   "execution_count": 70,
   "id": "e5e2b241-0eb1-4f7a-b1b5-0c76487b3782",
   "metadata": {},
   "outputs": [
    {
     "data": {
      "text/plain": [
       "0.8244897959183674"
      ]
     },
     "execution_count": 70,
     "metadata": {},
     "output_type": "execute_result"
    }
   ],
   "source": [
    "# 타이타닉 분석결과의 오차행렬에서 정밀도 계산 \n",
    "(202) / (202 + 43)"
   ]
  },
  {
   "cell_type": "markdown",
   "id": "c05c5252-a746-4803-b2b5-c4e2c071ad18",
   "metadata": {},
   "source": [
    "### 재현율\n",
    "* 양성 중 양성이라고 예측한 것의 비율\n",
    "* 즉, 실제로 양성인 것을 얼마나 예측했는지 알아봄\n",
    "* 다른 말로는 민감도 또는 적중률(hit rate) 이라고도 함\n",
    "## $ recall = \\frac {TP} {TP + FN} $"
   ]
  },
  {
   "cell_type": "code",
   "execution_count": 71,
   "id": "151af2f5-7593-43cc-8027-e61bcbceab4e",
   "metadata": {},
   "outputs": [
    {
     "data": {
      "text/plain": [
       "0.8487394957983193"
      ]
     },
     "execution_count": 71,
     "metadata": {},
     "output_type": "execute_result"
    }
   ],
   "source": [
    "# 타이타닉 분석결과의 오차행렬에서 재현율 계산\n",
    "(202) / (202 + 36)"
   ]
  },
  {
   "cell_type": "markdown",
   "id": "87800982-a091-4650-a994-496945188626",
   "metadata": {},
   "source": [
    "### 정밀도/재현율의 trade-off\n",
    "* 분류하는 업무의 특성상 정밀도 또는 재현율이 특별히 강조되어야 하는 경우(특히 임상의료)\n",
    "* 결정 임계값을 조정하면 정미도 또는 재현율을 높일 수 있음\n",
    "    + 즉, 이진분류에서 0 또는 1로 판정할 기준값을 의미\n",
    "    + 임계값을 0.5로 정하는 경우 기준값보다 확률이 크면 posotive, 작으면 negative로 결정\n",
    "* 한편, 정밀도와 재현율은 상호보완적인 지표이기 때문에, 어느 한쪽을 올리면 다른 한쪽은 떨어지는 관계가 됨"
   ]
  },
  {
   "cell_type": "markdown",
   "id": "368a5495-1955-4e7d-9b4e-83b8743663aa",
   "metadata": {},
   "source": [
    "### F1 스코어\n",
    "* 정밀도와 재현율은 분류모델의 성능을 평가하는데 중요한 지표\n",
    "* 따라서, 이것들을 하나의 수치로 정리해서 나타낸 지표 - 조화평균\n",
    "* 데이터의 레이블이 불균형 구조일때 모델의 성늘을 정확하게 평가하기 위한 지표\n",
    "* 어느 한쪽으로 치우치지 않는 수치를 나타날때 상대적으로 높은 값을 가짐\n",
    "* 예를 들어, 예측모델 A의 정밀도와 재현율이 0.9/0.1이고, 예측모델 B의 정미도와 재현율이 0.55/0.45 일때 각각의 F1스코어는 0.18/0.495이다\n",
    "    + 따라서, 모델 B가 모델 A보다 우수하다\n",
    "## $ F1-score = \\frac  {Precision * recall} {Precision + recall} $"
   ]
  },
  {
   "cell_type": "code",
   "execution_count": 72,
   "id": "d61820b9-55e7-40c8-a6e5-a278845d8c78",
   "metadata": {},
   "outputs": [],
   "source": [
    "# 6마리의 동물형상 중 개p/고양이n를 맞추는 게임을 진행\n",
    "# 정답 = [개     개     개 고양이 개     고양이]\n",
    "# 예측 = [개     고양이 개 고양이 개     개    ]"
   ]
  },
  {
   "cell_type": "code",
   "execution_count": 73,
   "id": "95393e00-8c91-47a1-a450-9a53b2d8b93e",
   "metadata": {},
   "outputs": [],
   "source": [
    "# # 오차행렬은\n",
    "#                 p    n (predict)\n",
    "# (actua1)    p   3    2\n",
    "#             n   1    1"
   ]
  },
  {
   "cell_type": "code",
   "execution_count": 74,
   "id": "e88de1d5-b0b0-4c0c-9305-f9198e3fe5db",
   "metadata": {},
   "outputs": [],
   "source": [
    "# # 정확도는\n",
    "# 4 / 6 = 0.66 # (개를 개라고, 고양이를 고양이라고 예측) pp + pn = 4 ,  총6마리 나누기 4 \n",
    "# # 정밀도는\n",
    "# 3 / 4 = 0.75 # (개라고 예측한 것 중에서 개인비율) 개라고 예측 = 4  개라고 맞춘횟수 = 3 \n",
    "# # 재현율은\n",
    "# 3 / 4 = 0.75 # (실제 개중에서 내가 개라고 예측한 것)"
   ]
  },
  {
   "cell_type": "code",
   "execution_count": 75,
   "id": "f932bbe4-a923-42d2-96dd-4482eecf6f1b",
   "metadata": {},
   "outputs": [],
   "source": [
    "# 178개의 와인샘플을 13개의 여러 화학적 성분에 근거해 3가지 등급으로 분류한 wine 데이터셋을 이용해서 \n",
    "# logistic regression,으로 분석하고 오차행렬과 정밀도/재현율, F1스코어 등을 확인해보세요"
   ]
  },
  {
   "cell_type": "code",
   "execution_count": 76,
   "id": "ad91c4d8-d60b-47e6-a553-908a0a78f676",
   "metadata": {},
   "outputs": [],
   "source": [
    "from sklearn.datasets import load_wine"
   ]
  },
  {
   "cell_type": "code",
   "execution_count": 77,
   "id": "b509d666-dca0-4c12-8de9-36bea558f172",
   "metadata": {},
   "outputs": [],
   "source": [
    "wine = load_wine()"
   ]
  },
  {
   "cell_type": "code",
   "execution_count": 78,
   "id": "4881f35e-5fa4-4234-959e-5ee496f95fe3",
   "metadata": {},
   "outputs": [
    {
     "name": "stdout",
     "output_type": "stream",
     "text": [
      ".. _wine_dataset:\n",
      "\n",
      "Wine recognition dataset\n",
      "------------------------\n",
      "\n",
      "**Data Set Characteristics:**\n",
      "\n",
      "    :Number of Instances: 178 (50 in each of three classes)\n",
      "    :Number of Attributes: 13 numeric, predictive attributes and the class\n",
      "    :Attribute Information:\n",
      " \t\t- Alcohol\n",
      " \t\t- Malic acid\n",
      " \t\t- Ash\n",
      "\t\t- Alcalinity of ash  \n",
      " \t\t- Magnesium\n",
      "\t\t- Total phenols\n",
      " \t\t- Flavanoids\n",
      " \t\t- Nonflavanoid phenols\n",
      " \t\t- Proanthocyanins\n",
      "\t\t- Color intensity\n",
      " \t\t- Hue\n",
      " \t\t- OD280/OD315 of diluted wines\n",
      " \t\t- Proline\n",
      "\n",
      "    - class:\n",
      "            - class_0\n",
      "            - class_1\n",
      "            - class_2\n",
      "\t\t\n",
      "    :Summary Statistics:\n",
      "    \n",
      "    ============================= ==== ===== ======= =====\n",
      "                                   Min   Max   Mean     SD\n",
      "    ============================= ==== ===== ======= =====\n",
      "    Alcohol:                      11.0  14.8    13.0   0.8\n",
      "    Malic Acid:                   0.74  5.80    2.34  1.12\n",
      "    Ash:                          1.36  3.23    2.36  0.27\n",
      "    Alcalinity of Ash:            10.6  30.0    19.5   3.3\n",
      "    Magnesium:                    70.0 162.0    99.7  14.3\n",
      "    Total Phenols:                0.98  3.88    2.29  0.63\n",
      "    Flavanoids:                   0.34  5.08    2.03  1.00\n",
      "    Nonflavanoid Phenols:         0.13  0.66    0.36  0.12\n",
      "    Proanthocyanins:              0.41  3.58    1.59  0.57\n",
      "    Colour Intensity:              1.3  13.0     5.1   2.3\n",
      "    Hue:                          0.48  1.71    0.96  0.23\n",
      "    OD280/OD315 of diluted wines: 1.27  4.00    2.61  0.71\n",
      "    Proline:                       278  1680     746   315\n",
      "    ============================= ==== ===== ======= =====\n",
      "\n",
      "    :Missing Attribute Values: None\n",
      "    :Class Distribution: class_0 (59), class_1 (71), class_2 (48)\n",
      "    :Creator: R.A. Fisher\n",
      "    :Donor: Michael Marshall (MARSHALL%PLU@io.arc.nasa.gov)\n",
      "    :Date: July, 1988\n",
      "\n",
      "This is a copy of UCI ML Wine recognition datasets.\n",
      "https://archive.ics.uci.edu/ml/machine-learning-databases/wine/wine.data\n",
      "\n",
      "The data is the results of a chemical analysis of wines grown in the same\n",
      "region in Italy by three different cultivators. There are thirteen different\n",
      "measurements taken for different constituents found in the three types of\n",
      "wine.\n",
      "\n",
      "Original Owners: \n",
      "\n",
      "Forina, M. et al, PARVUS - \n",
      "An Extendible Package for Data Exploration, Classification and Correlation. \n",
      "Institute of Pharmaceutical and Food Analysis and Technologies,\n",
      "Via Brigata Salerno, 16147 Genoa, Italy.\n",
      "\n",
      "Citation:\n",
      "\n",
      "Lichman, M. (2013). UCI Machine Learning Repository\n",
      "[https://archive.ics.uci.edu/ml]. Irvine, CA: University of California,\n",
      "School of Information and Computer Science. \n",
      "\n",
      ".. topic:: References\n",
      "\n",
      "  (1) S. Aeberhard, D. Coomans and O. de Vel, \n",
      "  Comparison of Classifiers in High Dimensional Settings, \n",
      "  Tech. Rep. no. 92-02, (1992), Dept. of Computer Science and Dept. of  \n",
      "  Mathematics and Statistics, James Cook University of North Queensland. \n",
      "  (Also submitted to Technometrics). \n",
      "\n",
      "  The data was used with many others for comparing various \n",
      "  classifiers. The classes are separable, though only RDA \n",
      "  has achieved 100% correct classification. \n",
      "  (RDA : 100%, QDA 99.4%, LDA 98.9%, 1NN 96.1% (z-transformed data)) \n",
      "  (All results using the leave-one-out technique) \n",
      "\n",
      "  (2) S. Aeberhard, D. Coomans and O. de Vel, \n",
      "  \"THE CLASSIFICATION PERFORMANCE OF RDA\" \n",
      "  Tech. Rep. no. 92-01, (1992), Dept. of Computer Science and Dept. of \n",
      "  Mathematics and Statistics, James Cook University of North Queensland. \n",
      "  (Also submitted to Journal of Chemometrics).\n",
      "\n"
     ]
    }
   ],
   "source": [
    "print(wine.DESCR)"
   ]
  },
  {
   "cell_type": "code",
   "execution_count": 79,
   "id": "99f4d22f-89ae-4abb-b5b6-9e0eb84ac12a",
   "metadata": {},
   "outputs": [
    {
     "data": {
      "text/plain": [
       "array([[1.423e+01, 1.710e+00, 2.430e+00, 1.560e+01, 1.270e+02, 2.800e+00,\n",
       "        3.060e+00, 2.800e-01, 2.290e+00, 5.640e+00, 1.040e+00, 3.920e+00,\n",
       "        1.065e+03],\n",
       "       [1.320e+01, 1.780e+00, 2.140e+00, 1.120e+01, 1.000e+02, 2.650e+00,\n",
       "        2.760e+00, 2.600e-01, 1.280e+00, 4.380e+00, 1.050e+00, 3.400e+00,\n",
       "        1.050e+03],\n",
       "       [1.316e+01, 2.360e+00, 2.670e+00, 1.860e+01, 1.010e+02, 2.800e+00,\n",
       "        3.240e+00, 3.000e-01, 2.810e+00, 5.680e+00, 1.030e+00, 3.170e+00,\n",
       "        1.185e+03],\n",
       "       [1.437e+01, 1.950e+00, 2.500e+00, 1.680e+01, 1.130e+02, 3.850e+00,\n",
       "        3.490e+00, 2.400e-01, 2.180e+00, 7.800e+00, 8.600e-01, 3.450e+00,\n",
       "        1.480e+03],\n",
       "       [1.324e+01, 2.590e+00, 2.870e+00, 2.100e+01, 1.180e+02, 2.800e+00,\n",
       "        2.690e+00, 3.900e-01, 1.820e+00, 4.320e+00, 1.040e+00, 2.930e+00,\n",
       "        7.350e+02]])"
      ]
     },
     "execution_count": 79,
     "metadata": {},
     "output_type": "execute_result"
    }
   ],
   "source": [
    "wine.data[:5]"
   ]
  },
  {
   "cell_type": "code",
   "execution_count": 80,
   "id": "87734c36-a8e8-4ed5-9494-f3d3ca3d0a6f",
   "metadata": {},
   "outputs": [
    {
     "data": {
      "text/plain": [
       "['alcohol',\n",
       " 'malic_acid',\n",
       " 'ash',\n",
       " 'alcalinity_of_ash',\n",
       " 'magnesium',\n",
       " 'total_phenols',\n",
       " 'flavanoids',\n",
       " 'nonflavanoid_phenols',\n",
       " 'proanthocyanins',\n",
       " 'color_intensity',\n",
       " 'hue',\n",
       " 'od280/od315_of_diluted_wines',\n",
       " 'proline']"
      ]
     },
     "execution_count": 80,
     "metadata": {},
     "output_type": "execute_result"
    }
   ],
   "source": [
    "wine.feature_names # 컬럼명"
   ]
  },
  {
   "cell_type": "code",
   "execution_count": 81,
   "id": "18b4842d-187b-460b-b743-fab30d470b6e",
   "metadata": {},
   "outputs": [
    {
     "data": {
      "text/plain": [
       "array(['class_0', 'class_1', 'class_2'], dtype='<U7')"
      ]
     },
     "execution_count": 81,
     "metadata": {},
     "output_type": "execute_result"
    }
   ],
   "source": [
    "wine.target_names # 종속변수값"
   ]
  },
  {
   "cell_type": "code",
   "execution_count": 82,
   "id": "04487675-a630-4cfc-a7cf-555736c12979",
   "metadata": {},
   "outputs": [],
   "source": [
    "wines = pd.Series(wine.target).value_counts() # 종속변수값 분포"
   ]
  },
  {
   "cell_type": "code",
   "execution_count": 83,
   "id": "e8c84e89-8e03-4a3f-b49e-2f32b1298d51",
   "metadata": {},
   "outputs": [
    {
     "name": "stderr",
     "output_type": "stream",
     "text": [
      "/opt/miniconda3/lib/python3.7/site-packages/ipykernel_launcher.py:3: UserWarning: Pandas doesn't allow columns to be created via a new attribute name - see https://pandas.pydata.org/pandas-docs/stable/indexing.html#attribute-access\n",
      "  This is separate from the ipykernel package so we can avoid doing imports until\n"
     ]
    },
    {
     "data": {
      "text/html": [
       "<div>\n",
       "<style scoped>\n",
       "    .dataframe tbody tr th:only-of-type {\n",
       "        vertical-align: middle;\n",
       "    }\n",
       "\n",
       "    .dataframe tbody tr th {\n",
       "        vertical-align: top;\n",
       "    }\n",
       "\n",
       "    .dataframe thead th {\n",
       "        text-align: right;\n",
       "    }\n",
       "</style>\n",
       "<table border=\"1\" class=\"dataframe\">\n",
       "  <thead>\n",
       "    <tr style=\"text-align: right;\">\n",
       "      <th></th>\n",
       "      <th>0</th>\n",
       "      <th>1</th>\n",
       "      <th>2</th>\n",
       "      <th>3</th>\n",
       "      <th>4</th>\n",
       "      <th>5</th>\n",
       "      <th>6</th>\n",
       "      <th>7</th>\n",
       "      <th>8</th>\n",
       "      <th>9</th>\n",
       "      <th>10</th>\n",
       "      <th>11</th>\n",
       "      <th>12</th>\n",
       "      <th>class</th>\n",
       "    </tr>\n",
       "  </thead>\n",
       "  <tbody>\n",
       "    <tr>\n",
       "      <th>0</th>\n",
       "      <td>14.23</td>\n",
       "      <td>1.71</td>\n",
       "      <td>2.43</td>\n",
       "      <td>15.6</td>\n",
       "      <td>127.0</td>\n",
       "      <td>2.80</td>\n",
       "      <td>3.06</td>\n",
       "      <td>0.28</td>\n",
       "      <td>2.29</td>\n",
       "      <td>5.64</td>\n",
       "      <td>1.04</td>\n",
       "      <td>3.92</td>\n",
       "      <td>1065.0</td>\n",
       "      <td>0</td>\n",
       "    </tr>\n",
       "    <tr>\n",
       "      <th>1</th>\n",
       "      <td>13.20</td>\n",
       "      <td>1.78</td>\n",
       "      <td>2.14</td>\n",
       "      <td>11.2</td>\n",
       "      <td>100.0</td>\n",
       "      <td>2.65</td>\n",
       "      <td>2.76</td>\n",
       "      <td>0.26</td>\n",
       "      <td>1.28</td>\n",
       "      <td>4.38</td>\n",
       "      <td>1.05</td>\n",
       "      <td>3.40</td>\n",
       "      <td>1050.0</td>\n",
       "      <td>0</td>\n",
       "    </tr>\n",
       "    <tr>\n",
       "      <th>2</th>\n",
       "      <td>13.16</td>\n",
       "      <td>2.36</td>\n",
       "      <td>2.67</td>\n",
       "      <td>18.6</td>\n",
       "      <td>101.0</td>\n",
       "      <td>2.80</td>\n",
       "      <td>3.24</td>\n",
       "      <td>0.30</td>\n",
       "      <td>2.81</td>\n",
       "      <td>5.68</td>\n",
       "      <td>1.03</td>\n",
       "      <td>3.17</td>\n",
       "      <td>1185.0</td>\n",
       "      <td>0</td>\n",
       "    </tr>\n",
       "    <tr>\n",
       "      <th>3</th>\n",
       "      <td>14.37</td>\n",
       "      <td>1.95</td>\n",
       "      <td>2.50</td>\n",
       "      <td>16.8</td>\n",
       "      <td>113.0</td>\n",
       "      <td>3.85</td>\n",
       "      <td>3.49</td>\n",
       "      <td>0.24</td>\n",
       "      <td>2.18</td>\n",
       "      <td>7.80</td>\n",
       "      <td>0.86</td>\n",
       "      <td>3.45</td>\n",
       "      <td>1480.0</td>\n",
       "      <td>0</td>\n",
       "    </tr>\n",
       "    <tr>\n",
       "      <th>4</th>\n",
       "      <td>13.24</td>\n",
       "      <td>2.59</td>\n",
       "      <td>2.87</td>\n",
       "      <td>21.0</td>\n",
       "      <td>118.0</td>\n",
       "      <td>2.80</td>\n",
       "      <td>2.69</td>\n",
       "      <td>0.39</td>\n",
       "      <td>1.82</td>\n",
       "      <td>4.32</td>\n",
       "      <td>1.04</td>\n",
       "      <td>2.93</td>\n",
       "      <td>735.0</td>\n",
       "      <td>0</td>\n",
       "    </tr>\n",
       "  </tbody>\n",
       "</table>\n",
       "</div>"
      ],
      "text/plain": [
       "       0     1     2     3      4     5     6     7     8     9    10    11  \\\n",
       "0  14.23  1.71  2.43  15.6  127.0  2.80  3.06  0.28  2.29  5.64  1.04  3.92   \n",
       "1  13.20  1.78  2.14  11.2  100.0  2.65  2.76  0.26  1.28  4.38  1.05  3.40   \n",
       "2  13.16  2.36  2.67  18.6  101.0  2.80  3.24  0.30  2.81  5.68  1.03  3.17   \n",
       "3  14.37  1.95  2.50  16.8  113.0  3.85  3.49  0.24  2.18  7.80  0.86  3.45   \n",
       "4  13.24  2.59  2.87  21.0  118.0  2.80  2.69  0.39  1.82  4.32  1.04  2.93   \n",
       "\n",
       "       12  class  \n",
       "0  1065.0      0  \n",
       "1  1050.0      0  \n",
       "2  1185.0      0  \n",
       "3  1480.0      0  \n",
       "4   735.0      0  "
      ]
     },
     "execution_count": 83,
     "metadata": {},
     "output_type": "execute_result"
    }
   ],
   "source": [
    "# wine 데이터셋을 dataframe으로 생성\n",
    "wines = pd.DataFrame(wine.data)\n",
    "wines.colums = wine.feature_names\n",
    "wines['class'] = wine.target\n",
    "wines.head()"
   ]
  },
  {
   "cell_type": "code",
   "execution_count": 84,
   "id": "cdca897b-85eb-4e6b-91ab-a2638f1e074e",
   "metadata": {},
   "outputs": [
    {
     "name": "stdout",
     "output_type": "stream",
     "text": [
      "<class 'pandas.core.frame.DataFrame'>\n",
      "RangeIndex: 178 entries, 0 to 177\n",
      "Data columns (total 14 columns):\n",
      " #   Column  Non-Null Count  Dtype  \n",
      "---  ------  --------------  -----  \n",
      " 0   0       178 non-null    float64\n",
      " 1   1       178 non-null    float64\n",
      " 2   2       178 non-null    float64\n",
      " 3   3       178 non-null    float64\n",
      " 4   4       178 non-null    float64\n",
      " 5   5       178 non-null    float64\n",
      " 6   6       178 non-null    float64\n",
      " 7   7       178 non-null    float64\n",
      " 8   8       178 non-null    float64\n",
      " 9   9       178 non-null    float64\n",
      " 10  10      178 non-null    float64\n",
      " 11  11      178 non-null    float64\n",
      " 12  12      178 non-null    float64\n",
      " 13  class   178 non-null    int64  \n",
      "dtypes: float64(13), int64(1)\n",
      "memory usage: 19.6 KB\n"
     ]
    }
   ],
   "source": [
    "wines.info()"
   ]
  },
  {
   "cell_type": "code",
   "execution_count": 85,
   "id": "9ec7512f-33e6-43eb-826d-c7485aee8fee",
   "metadata": {},
   "outputs": [],
   "source": [
    "# 데이터들을 train/test 로 나눔\n",
    "Xtrain, Xtest, ytrain, ytest = train_test_split(wine.data, wine.target, train_size=0.7, stratify=wine.target, random_state=2111041645)"
   ]
  },
  {
   "cell_type": "code",
   "execution_count": 86,
   "id": "5d34581a-9416-4ec2-9ab2-66943d3a6a17",
   "metadata": {},
   "outputs": [
    {
     "data": {
      "text/plain": [
       "0.9444444444444444"
      ]
     },
     "execution_count": 86,
     "metadata": {},
     "output_type": "execute_result"
    }
   ],
   "source": [
    "# max_iter : 적절한 해를 찾기위한 반복횟수 지정\n",
    "lrclf = LogisticRegression(max_iter=2500)\n",
    "lrclf.fit(Xtrain, ytrain)\n",
    "pred = lrclf.predict(Xtest)\n",
    "accuracy_score(pred, ytest)"
   ]
  },
  {
   "cell_type": "code",
   "execution_count": 87,
   "id": "ac55ff34-c053-4c53-9311-1a24cfe779f3",
   "metadata": {},
   "outputs": [
    {
     "data": {
      "text/plain": [
       "array([[17,  0,  0],\n",
       "       [ 1, 20,  1],\n",
       "       [ 0,  1, 14]])"
      ]
     },
     "execution_count": 87,
     "metadata": {},
     "output_type": "execute_result"
    }
   ],
   "source": [
    "confusion_matrix(pred, ytest)"
   ]
  },
  {
   "cell_type": "code",
   "execution_count": 88,
   "id": "225a3252-c289-43cc-b44c-45c1a1757178",
   "metadata": {},
   "outputs": [
    {
     "name": "stdout",
     "output_type": "stream",
     "text": [
      "              precision    recall  f1-score   support\n",
      "\n",
      "           0       0.94      1.00      0.97        17\n",
      "           1       0.95      0.91      0.93        22\n",
      "           2       0.93      0.93      0.93        15\n",
      "\n",
      "    accuracy                           0.94        54\n",
      "   macro avg       0.94      0.95      0.94        54\n",
      "weighted avg       0.94      0.94      0.94        54\n",
      "\n"
     ]
    }
   ],
   "source": [
    "print(classification_report(pred, ytest))"
   ]
  },
  {
   "cell_type": "code",
   "execution_count": 89,
   "id": "9dd4e943-ca45-4f66-aeb9-0462eb1a5ef6",
   "metadata": {},
   "outputs": [],
   "source": [
    "# 랜덤 포레스트를 이용한 분석\n",
    "from sklearn.ensemble import RandomForestClassifier"
   ]
  },
  {
   "cell_type": "code",
   "execution_count": 90,
   "id": "86482b24-4b9f-4a6e-8ce2-a189c0cd6995",
   "metadata": {},
   "outputs": [
    {
     "data": {
      "text/plain": [
       "0.9444444444444444"
      ]
     },
     "execution_count": 90,
     "metadata": {},
     "output_type": "execute_result"
    }
   ],
   "source": [
    "rfclf = RandomForestClassifier()\n",
    "rfclf.fit(Xtrain, ytrain)\n",
    "pred = rfclf.predict(Xtest)\n",
    "accuracy_score(ytest, pred)"
   ]
  },
  {
   "cell_type": "markdown",
   "id": "cfc38db8-21de-41f0-b7ee-2733ccfcfe78",
   "metadata": {},
   "source": [
    "### 적절한 변수선택을 통한 분석 방법 \n",
    "* SequentialFeatureSelectior 를 이용해서 적절한 변수는 몇개이고 그때의 정확도는 얼마인지 알아볼 수 있음"
   ]
  },
  {
   "cell_type": "code",
   "execution_count": 91,
   "id": "f13b2a7f-c648-4fe0-a43e-f9d5e773c980",
   "metadata": {},
   "outputs": [],
   "source": [
    "from sklearn.feature_selection import SequentialFeatureSelector\n",
    "from sklearn.neighbors import KNeighborsClassifier"
   ]
  },
  {
   "cell_type": "code",
   "execution_count": 92,
   "id": "0155bb42-76e8-46a1-bf1c-1554c5036b9e",
   "metadata": {},
   "outputs": [],
   "source": [
    "scores = []"
   ]
  },
  {
   "cell_type": "code",
   "execution_count": 93,
   "id": "b098b342-df76-42fb-a689-ca0c44a38353",
   "metadata": {},
   "outputs": [],
   "source": [
    "# lrclf = LogisticRegression(max_iter=10000)\n",
    "# for n in range(1,13):\n",
    "#     sfs = SequentialFeatureSelector(lrclf, n_features_to_select=n, n_jobs=-1)\n",
    "#     sfs.fit(Xtrain, ytrain)\n",
    "    \n",
    "#     mask = sfs.support_\n",
    "#     lrclf.fit(Xtrain[:, mask], ytrain)\n",
    "#     scores.append(lrclf.score(Xtrain[:,mask],ytrain))"
   ]
  },
  {
   "cell_type": "code",
   "execution_count": 94,
   "id": "ef250d25-fd04-4eae-a79a-2bb5016aee27",
   "metadata": {},
   "outputs": [],
   "source": [
    "knn = KNeighborsClassifier()\n",
    "for n in range(1,13):\n",
    "    sfs = SequentialFeatureSelector(knn, n_features_to_select=n, n_jobs=-1)\n",
    "    sfs.fit(Xtrain, ytrain)\n",
    "    \n",
    "    mask = sfs.support_\n",
    "    knn.fit(Xtrain[:, mask], ytrain)\n",
    "    scores.append(knn.score(Xtrain[:,mask],ytrain))"
   ]
  },
  {
   "cell_type": "code",
   "execution_count": 96,
   "id": "e3f23b30-537f-4fe7-af1c-c265de51158f",
   "metadata": {},
   "outputs": [
    {
     "data": {
      "image/png": "[encoded data removed]",
      "text/plain": [
       "<Figure size 432x288 with 1 Axes>"
      ]
     },
     "metadata": {
      "needs_background": "light"
     },
     "output_type": "display_data"
    }
   ],
   "source": [
    "import matplotlib.pyplot as plt\n",
    "plt.plot(scores)\n",
    "plt.grid()"
   ]
  },
  {
   "cell_type": "code",
   "execution_count": 102,
   "id": "bcea8e67-1358-46c6-a2af-79d262fac565",
   "metadata": {},
   "outputs": [
    {
     "data": {
      "text/plain": [
       "0.9596774193548387"
      ]
     },
     "execution_count": 102,
     "metadata": {},
     "output_type": "execute_result"
    }
   ],
   "source": [
    "# 종속변수가 6~7일때 정확도가 좋음\n",
    "sfs = SequentialFeatureSelector(knn, n_features_to_select=6, n_jobs=-1)\n",
    "sfs.fit(Xtrain, ytrain)\n",
    "mask = sfs.support_\n",
    "knn.fit(Xtrain[:, mask], ytrain)\n",
    "knn.score(Xtrain[:,mask],ytrain)"
   ]
  },
  {
   "cell_type": "code",
   "execution_count": 103,
   "id": "fe68a831-ee42-4763-a695-634b30a9d9a1",
   "metadata": {},
   "outputs": [
    {
     "data": {
      "text/plain": [
       "Index([3, 6, 7, 8, 9, 10], dtype='object')"
      ]
     },
     "execution_count": 103,
     "metadata": {},
     "output_type": "execute_result"
    }
   ],
   "source": [
    "# 최적의 정확도 출력시 컬럼들\n",
    "wines.columns[1:][mask] #"
   ]
  }
 ],
 "metadata": {
  "kernelspec": {
   "display_name": "Python 3 (ipykernel)",
   "language": "python",
   "name": "python3"
  },
  "language_info": {
   "codemirror_mode": {
    "name": "ipython",
    "version": 3
   },
   "file_extension": ".py",
   "mimetype": "text/x-python",
   "name": "python",
   "nbconvert_exporter": "python",
   "pygments_lexer": "ipython3",
   "version": "3.7.10"
  }
 },
 "nbformat": 4,
 "nbformat_minor": 5
}
