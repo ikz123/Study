{
 "cells": [
  {
   "cell_type": "markdown",
   "id": "64cca570-f8b2-4d61-986f-037d0dd86ca9",
   "metadata": {
    "tags": []
   },
   "source": [
    "## 나이브 베이즈 naive bayes 분석\n",
    "* 조건부확률이 이용한 확률 기반 머신러닝 분류 알고리즘  \n",
    "\n",
    "* 주사위를 굴려 짝수눈이 나올 확률P은?\n",
    "    + 어떤 사건의 확률P = 원하는 결과수 / 가능한 결과수\n",
    "    + 모든 실험의 결과가 동일한 가능성을 가진다고 가정함. \n",
    "    + 이를 고전적확률이라 함\n",
    "    + 상호배타적, 덧셈법칙, 여의법칙,\n",
    "    + 덧셈의 일반법칙,곱셈법칙(독립사건),조건부확률  \n",
    "    <br></br>\n",
    "* 동전을 100회 던졌을때 앞면이 나오는 횟수는?\n",
    "    + 전통적 확률에서는 일어난횟수/전체시도횟수로 계산\n",
    "    + 이를 경험적확률이라 함 - 일정한 확률로 반복시행\n",
    "    + 시행횟수가 충분히 했을때 어떤 사건이 일어나는 상대적 횟수는 일정한 패턴을 보인다는 의미 - 대수의 법칙\n",
    "    <br></br>    \n",
    "* 만일, A 라는 도시에 수지가 태어난 경우, 이 아이가 노벨상을 받을 확률은 얼마나 될까?\n",
    "    + 이것을 경험적 확률로 계산하려면\n",
    "    + 이 아이를 여러 명 살게하고 그 중 몇명이 노벨상을 받는지 평가해보면 됨\n",
    "    + 문제는 동일한 유전자, 환경에 자란 아이를 만들수 있는가 임\n",
    "    <br></br>\n",
    "* 이러한 상황에서는 베이즈 확률론을 이용한다\n",
    "    + 활용 가능한 정보에 기초해서 어떤 개인이 결정한 특정 사건이 발생할 가능성(확률)\n",
    "    + 일어나지 않은일에 대한 확률을 불확실성이라는 개념으로 이야기 함\n",
    "    + 즉, 이 사건과 관련된 여러가지 확률을 이용해서 새롭게 일어날 수 있는 사건에 대해 추정하는 것\n",
    "    + 이를  **주관적확률** 이라 함\n",
    "    + 베이즈 정리, 사전확률, 사후확률 - 나이브 베이즈"
   ]
  },
  {
   "cell_type": "markdown",
   "id": "fb1f4f57-fa10-4e40-8c71-09cc2b991b1a",
   "metadata": {},
   "source": [
    "## 중요 확률 개념\n",
    "* 조건부 확률\n",
    "    + 어떤 사건 B가 일어났을 때 사건 A가 일어날 확률을 의미\n",
    "    + $ P(A|B) = \\frac {P(A \\cap B)} {P(B)} $\n",
    "    <br></br>\n",
    "* 확률의 곱셈법칙\n",
    "    + 두 가지 이상의 사건이 동시에 발생하는 확률\n",
    "    + 사건 A,B가 동시에 일어날 확률은 사건 A 발생 확률과 사건 B 발생 확률을 곱한 것과 같음\n",
    "    + $ P(A ∩ B) = P(A|B)P(B) = P(B|A)P(A) $\n",
    "    <br></br>\n",
    "* 전체 확률의 법칙\n",
    "    + 나중에 주어지는 사건 X의 확률은 그 사건의 원인을 여러가지로 나누어서,\n",
    "    + 각 원인에 대한 조건부 확률 P(X|Y)과 그 원인이 되는 확률 P(Y)의 곱에 의한 \n",
    "    + 가중합으로 구할 수 있음을 말함\n",
    "    + $ P(A) = P(A ∩ B_1) + P(A ∩ B_2) + ... $"
   ]
  },
  {
   "cell_type": "markdown",
   "id": "0d73cb29-4b4e-42ab-bcda-11e82a09816a",
   "metadata": {
    "tags": []
   },
   "source": [
    "## 베이즈 이론\n",
    "* 18세기 영국 장로교 목사였던 토마스 베이즈는 신이 실제로 존재하는가에 대한 문제로 고심\n",
    "* 수학에 관심이 있었기 때문에 지구상의 모든 증거를 이용해서 신이 존재할 확률을 계산하는 공식을 개발하려 함\n",
    "* 후에 베이즈의 업적을 정리해서 나온 결과물\n",
    "* 이전의 경험과 현재의 증거를 토대로 어떤 사건의 확률을 추론\n",
    "<br></br>\n",
    "* 확률 $P(A|B)$ 를 알고 있을 때, 관계가 정반대인 확률 P(B|A)를 계산\n",
    "    + $P(A|B)= \\frac {P(A)P(B|A)}{P(B)}$\n",
    "    <br></br>\n",
    "    + $ P(A) $ : $A$의 사전확률 - 현재의 증거\n",
    "    + $ P(B) $ : $B$의 사전확률 - 과거의 경험\n",
    "    + $ P(A|B) $ : 사건 $B$가 주어졌을때 $A$의 조건부 확률\n",
    "      - 알려진 결과에 기초한 어떤 가설에 대한 가능성\n",
    "    + $ P(B|A) $ : 사건 $A$라는 증거에 대한 사후 확률\n",
    "       - 사건 $A$가 일어났다는 것을 알고 그것이 사건 $B$로 부터 일어난 것이라고 생각되는 조건부 확률\n",
    "\n",
    "    + ### $ P(A|B) = \\frac {P(B \\cap A)} {P(B)} = \\frac {P(B|A)P(A)} {P(B)} = \\frac {P(B|A)P(A)} {P(A ∩ B) + P(\\sim A ∩ B)}  $\n",
    "    <br></br>\n",
    "* 베이즈 정리 : $$ P(A|B) = \\frac {P(A)P(B|A)}{P(B)}$$\n",
    "* 조건부확률 : $P(A \\cap B) = P(A)P(B|A) = P(B)P(A|B)$"
   ]
  },
  {
   "cell_type": "markdown",
   "id": "e12ccb8b-aff3-40e8-b8ff-7bf1491734b7",
   "metadata": {},
   "source": [
    "## 몬티홀 문제 - 미국 티비쇼에서 유래한 퍼즐\n",
    "* 3개의 문 중 하나를 선택하여 문 뒤에 있는 상품을 주는 쇼\n",
    "* 출연자가 한 문을 선택했을 때, 사회자가 다른 문을 열어 염소가 있음을 보여주고는 현재의 선택을 바꾸겠냐고 물음\n",
    "* 이때 출현자는 처음 선택을 고수하는 것이 나을까?\n",
    "* 출연자가 스포츠카를 가지려면 현재의 선택을 바꾸는게 나을까?\n",
    "\n",
    "## 아들 딸 패러독스\n",
    "\n",
    "* 두 아이가 있는 어떤 집에서 [첫 아이가] 남자일때 두 아이 모두가 남자일 확률은?\n",
    "* 두 아이가 있는 어떤 집에서 [한 명이] 남자일때 두 아이 모두가 남자일 확률은?"
   ]
  },
  {
   "cell_type": "markdown",
   "id": "78a683c5-a957-4a99-9529-d7412cb74756",
   "metadata": {},
   "source": [
    "## 베이즈 정리\n",
    "* experience base prediction\n",
    "* 이전의 경험과 현재의 증거를 토대로 어떤 사건의 확률을 추론하는 알고리즘\n",
    "* 따라서, 사건이 일어날 확률을 토대로 의사결정을 하는 경우, 그와 관련된 사전정보를 얼마나 알고 있나에 따라 크게 좌우\n",
    "* 기하학 : 피타고라스 정리 = 확률학 : 베이즈 정리"
   ]
  },
  {
   "cell_type": "markdown",
   "id": "8abf390f-41f2-47ed-970f-4375f4f0ff58",
   "metadata": {},
   "source": [
    "## 베이즈 정리에 대한 예제\n",
    "* 삼키기 어려울 정도의 목에 통증 유발 - 인후염\n",
    "* 병원 방문후 검사(정확도 90%) 시행\n",
    "    + 결과 : 양성(폐암)\n",
    "* 의사 : 이 결과로 폐암일 확률은 10%도 안될 수 있음\n",
    "    + 폐암에 걸린 남성은 성인 남성 1% 정도\n",
    "* 환자 : 그래도 걱정이 되니 추가 검사 시행 - 음성(!)\n",
    "* 베이즈 정리에 근거, 실제 검사에서 양성이 나왔을때 진짜 폐암에 걸릴 확률은 ???\n",
    "    <br></br>\n",
    "* 베이즈 정리 : $$ P(A|B) = \\frac {P(A)P(B|A)}{P(B)}$$\n",
    "* 조건부확률 : $P(A \\cap B) = P(A)P(B|A) = P(B)P(A|B)$\n",
    "    <br></br>\n",
    "* 따라서, $ P(A|B) = \\frac {P(A \\cap B)}{P(B)} $ 로 도출가능\n",
    "* 결론적으로$ P(A|B) = \\frac{P(B)P(A|B)}{P(B)}$로도 사용가능\n",
    "     <br></br>\n",
    "* 양성일때 폐암일 확률 =\n",
    "    + ### $P(폐암|양성) = \\frac {P(폐암 \\cap 양성)} {P(양성)} = \\frac {P(폐암) P(양성|폐암)} {P(양성)} $\n",
    "    <br></br>\n",
    "* 폐암일때 양성일 확률\n",
    "    + ### $P(양성|폐암) = \\frac {P(양성\\cap폐암)} {P(폐암)} = \\frac {P(양성)P(폐암|양성)} {P(폐암)} $\n",
    "    <br></br>\n",
    "* 정확도 90% 검사로, 양성일때 폐암일 확률은? \n",
    "    + $ P(폐암|양성) = 0.9$\n",
    "* 성인 남성이 폐암에 걸릴 확률은? \n",
    "    + $P(폐암) = 0.01$\n",
    "* 양성일 확률은? \n",
    "    + $ P(양성) $\n",
    "    + 베이즈 정리와 전체 확률의 법칙을 이용\n",
    "        - 폐암이고, 검사로도 진짜 양성일 확률과\n",
    "        - 폐암이 아닌데, 검사로 양성일 확률을 더한 확률\n",
    "        <br></br>\n",
    "    + $P(양성|폐암)P(폐암) + P(양성|1-폐암)P(1-폐암)$\n",
    "       - = 0.9 * 0.01 + 0.1 * 0.99 \n",
    "       - = 0.10791 = 0.108 = 11%\n",
    "    + 따라서, \n",
    "       - $P(폐암|양성) = P(폐암)P(양성|폐암) / P(양성)$\n",
    "       - = (0.01 * 0.9) / 0.108 = 0.083 = 8.3% (별거아님)"
   ]
  },
  {
   "cell_type": "markdown",
   "id": "122369d0-40ad-4964-b1a8-0dcb9637060b",
   "metadata": {},
   "source": [
    "* 시간이 지나 다시 목이 아프고 숨을 쉬기 어려워서 다시 병원에 감\n",
    "* 다시 검사(정확도99%) 해보니 역시 양성\n",
    "    + 예전 경험에 비춰 별거 아니라고 생각\n",
    "* 의사는 폐암에 걸릴 확률이 50%로 증가\n",
    "    + 절대 심각할 수 있다고 경고\n",
    "    + $ P(양성|폐암)P(폐암) + P(양성|1-폐암)P(1-폐암) $\n",
    "        - = (0.99 * 0.01) + (0.01 * 0.99) = 0.0197\n",
    "    + 따라서, $ P(폐암|양성) = P(폐암)P(양성|폐암) / P(양성) $\n",
    "        - = (0.01 * 0.99) / 0.0197 = 0.503 = 50% (심각함)"
   ]
  },
  {
   "cell_type": "markdown",
   "id": "fd3ea4a1-dbc1-41f3-a836-979f5f37e232",
   "metadata": {
    "tags": []
   },
   "source": [
    "## 나이브베이즈 예제\n",
    "\n",
    "* 나이브베이즈에서 '나이브 naive'는 단순한 이란 뜻으로,   \n",
    "    모든 변수가 서로 독립이라고 가정하고 확률을 계산함\n",
    "* 사후 확률값 자체를 아는 것이 중요한 것이 아니고,   \n",
    "    각각의 사후확률의 크기를 비교하는것만으로도 충분하기때문에 수식의 분모는 상수 취급함\n",
    "* 각 변수의 상호작용을 고려해서 확률을 구하려면 수식이 상당히 복잡해짐\n",
    "* 각 변수를 독립사건처럼 단순화함으로써 수식이 단순해지는 효과를 얻을수 있음"
   ]
  },
  {
   "cell_type": "markdown",
   "id": "17c8de15-820e-4037-a8e6-4ab44d2d6257",
   "metadata": {},
   "source": [
    "## 예상 연체 발생관련 예제\n",
    "* 집은 없고 결혼했으며 회사경력 3년인 밥의 연체 가능성 여부를 알아보시오\n",
    "<img src = 'img/loan.png'>"
   ]
  },
  {
   "cell_type": "markdown",
   "id": "c17b7d7b-f770-4bc7-864e-83123180f149",
   "metadata": {},
   "source": [
    "* ### $ P(A|B) = \\frac {P(A)P(B|A)}{P(B)}$\n",
    "* P(연체|집,결혼,경력) = (P(연체)P(집|연체) / P(집)) x  \n",
    "    (P(연체)P(결혼|연체) / P(결혼)) x  \n",
    "    (P(연체)P(경력|연체) / P(경력))  \n",
    "    = P(연체)P(집|연체) x P(연체)P(결혼|연체) x P(연체)P(경력|연체)\n",
    "* P(B) = 집,결혼,경력\n",
    "* P(A) = 연체할 확률\n",
    "\n",
    "* 밥이 연체할 확률\n",
    "  + P(연체Y) = 3/10\n",
    "  + P(집N|Y) = 2/3\n",
    "  + P(결혼Y|Y) = 1/3\n",
    "  + P(경력3|Y) = 1/3\n",
    "  + 따라서, P(연체 n 집N n 결혼Y n 경력3)\n",
    "      - = 3/10 * 2/3 * 1/3 * 1/3 = 0.022\n",
    "  \n",
    "* 밥이 연체 안할 확률\n",
    "  + P(연체N) = 7/10\n",
    "  + P(집N|N) = 4/7\n",
    "  + P(결혼Y|N) = 4/7\n",
    "  + P(경력3|N) = 2/7\n",
    "  + 따라서, P(연체 n 집N n 결혼Y n 경력3)\n",
    "      - = 7/10 * 4/7 * 4/7 * 2/7 = 0.065"
   ]
  },
  {
   "cell_type": "markdown",
   "id": "fba41dae-f7b1-46a9-86db-6e5993d4ded6",
   "metadata": {},
   "source": [
    "## 영화마케팅 문제를 나이브이즈로 분석\n",
    "* 영화관객의 성향을 설문조사로 정리\n",
    "* 관객의 속성으로 영화취향을 파악해봄\n",
    "\n",
    "* P(B) = 20대, 여, IT, 미혼, 애인없음\n",
    "* P(A) = 추천할 영화장르는? (공포, 액션, 로맨틱, 스릴러, 코메디, SF, 무협)\n",
    "\n",
    "* 공포영화를 추천해줄 확률은?\n",
    "    + P(A|B) = P(공포|20대,여,IT,미혼,애인없음) =\n",
    "    + P(공포|20대) * P(공포|여) * P(공포|IT) * P(공포|미혼) * P(공포|애인없음)\n",
    "\n",
    "\n",
    "* 액션영화를 추천해줄 확률은?\n",
    "    + P(A|B) = P(액션|20대,여,IT,미혼,애인없음) =\n",
    "    + P(액션|20대) * P(액션|여) * P(액션|IT) * P(액션|미혼) * P(액션|애인없음)"
   ]
  },
  {
   "cell_type": "code",
   "execution_count": 18,
   "id": "7d1ace83-35b7-480c-a310-ef4a8e87cefd",
   "metadata": {},
   "outputs": [],
   "source": [
    "import math\n",
    "import numpy as np\n",
    "import pandas as pd\n",
    "import matplotlib.pyplot as plt\n",
    "import seaborn as sns"
   ]
  },
  {
   "cell_type": "code",
   "execution_count": 123,
   "id": "93ec4c7a-c521-40fd-aa3e-53eb240e11e8",
   "metadata": {},
   "outputs": [],
   "source": [
    "from sklearn.naive_bayes import MultinomialNB\n",
    "from sklearn.tree import DecisionTreeClassifier\n",
    "from sklearn.model_selection import train_test_split\n",
    "from sklearn.metrics import accuracy_score\n",
    "from sklearn.metrics import confusion_matrix"
   ]
  },
  {
   "cell_type": "code",
   "execution_count": 100,
   "id": "5f71d10f-4d06-4b21-8ea9-6cd4561f5ff0",
   "metadata": {},
   "outputs": [
    {
     "data": {
      "text/html": [
       "<div>\n",
       "<style scoped>\n",
       "    .dataframe tbody tr th:only-of-type {\n",
       "        vertical-align: middle;\n",
       "    }\n",
       "\n",
       "    .dataframe tbody tr th {\n",
       "        vertical-align: top;\n",
       "    }\n",
       "\n",
       "    .dataframe thead th {\n",
       "        text-align: right;\n",
       "    }\n",
       "</style>\n",
       "<table border=\"1\" class=\"dataframe\">\n",
       "  <thead>\n",
       "    <tr style=\"text-align: right;\">\n",
       "      <th></th>\n",
       "      <th>나이</th>\n",
       "      <th>성별</th>\n",
       "      <th>직업</th>\n",
       "      <th>결혼여부</th>\n",
       "      <th>이성친구</th>\n",
       "      <th>장르</th>\n",
       "    </tr>\n",
       "  </thead>\n",
       "  <tbody>\n",
       "    <tr>\n",
       "      <th>0</th>\n",
       "      <td>20대</td>\n",
       "      <td>여</td>\n",
       "      <td>디자이너</td>\n",
       "      <td>NO</td>\n",
       "      <td>YES</td>\n",
       "      <td>로맨틱</td>\n",
       "    </tr>\n",
       "    <tr>\n",
       "      <th>1</th>\n",
       "      <td>40대</td>\n",
       "      <td>남</td>\n",
       "      <td>홍보/마케팅</td>\n",
       "      <td>NO</td>\n",
       "      <td>NO</td>\n",
       "      <td>공포</td>\n",
       "    </tr>\n",
       "    <tr>\n",
       "      <th>2</th>\n",
       "      <td>10대</td>\n",
       "      <td>여</td>\n",
       "      <td>홍보/마케팅</td>\n",
       "      <td>NO</td>\n",
       "      <td>YES</td>\n",
       "      <td>로맨틱</td>\n",
       "    </tr>\n",
       "    <tr>\n",
       "      <th>3</th>\n",
       "      <td>20대</td>\n",
       "      <td>여</td>\n",
       "      <td>디자이너</td>\n",
       "      <td>YES</td>\n",
       "      <td>NO</td>\n",
       "      <td>로맨틱</td>\n",
       "    </tr>\n",
       "    <tr>\n",
       "      <th>4</th>\n",
       "      <td>10대</td>\n",
       "      <td>남</td>\n",
       "      <td>학생</td>\n",
       "      <td>NO</td>\n",
       "      <td>NO</td>\n",
       "      <td>액션</td>\n",
       "    </tr>\n",
       "  </tbody>\n",
       "</table>\n",
       "</div>"
      ],
      "text/plain": [
       "    나이 성별      직업 결혼여부 이성친구   장르\n",
       "0  20대  여    디자이너   NO  YES  로맨틱\n",
       "1  40대  남  홍보/마케팅   NO   NO   공포\n",
       "2  10대  여  홍보/마케팅   NO  YES  로맨틱\n",
       "3  20대  여    디자이너  YES   NO  로맨틱\n",
       "4  10대  남      학생   NO   NO   액션"
      ]
     },
     "execution_count": 100,
     "metadata": {},
     "output_type": "execute_result"
    }
   ],
   "source": [
    "# 공포영화를 추천해줄 확률은?\n",
    "# P(A|B) = P(공포|20대,여,IT,미혼,애인없음)\n",
    "# = P(공포|20대) * P(공포|여) * P(공포|IT) * P(공포|미혼) * P(공포|애인없음)\n",
    "\n",
    "movies = pd.read_csv('data/movie.csv', encoding='euc-kr')\n",
    "movies.head()"
   ]
  },
  {
   "cell_type": "code",
   "execution_count": 101,
   "id": "fe26c943-3a15-4a07-b6c2-4a1e0644cbb0",
   "metadata": {},
   "outputs": [],
   "source": [
    "plt.rc('font', family='NanumGothic')\n",
    "plt.rcParams['font.family'] == 'NanumGothic'\n",
    "plt.rcParams['axes.unicode_minus']=False"
   ]
  },
  {
   "cell_type": "code",
   "execution_count": 102,
   "id": "b96f8e18-f601-436c-862e-a09ff255ce0c",
   "metadata": {},
   "outputs": [
    {
     "data": {
      "text/plain": [
       "<AxesSubplot:xlabel='장르', ylabel='count'>"
      ]
     },
     "execution_count": 102,
     "metadata": {},
     "output_type": "execute_result"
    },
    {
     "data": {
      "image/png": "[encoded data removed]",
      "text/plain": [
       "<Figure size 432x288 with 1 Axes>"
      ]
     },
     "metadata": {
      "needs_background": "light"
     },
     "output_type": "display_data"
    }
   ],
   "source": [
    "sns.countplot(x='장르', data=movies)"
   ]
  },
  {
   "cell_type": "code",
   "execution_count": 114,
   "id": "3bd3c505-505d-4eda-8042-d81ebc088275",
   "metadata": {},
   "outputs": [],
   "source": [
    "cols = ['나이','성별','직업','결혼여부','이성친구','장르']\n",
    "ncols = ['age','gender','job','marry','lover','genre']"
   ]
  },
  {
   "cell_type": "code",
   "execution_count": 115,
   "id": "23064e4e-f60b-4674-9df6-1a88f3b15953",
   "metadata": {},
   "outputs": [
    {
     "data": {
      "text/html": [
       "<div>\n",
       "<style scoped>\n",
       "    .dataframe tbody tr th:only-of-type {\n",
       "        vertical-align: middle;\n",
       "    }\n",
       "\n",
       "    .dataframe tbody tr th {\n",
       "        vertical-align: top;\n",
       "    }\n",
       "\n",
       "    .dataframe thead th {\n",
       "        text-align: right;\n",
       "    }\n",
       "</style>\n",
       "<table border=\"1\" class=\"dataframe\">\n",
       "  <thead>\n",
       "    <tr style=\"text-align: right;\">\n",
       "      <th></th>\n",
       "      <th>나이</th>\n",
       "      <th>성별</th>\n",
       "      <th>직업</th>\n",
       "      <th>결혼여부</th>\n",
       "      <th>이성친구</th>\n",
       "      <th>장르</th>\n",
       "      <th>age</th>\n",
       "      <th>gender</th>\n",
       "      <th>job</th>\n",
       "      <th>marry</th>\n",
       "      <th>lover</th>\n",
       "      <th>genre</th>\n",
       "    </tr>\n",
       "  </thead>\n",
       "  <tbody>\n",
       "    <tr>\n",
       "      <th>0</th>\n",
       "      <td>20대</td>\n",
       "      <td>여</td>\n",
       "      <td>디자이너</td>\n",
       "      <td>NO</td>\n",
       "      <td>YES</td>\n",
       "      <td>로맨틱</td>\n",
       "      <td>2</td>\n",
       "      <td>1</td>\n",
       "      <td>1</td>\n",
       "      <td>0</td>\n",
       "      <td>1</td>\n",
       "      <td>2</td>\n",
       "    </tr>\n",
       "    <tr>\n",
       "      <th>1</th>\n",
       "      <td>40대</td>\n",
       "      <td>남</td>\n",
       "      <td>홍보/마케팅</td>\n",
       "      <td>NO</td>\n",
       "      <td>NO</td>\n",
       "      <td>공포</td>\n",
       "      <td>4</td>\n",
       "      <td>0</td>\n",
       "      <td>7</td>\n",
       "      <td>0</td>\n",
       "      <td>0</td>\n",
       "      <td>1</td>\n",
       "    </tr>\n",
       "    <tr>\n",
       "      <th>2</th>\n",
       "      <td>10대</td>\n",
       "      <td>여</td>\n",
       "      <td>홍보/마케팅</td>\n",
       "      <td>NO</td>\n",
       "      <td>YES</td>\n",
       "      <td>로맨틱</td>\n",
       "      <td>0</td>\n",
       "      <td>1</td>\n",
       "      <td>7</td>\n",
       "      <td>0</td>\n",
       "      <td>1</td>\n",
       "      <td>2</td>\n",
       "    </tr>\n",
       "    <tr>\n",
       "      <th>3</th>\n",
       "      <td>20대</td>\n",
       "      <td>여</td>\n",
       "      <td>디자이너</td>\n",
       "      <td>YES</td>\n",
       "      <td>NO</td>\n",
       "      <td>로맨틱</td>\n",
       "      <td>2</td>\n",
       "      <td>1</td>\n",
       "      <td>1</td>\n",
       "      <td>1</td>\n",
       "      <td>0</td>\n",
       "      <td>2</td>\n",
       "    </tr>\n",
       "    <tr>\n",
       "      <th>4</th>\n",
       "      <td>10대</td>\n",
       "      <td>남</td>\n",
       "      <td>학생</td>\n",
       "      <td>NO</td>\n",
       "      <td>NO</td>\n",
       "      <td>액션</td>\n",
       "      <td>0</td>\n",
       "      <td>0</td>\n",
       "      <td>6</td>\n",
       "      <td>0</td>\n",
       "      <td>0</td>\n",
       "      <td>5</td>\n",
       "    </tr>\n",
       "  </tbody>\n",
       "</table>\n",
       "</div>"
      ],
      "text/plain": [
       "    나이 성별      직업 결혼여부 이성친구   장르  age  gender  job  marry  lover  genre\n",
       "0  20대  여    디자이너   NO  YES  로맨틱    2       1    1      0      1      2\n",
       "1  40대  남  홍보/마케팅   NO   NO   공포    4       0    7      0      0      1\n",
       "2  10대  여  홍보/마케팅   NO  YES  로맨틱    0       1    7      0      1      2\n",
       "3  20대  여    디자이너  YES   NO  로맨틱    2       1    1      1      0      2\n",
       "4  10대  남      학생   NO   NO   액션    0       0    6      0      0      5"
      ]
     },
     "execution_count": 115,
     "metadata": {},
     "output_type": "execute_result"
    }
   ],
   "source": [
    "for ix, c in enumerate(cols):\n",
    "    x = pd.Categorical(movies[c])\n",
    "    movies[ncols[ix]] = pd.Series(x).cat.codes\n",
    "movies.head()"
   ]
  },
  {
   "cell_type": "code",
   "execution_count": 126,
   "id": "12b00d17-bfdf-471f-a772-457df882c850",
   "metadata": {},
   "outputs": [],
   "source": [
    "data   = movies.iloc[:, 6:11]\n",
    "target = movies.genre"
   ]
  },
  {
   "cell_type": "code",
   "execution_count": 129,
   "id": "fee17ea5-2aa4-4cee-a651-f28bf58d64e0",
   "metadata": {},
   "outputs": [
    {
     "data": {
      "text/plain": [
       "0.8205128205128205"
      ]
     },
     "execution_count": 129,
     "metadata": {},
     "output_type": "execute_result"
    }
   ],
   "source": [
    "# 나이브베이즈 분석\n",
    "# sklearn에서 제공하는 나이브베이즈 알고리즘은 3가지\n",
    "# BernoulliNB : 이진데이터,  종속변수가 '예/아니오' 일때 사용\n",
    "# MultinomialNB : 텍스트, 다항데이터, 종속변수값이 3가지 종류 이상일때 사용\n",
    "# GaussianNB : 연속형 데이터\n",
    "\n",
    "bayes = MultinomialNB()\n",
    "bayes.fit(data, target)\n",
    "bayes.score(data, target)"
   ]
  },
  {
   "cell_type": "code",
   "execution_count": 128,
   "id": "4b6e5ea6-e738-47a1-b428-76699b745c49",
   "metadata": {},
   "outputs": [
    {
     "name": "stderr",
     "output_type": "stream",
     "text": [
      "/opt/miniconda3/lib/python3.7/site-packages/sklearn/base.py:442: UserWarning: X does not have valid feature names, but MultinomialNB was fitted with feature names\n",
      "  \"X does not have valid feature names, but\"\n"
     ]
    },
    {
     "data": {
      "text/plain": [
       "array([0], dtype=int8)"
      ]
     },
     "execution_count": 128,
     "metadata": {},
     "output_type": "execute_result"
    }
   ],
   "source": [
    "# '20대, 여, IT, 미혼, 애인없음'인 고객에게 추천할 영화장르는?\n",
    "cust = np.array([[2,1,0,0,0]])\n",
    "bayes.predict(cust)"
   ]
  },
  {
   "cell_type": "code",
   "execution_count": null,
   "id": "40d737fb-e486-411b-bb03-2f92139b8327",
   "metadata": {},
   "outputs": [],
   "source": []
  },
  {
   "cell_type": "code",
   "execution_count": null,
   "id": "7ce242cf-d50d-4583-bfc3-27387f2d56c8",
   "metadata": {},
   "outputs": [],
   "source": []
  },
  {
   "cell_type": "markdown",
   "id": "c5402056-a989-4808-95e8-f42f21945098",
   "metadata": {},
   "source": [
    "## 연체여부 문제를 나이브베이즈로 분석하기\n",
    "* 집은 없고 결혼했으며 회사경력 3년인 밥의 연체여부"
   ]
  },
  {
   "cell_type": "code",
   "execution_count": 131,
   "id": "3245cfc9-15e1-483d-8894-3e5c0b207667",
   "metadata": {},
   "outputs": [],
   "source": [
    "from sklearn.naive_bayes import BernoulliNB"
   ]
  },
  {
   "cell_type": "code",
   "execution_count": 132,
   "id": "0e7471d6-4be9-420a-b8dd-07d5f07be3a3",
   "metadata": {},
   "outputs": [
    {
     "data": {
      "text/html": [
       "<div>\n",
       "<style scoped>\n",
       "    .dataframe tbody tr th:only-of-type {\n",
       "        vertical-align: middle;\n",
       "    }\n",
       "\n",
       "    .dataframe tbody tr th {\n",
       "        vertical-align: top;\n",
       "    }\n",
       "\n",
       "    .dataframe thead th {\n",
       "        text-align: right;\n",
       "    }\n",
       "</style>\n",
       "<table border=\"1\" class=\"dataframe\">\n",
       "  <thead>\n",
       "    <tr style=\"text-align: right;\">\n",
       "      <th></th>\n",
       "      <th>home</th>\n",
       "      <th>married</th>\n",
       "      <th>jobexp</th>\n",
       "      <th>defaulted</th>\n",
       "    </tr>\n",
       "  </thead>\n",
       "  <tbody>\n",
       "    <tr>\n",
       "      <th>0</th>\n",
       "      <td>yes</td>\n",
       "      <td>single</td>\n",
       "      <td>3</td>\n",
       "      <td>no</td>\n",
       "    </tr>\n",
       "    <tr>\n",
       "      <th>1</th>\n",
       "      <td>no</td>\n",
       "      <td>married</td>\n",
       "      <td>4</td>\n",
       "      <td>no</td>\n",
       "    </tr>\n",
       "    <tr>\n",
       "      <th>2</th>\n",
       "      <td>no</td>\n",
       "      <td>single</td>\n",
       "      <td>5</td>\n",
       "      <td>no</td>\n",
       "    </tr>\n",
       "    <tr>\n",
       "      <th>3</th>\n",
       "      <td>yes</td>\n",
       "      <td>married</td>\n",
       "      <td>4</td>\n",
       "      <td>no</td>\n",
       "    </tr>\n",
       "    <tr>\n",
       "      <th>4</th>\n",
       "      <td>no</td>\n",
       "      <td>divorced</td>\n",
       "      <td>2</td>\n",
       "      <td>yes</td>\n",
       "    </tr>\n",
       "  </tbody>\n",
       "</table>\n",
       "</div>"
      ],
      "text/plain": [
       "  home   married  jobexp defaulted\n",
       "0  yes    single       3        no\n",
       "1   no   married       4        no\n",
       "2   no    single       5        no\n",
       "3  yes   married       4        no\n",
       "4   no  divorced       2       yes"
      ]
     },
     "execution_count": 132,
     "metadata": {},
     "output_type": "execute_result"
    }
   ],
   "source": [
    "default = pd.read_csv('data/defaulted.csv')\n",
    "default.head()"
   ]
  },
  {
   "cell_type": "code",
   "execution_count": 133,
   "id": "c4b19fc3-87d9-4ec0-a844-b928f978a6fc",
   "metadata": {},
   "outputs": [
    {
     "data": {
      "text/plain": [
       "<AxesSubplot:xlabel='defaulted', ylabel='count'>"
      ]
     },
     "execution_count": 133,
     "metadata": {},
     "output_type": "execute_result"
    },
    {
     "data": {
      "image/png": "[encoded data removed]",
      "text/plain": [
       "<Figure size 432x288 with 1 Axes>"
      ]
     },
     "metadata": {
      "needs_background": "light"
     },
     "output_type": "display_data"
    }
   ],
   "source": [
    "sns.countplot(x='defaulted', data=default)"
   ]
  },
  {
   "cell_type": "code",
   "execution_count": 134,
   "id": "b0ce1108-b44f-4973-96d9-78b493f9d8c1",
   "metadata": {},
   "outputs": [],
   "source": [
    "cols = ['home','married','jobexp','defaulted']\n",
    "ncols = ['home2','married2','jobexp2','defaulted2']"
   ]
  },
  {
   "cell_type": "code",
   "execution_count": 135,
   "id": "b0994097-6e41-45e4-a1d2-366b72763839",
   "metadata": {},
   "outputs": [
    {
     "data": {
      "text/html": [
       "<div>\n",
       "<style scoped>\n",
       "    .dataframe tbody tr th:only-of-type {\n",
       "        vertical-align: middle;\n",
       "    }\n",
       "\n",
       "    .dataframe tbody tr th {\n",
       "        vertical-align: top;\n",
       "    }\n",
       "\n",
       "    .dataframe thead th {\n",
       "        text-align: right;\n",
       "    }\n",
       "</style>\n",
       "<table border=\"1\" class=\"dataframe\">\n",
       "  <thead>\n",
       "    <tr style=\"text-align: right;\">\n",
       "      <th></th>\n",
       "      <th>home</th>\n",
       "      <th>married</th>\n",
       "      <th>jobexp</th>\n",
       "      <th>defaulted</th>\n",
       "      <th>home2</th>\n",
       "      <th>married2</th>\n",
       "      <th>jobexp2</th>\n",
       "      <th>defaulted2</th>\n",
       "    </tr>\n",
       "  </thead>\n",
       "  <tbody>\n",
       "    <tr>\n",
       "      <th>0</th>\n",
       "      <td>yes</td>\n",
       "      <td>single</td>\n",
       "      <td>3</td>\n",
       "      <td>no</td>\n",
       "      <td>1</td>\n",
       "      <td>2</td>\n",
       "      <td>1</td>\n",
       "      <td>0</td>\n",
       "    </tr>\n",
       "    <tr>\n",
       "      <th>1</th>\n",
       "      <td>no</td>\n",
       "      <td>married</td>\n",
       "      <td>4</td>\n",
       "      <td>no</td>\n",
       "      <td>0</td>\n",
       "      <td>1</td>\n",
       "      <td>2</td>\n",
       "      <td>0</td>\n",
       "    </tr>\n",
       "    <tr>\n",
       "      <th>2</th>\n",
       "      <td>no</td>\n",
       "      <td>single</td>\n",
       "      <td>5</td>\n",
       "      <td>no</td>\n",
       "      <td>0</td>\n",
       "      <td>2</td>\n",
       "      <td>3</td>\n",
       "      <td>0</td>\n",
       "    </tr>\n",
       "    <tr>\n",
       "      <th>3</th>\n",
       "      <td>yes</td>\n",
       "      <td>married</td>\n",
       "      <td>4</td>\n",
       "      <td>no</td>\n",
       "      <td>1</td>\n",
       "      <td>1</td>\n",
       "      <td>2</td>\n",
       "      <td>0</td>\n",
       "    </tr>\n",
       "    <tr>\n",
       "      <th>4</th>\n",
       "      <td>no</td>\n",
       "      <td>divorced</td>\n",
       "      <td>2</td>\n",
       "      <td>yes</td>\n",
       "      <td>0</td>\n",
       "      <td>0</td>\n",
       "      <td>0</td>\n",
       "      <td>1</td>\n",
       "    </tr>\n",
       "  </tbody>\n",
       "</table>\n",
       "</div>"
      ],
      "text/plain": [
       "  home   married  jobexp defaulted  home2  married2  jobexp2  defaulted2\n",
       "0  yes    single       3        no      1         2        1           0\n",
       "1   no   married       4        no      0         1        2           0\n",
       "2   no    single       5        no      0         2        3           0\n",
       "3  yes   married       4        no      1         1        2           0\n",
       "4   no  divorced       2       yes      0         0        0           1"
      ]
     },
     "execution_count": 135,
     "metadata": {},
     "output_type": "execute_result"
    }
   ],
   "source": [
    "for ix, c in enumerate(cols):\n",
    "    x = pd.Categorical(default[c])\n",
    "    default[ncols[ix]] = pd.Series(x).cat.codes\n",
    "default.head()"
   ]
  },
  {
   "cell_type": "code",
   "execution_count": 138,
   "id": "6c69e598-a408-46cd-99a9-2addcaa53f14",
   "metadata": {},
   "outputs": [],
   "source": [
    "data = default.iloc[:, 4:7]\n",
    "target = default.iloc[:, 7]"
   ]
  },
  {
   "cell_type": "code",
   "execution_count": 146,
   "id": "a379afb4-e40f-4177-a48e-771715f7879f",
   "metadata": {},
   "outputs": [
    {
     "data": {
      "text/plain": [
       "0.7"
      ]
     },
     "execution_count": 146,
     "metadata": {},
     "output_type": "execute_result"
    }
   ],
   "source": [
    "bayes = BernoulliNB()\n",
    "bayes.fit(data, target)\n",
    "bayes.score(data, target)"
   ]
  },
  {
   "cell_type": "code",
   "execution_count": 147,
   "id": "a211bf2c-d42d-43f6-bfdd-ee884f79f510",
   "metadata": {},
   "outputs": [
    {
     "name": "stderr",
     "output_type": "stream",
     "text": [
      "/opt/miniconda3/lib/python3.7/site-packages/sklearn/base.py:442: UserWarning: X does not have valid feature names, but BernoulliNB was fitted with feature names\n",
      "  \"X does not have valid feature names, but\"\n"
     ]
    },
    {
     "data": {
      "text/plain": [
       "array([0], dtype=int8)"
      ]
     },
     "execution_count": 147,
     "metadata": {},
     "output_type": "execute_result"
    }
   ],
   "source": [
    "bob = np.array([[0,1,1]])\n",
    "bayes.predict(bob)"
   ]
  },
  {
   "cell_type": "code",
   "execution_count": null,
   "id": "1d0f6c92-498e-41b6-8e08-9aa4d0213783",
   "metadata": {},
   "outputs": [],
   "source": []
  },
  {
   "cell_type": "code",
   "execution_count": 148,
   "id": "f3d5b514-a611-4595-a1c0-e706e9db8b45",
   "metadata": {},
   "outputs": [
    {
     "data": {
      "text/html": [
       "<div>\n",
       "<style scoped>\n",
       "    .dataframe tbody tr th:only-of-type {\n",
       "        vertical-align: middle;\n",
       "    }\n",
       "\n",
       "    .dataframe tbody tr th {\n",
       "        vertical-align: top;\n",
       "    }\n",
       "\n",
       "    .dataframe thead th {\n",
       "        text-align: right;\n",
       "    }\n",
       "</style>\n",
       "<table border=\"1\" class=\"dataframe\">\n",
       "  <thead>\n",
       "    <tr style=\"text-align: right;\">\n",
       "      <th></th>\n",
       "      <th>loan_id</th>\n",
       "      <th>loan_purpose</th>\n",
       "      <th>is_first_loan</th>\n",
       "      <th>total_credit_card_limit</th>\n",
       "      <th>avg_percentage_credit_card_limit_used_last_year</th>\n",
       "      <th>saving_amount</th>\n",
       "      <th>checking_amount</th>\n",
       "      <th>is_employed</th>\n",
       "      <th>yearly_salary</th>\n",
       "      <th>age</th>\n",
       "      <th>dependent_number</th>\n",
       "      <th>label</th>\n",
       "    </tr>\n",
       "  </thead>\n",
       "  <tbody>\n",
       "    <tr>\n",
       "      <th>0</th>\n",
       "      <td>A_1</td>\n",
       "      <td>personal</td>\n",
       "      <td>1</td>\n",
       "      <td>7900</td>\n",
       "      <td>0.80</td>\n",
       "      <td>1103</td>\n",
       "      <td>6393</td>\n",
       "      <td>1</td>\n",
       "      <td>16400</td>\n",
       "      <td>42</td>\n",
       "      <td>4</td>\n",
       "      <td>0</td>\n",
       "    </tr>\n",
       "    <tr>\n",
       "      <th>1</th>\n",
       "      <td>A_2</td>\n",
       "      <td>personal</td>\n",
       "      <td>0</td>\n",
       "      <td>3300</td>\n",
       "      <td>0.29</td>\n",
       "      <td>2588</td>\n",
       "      <td>832</td>\n",
       "      <td>1</td>\n",
       "      <td>75500</td>\n",
       "      <td>56</td>\n",
       "      <td>1</td>\n",
       "      <td>0</td>\n",
       "    </tr>\n",
       "    <tr>\n",
       "      <th>2</th>\n",
       "      <td>A_3</td>\n",
       "      <td>personal</td>\n",
       "      <td>0</td>\n",
       "      <td>7600</td>\n",
       "      <td>0.90</td>\n",
       "      <td>1651</td>\n",
       "      <td>8868</td>\n",
       "      <td>1</td>\n",
       "      <td>59000</td>\n",
       "      <td>46</td>\n",
       "      <td>1</td>\n",
       "      <td>0</td>\n",
       "    </tr>\n",
       "    <tr>\n",
       "      <th>3</th>\n",
       "      <td>A_4</td>\n",
       "      <td>personal</td>\n",
       "      <td>1</td>\n",
       "      <td>3400</td>\n",
       "      <td>0.38</td>\n",
       "      <td>1269</td>\n",
       "      <td>6863</td>\n",
       "      <td>1</td>\n",
       "      <td>26000</td>\n",
       "      <td>55</td>\n",
       "      <td>8</td>\n",
       "      <td>0</td>\n",
       "    </tr>\n",
       "    <tr>\n",
       "      <th>4</th>\n",
       "      <td>A_5</td>\n",
       "      <td>emergency</td>\n",
       "      <td>0</td>\n",
       "      <td>2600</td>\n",
       "      <td>0.89</td>\n",
       "      <td>1310</td>\n",
       "      <td>3423</td>\n",
       "      <td>1</td>\n",
       "      <td>9700</td>\n",
       "      <td>41</td>\n",
       "      <td>4</td>\n",
       "      <td>1</td>\n",
       "    </tr>\n",
       "  </tbody>\n",
       "</table>\n",
       "</div>"
      ],
      "text/plain": [
       "  loan_id loan_purpose  is_first_loan  total_credit_card_limit  \\\n",
       "0     A_1     personal              1                     7900   \n",
       "1     A_2     personal              0                     3300   \n",
       "2     A_3     personal              0                     7600   \n",
       "3     A_4     personal              1                     3400   \n",
       "4     A_5    emergency              0                     2600   \n",
       "\n",
       "   avg_percentage_credit_card_limit_used_last_year  saving_amount  \\\n",
       "0                                             0.80           1103   \n",
       "1                                             0.29           2588   \n",
       "2                                             0.90           1651   \n",
       "3                                             0.38           1269   \n",
       "4                                             0.89           1310   \n",
       "\n",
       "   checking_amount  is_employed  yearly_salary  age  dependent_number  label  \n",
       "0             6393            1          16400   42                 4      0  \n",
       "1              832            1          75500   56                 1      0  \n",
       "2             8868            1          59000   46                 1      0  \n",
       "3             6863            1          26000   55                 8      0  \n",
       "4             3423            1           9700   41                 4      1  "
      ]
     },
     "execution_count": 148,
     "metadata": {},
     "output_type": "execute_result"
    }
   ],
   "source": [
    "# 대출관련 데이터를 이용한 분류 알고리즘 성능 비교\n",
    "# 로지스틱, 의사결정, 나이브베이즈 비교\n",
    "# 단, 훈련시와 테스트시 정확도 함께 출력\n",
    "\n",
    "loan = pd.read_csv('data/loan.csv')\n",
    "loan.head()"
   ]
  },
  {
   "cell_type": "code",
   "execution_count": 182,
   "id": "d19ac3b0-e640-4d24-8b7c-632ef0d51a2f",
   "metadata": {},
   "outputs": [
    {
     "name": "stdout",
     "output_type": "stream",
     "text": [
      "<class 'pandas.core.frame.DataFrame'>\n",
      "RangeIndex: 46751 entries, 0 to 46750\n",
      "Data columns (total 12 columns):\n",
      " #   Column                                           Non-Null Count  Dtype  \n",
      "---  ------                                           --------------  -----  \n",
      " 0   loan_id                                          46751 non-null  object \n",
      " 1   loan_purpose                                     46751 non-null  object \n",
      " 2   is_first_loan                                    46751 non-null  int64  \n",
      " 3   total_credit_card_limit                          46751 non-null  int64  \n",
      " 4   avg_percentage_credit_card_limit_used_last_year  46751 non-null  float64\n",
      " 5   saving_amount                                    46751 non-null  int64  \n",
      " 6   checking_amount                                  46751 non-null  int64  \n",
      " 7   is_employed                                      46751 non-null  int64  \n",
      " 8   yearly_salary                                    46751 non-null  int64  \n",
      " 9   age                                              46751 non-null  int64  \n",
      " 10  dependent_number                                 46751 non-null  int64  \n",
      " 11  label                                            46751 non-null  int64  \n",
      "dtypes: float64(1), int64(9), object(2)\n",
      "memory usage: 4.3+ MB\n"
     ]
    }
   ],
   "source": [
    "loan.info()\n",
    "# saving_amount, checking_amount\n",
    "# checking_account : 현금입출용도로 사용하는 계좌, 계좌유지비 존재\n",
    "# saving_account : 적금용도로 사용하는 계좌, 이자 지급\n"
   ]
  },
  {
   "cell_type": "code",
   "execution_count": 180,
   "id": "a8f439f5-04c3-4922-8c38-918dc8df7dd7",
   "metadata": {},
   "outputs": [
    {
     "data": {
      "text/plain": [
       "0    30550\n",
       "1    16201\n",
       "Name: label, dtype: int64"
      ]
     },
     "execution_count": 180,
     "metadata": {},
     "output_type": "execute_result"
    }
   ],
   "source": [
    "loan.label.value_counts()   # 0 대충불가"
   ]
  },
  {
   "cell_type": "code",
   "execution_count": 186,
   "id": "7a36a31e-c1ea-4bf4-af28-b0500547d201",
   "metadata": {},
   "outputs": [
    {
     "data": {
      "text/plain": [
       "property      11388\n",
       "operations    10580\n",
       "personal      10458\n",
       "emergency      7562\n",
       "others         6763\n",
       "Name: loan_purpose, dtype: int64"
      ]
     },
     "execution_count": 186,
     "metadata": {},
     "output_type": "execute_result"
    }
   ],
   "source": [
    "loan.loan_purpose.value_counts() "
   ]
  },
  {
   "cell_type": "code",
   "execution_count": 183,
   "id": "88c50e7c-e113-48e9-a04e-fc56d8ef6d70",
   "metadata": {},
   "outputs": [
    {
     "data": {
      "text/plain": [
       "1    25313\n",
       "0    21438\n",
       "Name: is_first_loan, dtype: int64"
      ]
     },
     "execution_count": 183,
     "metadata": {},
     "output_type": "execute_result"
    }
   ],
   "source": [
    "loan.is_first_loan.value_counts()"
   ]
  },
  {
   "cell_type": "code",
   "execution_count": 184,
   "id": "368003aa-b54b-487a-a45c-0de49ffbb370",
   "metadata": {},
   "outputs": [
    {
     "data": {
      "text/plain": [
       "1    42886\n",
       "0     3865\n",
       "Name: is_employed, dtype: int64"
      ]
     },
     "execution_count": 184,
     "metadata": {},
     "output_type": "execute_result"
    }
   ],
   "source": [
    "loan.is_employed.value_counts()"
   ]
  },
  {
   "cell_type": "code",
   "execution_count": 185,
   "id": "d771c2a5-0231-41dd-9d7e-9edb9580bbb7",
   "metadata": {},
   "outputs": [
    {
     "data": {
      "text/plain": [
       "1    9894\n",
       "8    8582\n",
       "2    8552\n",
       "3    6047\n",
       "4    4467\n",
       "5    3256\n",
       "6    2373\n",
       "7    1842\n",
       "0    1738\n",
       "Name: dependent_number, dtype: int64"
      ]
     },
     "execution_count": 185,
     "metadata": {},
     "output_type": "execute_result"
    }
   ],
   "source": [
    "loan.dependent_number.value_counts()"
   ]
  },
  {
   "cell_type": "code",
   "execution_count": 189,
   "id": "ec74ffb9-46b0-41a9-889e-108c673bd1b1",
   "metadata": {},
   "outputs": [],
   "source": [
    "# 탐색적 분석\n",
    "# 다양한 시각화"
   ]
  },
  {
   "cell_type": "code",
   "execution_count": 187,
   "id": "049b6dd0-6825-4880-b70b-f1cb8f92f01c",
   "metadata": {},
   "outputs": [],
   "source": [
    "# 전처리 1\n",
    "# 연속형 데이터를 명목형 데이터로 변환 (파생변수 생성)"
   ]
  },
  {
   "cell_type": "code",
   "execution_count": 188,
   "id": "fc497331-5820-4d00-9c0b-5d7ca24d908c",
   "metadata": {},
   "outputs": [],
   "source": [
    "# 전처리 2\n",
    "# 명목형 변수에 대해 레이블인코딩 실시"
   ]
  },
  {
   "cell_type": "code",
   "execution_count": 190,
   "id": "51b7218e-263d-4bcb-b083-d466795a454d",
   "metadata": {},
   "outputs": [
    {
     "data": {
      "text/html": [
       "<div>\n",
       "<style scoped>\n",
       "    .dataframe tbody tr th:only-of-type {\n",
       "        vertical-align: middle;\n",
       "    }\n",
       "\n",
       "    .dataframe tbody tr th {\n",
       "        vertical-align: top;\n",
       "    }\n",
       "\n",
       "    .dataframe thead th {\n",
       "        text-align: right;\n",
       "    }\n",
       "</style>\n",
       "<table border=\"1\" class=\"dataframe\">\n",
       "  <thead>\n",
       "    <tr style=\"text-align: right;\">\n",
       "      <th></th>\n",
       "      <th>loan_id</th>\n",
       "      <th>loan_purpose</th>\n",
       "      <th>is_first_loan</th>\n",
       "      <th>total_credit_card_limit</th>\n",
       "      <th>avg_percentage_credit_card_limit_used_last_year</th>\n",
       "      <th>saving_amount</th>\n",
       "      <th>checking_amount</th>\n",
       "      <th>is_employed</th>\n",
       "      <th>yearly_salary</th>\n",
       "      <th>age</th>\n",
       "      <th>dependent_number</th>\n",
       "      <th>label</th>\n",
       "    </tr>\n",
       "  </thead>\n",
       "  <tbody>\n",
       "    <tr>\n",
       "      <th>0</th>\n",
       "      <td>A_1</td>\n",
       "      <td>3</td>\n",
       "      <td>1</td>\n",
       "      <td>7900</td>\n",
       "      <td>0.80</td>\n",
       "      <td>1103</td>\n",
       "      <td>6393</td>\n",
       "      <td>1</td>\n",
       "      <td>16400</td>\n",
       "      <td>42</td>\n",
       "      <td>4</td>\n",
       "      <td>0</td>\n",
       "    </tr>\n",
       "    <tr>\n",
       "      <th>1</th>\n",
       "      <td>A_2</td>\n",
       "      <td>3</td>\n",
       "      <td>0</td>\n",
       "      <td>3300</td>\n",
       "      <td>0.29</td>\n",
       "      <td>2588</td>\n",
       "      <td>832</td>\n",
       "      <td>1</td>\n",
       "      <td>75500</td>\n",
       "      <td>56</td>\n",
       "      <td>1</td>\n",
       "      <td>0</td>\n",
       "    </tr>\n",
       "    <tr>\n",
       "      <th>2</th>\n",
       "      <td>A_3</td>\n",
       "      <td>3</td>\n",
       "      <td>0</td>\n",
       "      <td>7600</td>\n",
       "      <td>0.90</td>\n",
       "      <td>1651</td>\n",
       "      <td>8868</td>\n",
       "      <td>1</td>\n",
       "      <td>59000</td>\n",
       "      <td>46</td>\n",
       "      <td>1</td>\n",
       "      <td>0</td>\n",
       "    </tr>\n",
       "    <tr>\n",
       "      <th>3</th>\n",
       "      <td>A_4</td>\n",
       "      <td>3</td>\n",
       "      <td>1</td>\n",
       "      <td>3400</td>\n",
       "      <td>0.38</td>\n",
       "      <td>1269</td>\n",
       "      <td>6863</td>\n",
       "      <td>1</td>\n",
       "      <td>26000</td>\n",
       "      <td>55</td>\n",
       "      <td>8</td>\n",
       "      <td>0</td>\n",
       "    </tr>\n",
       "    <tr>\n",
       "      <th>4</th>\n",
       "      <td>A_5</td>\n",
       "      <td>0</td>\n",
       "      <td>0</td>\n",
       "      <td>2600</td>\n",
       "      <td>0.89</td>\n",
       "      <td>1310</td>\n",
       "      <td>3423</td>\n",
       "      <td>1</td>\n",
       "      <td>9700</td>\n",
       "      <td>41</td>\n",
       "      <td>4</td>\n",
       "      <td>1</td>\n",
       "    </tr>\n",
       "  </tbody>\n",
       "</table>\n",
       "</div>"
      ],
      "text/plain": [
       "  loan_id  loan_purpose  is_first_loan  total_credit_card_limit  \\\n",
       "0     A_1             3              1                     7900   \n",
       "1     A_2             3              0                     3300   \n",
       "2     A_3             3              0                     7600   \n",
       "3     A_4             3              1                     3400   \n",
       "4     A_5             0              0                     2600   \n",
       "\n",
       "   avg_percentage_credit_card_limit_used_last_year  saving_amount  \\\n",
       "0                                             0.80           1103   \n",
       "1                                             0.29           2588   \n",
       "2                                             0.90           1651   \n",
       "3                                             0.38           1269   \n",
       "4                                             0.89           1310   \n",
       "\n",
       "   checking_amount  is_employed  yearly_salary  age  dependent_number  label  \n",
       "0             6393            1          16400   42                 4      0  \n",
       "1              832            1          75500   56                 1      0  \n",
       "2             8868            1          59000   46                 1      0  \n",
       "3             6863            1          26000   55                 8      0  \n",
       "4             3423            1           9700   41                 4      1  "
      ]
     },
     "execution_count": 190,
     "metadata": {},
     "output_type": "execute_result"
    }
   ],
   "source": [
    "loan['loan_purpose'] = pd.Categorical(loan['loan_purpose'])\n",
    "loan['loan_purpose'] = loan['loan_purpose'].cat.codes\n",
    "loan.head()"
   ]
  },
  {
   "cell_type": "code",
   "execution_count": 193,
   "id": "e3127679-bc66-4e3d-88cc-ec50c8cbb578",
   "metadata": {},
   "outputs": [],
   "source": [
    "# 데이터 분할\n",
    "data = loan.iloc[:, 1:11]\n",
    "target = loan.label"
   ]
  },
  {
   "cell_type": "code",
   "execution_count": 194,
   "id": "a386e728-00a3-4a0c-ac57-0006b539a77a",
   "metadata": {},
   "outputs": [],
   "source": [
    "Xtrain, Xtest, ytrain, ytest = train_test_split(data, target, stratify=target, test_size=0.3, random_state=2111111455)"
   ]
  },
  {
   "cell_type": "code",
   "execution_count": 195,
   "id": "2041b27f-c586-44f7-8901-9ff2ba77f887",
   "metadata": {},
   "outputs": [],
   "source": [
    "from sklearn.tree import DecisionTreeClassifier\n",
    "from sklearn.linear_model import LogisticRegression"
   ]
  },
  {
   "cell_type": "code",
   "execution_count": 203,
   "id": "f2024a8f-66c4-438d-8aed-403b5c59ec20",
   "metadata": {},
   "outputs": [],
   "source": [
    "# 로지스틱 회귀\n",
    "lr = LogisticRegression(max_iter=1000)\n",
    "lr.fit(Xtrain, ytrain)\n",
    "pred = lr.predict(Xtest)"
   ]
  },
  {
   "cell_type": "code",
   "execution_count": 204,
   "id": "68f81b09-59ad-415e-b970-0a06b0e40ab7",
   "metadata": {},
   "outputs": [
    {
     "data": {
      "text/plain": [
       "(0.8269824293353705, 0.8202623698845002)"
      ]
     },
     "execution_count": 204,
     "metadata": {},
     "output_type": "execute_result"
    }
   ],
   "source": [
    "lr.score(Xtrain, ytrain), accuracy_score(ytest, pred)"
   ]
  },
  {
   "cell_type": "code",
   "execution_count": 206,
   "id": "65d0df01-d4a8-48b2-91b9-30eaadd83551",
   "metadata": {},
   "outputs": [
    {
     "data": {
      "text/plain": [
       "array([[8258,  907],\n",
       "       [1614, 3247]])"
      ]
     },
     "execution_count": 206,
     "metadata": {},
     "output_type": "execute_result"
    }
   ],
   "source": [
    "confusion_matrix(ytest, pred)"
   ]
  },
  {
   "cell_type": "code",
   "execution_count": 219,
   "id": "67e53b8b-de9e-4f32-83be-ab3e8154636d",
   "metadata": {},
   "outputs": [],
   "source": [
    "# 의사결정 나무\n",
    "dtc = DecisionTreeClassifier(max_depth=6)\n",
    "dtc.fit(Xtrain, ytrain)\n",
    "pred = dtc.predict(Xtest)"
   ]
  },
  {
   "cell_type": "code",
   "execution_count": 220,
   "id": "9f6a90f4-4190-46f7-895d-e6f9252ad1cc",
   "metadata": {},
   "outputs": [
    {
     "data": {
      "text/plain": [
       "(0.9045989304812834, 0.8975474119492372)"
      ]
     },
     "execution_count": 220,
     "metadata": {},
     "output_type": "execute_result"
    }
   ],
   "source": [
    "dtc.score(Xtrain, ytrain), accuracy_score(ytest, pred)"
   ]
  },
  {
   "cell_type": "code",
   "execution_count": 221,
   "id": "a73f2561-16ee-4510-8171-a4865e0808e8",
   "metadata": {},
   "outputs": [
    {
     "data": {
      "text/plain": [
       "array([[8242,  923],\n",
       "       [ 514, 4347]])"
      ]
     },
     "execution_count": 221,
     "metadata": {},
     "output_type": "execute_result"
    }
   ],
   "source": [
    "confusion_matrix(ytest, pred)"
   ]
  },
  {
   "cell_type": "code",
   "execution_count": 229,
   "id": "0cfd2072-0ff7-44de-840d-7c8653463a76",
   "metadata": {},
   "outputs": [],
   "source": [
    "# 나이브베이즈\n",
    "by = BernoulliNB()\n",
    "by.fit(Xtrain, ytrain)\n",
    "pred = by.predict(Xtest)"
   ]
  },
  {
   "cell_type": "code",
   "execution_count": 230,
   "id": "03315a04-b841-47ca-883a-09a719e34bf4",
   "metadata": {},
   "outputs": [
    {
     "data": {
      "text/plain": [
       "(0.7043239113827349, 0.7027662911735348)"
      ]
     },
     "execution_count": 230,
     "metadata": {},
     "output_type": "execute_result"
    }
   ],
   "source": [
    "by.score(Xtrain, ytrain), accuracy_score(ytest, pred)"
   ]
  },
  {
   "cell_type": "code",
   "execution_count": 231,
   "id": "c763d1a8-a7e3-421e-ac03-bde8edaf84ce",
   "metadata": {},
   "outputs": [
    {
     "data": {
      "text/plain": [
       "array([[8946,  219],\n",
       "       [3950,  911]])"
      ]
     },
     "execution_count": 231,
     "metadata": {},
     "output_type": "execute_result"
    }
   ],
   "source": [
    "confusion_matrix(ytest, pred)"
   ]
  },
  {
   "cell_type": "code",
   "execution_count": null,
   "id": "30f8450e-2881-492b-b5e6-6e296c7bd88c",
   "metadata": {},
   "outputs": [],
   "source": []
  },
  {
   "cell_type": "code",
   "execution_count": null,
   "id": "b4e4f6cc-ad97-473d-8933-1694ef11ef0f",
   "metadata": {},
   "outputs": [],
   "source": []
  }
 ],
 "metadata": {
  "kernelspec": {
   "display_name": "Python 3 (ipykernel)",
   "language": "python",
   "name": "python3"
  },
  "language_info": {
   "codemirror_mode": {
    "name": "ipython",
    "version": 3
   },
   "file_extension": ".py",
   "mimetype": "text/x-python",
   "name": "python",
   "nbconvert_exporter": "python",
   "pygments_lexer": "ipython3",
   "version": "3.7.10"
  }
 },
 "nbformat": 4,
 "nbformat_minor": 5
}
