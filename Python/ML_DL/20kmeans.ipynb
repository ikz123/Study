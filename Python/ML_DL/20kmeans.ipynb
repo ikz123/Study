{
 "cells": [
  {
   "cell_type": "markdown",
   "id": "dec63646-1f39-430e-997a-96b2994e92e3",
   "metadata": {},
   "source": [
    "### 지도학습 vs 비지도학습\n",
    "* 지도학습 : 데이터와 레이블을 이용해서 규칙/패턴 파악\n",
    "* 비지도학습 : 데이터만을 이용해서 유사도에 따른 패턴/규칙 파악"
   ]
  },
  {
   "cell_type": "markdown",
   "id": "421520e6-287d-45d1-a7de-3a141174b9a2",
   "metadata": {},
   "source": [
    "### Kmeans\n",
    "* 대표적 군집 알고리즘\n",
    "* 서로 유사성이 높은 것끼리 관측값을 묶어 다수의 그룹을 만드는 알고리즘\n",
    "* 즉, 동일 그룹내 구성원끼리는 유사성이 높고 다른 그룹내 구성원과의 유사성은 거의 없다는 의미\n",
    "* 군집기반 분석기법, SSW ,SSB"
   ]
  },
  {
   "cell_type": "markdown",
   "id": "98a82b7e-744a-4dd3-a91b-266d6e69ce98",
   "metadata": {},
   "source": [
    "### 유사도 파악\n",
    "* kmeans에서는 각 점간의 거리가 가까울수록 비슷한 특성을 가진다고 보고 데이터들을 모음(군집합)\n",
    "* 따라서, 유사도 측정을 위해 임의의 기준점centeroid을 선정"
   ]
  },
  {
   "cell_type": "code",
   "execution_count": 2,
   "id": "36ff0f08-4998-4055-9e5b-b65eaa630d3d",
   "metadata": {},
   "outputs": [],
   "source": [
    "import math\n",
    "import pandas as pd\n",
    "import numpy as np\n",
    "import matplotlib.pyplot as plt\n",
    "import seaborn as sns"
   ]
  },
  {
   "cell_type": "code",
   "execution_count": 3,
   "id": "3f0941e6-ea58-4baa-8957-2e801aaa22bd",
   "metadata": {},
   "outputs": [],
   "source": [
    "# 데이터 정의\n",
    "x = 7,2,6,3,6,5,3,1,5,7,7,2\n",
    "y = 8,4,4,2,5,7,3,4,4,7,6,1"
   ]
  },
  {
   "cell_type": "code",
   "execution_count": 4,
   "id": "4bb5d8f6-488f-493e-b430-748e8a58d0a0",
   "metadata": {},
   "outputs": [
    {
     "data": {
      "image/png": "[encoded data removed]",
      "text/plain": [
       "<Figure size 432x288 with 1 Axes>"
      ]
     },
     "metadata": {
      "needs_background": "light"
     },
     "output_type": "display_data"
    }
   ],
   "source": [
    "# 시각화\n",
    "plt.plot(x,y, 'ro')\n",
    "plt.grid()"
   ]
  },
  {
   "cell_type": "code",
   "execution_count": 5,
   "id": "5fb8e903-530c-49a7-b306-0d86c7e8e1a3",
   "metadata": {},
   "outputs": [
    {
     "data": {
      "image/png": "[encoded data removed]",
      "text/plain": [
       "<Figure size 432x288 with 1 Axes>"
      ]
     },
     "metadata": {
      "needs_background": "light"
     },
     "output_type": "display_data"
    }
   ],
   "source": [
    "# 임의의 센터로이드 설정\n",
    "# -> C1(1,4), C2(7,8)\n",
    "plt.plot(x,y, 'ro')\n",
    "plt.plot([1,7],[4,8],'bX')\n",
    "plt.grid()"
   ]
  },
  {
   "cell_type": "code",
   "execution_count": 6,
   "id": "371e233c-d7e0-4d44-b68f-f0ea1af2ba6f",
   "metadata": {},
   "outputs": [],
   "source": [
    "# 센터로이드와 각 점들간 거리 계산 : 유클리드 거리 계산\n",
    "# 즉, A(X1, Y1)와 B(X2, Y2)간의 거리계산은\n",
    "# sqrt((X2-X1)^2 + (Y2-Y1)^2)로 함"
   ]
  },
  {
   "cell_type": "code",
   "execution_count": 7,
   "id": "8971b918-3413-4f43-a074-7bab08c1e66b",
   "metadata": {},
   "outputs": [
    {
     "data": {
      "text/plain": [
       "5.0"
      ]
     },
     "execution_count": 7,
     "metadata": {},
     "output_type": "execute_result"
    }
   ],
   "source": [
    "# C(2,4)와 D(6,4)는 A,B 중 어디와 가까운가?\n",
    "math.sqrt((1-2)**2 + (4-4)**2) # A ~ C : 1\n",
    "math.sqrt((1-6)**2 + (4-4)**2) # A ~ D : 5\n",
    "# => C1로 분류"
   ]
  },
  {
   "cell_type": "code",
   "execution_count": 8,
   "id": "2bdb7b5e-bb5d-4d43-bcf9-0a75f7d95d70",
   "metadata": {},
   "outputs": [
    {
     "data": {
      "text/plain": [
       "4.123105625617661"
      ]
     },
     "execution_count": 8,
     "metadata": {},
     "output_type": "execute_result"
    }
   ],
   "source": [
    "math.sqrt((7-2)**2 + (8-4)**2) # B ~ C : 6.4\n",
    "math.sqrt((7-6)**2 + (8-4)**2) # B ~ D : 4.1\n",
    "# => C2로 분류"
   ]
  },
  {
   "cell_type": "markdown",
   "id": "c5dce9b2-0cf4-4ae3-bbef-52ee1cdde864",
   "metadata": {},
   "source": [
    "### 새로운 중심점 설정\n",
    "* 모든 데이터에 대한 군집화가 수행된 후 새로운 중심점을 선정한 후 다시 유사도에 의한 군집 실시\n",
    "* 새로운 중심점을 선정하는 방법은 각 군집별 평균값을 이용\n",
    "* 즉, 군집 C1, C2의 각 x/y 좌표간 평균계산\n",
    "    + C1의 새로운 좌표\n",
    "        - x좌표 : 1,2,2,3,3 / 5 = 2.2\n",
    "        - y좌표 : 1,2,3,4,5 / 5 = 2.8\n",
    "    + C2의 새로운 좌표\n",
    "        - x좌표 : 5,5,6,6,7,7,7 / 7 = 6.14\n",
    "        - y좌표 : 4,4,5,6,7,7,8 / 7 = 5.85\n",
    "        - (7,8) -> (6.14, 5.85)"
   ]
  },
  {
   "cell_type": "code",
   "execution_count": 9,
   "id": "13a48890-4ea0-408c-9f4b-a4d547a8e849",
   "metadata": {},
   "outputs": [
    {
     "data": {
      "image/png": "[encoded data removed]",
      "text/plain": [
       "<Figure size 432x288 with 1 Axes>"
      ]
     },
     "metadata": {
      "needs_background": "light"
     },
     "output_type": "display_data"
    }
   ],
   "source": [
    "# 새로운 좌표 시각화\n",
    "plt.plot(x,y, 'ro')\n",
    "plt.plot([2.2,6.14],[2.8,5.85], 'bX')\n",
    "plt.grid()"
   ]
  },
  {
   "cell_type": "markdown",
   "id": "afa1c1fd-2565-4900-abe0-e70a3801263a",
   "metadata": {},
   "source": [
    "### iris 데이터셋을 Kmeans로 군집화하기"
   ]
  },
  {
   "cell_type": "code",
   "execution_count": 10,
   "id": "24e5c4e4-14a1-4ac1-96bd-1289b8fcafc3",
   "metadata": {},
   "outputs": [],
   "source": [
    "from sklearn.datasets import load_iris\n",
    "from sklearn.cluster import KMeans\n",
    "from sklearn.metrics import silhouette_score\n",
    "from sklearn.model_selection import train_test_split\n",
    "from sklearn.metrics import accuracy_score"
   ]
  },
  {
   "cell_type": "code",
   "execution_count": 11,
   "id": "54136623-db5a-4609-977f-b86bf8280846",
   "metadata": {},
   "outputs": [],
   "source": [
    "# 데이터 적재 및 분할\n",
    "iris = load_iris()"
   ]
  },
  {
   "cell_type": "code",
   "execution_count": 12,
   "id": "30bf7920-01cb-46f0-970d-b0a0787c9efd",
   "metadata": {},
   "outputs": [],
   "source": [
    "Xtrain, Xtest, ytrain, ytest =train_test_split(iris.data, iris.target, stratify=iris.target,random_state=2111151155)"
   ]
  },
  {
   "cell_type": "code",
   "execution_count": 13,
   "id": "e5b5695c-5d41-4c28-b659-ef8f23a2b932",
   "metadata": {},
   "outputs": [
    {
     "data": {
      "text/plain": [
       "KMeans(max_iter=100, n_clusters=3)"
      ]
     },
     "execution_count": 13,
     "metadata": {},
     "output_type": "execute_result"
    }
   ],
   "source": [
    "# 군집분석 실시\n",
    "# n_clusters : 군집수\n",
    "# max_iter : 군집화 시도횟수\n",
    "kms = KMeans(n_clusters=3, max_iter=100)\n",
    "kms.fit(Xtrain)"
   ]
  },
  {
   "cell_type": "code",
   "execution_count": 14,
   "id": "e8bad8a7-1b83-4139-aba8-1a33314454cb",
   "metadata": {},
   "outputs": [
    {
     "data": {
      "text/plain": [
       "array([2, 2, 2, 1, 2, 1, 2, 1, 2, 1, 0, 2, 0, 0, 2, 0, 1, 2, 2, 1, 0, 1,\n",
       "       2, 0, 1, 2, 2, 1, 2, 0, 2, 0, 0, 1, 2, 1, 1, 0, 2, 2, 1, 1, 2, 0,\n",
       "       1, 0, 2, 2, 2, 0, 0, 1, 1, 1, 2, 1, 1, 2, 0, 2, 0, 2, 1, 1, 0, 1,\n",
       "       2, 2, 2, 2, 1, 1, 0, 1, 1, 1, 2, 2, 1, 1, 0, 1, 0, 2, 2, 0, 0, 2,\n",
       "       2, 0, 1, 0, 1, 1, 2, 2, 2, 0, 0, 2, 1, 2, 2, 2, 1, 2, 1, 0, 0, 2,\n",
       "       0, 0], dtype=int32)"
      ]
     },
     "execution_count": 14,
     "metadata": {},
     "output_type": "execute_result"
    }
   ],
   "source": [
    "# 군집 결과 평가 : 객체명.labels_에 저장되어 있음\n",
    "kms.labels_"
   ]
  },
  {
   "cell_type": "code",
   "execution_count": 15,
   "id": "15395a71-4a38-47e0-9c04-caf1ba1a95ac",
   "metadata": {},
   "outputs": [
    {
     "data": {
      "text/plain": [
       "0.08035714285714286"
      ]
     },
     "execution_count": 15,
     "metadata": {},
     "output_type": "execute_result"
    }
   ],
   "source": [
    "accuracy_score(kms.labels_, ytrain)"
   ]
  },
  {
   "cell_type": "code",
   "execution_count": 16,
   "id": "a8e03951-a4bc-49e0-a84a-f3bbfc4d49b8",
   "metadata": {},
   "outputs": [
    {
     "data": {
      "text/plain": [
       "<matplotlib.collections.PathCollection at 0x7f199cdacdd0>"
      ]
     },
     "execution_count": 16,
     "metadata": {},
     "output_type": "execute_result"
    },
    {
     "data": {
      "image/png": "[encoded data removed]",
      "text/plain": [
       "<Figure size 432x288 with 1 Axes>"
      ]
     },
     "metadata": {
      "needs_background": "light"
     },
     "output_type": "display_data"
    }
   ],
   "source": [
    "# 군집 시각화1 \n",
    "plt.scatter(Xtrain[kms.labels_ == 0,0], Xtrain[kms.labels_ == 0,1], s=50,marker='o', c='r', edgecolors='k')\n",
    "\n",
    "plt.scatter(Xtrain[kms.labels_ == 1,0], Xtrain[kms.labels_ == 1,1], s=50,marker='o', c='b', edgecolors='k')\n",
    "\n",
    "plt.scatter(Xtrain[kms.labels_ == 2,0], Xtrain[kms.labels_ == 2,1], s=50,marker='o', c='g', edgecolors='k')\n",
    "# 군집 중심점은 객체명.cluster_centers_에 저장되어 있음\n",
    "plt.scatter(kms.cluster_centers_[0:,0], kms.cluster_centers_[0:,1] , s=200,marker='X', c='k', edgecolors='r')"
   ]
  },
  {
   "cell_type": "code",
   "execution_count": 17,
   "id": "814a4c07-06ef-4c21-8ef6-7dca8b96d414",
   "metadata": {},
   "outputs": [
    {
     "data": {
      "text/plain": [
       "<matplotlib.collections.PathCollection at 0x7f1995cebe90>"
      ]
     },
     "execution_count": 17,
     "metadata": {},
     "output_type": "execute_result"
    },
    {
     "data": {
      "image/png": "[encoded data removed]",
      "text/plain": [
       "<Figure size 432x288 with 1 Axes>"
      ]
     },
     "metadata": {
      "needs_background": "light"
     },
     "output_type": "display_data"
    }
   ],
   "source": [
    "# 군집 시각화1 \n",
    "plt.scatter(Xtrain[kms.labels_ == 0,2], Xtrain[kms.labels_ == 0,3], s=50,marker='o', c='r', edgecolors='k')\n",
    "\n",
    "plt.scatter(Xtrain[kms.labels_ == 1,2], Xtrain[kms.labels_ == 1,3], s=50,marker='o', c='b', edgecolors='k')\n",
    "\n",
    "plt.scatter(Xtrain[kms.labels_ == 2,2], Xtrain[kms.labels_ == 2,3], s=50,marker='o', c='g', edgecolors='k')\n",
    "# 군집 중심점은 객체명.cluster_centers_에 저장되어 있음\n",
    "plt.scatter(kms.cluster_centers_[:,2], kms.cluster_centers_[:,3] , s=200,marker='X', c='k', edgecolors='r')"
   ]
  },
  {
   "cell_type": "code",
   "execution_count": 20,
   "id": "33ee99e4-6d5e-4cdd-9746-234d91266b22",
   "metadata": {},
   "outputs": [
    {
     "data": {
      "text/plain": [
       "0.47368421052631576"
      ]
     },
     "execution_count": 20,
     "metadata": {},
     "output_type": "execute_result"
    }
   ],
   "source": [
    "# 군집 분석\n",
    "kms.fit(Xtest)\n",
    "accuracy_score(kms.labels_, ytest)"
   ]
  },
  {
   "cell_type": "code",
   "execution_count": 21,
   "id": "89f4c67a-7442-4f2e-9115-6c859c607b4b",
   "metadata": {},
   "outputs": [
    {
     "ename": "ValueError",
     "evalue": "Found input variables with inconsistent numbers of samples: [112, 38]",
     "output_type": "error",
     "traceback": [
      "\u001b[0;31m---------------------------------------------------------------------------\u001b[0m",
      "\u001b[0;31mValueError\u001b[0m                                Traceback (most recent call last)",
      "\u001b[0;32m/tmp/ipykernel_32578/4034310713.py\u001b[0m in \u001b[0;36m<module>\u001b[0;34m\u001b[0m\n\u001b[1;32m      2\u001b[0m \u001b[0;31m# 실루엣계수 : 군집 적합도를 수치로 나타낸 것\u001b[0m\u001b[0;34m\u001b[0m\u001b[0;34m\u001b[0m\u001b[0;34m\u001b[0m\u001b[0m\n\u001b[1;32m      3\u001b[0m \u001b[0;31m# 1에 가까울 수록 군집이 잘된것으로 파악\u001b[0m\u001b[0;34m\u001b[0m\u001b[0;34m\u001b[0m\u001b[0;34m\u001b[0m\u001b[0m\n\u001b[0;32m----> 4\u001b[0;31m \u001b[0msilhouette_score\u001b[0m\u001b[0;34m(\u001b[0m\u001b[0mXtrain\u001b[0m\u001b[0;34m,\u001b[0m \u001b[0mkms\u001b[0m\u001b[0;34m.\u001b[0m\u001b[0mlabels_\u001b[0m\u001b[0;34m,\u001b[0m \u001b[0mmetric\u001b[0m\u001b[0;34m=\u001b[0m\u001b[0;34m'euclidean'\u001b[0m\u001b[0;34m)\u001b[0m\u001b[0;34m\u001b[0m\u001b[0;34m\u001b[0m\u001b[0m\n\u001b[0m",
      "\u001b[0;32m/opt/miniconda3/lib/python3.7/site-packages/sklearn/metrics/cluster/_unsupervised.py\u001b[0m in \u001b[0;36msilhouette_score\u001b[0;34m(X, labels, metric, sample_size, random_state, **kwds)\u001b[0m\n\u001b[1;32m    116\u001b[0m         \u001b[0;32melse\u001b[0m\u001b[0;34m:\u001b[0m\u001b[0;34m\u001b[0m\u001b[0;34m\u001b[0m\u001b[0m\n\u001b[1;32m    117\u001b[0m             \u001b[0mX\u001b[0m\u001b[0;34m,\u001b[0m \u001b[0mlabels\u001b[0m \u001b[0;34m=\u001b[0m \u001b[0mX\u001b[0m\u001b[0;34m[\u001b[0m\u001b[0mindices\u001b[0m\u001b[0;34m]\u001b[0m\u001b[0;34m,\u001b[0m \u001b[0mlabels\u001b[0m\u001b[0;34m[\u001b[0m\u001b[0mindices\u001b[0m\u001b[0;34m]\u001b[0m\u001b[0;34m\u001b[0m\u001b[0;34m\u001b[0m\u001b[0m\n\u001b[0;32m--> 118\u001b[0;31m     \u001b[0;32mreturn\u001b[0m \u001b[0mnp\u001b[0m\u001b[0;34m.\u001b[0m\u001b[0mmean\u001b[0m\u001b[0;34m(\u001b[0m\u001b[0msilhouette_samples\u001b[0m\u001b[0;34m(\u001b[0m\u001b[0mX\u001b[0m\u001b[0;34m,\u001b[0m \u001b[0mlabels\u001b[0m\u001b[0;34m,\u001b[0m \u001b[0mmetric\u001b[0m\u001b[0;34m=\u001b[0m\u001b[0mmetric\u001b[0m\u001b[0;34m,\u001b[0m \u001b[0;34m**\u001b[0m\u001b[0mkwds\u001b[0m\u001b[0;34m)\u001b[0m\u001b[0;34m)\u001b[0m\u001b[0;34m\u001b[0m\u001b[0;34m\u001b[0m\u001b[0m\n\u001b[0m\u001b[1;32m    119\u001b[0m \u001b[0;34m\u001b[0m\u001b[0m\n\u001b[1;32m    120\u001b[0m \u001b[0;34m\u001b[0m\u001b[0m\n",
      "\u001b[0;32m/opt/miniconda3/lib/python3.7/site-packages/sklearn/metrics/cluster/_unsupervised.py\u001b[0m in \u001b[0;36msilhouette_samples\u001b[0;34m(X, labels, metric, **kwds)\u001b[0m\n\u001b[1;32m    212\u001b[0m \u001b[0;34m\u001b[0m\u001b[0m\n\u001b[1;32m    213\u001b[0m     \"\"\"\n\u001b[0;32m--> 214\u001b[0;31m     \u001b[0mX\u001b[0m\u001b[0;34m,\u001b[0m \u001b[0mlabels\u001b[0m \u001b[0;34m=\u001b[0m \u001b[0mcheck_X_y\u001b[0m\u001b[0;34m(\u001b[0m\u001b[0mX\u001b[0m\u001b[0;34m,\u001b[0m \u001b[0mlabels\u001b[0m\u001b[0;34m,\u001b[0m \u001b[0maccept_sparse\u001b[0m\u001b[0;34m=\u001b[0m\u001b[0;34m[\u001b[0m\u001b[0;34m\"csc\"\u001b[0m\u001b[0;34m,\u001b[0m \u001b[0;34m\"csr\"\u001b[0m\u001b[0;34m]\u001b[0m\u001b[0;34m)\u001b[0m\u001b[0;34m\u001b[0m\u001b[0;34m\u001b[0m\u001b[0m\n\u001b[0m\u001b[1;32m    215\u001b[0m \u001b[0;34m\u001b[0m\u001b[0m\n\u001b[1;32m    216\u001b[0m     \u001b[0;31m# Check for non-zero diagonal entries in precomputed distance matrix\u001b[0m\u001b[0;34m\u001b[0m\u001b[0;34m\u001b[0m\u001b[0;34m\u001b[0m\u001b[0m\n",
      "\u001b[0;32m/opt/miniconda3/lib/python3.7/site-packages/sklearn/utils/validation.py\u001b[0m in \u001b[0;36mcheck_X_y\u001b[0;34m(X, y, accept_sparse, accept_large_sparse, dtype, order, copy, force_all_finite, ensure_2d, allow_nd, multi_output, ensure_min_samples, ensure_min_features, y_numeric, estimator)\u001b[0m\n\u001b[1;32m    971\u001b[0m     \u001b[0my\u001b[0m \u001b[0;34m=\u001b[0m \u001b[0m_check_y\u001b[0m\u001b[0;34m(\u001b[0m\u001b[0my\u001b[0m\u001b[0;34m,\u001b[0m \u001b[0mmulti_output\u001b[0m\u001b[0;34m=\u001b[0m\u001b[0mmulti_output\u001b[0m\u001b[0;34m,\u001b[0m \u001b[0my_numeric\u001b[0m\u001b[0;34m=\u001b[0m\u001b[0my_numeric\u001b[0m\u001b[0;34m)\u001b[0m\u001b[0;34m\u001b[0m\u001b[0;34m\u001b[0m\u001b[0m\n\u001b[1;32m    972\u001b[0m \u001b[0;34m\u001b[0m\u001b[0m\n\u001b[0;32m--> 973\u001b[0;31m     \u001b[0mcheck_consistent_length\u001b[0m\u001b[0;34m(\u001b[0m\u001b[0mX\u001b[0m\u001b[0;34m,\u001b[0m \u001b[0my\u001b[0m\u001b[0;34m)\u001b[0m\u001b[0;34m\u001b[0m\u001b[0;34m\u001b[0m\u001b[0m\n\u001b[0m\u001b[1;32m    974\u001b[0m \u001b[0;34m\u001b[0m\u001b[0m\n\u001b[1;32m    975\u001b[0m     \u001b[0;32mreturn\u001b[0m \u001b[0mX\u001b[0m\u001b[0;34m,\u001b[0m \u001b[0my\u001b[0m\u001b[0;34m\u001b[0m\u001b[0;34m\u001b[0m\u001b[0m\n",
      "\u001b[0;32m/opt/miniconda3/lib/python3.7/site-packages/sklearn/utils/validation.py\u001b[0m in \u001b[0;36mcheck_consistent_length\u001b[0;34m(*arrays)\u001b[0m\n\u001b[1;32m    331\u001b[0m         raise ValueError(\n\u001b[1;32m    332\u001b[0m             \u001b[0;34m\"Found input variables with inconsistent numbers of samples: %r\"\u001b[0m\u001b[0;34m\u001b[0m\u001b[0;34m\u001b[0m\u001b[0m\n\u001b[0;32m--> 333\u001b[0;31m             \u001b[0;34m%\u001b[0m \u001b[0;34m[\u001b[0m\u001b[0mint\u001b[0m\u001b[0;34m(\u001b[0m\u001b[0ml\u001b[0m\u001b[0;34m)\u001b[0m \u001b[0;32mfor\u001b[0m \u001b[0ml\u001b[0m \u001b[0;32min\u001b[0m \u001b[0mlengths\u001b[0m\u001b[0;34m]\u001b[0m\u001b[0;34m\u001b[0m\u001b[0;34m\u001b[0m\u001b[0m\n\u001b[0m\u001b[1;32m    334\u001b[0m         )\n\u001b[1;32m    335\u001b[0m \u001b[0;34m\u001b[0m\u001b[0m\n",
      "\u001b[0;31mValueError\u001b[0m: Found input variables with inconsistent numbers of samples: [112, 38]"
     ]
    }
   ],
   "source": [
    "# 군집 성능 평가\n",
    "# 실루엣계수 : 군집 적합도를 수치로 나타낸 것\n",
    "# 1에 가까울 수록 군집이 잘된것으로 파악 \n",
    "silhouette_score(Xtrain, kms.labels_, metric='euclidean')"
   ]
  },
  {
   "cell_type": "code",
   "execution_count": null,
   "id": "fc688004-5788-4ffe-9d66-12f60822d0da",
   "metadata": {},
   "outputs": [],
   "source": [
    "# 엘보우 계수 : 군집화가 된 후 각 중심점에서 군집 데이터간의 거리를 합산한 값\n",
    "# 군집이 어느정도로 잘되어 있는지를 나타내는 값\n",
    "# 이값이 작을 수록 군집의 응집이 높다는 의미\n",
    "# 객체명.inertia_"
   ]
  },
  {
   "cell_type": "code",
   "execution_count": 22,
   "id": "c168c677-67ac-40f9-b325-ad25bf51b766",
   "metadata": {},
   "outputs": [
    {
     "data": {
      "text/plain": [
       "[<matplotlib.lines.Line2D at 0x7f1995b7d390>]"
      ]
     },
     "execution_count": 22,
     "metadata": {},
     "output_type": "execute_result"
    },
    {
     "data": {
      "image/png": "[encoded data removed]",
      "text/plain": [
       "<Figure size 432x288 with 1 Axes>"
      ]
     },
     "metadata": {
      "needs_background": "light"
     },
     "output_type": "display_data"
    }
   ],
   "source": [
    "# 반복문을 통해 적저한 군집갯수와 그에 따른 실루엣 계수 확인\n",
    "sss = []\n",
    "els = []\n",
    "for k in range(2,11):\n",
    "    kms = KMeans(n_clusters=k, max_iter=100)\n",
    "    kms.fit(Xtest)\n",
    "    ss = silhouette_score(Xtest, kms.labels_, metric='euclidean')\n",
    "    els.append(kms.inertia_)\n",
    "    sss.append(ss)\n",
    "plt.plot(sss,'ro-') # 실루엣계수만으로는 적절한 군집의 수를 파악하기 어려움\n",
    "\n",
    "plt.plot(els,'bo-') # 엘보우 계수로 적절한 군집의 수를 파악하기에 다소 쉬운편 \n",
    "                    # 즉, 엘보우 계수값이 급변하는 구간의 k값이 적절한 군집수로 인식함"
   ]
  },
  {
   "cell_type": "code",
   "execution_count": null,
   "id": "3d7fac82-0774-4818-b9cd-30371738e9de",
   "metadata": {},
   "outputs": [],
   "source": [
    "# 학생성적과 집중도를 기준으로\n",
    "# 클래스를 나눌려고 할 때\n",
    "# 몇 개의 반으로 나누는 것이 좋을지 알아보세요"
   ]
  },
  {
   "cell_type": "code",
   "execution_count": 34,
   "id": "75a3cde0-ee5c-4e80-a672-bb221300195c",
   "metadata": {},
   "outputs": [],
   "source": [
    "academy = pd.read_csv('data/academy.csv', encoding='cp949')\n",
    "ac = academy"
   ]
  },
  {
   "cell_type": "code",
   "execution_count": 35,
   "id": "115efb54-528f-4e75-b2f9-caaf31e46438",
   "metadata": {},
   "outputs": [],
   "source": [
    "data = ac.iloc[:, 1:]"
   ]
  },
  {
   "cell_type": "code",
   "execution_count": 42,
   "id": "7b058c4a-5fd3-4ac9-b251-8d3b3624bcaa",
   "metadata": {},
   "outputs": [
    {
     "data": {
      "text/plain": [
       "[<matplotlib.lines.Line2D at 0x7f1995891350>]"
      ]
     },
     "execution_count": 42,
     "metadata": {},
     "output_type": "execute_result"
    },
    {
     "data": {
      "image/png": "[encoded data removed]",
      "text/plain": [
       "<Figure size 432x288 with 1 Axes>"
      ]
     },
     "metadata": {
      "needs_background": "light"
     },
     "output_type": "display_data"
    }
   ],
   "source": [
    "sss = []\n",
    "els = []\n",
    "for k in range(2,11):\n",
    "    kms = KMeans(n_clusters=k, max_iter=100)\n",
    "    kms.fit(data)\n",
    "    ss = silhouette_score(ac, kms.labels_, metric='euclidean')\n",
    "    els.append(kms.inertia_)\n",
    "    sss.append(ss)\n",
    "plt.plot(sss, 'ro-')"
   ]
  },
  {
   "cell_type": "code",
   "execution_count": 39,
   "id": "57aaba87-e22d-4c5e-a7d3-3bb011ae6cc0",
   "metadata": {},
   "outputs": [
    {
     "data": {
      "text/plain": [
       "[<matplotlib.lines.Line2D at 0x7f199cdd3e90>]"
      ]
     },
     "execution_count": 39,
     "metadata": {},
     "output_type": "execute_result"
    },
    {
     "data": {
      "image/png": "[encoded data removed]",
      "text/plain": [
       "<Figure size 432x288 with 1 Axes>"
      ]
     },
     "metadata": {
      "needs_background": "light"
     },
     "output_type": "display_data"
    }
   ],
   "source": [
    "plt.plot(els, 'bo-')"
   ]
  },
  {
   "cell_type": "code",
   "execution_count": 52,
   "id": "828b73dd-da52-4130-b847-282fdbf296af",
   "metadata": {},
   "outputs": [
    {
     "data": {
      "text/plain": [
       "KMeans(max_iter=100, n_clusters=3, random_state=2111151440)"
      ]
     },
     "execution_count": 52,
     "metadata": {},
     "output_type": "execute_result"
    }
   ],
   "source": [
    "kms = KMeans(n_clusters=3, max_iter=100, random_state=2111151440)\n",
    "kms.fit(data)"
   ]
  },
  {
   "cell_type": "code",
   "execution_count": 44,
   "id": "20f1e5ac-6af0-458a-bdb4-67ee6ee25697",
   "metadata": {},
   "outputs": [
    {
     "name": "stderr",
     "output_type": "stream",
     "text": [
      "/opt/miniconda3/lib/python3.7/site-packages/ipykernel_launcher.py:7: UserWarning: You passed a edgecolor/edgecolors ('k') for an unfilled marker ('x').  Matplotlib is ignoring the edgecolor in favor of the facecolor.  This behavior may change in the future.\n",
      "  import sys\n"
     ]
    },
    {
     "data": {
      "text/plain": [
       "<matplotlib.collections.PathCollection at 0x7f19957fb550>"
      ]
     },
     "execution_count": 44,
     "metadata": {},
     "output_type": "execute_result"
    },
    {
     "data": {
      "image/png": "[encoded data removed]",
      "text/plain": [
       "<Figure size 432x288 with 1 Axes>"
      ]
     },
     "metadata": {
      "needs_background": "light"
     },
     "output_type": "display_data"
    }
   ],
   "source": [
    "plt.scatter(data.iloc[kms.labels_ == 0,0], data.iloc[kms.labels_ == 0,1], s=50, marker='o', c='red')\n",
    "\n",
    "plt.scatter(data.iloc[kms.labels_ == 1,0], data.iloc[kms.labels_ == 1,1], s=50, marker='x', c='blue')\n",
    "\n",
    "plt.scatter(data.iloc[kms.labels_ == 2,0], data.iloc[kms.labels_ == 2,1], s=50, marker='*', c='green')\n",
    "\n",
    "plt.scatter(kms.cluster_centers_[:,1], kms.cluster_centers_[:,2] , s=50, marker='x', c='pink', edgecolors='k')"
   ]
  },
  {
   "cell_type": "code",
   "execution_count": 45,
   "id": "8f8ae029-7344-4e08-a633-940ecc002406",
   "metadata": {},
   "outputs": [
    {
     "name": "stderr",
     "output_type": "stream",
     "text": [
      "/opt/miniconda3/lib/python3.7/site-packages/ipykernel_launcher.py:7: UserWarning: You passed a edgecolor/edgecolors ('k') for an unfilled marker ('x').  Matplotlib is ignoring the edgecolor in favor of the facecolor.  This behavior may change in the future.\n",
      "  import sys\n"
     ]
    },
    {
     "data": {
      "text/plain": [
       "<matplotlib.collections.PathCollection at 0x7f1995726f10>"
      ]
     },
     "execution_count": 45,
     "metadata": {},
     "output_type": "execute_result"
    },
    {
     "data": {
      "image/png": "[encoded data removed]",
      "text/plain": [
       "<Figure size 432x288 with 1 Axes>"
      ]
     },
     "metadata": {
      "needs_background": "light"
     },
     "output_type": "display_data"
    }
   ],
   "source": [
    "plt.scatter(data.iloc[kms.labels_ == 0,2], data.iloc[kms.labels_ == 0,3], s=50, marker='o', c='red')\n",
    "\n",
    "plt.scatter(data.iloc[kms.labels_ == 1,2], data.iloc[kms.labels_ == 1,3], s=50, marker='x', c='blue')\n",
    "\n",
    "plt.scatter(data.iloc[kms.labels_ == 2,2], data.iloc[kms.labels_ == 2,3], s=50, marker='*', c='green')\n",
    "\n",
    "plt.scatter(kms.cluster_centers_[:,1], kms.cluster_centers_[:,2] , s=50, marker='x', c='pink', edgecolors='k')"
   ]
  },
  {
   "cell_type": "code",
   "execution_count": 49,
   "id": "879926bd-e098-40fc-859d-64a65cff5ce5",
   "metadata": {},
   "outputs": [
    {
     "data": {
      "text/plain": [
       "<matplotlib.collections.PathCollection at 0x7f19955c9dd0>"
      ]
     },
     "execution_count": 49,
     "metadata": {},
     "output_type": "execute_result"
    },
    {
     "data": {
      "image/png": "[encoded data removed]",
      "text/plain": [
       "<Figure size 432x288 with 1 Axes>"
      ]
     },
     "metadata": {
      "needs_background": "light"
     },
     "output_type": "display_data"
    }
   ],
   "source": [
    "plt.scatter(data.iloc[kms.labels_ == 0,3], data.iloc[kms.labels_ == 0,4], s=50, marker='o', c='red')\n",
    "\n",
    "plt.scatter(data.iloc[kms.labels_ == 1,3], data.iloc[kms.labels_ == 1,4], s=50, marker='x', c='blue')\n",
    "\n",
    "plt.scatter(data.iloc[kms.labels_ == 2,3], data.iloc[kms.labels_ == 2,4], s=50, marker='*', c='green')"
   ]
  },
  {
   "cell_type": "code",
   "execution_count": 48,
   "id": "3c9f0a1e-5f75-416a-9238-c8ae9c958851",
   "metadata": {},
   "outputs": [
    {
     "data": {
      "text/plain": [
       "<matplotlib.collections.PathCollection at 0x7f1995640790>"
      ]
     },
     "execution_count": 48,
     "metadata": {},
     "output_type": "execute_result"
    },
    {
     "data": {
      "image/png": "[encoded data removed]",
      "text/plain": [
       "<Figure size 432x288 with 1 Axes>"
      ]
     },
     "metadata": {
      "needs_background": "light"
     },
     "output_type": "display_data"
    }
   ],
   "source": [
    "plt.scatter(data.iloc[kms.labels_ == 0,0], data.iloc[kms.labels_ == 0,4], s=50, marker='o', c='red')\n",
    "\n",
    "plt.scatter(data.iloc[kms.labels_ == 1,0], data.iloc[kms.labels_ == 1,4], s=50, marker='x', c='blue')\n",
    "\n",
    "plt.scatter(data.iloc[kms.labels_ == 2,0], data.iloc[kms.labels_ == 2,4], s=50, marker='*', c='green')"
   ]
  },
  {
   "cell_type": "code",
   "execution_count": 53,
   "id": "b3315668-63ad-4326-9e8d-526775f38ff7",
   "metadata": {},
   "outputs": [
    {
     "data": {
      "text/plain": [
       "KMeans(max_iter=100, n_clusters=4, random_state=2111151440)"
      ]
     },
     "execution_count": 53,
     "metadata": {},
     "output_type": "execute_result"
    }
   ],
   "source": [
    "kms = KMeans(n_clusters=4, max_iter=100, random_state=2111151440)\n",
    "kms.fit(data)"
   ]
  },
  {
   "cell_type": "code",
   "execution_count": 57,
   "id": "7f61048d-1916-4124-ad77-4bbff8ce470c",
   "metadata": {},
   "outputs": [
    {
     "data": {
      "text/plain": [
       "<matplotlib.collections.PathCollection at 0x7f1995526450>"
      ]
     },
     "execution_count": 58,
     "metadata": {},
     "output_type": "execute_result"
    },
    {
     "data": {
      "image/png": "[encoded data removed]",
      "text/plain": [
       "<Figure size 432x288 with 1 Axes>"
      ]
     },
     "metadata": {
      "needs_background": "light"
     },
     "output_type": "display_data"
    }
   ],
   "source": [
    "plt.scatter(data.iloc[kms.labels_ == 0,0], data.iloc[kms.labels_ == 0,1], s=50, marker='o', c='red')\n",
    "\n",
    "plt.scatter(data.iloc[kms.labels_ == 1,0], data.iloc[kms.labels_ == 1,1], s=50, marker='x', c='blue')\n",
    "\n",
    "plt.scatter(data.iloc[kms.labels_ == 2,0], data.iloc[kms.labels_ == 2,1], s=50, marker='*', c='green')\n",
    "\n",
    "plt.scatter(data.iloc[kms.labels_ == 3,0], data.iloc[kms.labels_ == 3,1], s=50, marker='.', c='navy')"
   ]
  },
  {
   "cell_type": "code",
   "execution_count": 59,
   "id": "e7bd43de-1fd4-4757-8bb0-780a60ca5368",
   "metadata": {},
   "outputs": [
    {
     "data": {
      "text/plain": [
       "<matplotlib.collections.PathCollection at 0x7f199512b6d0>"
      ]
     },
     "execution_count": 59,
     "metadata": {},
     "output_type": "execute_result"
    },
    {
     "data": {
      "image/png": "[encoded data removed]",
      "text/plain": [
       "<Figure size 432x288 with 1 Axes>"
      ]
     },
     "metadata": {
      "needs_background": "light"
     },
     "output_type": "display_data"
    }
   ],
   "source": [
    "plt.scatter(data.iloc[kms.labels_ == 0,2], data.iloc[kms.labels_ == 0,3], s=50, marker='o', c='red')\n",
    "\n",
    "plt.scatter(data.iloc[kms.labels_ == 1,2], data.iloc[kms.labels_ == 1,3], s=50, marker='x', c='blue')\n",
    "\n",
    "plt.scatter(data.iloc[kms.labels_ == 2,2], data.iloc[kms.labels_ == 2,3], s=50, marker='*', c='green')\n",
    "\n",
    "plt.scatter(data.iloc[kms.labels_ == 3,2], data.iloc[kms.labels_ == 3,3], s=50, marker='.', c='navy')"
   ]
  },
  {
   "cell_type": "markdown",
   "id": "fcc3837c-340d-4274-aa38-0fdf524b5303",
   "metadata": {},
   "source": [
    "## 결론 : 4개로 나누는것이 적절해 보임"
   ]
  },
  {
   "cell_type": "code",
   "execution_count": null,
   "id": "3851cabf-a14f-48ad-b65f-73fb309f92b0",
   "metadata": {},
   "outputs": [],
   "source": []
  },
  {
   "cell_type": "code",
   "execution_count": null,
   "id": "61435fc5-3e9b-40da-bded-fe475a2c5196",
   "metadata": {},
   "outputs": [],
   "source": []
  },
  {
   "cell_type": "code",
   "execution_count": null,
   "id": "25d185d1-18ba-4a8c-9665-93f631a3281e",
   "metadata": {},
   "outputs": [],
   "source": []
  },
  {
   "cell_type": "code",
   "execution_count": null,
   "id": "225092c0-9016-418a-9bbd-eaafceb19738",
   "metadata": {},
   "outputs": [],
   "source": []
  },
  {
   "cell_type": "code",
   "execution_count": null,
   "id": "c9fbf23c-8f67-4fb7-bb9c-ba18f46d80b8",
   "metadata": {},
   "outputs": [],
   "source": []
  },
  {
   "cell_type": "code",
   "execution_count": null,
   "id": "47f6b43d-6ee8-4978-a8f6-56a55d7619f1",
   "metadata": {},
   "outputs": [],
   "source": []
  },
  {
   "cell_type": "code",
   "execution_count": null,
   "id": "ec963756-85f7-4366-802d-735396937d3a",
   "metadata": {},
   "outputs": [],
   "source": []
  },
  {
   "cell_type": "code",
   "execution_count": null,
   "id": "cc30c85f-2f5f-4e31-92b4-0b2ea9f0c768",
   "metadata": {},
   "outputs": [],
   "source": []
  },
  {
   "cell_type": "code",
   "execution_count": null,
   "id": "4756b5b5-a485-4f39-8851-a09b9e98dae9",
   "metadata": {},
   "outputs": [],
   "source": []
  },
  {
   "cell_type": "code",
   "execution_count": null,
   "id": "61d0dc64-3933-4219-ab2f-b6cda586986d",
   "metadata": {},
   "outputs": [],
   "source": []
  },
  {
   "cell_type": "code",
   "execution_count": null,
   "id": "69c171c6-0a7a-4575-8db1-92f2d5fb7db5",
   "metadata": {},
   "outputs": [],
   "source": []
  }
 ],
 "metadata": {
  "kernelspec": {
   "display_name": "Python 3 (ipykernel)",
   "language": "python",
   "name": "python3"
  },
  "language_info": {
   "codemirror_mode": {
    "name": "ipython",
    "version": 3
   },
   "file_extension": ".py",
   "mimetype": "text/x-python",
   "name": "python",
   "nbconvert_exporter": "python",
   "pygments_lexer": "ipython3",
   "version": "3.7.10"
  }
 },
 "nbformat": 4,
 "nbformat_minor": 5
}
