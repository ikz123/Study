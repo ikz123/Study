{
 "cells": [
  {
   "cell_type": "markdown",
   "id": "47c37180-e1f8-415f-9197-ad14767aea19",
   "metadata": {},
   "source": [
    "## 선형회귀분석 오류"
   ]
  },
  {
   "cell_type": "code",
   "execution_count": 2,
   "id": "61a7a245-3183-4ef2-9cf8-be3555b72d28",
   "metadata": {},
   "outputs": [],
   "source": [
    "# 곤충질량(g)에 따라 암수구분하는 모델 생성\n",
    "# 0:암컷, 1:수컷\n",
    "\n",
    "wght = [1.94,1.67,0.92,1.11,1.41,1.65,2.28,0.47,1.07,2.19,2.08,1.02,0.91,1.16,1.46,1.02,0.85,0.89,1.79,1.89,0.75,0.9,1.87,0.5,0.69,1.5,0.96,0.53,1.21,0.6]\n",
    "spcs = [1,1,0,0,1,1,1,0,0,1,1,0,0,0,1,0,0,0,1,1,0,1,1,0,0,1,1,0,1,0]"
   ]
  },
  {
   "cell_type": "code",
   "execution_count": 4,
   "id": "3b8a5d7c-716c-4e4a-8b7e-c19d5ccb2842",
   "metadata": {},
   "outputs": [],
   "source": [
    "import numpy as np\n",
    "import pandas as pd\n",
    "import matplotlib.pyplot as plt"
   ]
  },
  {
   "cell_type": "code",
   "execution_count": 5,
   "id": "26e1fb3f-928a-4dc4-a6c3-31b303f1407e",
   "metadata": {},
   "outputs": [],
   "source": [
    "from sklearn.linear_model import LinearRegression\n",
    "from sklearn.metrics import r2_score"
   ]
  },
  {
   "cell_type": "code",
   "execution_count": 10,
   "id": "05b4664c-b425-479b-8b28-7f0f882d8b93",
   "metadata": {},
   "outputs": [
    {
     "data": {
      "text/plain": [
       "[<matplotlib.lines.Line2D at 0x7f4445e0c8d0>]"
      ]
     },
     "execution_count": 10,
     "metadata": {},
     "output_type": "execute_result"
    },
    {
     "data": {
      "image/png": "[encoded data removed]",
      "text/plain": [
       "<Figure size 432x288 with 1 Axes>"
      ]
     },
     "metadata": {
      "needs_background": "light"
     },
     "output_type": "display_data"
    }
   ],
   "source": [
    "# 시각화\n",
    "plt.plot(wght, spcs, 'ro')"
   ]
  },
  {
   "cell_type": "code",
   "execution_count": 11,
   "id": "0405351f-3fca-4e4b-b074-b29c21c353bd",
   "metadata": {},
   "outputs": [
    {
     "data": {
      "text/plain": [
       "LinearRegression()"
      ]
     },
     "execution_count": 11,
     "metadata": {},
     "output_type": "execute_result"
    }
   ],
   "source": [
    "# 선형회귀분석\n",
    "\n",
    "lr = LinearRegression()\n",
    "lr.fit(np.array(wght).reshape(-1,1), spcs)"
   ]
  },
  {
   "cell_type": "code",
   "execution_count": 12,
   "id": "4fbfacd7-8e4e-4de1-a043-8c3bf4c15c47",
   "metadata": {},
   "outputs": [
    {
     "data": {
      "text/plain": [
       "(array([0.74825276]), -0.43007818056050295)"
      ]
     },
     "execution_count": 12,
     "metadata": {},
     "output_type": "execute_result"
    }
   ],
   "source": [
    "lr.coef_, lr.intercept_\n",
    "\n",
    "# 0.75, -0.43"
   ]
  },
  {
   "cell_type": "code",
   "execution_count": 13,
   "id": "6e654c89-9963-48da-805a-9d26bfe9babf",
   "metadata": {},
   "outputs": [
    {
     "data": {
      "text/plain": [
       "0.6140660982944375"
      ]
     },
     "execution_count": 13,
     "metadata": {},
     "output_type": "execute_result"
    }
   ],
   "source": [
    "pred = lr.predict(np.array(wght).reshape(-1,1))\n",
    "\n",
    "r2_score(spcs, pred)   # 0.61"
   ]
  },
  {
   "cell_type": "code",
   "execution_count": 16,
   "id": "042bf171-ed1d-443f-8e9b-2b095d5935b5",
   "metadata": {},
   "outputs": [
    {
     "data": {
      "text/plain": [
       "[<matplotlib.lines.Line2D at 0x7f4445c45490>]"
      ]
     },
     "execution_count": 16,
     "metadata": {},
     "output_type": "execute_result"
    },
    {
     "data": {
      "image/png": "[encoded data removed]",
      "text/plain": [
       "<Figure size 432x288 with 1 Axes>"
      ]
     },
     "metadata": {
      "needs_background": "light"
     },
     "output_type": "display_data"
    }
   ],
   "source": [
    "plt.plot(wght, spcs, 'bo')\n",
    "plt.plot(wght, pred, 'r-')"
   ]
  },
  {
   "cell_type": "markdown",
   "id": "bb60bfe8-2d48-433e-9f39-5e0e51755126",
   "metadata": {},
   "source": [
    "## 종속변수가 범주형인 경우\n",
    "* 선형방정식은 이항분포를 따르는 데이터에 적용하기에 다소 맞지 않음\n",
    "   + $ y = ax + b $\n",
    "* 즉, 우변값의 범위는 '-무한대~+무한대'이지만, 좌변값의 범위는 '0~1'임\n",
    "\n",
    "* 따라서, 좌변값의 범위를 우변과 동일하게 '-무한대~+무한대'로 하려면 적절한 변환함수가 필요\n",
    "    + 로짓함수를 이용해서 변환함\n",
    "    + ### $  f(x) = \\frac {1} {1 + e^{-x}} $"
   ]
  },
  {
   "cell_type": "code",
   "execution_count": 77,
   "id": "77f387f6-5456-4258-abf5-e68d30389f93",
   "metadata": {},
   "outputs": [],
   "source": [
    "# 로짓함수 정의\n",
    "\n",
    "def logistic(x, w):\n",
    "    yy = 1 / (1 + np.exp(-(w[0]*x + w[1])))\n",
    "    return yy"
   ]
  },
  {
   "cell_type": "code",
   "execution_count": 78,
   "id": "fc3b288c-0ca6-4570-9e68-9396c8fe75da",
   "metadata": {},
   "outputs": [],
   "source": [
    "# 로짓함수를 이용해서 다시 그래프를 그림\n",
    "W = [8, -10]  # 기울기와 절편을 임의로 설정\n",
    "xx = np.linspace(0.5, 2.25, 50)  # 0.5~2.25내 50개 값생성\n",
    "yy = logistic(xx, W)"
   ]
  },
  {
   "cell_type": "code",
   "execution_count": 79,
   "id": "c17d3465-b0ea-43c5-a5fe-8342613e43ca",
   "metadata": {},
   "outputs": [
    {
     "data": {
      "text/plain": [
       "[<matplotlib.lines.Line2D at 0x7f444460c950>]"
      ]
     },
     "execution_count": 79,
     "metadata": {},
     "output_type": "execute_result"
    },
    {
     "data": {
      "image/png": "[encoded data removed]",
      "text/plain": [
       "<Figure size 432x288 with 1 Axes>"
      ]
     },
     "metadata": {
      "needs_background": "light"
     },
     "output_type": "display_data"
    }
   ],
   "source": [
    "plt.scatter(pd.Series(wght), pd.Series(spcs), c=spcs)\n",
    "plt.plot(xx.reshape(-1,1), yy, 'r-')"
   ]
  },
  {
   "cell_type": "code",
   "execution_count": 80,
   "id": "6ccae1e6-3136-49ec-a1a0-94815e1d3559",
   "metadata": {},
   "outputs": [
    {
     "data": {
      "text/plain": [
       "[<matplotlib.lines.Line2D at 0x7f44445a2ad0>]"
      ]
     },
     "execution_count": 80,
     "metadata": {},
     "output_type": "execute_result"
    },
    {
     "data": {
      "image/png": "[encoded data removed]",
      "text/plain": [
       "<Figure size 432x288 with 1 Axes>"
      ]
     },
     "metadata": {
      "needs_background": "light"
     },
     "output_type": "display_data"
    }
   ],
   "source": [
    "# 결정경계 표시 (yy가 0.5이상되는 지점 알아냄)\n",
    "i = np.min( np.where(yy >= 0.5) )\n",
    "xp = (xx[i])\n",
    "plt.plot([xp,xp], [-.5,1.5], 'g--')"
   ]
  },
  {
   "cell_type": "code",
   "execution_count": 81,
   "id": "e68054f7-f7aa-49e5-92b8-99b759848a77",
   "metadata": {},
   "outputs": [
    {
     "data": {
      "text/plain": [
       "[<matplotlib.lines.Line2D at 0x7f44444b2e50>]"
      ]
     },
     "execution_count": 81,
     "metadata": {},
     "output_type": "execute_result"
    },
    {
     "data": {
      "image/png": "[encoded data removed]",
      "text/plain": [
       "<Figure size 432x288 with 1 Axes>"
      ]
     },
     "metadata": {
      "needs_background": "light"
     },
     "output_type": "display_data"
    }
   ],
   "source": [
    "plt.scatter(pd.Series(wght), pd.Series(spcs), c=spcs)\n",
    "\n",
    "plt.plot(xx.reshape(-1,1), yy, 'r-')\n",
    "\n",
    "i = np.min( np.where(yy >= 0.5) )\n",
    "\n",
    "xp = (xx[i])\n",
    "\n",
    "plt.plot([xp,xp], [-.5,1.5], 'g--')"
   ]
  },
  {
   "cell_type": "code",
   "execution_count": null,
   "id": "f78697b8-857d-40a0-a2fd-5c960dbde70c",
   "metadata": {},
   "outputs": [],
   "source": []
  },
  {
   "cell_type": "code",
   "execution_count": null,
   "id": "40ff7109-eefa-480c-bccb-229e7c9c7ae0",
   "metadata": {},
   "outputs": [],
   "source": []
  },
  {
   "cell_type": "code",
   "execution_count": null,
   "id": "c29b6f64-de4b-4cc1-a2cb-f58e868b46df",
   "metadata": {},
   "outputs": [],
   "source": []
  },
  {
   "cell_type": "code",
   "execution_count": null,
   "id": "2f618ed6-7016-483d-b727-fa0908d3a4fb",
   "metadata": {},
   "outputs": [],
   "source": []
  },
  {
   "cell_type": "code",
   "execution_count": 82,
   "id": "827837de-d72a-44dd-a6d8-02a6937153e5",
   "metadata": {},
   "outputs": [],
   "source": [
    "# sklearn에서 제공하는 LogisticRegression으로 분석하기\n",
    "\n",
    "from sklearn.linear_model import LogisticRegression\n",
    "from sklearn.metrics import accuracy_score"
   ]
  },
  {
   "cell_type": "code",
   "execution_count": 83,
   "id": "1a062255-c1fb-469a-bb4b-0f26f0976917",
   "metadata": {},
   "outputs": [],
   "source": [
    "X = np.array(wght).reshape(-1,1)\n",
    "y = spcs"
   ]
  },
  {
   "cell_type": "code",
   "execution_count": null,
   "id": "23b3c887-2f62-4e47-90d9-409da1a64aab",
   "metadata": {},
   "outputs": [],
   "source": [
    "# solver : sklearn 20.x 이상부터는 명시적 지정 필요\n",
    "# liblinear : 이항회귀, 비교적 작은 데이터셋에 적합 ( 0 또는 1 같은걸 분석할떄 )\n",
    "# lbfgs, newton-cg : 다항회귀, L1제약\n",
    "# sag, saga : 다항회귀, L2제약, 확률적경사하강법 사용\n",
    "# multi_class = 'multinomial'  # 다항회귀 설정"
   ]
  },
  {
   "cell_type": "code",
   "execution_count": 89,
   "id": "0bf264e8-43bc-40ed-9a58-1fa326721d06",
   "metadata": {},
   "outputs": [],
   "source": [
    "lrclf = LogisticRegression(solver='liblinear')\n",
    "lrclf.fit(X,y)\n",
    "pred = lrclf.predict(X)"
   ]
  },
  {
   "cell_type": "code",
   "execution_count": 90,
   "id": "7e0b7e27-d8a7-42ab-b803-b7fcb1954b56",
   "metadata": {},
   "outputs": [
    {
     "data": {
      "text/plain": [
       "0.8666666666666667"
      ]
     },
     "execution_count": 90,
     "metadata": {},
     "output_type": "execute_result"
    }
   ],
   "source": [
    "accuracy_score(y, pred)"
   ]
  },
  {
   "cell_type": "code",
   "execution_count": 86,
   "id": "b1eb3b7b-38e0-4eab-952e-44ab5deeba41",
   "metadata": {},
   "outputs": [
    {
     "name": "stdout",
     "output_type": "stream",
     "text": [
      "임계값 [1.25]\n"
     ]
    },
    {
     "data": {
      "image/png": "[encoded data removed]",
      "text/plain": [
       "<Figure size 432x288 with 1 Axes>"
      ]
     },
     "metadata": {
      "needs_background": "light"
     },
     "output_type": "display_data"
    }
   ],
   "source": [
    "plt.scatter(X, y, c=y)\n",
    "xx = np.linspace(0.5, 2.25, 50).reshape(-1,1)\n",
    "yy = lrclf.predict_proba(xx)\n",
    "plt.plot(xx, yy[:, 1], 'r-')\n",
    "\n",
    "i = np.min(np.where(yy[:,1] >= 0.5))\n",
    "xp = xx[i]\n",
    "plt.plot([xp,xp], [-.5, 1.5], 'g--')\n",
    "print('임계값', xp)"
   ]
  },
  {
   "cell_type": "markdown",
   "id": "7fe245fe-6706-4eca-8d63-c535f1ffb98d",
   "metadata": {},
   "source": [
    "## iris 데이터셋을 이용한 로지스틱 회귀\n",
    "* 4+1 변수, 150개 데이터로 구성\n",
    "* 결과값은 3가지 : setosa, versicolor, verginica"
   ]
  },
  {
   "cell_type": "code",
   "execution_count": 116,
   "id": "d3735b3c-e798-4746-972c-abae423347a4",
   "metadata": {},
   "outputs": [],
   "source": [
    "# 꽃잎너비, 레이블이 verginica인 경우에 대한 경계값 알아보기\n",
    "\n",
    "from sklearn.datasets import load_iris\n",
    "from sklearn.model_selection import train_test_split"
   ]
  },
  {
   "cell_type": "code",
   "execution_count": 117,
   "id": "80ba241b-dd7f-4c33-ae88-a6237b0b0b74",
   "metadata": {},
   "outputs": [],
   "source": [
    "iris = load_iris()"
   ]
  },
  {
   "cell_type": "code",
   "execution_count": 122,
   "id": "1e5a87cf-82a0-4c24-8ebd-8088fe2fa4ec",
   "metadata": {},
   "outputs": [],
   "source": [
    "Xtrain, Xtest, Ytrain, Ytest = train_test_split(iris.data, iris.target, test_size=0.3, stratify=iris.target, random_state=2111091510)"
   ]
  },
  {
   "cell_type": "code",
   "execution_count": 123,
   "id": "aaee2b37-c90d-4bd1-affe-18a03a86ed57",
   "metadata": {},
   "outputs": [],
   "source": [
    "lrclf = LogisticRegression(solver='lbfgs', multi_class='multinomial', C=0.1)"
   ]
  },
  {
   "cell_type": "code",
   "execution_count": 124,
   "id": "86b3994b-02f2-4df2-84ed-ca47c326e529",
   "metadata": {},
   "outputs": [],
   "source": [
    "lrclf.fit(Xtrain, Ytrain)\n",
    "pred = lrclf.predict(Xtest)"
   ]
  },
  {
   "cell_type": "code",
   "execution_count": 125,
   "id": "cf7fcd7a-9614-455d-8c6f-19b64152f43e",
   "metadata": {},
   "outputs": [
    {
     "data": {
      "text/plain": [
       "0.9777777777777777"
      ]
     },
     "execution_count": 125,
     "metadata": {},
     "output_type": "execute_result"
    }
   ],
   "source": [
    "accuracy_score(Ytest,pred)"
   ]
  },
  {
   "cell_type": "code",
   "execution_count": 127,
   "id": "a9af9a0d-211a-4573-b743-9a0d75c9fabe",
   "metadata": {},
   "outputs": [],
   "source": [
    "X = iris.data[:,3] # petal width\n",
    "y = (iris.target == 2).astype(np.int32)"
   ]
  },
  {
   "cell_type": "code",
   "execution_count": 128,
   "id": "5a6b3b78-e1fa-4426-ac12-7eda2c4eee70",
   "metadata": {},
   "outputs": [
    {
     "data": {
      "text/plain": [
       "array([0, 0, 0, 0, 0], dtype=int32)"
      ]
     },
     "execution_count": 128,
     "metadata": {},
     "output_type": "execute_result"
    }
   ],
   "source": [
    "np.min(X), np.max(X)\n",
    "y[:5]"
   ]
  },
  {
   "cell_type": "code",
   "execution_count": 132,
   "id": "c19e79d9-954c-4f0d-a26d-58942d569a40",
   "metadata": {},
   "outputs": [
    {
     "data": {
      "text/plain": [
       "LogisticRegression(solver='liblinear')"
      ]
     },
     "execution_count": 132,
     "metadata": {},
     "output_type": "execute_result"
    }
   ],
   "source": [
    "lrclf = LogisticRegression(solver='liblinear')\n",
    "lrclf.fit(X.reshape(-1,1),y)"
   ]
  },
  {
   "cell_type": "code",
   "execution_count": 137,
   "id": "3d333df4-0416-4e1d-841d-ebd2a4820c25",
   "metadata": {},
   "outputs": [
    {
     "name": "stdout",
     "output_type": "stream",
     "text": [
      "임계값 [1.61616162]\n"
     ]
    },
    {
     "data": {
      "image/png": "[encoded data removed]",
      "text/plain": [
       "<Figure size 432x288 with 1 Axes>"
      ]
     },
     "metadata": {
      "needs_background": "light"
     },
     "output_type": "display_data"
    }
   ],
   "source": [
    "plt.scatter(X, y, c=y)\n",
    "xx = np.linspace(0, 2.5, 100).reshape(-1,1)\n",
    "yy = lrclf.predict_proba(xx)\n",
    "plt.plot(xx,yy[:, 1],'r')\n",
    "\n",
    "i = np.min (np.where(yy[:,1] >= 0.5))\n",
    "xp = (xx[i])\n",
    "plt.plot([xp,xp], [0,1], 'g--')\n",
    "\n",
    "print('임계값', xp)"
   ]
  },
  {
   "cell_type": "markdown",
   "id": "fcc92f4e-1bb7-4e9c-9ec8-6ec446228aec",
   "metadata": {},
   "source": [
    "### 결정경계 시각화\n",
    "* iris의 feature를 2개로 나눠 재학습"
   ]
  },
  {
   "cell_type": "code",
   "execution_count": 193,
   "id": "085f11f8-8949-4f87-8035-eaf9076d8092",
   "metadata": {},
   "outputs": [],
   "source": [
    "# 시각화를 위해 두 변수만 지정\n",
    "data = iris.data[:, :2]  # sepal 속성만\n",
    "#data = iris.data[:, 2:]  # petal 속성만\n",
    "\n",
    "target = iris.target"
   ]
  },
  {
   "cell_type": "code",
   "execution_count": 194,
   "id": "c4730914-f77b-4340-8d33-f43af46d00e4",
   "metadata": {},
   "outputs": [
    {
     "name": "stdout",
     "output_type": "stream",
     "text": [
      "0.82\n"
     ]
    }
   ],
   "source": [
    "# 분석시작\n",
    "lrclf = LogisticRegression(solver='lbfgs')\n",
    "lrclf.fit(data, target)\n",
    "print(lrclf.score(data, target))  # 훈련 정확도"
   ]
  },
  {
   "cell_type": "code",
   "execution_count": 229,
   "id": "6eb5e8ec-1019-4325-968b-9528beff19da",
   "metadata": {},
   "outputs": [],
   "source": [
    "plt.rcParams['pcolor.shading'] = 'nearest'"
   ]
  },
  {
   "cell_type": "code",
   "execution_count": 230,
   "id": "d0f7d2f4-de69-415f-845d-5fac04429bfb",
   "metadata": {},
   "outputs": [],
   "source": [
    "# 다항 로지스틱 결정경계 시각화\n",
    "\n",
    "x_min = data[:, 0].min() - 0.5   # x축 최대/최소 \n",
    "x_max = data[:, 0].max() + 0.5"
   ]
  },
  {
   "cell_type": "code",
   "execution_count": 231,
   "id": "b1b16179-d119-4041-b35c-6132897cbec3",
   "metadata": {},
   "outputs": [],
   "source": [
    "y_min = data[:, 1].min() - 0.5 # y축 최대/최소\n",
    "y_max = data[:, 1].max() + 0.5"
   ]
  },
  {
   "cell_type": "code",
   "execution_count": 232,
   "id": "06cfb2d8-4d92-46be-846c-fb99fc3afb20",
   "metadata": {},
   "outputs": [],
   "source": [
    "# x/y축 범위의 값들 생성\n",
    "\n",
    "xm = np.arange(x_min, x_max, 0.02)\n",
    "ym = np.arange(y_min, y_max, 0.02)"
   ]
  },
  {
   "cell_type": "code",
   "execution_count": 233,
   "id": "54adfb37-12da-4436-aff4-b681b86a60bf",
   "metadata": {},
   "outputs": [],
   "source": [
    "# 생성한 값들을 x,y 쌍으로 좌표평면에 배치\n",
    "# 즉, 예측값을 나타낼 데이터 범위 지정\n",
    "xx, yy = np.meshgrid(xm,ym)"
   ]
  },
  {
   "cell_type": "code",
   "execution_count": 234,
   "id": "40e6a5fc-5fca-4581-b465-270031b34dc3",
   "metadata": {},
   "outputs": [
    {
     "data": {
      "text/plain": [
       "array([[3.8 , 3.82, 3.84, ..., 8.36, 8.38, 8.4 ],\n",
       "       [3.8 , 3.82, 3.84, ..., 8.36, 8.38, 8.4 ],\n",
       "       [3.8 , 3.82, 3.84, ..., 8.36, 8.38, 8.4 ],\n",
       "       [3.8 , 3.82, 3.84, ..., 8.36, 8.38, 8.4 ],\n",
       "       [3.8 , 3.82, 3.84, ..., 8.36, 8.38, 8.4 ]])"
      ]
     },
     "execution_count": 234,
     "metadata": {},
     "output_type": "execute_result"
    }
   ],
   "source": [
    "xx[:5]"
   ]
  },
  {
   "cell_type": "code",
   "execution_count": 235,
   "id": "11ed1fce-982d-435c-af4d-606289447399",
   "metadata": {},
   "outputs": [
    {
     "data": {
      "text/plain": [
       "array([[1.5 , 1.5 , 1.5 , ..., 1.5 , 1.5 , 1.5 ],\n",
       "       [1.52, 1.52, 1.52, ..., 1.52, 1.52, 1.52],\n",
       "       [1.54, 1.54, 1.54, ..., 1.54, 1.54, 1.54],\n",
       "       [1.56, 1.56, 1.56, ..., 1.56, 1.56, 1.56],\n",
       "       [1.58, 1.58, 1.58, ..., 1.58, 1.58, 1.58]])"
      ]
     },
     "execution_count": 235,
     "metadata": {},
     "output_type": "execute_result"
    }
   ],
   "source": [
    "yy[:5]"
   ]
  },
  {
   "cell_type": "code",
   "execution_count": 236,
   "id": "927c04cb-3e8f-4eb6-a655-a67803722145",
   "metadata": {},
   "outputs": [
    {
     "data": {
      "image/png": "[encoded data removed]",
      "text/plain": [
       "<Figure size 432x288 with 1 Axes>"
      ]
     },
     "metadata": {
      "needs_background": "light"
     },
     "output_type": "display_data"
    }
   ],
   "source": [
    "# 지금까지의 작업 확인\n",
    "plt.plot(xx,yy)\n",
    "plt.show()"
   ]
  },
  {
   "cell_type": "code",
   "execution_count": 241,
   "id": "bc917753-61c1-40a7-87de-6a702f773acd",
   "metadata": {},
   "outputs": [
    {
     "data": {
      "image/png": "[encoded data removed]",
      "text/plain": [
       "<Figure size 432x288 with 1 Axes>"
      ]
     },
     "metadata": {
      "needs_background": "light"
     },
     "output_type": "display_data"
    }
   ],
   "source": [
    "# 위에서 만든 x,y 좌표쌍을 모델을 통해 예측함\n",
    "\n",
    "results = lrclf.predict(np.c_[xx.ravel(), yy.ravel()])\n",
    "results = results.reshape(xx.shape)\n",
    "plt.pcolormesh(xx,yy, results, cmap=plt.cm.tab20c)\n",
    "\n",
    "\n",
    "\n",
    "# 원본데이터를 산점도에 표시\n",
    "plt.scatter(data[:,0],data[:,1], c=target, cmap=plt.cm.tab20c, edgecolors='k')\n",
    "\n",
    "plt.show()"
   ]
  },
  {
   "cell_type": "code",
   "execution_count": null,
   "id": "a344f268-3df4-43b0-8a88-ddedb0489437",
   "metadata": {},
   "outputs": [],
   "source": []
  },
  {
   "cell_type": "code",
   "execution_count": null,
   "id": "9abac3a8-15a4-4ad8-93a3-b504fe4d0c42",
   "metadata": {},
   "outputs": [],
   "source": []
  },
  {
   "cell_type": "code",
   "execution_count": 242,
   "id": "47b5462f-848f-4015-89fa-792c62bf0df0",
   "metadata": {},
   "outputs": [],
   "source": [
    "# 시각화를 위해 두 변수만 지정  (peral 계열)\n",
    "\n",
    "# data = iris.data[:, :2]  # sepal 속성만\n",
    "data = iris.data[:, 2:]  # petal 속성만\n",
    "\n",
    "target = iris.target"
   ]
  },
  {
   "cell_type": "code",
   "execution_count": 243,
   "id": "4d118e63-c82a-4852-91a3-f671b2d8ac4e",
   "metadata": {},
   "outputs": [
    {
     "name": "stdout",
     "output_type": "stream",
     "text": [
      "0.9666666666666667\n"
     ]
    }
   ],
   "source": [
    "# 분석시작\n",
    "lrclf = LogisticRegression(solver='lbfgs')\n",
    "lrclf.fit(data, target)\n",
    "print(lrclf.score(data, target))  # 훈련 정확도"
   ]
  },
  {
   "cell_type": "code",
   "execution_count": 244,
   "id": "5be04883-57e5-49f7-92e2-0bf798e284a6",
   "metadata": {},
   "outputs": [],
   "source": [
    "plt.rcParams['pcolor.shading'] = 'nearest'"
   ]
  },
  {
   "cell_type": "code",
   "execution_count": 245,
   "id": "8380d942-7164-420b-9483-3857e6ead2fe",
   "metadata": {},
   "outputs": [],
   "source": [
    "# 다항 로지스틱 결정경계 시각화\n",
    "\n",
    "x_min = data[:, 0].min() - 0.5   # x축 최대/최소 \n",
    "x_max = data[:, 0].max() + 0.5"
   ]
  },
  {
   "cell_type": "code",
   "execution_count": 246,
   "id": "885e1a2c-2197-47e7-b03d-b83694663be4",
   "metadata": {},
   "outputs": [],
   "source": [
    "y_min = data[:, 1].min() - 0.5 # y축 최대/최소\n",
    "y_max = data[:, 1].max() + 0.5"
   ]
  },
  {
   "cell_type": "code",
   "execution_count": 247,
   "id": "8c14aae6-f631-4e37-88ac-6e6de9f9ddfd",
   "metadata": {},
   "outputs": [],
   "source": [
    "# x/y축 범위의 값들 생성\n",
    "\n",
    "xm = np.arange(x_min, x_max, 0.02)\n",
    "ym = np.arange(y_min, y_max, 0.02)"
   ]
  },
  {
   "cell_type": "code",
   "execution_count": 248,
   "id": "58dc08a8-0aaf-4586-8297-218658ee83f9",
   "metadata": {},
   "outputs": [],
   "source": [
    "# 생성한 값들을 x,y 쌍으로 좌표평면에 배치\n",
    "# 즉, 예측값을 나타낼 데이터 범위 지정\n",
    "xx, yy = np.meshgrid(xm,ym)"
   ]
  },
  {
   "cell_type": "code",
   "execution_count": 249,
   "id": "a2bfeea3-1ac1-41c3-8318-8c16abe669ee",
   "metadata": {},
   "outputs": [
    {
     "data": {
      "text/plain": [
       "array([[0.5 , 0.52, 0.54, ..., 7.34, 7.36, 7.38],\n",
       "       [0.5 , 0.52, 0.54, ..., 7.34, 7.36, 7.38],\n",
       "       [0.5 , 0.52, 0.54, ..., 7.34, 7.36, 7.38],\n",
       "       [0.5 , 0.52, 0.54, ..., 7.34, 7.36, 7.38],\n",
       "       [0.5 , 0.52, 0.54, ..., 7.34, 7.36, 7.38]])"
      ]
     },
     "execution_count": 249,
     "metadata": {},
     "output_type": "execute_result"
    }
   ],
   "source": [
    "xx[:5]"
   ]
  },
  {
   "cell_type": "code",
   "execution_count": 251,
   "id": "c67a752e-56a8-4e63-b685-73940ebae3c7",
   "metadata": {},
   "outputs": [
    {
     "data": {
      "text/plain": [
       "array([[-0.4 , -0.4 , -0.4 , ..., -0.4 , -0.4 , -0.4 ],\n",
       "       [-0.38, -0.38, -0.38, ..., -0.38, -0.38, -0.38],\n",
       "       [-0.36, -0.36, -0.36, ..., -0.36, -0.36, -0.36],\n",
       "       [-0.34, -0.34, -0.34, ..., -0.34, -0.34, -0.34],\n",
       "       [-0.32, -0.32, -0.32, ..., -0.32, -0.32, -0.32]])"
      ]
     },
     "execution_count": 251,
     "metadata": {},
     "output_type": "execute_result"
    }
   ],
   "source": [
    "yy[:5]"
   ]
  },
  {
   "cell_type": "code",
   "execution_count": 252,
   "id": "4035975c-066e-48a9-b889-640e81aa3b33",
   "metadata": {},
   "outputs": [
    {
     "data": {
      "image/png": "[encoded data removed]",
      "text/plain": [
       "<Figure size 432x288 with 1 Axes>"
      ]
     },
     "metadata": {
      "needs_background": "light"
     },
     "output_type": "display_data"
    }
   ],
   "source": [
    "# 지금까지의 작업 확인\n",
    "plt.plot(xx,yy)\n",
    "plt.show()"
   ]
  },
  {
   "cell_type": "code",
   "execution_count": 253,
   "id": "29ba9703-be8f-47dd-91d4-a4a72374940d",
   "metadata": {},
   "outputs": [
    {
     "data": {
      "image/png": "[encoded data removed]",
      "text/plain": [
       "<Figure size 432x288 with 1 Axes>"
      ]
     },
     "metadata": {
      "needs_background": "light"
     },
     "output_type": "display_data"
    }
   ],
   "source": [
    "# 위에서 만든 x,y 좌표쌍을 모델을 통해 예측함\n",
    "\n",
    "results = lrclf.predict(np.c_[xx.ravel(), yy.ravel()])\n",
    "results = results.reshape(xx.shape)\n",
    "plt.pcolormesh(xx,yy, results, cmap=plt.cm.tab20c)\n",
    "\n",
    "\n",
    "\n",
    "# 원본데이터를 산점도에 표시\n",
    "plt.scatter(data[:,0],data[:,1], c=target, cmap=plt.cm.tab20c, edgecolors='k')\n",
    "\n",
    "plt.show()"
   ]
  },
  {
   "cell_type": "code",
   "execution_count": null,
   "id": "ad1ef942-d5f7-4cbc-92f0-2d30fd2b2061",
   "metadata": {},
   "outputs": [],
   "source": []
  },
  {
   "cell_type": "code",
   "execution_count": 254,
   "id": "71f82941-e631-48df-a089-dec06315b7e8",
   "metadata": {},
   "outputs": [],
   "source": [
    "import mldlpy3"
   ]
  },
  {
   "cell_type": "code",
   "execution_count": 256,
   "id": "9ba0b7ee-0fac-4ede-8781-24b9f3542726",
   "metadata": {},
   "outputs": [
    {
     "name": "stderr",
     "output_type": "stream",
     "text": [
      "/home/hadoop/mldlpy3.py:29: UserWarning: You passed a edgecolor/edgecolors ('k') for an unfilled marker ('x').  Matplotlib is ignoring the edgecolor in favor of the facecolor.  This behavior may change in the future.\n",
      "  edgecolors='k')\n"
     ]
    },
    {
     "data": {
      "image/png": "[encoded data removed]",
      "text/plain": [
       "<Figure size 432x288 with 1 Axes>"
      ]
     },
     "metadata": {
      "needs_background": "light"
     },
     "output_type": "display_data"
    }
   ],
   "source": [
    "mldlpy3.plot_decision_regions(data, target, lrclf)"
   ]
  },
  {
   "cell_type": "code",
   "execution_count": null,
   "id": "2f78bb44-08b4-46ee-8aea-37fb0de1e9b3",
   "metadata": {},
   "outputs": [],
   "source": []
  }
 ],
 "metadata": {
  "kernelspec": {
   "display_name": "Python 3 (ipykernel)",
   "language": "python",
   "name": "python3"
  },
  "language_info": {
   "codemirror_mode": {
    "name": "ipython",
    "version": 3
   },
   "file_extension": ".py",
   "mimetype": "text/x-python",
   "name": "python",
   "nbconvert_exporter": "python",
   "pygments_lexer": "ipython3",
   "version": "3.7.10"
  }
 },
 "nbformat": 4,
 "nbformat_minor": 5
}
