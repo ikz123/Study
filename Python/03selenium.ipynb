{
 "cells": [
  {
   "cell_type": "markdown",
   "id": "dced568c-43f1-4e80-bb37-594d5ca50bee",
   "metadata": {},
   "source": [
    "## selenium\n",
    "* https://www.selenium.dev/\n",
    "* 웹브라우저를 이용한 작업들을 자동화할 수 있도록 특수 제작된 브라우저\n",
    "* requests, bs4로 스크래핑할 수 없는 동적 데이터를 포함하는 웹페이지를 원격조작이 가능한 웹브라우저를 이용해서 처리"
   ]
  },
  {
   "cell_type": "markdown",
   "id": "e19af32d-a416-4234-87fc-e67337936e1c",
   "metadata": {},
   "source": [
    "## Centos7 google-chrome 설치\n",
    "* yum install -y https://dl.google.com/linux/chrome/rpm/stable/x86_64/google-chrome-stable-92.0.4515.107-1.x86_64.rpm\n",
    "* yum install -y https://dl.google.com/linux/chrome/rpm/stable/x86_64/google-chrome-stable-94.0.4606.61-1.x86_64.rpm\n",
    "\n",
    "* wget https://chromedriver.storage.googleapis.com/94.0.4606.61/chromedriver_linux64.zip\n",
    "\n",
    "* unzip chromedriver_linux64.zip\n",
    "* mv chromedriver /home/hadoop\n",
    "* chown hadoop:hadoop /home/hadoop/chromedriver # 안해도 되는 것 같음"
   ]
  },
  {
   "cell_type": "code",
   "execution_count": 1,
   "id": "96cb0f54-2882-41fd-a215-38e189e3e411",
   "metadata": {},
   "outputs": [],
   "source": [
    "# pip install selenium\n",
    "# pip install beautifulsoup4"
   ]
  },
  {
   "cell_type": "code",
   "execution_count": 2,
   "id": "bcc894ab-c230-4a0d-9b57-06118db1b1a6",
   "metadata": {},
   "outputs": [],
   "source": [
    "from selenium import webdriver\n",
    "from bs4 import BeautifulSoup\n",
    "from selenium.webdriver.chrome.options import Options"
   ]
  },
  {
   "cell_type": "code",
   "execution_count": 3,
   "id": "535914f9-a0ac-4277-bff6-6f9c4dafbc73",
   "metadata": {},
   "outputs": [],
   "source": [
    "# 다음 영화 사이트( https://movie.daum.net/main )에서 영화제목, 평점, 예매율 추출하기\n",
    "url = 'https://movie.daum.net/main'"
   ]
  },
  {
   "cell_type": "code",
   "execution_count": 4,
   "id": "89810e8f-3e1f-439f-b2aa-0015faeafc56",
   "metadata": {},
   "outputs": [],
   "source": [
    "# headless를 위한 설정\n",
    "options = Options()\n",
    "options.add_argument('--headless')"
   ]
  },
  {
   "cell_type": "code",
   "execution_count": 18,
   "id": "3317f18f-ac47-45bd-b05c-55d7b0481076",
   "metadata": {},
   "outputs": [],
   "source": [
    "# # 크롬 웹드라이버 설정 (1) -> 윈도우용\n",
    "# path = r'C:\\Program Files\\Google\\Chrome\\Application\\chromedriver.exe'\n",
    "# # chrome = webdriver.Chrome(executable_path=path)\n",
    "#chrome = webdriver.Chrome(executable_path=path, options=options)"
   ]
  },
  {
   "cell_type": "code",
   "execution_count": 33,
   "id": "cff75ad2-6022-4e6e-a589-1a7d5ede08b6",
   "metadata": {},
   "outputs": [
    {
     "name": "stderr",
     "output_type": "stream",
     "text": [
      "/opt/miniconda3/lib/python3.7/site-packages/ipykernel_launcher.py:7: DeprecationWarning: executable_path has been deprecated, please pass in a Service object\n",
      "  import sys\n"
     ]
    }
   ],
   "source": [
    "# 크롬 웹브라우저 실행 (2) -> 리눅스용\n",
    "# 1. 리눅스용 크롬 웹브라우저 설치\n",
    "# wget https://dl.google.com/linux/direct/google-chrome-stable_current_x86_64.rpm\n",
    "\n",
    "# 2. 리눅스용 크롬 드라이버 설치\n",
    "path = \"/home/hadoop/chromedriver\"\n",
    "chrome = webdriver.Chrome(executable_path=path, options=options)"
   ]
  },
  {
   "cell_type": "code",
   "execution_count": 26,
   "id": "af30d80b-265d-4f5f-aef3-873fb7b72a25",
   "metadata": {},
   "outputs": [],
   "source": [
    "# 지정한 url로 접속\n",
    "chrome.get(url)"
   ]
  },
  {
   "cell_type": "code",
   "execution_count": 27,
   "id": "3f92ac18-6cd0-4816-8634-8ffc24c2bb6e",
   "metadata": {},
   "outputs": [],
   "source": [
    "# 응답받은 소스 출력\n",
    "# print(chrome.page_source)\n",
    "res = chrome.page_source"
   ]
  },
  {
   "cell_type": "code",
   "execution_count": 28,
   "id": "b857c743-c074-425e-b0bf-56d699812245",
   "metadata": {},
   "outputs": [],
   "source": [
    "# 크롬 종료\n",
    "chrome.close()"
   ]
  },
  {
   "cell_type": "code",
   "execution_count": 29,
   "id": "bb8b5270-986d-4ffc-9dbc-aa917b30c5f1",
   "metadata": {},
   "outputs": [],
   "source": [
    "# 읽어들인 페이지소스를 BeautifulSoup으로 파싱\n",
    "html = BeautifulSoup(res, 'lxml')"
   ]
  },
  {
   "cell_type": "code",
   "execution_count": 30,
   "id": "fd4447d2-342f-4081-ba1d-a27fe224b73f",
   "metadata": {},
   "outputs": [
    {
     "name": "stdout",
     "output_type": "stream",
     "text": [
      "이터널스\n",
      "듄\n",
      "베놈 2: 렛 데어 비 카니지\n",
      "고장난 론\n",
      "아네트\n",
      "애프터: 관계의 함정\n",
      "더 하더 데이 폴\n",
      "바다 탐험대 옥토넛 : 육지수호 대작전\n",
      "할로윈 킬즈\n",
      "당신은 믿지 않겠지만\n",
      "라스트 듀얼: 최후의 결투\n",
      "기적\n",
      "그림자꽃\n",
      "007 노 타임 투 다이\n",
      "보이스\n",
      "발신제한\n",
      "미드나이트\n",
      "비밀\n",
      "나의 PS 파트너\n",
      "샤크 : 더 비기닝\n",
      "무수단\n",
      "세자매\n",
      "파이프라인\n",
      "극장판 명탐정 코난 : 탐정들의 진혼가\n",
      "명탐정 코난 : 베이커가의 망령\n",
      "극장판 짱구는 못말려: 격돌! 낙서왕국과 얼추 네 명의 용사들\n",
      "애프터: 그 후\n",
      "조제, 호랑이 그리고 물고기들\n",
      "모가디슈\n",
      "애프터\n",
      "베놈\n",
      "졸트\n",
      "극장판 짱구는 못말려: 신혼여행 허리케인~ 사라진 아빠!\n",
      "싱크홀\n",
      "극장판 귀멸의 칼날: 무한열차편\n"
     ]
    }
   ],
   "source": [
    "# 영화제목 추출\n",
    "for title in html.select('strong.tit_item a'):\n",
    "    print(title.text)"
   ]
  },
  {
   "cell_type": "code",
   "execution_count": 31,
   "id": "10013933-6216-4d00-a44e-736c049e6bdc",
   "metadata": {},
   "outputs": [
    {
     "name": "stdout",
     "output_type": "stream",
     "text": [
      "8.7\n",
      "6.9\n",
      "5.9\n",
      "10.0\n",
      "9.1\n",
      "9.3\n",
      "0.0\n",
      "10.0\n",
      "6.9\n",
      "8.2\n",
      "8.8\n",
      "8.8\n",
      "7.0\n",
      "5.8\n",
      "8.4\n"
     ]
    }
   ],
   "source": [
    "# 영화평점 출력\n",
    "for rate in html.select('span.txt_append span:first-child'):\n",
    "    print(rate.text)"
   ]
  },
  {
   "cell_type": "code",
   "execution_count": 32,
   "id": "b53265fa-7bf1-4cdc-88ca-202e740fa59b",
   "metadata": {},
   "outputs": [
    {
     "name": "stdout",
     "output_type": "stream",
     "text": [
      "43.1%\n",
      "24.5%\n",
      "9.1%\n",
      "4.3%\n",
      "3.3%\n",
      "1.8%\n",
      "1.5%\n",
      "1.1%\n",
      "1.0%\n",
      "0.9%\n",
      "0.8%\n",
      "0.7%\n",
      "0.7%\n",
      "0.6%\n",
      "0.4%\n"
     ]
    }
   ],
   "source": [
    "# 영화예매율 출력\n",
    "for resrv in html.select('span.txt_append span:last-child'):\n",
    "    print(resrv.text)"
   ]
  }
 ],
 "metadata": {
  "kernelspec": {
   "display_name": "Python 3 (ipykernel)",
   "language": "python",
   "name": "python3"
  },
  "language_info": {
   "codemirror_mode": {
    "name": "ipython",
    "version": 3
   },
   "file_extension": ".py",
   "mimetype": "text/x-python",
   "name": "python",
   "nbconvert_exporter": "python",
   "pygments_lexer": "ipython3",
   "version": "3.7.10"
  }
 },
 "nbformat": 4,
 "nbformat_minor": 5
}
