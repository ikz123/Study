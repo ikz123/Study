{
 "cells": [
  {
   "cell_type": "markdown",
   "id": "6eabd7ff-4e80-482a-9987-374089bba295",
   "metadata": {},
   "source": [
    "## 오픈소스 무료지도 API : folium\n",
    " * python-visualization.github.io/folium\n",
    " * pip install folium"
   ]
  },
  {
   "cell_type": "code",
   "execution_count": 1,
   "id": "a5b22eb7-ad4f-4d06-b020-6e72830b9536",
   "metadata": {},
   "outputs": [],
   "source": [
    "import folium"
   ]
  },
  {
   "cell_type": "code",
   "execution_count": 2,
   "id": "422c9892-d30c-4edf-96ae-b2712decded9",
   "metadata": {},
   "outputs": [],
   "source": [
    "# 간단한 지도표시\n",
    "lat = 37.566\n",
    "lng = 126.9784"
   ]
  },
  {
   "cell_type": "code",
   "execution_count": 6,
   "id": "24a4a0bf-c8df-4f59-aeaa-d290a099faf7",
   "metadata": {},
   "outputs": [],
   "source": [
    "fmap = folium.Map([lat, lng])\n",
    "fmap.save('maps/fmap1.html')"
   ]
  },
  {
   "cell_type": "code",
   "execution_count": 8,
   "id": "57dc9878-cf96-43b6-9e00-be048f9efb0a",
   "metadata": {},
   "outputs": [],
   "source": [
    "# 마커표시\n",
    "tooltip = 'orver here!!'\n",
    "\n",
    "fmap = folium.Map([lat, lng], zoom_start=17)\n",
    "\n",
    "folium.Marker([lat, lng], popup=tooltip, tooltip=tooltip).add_to(fmap)\n",
    "\n",
    "fmap.save('maps/fmap1b.html')"
   ]
  },
  {
   "cell_type": "code",
   "execution_count": 9,
   "id": "e8fa8d27-718b-421e-8dae-74d5ec04c837",
   "metadata": {},
   "outputs": [],
   "source": [
    "# 마커표시\n",
    "\n",
    "fmap = folium.Map([lat, lng], zoom_start=17)\n",
    "\n",
    "folium.Marker([lat, lng], popup='<b>over here!!</b>', \n",
    "              tooltip=tooltip, icon=folium.Icon(color='red',icon='phone')).add_to(fmap)\n",
    "\n",
    "fmap.save('maps/fmap1c.html')"
   ]
  },
  {
   "cell_type": "markdown",
   "id": "cf13ec8f-5ee0-4cd3-9118-a179a3de0396",
   "metadata": {},
   "source": [
    "## geojson을 이용한 지도 시각화\n",
    " * github.com/southkorea  => southkorea-map => kostat =>   \n",
    "   2018 => json => skorea-provinces-2018-geo.json,   \n",
    "   2013 => json => skorea_provinces_2013_geo_simple.json"
   ]
  },
  {
   "cell_type": "code",
   "execution_count": 10,
   "id": "07ce7b6a-3420-47d3-a88f-0f56d3442eed",
   "metadata": {},
   "outputs": [],
   "source": [
    "import json"
   ]
  },
  {
   "cell_type": "code",
   "execution_count": 12,
   "id": "aea2701a-2f99-4d7c-9e53-7539d30ec86e",
   "metadata": {},
   "outputs": [],
   "source": [
    "with open('data/skorea-provinces-2018-geo.json') as f: kor2018geo = json.load(f)"
   ]
  },
  {
   "cell_type": "code",
   "execution_count": 13,
   "id": "2832c84c-0947-45f6-abdf-380c4bbb1491",
   "metadata": {},
   "outputs": [
    {
     "data": {
      "text/plain": [
       "'서울특별시'"
      ]
     },
     "execution_count": 13,
     "metadata": {},
     "output_type": "execute_result"
    }
   ],
   "source": [
    "kor2018geo['features'][0]['properties']['name']"
   ]
  },
  {
   "cell_type": "code",
   "execution_count": 14,
   "id": "ddab153f-e876-45bd-a03f-7c90b88451d3",
   "metadata": {},
   "outputs": [],
   "source": [
    "fmap = folium.Map([lat, lng], zoom_start=7)\n",
    "\n",
    "folium.GeoJson(kor2018geo).add_to(fmap)\n",
    "\n",
    "fmap.save('maps/fmap2.html')"
   ]
  },
  {
   "cell_type": "markdown",
   "id": "77f314ab-986d-4e85-a428-6df6adb28ab9",
   "metadata": {},
   "source": [
    "## 서울시 경계지역 시각화"
   ]
  },
  {
   "cell_type": "code",
   "execution_count": 16,
   "id": "01fe8d7a-4384-4565-a65f-35362f262446",
   "metadata": {},
   "outputs": [],
   "source": [
    "with open('data/seoul_geo_simple.json') as f: seoul_geo = json.load(f)"
   ]
  },
  {
   "cell_type": "code",
   "execution_count": null,
   "id": "20ff2496-b929-4503-b2af-09082764db35",
   "metadata": {},
   "outputs": [],
   "source": [
    "seoul_geo['features'][0]['properties']['name']\n",
    "\n",
    "\n",
    "fmap = folium.Map([lat, lng], zoom_start=7)\n",
    "\n",
    "folium.GeoJson(kor2018geo).add_to(fmap)\n",
    "\n",
    "fmap.save('maps/fmap2.html')"
   ]
  },
  {
   "cell_type": "code",
   "execution_count": 34,
   "id": "7b39c4ed-eaf6-4863-9d5c-1a98ba4308bb",
   "metadata": {},
   "outputs": [],
   "source": [
    "#seoul_geo"
   ]
  },
  {
   "cell_type": "markdown",
   "id": "0a7b7a91-5f26-4bb4-8e57-2fc0794e002d",
   "metadata": {},
   "source": [
    "## 서울시 구별 인구수 단계구분도 시각화"
   ]
  },
  {
   "cell_type": "code",
   "execution_count": 18,
   "id": "b8e04a77-377e-48de-b3c4-1f60a8577f89",
   "metadata": {},
   "outputs": [],
   "source": [
    "import pandas as pd"
   ]
  },
  {
   "cell_type": "code",
   "execution_count": 23,
   "id": "04f28a9d-b9df-43b3-9eee-8b06a1f58c5e",
   "metadata": {},
   "outputs": [],
   "source": [
    "pop = pd.read_csv('data/seoul_pop_2019.csv', header=None, encoding='euc-kr')"
   ]
  },
  {
   "cell_type": "code",
   "execution_count": 25,
   "id": "70c2197a-bc78-402f-ab4c-04c6125dd6ed",
   "metadata": {},
   "outputs": [
    {
     "data": {
      "text/html": [
       "<div>\n",
       "<style scoped>\n",
       "    .dataframe tbody tr th:only-of-type {\n",
       "        vertical-align: middle;\n",
       "    }\n",
       "\n",
       "    .dataframe tbody tr th {\n",
       "        vertical-align: top;\n",
       "    }\n",
       "\n",
       "    .dataframe thead th {\n",
       "        text-align: right;\n",
       "    }\n",
       "</style>\n",
       "<table border=\"1\" class=\"dataframe\">\n",
       "  <thead>\n",
       "    <tr style=\"text-align: right;\">\n",
       "      <th></th>\n",
       "      <th>gu</th>\n",
       "      <th>pop</th>\n",
       "    </tr>\n",
       "  </thead>\n",
       "  <tbody>\n",
       "    <tr>\n",
       "      <th>0</th>\n",
       "      <td>종로구</td>\n",
       "      <td>152026</td>\n",
       "    </tr>\n",
       "    <tr>\n",
       "      <th>1</th>\n",
       "      <td>중구</td>\n",
       "      <td>126143</td>\n",
       "    </tr>\n",
       "    <tr>\n",
       "      <th>2</th>\n",
       "      <td>용산구</td>\n",
       "      <td>229122</td>\n",
       "    </tr>\n",
       "    <tr>\n",
       "      <th>3</th>\n",
       "      <td>성동구</td>\n",
       "      <td>304936</td>\n",
       "    </tr>\n",
       "    <tr>\n",
       "      <th>4</th>\n",
       "      <td>광진구</td>\n",
       "      <td>353878</td>\n",
       "    </tr>\n",
       "  </tbody>\n",
       "</table>\n",
       "</div>"
      ],
      "text/plain": [
       "    gu     pop\n",
       "0  종로구  152026\n",
       "1   중구  126143\n",
       "2  용산구  229122\n",
       "3  성동구  304936\n",
       "4  광진구  353878"
      ]
     },
     "execution_count": 25,
     "metadata": {},
     "output_type": "execute_result"
    }
   ],
   "source": [
    "pop.columns = ['gu', 'pop']\n",
    "pop['pop'] = pop['pop']\n",
    "pop['pop'] = pop['pop'].str.replace(',','')\n",
    "pop['pop'] = pop['pop'].apply(lambda x: int(x))\n",
    "pop.head()"
   ]
  },
  {
   "cell_type": "code",
   "execution_count": 30,
   "id": "94f5fa2f-3f1d-4c62-9db0-2522dc470acf",
   "metadata": {},
   "outputs": [],
   "source": [
    "fmap = folium.Map([lat, lng], zoom_start=11)\n",
    "\n",
    "folium.Choropleth(geo_data=seoul_geo, data=pop, columns=['gu','pop'],\n",
    "               key_on='feature.properties.name',\n",
    "               fill_color='YlGn', fill_opacity=0.7).add_to(fmap)\n",
    "\n",
    "fmap.save('maps/fmap3.html')"
   ]
  },
  {
   "cell_type": "code",
   "execution_count": null,
   "id": "eefedf91-48ee-43e0-af28-0a8b9d161e8e",
   "metadata": {},
   "outputs": [],
   "source": []
  },
  {
   "cell_type": "markdown",
   "id": "85a35848-3edf-491f-a381-20f06071822e",
   "metadata": {},
   "source": [
    "## 미국 실업율 현황 단계구분도 시각화"
   ]
  },
  {
   "cell_type": "code",
   "execution_count": 41,
   "id": "2d836a0a-73e6-4a4b-9518-e0d47df8783c",
   "metadata": {},
   "outputs": [
    {
     "data": {
      "text/html": [
       "<div>\n",
       "<style scoped>\n",
       "    .dataframe tbody tr th:only-of-type {\n",
       "        vertical-align: middle;\n",
       "    }\n",
       "\n",
       "    .dataframe tbody tr th {\n",
       "        vertical-align: top;\n",
       "    }\n",
       "\n",
       "    .dataframe thead th {\n",
       "        text-align: right;\n",
       "    }\n",
       "</style>\n",
       "<table border=\"1\" class=\"dataframe\">\n",
       "  <thead>\n",
       "    <tr style=\"text-align: right;\">\n",
       "      <th></th>\n",
       "      <th>State</th>\n",
       "      <th>Unemployment</th>\n",
       "    </tr>\n",
       "  </thead>\n",
       "  <tbody>\n",
       "    <tr>\n",
       "      <th>0</th>\n",
       "      <td>AL</td>\n",
       "      <td>7.1</td>\n",
       "    </tr>\n",
       "    <tr>\n",
       "      <th>1</th>\n",
       "      <td>AK</td>\n",
       "      <td>6.8</td>\n",
       "    </tr>\n",
       "    <tr>\n",
       "      <th>2</th>\n",
       "      <td>AZ</td>\n",
       "      <td>8.1</td>\n",
       "    </tr>\n",
       "    <tr>\n",
       "      <th>3</th>\n",
       "      <td>AR</td>\n",
       "      <td>7.2</td>\n",
       "    </tr>\n",
       "    <tr>\n",
       "      <th>4</th>\n",
       "      <td>CA</td>\n",
       "      <td>10.1</td>\n",
       "    </tr>\n",
       "  </tbody>\n",
       "</table>\n",
       "</div>"
      ],
      "text/plain": [
       "  State  Unemployment\n",
       "0    AL           7.1\n",
       "1    AK           6.8\n",
       "2    AZ           8.1\n",
       "3    AR           7.2\n",
       "4    CA          10.1"
      ]
     },
     "execution_count": 42,
     "metadata": {},
     "output_type": "execute_result"
    }
   ],
   "source": [
    "unemp = pd.read_csv('data/us_Unemployment_Oct2012.csv', encoding='euc-kr')\n",
    "unemp.head()"
   ]
  },
  {
   "cell_type": "code",
   "execution_count": 54,
   "id": "ef48b3e2-e6ae-4927-a365-3847a68be46e",
   "metadata": {},
   "outputs": [],
   "source": [
    "with open('data/usa_states_geo_simple.json') as f : us_geo = json.load(f)"
   ]
  },
  {
   "cell_type": "code",
   "execution_count": 55,
   "id": "e80c1819-715e-4f07-9075-9355c028b667",
   "metadata": {},
   "outputs": [],
   "source": [
    "usa = (48, -102)\n",
    "fmap = folium.Map(usa, zoom_start=4)"
   ]
  },
  {
   "cell_type": "code",
   "execution_count": 56,
   "id": "8a26de03-958c-4975-9309-e7c245408d49",
   "metadata": {},
   "outputs": [],
   "source": [
    "folium.Choropleth(geo_data=us_geo, data=unemp, columns=['State','Unemployment'],\n",
    "               key_on='id',\n",
    "               fill_color='BuPu', fill_opacity=0.7).add_to(fmap)\n",
    "\n",
    "fmap.save('maps/fmap4.html')"
   ]
  },
  {
   "cell_type": "code",
   "execution_count": null,
   "id": "c22fa6ab-9d0f-43ed-9645-5ca0891a0880",
   "metadata": {},
   "outputs": [],
   "source": []
  },
  {
   "cell_type": "code",
   "execution_count": null,
   "id": "0d07917a-0335-43f6-a7ad-98a34b8645ce",
   "metadata": {},
   "outputs": [],
   "source": []
  },
  {
   "cell_type": "code",
   "execution_count": null,
   "id": "8f57ef94-251e-42a1-b657-f3289feed995",
   "metadata": {},
   "outputs": [],
   "source": []
  }
 ],
 "metadata": {
  "kernelspec": {
   "display_name": "Python 3 (ipykernel)",
   "language": "python",
   "name": "python3"
  },
  "language_info": {
   "codemirror_mode": {
    "name": "ipython",
    "version": 3
   },
   "file_extension": ".py",
   "mimetype": "text/x-python",
   "name": "python",
   "nbconvert_exporter": "python",
   "pygments_lexer": "ipython3",
   "version": "3.7.10"
  }
 },
 "nbformat": 4,
 "nbformat_minor": 5
}
