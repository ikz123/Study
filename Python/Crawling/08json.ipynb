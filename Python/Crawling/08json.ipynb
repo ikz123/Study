{
 "cells": [
  {
   "cell_type": "markdown",
   "id": "dadfec8b-09e7-47c6-b606-005dec477a1d",
   "metadata": {},
   "source": [
    "# 9 json"
   ]
  },
  {
   "cell_type": "code",
   "execution_count": 1,
   "id": "40b2a19b-2e2c-4bec-9210-08098f9e14ab",
   "metadata": {},
   "outputs": [],
   "source": [
    "# yes24.com에서 베스트셀러 메뉴에서 도서명, 저자, 출판사, 가격을 추출해서 books.json으로 저장"
   ]
  },
  {
   "cell_type": "code",
   "execution_count": 2,
   "id": "64fd6ed3-f6b7-4616-9993-f3f810171972",
   "metadata": {},
   "outputs": [],
   "source": [
    "import json \n",
    "from collections import OrderedDict"
   ]
  },
  {
   "cell_type": "code",
   "execution_count": 3,
   "id": "5a1db37a-679d-418d-b46f-10fb80247ad3",
   "metadata": {},
   "outputs": [],
   "source": [
    "import requests\n",
    "from bs4 import BeautifulSoup"
   ]
  },
  {
   "cell_type": "code",
   "execution_count": 4,
   "id": "97852f26-55dd-4477-9cee-f0a494c99578",
   "metadata": {},
   "outputs": [],
   "source": [
    "url = 'http://www.yes24.com/24/Category/BestSeller'\n",
    "headers = { }"
   ]
  },
  {
   "cell_type": "code",
   "execution_count": 5,
   "id": "0b31d236-1b5c-4a34-a87a-85b1ff7f11e5",
   "metadata": {},
   "outputs": [],
   "source": [
    "res = requests.get(url, headers=headers)\n",
    "html = BeautifulSoup(res.text, 'lxml')"
   ]
  },
  {
   "cell_type": "code",
   "execution_count": 7,
   "id": "deedd76d-af2a-4e10-82c1-3fb80d0646fc",
   "metadata": {},
   "outputs": [
    {
     "data": {
      "text/plain": [
       "'\\r\\n\\t<!DOCTYPE HTML PUBLIC \"-//W3C//DTD HTML 4.01 Transitional//EN\">\\r\\n\\t<html>\\r\\n\\r\\n<head><base href=\"http://www.yes24.com/24/\" />\\r\\n\\t<meta http-equiv=\"X-UA-Compatible\" content=\"IE=Edge\" />\\r\\n\\t<meta http-equiv=\"Content-Type\" content=\"text/html;charset=euc-kr\" />\\r\\n\\t<meta http-equiv=\"Accept-CH\" content=\"dpr,'"
      ]
     },
     "execution_count": 7,
     "metadata": {},
     "output_type": "execute_result"
    }
   ],
   "source": [
    "res.text[:300]"
   ]
  },
  {
   "cell_type": "code",
   "execution_count": null,
   "id": "d0bc6a52-cdd6-40e3-9247-6148a31a2e08",
   "metadata": {},
   "outputs": [],
   "source": [
    "for title in html.select('strong.tit_item a'):\n",
    "    print(title.text)"
   ]
  },
  {
   "cell_type": "code",
   "execution_count": null,
   "id": "ebdc97d6-99b0-4d41-8d19-8ef32b671ec3",
   "metadata": {},
   "outputs": [],
   "source": []
  },
  {
   "cell_type": "code",
   "execution_count": null,
   "id": "a6ea7de8-d9d3-4608-a3bf-0956a44c2213",
   "metadata": {},
   "outputs": [],
   "source": []
  },
  {
   "cell_type": "code",
   "execution_count": null,
   "id": "353677b5-acb3-4c69-8ee5-150b19fb538d",
   "metadata": {},
   "outputs": [],
   "source": []
  },
  {
   "cell_type": "code",
   "execution_count": null,
   "id": "94cfd1cc-00df-45af-ade6-1248b0ac52b6",
   "metadata": {},
   "outputs": [],
   "source": []
  }
 ],
 "metadata": {
  "kernelspec": {
   "display_name": "Python 3 (ipykernel)",
   "language": "python",
   "name": "python3"
  },
  "language_info": {
   "codemirror_mode": {
    "name": "ipython",
    "version": 3
   },
   "file_extension": ".py",
   "mimetype": "text/x-python",
   "name": "python",
   "nbconvert_exporter": "python",
   "pygments_lexer": "ipython3",
   "version": "3.7.10"
  }
 },
 "nbformat": 4,
 "nbformat_minor": 5
}
