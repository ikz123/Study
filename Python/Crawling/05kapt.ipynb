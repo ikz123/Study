{
 "cells": [
  {
   "cell_type": "markdown",
   "id": "b19e065e-04e6-43e0-89b1-91372a4868c6",
   "metadata": {},
   "source": [
    "# 5 kapt"
   ]
  },
  {
   "cell_type": "markdown",
   "id": "35b9c3f4-02d2-4ad3-863f-248423be4e9a",
   "metadata": {},
   "source": [
    "## k-apt.go.kr\n",
    "* 2021-10, 서울특별시 강남구 논현동 소재 모든 아파트 이름, 주소, 주차장 대수 추출하기"
   ]
  },
  {
   "cell_type": "code",
   "execution_count": 1,
   "id": "8922f750-1a5b-4b85-b375-10226120c704",
   "metadata": {},
   "outputs": [],
   "source": [
    "import time\n",
    "from selenium import webdriver\n",
    "from bs4 import BeautifulSoup\n",
    "from selenium.webdriver.chrome.options import Options\n",
    "from selenium.webdriver.common.by import By"
   ]
  },
  {
   "cell_type": "code",
   "execution_count": 2,
   "id": "1b63f438-c955-4a28-8d10-cd8b32c2a6ab",
   "metadata": {},
   "outputs": [],
   "source": [
    "# 홈페이지 메인이 아닌 '단지검색' 메뉴에서 바로 실행함\n",
    "url = 'http://www.k-apt.go.kr/kaptinfo/openkaptinfo.do'"
   ]
  },
  {
   "cell_type": "code",
   "execution_count": 3,
   "id": "a416b164-6102-4153-9fc4-b507157e3d0a",
   "metadata": {},
   "outputs": [],
   "source": [
    "# headless를 위한 설정\n",
    "options = Options()\n",
    "options.add_argument('--headless')"
   ]
  },
  {
   "cell_type": "code",
   "execution_count": 4,
   "id": "edb652ac-b8cb-4146-935e-2f15e9c778b7",
   "metadata": {},
   "outputs": [
    {
     "name": "stderr",
     "output_type": "stream",
     "text": [
      "/opy/miniconda3/lib/python3.7/site-packages/ipykernel_launcher.py:4: DeprecationWarning: executable_path has been deprecated, please pass in a Service object\n",
      "  after removing the cwd from sys.path.\n"
     ]
    }
   ],
   "source": [
    "# webdriver 실행\n",
    "path = '/home/hadoop/chromedriver'\n",
    "#chrome = webdriver.Chrome(executable_path=path)\n",
    "chrome = webdriver.Chrome(executable_path=path, options=options)"
   ]
  },
  {
   "cell_type": "code",
   "execution_count": 5,
   "id": "a5024216-319a-46e4-b5ab-106070a40d18",
   "metadata": {},
   "outputs": [],
   "source": [
    "# 소스 읽어오기\n",
    "chrome.get(url)\n",
    "chrome.implicitly_wait(2)\n",
    "time.sleep(2)   # 작업을 의도적으로 지연 (2초동안)"
   ]
  },
  {
   "cell_type": "code",
   "execution_count": 6,
   "id": "4cb6d9e8-f5b2-4c76-ba08-33f2fa3b89d7",
   "metadata": {},
   "outputs": [],
   "source": [
    "# 검색할 단지정보 선택 - 2021-10, 서울특별시, 강남구, 논현동\n",
    "year = '2021'\n",
    "month = '10'\n",
    "sido = '서울특별시'\n",
    "gugun = '강남구'\n",
    "dong = '논현동'"
   ]
  },
  {
   "cell_type": "code",
   "execution_count": 7,
   "id": "bdadca07-8599-4b76-ac43-bb84d3740bff",
   "metadata": {},
   "outputs": [],
   "source": [
    "# 검색정보 - 2021\n",
    "chrome.find_element(By.XPATH, f'//*[@title=\"년도 선택\"]/option[text()=\"{year}\"]').click()\n",
    "time.sleep(1)\n",
    "\n",
    "# 10\n",
    "chrome.find_element(By.XPATH, f'//*[@title=\"월 선택\"]/option[text()=\"{month}\"]').click()\n",
    "time.sleep(1)\n",
    "\n",
    "# 서울특별시\n",
    "chrome.find_element(By.XPATH, f'//*[@title=\"광역시도 선택\"]/option[text()=\"{sido}\"]').click()\n",
    "time.sleep(1)\n",
    "\n",
    "# 구로구\n",
    "chrome.find_element(By.XPATH, f'//*[@title=\"시군구 선택\"]/option[text()=\"{gugun}\"]').click()\n",
    "time.sleep(1)\n",
    "\n",
    "# 구로동\n",
    "chrome.find_element(By.XPATH, f'//*[@title=\"읍면동 선택\"]/option[text()=\"{dong}\"]').click()\n",
    "time.sleep(1)"
   ]
  },
  {
   "cell_type": "markdown",
   "id": "655dc24e-769f-415e-8804-d3f069ab0bef",
   "metadata": {},
   "source": [
    "* 참고\n",
    "* news.jtbc.joins.com"
   ]
  },
  {
   "cell_type": "code",
   "execution_count": 13,
   "id": "ab9cb40a-57be-4c07-9f3f-a1bf59dcf659",
   "metadata": {},
   "outputs": [
    {
     "name": "stdout",
     "output_type": "stream",
     "text": [
      "8\n"
     ]
    }
   ],
   "source": [
    "# 동내 모든 아파트에 대한 법정동 주소 출력하기\n",
    "\n",
    "# 동내 모든 아파트 수 출력\n",
    "cnt = chrome.find_element(By.CSS_SELECTOR, \n",
    "                          'table[id=\"aptInfoList\"] tr:last-child').get_attribute('id')\n",
    "print(cnt)"
   ]
  },
  {
   "cell_type": "code",
   "execution_count": 17,
   "id": "987b7d02-50b9-485e-b9ae-cacfca5ecd60",
   "metadata": {},
   "outputs": [
    {
     "name": "stdout",
     "output_type": "stream",
     "text": [
      "논현 기린힐스\n"
     ]
    }
   ],
   "source": [
    "# 아파트 명칭 출력\n",
    "apt1 = chrome.find_element(By.XPATH, '//tr[@id=\"1\"]/td[2]').text\n",
    "print(apt1)"
   ]
  },
  {
   "cell_type": "code",
   "execution_count": 24,
   "id": "b948f6d5-61bf-45f4-9c3f-3a9a32d36aef",
   "metadata": {},
   "outputs": [
    {
     "name": "stdout",
     "output_type": "stream",
     "text": [
      "논현 기린힐스\n",
      "논현동부센트레빌\n",
      "논현동현\n",
      "논현신동아\n",
      "동양파라곤\n",
      "동화히스토리\n",
      "마일스디오빌\n",
      "아크로힐스논현\n"
     ]
    }
   ],
   "source": [
    "# 아파트 명칭 출력2\n",
    "for i in range(1, int(cnt)+1):\n",
    "    apt = chrome.find_element(By.XPATH, f'//tr[@id=\"{i}\"]/td[2]').text\n",
    "    print(apt)"
   ]
  },
  {
   "cell_type": "code",
   "execution_count": 25,
   "id": "d151657f-0690-4dda-b68c-0c44336f5f36",
   "metadata": {},
   "outputs": [
    {
     "name": "stdout",
     "output_type": "stream",
     "text": [
      "논현 기린힐스(A10024501) 서울특별시 강남구 논현로 661\n",
      "지상: 0 / 지하: 176(총:176대)\n",
      "논현동부센트레빌(A13583301) 서울특별시 강남구 언주로116길 6\n",
      "지상: 13 / 지하: 226(총:239대)\n",
      "논현동현(A13582002) 서울특별시 강남구 언주로146길 18\n",
      "지상: 580 / 지하: 0(총:580대)\n",
      "논현신동아(A13501004) 서울특별시 강남구 강남대로146길 28\n",
      "지상: 226 / 지하: 458(총:684대)\n",
      "동양파라곤(A13501001) 서울특별시 강남구 언주로130길 30\n",
      "지상: 0 / 지하: 572(총:572대)\n",
      "동화히스토리(A13572601) 서울특별시 강남구 학동로4길 15\n",
      "지상: 0 / 지하: 189(총:189대)\n",
      "마일스디오빌(A13501002) 서울특별시 강남구 학동로 165\n",
      "지상: 16 / 지하: 184(총:200대)\n",
      "아크로힐스논현(A13501006) 서울특별시 강남구 언주로 604\n",
      "지상: 0 / 지하: 645(총:645대)\n"
     ]
    }
   ],
   "source": [
    "# 자동으로 아파트 명칭/주소/주차대수 출력\n",
    "for i in range(1, int(cnt)+1):\n",
    "    # 아파트 명칭을 클릭해서 기본정보로 이동\n",
    "    chrome.find_element(By.XPATH, f'//tr[@id=\"{i}\"]').click()\n",
    "    time.sleep(1)\n",
    "    \n",
    "    # 종합정보에서 기본정보로 이동\n",
    "    chrome.find_element(By.XPATH, '//img[@alt=\"기본정보\"]').click()\n",
    "    time.sleep(1)\n",
    "    \n",
    "    # 아파트 명칭/주소 출력\n",
    "    aptname = chrome.find_element(By.XPATH, '//td[@id=\"kapt_name\"]').text\n",
    "    aptddr = chrome.find_element(By.XPATH, '//td[@id=\"road_name\"]').text\n",
    "    print(aptname, aptddr)\n",
    "    time.sleep(1)\n",
    "    \n",
    "    # 기본정보에서 관리시설정보로 이동\n",
    "    chrome.find_element(By.XPATH, '//img[@alt=\"관리시설정보\"]').click()\n",
    "    time.sleep(1)\n",
    "    \n",
    "    # 주차정보 출력\n",
    "    park = chrome.find_element(By.XPATH, '//td[@id=\"parking_cnt\"]').text\n",
    "    print(park)\n",
    "    time.sleep(1)\n",
    "    \n",
    "    # 단지검색 메뉴 클릭\n",
    "    chrome.find_element(By.XPATH, '//img[@alt=\"단지검색\"]').click()\n",
    "    time.sleep(1)"
   ]
  },
  {
   "cell_type": "code",
   "execution_count": 26,
   "id": "17d3a36d-8b38-481a-9eef-5032e2dcd3c4",
   "metadata": {},
   "outputs": [],
   "source": [
    "# 작업 종료\n",
    "chrome.close()"
   ]
  },
  {
   "cell_type": "code",
   "execution_count": null,
   "id": "52ee59c2-c282-4832-b9fd-c1a6f64a1718",
   "metadata": {},
   "outputs": [],
   "source": []
  },
  {
   "cell_type": "code",
   "execution_count": null,
   "id": "aa6d56df-83da-4368-9773-9f89e07bd6bf",
   "metadata": {},
   "outputs": [],
   "source": []
  },
  {
   "cell_type": "code",
   "execution_count": null,
   "id": "18b95628-8726-4cb2-a4d4-9c2029cbb947",
   "metadata": {},
   "outputs": [],
   "source": []
  },
  {
   "cell_type": "code",
   "execution_count": null,
   "id": "097e5e63-8c64-4c03-9d3e-7229dfc2baec",
   "metadata": {},
   "outputs": [],
   "source": []
  },
  {
   "cell_type": "code",
   "execution_count": null,
   "id": "f5da7e45-6ca3-44d3-9d32-ebcb581ef5dd",
   "metadata": {},
   "outputs": [],
   "source": []
  },
  {
   "cell_type": "code",
   "execution_count": null,
   "id": "efadcedb-db92-4634-b6c9-3893d13b16ef",
   "metadata": {},
   "outputs": [],
   "source": []
  }
 ],
 "metadata": {
  "kernelspec": {
   "display_name": "Python 3 (ipykernel)",
   "language": "python",
   "name": "python3"
  },
  "language_info": {
   "codemirror_mode": {
    "name": "ipython",
    "version": 3
   },
   "file_extension": ".py",
   "mimetype": "text/x-python",
   "name": "python",
   "nbconvert_exporter": "python",
   "pygments_lexer": "ipython3",
   "version": "3.7.10"
  }
 },
 "nbformat": 4,
 "nbformat_minor": 5
}
