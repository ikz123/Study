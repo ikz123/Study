{
 "cells": [
  {
   "cell_type": "markdown",
   "id": "e74e43b2-3d6b-45be-a02e-9acac7250ee4",
   "metadata": {},
   "source": [
    "# 4 kapt\n",
    "* 2021-10, 서울특별시, 구로구, 구로동, LG신도림자이 아파트의 주차대수 알아보기"
   ]
  },
  {
   "cell_type": "code",
   "execution_count": 5,
   "id": "d9b3aad3-a78d-4945-8007-09811a78b794",
   "metadata": {},
   "outputs": [],
   "source": [
    "import time\n",
    "from selenium import webdriver\n",
    "from bs4 import BeautifulSoup\n",
    "from selenium.webdriver.chrome.options import Options\n",
    "from selenium.webdriver.common.by import By"
   ]
  },
  {
   "cell_type": "code",
   "execution_count": 6,
   "id": "d91a2ad9-9b10-42e1-b785-f95f711c8b26",
   "metadata": {},
   "outputs": [],
   "source": [
    "url = 'https://k-apt.go.kr'"
   ]
  },
  {
   "cell_type": "code",
   "execution_count": 7,
   "id": "aafa39d8-e670-42d5-a40b-4d6093ba4ca2",
   "metadata": {},
   "outputs": [],
   "source": [
    "# headless를 위한 설정\n",
    "options = Options()\n",
    "options.add_argument('--headless')"
   ]
  },
  {
   "cell_type": "code",
   "execution_count": 8,
   "id": "205770d4-e630-4fbd-a43e-9358c21b25f7",
   "metadata": {},
   "outputs": [
    {
     "name": "stderr",
     "output_type": "stream",
     "text": [
      "/opt/miniconda3/lib/python3.7/site-packages/ipykernel_launcher.py:4: DeprecationWarning: executable_path has been deprecated, please pass in a Service object\n",
      "  after removing the cwd from sys.path.\n"
     ]
    }
   ],
   "source": [
    "# webdriver 실행\n",
    "path = '/home/hadoop/chromedriver'\n",
    "#chrome = webdriver.Chrome(executable_path=path)\n",
    "chrome = webdriver.Chrome(executable_path=path, options=options)"
   ]
  },
  {
   "cell_type": "code",
   "execution_count": 9,
   "id": "2f87decb-c6a7-4f33-8044-0e681f2f97fb",
   "metadata": {},
   "outputs": [],
   "source": [
    "# 소스 읽어오기\n",
    "chrome.get(url)"
   ]
  },
  {
   "cell_type": "code",
   "execution_count": 10,
   "id": "64cb785f-dd92-44ff-9560-e4c091c4c4a2",
   "metadata": {},
   "outputs": [],
   "source": [
    "# 소스가 다 로딩될 때까지 2초정도 대기\n",
    "chrome.implicitly_wait(2)\n",
    "time.sleep(2)   # 작업을 의도적으로 지연 (2초동안)"
   ]
  },
  {
   "cell_type": "code",
   "execution_count": 11,
   "id": "33d6d550-2448-4c4a-a9d2-a27c9b81f07f",
   "metadata": {},
   "outputs": [],
   "source": [
    "# 팝업창 닫기 #1 - css 선택자\n",
    "# find_element_by_css_selector(대상).click()\n",
    "#chrome.find_element_by_css_selector('#popup_20210518 div.layerPopupTitle div a').click()\n",
    "#time.sleep(1)\n",
    "\n",
    "#chrome.find_element_by_css_selector('#popup_20200720_02 div.layerPopupTitle div a').click()\n",
    "#time.sleep(1)"
   ]
  },
  {
   "cell_type": "code",
   "execution_count": 12,
   "id": "0d86ebaf-8b0b-427b-a99b-1a2c25f70e90",
   "metadata": {},
   "outputs": [],
   "source": [
    "# 팝업창 닫기 #2 - 자바스크립트 함수 호출\n",
    "# execute_script(함수명)\n",
    "#chrome.execute_script('closeLyserPopup(\"popup_20200720_02\")')\n",
    "#time.sleep(1)\n",
    "\n",
    "#chrome.execute_script('closeLyserPopup(\"popup_20210518\")')\n",
    "#time.sleep(1)"
   ]
  },
  {
   "cell_type": "code",
   "execution_count": 13,
   "id": "3e2b41ab-8a6a-4ce5-b5ad-914af6637273",
   "metadata": {},
   "outputs": [
    {
     "name": "stderr",
     "output_type": "stream",
     "text": [
      "/opt/miniconda3/lib/python3.7/site-packages/ipykernel_launcher.py:2: DeprecationWarning: find_elements_by_* commands are deprecated. Please use find_elements() instead\n",
      "  \n"
     ]
    }
   ],
   "source": [
    "# 팝업창 닫기 #2b - 자동으로 자바스크립트 함수 호출\n",
    "pops = chrome.find_elements_by_css_selector('div.layerPopup')\n",
    "for pop in pops:\n",
    "    id = pop.get_attribute('id')   # 지정한 요소의 id값을 알아냄\n",
    "    js = f'closeLyserPopup(\"{id}\")'\n",
    "    chrome.execute_script(js)\n",
    "    time.sleep(1)"
   ]
  },
  {
   "cell_type": "code",
   "execution_count": 14,
   "id": "064de0d0-1ff3-43b0-99ec-64b971235b0a",
   "metadata": {},
   "outputs": [],
   "source": [
    "# '단지정보' 클릭\n",
    "chrome.find_element(By.CSS_SELECTOR, '#lnbMenu > li:nth-child(2) > a').click()\n",
    "time.sleep(1)"
   ]
  },
  {
   "cell_type": "code",
   "execution_count": 11,
   "id": "252e1cd2-b882-4b8a-a39d-7948af6d5a10",
   "metadata": {},
   "outputs": [],
   "source": [
    "# 참고\n",
    "# selector copy : group_date > select.combo_YYYY > option:nth-child(11)\n",
    "# XPath copy : //*[@id=\"group_date\"]/select[1]/option[11]"
   ]
  },
  {
   "cell_type": "code",
   "execution_count": 15,
   "id": "898e540f-d8fd-4b94-a91f-db1c6f24a131",
   "metadata": {},
   "outputs": [],
   "source": [
    "# 검색할 단지정보 선택 - 2021-10, 서울특별시, 구로구, 구로동, LG신도림자이\n",
    "# 2021\n",
    "chrome.find_element(By.XPATH, '//*[@title=\"년도 선택\"]/option[text()=\"2021\"]').click()\n",
    "time.sleep(1)\n",
    "\n",
    "# 10\n",
    "chrome.find_element(By.XPATH, '//*[@title=\"월 선택\"]/option[text()=\"10\"]').click()\n",
    "time.sleep(1)\n",
    "\n",
    "# 서울특별시\n",
    "chrome.find_element(By.XPATH, '//*[@title=\"광역시도 선택\"]/option[text()=\"서울특별시\"]').click()\n",
    "time.sleep(1)\n",
    "\n",
    "# 구로구\n",
    "chrome.find_element(By.XPATH, '//*[@title=\"시군구 선택\"]/option[text()=\"구로구\"]').click()\n",
    "time.sleep(1)\n",
    "\n",
    "# 구로동\n",
    "chrome.find_element(By.XPATH, '//*[@title=\"읍면동 선택\"]/option[text()=\"구로동\"]').click()\n",
    "time.sleep(1)\n",
    "\n",
    "# LG신도림자이\n",
    "chrome.find_element(By.XPATH, '//*[@title=\"LG신도림자이\"]').click()\n",
    "time.sleep(1)"
   ]
  },
  {
   "cell_type": "code",
   "execution_count": 16,
   "id": "0f351cf2-2e7c-40d6-ac16-0fc7b8591073",
   "metadata": {},
   "outputs": [],
   "source": [
    "# 관리시설정보 클릭\n",
    "chrome.find_element(By.XPATH, '//*[@alt=\"관리시설정보\"]').click()\n",
    "time.sleep(1)"
   ]
  },
  {
   "cell_type": "code",
   "execution_count": 17,
   "id": "ac5debfd-3f48-4667-a5cd-da4a7b11d0f6",
   "metadata": {},
   "outputs": [
    {
     "name": "stdout",
     "output_type": "stream",
     "text": [
      "지상: 42 / 지하: 300(총:342대)\n"
     ]
    }
   ],
   "source": [
    "# 단지 상세정보에서 '주차대수' 추출\n",
    "park = chrome.find_element(By.XPATH, '//*[@id=\"parking_cnt\"]').text\n",
    "print(park)"
   ]
  },
  {
   "cell_type": "code",
   "execution_count": 18,
   "id": "f6183479-8cdf-4aed-b688-6bc3bb341811",
   "metadata": {},
   "outputs": [],
   "source": [
    "# chrome 닫기\n",
    "time.sleep(1)\n",
    "chrome.close()"
   ]
  },
  {
   "cell_type": "code",
   "execution_count": null,
   "id": "cbbaf963-d8cb-4ac4-8436-6532fe6e700c",
   "metadata": {},
   "outputs": [],
   "source": []
  }
 ],
 "metadata": {
  "kernelspec": {
   "display_name": "Python 3 (ipykernel)",
   "language": "python",
   "name": "python3"
  },
  "language_info": {
   "codemirror_mode": {
    "name": "ipython",
    "version": 3
   },
   "file_extension": ".py",
   "mimetype": "text/x-python",
   "name": "python",
   "nbconvert_exporter": "python",
   "pygments_lexer": "ipython3",
   "version": "3.7.10"
  }
 },
 "nbformat": 4,
 "nbformat_minor": 5
}
