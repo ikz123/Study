{
 "cells": [
  {
   "cell_type": "markdown",
   "id": "5c470410-f7f8-43ef-9924-64de27670bff",
   "metadata": {},
   "source": [
    "### 공동주택관리 정보시스템\n",
    "* 2018.08, 서울 강남구, 삼성동 소재 모든 아파트,\n",
    "  아파트 명칭, 법정동 주소,\n",
    "  아파트 주차대수 ( 지상, 지하 )등을 추출\n",
    "* 단, 실제 URL에 질의문자열을 포함시켜 정보 추출"
   ]
  },
  {
   "cell_type": "markdown",
   "id": "9efc3cc0-9c63-4bba-8c80-4bf441b5ff85",
   "metadata": {},
   "source": [
    "### K-atp.go.kr URL 분석\n",
    "1. http://www.k-apt.go.kr/kaptinfo/openkaptinfo.do\n",
    "    + 요청정보가 없음\n",
    "2. getBjList.do : 요청 폼 데이터 포함 ( 지역 )\n",
    "    + ajax로 작동, 시도선택 -> 시군구 출력 -> 읍면동 출력\n",
    "    + ?bjd_gbn=SIDO ( 광역시도 출력 )\n",
    "    + ?bjd_gbn=SGG&bjd_code=11 ( 서울특별시 선택시, 시군구 출력 )\n",
    "    + ?bjd_gbn=EMD&bjd_code=11680 ( 서울특별시 강남구 선택시 읍면동 출력 )\n",
    "    + 읍면동 선택시 bjd_code와 search_date 변수를 생성한후 getKaptList.do를 호출\n",
    "3. getKaptList.do : 요청 폼 데이터 포함 ( 지역내 모든 아파트 )\n",
    "    + ?bjd_code=11680105&search_date=201807\n",
    "4. getKaptSetday.do : 요청 폼 데이터 포함 ( 아파트 상세정보 )\n",
    "    + ?kapt_code=A10026350"
   ]
  },
  {
   "cell_type": "code",
   "execution_count": 59,
   "id": "243fb055-707d-4492-aae2-30c2242230e1",
   "metadata": {},
   "outputs": [],
   "source": [
    "from selenium import webdriver\n",
    "from selenium.webdriver.chrome.options import Options\n",
    "from selenium.webdriver.support.select import Select\n",
    "from selenium.webdriver.common.by import By"
   ]
  },
  {
   "cell_type": "code",
   "execution_count": 60,
   "id": "27403bcc-373a-4a4a-b23d-52ea06f0ea81",
   "metadata": {},
   "outputs": [],
   "source": [
    "import sys\n",
    "import time"
   ]
  },
  {
   "cell_type": "code",
   "execution_count": 61,
   "id": "bbd9f3e1-5b8a-4842-b34a-0e797cbc18f3",
   "metadata": {},
   "outputs": [],
   "source": [
    "# 단지검색 키워드\n",
    "year = '2018'\n",
    "month = '08'\n",
    "sido = '서울특별시'\n",
    "gugn = '강남구'\n",
    "dong = '삼성동'"
   ]
  },
  {
   "cell_type": "code",
   "execution_count": 62,
   "id": "af3af05d-c685-4dac-b477-9286ed88df2f",
   "metadata": {},
   "outputs": [],
   "source": [
    "base = 'http://www.k-apt.go.kr/'\n",
    "url1 = base + 'kaptinfo/openkaptinfo.do'\n",
    "url2 = base + 'cmmn/bjd/getBidList.do'\n",
    "url3 = base + 'kaptinfo/getKaptList.do'\n",
    "url4 = base + 'kaptinfo/getKaptSetday.do'\n",
    "path = '/home/hadoop/chromedriver'"
   ]
  },
  {
   "cell_type": "code",
   "execution_count": 63,
   "id": "ecf0ac73-6012-4ff2-90cf-c2fff7dc16f7",
   "metadata": {},
   "outputs": [
    {
     "name": "stderr",
     "output_type": "stream",
     "text": [
      "/opt/miniconda3/lib/python3.7/site-packages/ipykernel_launcher.py:4: DeprecationWarning: executable_path has been deprecated, please pass in a Service object\n",
      "  after removing the cwd from sys.path.\n"
     ]
    }
   ],
   "source": [
    "# 셀레니엄 실행\n",
    "opts = Options()\n",
    "opts.add_argument('--headless')\n",
    "chrome = webdriver.Chrome(executable_path=path, options=opts)\n",
    "chrome.get(url1)\n",
    "chrome.implicitly_wait(2)"
   ]
  },
  {
   "cell_type": "code",
   "execution_count": 64,
   "id": "1afc74c7-fc28-4dd6-82d1-b69805051f45",
   "metadata": {},
   "outputs": [],
   "source": [
    "yy = Select(chrome.find_element(By.CLASS_NAME, 'combo_YYYY'))\n",
    "yy.select_by_visible_text(year)\n",
    "time.sleep(1)"
   ]
  },
  {
   "cell_type": "code",
   "execution_count": 65,
   "id": "1ee960aa-8136-47af-a91a-9ce2cd6e5ce1",
   "metadata": {},
   "outputs": [],
   "source": [
    "mm = Select(chrome.find_element(By.CLASS_NAME, 'combo_MM'))\n",
    "mm.select_by_visible_text(month)\n",
    "time.sleep(1)"
   ]
  },
  {
   "cell_type": "code",
   "execution_count": 66,
   "id": "aa9e40bc-b419-4658-9f9a-020d0713deee",
   "metadata": {},
   "outputs": [],
   "source": [
    "sd = Select(chrome.find_element(By.CLASS_NAME, 'combo_SIDO'))\n",
    "sd.select_by_visible_text(sido)\n",
    "time.sleep(1)"
   ]
  },
  {
   "cell_type": "code",
   "execution_count": 67,
   "id": "7389354f-4f39-4bec-8b5b-ab4b6d2a636a",
   "metadata": {},
   "outputs": [],
   "source": [
    "gg = Select(chrome.find_element(By.CLASS_NAME, 'combo_SGG'))\n",
    "gg.select_by_visible_text(gugn)\n",
    "time.sleep(1)"
   ]
  },
  {
   "cell_type": "code",
   "execution_count": 68,
   "id": "974df2af-1729-4346-b8dd-3fa9e76c4fe8",
   "metadata": {},
   "outputs": [],
   "source": [
    "dg = Select(chrome.find_element(By.CLASS_NAME, 'combo_EMD'))\n",
    "dg.select_by_visible_text(dong)\n",
    "time.sleep(1)"
   ]
  },
  {
   "cell_type": "code",
   "execution_count": 69,
   "id": "6cff2989-7e7b-47f2-a8d6-ba543c566ed9",
   "metadata": {},
   "outputs": [
    {
     "name": "stdout",
     "output_type": "stream",
     "text": [
      "11680105\n"
     ]
    }
   ],
   "source": [
    "# 선택한 시구동에 대한 전체코드값 txt_bjdcode 출력\n",
    "# 단, 이 코드값은 숨겨져 있기 때문에 요소값을 출력할 수 없음\n",
    "# 따라서, 자바스크립트로 display:none을 display:block으로 바꿔야 함 \n",
    "bjd = chrome.find_element(By.CLASS_NAME, 'txt_bjdCode')\n",
    "chrome.execute_script('arguments[0].style.display=\"block\"', bjd)\n",
    "print(bjd.text)"
   ]
  },
  {
   "cell_type": "code",
   "execution_count": 70,
   "id": "554f95f5-f5c8-4671-a975-5fb9a6654c48",
   "metadata": {},
   "outputs": [
    {
     "name": "stdout",
     "output_type": "stream",
     "text": [
      "A10026350\n"
     ]
    }
   ],
   "source": [
    "# 선택한 시구동에 존재하는 모든 아파트중 \n",
    "# ' 삼성동센트럴아이파크' 의 코드값 KAPT_CODE 출력\n",
    "# 단, 이 코드값은 숨겨져 있기 때문에 요소값을 출력할 수 없음\n",
    "td1 = chrome.find_element(By.XPATH,'//tr[@id=\"1\"]//td[1]')\n",
    "chrome.execute_script('arguments[0].style.display=\"block\"', td1)\n",
    "print(td1.text)"
   ]
  },
  {
   "cell_type": "code",
   "execution_count": 71,
   "id": "f23a266e-1bfd-4d74-83af-5a360f692d36",
   "metadata": {},
   "outputs": [
    {
     "name": "stdout",
     "output_type": "stream",
     "text": [
      "A10026350\n",
      "A13550701\n",
      "A13570501\n",
      "A13509005\n",
      "A13509007\n",
      "A13509010\n",
      "A13509006\n",
      "A13509101\n",
      "A13509003\n",
      "A13509004\n",
      "A13509001\n",
      "A13586602\n",
      "A13509012\n",
      "A13587603\n",
      "A13509009\n"
     ]
    }
   ],
   "source": [
    "# 선택한 시구동에 존재하는 모든 아파트중 코드값 KAPT_CODE 출력\n",
    "cnt = chrome.find_element(By.CSS_SELECTOR, \n",
    "                          'table[id=\"aptInfoList\"] tr:last-child').get_attribute('id')\n",
    "cnt = int(cnt)\n",
    "for i in range(1, cnt+1):\n",
    "    code = chrome.find_element(By.XPATH, f'//tr[@id=\"{i}\"]/td[1]')\n",
    "    chrome.execute_script('arguments[0].style.display=\"block\"', code)\n",
    "    print(code.text)\n",
    "    time.sleep(1)"
   ]
  },
  {
   "cell_type": "code",
   "execution_count": 72,
   "id": "91c91a19-3fe9-4cc8-ac91-e2895fa544be",
   "metadata": {},
   "outputs": [
    {
     "data": {
      "text/plain": [
       "'<html><head></head><body>{\"kaptSetDayList\":[{\"ktown_ho_name\":\"101\",\"ktown_dong_name\":\"301\",\"ktown_apt_name\":\"??????????\",\"file_yn\":\"Y\",\"setday\":\"2018-11-13\",\"file_name\":\"301-101.pdf\",\"seq\":9601195},{\"ktown_ho_name\":\"103\",\"ktown_dong_name\":\"301\",\"ktown_apt_name\":\"??????????\",\"file_yn\":\"Y\",\"setday\":\"2018-04-09\",\"file_name\":\"301-103.pdf\",\"seq\":9601196},{\"ktown_ho_name\":\"104\",\"ktown_dong_name\":\"301\",\"ktown_apt_name\":\"??????????\",\"file_yn\":\"Y\",\"setday\":\"2018-05-10\",\"file_name\":\"301-104.pdf\",\"seq\":960'"
      ]
     },
     "execution_count": 72,
     "metadata": {},
     "output_type": "execute_result"
    }
   ],
   "source": [
    "# ' 삼성동센트럴아이파크 ' 의 주차장 정보 출력\n",
    "kapt_code = td1.text\n",
    "url4 = url4 + '?kapt_code=' + kapt_code\n",
    "\n",
    "chrome.get(url4)\n",
    "chrome.page_source[:500]"
   ]
  },
  {
   "cell_type": "code",
   "execution_count": 81,
   "id": "7a870e9b-c22a-4801-b337-576b92781efc",
   "metadata": {
    "jupyter": {
     "source_hidden": true
    },
    "tags": []
   },
   "outputs": [
    {
     "name": "stdout",
     "output_type": "stream",
     "text": [
      "0\n",
      "743\n"
     ]
    }
   ],
   "source": [
    "# selenium 으로 불러온 소스를 json형식으로 다시 읽어옴\n",
    "import json\n",
    "from bs4 import BeautifulSoup\n",
    "html = BeautifulSoup(chrome.page_source)\n",
    "apt = json.loads(html.find('body').text)\n",
    "\n",
    "print(apt.get(\"kaptInfo\").get(\"KAPTD_PCNT\"))\n",
    "print(apt.get(\"kaptInfo\").get(\"KAPTD_PCNTU\"))"
   ]
  },
  {
   "cell_type": "code",
   "execution_count": null,
   "id": "7c728187-5439-4bb3-bced-b4a95caffb7a",
   "metadata": {},
   "outputs": [],
   "source": []
  }
 ],
 "metadata": {
  "kernelspec": {
   "display_name": "Python 3 (ipykernel)",
   "language": "python",
   "name": "python3"
  },
  "language_info": {
   "codemirror_mode": {
    "name": "ipython",
    "version": 3
   },
   "file_extension": ".py",
   "mimetype": "text/x-python",
   "name": "python",
   "nbconvert_exporter": "python",
   "pygments_lexer": "ipython3",
   "version": "3.7.10"
  }
 },
 "nbformat": 4,
 "nbformat_minor": 5
}
